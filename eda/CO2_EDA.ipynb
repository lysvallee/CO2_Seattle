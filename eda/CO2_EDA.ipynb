{
  "nbformat": 4,
  "nbformat_minor": 0,
  "metadata": {
    "colab": {
      "provenance": [],
      "gpuType": "T4",
      "toc_visible": true
    },
    "kernelspec": {
      "name": "python3",
      "display_name": "Python 3"
    },
    "language_info": {
      "name": "python"
    }
  },
  "cells": [
    {
      "cell_type": "markdown",
      "source": [
        "#1.Installation de Pandas Profiling"
      ],
      "metadata": {
        "id": "aq4lbkvgCTah"
      }
    },
    {
      "cell_type": "code",
      "source": [
        "import sys\n",
        "!{sys.executable} -m pip install -U ydata-profiling[notebook]\n",
        "!jupyter nbextension enable --py widgetsnbextension"
      ],
      "metadata": {
        "colab": {
          "base_uri": "https://localhost:8080/"
        },
        "id": "JUvXCLxMEBNm",
        "outputId": "d397d1c6-96bc-450d-df60-312e7f530ee9"
      },
      "execution_count": 1,
      "outputs": [
        {
          "output_type": "stream",
          "name": "stdout",
          "text": [
            "Collecting ydata-profiling[notebook]\n",
            "  Downloading ydata_profiling-4.5.1-py2.py3-none-any.whl (357 kB)\n",
            "\u001b[?25l     \u001b[90m━━━━━━━━━━━━━━━━━━━━━━━━━━━━━━━━━━━━━━━━\u001b[0m \u001b[32m0.0/357.3 kB\u001b[0m \u001b[31m?\u001b[0m eta \u001b[36m-:--:--\u001b[0m\r\u001b[2K     \u001b[91m━━━━━━━━━━\u001b[0m\u001b[90m╺\u001b[0m\u001b[90m━━━━━━━━━━━━━━━━━━━━━━━━━━━━━\u001b[0m \u001b[32m92.2/357.3 kB\u001b[0m \u001b[31m2.5 MB/s\u001b[0m eta \u001b[36m0:00:01\u001b[0m\r\u001b[2K     \u001b[91m━━━━━━━━━━━━━━━━━━━━━━━━━━━━━━━━━━━━━━\u001b[0m\u001b[90m╺\u001b[0m \u001b[32m348.2/357.3 kB\u001b[0m \u001b[31m5.3 MB/s\u001b[0m eta \u001b[36m0:00:01\u001b[0m\r\u001b[2K     \u001b[90m━━━━━━━━━━━━━━━━━━━━━━━━━━━━━━━━━━━━━━━\u001b[0m \u001b[32m357.3/357.3 kB\u001b[0m \u001b[31m4.7 MB/s\u001b[0m eta \u001b[36m0:00:00\u001b[0m\n",
            "\u001b[?25hRequirement already satisfied: scipy<1.12,>=1.4.1 in /usr/local/lib/python3.10/dist-packages (from ydata-profiling[notebook]) (1.10.1)\n",
            "Requirement already satisfied: pandas!=1.4.0,<2.1,>1.1 in /usr/local/lib/python3.10/dist-packages (from ydata-profiling[notebook]) (1.5.3)\n",
            "Requirement already satisfied: matplotlib<4,>=3.2 in /usr/local/lib/python3.10/dist-packages (from ydata-profiling[notebook]) (3.7.1)\n",
            "Collecting pydantic<2,>=1.8.1 (from ydata-profiling[notebook])\n",
            "  Downloading pydantic-1.10.12-cp310-cp310-manylinux_2_17_x86_64.manylinux2014_x86_64.whl (3.1 MB)\n",
            "\u001b[2K     \u001b[90m━━━━━━━━━━━━━━━━━━━━━━━━━━━━━━━━━━━━━━━━\u001b[0m \u001b[32m3.1/3.1 MB\u001b[0m \u001b[31m13.0 MB/s\u001b[0m eta \u001b[36m0:00:00\u001b[0m\n",
            "\u001b[?25hRequirement already satisfied: PyYAML<6.1,>=5.0.0 in /usr/local/lib/python3.10/dist-packages (from ydata-profiling[notebook]) (6.0.1)\n",
            "Requirement already satisfied: jinja2<3.2,>=2.11.1 in /usr/local/lib/python3.10/dist-packages (from ydata-profiling[notebook]) (3.1.2)\n",
            "Collecting visions[type_image_path]==0.7.5 (from ydata-profiling[notebook])\n",
            "  Downloading visions-0.7.5-py3-none-any.whl (102 kB)\n",
            "\u001b[2K     \u001b[90m━━━━━━━━━━━━━━━━━━━━━━━━━━━━━━━━━━━━━━\u001b[0m \u001b[32m102.7/102.7 kB\u001b[0m \u001b[31m12.0 MB/s\u001b[0m eta \u001b[36m0:00:00\u001b[0m\n",
            "\u001b[?25hRequirement already satisfied: numpy<1.24,>=1.16.0 in /usr/local/lib/python3.10/dist-packages (from ydata-profiling[notebook]) (1.23.5)\n",
            "Collecting htmlmin==0.1.12 (from ydata-profiling[notebook])\n",
            "  Downloading htmlmin-0.1.12.tar.gz (19 kB)\n",
            "  Preparing metadata (setup.py) ... \u001b[?25l\u001b[?25hdone\n",
            "Collecting phik<0.13,>=0.11.1 (from ydata-profiling[notebook])\n",
            "  Downloading phik-0.12.3-cp310-cp310-manylinux_2_17_x86_64.manylinux2014_x86_64.whl (679 kB)\n",
            "\u001b[2K     \u001b[90m━━━━━━━━━━━━━━━━━━━━━━━━━━━━━━━━━━━━━━\u001b[0m \u001b[32m679.5/679.5 kB\u001b[0m \u001b[31m18.6 MB/s\u001b[0m eta \u001b[36m0:00:00\u001b[0m\n",
            "\u001b[?25hRequirement already satisfied: requests<3,>=2.24.0 in /usr/local/lib/python3.10/dist-packages (from ydata-profiling[notebook]) (2.31.0)\n",
            "Requirement already satisfied: tqdm<5,>=4.48.2 in /usr/local/lib/python3.10/dist-packages (from ydata-profiling[notebook]) (4.66.1)\n",
            "Requirement already satisfied: seaborn<0.13,>=0.10.1 in /usr/local/lib/python3.10/dist-packages (from ydata-profiling[notebook]) (0.12.2)\n",
            "Collecting multimethod<2,>=1.4 (from ydata-profiling[notebook])\n",
            "  Downloading multimethod-1.9.1-py3-none-any.whl (10 kB)\n",
            "Requirement already satisfied: statsmodels<1,>=0.13.2 in /usr/local/lib/python3.10/dist-packages (from ydata-profiling[notebook]) (0.14.0)\n",
            "Collecting typeguard<3,>=2.13.2 (from ydata-profiling[notebook])\n",
            "  Downloading typeguard-2.13.3-py3-none-any.whl (17 kB)\n",
            "Collecting imagehash==4.3.1 (from ydata-profiling[notebook])\n",
            "  Downloading ImageHash-4.3.1-py2.py3-none-any.whl (296 kB)\n",
            "\u001b[2K     \u001b[90m━━━━━━━━━━━━━━━━━━━━━━━━━━━━━━━━━━━━━━\u001b[0m \u001b[32m296.5/296.5 kB\u001b[0m \u001b[31m16.3 MB/s\u001b[0m eta \u001b[36m0:00:00\u001b[0m\n",
            "\u001b[?25hRequirement already satisfied: wordcloud>=1.9.1 in /usr/local/lib/python3.10/dist-packages (from ydata-profiling[notebook]) (1.9.2)\n",
            "Collecting dacite>=1.8 (from ydata-profiling[notebook])\n",
            "  Downloading dacite-1.8.1-py3-none-any.whl (14 kB)\n",
            "Requirement already satisfied: jupyter-client>=5.3.4 in /usr/local/lib/python3.10/dist-packages (from ydata-profiling[notebook]) (6.1.12)\n",
            "Requirement already satisfied: jupyter-core>=4.6.3 in /usr/local/lib/python3.10/dist-packages (from ydata-profiling[notebook]) (5.3.1)\n",
            "Requirement already satisfied: ipywidgets>=7.5.1 in /usr/local/lib/python3.10/dist-packages (from ydata-profiling[notebook]) (7.7.1)\n",
            "Requirement already satisfied: PyWavelets in /usr/local/lib/python3.10/dist-packages (from imagehash==4.3.1->ydata-profiling[notebook]) (1.4.1)\n",
            "Requirement already satisfied: pillow in /usr/local/lib/python3.10/dist-packages (from imagehash==4.3.1->ydata-profiling[notebook]) (9.4.0)\n",
            "Requirement already satisfied: attrs>=19.3.0 in /usr/local/lib/python3.10/dist-packages (from visions[type_image_path]==0.7.5->ydata-profiling[notebook]) (23.1.0)\n",
            "Requirement already satisfied: networkx>=2.4 in /usr/local/lib/python3.10/dist-packages (from visions[type_image_path]==0.7.5->ydata-profiling[notebook]) (3.1)\n",
            "Collecting tangled-up-in-unicode>=0.0.4 (from visions[type_image_path]==0.7.5->ydata-profiling[notebook])\n",
            "  Downloading tangled_up_in_unicode-0.2.0-py3-none-any.whl (4.7 MB)\n",
            "\u001b[2K     \u001b[90m━━━━━━━━━━━━━━━━━━━━━━━━━━━━━━━━━━━━━━━━\u001b[0m \u001b[32m4.7/4.7 MB\u001b[0m \u001b[31m25.0 MB/s\u001b[0m eta \u001b[36m0:00:00\u001b[0m\n",
            "\u001b[?25hRequirement already satisfied: ipykernel>=4.5.1 in /usr/local/lib/python3.10/dist-packages (from ipywidgets>=7.5.1->ydata-profiling[notebook]) (5.5.6)\n",
            "Requirement already satisfied: ipython-genutils~=0.2.0 in /usr/local/lib/python3.10/dist-packages (from ipywidgets>=7.5.1->ydata-profiling[notebook]) (0.2.0)\n",
            "Requirement already satisfied: traitlets>=4.3.1 in /usr/local/lib/python3.10/dist-packages (from ipywidgets>=7.5.1->ydata-profiling[notebook]) (5.7.1)\n",
            "Requirement already satisfied: widgetsnbextension~=3.6.0 in /usr/local/lib/python3.10/dist-packages (from ipywidgets>=7.5.1->ydata-profiling[notebook]) (3.6.5)\n",
            "Requirement already satisfied: ipython>=4.0.0 in /usr/local/lib/python3.10/dist-packages (from ipywidgets>=7.5.1->ydata-profiling[notebook]) (7.34.0)\n",
            "Requirement already satisfied: jupyterlab-widgets>=1.0.0 in /usr/local/lib/python3.10/dist-packages (from ipywidgets>=7.5.1->ydata-profiling[notebook]) (3.0.8)\n",
            "Requirement already satisfied: MarkupSafe>=2.0 in /usr/local/lib/python3.10/dist-packages (from jinja2<3.2,>=2.11.1->ydata-profiling[notebook]) (2.1.3)\n",
            "Requirement already satisfied: pyzmq>=13 in /usr/local/lib/python3.10/dist-packages (from jupyter-client>=5.3.4->ydata-profiling[notebook]) (23.2.1)\n",
            "Requirement already satisfied: python-dateutil>=2.1 in /usr/local/lib/python3.10/dist-packages (from jupyter-client>=5.3.4->ydata-profiling[notebook]) (2.8.2)\n",
            "Requirement already satisfied: tornado>=4.1 in /usr/local/lib/python3.10/dist-packages (from jupyter-client>=5.3.4->ydata-profiling[notebook]) (6.3.2)\n",
            "Requirement already satisfied: platformdirs>=2.5 in /usr/local/lib/python3.10/dist-packages (from jupyter-core>=4.6.3->ydata-profiling[notebook]) (3.10.0)\n",
            "Requirement already satisfied: contourpy>=1.0.1 in /usr/local/lib/python3.10/dist-packages (from matplotlib<4,>=3.2->ydata-profiling[notebook]) (1.1.0)\n",
            "Requirement already satisfied: cycler>=0.10 in /usr/local/lib/python3.10/dist-packages (from matplotlib<4,>=3.2->ydata-profiling[notebook]) (0.11.0)\n",
            "Requirement already satisfied: fonttools>=4.22.0 in /usr/local/lib/python3.10/dist-packages (from matplotlib<4,>=3.2->ydata-profiling[notebook]) (4.42.1)\n",
            "Requirement already satisfied: kiwisolver>=1.0.1 in /usr/local/lib/python3.10/dist-packages (from matplotlib<4,>=3.2->ydata-profiling[notebook]) (1.4.4)\n",
            "Requirement already satisfied: packaging>=20.0 in /usr/local/lib/python3.10/dist-packages (from matplotlib<4,>=3.2->ydata-profiling[notebook]) (23.1)\n",
            "Requirement already satisfied: pyparsing>=2.3.1 in /usr/local/lib/python3.10/dist-packages (from matplotlib<4,>=3.2->ydata-profiling[notebook]) (3.1.1)\n",
            "Requirement already satisfied: pytz>=2020.1 in /usr/local/lib/python3.10/dist-packages (from pandas!=1.4.0,<2.1,>1.1->ydata-profiling[notebook]) (2023.3)\n",
            "Requirement already satisfied: joblib>=0.14.1 in /usr/local/lib/python3.10/dist-packages (from phik<0.13,>=0.11.1->ydata-profiling[notebook]) (1.3.2)\n",
            "Requirement already satisfied: typing-extensions>=4.2.0 in /usr/local/lib/python3.10/dist-packages (from pydantic<2,>=1.8.1->ydata-profiling[notebook]) (4.7.1)\n",
            "Requirement already satisfied: charset-normalizer<4,>=2 in /usr/local/lib/python3.10/dist-packages (from requests<3,>=2.24.0->ydata-profiling[notebook]) (3.2.0)\n",
            "Requirement already satisfied: idna<4,>=2.5 in /usr/local/lib/python3.10/dist-packages (from requests<3,>=2.24.0->ydata-profiling[notebook]) (3.4)\n",
            "Requirement already satisfied: urllib3<3,>=1.21.1 in /usr/local/lib/python3.10/dist-packages (from requests<3,>=2.24.0->ydata-profiling[notebook]) (2.0.4)\n",
            "Requirement already satisfied: certifi>=2017.4.17 in /usr/local/lib/python3.10/dist-packages (from requests<3,>=2.24.0->ydata-profiling[notebook]) (2023.7.22)\n",
            "Requirement already satisfied: patsy>=0.5.2 in /usr/local/lib/python3.10/dist-packages (from statsmodels<1,>=0.13.2->ydata-profiling[notebook]) (0.5.3)\n",
            "Requirement already satisfied: setuptools>=18.5 in /usr/local/lib/python3.10/dist-packages (from ipython>=4.0.0->ipywidgets>=7.5.1->ydata-profiling[notebook]) (67.7.2)\n",
            "Collecting jedi>=0.16 (from ipython>=4.0.0->ipywidgets>=7.5.1->ydata-profiling[notebook])\n",
            "  Downloading jedi-0.19.0-py2.py3-none-any.whl (1.6 MB)\n",
            "\u001b[2K     \u001b[90m━━━━━━━━━━━━━━━━━━━━━━━━━━━━━━━━━━━━━━━━\u001b[0m \u001b[32m1.6/1.6 MB\u001b[0m \u001b[31m31.5 MB/s\u001b[0m eta \u001b[36m0:00:00\u001b[0m\n",
            "\u001b[?25hRequirement already satisfied: decorator in /usr/local/lib/python3.10/dist-packages (from ipython>=4.0.0->ipywidgets>=7.5.1->ydata-profiling[notebook]) (4.4.2)\n",
            "Requirement already satisfied: pickleshare in /usr/local/lib/python3.10/dist-packages (from ipython>=4.0.0->ipywidgets>=7.5.1->ydata-profiling[notebook]) (0.7.5)\n",
            "Requirement already satisfied: prompt-toolkit!=3.0.0,!=3.0.1,<3.1.0,>=2.0.0 in /usr/local/lib/python3.10/dist-packages (from ipython>=4.0.0->ipywidgets>=7.5.1->ydata-profiling[notebook]) (3.0.39)\n",
            "Requirement already satisfied: pygments in /usr/local/lib/python3.10/dist-packages (from ipython>=4.0.0->ipywidgets>=7.5.1->ydata-profiling[notebook]) (2.16.1)\n",
            "Requirement already satisfied: backcall in /usr/local/lib/python3.10/dist-packages (from ipython>=4.0.0->ipywidgets>=7.5.1->ydata-profiling[notebook]) (0.2.0)\n",
            "Requirement already satisfied: matplotlib-inline in /usr/local/lib/python3.10/dist-packages (from ipython>=4.0.0->ipywidgets>=7.5.1->ydata-profiling[notebook]) (0.1.6)\n",
            "Requirement already satisfied: pexpect>4.3 in /usr/local/lib/python3.10/dist-packages (from ipython>=4.0.0->ipywidgets>=7.5.1->ydata-profiling[notebook]) (4.8.0)\n",
            "Requirement already satisfied: six in /usr/local/lib/python3.10/dist-packages (from patsy>=0.5.2->statsmodels<1,>=0.13.2->ydata-profiling[notebook]) (1.16.0)\n",
            "Requirement already satisfied: notebook>=4.4.1 in /usr/local/lib/python3.10/dist-packages (from widgetsnbextension~=3.6.0->ipywidgets>=7.5.1->ydata-profiling[notebook]) (6.5.5)\n",
            "Requirement already satisfied: parso<0.9.0,>=0.8.3 in /usr/local/lib/python3.10/dist-packages (from jedi>=0.16->ipython>=4.0.0->ipywidgets>=7.5.1->ydata-profiling[notebook]) (0.8.3)\n",
            "Requirement already satisfied: argon2-cffi in /usr/local/lib/python3.10/dist-packages (from notebook>=4.4.1->widgetsnbextension~=3.6.0->ipywidgets>=7.5.1->ydata-profiling[notebook]) (23.1.0)\n",
            "Requirement already satisfied: nbformat in /usr/local/lib/python3.10/dist-packages (from notebook>=4.4.1->widgetsnbextension~=3.6.0->ipywidgets>=7.5.1->ydata-profiling[notebook]) (5.9.2)\n",
            "Requirement already satisfied: nbconvert>=5 in /usr/local/lib/python3.10/dist-packages (from notebook>=4.4.1->widgetsnbextension~=3.6.0->ipywidgets>=7.5.1->ydata-profiling[notebook]) (6.5.4)\n",
            "Requirement already satisfied: nest-asyncio>=1.5 in /usr/local/lib/python3.10/dist-packages (from notebook>=4.4.1->widgetsnbextension~=3.6.0->ipywidgets>=7.5.1->ydata-profiling[notebook]) (1.5.7)\n",
            "Requirement already satisfied: Send2Trash>=1.8.0 in /usr/local/lib/python3.10/dist-packages (from notebook>=4.4.1->widgetsnbextension~=3.6.0->ipywidgets>=7.5.1->ydata-profiling[notebook]) (1.8.2)\n",
            "Requirement already satisfied: terminado>=0.8.3 in /usr/local/lib/python3.10/dist-packages (from notebook>=4.4.1->widgetsnbextension~=3.6.0->ipywidgets>=7.5.1->ydata-profiling[notebook]) (0.17.1)\n",
            "Requirement already satisfied: prometheus-client in /usr/local/lib/python3.10/dist-packages (from notebook>=4.4.1->widgetsnbextension~=3.6.0->ipywidgets>=7.5.1->ydata-profiling[notebook]) (0.17.1)\n",
            "Requirement already satisfied: nbclassic>=0.4.7 in /usr/local/lib/python3.10/dist-packages (from notebook>=4.4.1->widgetsnbextension~=3.6.0->ipywidgets>=7.5.1->ydata-profiling[notebook]) (1.0.0)\n",
            "Requirement already satisfied: ptyprocess>=0.5 in /usr/local/lib/python3.10/dist-packages (from pexpect>4.3->ipython>=4.0.0->ipywidgets>=7.5.1->ydata-profiling[notebook]) (0.7.0)\n",
            "Requirement already satisfied: wcwidth in /usr/local/lib/python3.10/dist-packages (from prompt-toolkit!=3.0.0,!=3.0.1,<3.1.0,>=2.0.0->ipython>=4.0.0->ipywidgets>=7.5.1->ydata-profiling[notebook]) (0.2.6)\n",
            "Requirement already satisfied: jupyter-server>=1.8 in /usr/local/lib/python3.10/dist-packages (from nbclassic>=0.4.7->notebook>=4.4.1->widgetsnbextension~=3.6.0->ipywidgets>=7.5.1->ydata-profiling[notebook]) (1.24.0)\n",
            "Requirement already satisfied: notebook-shim>=0.2.3 in /usr/local/lib/python3.10/dist-packages (from nbclassic>=0.4.7->notebook>=4.4.1->widgetsnbextension~=3.6.0->ipywidgets>=7.5.1->ydata-profiling[notebook]) (0.2.3)\n",
            "Requirement already satisfied: lxml in /usr/local/lib/python3.10/dist-packages (from nbconvert>=5->notebook>=4.4.1->widgetsnbextension~=3.6.0->ipywidgets>=7.5.1->ydata-profiling[notebook]) (4.9.3)\n",
            "Requirement already satisfied: beautifulsoup4 in /usr/local/lib/python3.10/dist-packages (from nbconvert>=5->notebook>=4.4.1->widgetsnbextension~=3.6.0->ipywidgets>=7.5.1->ydata-profiling[notebook]) (4.11.2)\n",
            "Requirement already satisfied: bleach in /usr/local/lib/python3.10/dist-packages (from nbconvert>=5->notebook>=4.4.1->widgetsnbextension~=3.6.0->ipywidgets>=7.5.1->ydata-profiling[notebook]) (6.0.0)\n",
            "Requirement already satisfied: defusedxml in /usr/local/lib/python3.10/dist-packages (from nbconvert>=5->notebook>=4.4.1->widgetsnbextension~=3.6.0->ipywidgets>=7.5.1->ydata-profiling[notebook]) (0.7.1)\n",
            "Requirement already satisfied: entrypoints>=0.2.2 in /usr/local/lib/python3.10/dist-packages (from nbconvert>=5->notebook>=4.4.1->widgetsnbextension~=3.6.0->ipywidgets>=7.5.1->ydata-profiling[notebook]) (0.4)\n",
            "Requirement already satisfied: jupyterlab-pygments in /usr/local/lib/python3.10/dist-packages (from nbconvert>=5->notebook>=4.4.1->widgetsnbextension~=3.6.0->ipywidgets>=7.5.1->ydata-profiling[notebook]) (0.2.2)\n",
            "Requirement already satisfied: mistune<2,>=0.8.1 in /usr/local/lib/python3.10/dist-packages (from nbconvert>=5->notebook>=4.4.1->widgetsnbextension~=3.6.0->ipywidgets>=7.5.1->ydata-profiling[notebook]) (0.8.4)\n",
            "Requirement already satisfied: nbclient>=0.5.0 in /usr/local/lib/python3.10/dist-packages (from nbconvert>=5->notebook>=4.4.1->widgetsnbextension~=3.6.0->ipywidgets>=7.5.1->ydata-profiling[notebook]) (0.8.0)\n",
            "Requirement already satisfied: pandocfilters>=1.4.1 in /usr/local/lib/python3.10/dist-packages (from nbconvert>=5->notebook>=4.4.1->widgetsnbextension~=3.6.0->ipywidgets>=7.5.1->ydata-profiling[notebook]) (1.5.0)\n",
            "Requirement already satisfied: tinycss2 in /usr/local/lib/python3.10/dist-packages (from nbconvert>=5->notebook>=4.4.1->widgetsnbextension~=3.6.0->ipywidgets>=7.5.1->ydata-profiling[notebook]) (1.2.1)\n",
            "Requirement already satisfied: fastjsonschema in /usr/local/lib/python3.10/dist-packages (from nbformat->notebook>=4.4.1->widgetsnbextension~=3.6.0->ipywidgets>=7.5.1->ydata-profiling[notebook]) (2.18.0)\n",
            "Requirement already satisfied: jsonschema>=2.6 in /usr/local/lib/python3.10/dist-packages (from nbformat->notebook>=4.4.1->widgetsnbextension~=3.6.0->ipywidgets>=7.5.1->ydata-profiling[notebook]) (4.19.0)\n",
            "Requirement already satisfied: argon2-cffi-bindings in /usr/local/lib/python3.10/dist-packages (from argon2-cffi->notebook>=4.4.1->widgetsnbextension~=3.6.0->ipywidgets>=7.5.1->ydata-profiling[notebook]) (21.2.0)\n",
            "Requirement already satisfied: jsonschema-specifications>=2023.03.6 in /usr/local/lib/python3.10/dist-packages (from jsonschema>=2.6->nbformat->notebook>=4.4.1->widgetsnbextension~=3.6.0->ipywidgets>=7.5.1->ydata-profiling[notebook]) (2023.7.1)\n",
            "Requirement already satisfied: referencing>=0.28.4 in /usr/local/lib/python3.10/dist-packages (from jsonschema>=2.6->nbformat->notebook>=4.4.1->widgetsnbextension~=3.6.0->ipywidgets>=7.5.1->ydata-profiling[notebook]) (0.30.2)\n",
            "Requirement already satisfied: rpds-py>=0.7.1 in /usr/local/lib/python3.10/dist-packages (from jsonschema>=2.6->nbformat->notebook>=4.4.1->widgetsnbextension~=3.6.0->ipywidgets>=7.5.1->ydata-profiling[notebook]) (0.9.2)\n",
            "Requirement already satisfied: anyio<4,>=3.1.0 in /usr/local/lib/python3.10/dist-packages (from jupyter-server>=1.8->nbclassic>=0.4.7->notebook>=4.4.1->widgetsnbextension~=3.6.0->ipywidgets>=7.5.1->ydata-profiling[notebook]) (3.7.1)\n",
            "Requirement already satisfied: websocket-client in /usr/local/lib/python3.10/dist-packages (from jupyter-server>=1.8->nbclassic>=0.4.7->notebook>=4.4.1->widgetsnbextension~=3.6.0->ipywidgets>=7.5.1->ydata-profiling[notebook]) (1.6.2)\n",
            "Requirement already satisfied: cffi>=1.0.1 in /usr/local/lib/python3.10/dist-packages (from argon2-cffi-bindings->argon2-cffi->notebook>=4.4.1->widgetsnbextension~=3.6.0->ipywidgets>=7.5.1->ydata-profiling[notebook]) (1.15.1)\n",
            "Requirement already satisfied: soupsieve>1.2 in /usr/local/lib/python3.10/dist-packages (from beautifulsoup4->nbconvert>=5->notebook>=4.4.1->widgetsnbextension~=3.6.0->ipywidgets>=7.5.1->ydata-profiling[notebook]) (2.4.1)\n",
            "Requirement already satisfied: webencodings in /usr/local/lib/python3.10/dist-packages (from bleach->nbconvert>=5->notebook>=4.4.1->widgetsnbextension~=3.6.0->ipywidgets>=7.5.1->ydata-profiling[notebook]) (0.5.1)\n",
            "Requirement already satisfied: sniffio>=1.1 in /usr/local/lib/python3.10/dist-packages (from anyio<4,>=3.1.0->jupyter-server>=1.8->nbclassic>=0.4.7->notebook>=4.4.1->widgetsnbextension~=3.6.0->ipywidgets>=7.5.1->ydata-profiling[notebook]) (1.3.0)\n",
            "Requirement already satisfied: exceptiongroup in /usr/local/lib/python3.10/dist-packages (from anyio<4,>=3.1.0->jupyter-server>=1.8->nbclassic>=0.4.7->notebook>=4.4.1->widgetsnbextension~=3.6.0->ipywidgets>=7.5.1->ydata-profiling[notebook]) (1.1.3)\n",
            "Requirement already satisfied: pycparser in /usr/local/lib/python3.10/dist-packages (from cffi>=1.0.1->argon2-cffi-bindings->argon2-cffi->notebook>=4.4.1->widgetsnbextension~=3.6.0->ipywidgets>=7.5.1->ydata-profiling[notebook]) (2.21)\n",
            "Building wheels for collected packages: htmlmin\n",
            "  Building wheel for htmlmin (setup.py) ... \u001b[?25l\u001b[?25hdone\n",
            "  Created wheel for htmlmin: filename=htmlmin-0.1.12-py3-none-any.whl size=27081 sha256=1d9cbca613dfe79bbdd33e00d3e8507b799e8e06cdecc2dae49d7578d546213a\n",
            "  Stored in directory: /root/.cache/pip/wheels/dd/91/29/a79cecb328d01739e64017b6fb9a1ab9d8cb1853098ec5966d\n",
            "Successfully built htmlmin\n",
            "Installing collected packages: htmlmin, typeguard, tangled-up-in-unicode, pydantic, multimethod, jedi, dacite, imagehash, visions, phik, ydata-profiling\n",
            "  Attempting uninstall: pydantic\n",
            "    Found existing installation: pydantic 2.2.1\n",
            "    Uninstalling pydantic-2.2.1:\n",
            "      Successfully uninstalled pydantic-2.2.1\n",
            "Successfully installed dacite-1.8.1 htmlmin-0.1.12 imagehash-4.3.1 jedi-0.19.0 multimethod-1.9.1 phik-0.12.3 pydantic-1.10.12 tangled-up-in-unicode-0.2.0 typeguard-2.13.3 visions-0.7.5 ydata-profiling-4.5.1\n",
            "Enabling notebook extension jupyter-js-widgets/extension...\n",
            "Paths used for configuration of notebook: \n",
            "    \t/root/.jupyter/nbconfig/notebook.json\n",
            "Paths used for configuration of notebook: \n",
            "    \t\n",
            "      - Validating: \u001b[32mOK\u001b[0m\n",
            "Paths used for configuration of notebook: \n",
            "    \t/root/.jupyter/nbconfig/notebook.json\n"
          ]
        }
      ]
    },
    {
      "cell_type": "markdown",
      "source": [
        "#2.Chargement des librairies"
      ],
      "metadata": {
        "id": "RY4Ar9dEX61O"
      }
    },
    {
      "cell_type": "code",
      "source": [
        "# System\n",
        "import os\n",
        "from google.colab import files\n",
        "import warnings\n",
        "\n",
        "# Data\n",
        "import numpy as np\n",
        "import pandas as pd\n",
        "import json\n",
        "import datetime\n",
        "from sqlalchemy import create_engine, text\n",
        "from ydata_profiling import ProfileReport\n",
        "\n",
        "# Machine learning - Preprocessing\n",
        "from sklearn.impute import KNNImputer\n",
        "\n",
        "# Graphics\n",
        "import plotly.express as px"
      ],
      "metadata": {
        "id": "qNuykREpum-v"
      },
      "execution_count": 2,
      "outputs": []
    },
    {
      "cell_type": "markdown",
      "source": [
        "#3.Configuration"
      ],
      "metadata": {
        "id": "6axzZthf4ArR"
      }
    },
    {
      "cell_type": "code",
      "source": [
        "# Silence warnings\n",
        "warnings.filterwarnings(\"ignore\")"
      ],
      "metadata": {
        "id": "aI1bvggG4Q_7"
      },
      "execution_count": 3,
      "outputs": []
    },
    {
      "cell_type": "code",
      "source": [
        "# Mount GoogleDrive and set the files path\n",
        "from google.colab import drive\n",
        "drive.mount('/content/drive')\n",
        "%cd '/content/drive/MyDrive/CO2'"
      ],
      "metadata": {
        "colab": {
          "base_uri": "https://localhost:8080/"
        },
        "id": "pQOp73st4Dpu",
        "outputId": "ae618e2c-cbcf-49f6-8385-6fec9fbc958e"
      },
      "execution_count": 4,
      "outputs": [
        {
          "output_type": "stream",
          "name": "stdout",
          "text": [
            "Mounted at /content/drive\n",
            "/content/drive/MyDrive/CO2\n"
          ]
        }
      ]
    },
    {
      "cell_type": "markdown",
      "source": [
        "#4.Chargement du dataset"
      ],
      "metadata": {
        "id": "39-G0crIFAsV"
      }
    },
    {
      "cell_type": "code",
      "source": [
        "# Define the connection string\n",
        "connection_string = \"postgresql://co2-sa-db.postgres.database.azure.com:5432/seattlebeb?user=co2sodapg&password=Greta2023&sslmode=require\"\n",
        "\n",
        "# Create a SQLAlchemy engine\n",
        "engine = create_engine(connection_string)\n",
        "\n",
        "# Create a connection and execute the query\n",
        "with engine.connect() as conn:\n",
        "    query = text(\"SELECT * FROM buildings\")\n",
        "    data = pd.read_sql(query, conn)\n",
        "\n",
        "data.head()"
      ],
      "metadata": {
        "colab": {
          "base_uri": "https://localhost:8080/",
          "height": 256
        },
        "id": "yLa7h4ZjT1yX",
        "outputId": "005783a6-2f44-416d-f508-42cc8c15603c"
      },
      "execution_count": 5,
      "outputs": [
        {
          "output_type": "execute_result",
          "data": {
            "text/plain": [
              "   osebuildingid    buildingtype primarypropertytype  zipcode  \\\n",
              "0              1  NonResidential               Hotel  98101.0   \n",
              "1              2  NonResidential               Hotel  98101.0   \n",
              "2              3  NonResidential               Hotel  98101.0   \n",
              "3              5  NonResidential               Hotel  98101.0   \n",
              "4              8  NonResidential               Hotel  98121.0   \n",
              "\n",
              "  taxparcelidentificationnumber  councildistrictcode neighborhood  latitude  \\\n",
              "0                    0659000030                    7     DOWNTOWN  47.61220   \n",
              "1                    0659000220                    7     DOWNTOWN  47.61317   \n",
              "2                    0659000475                    7     DOWNTOWN  47.61393   \n",
              "3                    0659000640                    7     DOWNTOWN  47.61412   \n",
              "4                    0659000970                    7     DOWNTOWN  47.61375   \n",
              "\n",
              "   longitude  yearbuilt  ...  sourceeuiwn_kbtu_sf  siteenergyuse_kbtu  \\\n",
              "0 -122.33799       1927  ...           189.000000           7226362.5   \n",
              "1 -122.33393       1996  ...           179.399994           8387933.0   \n",
              "2 -122.33810       1969  ...           244.100006          72587024.0   \n",
              "3 -122.33664       1926  ...           224.000000           6794584.0   \n",
              "4 -122.34047       1980  ...           215.600006          14172606.0   \n",
              "\n",
              "   siteenergyusewn_kbtu  steamuse_kbtu  electricity_kbtu naturalgas_kbtu  \\\n",
              "0             7456910.0     2003882.00         3946027.0       1276453.0   \n",
              "1             8664479.0           0.00         3242851.0       5145082.0   \n",
              "2            73937112.0    21566554.00        49526664.0       1493800.0   \n",
              "3             6946800.5     2214446.25         2768924.0       1811213.0   \n",
              "4            14656503.0           0.00         5368607.0       8803998.0   \n",
              "\n",
              "  defaultdata  compliancestatus outlier totalghgemissions  \n",
              "0       False         Compliant    None            249.98  \n",
              "1       False         Compliant    None            295.86  \n",
              "2       False         Compliant    None           2089.28  \n",
              "3       False         Compliant    None            286.43  \n",
              "4       False         Compliant    None            505.01  \n",
              "\n",
              "[5 rows x 37 columns]"
            ],
            "text/html": [
              "\n",
              "  <div id=\"df-18a4fe74-0617-4a4a-8531-ac16222a623f\" class=\"colab-df-container\">\n",
              "    <div>\n",
              "<style scoped>\n",
              "    .dataframe tbody tr th:only-of-type {\n",
              "        vertical-align: middle;\n",
              "    }\n",
              "\n",
              "    .dataframe tbody tr th {\n",
              "        vertical-align: top;\n",
              "    }\n",
              "\n",
              "    .dataframe thead th {\n",
              "        text-align: right;\n",
              "    }\n",
              "</style>\n",
              "<table border=\"1\" class=\"dataframe\">\n",
              "  <thead>\n",
              "    <tr style=\"text-align: right;\">\n",
              "      <th></th>\n",
              "      <th>osebuildingid</th>\n",
              "      <th>buildingtype</th>\n",
              "      <th>primarypropertytype</th>\n",
              "      <th>zipcode</th>\n",
              "      <th>taxparcelidentificationnumber</th>\n",
              "      <th>councildistrictcode</th>\n",
              "      <th>neighborhood</th>\n",
              "      <th>latitude</th>\n",
              "      <th>longitude</th>\n",
              "      <th>yearbuilt</th>\n",
              "      <th>...</th>\n",
              "      <th>sourceeuiwn_kbtu_sf</th>\n",
              "      <th>siteenergyuse_kbtu</th>\n",
              "      <th>siteenergyusewn_kbtu</th>\n",
              "      <th>steamuse_kbtu</th>\n",
              "      <th>electricity_kbtu</th>\n",
              "      <th>naturalgas_kbtu</th>\n",
              "      <th>defaultdata</th>\n",
              "      <th>compliancestatus</th>\n",
              "      <th>outlier</th>\n",
              "      <th>totalghgemissions</th>\n",
              "    </tr>\n",
              "  </thead>\n",
              "  <tbody>\n",
              "    <tr>\n",
              "      <th>0</th>\n",
              "      <td>1</td>\n",
              "      <td>NonResidential</td>\n",
              "      <td>Hotel</td>\n",
              "      <td>98101.0</td>\n",
              "      <td>0659000030</td>\n",
              "      <td>7</td>\n",
              "      <td>DOWNTOWN</td>\n",
              "      <td>47.61220</td>\n",
              "      <td>-122.33799</td>\n",
              "      <td>1927</td>\n",
              "      <td>...</td>\n",
              "      <td>189.000000</td>\n",
              "      <td>7226362.5</td>\n",
              "      <td>7456910.0</td>\n",
              "      <td>2003882.00</td>\n",
              "      <td>3946027.0</td>\n",
              "      <td>1276453.0</td>\n",
              "      <td>False</td>\n",
              "      <td>Compliant</td>\n",
              "      <td>None</td>\n",
              "      <td>249.98</td>\n",
              "    </tr>\n",
              "    <tr>\n",
              "      <th>1</th>\n",
              "      <td>2</td>\n",
              "      <td>NonResidential</td>\n",
              "      <td>Hotel</td>\n",
              "      <td>98101.0</td>\n",
              "      <td>0659000220</td>\n",
              "      <td>7</td>\n",
              "      <td>DOWNTOWN</td>\n",
              "      <td>47.61317</td>\n",
              "      <td>-122.33393</td>\n",
              "      <td>1996</td>\n",
              "      <td>...</td>\n",
              "      <td>179.399994</td>\n",
              "      <td>8387933.0</td>\n",
              "      <td>8664479.0</td>\n",
              "      <td>0.00</td>\n",
              "      <td>3242851.0</td>\n",
              "      <td>5145082.0</td>\n",
              "      <td>False</td>\n",
              "      <td>Compliant</td>\n",
              "      <td>None</td>\n",
              "      <td>295.86</td>\n",
              "    </tr>\n",
              "    <tr>\n",
              "      <th>2</th>\n",
              "      <td>3</td>\n",
              "      <td>NonResidential</td>\n",
              "      <td>Hotel</td>\n",
              "      <td>98101.0</td>\n",
              "      <td>0659000475</td>\n",
              "      <td>7</td>\n",
              "      <td>DOWNTOWN</td>\n",
              "      <td>47.61393</td>\n",
              "      <td>-122.33810</td>\n",
              "      <td>1969</td>\n",
              "      <td>...</td>\n",
              "      <td>244.100006</td>\n",
              "      <td>72587024.0</td>\n",
              "      <td>73937112.0</td>\n",
              "      <td>21566554.00</td>\n",
              "      <td>49526664.0</td>\n",
              "      <td>1493800.0</td>\n",
              "      <td>False</td>\n",
              "      <td>Compliant</td>\n",
              "      <td>None</td>\n",
              "      <td>2089.28</td>\n",
              "    </tr>\n",
              "    <tr>\n",
              "      <th>3</th>\n",
              "      <td>5</td>\n",
              "      <td>NonResidential</td>\n",
              "      <td>Hotel</td>\n",
              "      <td>98101.0</td>\n",
              "      <td>0659000640</td>\n",
              "      <td>7</td>\n",
              "      <td>DOWNTOWN</td>\n",
              "      <td>47.61412</td>\n",
              "      <td>-122.33664</td>\n",
              "      <td>1926</td>\n",
              "      <td>...</td>\n",
              "      <td>224.000000</td>\n",
              "      <td>6794584.0</td>\n",
              "      <td>6946800.5</td>\n",
              "      <td>2214446.25</td>\n",
              "      <td>2768924.0</td>\n",
              "      <td>1811213.0</td>\n",
              "      <td>False</td>\n",
              "      <td>Compliant</td>\n",
              "      <td>None</td>\n",
              "      <td>286.43</td>\n",
              "    </tr>\n",
              "    <tr>\n",
              "      <th>4</th>\n",
              "      <td>8</td>\n",
              "      <td>NonResidential</td>\n",
              "      <td>Hotel</td>\n",
              "      <td>98121.0</td>\n",
              "      <td>0659000970</td>\n",
              "      <td>7</td>\n",
              "      <td>DOWNTOWN</td>\n",
              "      <td>47.61375</td>\n",
              "      <td>-122.34047</td>\n",
              "      <td>1980</td>\n",
              "      <td>...</td>\n",
              "      <td>215.600006</td>\n",
              "      <td>14172606.0</td>\n",
              "      <td>14656503.0</td>\n",
              "      <td>0.00</td>\n",
              "      <td>5368607.0</td>\n",
              "      <td>8803998.0</td>\n",
              "      <td>False</td>\n",
              "      <td>Compliant</td>\n",
              "      <td>None</td>\n",
              "      <td>505.01</td>\n",
              "    </tr>\n",
              "  </tbody>\n",
              "</table>\n",
              "<p>5 rows × 37 columns</p>\n",
              "</div>\n",
              "    <div class=\"colab-df-buttons\">\n",
              "\n",
              "  <div class=\"colab-df-container\">\n",
              "    <button class=\"colab-df-convert\" onclick=\"convertToInteractive('df-18a4fe74-0617-4a4a-8531-ac16222a623f')\"\n",
              "            title=\"Convert this dataframe to an interactive table.\"\n",
              "            style=\"display:none;\">\n",
              "\n",
              "  <svg xmlns=\"http://www.w3.org/2000/svg\" height=\"24px\" viewBox=\"0 -960 960 960\">\n",
              "    <path d=\"M120-120v-720h720v720H120Zm60-500h600v-160H180v160Zm220 220h160v-160H400v160Zm0 220h160v-160H400v160ZM180-400h160v-160H180v160Zm440 0h160v-160H620v160ZM180-180h160v-160H180v160Zm440 0h160v-160H620v160Z\"/>\n",
              "  </svg>\n",
              "    </button>\n",
              "\n",
              "  <style>\n",
              "    .colab-df-container {\n",
              "      display:flex;\n",
              "      gap: 12px;\n",
              "    }\n",
              "\n",
              "    .colab-df-convert {\n",
              "      background-color: #E8F0FE;\n",
              "      border: none;\n",
              "      border-radius: 50%;\n",
              "      cursor: pointer;\n",
              "      display: none;\n",
              "      fill: #1967D2;\n",
              "      height: 32px;\n",
              "      padding: 0 0 0 0;\n",
              "      width: 32px;\n",
              "    }\n",
              "\n",
              "    .colab-df-convert:hover {\n",
              "      background-color: #E2EBFA;\n",
              "      box-shadow: 0px 1px 2px rgba(60, 64, 67, 0.3), 0px 1px 3px 1px rgba(60, 64, 67, 0.15);\n",
              "      fill: #174EA6;\n",
              "    }\n",
              "\n",
              "    .colab-df-buttons div {\n",
              "      margin-bottom: 4px;\n",
              "    }\n",
              "\n",
              "    [theme=dark] .colab-df-convert {\n",
              "      background-color: #3B4455;\n",
              "      fill: #D2E3FC;\n",
              "    }\n",
              "\n",
              "    [theme=dark] .colab-df-convert:hover {\n",
              "      background-color: #434B5C;\n",
              "      box-shadow: 0px 1px 3px 1px rgba(0, 0, 0, 0.15);\n",
              "      filter: drop-shadow(0px 1px 2px rgba(0, 0, 0, 0.3));\n",
              "      fill: #FFFFFF;\n",
              "    }\n",
              "  </style>\n",
              "\n",
              "    <script>\n",
              "      const buttonEl =\n",
              "        document.querySelector('#df-18a4fe74-0617-4a4a-8531-ac16222a623f button.colab-df-convert');\n",
              "      buttonEl.style.display =\n",
              "        google.colab.kernel.accessAllowed ? 'block' : 'none';\n",
              "\n",
              "      async function convertToInteractive(key) {\n",
              "        const element = document.querySelector('#df-18a4fe74-0617-4a4a-8531-ac16222a623f');\n",
              "        const dataTable =\n",
              "          await google.colab.kernel.invokeFunction('convertToInteractive',\n",
              "                                                    [key], {});\n",
              "        if (!dataTable) return;\n",
              "\n",
              "        const docLinkHtml = 'Like what you see? Visit the ' +\n",
              "          '<a target=\"_blank\" href=https://colab.research.google.com/notebooks/data_table.ipynb>data table notebook</a>'\n",
              "          + ' to learn more about interactive tables.';\n",
              "        element.innerHTML = '';\n",
              "        dataTable['output_type'] = 'display_data';\n",
              "        await google.colab.output.renderOutput(dataTable, element);\n",
              "        const docLink = document.createElement('div');\n",
              "        docLink.innerHTML = docLinkHtml;\n",
              "        element.appendChild(docLink);\n",
              "      }\n",
              "    </script>\n",
              "  </div>\n",
              "\n",
              "\n",
              "<div id=\"df-3e923861-754c-4366-9eb6-d96d9aa74718\">\n",
              "  <button class=\"colab-df-quickchart\" onclick=\"quickchart('df-3e923861-754c-4366-9eb6-d96d9aa74718')\"\n",
              "            title=\"Suggest charts.\"\n",
              "            style=\"display:none;\">\n",
              "\n",
              "<svg xmlns=\"http://www.w3.org/2000/svg\" height=\"24px\"viewBox=\"0 0 24 24\"\n",
              "     width=\"24px\">\n",
              "    <g>\n",
              "        <path d=\"M19 3H5c-1.1 0-2 .9-2 2v14c0 1.1.9 2 2 2h14c1.1 0 2-.9 2-2V5c0-1.1-.9-2-2-2zM9 17H7v-7h2v7zm4 0h-2V7h2v10zm4 0h-2v-4h2v4z\"/>\n",
              "    </g>\n",
              "</svg>\n",
              "  </button>\n",
              "\n",
              "<style>\n",
              "  .colab-df-quickchart {\n",
              "      --bg-color: #E8F0FE;\n",
              "      --fill-color: #1967D2;\n",
              "      --hover-bg-color: #E2EBFA;\n",
              "      --hover-fill-color: #174EA6;\n",
              "      --disabled-fill-color: #AAA;\n",
              "      --disabled-bg-color: #DDD;\n",
              "  }\n",
              "\n",
              "  [theme=dark] .colab-df-quickchart {\n",
              "      --bg-color: #3B4455;\n",
              "      --fill-color: #D2E3FC;\n",
              "      --hover-bg-color: #434B5C;\n",
              "      --hover-fill-color: #FFFFFF;\n",
              "      --disabled-bg-color: #3B4455;\n",
              "      --disabled-fill-color: #666;\n",
              "  }\n",
              "\n",
              "  .colab-df-quickchart {\n",
              "    background-color: var(--bg-color);\n",
              "    border: none;\n",
              "    border-radius: 50%;\n",
              "    cursor: pointer;\n",
              "    display: none;\n",
              "    fill: var(--fill-color);\n",
              "    height: 32px;\n",
              "    padding: 0;\n",
              "    width: 32px;\n",
              "  }\n",
              "\n",
              "  .colab-df-quickchart:hover {\n",
              "    background-color: var(--hover-bg-color);\n",
              "    box-shadow: 0 1px 2px rgba(60, 64, 67, 0.3), 0 1px 3px 1px rgba(60, 64, 67, 0.15);\n",
              "    fill: var(--button-hover-fill-color);\n",
              "  }\n",
              "\n",
              "  .colab-df-quickchart-complete:disabled,\n",
              "  .colab-df-quickchart-complete:disabled:hover {\n",
              "    background-color: var(--disabled-bg-color);\n",
              "    fill: var(--disabled-fill-color);\n",
              "    box-shadow: none;\n",
              "  }\n",
              "\n",
              "  .colab-df-spinner {\n",
              "    border: 2px solid var(--fill-color);\n",
              "    border-color: transparent;\n",
              "    border-bottom-color: var(--fill-color);\n",
              "    animation:\n",
              "      spin 1s steps(1) infinite;\n",
              "  }\n",
              "\n",
              "  @keyframes spin {\n",
              "    0% {\n",
              "      border-color: transparent;\n",
              "      border-bottom-color: var(--fill-color);\n",
              "      border-left-color: var(--fill-color);\n",
              "    }\n",
              "    20% {\n",
              "      border-color: transparent;\n",
              "      border-left-color: var(--fill-color);\n",
              "      border-top-color: var(--fill-color);\n",
              "    }\n",
              "    30% {\n",
              "      border-color: transparent;\n",
              "      border-left-color: var(--fill-color);\n",
              "      border-top-color: var(--fill-color);\n",
              "      border-right-color: var(--fill-color);\n",
              "    }\n",
              "    40% {\n",
              "      border-color: transparent;\n",
              "      border-right-color: var(--fill-color);\n",
              "      border-top-color: var(--fill-color);\n",
              "    }\n",
              "    60% {\n",
              "      border-color: transparent;\n",
              "      border-right-color: var(--fill-color);\n",
              "    }\n",
              "    80% {\n",
              "      border-color: transparent;\n",
              "      border-right-color: var(--fill-color);\n",
              "      border-bottom-color: var(--fill-color);\n",
              "    }\n",
              "    90% {\n",
              "      border-color: transparent;\n",
              "      border-bottom-color: var(--fill-color);\n",
              "    }\n",
              "  }\n",
              "</style>\n",
              "\n",
              "  <script>\n",
              "    async function quickchart(key) {\n",
              "      const quickchartButtonEl =\n",
              "        document.querySelector('#' + key + ' button');\n",
              "      quickchartButtonEl.disabled = true;  // To prevent multiple clicks.\n",
              "      quickchartButtonEl.classList.add('colab-df-spinner');\n",
              "      try {\n",
              "        const charts = await google.colab.kernel.invokeFunction(\n",
              "            'suggestCharts', [key], {});\n",
              "      } catch (error) {\n",
              "        console.error('Error during call to suggestCharts:', error);\n",
              "      }\n",
              "      quickchartButtonEl.classList.remove('colab-df-spinner');\n",
              "      quickchartButtonEl.classList.add('colab-df-quickchart-complete');\n",
              "    }\n",
              "    (() => {\n",
              "      let quickchartButtonEl =\n",
              "        document.querySelector('#df-3e923861-754c-4366-9eb6-d96d9aa74718 button');\n",
              "      quickchartButtonEl.style.display =\n",
              "        google.colab.kernel.accessAllowed ? 'block' : 'none';\n",
              "    })();\n",
              "  </script>\n",
              "</div>\n",
              "    </div>\n",
              "  </div>\n"
            ]
          },
          "metadata": {},
          "execution_count": 5
        }
      ]
    },
    {
      "cell_type": "markdown",
      "source": [
        "#5.Nettoyage des données"
      ],
      "metadata": {
        "id": "0C-efNf2YTys"
      }
    },
    {
      "cell_type": "code",
      "source": [
        "# Remove IDs\n",
        "df = data.drop(['osebuildingid', 'taxparcelidentificationnumber'], axis=1)"
      ],
      "metadata": {
        "id": "Ih8tPaANUf_Q"
      },
      "execution_count": 6,
      "outputs": []
    },
    {
      "cell_type": "markdown",
      "source": [
        "Les données de l'année 2019 contiennent une colonne supplémentaire, 'complianceissue', qui fait mieux comprendre à quoi correspond la feature 'compliancestatus' : Account Requires Verification, Missing 2019 EUI or Electricity Data, Portfolio Manager Account Not Shared, Default Data...\n",
        "https://www.opendatanetwork.com/dataset/data.seattle.gov/3th6-ticf\n",
        "\n",
        "Pour obtenir une modélisation plus fiable, nous pouvons donc supprimer toutes les lignes correspondant aux bâtiments ayant un statut autre que 'Compliant'. Cela nous permettra également de supprimer la colonne 'defaultdata'."
      ],
      "metadata": {
        "id": "7dSvhPKOikpX"
      }
    },
    {
      "cell_type": "code",
      "source": [
        "df = df[df['compliancestatus'] == 'Compliant']\n",
        "df['defaultdata'].value_counts()"
      ],
      "metadata": {
        "colab": {
          "base_uri": "https://localhost:8080/"
        },
        "id": "fS1PDJKy1MxQ",
        "outputId": "b0b257b9-4e27-4959-af14-e2c2fdc450ad"
      },
      "execution_count": 7,
      "outputs": [
        {
          "output_type": "execute_result",
          "data": {
            "text/plain": [
              "False    3211\n",
              "Name: defaultdata, dtype: int64"
            ]
          },
          "metadata": {},
          "execution_count": 7
        }
      ]
    },
    {
      "cell_type": "code",
      "source": [
        "df.drop(['defaultdata', 'compliancestatus'], axis=1, inplace=True)"
      ],
      "metadata": {
        "id": "4T6BJwCc7xzB"
      },
      "execution_count": 8,
      "outputs": []
    },
    {
      "cell_type": "code",
      "source": [
        "# Drop all rows where the 'outlier' column is not null\n",
        "df.drop(index=df[df['outlier'].notna()].index, inplace=True)\n",
        "df.drop(['outlier'], axis=1, inplace=True)\n",
        "df.info()"
      ],
      "metadata": {
        "colab": {
          "base_uri": "https://localhost:8080/"
        },
        "id": "LrjKq6UTyu3_",
        "outputId": "da29143f-7778-4ab1-d040-3f18a600a7ac"
      },
      "execution_count": 9,
      "outputs": [
        {
          "output_type": "stream",
          "name": "stdout",
          "text": [
            "<class 'pandas.core.frame.DataFrame'>\n",
            "Int64Index: 3211 entries, 0 to 3375\n",
            "Data columns (total 32 columns):\n",
            " #   Column                           Non-Null Count  Dtype  \n",
            "---  ------                           --------------  -----  \n",
            " 0   buildingtype                     3211 non-null   object \n",
            " 1   primarypropertytype              3211 non-null   object \n",
            " 2   zipcode                          3198 non-null   float64\n",
            " 3   councildistrictcode              3211 non-null   int64  \n",
            " 4   neighborhood                     3211 non-null   object \n",
            " 5   latitude                         3211 non-null   float64\n",
            " 6   longitude                        3211 non-null   float64\n",
            " 7   yearbuilt                        3211 non-null   int64  \n",
            " 8   numberofbuildings                3208 non-null   float64\n",
            " 9   numberoffloors                   3211 non-null   int64  \n",
            " 10  propertygfatotal                 3211 non-null   int64  \n",
            " 11  propertygfaparking               3211 non-null   int64  \n",
            " 12  propertygfabuilding_s            3211 non-null   int64  \n",
            " 13  listofallpropertyusetypes        3207 non-null   object \n",
            " 14  largestpropertyusetype           3207 non-null   object \n",
            " 15  largestpropertyusetypegfa        3196 non-null   float64\n",
            " 16  secondlargestpropertyusetype     1658 non-null   object \n",
            " 17  secondlargestpropertyusetypegfa  0 non-null      object \n",
            " 18  thirdlargestpropertyusetype      594 non-null    object \n",
            " 19  thirdlargestpropertyusetypegfa   583 non-null    float64\n",
            " 20  yearsenergystarcertified         118 non-null    float64\n",
            " 21  energystarscore                  2407 non-null   object \n",
            " 22  siteeui_kbtu_sf                  3211 non-null   float64\n",
            " 23  siteeuiwn_kbtu_sf                3210 non-null   float64\n",
            " 24  sourceeui_kbtu_sf                3207 non-null   float64\n",
            " 25  sourceeuiwn_kbtu_sf              3207 non-null   float64\n",
            " 26  siteenergyuse_kbtu               3211 non-null   float64\n",
            " 27  siteenergyusewn_kbtu             3210 non-null   float64\n",
            " 28  steamuse_kbtu                    3207 non-null   float64\n",
            " 29  electricity_kbtu                 3207 non-null   float64\n",
            " 30  naturalgas_kbtu                  3207 non-null   float64\n",
            " 31  totalghgemissions                3207 non-null   float64\n",
            "dtypes: float64(17), int64(6), object(9)\n",
            "memory usage: 827.8+ KB\n"
          ]
        }
      ]
    },
    {
      "cell_type": "code",
      "source": [
        "# Impute 'zipcode' missing values from 'latitude' and 'longitude'\n",
        "location = ['zipcode', 'latitude', 'longitude']\n",
        "dfl = df[location]\n",
        "dfl = pd.DataFrame(data=KNNImputer(n_neighbors=10).fit_transform(dfl), index=df.index, columns=location)\n",
        "df = df.drop(columns=location).join(dfl)"
      ],
      "metadata": {
        "id": "CXIV1PiRGHw4"
      },
      "execution_count": 10,
      "outputs": []
    },
    {
      "cell_type": "code",
      "source": [
        "df['neighborhood'].value_counts()"
      ],
      "metadata": {
        "colab": {
          "base_uri": "https://localhost:8080/"
        },
        "id": "pBAE8w4Uulft",
        "outputId": "5065b06f-e8b1-4e10-eb6d-315329b417b8"
      },
      "execution_count": 11,
      "outputs": [
        {
          "output_type": "execute_result",
          "data": {
            "text/plain": [
              "DOWNTOWN                  556\n",
              "EAST                      440\n",
              "MAGNOLIA / QUEEN ANNE     412\n",
              "GREATER DUWAMISH          357\n",
              "NORTHEAST                 266\n",
              "LAKE UNION                244\n",
              "NORTHWEST                 198\n",
              "SOUTHWEST                 149\n",
              "NORTH                     136\n",
              "BALLARD                   120\n",
              "CENTRAL                    95\n",
              "SOUTHEAST                  78\n",
              "DELRIDGE                   73\n",
              "North                      40\n",
              "Central                    26\n",
              "Northwest                  10\n",
              "Ballard                     6\n",
              "Delridge                    4\n",
              "DELRIDGE NEIGHBORHOODS      1\n",
              "Name: neighborhood, dtype: int64"
            ]
          },
          "metadata": {},
          "execution_count": 11
        }
      ]
    },
    {
      "cell_type": "code",
      "source": [
        "# Fix the case and replace duplicates\n",
        "df['neighborhood'] = df['neighborhood'].str.upper()\n",
        "df['neighborhood'] = df['neighborhood'].str.replace('DELRIDGE NEIGHBORHOODS','DELRIDGE')\n",
        "df['neighborhood'].value_counts()"
      ],
      "metadata": {
        "colab": {
          "base_uri": "https://localhost:8080/"
        },
        "id": "eUSRJrBKwjUS",
        "outputId": "71051000-efa8-40ab-ab21-f8b7567b83c2"
      },
      "execution_count": 12,
      "outputs": [
        {
          "output_type": "execute_result",
          "data": {
            "text/plain": [
              "DOWNTOWN                 556\n",
              "EAST                     440\n",
              "MAGNOLIA / QUEEN ANNE    412\n",
              "GREATER DUWAMISH         357\n",
              "NORTHEAST                266\n",
              "LAKE UNION               244\n",
              "NORTHWEST                208\n",
              "NORTH                    176\n",
              "SOUTHWEST                149\n",
              "BALLARD                  126\n",
              "CENTRAL                  121\n",
              "SOUTHEAST                 78\n",
              "DELRIDGE                  78\n",
              "Name: neighborhood, dtype: int64"
            ]
          },
          "metadata": {},
          "execution_count": 12
        }
      ]
    },
    {
      "cell_type": "code",
      "source": [
        "# Fix 'energystarscore'\n",
        "df['energystarscore'] = df['energystarscore'].replace(\"NULL\", None)\n",
        "df['energystarscore'] = df['energystarscore'].astype('object')"
      ],
      "metadata": {
        "id": "g7a0nLbSJNmn"
      },
      "execution_count": 13,
      "outputs": []
    },
    {
      "cell_type": "code",
      "source": [
        "# Drop columns with too many missing values\n",
        "threshold = 70 # minimum percentage of non-null cells in each column\n",
        "for column in df.columns:\n",
        "  if df[column].isnull().sum() / len(df) *100 > (100 - threshold):\n",
        "      df.drop([column], axis=1, inplace=True)\n",
        "df.info()"
      ],
      "metadata": {
        "colab": {
          "base_uri": "https://localhost:8080/"
        },
        "id": "klQ-Kb5P4X2D",
        "outputId": "52531ebf-1af5-4a43-cb2a-4277a90cb6e0"
      },
      "execution_count": 14,
      "outputs": [
        {
          "output_type": "stream",
          "name": "stdout",
          "text": [
            "<class 'pandas.core.frame.DataFrame'>\n",
            "Int64Index: 3211 entries, 0 to 3375\n",
            "Data columns (total 27 columns):\n",
            " #   Column                     Non-Null Count  Dtype  \n",
            "---  ------                     --------------  -----  \n",
            " 0   buildingtype               3211 non-null   object \n",
            " 1   primarypropertytype        3211 non-null   object \n",
            " 2   councildistrictcode        3211 non-null   int64  \n",
            " 3   neighborhood               3211 non-null   object \n",
            " 4   yearbuilt                  3211 non-null   int64  \n",
            " 5   numberofbuildings          3208 non-null   float64\n",
            " 6   numberoffloors             3211 non-null   int64  \n",
            " 7   propertygfatotal           3211 non-null   int64  \n",
            " 8   propertygfaparking         3211 non-null   int64  \n",
            " 9   propertygfabuilding_s      3211 non-null   int64  \n",
            " 10  listofallpropertyusetypes  3207 non-null   object \n",
            " 11  largestpropertyusetype     3207 non-null   object \n",
            " 12  largestpropertyusetypegfa  3196 non-null   float64\n",
            " 13  energystarscore            2399 non-null   object \n",
            " 14  siteeui_kbtu_sf            3211 non-null   float64\n",
            " 15  siteeuiwn_kbtu_sf          3210 non-null   float64\n",
            " 16  sourceeui_kbtu_sf          3207 non-null   float64\n",
            " 17  sourceeuiwn_kbtu_sf        3207 non-null   float64\n",
            " 18  siteenergyuse_kbtu         3211 non-null   float64\n",
            " 19  siteenergyusewn_kbtu       3210 non-null   float64\n",
            " 20  steamuse_kbtu              3207 non-null   float64\n",
            " 21  electricity_kbtu           3207 non-null   float64\n",
            " 22  naturalgas_kbtu            3207 non-null   float64\n",
            " 23  totalghgemissions          3207 non-null   float64\n",
            " 24  zipcode                    3211 non-null   float64\n",
            " 25  latitude                   3211 non-null   float64\n",
            " 26  longitude                  3211 non-null   float64\n",
            "dtypes: float64(15), int64(6), object(6)\n",
            "memory usage: 831.4+ KB\n"
          ]
        }
      ]
    },
    {
      "cell_type": "code",
      "source": [
        "# Remove '_s' to help retrieving feature names after the OneHotEncoder\n",
        "df.rename(columns={'propertygfabuilding_s': 'propertygfabuilding'}, inplace=True)"
      ],
      "metadata": {
        "id": "PsYcsGAKgdfy"
      },
      "execution_count": 15,
      "outputs": []
    },
    {
      "cell_type": "code",
      "source": [
        "# Change the feature types\n",
        "df['zipcode'] = df['zipcode'].astype('object')\n",
        "df['councildistrictcode'] = df['councildistrictcode'].astype('object')\n",
        "df['numberofbuildings'] = df['numberofbuildings'].astype('Int64')\n",
        "df['largestpropertyusetypegfa'] = df['largestpropertyusetypegfa'].astype('Int64')\n",
        "df.dtypes"
      ],
      "metadata": {
        "colab": {
          "base_uri": "https://localhost:8080/"
        },
        "id": "5qB_W7gprDKu",
        "outputId": "e63a6068-78d0-4c35-da3b-ed80ad623f03"
      },
      "execution_count": 16,
      "outputs": [
        {
          "output_type": "execute_result",
          "data": {
            "text/plain": [
              "buildingtype                  object\n",
              "primarypropertytype           object\n",
              "councildistrictcode           object\n",
              "neighborhood                  object\n",
              "yearbuilt                      int64\n",
              "numberofbuildings              Int64\n",
              "numberoffloors                 int64\n",
              "propertygfatotal               int64\n",
              "propertygfaparking             int64\n",
              "propertygfabuilding            int64\n",
              "listofallpropertyusetypes     object\n",
              "largestpropertyusetype        object\n",
              "largestpropertyusetypegfa      Int64\n",
              "energystarscore               object\n",
              "siteeui_kbtu_sf              float64\n",
              "siteeuiwn_kbtu_sf            float64\n",
              "sourceeui_kbtu_sf            float64\n",
              "sourceeuiwn_kbtu_sf          float64\n",
              "siteenergyuse_kbtu           float64\n",
              "siteenergyusewn_kbtu         float64\n",
              "steamuse_kbtu                float64\n",
              "electricity_kbtu             float64\n",
              "naturalgas_kbtu              float64\n",
              "totalghgemissions            float64\n",
              "zipcode                       object\n",
              "latitude                     float64\n",
              "longitude                    float64\n",
              "dtype: object"
            ]
          },
          "metadata": {},
          "execution_count": 16
        }
      ]
    },
    {
      "cell_type": "markdown",
      "source": [
        "#6.Feature Engineering"
      ],
      "metadata": {
        "id": "MvQvY9sKhF6U"
      }
    },
    {
      "cell_type": "markdown",
      "source": [
        "Pour faciliter la modélisation, nous allons calculer l'âge des bâtiments à partir de l'année de construction :"
      ],
      "metadata": {
        "id": "-ytu8BNLK8n1"
      }
    },
    {
      "cell_type": "code",
      "source": [
        "current_year = datetime.datetime.now().year\n",
        "df['age'] = df['yearbuilt'].apply(lambda x: current_year - x)\n",
        "df.drop(['yearbuilt'], axis=1, inplace=True)"
      ],
      "metadata": {
        "id": "E61JjLwEI_1G"
      },
      "execution_count": 17,
      "outputs": []
    },
    {
      "cell_type": "markdown",
      "source": [
        "Le brief indique que \"les relevés sont coûteux à obtenir\". Pour les remplacer, nous avons tenté un encodage ordinal qui note chaque bâtiment en fonction du type d'énergie consommée ou générée :\n",
        "\n",
        "2 si le bâtiment est générateur net\n",
        "\n",
        "1 si son solde est nul\n",
        "\n",
        "0 s'il est consommateur net\n",
        "\n",
        "Mais les données 2016 ne sont pas suffisamment bien distribuées pour que cette approche soit concluante. Au final, c'est un traitement catégorique de type OneHot qui donne les meilleurs résultats :"
      ],
      "metadata": {
        "id": "VQQai637C-fM"
      }
    },
    {
      "cell_type": "code",
      "source": [
        "def energy_usage(cell):\n",
        "    if cell > 0:\n",
        "      return 'Yes'\n",
        "    else:\n",
        "      return 'No'\n",
        "df['steamuse_kbtu'] = df['steamuse_kbtu'].apply(energy_usage)\n",
        "df['electricity_kbtu'] = df['electricity_kbtu'].apply(energy_usage)\n",
        "df['naturalgas_kbtu'] = df['naturalgas_kbtu'].apply(energy_usage)\n",
        "df.rename(columns={'steamuse_kbtu': 'steam'}, inplace=True)\n",
        "df.rename(columns={'electricity_kbtu': 'electricity'}, inplace=True)\n",
        "df.rename(columns={'naturalgas_kbtu': 'naturalgas'}, inplace=True)\n",
        "df.info()"
      ],
      "metadata": {
        "colab": {
          "base_uri": "https://localhost:8080/"
        },
        "id": "XtAddE0Fa88g",
        "outputId": "6a275dfd-c431-432f-a8a6-870d16434896"
      },
      "execution_count": 18,
      "outputs": [
        {
          "output_type": "stream",
          "name": "stdout",
          "text": [
            "<class 'pandas.core.frame.DataFrame'>\n",
            "Int64Index: 3211 entries, 0 to 3375\n",
            "Data columns (total 27 columns):\n",
            " #   Column                     Non-Null Count  Dtype  \n",
            "---  ------                     --------------  -----  \n",
            " 0   buildingtype               3211 non-null   object \n",
            " 1   primarypropertytype        3211 non-null   object \n",
            " 2   councildistrictcode        3211 non-null   object \n",
            " 3   neighborhood               3211 non-null   object \n",
            " 4   numberofbuildings          3208 non-null   Int64  \n",
            " 5   numberoffloors             3211 non-null   int64  \n",
            " 6   propertygfatotal           3211 non-null   int64  \n",
            " 7   propertygfaparking         3211 non-null   int64  \n",
            " 8   propertygfabuilding        3211 non-null   int64  \n",
            " 9   listofallpropertyusetypes  3207 non-null   object \n",
            " 10  largestpropertyusetype     3207 non-null   object \n",
            " 11  largestpropertyusetypegfa  3196 non-null   Int64  \n",
            " 12  energystarscore            2399 non-null   object \n",
            " 13  siteeui_kbtu_sf            3211 non-null   float64\n",
            " 14  siteeuiwn_kbtu_sf          3210 non-null   float64\n",
            " 15  sourceeui_kbtu_sf          3207 non-null   float64\n",
            " 16  sourceeuiwn_kbtu_sf        3207 non-null   float64\n",
            " 17  siteenergyuse_kbtu         3211 non-null   float64\n",
            " 18  siteenergyusewn_kbtu       3210 non-null   float64\n",
            " 19  steam                      3211 non-null   object \n",
            " 20  electricity                3211 non-null   object \n",
            " 21  naturalgas                 3211 non-null   object \n",
            " 22  totalghgemissions          3207 non-null   float64\n",
            " 23  zipcode                    3211 non-null   object \n",
            " 24  latitude                   3211 non-null   float64\n",
            " 25  longitude                  3211 non-null   float64\n",
            " 26  age                        3211 non-null   int64  \n",
            "dtypes: Int64(2), float64(9), int64(5), object(11)\n",
            "memory usage: 837.7+ KB\n"
          ]
        }
      ]
    },
    {
      "cell_type": "markdown",
      "source": [
        "#7.Target Engineering"
      ],
      "metadata": {
        "id": "ZafQs1jD8v1A"
      }
    },
    {
      "cell_type": "markdown",
      "source": [
        "Scikit-learn propose deux solutions pour gérer les targets multiples :\n",
        "- MultiOutputRegressor si les variables sont traitées de façon indépendante.\n",
        "- RegressorChain si elles sont dépendantes.\n",
        "\n",
        "https://scikit-learn.org/stable/modules/multiclass.html\n",
        "\n",
        "Il y a une corrélation élevée entre 'siteenergyuse_kbtu' et 'totalghgemissions', donc nous choisirons la seconde option. Mais nous pouvons aller plus loin en incluant dans les targets toutes les variables relatives à la consommation énergétique : il est possible que le modèle s'améliore progressivement en cherchant à les prédire.\n",
        "\n",
        "Nous allons également créer une variable qui va décrire un bâtiment en fonction du ratio source/site en valeur normalisée :"
      ],
      "metadata": {
        "id": "odvbyaT5ZPTa"
      }
    },
    {
      "cell_type": "code",
      "source": [
        "df['source_site'] = df['sourceeuiwn_kbtu_sf'] / df['siteeuiwn_kbtu_sf']\n",
        "df['source_site'].describe()"
      ],
      "metadata": {
        "colab": {
          "base_uri": "https://localhost:8080/"
        },
        "id": "aRTnM0Alh9Gf",
        "outputId": "5a75d221-e54d-4cbc-c2af-0176f5940353"
      },
      "execution_count": 19,
      "outputs": [
        {
          "output_type": "execute_result",
          "data": {
            "text/plain": [
              "count    3195.000000\n",
              "mean        2.560808\n",
              "std         0.629469\n",
              "min        -0.420000\n",
              "25%         2.121451\n",
              "50%         2.649485\n",
              "75%         3.138501\n",
              "max        13.211111\n",
              "Name: source_site, dtype: float64"
            ]
          },
          "metadata": {},
          "execution_count": 19
        }
      ]
    },
    {
      "cell_type": "markdown",
      "source": [
        "Les deux variables suivantes vont exposer les variations météorologiques afin que le modèle puisse plus facilement inférer 'siteenergyuse_kbtu' à partir de  'siteenergyusewn_kbtu'."
      ],
      "metadata": {
        "id": "mJ9L9zw8NCn3"
      }
    },
    {
      "cell_type": "code",
      "source": [
        "df['source_wn'] = df['sourceeuiwn_kbtu_sf'] / df['sourceeui_kbtu_sf']\n",
        "df['source_wn'].describe()"
      ],
      "metadata": {
        "colab": {
          "base_uri": "https://localhost:8080/"
        },
        "id": "YLQpfan2bu0X",
        "outputId": "a58364f6-195c-44bf-e92d-fbbf863610fe"
      },
      "execution_count": 20,
      "outputs": [
        {
          "output_type": "execute_result",
          "data": {
            "text/plain": [
              "count    3201.000000\n",
              "mean        1.038982\n",
              "std         0.081679\n",
              "min        -1.050000\n",
              "25%         1.014719\n",
              "50%         1.042604\n",
              "75%         1.066225\n",
              "max         1.206434\n",
              "Name: source_wn, dtype: float64"
            ]
          },
          "metadata": {},
          "execution_count": 20
        }
      ]
    },
    {
      "cell_type": "code",
      "source": [
        "df['site_wn'] = df['siteeuiwn_kbtu_sf'] / df['siteeui_kbtu_sf']\n",
        "df['site_wn'].describe()"
      ],
      "metadata": {
        "colab": {
          "base_uri": "https://localhost:8080/"
        },
        "id": "Yrztr8tWR2yd",
        "outputId": "abdd621c-7527-4e7b-dbd3-2c6bc8f130d3"
      },
      "execution_count": 21,
      "outputs": [
        {
          "output_type": "execute_result",
          "data": {
            "text/plain": [
              "count    3210.000000\n",
              "mean        1.051669\n",
              "std         0.075259\n",
              "min         0.000000\n",
              "25%         1.025888\n",
              "50%         1.051652\n",
              "75%         1.076923\n",
              "max         1.275000\n",
              "Name: site_wn, dtype: float64"
            ]
          },
          "metadata": {},
          "execution_count": 21
        }
      ]
    },
    {
      "cell_type": "markdown",
      "source": [
        "Maintenant que ces deux targets ont été créées, nous pouvons nous passer des valeurs non normalisées :"
      ],
      "metadata": {
        "id": "aSgZEcHPSwV9"
      }
    },
    {
      "cell_type": "code",
      "source": [
        "df.drop(['sourceeui_kbtu_sf', 'siteeui_kbtu_sf'], axis=1, inplace=True)"
      ],
      "metadata": {
        "id": "rD5F9xdPS2W8"
      },
      "execution_count": 22,
      "outputs": []
    },
    {
      "cell_type": "markdown",
      "source": [
        "Il reste à déterminer la chronologie des targets dans le RegressorChain.\n",
        "\n",
        " Les émissions de CO2 constituent la variable la plus difficile à déterminer, donc la target 'totalghgemissions' sera placée en dernier. Juste avant, nous aurons l'autre variable que nous souhaitons réellement prédire, 'siteenergyuse_kbtu', précédée par sa petite sœur, 'siteenergyusewn_kbtu', qui devrait être légèrement plus facile parce que le lissage dans le temps lui permet d'échapper aux aléas climatiques.\n",
        "\n",
        "Il vaut mieux placer les targets 'source_wn', 'site_wn' et 'source_site' après les variables dont elles sont dérivées, afin qu'elles bénéficient d'une prédiction de base."
      ],
      "metadata": {
        "id": "LyuPg7dJkkC0"
      }
    },
    {
      "cell_type": "code",
      "source": [
        "targets = ['sourceeuiwn_kbtu_sf', 'source_wn', 'siteeuiwn_kbtu_sf', 'site_wn', 'source_site', 'siteenergyusewn_kbtu', 'siteenergyuse_kbtu', 'totalghgemissions']"
      ],
      "metadata": {
        "id": "Tk2GYMk12W9w"
      },
      "execution_count": 23,
      "outputs": []
    },
    {
      "cell_type": "markdown",
      "source": [
        "Dans la mesure où il n'y a pas de catégorie spécifique pour les bâtiments qui sont générateurs d'énergie, les valeurs négatives peuvent être ramenées à zéro, ce qui permettra d'appliquer une transformation log si nécessaire."
      ],
      "metadata": {
        "id": "FHxhO4f_gpcw"
      }
    },
    {
      "cell_type": "code",
      "source": [
        "def transform_negatives(cell):\n",
        "    if cell < 0:\n",
        "      return 0\n",
        "    else:\n",
        "      return cell\n",
        "for target in targets:\n",
        "    df[target] = df[target].apply(transform_negatives)\n",
        "df.info()"
      ],
      "metadata": {
        "id": "vABNBEykg3JI",
        "colab": {
          "base_uri": "https://localhost:8080/"
        },
        "outputId": "76219f99-de2a-4801-d7ae-890d75e32e62"
      },
      "execution_count": 24,
      "outputs": [
        {
          "output_type": "stream",
          "name": "stdout",
          "text": [
            "<class 'pandas.core.frame.DataFrame'>\n",
            "Int64Index: 3211 entries, 0 to 3375\n",
            "Data columns (total 28 columns):\n",
            " #   Column                     Non-Null Count  Dtype  \n",
            "---  ------                     --------------  -----  \n",
            " 0   buildingtype               3211 non-null   object \n",
            " 1   primarypropertytype        3211 non-null   object \n",
            " 2   councildistrictcode        3211 non-null   object \n",
            " 3   neighborhood               3211 non-null   object \n",
            " 4   numberofbuildings          3208 non-null   Int64  \n",
            " 5   numberoffloors             3211 non-null   int64  \n",
            " 6   propertygfatotal           3211 non-null   int64  \n",
            " 7   propertygfaparking         3211 non-null   int64  \n",
            " 8   propertygfabuilding        3211 non-null   int64  \n",
            " 9   listofallpropertyusetypes  3207 non-null   object \n",
            " 10  largestpropertyusetype     3207 non-null   object \n",
            " 11  largestpropertyusetypegfa  3196 non-null   Int64  \n",
            " 12  energystarscore            2399 non-null   object \n",
            " 13  siteeuiwn_kbtu_sf          3210 non-null   float64\n",
            " 14  sourceeuiwn_kbtu_sf        3207 non-null   float64\n",
            " 15  siteenergyuse_kbtu         3211 non-null   float64\n",
            " 16  siteenergyusewn_kbtu       3210 non-null   float64\n",
            " 17  steam                      3211 non-null   object \n",
            " 18  electricity                3211 non-null   object \n",
            " 19  naturalgas                 3211 non-null   object \n",
            " 20  totalghgemissions          3207 non-null   float64\n",
            " 21  zipcode                    3211 non-null   object \n",
            " 22  latitude                   3211 non-null   float64\n",
            " 23  longitude                  3211 non-null   float64\n",
            " 24  age                        3211 non-null   int64  \n",
            " 25  source_site                3195 non-null   float64\n",
            " 26  source_wn                  3201 non-null   float64\n",
            " 27  site_wn                    3210 non-null   float64\n",
            "dtypes: Int64(2), float64(10), int64(5), object(11)\n",
            "memory usage: 862.8+ KB\n"
          ]
        }
      ]
    },
    {
      "cell_type": "code",
      "source": [
        "# Remove the few rows where target values are missing\n",
        "df.dropna(subset=['sourceeuiwn_kbtu_sf'], inplace=True)\n",
        "df.dropna(subset=['source_wn'], inplace=True)\n",
        "df.dropna(subset=['siteeuiwn_kbtu_sf'], inplace=True)\n",
        "df.dropna(subset=['site_wn'], inplace=True)\n",
        "df.dropna(subset=['source_site'], inplace=True)\n",
        "df.dropna(subset=['siteenergyusewn_kbtu'], inplace=True)\n",
        "df.dropna(subset=['siteenergyuse_kbtu'], inplace=True)\n",
        "df.dropna(subset=['totalghgemissions'], inplace=True)"
      ],
      "metadata": {
        "id": "LpKXE6yYhkAv"
      },
      "execution_count": 25,
      "outputs": []
    },
    {
      "cell_type": "markdown",
      "source": [
        "#8.Data Profiling"
      ],
      "metadata": {
        "id": "FyR8HU3BFLvF"
      }
    },
    {
      "cell_type": "code",
      "source": [
        "# Fix for the Google Colab bug \"ValueError: Only supported for TrueType fonts\"\n",
        "# The report gets generated externally by the profiling.py file\n",
        "df.to_csv('co2_eda.csv', index=False)\n",
        "files.download('co2_eda.csv')"
      ],
      "metadata": {
        "id": "7ep8ZDRYtrwX",
        "colab": {
          "base_uri": "https://localhost:8080/",
          "height": 17
        },
        "outputId": "4e445656-6f1d-44c5-a8b9-5f40a69467e4"
      },
      "execution_count": 26,
      "outputs": [
        {
          "output_type": "display_data",
          "data": {
            "text/plain": [
              "<IPython.core.display.Javascript object>"
            ],
            "application/javascript": [
              "\n",
              "    async function download(id, filename, size) {\n",
              "      if (!google.colab.kernel.accessAllowed) {\n",
              "        return;\n",
              "      }\n",
              "      const div = document.createElement('div');\n",
              "      const label = document.createElement('label');\n",
              "      label.textContent = `Downloading \"${filename}\": `;\n",
              "      div.appendChild(label);\n",
              "      const progress = document.createElement('progress');\n",
              "      progress.max = size;\n",
              "      div.appendChild(progress);\n",
              "      document.body.appendChild(div);\n",
              "\n",
              "      const buffers = [];\n",
              "      let downloaded = 0;\n",
              "\n",
              "      const channel = await google.colab.kernel.comms.open(id);\n",
              "      // Send a message to notify the kernel that we're ready.\n",
              "      channel.send({})\n",
              "\n",
              "      for await (const message of channel.messages) {\n",
              "        // Send a message to notify the kernel that we're ready.\n",
              "        channel.send({})\n",
              "        if (message.buffers) {\n",
              "          for (const buffer of message.buffers) {\n",
              "            buffers.push(buffer);\n",
              "            downloaded += buffer.byteLength;\n",
              "            progress.value = downloaded;\n",
              "          }\n",
              "        }\n",
              "      }\n",
              "      const blob = new Blob(buffers, {type: 'application/binary'});\n",
              "      const a = document.createElement('a');\n",
              "      a.href = window.URL.createObjectURL(blob);\n",
              "      a.download = filename;\n",
              "      div.appendChild(a);\n",
              "      a.click();\n",
              "      div.remove();\n",
              "    }\n",
              "  "
            ]
          },
          "metadata": {}
        },
        {
          "output_type": "display_data",
          "data": {
            "text/plain": [
              "<IPython.core.display.Javascript object>"
            ],
            "application/javascript": [
              "download(\"download_1095e028-f4cb-4806-8986-21b40434e657\", \"co2_eda.csv\", 848952)"
            ]
          },
          "metadata": {}
        }
      ]
    },
    {
      "cell_type": "markdown",
      "source": [
        "L'intégralité du rapport est disponible sur https://seabeb.azurewebsites.net/dashboard (ou http://127.0.0.1:8000/dashboard si la web app est arrêtée)."
      ],
      "metadata": {
        "id": "Z2U_0KqWHrGg"
      }
    },
    {
      "cell_type": "markdown",
      "source": [
        "La rubrique \"Interactions\" montre que les émissions de CO2 tendent à croître avec le score ENERGY STAR, ce qui représente un résultat surprenant. Nous verrons dans la partie modélisation si ce score peut nous aider à obtenir de bonnes prédictions.\n",
        "\n",
        "Les émissions semblent concentrées dans le District 7, qui correspond à Downtown et South Lake Union. Mais une analyse par neighborhood permet de détecter des zones où le niveau de pollution est encore plus problématique (cf. graphique de la section 10)."
      ],
      "metadata": {
        "id": "P_s-3p4EVkDk"
      }
    },
    {
      "cell_type": "markdown",
      "source": [
        "#9.Sélection des features\n",
        "\n",
        "Idéalement, cette tâche pourrait être effectuée automatiquement avec [RFECV](https://scikit-learn.org/stable/modules/generated/sklearn.feature_selection.RFECV.html), mais cet algorithme requiert des ressources très élevées et la tentative effectuée avec LightGBM offre le strict minimum : en ne conservant que les features recommandées, on obtient un score légèrement moins bon (.tests/lightgbm_rfecv.ipynb).\n",
        "\n",
        "A la place, nous allons effectuer une première sélection sur des bases staistiques, puis XGBoost et sa régularisation L1 nous aideront à progresser.\n",
        "\n",
        "La variable 'electricity' peut être négligée parce qu'elle est fortement corrélée à la nouvelle feature 'source_wn' et présente un grand déséquilibre.\n",
        "\n",
        "La variable 'primarypropertytype' sera préférée à 'buildingtype' parce qu'elle est davantage corrélée avec les targets. Pour la même raison, nous choisirons 'propertygfatotal' à la place de 'propertygfabuilding' ou 'largestpropertyusetypegfa'.\n",
        "\n",
        "Une tentative de géo-clustering (.tests/geo_clusters.ipynb) semble indiquer que la localisation ne représente pas un facteur majeur dans la prédiction. Parmi toutes les variables de ce type qui sont plus ou moins corrélées, 'councildistrictcode' apparaît comme la plus utile."
      ],
      "metadata": {
        "id": "71cCVl1UNble"
      }
    },
    {
      "cell_type": "code",
      "source": [
        "df_stats = df.drop(['electricity', 'buildingtype', 'propertygfabuilding', 'largestpropertyusetypegfa', 'neighborhood', 'zipcode', 'latitude', 'longitude'], axis=1)\n",
        "df_stats.info()"
      ],
      "metadata": {
        "colab": {
          "base_uri": "https://localhost:8080/"
        },
        "id": "4BnjoWRWDhMG",
        "outputId": "ad2046d8-1291-42fc-bcb2-e1cd557bb2a8"
      },
      "execution_count": 27,
      "outputs": [
        {
          "output_type": "stream",
          "name": "stdout",
          "text": [
            "<class 'pandas.core.frame.DataFrame'>\n",
            "Int64Index: 3189 entries, 0 to 3375\n",
            "Data columns (total 20 columns):\n",
            " #   Column                     Non-Null Count  Dtype  \n",
            "---  ------                     --------------  -----  \n",
            " 0   primarypropertytype        3189 non-null   object \n",
            " 1   councildistrictcode        3189 non-null   object \n",
            " 2   numberofbuildings          3189 non-null   Int64  \n",
            " 3   numberoffloors             3189 non-null   int64  \n",
            " 4   propertygfatotal           3189 non-null   int64  \n",
            " 5   propertygfaparking         3189 non-null   int64  \n",
            " 6   listofallpropertyusetypes  3189 non-null   object \n",
            " 7   largestpropertyusetype     3189 non-null   object \n",
            " 8   energystarscore            2386 non-null   object \n",
            " 9   siteeuiwn_kbtu_sf          3189 non-null   float64\n",
            " 10  sourceeuiwn_kbtu_sf        3189 non-null   float64\n",
            " 11  siteenergyuse_kbtu         3189 non-null   float64\n",
            " 12  siteenergyusewn_kbtu       3189 non-null   float64\n",
            " 13  steam                      3189 non-null   object \n",
            " 14  naturalgas                 3189 non-null   object \n",
            " 15  totalghgemissions          3189 non-null   float64\n",
            " 16  age                        3189 non-null   int64  \n",
            " 17  source_site                3189 non-null   float64\n",
            " 18  source_wn                  3189 non-null   float64\n",
            " 19  site_wn                    3189 non-null   float64\n",
            "dtypes: Int64(1), float64(8), int64(4), object(7)\n",
            "memory usage: 526.3+ KB\n"
          ]
        }
      ]
    },
    {
      "cell_type": "code",
      "source": [
        "# CSV export\n",
        "df_stats.to_csv('co2_predictions.csv', index=False)\n",
        "files.download('co2_predictions.csv')"
      ],
      "metadata": {
        "id": "B9LRLoa5DxMT",
        "colab": {
          "base_uri": "https://localhost:8080/",
          "height": 17
        },
        "outputId": "88eb586e-048d-4227-bba7-957e368b9321"
      },
      "execution_count": 28,
      "outputs": [
        {
          "output_type": "display_data",
          "data": {
            "text/plain": [
              "<IPython.core.display.Javascript object>"
            ],
            "application/javascript": [
              "\n",
              "    async function download(id, filename, size) {\n",
              "      if (!google.colab.kernel.accessAllowed) {\n",
              "        return;\n",
              "      }\n",
              "      const div = document.createElement('div');\n",
              "      const label = document.createElement('label');\n",
              "      label.textContent = `Downloading \"${filename}\": `;\n",
              "      div.appendChild(label);\n",
              "      const progress = document.createElement('progress');\n",
              "      progress.max = size;\n",
              "      div.appendChild(progress);\n",
              "      document.body.appendChild(div);\n",
              "\n",
              "      const buffers = [];\n",
              "      let downloaded = 0;\n",
              "\n",
              "      const channel = await google.colab.kernel.comms.open(id);\n",
              "      // Send a message to notify the kernel that we're ready.\n",
              "      channel.send({})\n",
              "\n",
              "      for await (const message of channel.messages) {\n",
              "        // Send a message to notify the kernel that we're ready.\n",
              "        channel.send({})\n",
              "        if (message.buffers) {\n",
              "          for (const buffer of message.buffers) {\n",
              "            buffers.push(buffer);\n",
              "            downloaded += buffer.byteLength;\n",
              "            progress.value = downloaded;\n",
              "          }\n",
              "        }\n",
              "      }\n",
              "      const blob = new Blob(buffers, {type: 'application/binary'});\n",
              "      const a = document.createElement('a');\n",
              "      a.href = window.URL.createObjectURL(blob);\n",
              "      a.download = filename;\n",
              "      div.appendChild(a);\n",
              "      a.click();\n",
              "      div.remove();\n",
              "    }\n",
              "  "
            ]
          },
          "metadata": {}
        },
        {
          "output_type": "display_data",
          "data": {
            "text/plain": [
              "<IPython.core.display.Javascript object>"
            ],
            "application/javascript": [
              "download(\"download_ea138a49-df17-4383-887c-480c36b57822\", \"co2_predictions.csv\", 614511)"
            ]
          },
          "metadata": {}
        }
      ]
    },
    {
      "cell_type": "markdown",
      "source": [
        "#10.Recommandations"
      ],
      "metadata": {
        "id": "dLju2vPvXZom"
      }
    },
    {
      "cell_type": "code",
      "source": [
        "import plotly.graph_objects as go\n",
        "import plotly.express as px\n",
        "\n",
        "fig = px.bar(df, x=\"neighborhood\", y=\"totalghgemissions\",\n",
        "             title=\"Aménagement des espaces verts\",\n",
        "             color=\"totalghgemissions\",\n",
        "             color_continuous_scale=\"greens\",\n",
        "             color_continuous_midpoint=0)\n",
        "\n",
        "# Add annotation for the conclusion\n",
        "fig.add_annotation(\n",
        "    xref='paper', yref='paper',\n",
        "    x=0.5, # Centered\n",
        "    y=-0.42,\n",
        "    text=\"A la place du centre-ville, privilégier l'Est et la zone industrielle de Duwamish.\",\n",
        "    showarrow=False,\n",
        "    font=dict(size=20, color='black')\n",
        ")\n",
        "\n",
        "fig.update_layout(\n",
        "    height=900,\n",
        "    xaxis_title=\"Neighborhood\",\n",
        "    xaxis=dict(\n",
        "        title_standoff=30,\n",
        "        showline=True,\n",
        "        linewidth=1,\n",
        "        linecolor='black',\n",
        "        mirror=True,\n",
        "        zeroline=False,\n",
        "        showgrid=False,\n",
        "        tickfont=dict(size=12),\n",
        "    ),\n",
        "    margin=dict(\n",
        "        t=120,  # Increase the top margin\n",
        "        b=260   # Increase the bottom margin\n",
        "    ),\n",
        "    title=dict(\n",
        "        x=0.5,\n",
        "        font=dict(size=30)\n",
        "    )\n",
        ")\n",
        "\n",
        "fig.show()\n",
        "fig.write_html('neighborhood.html')\n",
        "files.download('neighborhood.html')"
      ],
      "metadata": {
        "colab": {
          "base_uri": "https://localhost:8080/",
          "height": 917
        },
        "id": "EPI3PpUgz-3f",
        "outputId": "4493bdb3-47f5-4082-a470-f2576b8437e5"
      },
      "execution_count": 29,
      "outputs": [
        {
          "output_type": "display_data",
          "data": {
            "text/html": [
              "<html>\n",
              "<head><meta charset=\"utf-8\" /></head>\n",
              "<body>\n",
              "    <div>            <script src=\"https://cdnjs.cloudflare.com/ajax/libs/mathjax/2.7.5/MathJax.js?config=TeX-AMS-MML_SVG\"></script><script type=\"text/javascript\">if (window.MathJax && window.MathJax.Hub && window.MathJax.Hub.Config) {window.MathJax.Hub.Config({SVG: {font: \"STIX-Web\"}});}</script>                <script type=\"text/javascript\">window.PlotlyConfig = {MathJaxConfig: 'local'};</script>\n",
              "        <script charset=\"utf-8\" src=\"https://cdn.plot.ly/plotly-2.24.1.min.js\"></script>                <div id=\"f229feba-d51c-49ca-8c64-aff1ed32ecfb\" class=\"plotly-graph-div\" style=\"height:900px; width:100%;\"></div>            <script type=\"text/javascript\">                                    window.PLOTLYENV=window.PLOTLYENV || {};                                    if (document.getElementById(\"f229feba-d51c-49ca-8c64-aff1ed32ecfb\")) {                    Plotly.newPlot(                        \"f229feba-d51c-49ca-8c64-aff1ed32ecfb\",                        [{\"alignmentgroup\":\"True\",\"hovertemplate\":\"neighborhood=%{x}\\u003cbr\\u003etotalghgemissions=%{marker.color}\\u003cextra\\u003e\\u003c\\u002fextra\\u003e\",\"legendgroup\":\"\",\"marker\":{\"color\":[249.98,295.86,2089.28,286.43,505.01,301.81,176.14,221.51,392.16,151.12,691.26,740.97,328.23,648.62,511.39,181.38,433.86,802.89,273.02,349.32,1265.29,1699.45,90.01,388.04,9.13,256.57,328.63,128.44,157.77,215.0,3.93,16870.98,311.84,31.47,130.56,83.86,247.85,45.43,295.33,66.48,33.26,35.36,584.31,59.19,2451.58,134.38,227.18,144.79,199.95,162.39,152.76,146.34,171.64,87.98,1727.11,609.1,67.06,430.84,262.75,481.97,39.06,138.85,526.85,607.41,344.2,804.2,617.52,101.83,6.11,490.73,29.04,674.09,48.76,152.14,191.2,78.85,243.23,34.14,44.32,133.58,127.29,443.73,89.02,142.39,429.12,1990.5,176.75,46.26,228.4,74.33,866.23,222.02,204.08,61.21,100.46,104.26,129.39,222.78,422.39,2055.82,49.58,723.47,231.53,66.3,8145.52,83.7,51.11,362.82,69.44,297.43,35.78,369.14,272.85,59.34,48.99,309.6,225.69,3.0,338.16,175.77,208.26,28.27,892.63,96.43,27.39,1246.55,388.37,16.81,748.55,162.41,92.91,279.35,1638.46,4906.33,9.63,10734.57,193.94,145.31,72.88,469.57,49.09,84.57,149.93,57.21,254.87,433.6,50.52,59.63,23.8,101.41,661.04,1060.13,639.39,780.84,301.76,377.27,44.22,26.39,68.24,68.19,149.27,172.58,398.19,313.3,359.11,170.51,100.26,26.19,563.25,229.25,222.19,275.54,130.73,51.67,31.97,213.23,70.15,318.97,171.52,46.56,26.1,139.72,231.32,218.53,627.87,287.32,546.65,175.95,429.27,380.37,298.61,216.24,70.17,89.47,198.34,209.41,119.03,30.86,49.12,6.09,168.88,72.42,176.43,91.13,141.95,103.97,46.03,208.79,384.27,24.91,741.3,78.92,355.05,530.66,1084.79,337.97,2573.75,162.45,116.03,48.65,21.51,40.46,70.47,156.67,224.36,588.9,1510.85,530.18,193.72,36.61,131.4,65.2,51.14,1468.5,318.08,18.03,202.99,793.05,74.83,48.54,20.98,316.2,185.03,147.75,525.78,216.43,135.23,33.17,31.72,92.92,100.65,281.55,44.48,418.9,328.83,249.09,130.69,201.15,147.49,456.22,530.59,243.66,114.14,13.86,117.11,5.32,236.9,5.44,30.27,21.36,39.47,374.92,35.8,42.03,38.59,33.06,93.23,32.73,454.49,349.07,1268.87,20.86,326.18,40.47,269.71,849.83,22.57,61.93,29.53,632.4,94.64,3995.45,726.96,122.68,69.59,74.1,587.16,1019.53,23.81,25.32,24.35,477.87,77.99,163.83,22.44,1032.63,277.98,45.47,121.98,41.8,80.32,47.94,110.46,10.24,226.43,237.39,553.27,158.92,34.9,27.17,37.74,94.47,85.01,1623.34,53.57,17.17,32.22,120.24,8.15,413.35,3.25,25.58,33.18,53.25,2.8,237.36,59.21,42.65,76.68,10.72,3.62,46.93,28.63,6.32,38.48,204.81,152.71,32.02,74.31,142.36,414.43,272.54,54.92,190.61,38.55,90.24,49.17,85.28,262.45,247.35,33.85,42.25,63.89,35.8,129.29,293.55,46.49,44.35,22.1,57.73,58.88,49.28,33.22,34.0,58.67,611.19,295.48,91.1,1156.45,45.22,23.86,49.9,107.83,22.12,65.3,49.74,107.16,20.29,39.5,64.0,640.71,406.02,365.79,39.47,8.73,25.74,306.5,19.73,134.69,19.89,76.8,26.04,24.89,130.31,99.59,13.28,31.58,65.56,132.6,74.18,15.65,30.5,16.48,41.18,18.74,190.1,7.37,138.35,20.18,67.78,182.14,180.76,445.62,98.43,47.25,810.7,100.42,49.25,42.74,33.41,59.75,477.85,58.43,67.29,25.3,692.12,734.72,185.39,481.06,17.28,40.38,94.74,130.32,357.39,282.46,21.37,23.48,35.56,310.19,530.62,58.52,116.95,270.17,111.69,138.39,36.49,30.61,98.54,357.86,60.7,55.73,177.62,5.59,54.78,103.57,116.74,88.74,70.09,119.81,8.8,50.17,47.39,97.82,69.02,119.46,157.48,7.08,95.86,75.29,19.86,155.74,48.5,178.62,34.14,67.65,168.5,25.37,293.56,33.58,86.9,710.7,61.86,38.21,47.82,314.43,1154.79,68.06,65.03,260.13,119.93,147.82,246.83,346.62,1921.82,882.56,110.7,582.28,109.85,324.25,150.88,133.8,27.82,54.4,20.12,426.39,639.72,132.71,119.03,41.8,13.72,169.06,264.78,89.41,9.31,31.43,390.67,94.59,51.56,30.35,73.58,179.45,89.94,111.23,46.52,152.28,60.92,13.61,75.12,1.06,131.64,89.53,158.55,119.92,195.43,166.13,99.14,455.39,29.16,67.51,74.45,24.12,4.22,4.2,106.12,95.03,79.39,110.41,20.94,69.3,27.24,12307.16,406.04,20.85,133.5,54.18,14.49,453.76,341.23,278.97,7.56,284.01,295.12,109.71,259.49,13.07,189.85,134.82,16.27,267.0,13.51,49.29,128.73,5.03,8.14,25.6,4.85,343.68,12.15,6.02,65.25,4.75,31.74,95.26,62.17,60.18,30.52,11.29,24.39,276.63,17.87,101.5,3.91,36.02,63.86,44.01,38.9,16.11,13.23,43.84,4.74,53.21,3.18,6.72,25.6,4.58,19.01,21.69,122.83,86.46,3.58,77.04,2.41,2.57,4.16,43.2,416.07,4.43,21.93,62.46,16.01,22.65,37.78,9.77,9.47,130.28,50.55,113.91,106.77,30.41,6.74,28.47,66.44,6.1,18.6,29.04,29.33,29.71,50.46,69.57,80.47,29.84,169.75,7.77,16.58,132.47,17.02,5.71,3.99,4.43,2.7,63.48,4.29,7.02,51.58,207.6,29.62,141.2,374.56,18.5,9.82,42.19,63.36,138.03,6.43,52.25,54.59,25.24,19.83,24.02,31.76,7.13,3.95,43.8,154.4,9.58,32.51,6.87,54.53,4.52,3.88,5.81,11.7,11.6,6.22,39.57,9.81,4.8,15.27,82.9,6.33,49.58,38.97,18.1,11.68,154.17,29.54,7.1,79.21,25.21,14.22,93.87,9.95,6.16,24.25,15.24,13.87,8.68,14.63,28.81,40.28,47.84,60.43,33.78,16.63,154.89,2.92,66.29,151.36,369.68,25.41,174.99,23.27,6.75,47.32,12.95,41.69,126.78,594.48,1266.06,11.14,24.48,100.71,26.78,4.77,10.83,7.28,99.44,86.02,78.36,25.12,103.18,5.18,26.09,27.27,98.59,658.76,30.33,72.78,30.6,23.82,165.86,12.74,56.63,93.68,3.63,73.2,9.29,35.2,9.65,4.33,4.84,36.43,86.66,4.01,10.34,9.66,14.83,26.89,5.62,16.47,19.65,15.43,4.22,13.91,3.95,47.12,63.61,28.41,47.66,184.8,17.67,46.57,101.99,40.38,25.2,66.82,126.44,74.92,126.3,99.15,332.85,137.94,119.63,43.03,25.39,9.57,32.64,303.36,36.28,6.91,33.23,34.98,6.64,64.51,200.3,122.99,79.58,8.45,38.87,6.49,4.86,262.98,5.35,32.22,6.39,67.23,4.16,23.59,9.48,218.2,7.87,5.19,155.54,6.69,37.31,4.2,3.56,13.44,4.14,8.14,87.31,4.39,5.67,4.8,4.99,4.32,4.43,4.08,4.76,6.18,15.97,21.97,63.68,118.37,59.61,89.57,4.96,5.46,4.92,26.21,5.66,13.14,39.49,21.55,51.28,7.98,8.64,43.57,52.09,4.35,6.61,11.18,24.51,20.09,202.65,19.76,4.23,3.24,7.08,5.95,3.41,10.77,20.08,355.8,23.15,16.67,26.11,4.04,131.87,15.11,33.37,49.98,0.63,120.91,145.48,63.41,19.07,122.59,130.58,15.9,185.23,89.29,43.45,35.04,188.67,71.55,100.21,13.29,128.91,210.3,34.15,6.33,4.28,73.31,50.43,8.61,7.62,1.86,178.46,134.57,69.15,17.68,261.09,10.75,43.13,12.61,15.68,13.16,33.92,147.0,9.93,25.93,9.99,12.48,5.17,19.93,19.82,13.02,19.04,46.75,63.06,10.05,40.51,0.82,8.1,5.51,3.89,1.73,11.28,247.85,37.2,83.1,93.83,6.9,74.33,5.29,4.15,1.7,61.71,46.64,65.65,10.75,39.05,104.91,4.78,1.67,50.31,94.98,5.28,31.6,4.83,15.35,71.99,67.52,28.58,61.53,88.89,10.89,82.87,32.33,33.92,35.26,199.79,92.58,47.7,90.31,29.82,7.91,47.59,19.76,101.96,28.44,408.82,127.74,551.53,9.67,18.85,8.64,61.46,6.08,6.94,11.54,115.56,20.73,6.52,8.7,2.52,6.18,17.26,32.8,81.82,10.44,51.91,4.27,23.59,8.97,8.2,39.5,72.26,11.27,534.88,6.7,480.9,15.47,68.14,29.97,16.99,100.02,32.63,106.45,51.13,3.95,68.97,29.41,16.33,235.26,3.06,348.22,10.26,8.85,3.16,64.81,45.79,81.96,1.55,3.73,18.16,3.54,14.49,10.74,62.83,28.09,264.43,4.95,312.13,3.34,60.29,13.71,36.92,27.93,221.1,46.48,82.38,195.71,1216.05,149.91,94.85,148.55,188.58,60.88,110.17,25.53,9.0,42.04,8.47,25.02,30.32,66.53,9.46,73.52,18.34,27.47,82.34,5.41,44.71,16.06,7.49,23.85,38.12,11.29,16.13,19.39,8.49,30.02,28.6,336.73,32.99,66.19,12.49,4.76,127.1,234.6,49.58,40.22,20.78,15.9,122.73,10.36,32.86,12.35,515.85,10.12,176.79,13.01,36.74,173.94,45.33,59.06,61.98,180.38,65.02,79.58,17.12,8.8,8.89,12.77,12.59,4.12,12.19,104.61,72.37,31.24,13.89,10.75,23.74,23.78,40.76,26.38,247.97,55.71,20.76,20.9,48.35,9.3,73.61,38.85,32.47,101.34,94.02,159.98,74.64,46.6,14.04,479.7,71.23,21.66,79.81,12.72,106.73,709.11,69.54,8.54,85.55,107.45,6.07,462.4,60.04,55.61,123.41,295.38,8.53,170.83,37.34,1.12,31.61,34.87,16.57,73.0,82.72,35.77,487.53,32.09,73.48,184.09,161.15,20.64,255.83,24.62,192.12,523.95,41.06,13.97,77.8,234.03,3.77,86.51,13.33,47.68,3.94,241.75,60.59,119.34,44.33,8.77,77.48,1148.5,98.28,13.43,94.01,26.34,218.79,44.89,348.21,110.73,14.05,11.97,17.14,12.98,143.34,34.16,38.51,45.81,72.5,14.13,75.99,82.92,2.01,125.13,12.64,22.46,41.22,182.81,34.02,4.69,3.04,193.47,220.26,10.73,75.25,30.22,39.35,4.05,52.74,77.76,6.13,422.45,115.43,15.17,3.69,8.18,6.26,120.6,8.25,3.54,22.53,35.96,55.95,4.83,11.87,6.84,10.38,2.27,167.98,111.73,20.12,5.97,12.25,7.34,20.9,117.19,4.21,77.16,21.55,75.58,7.07,7.57,4.13,14.45,26.27,139.73,4.53,25.36,74.42,10.82,42.1,56.62,11.53,5.5,5.49,43.19,57.69,37.72,54.44,13.27,44.93,35.39,3.49,96.4,39.1,95.5,45.11,4.38,5.91,6.59,62.19,260.38,92.45,4.45,4.42,86.81,102.04,52.57,54.86,73.26,12.18,16.87,71.15,201.31,9.58,123.23,913.07,32.13,207.71,4.7,3.71,4.77,5.66,6.35,671.55,225.66,27.97,9.42,15.62,18.63,2.64,26.55,7.59,118.41,22.56,7.22,14.3,13.18,18.54,6.44,5.63,5.55,16.72,7.96,6.63,109.46,6.84,11.84,240.39,509.36,7.48,6.79,203.73,474.86,1.85,21.08,7.61,4.72,103.28,23.9,80.09,32.77,24.88,135.81,6.99,49.62,5.97,27.41,53.73,49.73,225.67,26.46,3.98,285.62,372.55,5.08,43.52,8.99,173.23,17.3,15.11,423.51,17.38,3.95,5.44,281.47,300.11,52.04,3243.48,34.0,64.88,0.81,61.19,186.65,12.37,4.39,175.27,44.61,192.63,27.27,6.12,11.84,215.56,173.75,57.03,55.3,25.09,46.9,50.0,6.46,7.33,60.34,208.53,4.86,7.07,384.85,45.38,38.86,78.22,5.24,102.73,5.53,6.85,6.33,71.87,279.21,43.6,38.52,6.18,4.84,6.61,13.14,163.74,3.65,14.22,5.06,28.3,8.3,10.08,9.29,9.25,21.32,12.15,4.2,15.22,6.89,21.24,6.37,4.3,36.77,29.24,13.29,31.79,4.46,11.79,237.54,3.13,8.42,14.9,34.26,1.55,9.03,37.49,7.55,3.87,46.44,5.87,59.84,0.68,0.4,9.36,3.72,102.3,4.58,14.81,11.08,5.94,5.07,6.3,10.93,3.08,5.46,1.68,7.82,175.3,303.81,21.69,34.52,16.67,17.39,6.06,60.67,19.7,3.63,14.83,30.49,8.42,6.18,309.14,44.26,8.46,33.28,30.49,5.45,128.66,5.33,29.66,45.6,18.11,30.13,17.08,67.45,8.97,12.24,42.87,28.28,25.12,6.52,4.08,5.02,6.05,5.58,5.01,5.75,19.23,121.9,30.34,375.56,8.44,36.09,31.04,4.18,17.12,82.57,101.76,9.51,15.88,66.93,17.24,4.26,26.31,3.01,4.46,44.28,4.92,63.45,33.42,0.86,80.19,135.11,9.06,8.16,3.85,42.96,3.85,52.41,39.57,55.85,32.58,184.6,11.39,3278.11,13.55,3.96,53.21,4.09,78.29,3.5,129.89,22.29,117.79,18.72,4.51,5.47,44.6,8.14,4.35,5.42,11.87,14.81,3238.24,3.04,96.15,122.71,305.05,2.54,6.31,5.8,2.19,43.63,12.09,19.12,11.24,50.55,12.2,5.03,4.6,8.1,7.09,67.24,8.1,76.67,4.52,5.2,6.08,44.4,109.55,32.35,60.94,86.86,5.03,3.95,2.93,326.74,2.28,7.74,53.61,3.77,4.56,179.55,23.6,2.25,349.55,78.42,128.54,567.6,85.78,97.4,48.08,235.32,114.33,5.81,184.0,9.79,5.79,132.1,259.77,56.7,12.97,8.33,712.39,1110.07,62.23,18.95,26.41,21.55,30.86,38.39,26.33,2.86,99.39,3.7,13.74,2.69,44.26,4.91,13.09,4.21,39.77,294.65,4.39,351.53,3.44,37.65,21.24,62.05,112.34,125.42,101.31,146.93,46.45,110.66,32.04,11.88,5.07,5.82,44.51,4.6,14.51,7.13,34.62,24.26,6.19,80.15,24.93,4.55,4.2,42.1,9.16,3.74,4.74,24.31,6.85,145.21,250.84,8.08,22.26,16.13,4.73,4.68,38.41,6.28,334.15,38.57,114.63,91.53,4.94,5.93,4.67,6.26,19.43,34.3,5.46,34.48,6.03,8.3,4.72,5.5,12.13,17.89,4.81,11.71,25.59,7.07,45.08,5.37,15.7,61.25,138.31,25.47,41.15,5.31,75.13,58.85,68.8,63.14,9.36,4.27,8.42,184.51,41.13,10.92,8.57,4.74,6.15,5.53,14.35,33.8,565.55,28.19,10.43,60.5,9.68,27.69,52.79,3.38,59.24,11.51,37.54,10.17,30.78,11.17,17.57,4.65,13.91,44.19,7.21,7.83,44.97,26.73,13.12,54.67,13.7,178.86,61.3,5.46,88.58,55.86,80.06,88.1,6.16,16.04,60.57,22.29,24.76,4.98,14.36,3.07,39.57,18.95,6.04,18.87,79.53,151.95,6.43,3.52,17.41,5.7,7.85,18.34,290.88,77.23,3.53,25.13,4.95,7.56,10.01,37.51,128.41,19.56,109.59,50.07,178.97,19.7,14.84,13.67,25.09,40.96,91.53,218.99,42.45,7.21,54.24,13.05,19.51,37.08,9.26,10.65,10.95,22.48,8.07,174.62,67.05,3.8,17.48,6.56,6.87,27.7,149.53,5.57,19.61,8.85,22.93,51.1,17.04,2.91,83.3,33.1,28.37,21.5,157.07,4.48,178.35,102.35,13.87,12.92,7.31,4.13,59.7,312.6,7.15,5.74,4.29,5.53,3.64,12.22,4.51,5.76,18.03,9.71,405.05,1.14,12.55,5.09,25.77,40.85,3.45,8.7,40.94,95.93,17.29,15.35,51.27,40.01,40.42,59.0,4.52,39.61,39.75,160.8,15.87,5.35,3.48,71.16,17.83,5.93,5.82,9.99,6.56,6.42,3.67,5.62,6.41,14.65,18.5,10.68,3.44,61.21,27.14,17.51,42.73,38.87,60.12,2.82,9.25,16.5,46.16,5.72,24.91,3.5,43.64,6.28,7.26,5.41,38.38,12.89,19.69,3.73,93.5,30.99,8.44,17.87,6.08,5.26,73.14,3.23,17.92,18.42,4.71,45.58,4.74,28.66,3.65,3.72,9.29,8.22,43.17,19.88,7.27,27.92,41.96,64.35,20.3,14.7,4.11,57.25,9.76,18.91,5.0,31.94,7.35,19.77,18.87,75.64,28.89,103.19,6.35,18.04,65.77,69.88,26.52,49.18,46.85,23.5,78.57,7.74,219.93,4.72,34.04,1.51,4.33,7.24,75.12,260.32,18.9,60.53,7.22,13.16,158.63,10.98,26.76,8.45,41.77,175.53,124.4,43.18,64.75,59.14,39.05,11.18,77.75,94.3,94.69,85.15,77.56,21.46,29.88,34.75,9.11,5.94,112.82,6.46,17.6,26.27,27.68,12.17,6.3,1.46,7.49,66.77,106.35,7.98,92.7,2.15,7.05,8.46,11.94,61.68,110.42,61.6,30.79,18.95,35.48,37.61,61.18,12.05,286.89,152.14,11.44,147.24,14.17,50.7,18.87,36.89,31.43,145.27,3.96,15.26,59.05,6.01,3.99,92.3,1.6,17.45,27.83,4.02,11.73,96.62,23.62,9.65,9.89,33.52,82.07,5.21,48.3,131.69,16.16,178.21,0.79,32.89,4.62,292.8,4.49,18.97,0.75,22.62,58.36,6.18,4.2,28.55,2.94,10.05,25.15,39.25,14.99,6.64,4.31,52.73,413.1,6.27,6.0,54.27,2.86,47.08,44.97,23.83,20.02,28.05,43.68,89.72,11.69,42.24,13.22,5.04,13.39,256.31,31.54,51.15,8.04,3.41,27.75,42.66,1.6,9.67,44.68,2.94,422.31,263.37,32.44,298.91,14.37,23.52,23.84,17.75,5.69,8.49,17.11,71.71,226.81,20.67,57.59,20.39,9.63,6.68,79.3,85.27,28.7,78.19,30.26,3.77,8.38,6.85,2.76,5.09,4.02,28.78,70.14,41.96,4.5,22.72,30.12,10.43,144.45,7.78,18.42,6.3,45.14,120.72,49.53,5.15,121.27,24.32,7.9,8.28,111.96,17.39,67.98,47.64,10.06,102.04,17.73,42.23,84.95,104.51,4.62,3.94,3.75,449.59,3.63,8.27,8.21,28.83,5.65,6.99,232.1,73.48,588.25,3768.66,65.56,4.15,14.64,10.65,17.22,125.59,1.24,36.82,5.86,7.11,61.86,3.9,23.9,7.28,18.65,36.15,27.93,6.02,37.18,5.42,22.81,7.1,7.03,3.92,66.1,269.03,3.27,120.24,10.9,29.44,283.04,28.64,21.44,4.55,40.05,106.37,281.25,9.92,18.58,3.11,55.83,14.86,7.47,6.02,8.89,5.67,5.54,66.05,7.54,21.57,18.07,97.27,515.71,116.94,101.21,10.99,7.86,5.88,3.43,198.59,28.83,64.04,13.09,110.02,34.62,7.08,5.78,128.22,66.32,117.64,3.4,33.5,11.85,122.0,14.35,42.52,46.53,223.36,57.11,18.76,7.05,50.05,3.25,22.09,20.66,4.2,3.65,6.74,12.27,4.01,6.42,4.63,4.95,105.87,70.31,23.15,9.24,38.58,3.41,61.18,2.74,6.53,15.9,7.56,136.94,75.07,8.61,34.08,124.59,13.69,63.81,69.53,25.53,2.88,9.29,17.79,2.35,20.76,18.19,100.49,2.9,7.36,35.4,6.52,85.88,190.45,59.08,29.21,25.14,7.71,25.44,229.55,4.44,19.04,49.7,183.79,120.1,5.66,10.29,65.05,48.62,4.43,11.77,2.67,11.26,58.82,14.21,64.46,5.57,70.29,99.42,7.24,37.17,65.89,8.61,26.56,17.41,56.96,10.37,96.28,23.68,220.86,18.2,47.26,19.31,4.02,15.34,45.33,9.73,3.54,10.31,4.19,4.67,5.4,10.55,11.99,95.38,10.32,393.07,9.7,16.47,22.94,120.86,37.28,16.89,62.51,861.85,792.6,4.74,59.86,4.24,3.88,4.5,393.29,51.26,63.23,3.78,88.0,22.38,28.04,54.02,89.49,3.82,49.79,4.31,42.93,3.63,11.54,6.53,3.81,18.81,58.79,29.22,60.08,5.45,5.74,6.45,48.16,35.36,5.0,4.09,55.06,8.82,6.41,91.69,28.07,27.71,80.06,121.63,17.31,4.76,59.18,105.99,96.15,32.02,10.01,10.04,9.49,55.63,3.91,34.03,4.15,68.89,38.59,717.93,52.0,7.56,51.24,56.18,8.53,6.9,8.48,84.01,35.99,25.11,160.79,117.47,4.79,43.9,25.37,4.6,20.5,90.53,58.52,58.24,7.23,22.33,39.65,46.01,111.34,144.3,59.76,90.17,48.95,12.57,4.13,166.43,119.99,37.84,72.86,6.38,5.68,9.65,203.21,5.63,4.32,13.95,70.92,4.78,19.15,16.07,5.02,3.71,4.24,26.54,1.59,41.88,51.62,20.88,53.87,23.22,11.02,38.21,87.41,49.59,5.08,4.36,23.42,46.67,15.11,6.61,5.51,320.96,94.22,48.13,69.2,226.73,4.52,16.76,95.77,58.79,3.98,4.67,4.13,4.02,27.47,5.16,7.67,156.18,60.47,8.09,7.16,865.48,14.37,231.75,7.46,80.47,38.97,33.26,43.21,3.29,9.72,4.76,3.82,18.62,43.91,185.33,7.07,108.79,19.81,46.14,13.08,37.43,53.88,3.97,47.03,4.29,3.92,4.52,29.39,28.46,6.7,14.79,3.78,60.93,7.69,26.94,35.72,105.97,393.2,66.69,7.52,10.92,399.73,96.59,60.32,6.84,173.67,94.23,11.18,13.65,6.57,5.77,12.85,37.51,7.87,299.38,85.22,12.06,86.5,22.89,151.91,6.76,15.25,20.96,12.46,3.18,6.24,4.17,93.44,32.42,20.78,9.2,48.91,53.25,161.39,4.55,5.87,47.02,70.4,5.94,145.97,10.04,141.88,6.73,26.48,22.63,7.31,11.42,14.82,63.34,34.61,3.28,4.24,63.21,42.71,4.45,7.53,3.44,65.95,53.65,48.45,6.96,81.24,249.46,104.74,55.23,32.81,5.07,19.68,96.2,56.25,6.64,8.38,136.07,404.21,91.49,58.59,78.36,11.09,39.4,29.7,27.06,60.83,229.2,41.65,30.45,29.56,358.57,19.84,5.36,43.28,63.87,19.28,14.1,4.64,8.12,8.93,29.93,12.98,50.57,2489.78,4.73,14.26,9.65,34.39,3.92,19.14,46.61,20.46,11.38,38.36,14.05,92.52,3.22,57.33,35.65,206.33,7.39,93.55,35.6,4.14,367.3,35.36,96.2,109.72,6.41,20.21,9.05,49.55,89.29,8.95,10.81,31.47,21.74,9.13,26.87,4.59,77.12,19.61,63.57,6.84,126.53,5.23,74.92,13.1,6.57,3.45,3.07,3.26,15.48,6.41,8.4,7.46,30.85,22.24,12.96,41.7,102.6,10.01,5.97,3.9,8.7,187.97,16.43,5.91,16.4,11.77,103.07,6.74,108.31,364.27,38.18,58.09,3.95,6.0,25.14,101.8,7.83,51.89,19.1,11.1,53.52,46.72,4.14,9.48,6.73,2.94,37.97,45.44,4.92,2.62,29.39,6.88,3.06,7.97,15.58,100.43,67.15,3.56,0.89,17.65,14.19,2.82,77.84,65.05,41.51,3.54,3.72,314.92,26.47,6.5,4.35,4.02,13.27,70.11,3.3,22.83,21.87,9.56,65.27,4.8,3.42,4.35,10.87,7.37,9.43,5.61,14.77,3.31,139.27,28.61,20.76,18.01,42.57,286.33,423.57,5.19,4.15,4.71,3.85,5.37,11.29,8.1,5.14,5.88,8.66,8.29,5.91,5.38,5.79,4.72,5.28,2.45,67.33,62.94,4.8,15.5,26.67,5.21,3.9,6.49,9.25,9.4,21.51,115.34,5.73,53.02,338.58,4.8,9.09,128.07,28.79,59.74,25.37,83.65,46.32,88.11,101.43,53.35,5.09,0.87,23.51,104.33,4.15,111.04,7.31,16.3,59.53,13.34,27.04,11.32,63.22,4.04,55.73,51.2,39.31,51.14,6.93,118.45,54.02,5.38,18.02,3.95,150.23,10.61,70.39,64.86,4.87,5.21,16.31,7.12,49.58,127.05,30.14,24.97,2.85,4.76,99.26,4.71,3.96,103.42,31.54,75.95,58.87,6.54,68.39,43.97,4.96,66.43,47.92,23.63,119.76,43.04,67.96,5.07,17.61,8.33,7.47,6.41,12.06,22.18,5.07,9.29,458.44,38.71,255.97,66.7,3.39,39.75,17.97,8.59,402.04,132.7,49.44,7.8,3.56,3.78,3.92,28.78,106.86,26.37,102.54,156.45,21.05,13.85,122.7,30.35,92.07,159.8,144.57,61.62,273.91,111.62,120.92,58.44,29.18,89.8,441.94,70.46,27.56,81.18,176.75,72.02,24.82,193.36,7.21,5.38,83.45,48.85,137.66,295.42,12.43,3.63,236.05,37.83,391.7,32.72,145.11,30.03,28.85,4.01,270.63,6.98,6.64,4.49,34.22,303.69,186.16,154.39,11.4,66.37,5.87,139.12,11.91,5.51,21.37,155.47,90.73,53.12,158.6,2549.47,47.14,537.03,30.78,94.63,376.57,163.19,9.46,35.43,15.5,100.59,549.11,95.26,4.64,619.9,170.98,65.19,175.46,191.97,39.88,38.17,80.27,12.56,38.92,1597.56,542.74,87.18,287.57,99.65,1789.69,123.15,6.93,8.65,73.39,144.41,325.94,76.5,54.04,122.35,16.82,352.77,147.84,24.54,57.59,9.95,290.57,68.98,1088.25,0.0,47.93,161.23,23.14,6.04,251.43,24.7,9.86,51.59,176.88,9.5,49.26,20.1,5.47,57.59,24.38,8.63,77.29,138.79,20.58,21.18,67.17,184.81,17.81,22.76,142.48,54.98,809.76,14.04,42.2,75.96,30.72,8.36,124.68,16.13,280.35,52.55,265.63,77.99,93.31,197.27,62.23,46.79,22.23,181.67,65.35,107.29,38.13,457.51,23.37,221.47,130.6,107.51,29.4,74.3,1280.81,68.04,7.49,6330.91,190.05,58.28,82.58,167.48,10.8,159.16,16.1,51.39,103.65,437.2,48.53,62.41,213.7,43.06,28.94,18.9,4.32,691.57,175.44,42.81,17.77,9.91,59.33,184.15,127.53,9.76,17.8,34.11,9.71,123.99,33.09,64.39,30.41,40.99,172.46,49.89,12.18,27.71,22.5,4.81,115.73,163.02,65.01,9.0,8.11,134.8,86.99,238.78,214.19,63.87,50.32,147.14,4.38,91.98,202.12,74.88,165.61,8.7,40.25,245.16,31.46,14.83,71.96,395.26,5.46,6.74,50.23,131.02,157.7,51.26,12.21,124.18,86.25,103.37,9.24,205.52,31.55,28.08,75.62,54.76,467.9,15.07,1000.06,96.9,18.88,22.17,4.44,29.18,23.0,14.37,24.73,216.18,259.22,60.81,20.33,32.17,223.54,22.11,41.27],\"coloraxis\":\"coloraxis\",\"pattern\":{\"shape\":\"\"}},\"name\":\"\",\"offsetgroup\":\"\",\"orientation\":\"v\",\"showlegend\":false,\"textposition\":\"auto\",\"x\":[\"DOWNTOWN\",\"DOWNTOWN\",\"DOWNTOWN\",\"DOWNTOWN\",\"DOWNTOWN\",\"DOWNTOWN\",\"DOWNTOWN\",\"DOWNTOWN\",\"DOWNTOWN\",\"DOWNTOWN\",\"DOWNTOWN\",\"DOWNTOWN\",\"DOWNTOWN\",\"DOWNTOWN\",\"DOWNTOWN\",\"DOWNTOWN\",\"DOWNTOWN\",\"DOWNTOWN\",\"DOWNTOWN\",\"DOWNTOWN\",\"DOWNTOWN\",\"DOWNTOWN\",\"NORTHEAST\",\"DOWNTOWN\",\"DOWNTOWN\",\"EAST\",\"DOWNTOWN\",\"DOWNTOWN\",\"LAKE UNION\",\"NORTHEAST\",\"NORTHEAST\",\"GREATER DUWAMISH\",\"GREATER DUWAMISH\",\"MAGNOLIA \\u002f QUEEN ANNE\",\"BALLARD\",\"GREATER DUWAMISH\",\"NORTHWEST\",\"DOWNTOWN\",\"DOWNTOWN\",\"DOWNTOWN\",\"DOWNTOWN\",\"DOWNTOWN\",\"DOWNTOWN\",\"DOWNTOWN\",\"DOWNTOWN\",\"DOWNTOWN\",\"DOWNTOWN\",\"LAKE UNION\",\"LAKE UNION\",\"LAKE UNION\",\"MAGNOLIA \\u002f QUEEN ANNE\",\"EAST\",\"MAGNOLIA \\u002f QUEEN ANNE\",\"CENTRAL\",\"SOUTHWEST\",\"NORTHWEST\",\"LAKE UNION\",\"EAST\",\"EAST\",\"EAST\",\"LAKE UNION\",\"LAKE UNION\",\"LAKE UNION\",\"MAGNOLIA \\u002f QUEEN ANNE\",\"MAGNOLIA \\u002f QUEEN ANNE\",\"MAGNOLIA \\u002f QUEEN ANNE\",\"LAKE UNION\",\"MAGNOLIA \\u002f QUEEN ANNE\",\"MAGNOLIA \\u002f QUEEN ANNE\",\"MAGNOLIA \\u002f QUEEN ANNE\",\"MAGNOLIA \\u002f QUEEN ANNE\",\"MAGNOLIA \\u002f QUEEN ANNE\",\"MAGNOLIA \\u002f QUEEN ANNE\",\"MAGNOLIA \\u002f QUEEN ANNE\",\"NORTHEAST\",\"EAST\",\"EAST\",\"SOUTHEAST\",\"NORTHEAST\",\"NORTHEAST\",\"NORTHWEST\",\"NORTHWEST\",\"NORTHWEST\",\"DOWNTOWN\",\"DOWNTOWN\",\"BALLARD\",\"DOWNTOWN\",\"DOWNTOWN\",\"MAGNOLIA \\u002f QUEEN ANNE\",\"EAST\",\"DELRIDGE\",\"NORTHEAST\",\"GREATER DUWAMISH\",\"GREATER DUWAMISH\",\"GREATER DUWAMISH\",\"MAGNOLIA \\u002f QUEEN ANNE\",\"MAGNOLIA \\u002f QUEEN ANNE\",\"NORTH\",\"CENTRAL\",\"DOWNTOWN\",\"GREATER DUWAMISH\",\"NORTH\",\"NORTH\",\"NORTH\",\"NORTHEAST\",\"NORTHWEST\",\"EAST\",\"NORTHWEST\",\"GREATER DUWAMISH\",\"GREATER DUWAMISH\",\"DELRIDGE\",\"DELRIDGE\",\"DELRIDGE\",\"BALLARD\",\"SOUTHWEST\",\"LAKE UNION\",\"LAKE UNION\",\"MAGNOLIA \\u002f QUEEN ANNE\",\"MAGNOLIA \\u002f QUEEN ANNE\",\"NORTHWEST\",\"NORTHWEST\",\"DOWNTOWN\",\"GREATER DUWAMISH\",\"GREATER DUWAMISH\",\"GREATER DUWAMISH\",\"GREATER DUWAMISH\",\"GREATER DUWAMISH\",\"GREATER DUWAMISH\",\"GREATER DUWAMISH\",\"NORTH\",\"MAGNOLIA \\u002f QUEEN ANNE\",\"DOWNTOWN\",\"DOWNTOWN\",\"CENTRAL\",\"LAKE UNION\",\"EAST\",\"DOWNTOWN\",\"EAST\",\"NORTHEAST\",\"NORTHEAST\",\"NORTH\",\"NORTHEAST\",\"NORTHEAST\",\"DOWNTOWN\",\"DOWNTOWN\",\"DOWNTOWN\",\"DELRIDGE\",\"NORTH\",\"GREATER DUWAMISH\",\"MAGNOLIA \\u002f QUEEN ANNE\",\"MAGNOLIA \\u002f QUEEN ANNE\",\"DOWNTOWN\",\"DOWNTOWN\",\"DOWNTOWN\",\"DOWNTOWN\",\"DOWNTOWN\",\"DOWNTOWN\",\"GREATER DUWAMISH\",\"DOWNTOWN\",\"DOWNTOWN\",\"DOWNTOWN\",\"DOWNTOWN\",\"DOWNTOWN\",\"DOWNTOWN\",\"DOWNTOWN\",\"DOWNTOWN\",\"DOWNTOWN\",\"DOWNTOWN\",\"DOWNTOWN\",\"DOWNTOWN\",\"DOWNTOWN\",\"DOWNTOWN\",\"DOWNTOWN\",\"DOWNTOWN\",\"DOWNTOWN\",\"DOWNTOWN\",\"DOWNTOWN\",\"DOWNTOWN\",\"DOWNTOWN\",\"DOWNTOWN\",\"DOWNTOWN\",\"DOWNTOWN\",\"DOWNTOWN\",\"DOWNTOWN\",\"DOWNTOWN\",\"DOWNTOWN\",\"DOWNTOWN\",\"DOWNTOWN\",\"DOWNTOWN\",\"DOWNTOWN\",\"DOWNTOWN\",\"DOWNTOWN\",\"DOWNTOWN\",\"NORTHEAST\",\"NORTHEAST\",\"NORTHEAST\",\"NORTHEAST\",\"NORTHEAST\",\"NORTHEAST\",\"DOWNTOWN\",\"DOWNTOWN\",\"DOWNTOWN\",\"DOWNTOWN\",\"DOWNTOWN\",\"DOWNTOWN\",\"DOWNTOWN\",\"DOWNTOWN\",\"DOWNTOWN\",\"NORTHWEST\",\"DOWNTOWN\",\"DOWNTOWN\",\"GREATER DUWAMISH\",\"DOWNTOWN\",\"DOWNTOWN\",\"DOWNTOWN\",\"DOWNTOWN\",\"DOWNTOWN\",\"SOUTHEAST\",\"GREATER DUWAMISH\",\"NORTHWEST\",\"LAKE UNION\",\"LAKE UNION\",\"BALLARD\",\"BALLARD\",\"DOWNTOWN\",\"DOWNTOWN\",\"DOWNTOWN\",\"DOWNTOWN\",\"DOWNTOWN\",\"DOWNTOWN\",\"DOWNTOWN\",\"DOWNTOWN\",\"DOWNTOWN\",\"DOWNTOWN\",\"DOWNTOWN\",\"DOWNTOWN\",\"DOWNTOWN\",\"DOWNTOWN\",\"DOWNTOWN\",\"DOWNTOWN\",\"DOWNTOWN\",\"DOWNTOWN\",\"DOWNTOWN\",\"DOWNTOWN\",\"DOWNTOWN\",\"DOWNTOWN\",\"DOWNTOWN\",\"DOWNTOWN\",\"DOWNTOWN\",\"DOWNTOWN\",\"DOWNTOWN\",\"DOWNTOWN\",\"DOWNTOWN\",\"DOWNTOWN\",\"DOWNTOWN\",\"EAST\",\"EAST\",\"EAST\",\"EAST\",\"LAKE UNION\",\"LAKE UNION\",\"LAKE UNION\",\"MAGNOLIA \\u002f QUEEN ANNE\",\"GREATER DUWAMISH\",\"GREATER DUWAMISH\",\"GREATER DUWAMISH\",\"LAKE UNION\",\"GREATER DUWAMISH\",\"LAKE UNION\",\"MAGNOLIA \\u002f QUEEN ANNE\",\"MAGNOLIA \\u002f QUEEN ANNE\",\"LAKE UNION\",\"NORTH\",\"NORTH\",\"NORTH\",\"NORTH\",\"DELRIDGE\",\"LAKE UNION\",\"GREATER DUWAMISH\",\"LAKE UNION\",\"EAST\",\"MAGNOLIA \\u002f QUEEN ANNE\",\"BALLARD\",\"LAKE UNION\",\"LAKE UNION\",\"LAKE UNION\",\"LAKE UNION\",\"LAKE UNION\",\"LAKE UNION\",\"LAKE UNION\",\"LAKE UNION\",\"LAKE UNION\",\"LAKE UNION\",\"LAKE UNION\",\"LAKE UNION\",\"LAKE UNION\",\"LAKE UNION\",\"LAKE UNION\",\"MAGNOLIA \\u002f QUEEN ANNE\",\"MAGNOLIA \\u002f QUEEN ANNE\",\"MAGNOLIA \\u002f QUEEN ANNE\",\"NORTHEAST\",\"NORTHEAST\",\"BALLARD\",\"SOUTHWEST\",\"LAKE UNION\",\"NORTH\",\"GREATER DUWAMISH\",\"DELRIDGE\",\"GREATER DUWAMISH\",\"LAKE UNION\",\"MAGNOLIA \\u002f QUEEN ANNE\",\"NORTHWEST\",\"NORTHWEST\",\"NORTHWEST\",\"NORTHWEST\",\"NORTHWEST\",\"NORTHWEST\",\"LAKE UNION\",\"LAKE UNION\",\"LAKE UNION\",\"LAKE UNION\",\"LAKE UNION\",\"DOWNTOWN\",\"GREATER DUWAMISH\",\"GREATER DUWAMISH\",\"GREATER DUWAMISH\",\"BALLARD\",\"BALLARD\",\"BALLARD\",\"MAGNOLIA \\u002f QUEEN ANNE\",\"MAGNOLIA \\u002f QUEEN ANNE\",\"MAGNOLIA \\u002f QUEEN ANNE\",\"DOWNTOWN\",\"GREATER DUWAMISH\",\"GREATER DUWAMISH\",\"DOWNTOWN\",\"GREATER DUWAMISH\",\"GREATER DUWAMISH\",\"GREATER DUWAMISH\",\"GREATER DUWAMISH\",\"GREATER DUWAMISH\",\"MAGNOLIA \\u002f QUEEN ANNE\",\"NORTHWEST\",\"EAST\",\"GREATER DUWAMISH\",\"GREATER DUWAMISH\",\"GREATER DUWAMISH\",\"GREATER DUWAMISH\",\"GREATER DUWAMISH\",\"NORTHWEST\",\"NORTH\",\"LAKE UNION\",\"LAKE UNION\",\"CENTRAL\",\"GREATER DUWAMISH\",\"NORTHEAST\",\"CENTRAL\",\"GREATER DUWAMISH\",\"GREATER DUWAMISH\",\"LAKE UNION\",\"GREATER DUWAMISH\",\"LAKE UNION\",\"LAKE UNION\",\"NORTH\",\"NORTHWEST\",\"NORTH\",\"NORTHWEST\",\"DELRIDGE\",\"DELRIDGE\",\"MAGNOLIA \\u002f QUEEN ANNE\",\"NORTHWEST\",\"NORTHWEST\",\"NORTHWEST\",\"GREATER DUWAMISH\",\"DOWNTOWN\",\"NORTHWEST\",\"NORTH\",\"LAKE UNION\",\"LAKE UNION\",\"GREATER DUWAMISH\",\"GREATER DUWAMISH\",\"GREATER DUWAMISH\",\"GREATER DUWAMISH\",\"GREATER DUWAMISH\",\"MAGNOLIA \\u002f QUEEN ANNE\",\"GREATER DUWAMISH\",\"GREATER DUWAMISH\",\"GREATER DUWAMISH\",\"LAKE UNION\",\"LAKE UNION\",\"LAKE UNION\",\"LAKE UNION\",\"LAKE UNION\",\"GREATER DUWAMISH\",\"DOWNTOWN\",\"SOUTHEAST\",\"DOWNTOWN\",\"DOWNTOWN\",\"DOWNTOWN\",\"DOWNTOWN\",\"DOWNTOWN\",\"DOWNTOWN\",\"DOWNTOWN\",\"DOWNTOWN\",\"DOWNTOWN\",\"GREATER DUWAMISH\",\"GREATER DUWAMISH\",\"GREATER DUWAMISH\",\"GREATER DUWAMISH\",\"GREATER DUWAMISH\",\"GREATER DUWAMISH\",\"GREATER DUWAMISH\",\"GREATER DUWAMISH\",\"GREATER DUWAMISH\",\"EAST\",\"GREATER DUWAMISH\",\"DOWNTOWN\",\"DOWNTOWN\",\"DOWNTOWN\",\"DOWNTOWN\",\"GREATER DUWAMISH\",\"GREATER DUWAMISH\",\"GREATER DUWAMISH\",\"GREATER DUWAMISH\",\"GREATER DUWAMISH\",\"GREATER DUWAMISH\",\"GREATER DUWAMISH\",\"DELRIDGE\",\"EAST\",\"NORTHEAST\",\"LAKE UNION\",\"DELRIDGE\",\"GREATER DUWAMISH\",\"DOWNTOWN\",\"EAST\",\"DOWNTOWN\",\"DOWNTOWN\",\"DOWNTOWN\",\"DOWNTOWN\",\"CENTRAL\",\"DELRIDGE\",\"EAST\",\"EAST\",\"DOWNTOWN\",\"DOWNTOWN\",\"GREATER DUWAMISH\",\"MAGNOLIA \\u002f QUEEN ANNE\",\"DELRIDGE\",\"SOUTHEAST\",\"DOWNTOWN\",\"DOWNTOWN\",\"MAGNOLIA \\u002f QUEEN ANNE\",\"DOWNTOWN\",\"DOWNTOWN\",\"DOWNTOWN\",\"MAGNOLIA \\u002f QUEEN ANNE\",\"GREATER DUWAMISH\",\"MAGNOLIA \\u002f QUEEN ANNE\",\"MAGNOLIA \\u002f QUEEN ANNE\",\"MAGNOLIA \\u002f QUEEN ANNE\",\"MAGNOLIA \\u002f QUEEN ANNE\",\"DOWNTOWN\",\"MAGNOLIA \\u002f QUEEN ANNE\",\"MAGNOLIA \\u002f QUEEN ANNE\",\"MAGNOLIA \\u002f QUEEN ANNE\",\"DOWNTOWN\",\"DOWNTOWN\",\"DOWNTOWN\",\"DOWNTOWN\",\"DOWNTOWN\",\"DOWNTOWN\",\"DOWNTOWN\",\"DOWNTOWN\",\"GREATER DUWAMISH\",\"GREATER DUWAMISH\",\"GREATER DUWAMISH\",\"GREATER DUWAMISH\",\"GREATER DUWAMISH\",\"GREATER DUWAMISH\",\"GREATER DUWAMISH\",\"GREATER DUWAMISH\",\"GREATER DUWAMISH\",\"GREATER DUWAMISH\",\"NORTHEAST\",\"GREATER DUWAMISH\",\"GREATER DUWAMISH\",\"NORTHWEST\",\"BALLARD\",\"MAGNOLIA \\u002f QUEEN ANNE\",\"NORTHEAST\",\"LAKE UNION\",\"LAKE UNION\",\"MAGNOLIA \\u002f QUEEN ANNE\",\"LAKE UNION\",\"LAKE UNION\",\"MAGNOLIA \\u002f QUEEN ANNE\",\"MAGNOLIA \\u002f QUEEN ANNE\",\"DOWNTOWN\",\"DOWNTOWN\",\"DOWNTOWN\",\"DOWNTOWN\",\"DOWNTOWN\",\"DOWNTOWN\",\"DOWNTOWN\",\"DOWNTOWN\",\"DOWNTOWN\",\"DOWNTOWN\",\"DOWNTOWN\",\"EAST\",\"DOWNTOWN\",\"DOWNTOWN\",\"DOWNTOWN\",\"DOWNTOWN\",\"DOWNTOWN\",\"DOWNTOWN\",\"DOWNTOWN\",\"DOWNTOWN\",\"DOWNTOWN\",\"DOWNTOWN\",\"DOWNTOWN\",\"DOWNTOWN\",\"EAST\",\"CENTRAL\",\"DOWNTOWN\",\"DOWNTOWN\",\"DOWNTOWN\",\"GREATER DUWAMISH\",\"GREATER DUWAMISH\",\"GREATER DUWAMISH\",\"GREATER DUWAMISH\",\"GREATER DUWAMISH\",\"GREATER DUWAMISH\",\"GREATER DUWAMISH\",\"GREATER DUWAMISH\",\"GREATER DUWAMISH\",\"GREATER DUWAMISH\",\"GREATER DUWAMISH\",\"GREATER DUWAMISH\",\"GREATER DUWAMISH\",\"GREATER DUWAMISH\",\"DELRIDGE\",\"NORTHEAST\",\"GREATER DUWAMISH\",\"DELRIDGE\",\"NORTH\",\"GREATER DUWAMISH\",\"DOWNTOWN\",\"MAGNOLIA \\u002f QUEEN ANNE\",\"DOWNTOWN\",\"GREATER DUWAMISH\",\"GREATER DUWAMISH\",\"DELRIDGE\",\"MAGNOLIA \\u002f QUEEN ANNE\",\"DOWNTOWN\",\"NORTHEAST\",\"NORTHEAST\",\"GREATER DUWAMISH\",\"EAST\",\"GREATER DUWAMISH\",\"EAST\",\"MAGNOLIA \\u002f QUEEN ANNE\",\"EAST\",\"EAST\",\"NORTH\",\"BALLARD\",\"EAST\",\"MAGNOLIA \\u002f QUEEN ANNE\",\"MAGNOLIA \\u002f QUEEN ANNE\",\"EAST\",\"DELRIDGE\",\"NORTHWEST\",\"CENTRAL\",\"GREATER DUWAMISH\",\"SOUTHWEST\",\"CENTRAL\",\"GREATER DUWAMISH\",\"NORTH\",\"EAST\",\"GREATER DUWAMISH\",\"GREATER DUWAMISH\",\"NORTHEAST\",\"NORTHWEST\",\"LAKE UNION\",\"LAKE UNION\",\"MAGNOLIA \\u002f QUEEN ANNE\",\"CENTRAL\",\"NORTHEAST\",\"NORTHEAST\",\"NORTHEAST\",\"NORTHEAST\",\"NORTHEAST\",\"BALLARD\",\"NORTHWEST\",\"GREATER DUWAMISH\",\"GREATER DUWAMISH\",\"GREATER DUWAMISH\",\"GREATER DUWAMISH\",\"DOWNTOWN\",\"GREATER DUWAMISH\",\"GREATER DUWAMISH\",\"CENTRAL\",\"CENTRAL\",\"SOUTHWEST\",\"MAGNOLIA \\u002f QUEEN ANNE\",\"SOUTHWEST\",\"SOUTHWEST\",\"DOWNTOWN\",\"NORTHWEST\",\"SOUTHWEST\",\"DOWNTOWN\",\"SOUTHWEST\",\"SOUTHWEST\",\"SOUTHWEST\",\"SOUTHWEST\",\"MAGNOLIA \\u002f QUEEN ANNE\",\"SOUTHWEST\",\"EAST\",\"GREATER DUWAMISH\",\"GREATER DUWAMISH\",\"GREATER DUWAMISH\",\"GREATER DUWAMISH\",\"GREATER DUWAMISH\",\"SOUTHWEST\",\"DOWNTOWN\",\"NORTHEAST\",\"LAKE UNION\",\"BALLARD\",\"BALLARD\",\"BALLARD\",\"BALLARD\",\"BALLARD\",\"BALLARD\",\"BALLARD\",\"DOWNTOWN\",\"DOWNTOWN\",\"DOWNTOWN\",\"EAST\",\"EAST\",\"MAGNOLIA \\u002f QUEEN ANNE\",\"EAST\",\"EAST\",\"EAST\",\"EAST\",\"DOWNTOWN\",\"DOWNTOWN\",\"DOWNTOWN\",\"DOWNTOWN\",\"DOWNTOWN\",\"DOWNTOWN\",\"MAGNOLIA \\u002f QUEEN ANNE\",\"DOWNTOWN\",\"NORTH\",\"MAGNOLIA \\u002f QUEEN ANNE\",\"GREATER DUWAMISH\",\"SOUTHWEST\",\"SOUTHWEST\",\"BALLARD\",\"MAGNOLIA \\u002f QUEEN ANNE\",\"SOUTHWEST\",\"NORTHWEST\",\"EAST\",\"DOWNTOWN\",\"DOWNTOWN\",\"DOWNTOWN\",\"DOWNTOWN\",\"DOWNTOWN\",\"DOWNTOWN\",\"DOWNTOWN\",\"DOWNTOWN\",\"DOWNTOWN\",\"DOWNTOWN\",\"DOWNTOWN\",\"DOWNTOWN\",\"DOWNTOWN\",\"DOWNTOWN\",\"SOUTHWEST\",\"SOUTHWEST\",\"NORTHWEST\",\"NORTHWEST\",\"NORTHWEST\",\"EAST\",\"SOUTHWEST\",\"MAGNOLIA \\u002f QUEEN ANNE\",\"EAST\",\"EAST\",\"MAGNOLIA \\u002f QUEEN ANNE\",\"LAKE UNION\",\"MAGNOLIA \\u002f QUEEN ANNE\",\"EAST\",\"MAGNOLIA \\u002f QUEEN ANNE\",\"EAST\",\"LAKE UNION\",\"MAGNOLIA \\u002f QUEEN ANNE\",\"MAGNOLIA \\u002f QUEEN ANNE\",\"GREATER DUWAMISH\",\"MAGNOLIA \\u002f QUEEN ANNE\",\"DOWNTOWN\",\"DOWNTOWN\",\"DOWNTOWN\",\"EAST\",\"EAST\",\"NORTHEAST\",\"NORTHEAST\",\"NORTHEAST\",\"NORTHEAST\",\"MAGNOLIA \\u002f QUEEN ANNE\",\"DOWNTOWN\",\"DOWNTOWN\",\"DOWNTOWN\",\"DOWNTOWN\",\"DOWNTOWN\",\"DOWNTOWN\",\"DOWNTOWN\",\"DOWNTOWN\",\"DOWNTOWN\",\"DOWNTOWN\",\"DOWNTOWN\",\"DOWNTOWN\",\"DOWNTOWN\",\"DOWNTOWN\",\"DOWNTOWN\",\"DOWNTOWN\",\"DOWNTOWN\",\"DOWNTOWN\",\"DOWNTOWN\",\"DOWNTOWN\",\"DOWNTOWN\",\"DOWNTOWN\",\"DOWNTOWN\",\"DOWNTOWN\",\"DOWNTOWN\",\"DOWNTOWN\",\"DOWNTOWN\",\"DOWNTOWN\",\"DOWNTOWN\",\"DOWNTOWN\",\"DOWNTOWN\",\"DOWNTOWN\",\"DOWNTOWN\",\"DOWNTOWN\",\"DOWNTOWN\",\"DOWNTOWN\",\"DOWNTOWN\",\"DOWNTOWN\",\"DOWNTOWN\",\"DOWNTOWN\",\"DOWNTOWN\",\"DOWNTOWN\",\"DOWNTOWN\",\"DOWNTOWN\",\"DOWNTOWN\",\"DOWNTOWN\",\"DOWNTOWN\",\"DOWNTOWN\",\"DOWNTOWN\",\"DOWNTOWN\",\"DOWNTOWN\",\"DOWNTOWN\",\"DOWNTOWN\",\"DOWNTOWN\",\"DOWNTOWN\",\"EAST\",\"EAST\",\"MAGNOLIA \\u002f QUEEN ANNE\",\"MAGNOLIA \\u002f QUEEN ANNE\",\"NORTH\",\"SOUTHWEST\",\"LAKE UNION\",\"NORTHWEST\",\"NORTHWEST\",\"NORTHWEST\",\"NORTHEAST\",\"NORTHEAST\",\"DELRIDGE\",\"MAGNOLIA \\u002f QUEEN ANNE\",\"DELRIDGE\",\"EAST\",\"SOUTHWEST\",\"SOUTHEAST\",\"NORTHEAST\",\"NORTHEAST\",\"NORTHEAST\",\"NORTHEAST\",\"NORTHEAST\",\"NORTHEAST\",\"NORTHEAST\",\"NORTHEAST\",\"NORTHEAST\",\"NORTHEAST\",\"NORTHEAST\",\"NORTHEAST\",\"DOWNTOWN\",\"DOWNTOWN\",\"DOWNTOWN\",\"DOWNTOWN\",\"DOWNTOWN\",\"DOWNTOWN\",\"DOWNTOWN\",\"DOWNTOWN\",\"DOWNTOWN\",\"DOWNTOWN\",\"BALLARD\",\"BALLARD\",\"SOUTHWEST\",\"CENTRAL\",\"NORTHWEST\",\"DOWNTOWN\",\"SOUTHEAST\",\"SOUTHEAST\",\"SOUTHEAST\",\"EAST\",\"NORTH\",\"NORTHEAST\",\"DOWNTOWN\",\"DOWNTOWN\",\"DOWNTOWN\",\"DOWNTOWN\",\"DOWNTOWN\",\"DOWNTOWN\",\"LAKE UNION\",\"SOUTHEAST\",\"NORTHEAST\",\"NORTHEAST\",\"SOUTHWEST\",\"EAST\",\"DELRIDGE\",\"SOUTHEAST\",\"SOUTHEAST\",\"SOUTHEAST\",\"SOUTHEAST\",\"MAGNOLIA \\u002f QUEEN ANNE\",\"EAST\",\"BALLARD\",\"BALLARD\",\"EAST\",\"NORTH\",\"NORTH\",\"NORTHWEST\",\"NORTHWEST\",\"NORTHEAST\",\"NORTHEAST\",\"NORTHEAST\",\"NORTHEAST\",\"NORTHEAST\",\"NORTHEAST\",\"NORTHEAST\",\"NORTHEAST\",\"NORTHEAST\",\"NORTHEAST\",\"NORTHEAST\",\"NORTHEAST\",\"NORTHEAST\",\"NORTHEAST\",\"NORTHEAST\",\"NORTHEAST\",\"NORTHEAST\",\"NORTHEAST\",\"NORTHEAST\",\"NORTHEAST\",\"NORTHEAST\",\"NORTHEAST\",\"NORTHEAST\",\"NORTHEAST\",\"NORTHEAST\",\"NORTHEAST\",\"NORTH\",\"SOUTHWEST\",\"NORTHWEST\",\"BALLARD\",\"BALLARD\",\"SOUTHWEST\",\"NORTH\",\"EAST\",\"NORTHEAST\",\"EAST\",\"NORTHEAST\",\"MAGNOLIA \\u002f QUEEN ANNE\",\"NORTHWEST\",\"SOUTHWEST\",\"MAGNOLIA \\u002f QUEEN ANNE\",\"MAGNOLIA \\u002f QUEEN ANNE\",\"LAKE UNION\",\"DOWNTOWN\",\"SOUTHEAST\",\"SOUTHWEST\",\"BALLARD\",\"MAGNOLIA \\u002f QUEEN ANNE\",\"BALLARD\",\"BALLARD\",\"GREATER DUWAMISH\",\"DOWNTOWN\",\"DOWNTOWN\",\"DOWNTOWN\",\"DOWNTOWN\",\"DOWNTOWN\",\"DOWNTOWN\",\"DOWNTOWN\",\"DOWNTOWN\",\"NORTHWEST\",\"SOUTHWEST\",\"SOUTHWEST\",\"SOUTHWEST\",\"SOUTHWEST\",\"SOUTHWEST\",\"SOUTHWEST\",\"SOUTHWEST\",\"SOUTHWEST\",\"SOUTHWEST\",\"SOUTHWEST\",\"SOUTHWEST\",\"SOUTHWEST\",\"SOUTHWEST\",\"SOUTHWEST\",\"CENTRAL\",\"CENTRAL\",\"MAGNOLIA \\u002f QUEEN ANNE\",\"NORTH\",\"NORTH\",\"NORTH\",\"NORTH\",\"NORTH\",\"NORTH\",\"NORTH\",\"NORTH\",\"NORTHWEST\",\"DOWNTOWN\",\"GREATER DUWAMISH\",\"CENTRAL\",\"SOUTHWEST\",\"EAST\",\"SOUTHWEST\",\"CENTRAL\",\"GREATER DUWAMISH\",\"GREATER DUWAMISH\",\"GREATER DUWAMISH\",\"GREATER DUWAMISH\",\"GREATER DUWAMISH\",\"SOUTHEAST\",\"SOUTHEAST\",\"SOUTHEAST\",\"SOUTHEAST\",\"MAGNOLIA \\u002f QUEEN ANNE\",\"SOUTHEAST\",\"SOUTHEAST\",\"SOUTHEAST\",\"GREATER DUWAMISH\",\"GREATER DUWAMISH\",\"MAGNOLIA \\u002f QUEEN ANNE\",\"MAGNOLIA \\u002f QUEEN ANNE\",\"MAGNOLIA \\u002f QUEEN ANNE\",\"MAGNOLIA \\u002f QUEEN ANNE\",\"NORTHEAST\",\"EAST\",\"EAST\",\"EAST\",\"EAST\",\"GREATER DUWAMISH\",\"DELRIDGE\",\"GREATER DUWAMISH\",\"GREATER DUWAMISH\",\"GREATER DUWAMISH\",\"GREATER DUWAMISH\",\"NORTHWEST\",\"LAKE UNION\",\"GREATER DUWAMISH\",\"EAST\",\"DOWNTOWN\",\"EAST\",\"MAGNOLIA \\u002f QUEEN ANNE\",\"GREATER DUWAMISH\",\"MAGNOLIA \\u002f QUEEN ANNE\",\"MAGNOLIA \\u002f QUEEN ANNE\",\"NORTH\",\"NORTH\",\"GREATER DUWAMISH\",\"CENTRAL\",\"EAST\",\"EAST\",\"MAGNOLIA \\u002f QUEEN ANNE\",\"MAGNOLIA \\u002f QUEEN ANNE\",\"MAGNOLIA \\u002f QUEEN ANNE\",\"MAGNOLIA \\u002f QUEEN ANNE\",\"MAGNOLIA \\u002f QUEEN ANNE\",\"MAGNOLIA \\u002f QUEEN ANNE\",\"MAGNOLIA \\u002f QUEEN ANNE\",\"MAGNOLIA \\u002f QUEEN ANNE\",\"MAGNOLIA \\u002f QUEEN ANNE\",\"MAGNOLIA \\u002f QUEEN ANNE\",\"MAGNOLIA \\u002f QUEEN ANNE\",\"MAGNOLIA \\u002f QUEEN ANNE\",\"MAGNOLIA \\u002f QUEEN ANNE\",\"DOWNTOWN\",\"MAGNOLIA \\u002f QUEEN ANNE\",\"DOWNTOWN\",\"NORTHWEST\",\"GREATER DUWAMISH\",\"MAGNOLIA \\u002f QUEEN ANNE\",\"DOWNTOWN\",\"NORTHEAST\",\"NORTHWEST\",\"MAGNOLIA \\u002f QUEEN ANNE\",\"EAST\",\"EAST\",\"NORTHEAST\",\"NORTHWEST\",\"LAKE UNION\",\"LAKE UNION\",\"LAKE UNION\",\"LAKE UNION\",\"LAKE UNION\",\"LAKE UNION\",\"LAKE UNION\",\"NORTHEAST\",\"LAKE UNION\",\"NORTHEAST\",\"NORTHEAST\",\"LAKE UNION\",\"LAKE UNION\",\"LAKE UNION\",\"DOWNTOWN\",\"BALLARD\",\"BALLARD\",\"NORTHEAST\",\"NORTHEAST\",\"SOUTHWEST\",\"BALLARD\",\"LAKE UNION\",\"NORTHWEST\",\"NORTHWEST\",\"LAKE UNION\",\"SOUTHWEST\",\"SOUTHEAST\",\"MAGNOLIA \\u002f QUEEN ANNE\",\"DOWNTOWN\",\"SOUTHEAST\",\"GREATER DUWAMISH\",\"GREATER DUWAMISH\",\"GREATER DUWAMISH\",\"GREATER DUWAMISH\",\"GREATER DUWAMISH\",\"GREATER DUWAMISH\",\"GREATER DUWAMISH\",\"GREATER DUWAMISH\",\"GREATER DUWAMISH\",\"LAKE UNION\",\"NORTHEAST\",\"LAKE UNION\",\"LAKE UNION\",\"LAKE UNION\",\"LAKE UNION\",\"LAKE UNION\",\"DOWNTOWN\",\"DOWNTOWN\",\"DOWNTOWN\",\"DOWNTOWN\",\"DOWNTOWN\",\"DOWNTOWN\",\"DOWNTOWN\",\"DOWNTOWN\",\"DOWNTOWN\",\"DOWNTOWN\",\"DOWNTOWN\",\"EAST\",\"EAST\",\"EAST\",\"EAST\",\"EAST\",\"EAST\",\"LAKE UNION\",\"LAKE UNION\",\"LAKE UNION\",\"LAKE UNION\",\"LAKE UNION\",\"LAKE UNION\",\"LAKE UNION\",\"LAKE UNION\",\"LAKE UNION\",\"LAKE UNION\",\"LAKE UNION\",\"LAKE UNION\",\"MAGNOLIA \\u002f QUEEN ANNE\",\"MAGNOLIA \\u002f QUEEN ANNE\",\"MAGNOLIA \\u002f QUEEN ANNE\",\"MAGNOLIA \\u002f QUEEN ANNE\",\"MAGNOLIA \\u002f QUEEN ANNE\",\"MAGNOLIA \\u002f QUEEN ANNE\",\"MAGNOLIA \\u002f QUEEN ANNE\",\"LAKE UNION\",\"MAGNOLIA \\u002f QUEEN ANNE\",\"MAGNOLIA \\u002f QUEEN ANNE\",\"MAGNOLIA \\u002f QUEEN ANNE\",\"DOWNTOWN\",\"DELRIDGE\",\"MAGNOLIA \\u002f QUEEN ANNE\",\"EAST\",\"MAGNOLIA \\u002f QUEEN ANNE\",\"NORTHWEST\",\"NORTHWEST\",\"NORTHWEST\",\"NORTHWEST\",\"NORTHWEST\",\"NORTHWEST\",\"NORTHWEST\",\"NORTHWEST\",\"NORTHWEST\",\"NORTHWEST\",\"NORTHWEST\",\"NORTHWEST\",\"NORTHWEST\",\"NORTHWEST\",\"NORTHWEST\",\"NORTHWEST\",\"NORTHWEST\",\"NORTHWEST\",\"NORTHWEST\",\"NORTHEAST\",\"NORTHEAST\",\"MAGNOLIA \\u002f QUEEN ANNE\",\"MAGNOLIA \\u002f QUEEN ANNE\",\"DOWNTOWN\",\"DOWNTOWN\",\"DOWNTOWN\",\"DOWNTOWN\",\"DOWNTOWN\",\"LAKE UNION\",\"MAGNOLIA \\u002f QUEEN ANNE\",\"MAGNOLIA \\u002f QUEEN ANNE\",\"MAGNOLIA \\u002f QUEEN ANNE\",\"MAGNOLIA \\u002f QUEEN ANNE\",\"MAGNOLIA \\u002f QUEEN ANNE\",\"MAGNOLIA \\u002f QUEEN ANNE\",\"MAGNOLIA \\u002f QUEEN ANNE\",\"MAGNOLIA \\u002f QUEEN ANNE\",\"MAGNOLIA \\u002f QUEEN ANNE\",\"MAGNOLIA \\u002f QUEEN ANNE\",\"MAGNOLIA \\u002f QUEEN ANNE\",\"DOWNTOWN\",\"DOWNTOWN\",\"DOWNTOWN\",\"DOWNTOWN\",\"DOWNTOWN\",\"DOWNTOWN\",\"DOWNTOWN\",\"DOWNTOWN\",\"DOWNTOWN\",\"DOWNTOWN\",\"EAST\",\"EAST\",\"EAST\",\"EAST\",\"EAST\",\"EAST\",\"EAST\",\"EAST\",\"EAST\",\"EAST\",\"EAST\",\"EAST\",\"EAST\",\"EAST\",\"EAST\",\"EAST\",\"EAST\",\"EAST\",\"EAST\",\"EAST\",\"EAST\",\"EAST\",\"EAST\",\"EAST\",\"EAST\",\"BALLARD\",\"BALLARD\",\"BALLARD\",\"BALLARD\",\"LAKE UNION\",\"LAKE UNION\",\"LAKE UNION\",\"LAKE UNION\",\"LAKE UNION\",\"LAKE UNION\",\"LAKE UNION\",\"MAGNOLIA \\u002f QUEEN ANNE\",\"MAGNOLIA \\u002f QUEEN ANNE\",\"MAGNOLIA \\u002f QUEEN ANNE\",\"MAGNOLIA \\u002f QUEEN ANNE\",\"MAGNOLIA \\u002f QUEEN ANNE\",\"MAGNOLIA \\u002f QUEEN ANNE\",\"MAGNOLIA \\u002f QUEEN ANNE\",\"MAGNOLIA \\u002f QUEEN ANNE\",\"LAKE UNION\",\"LAKE UNION\",\"LAKE UNION\",\"DELRIDGE\",\"LAKE UNION\",\"LAKE UNION\",\"LAKE UNION\",\"MAGNOLIA \\u002f QUEEN ANNE\",\"MAGNOLIA \\u002f QUEEN ANNE\",\"MAGNOLIA \\u002f QUEEN ANNE\",\"DOWNTOWN\",\"DOWNTOWN\",\"DOWNTOWN\",\"DOWNTOWN\",\"DOWNTOWN\",\"DOWNTOWN\",\"DOWNTOWN\",\"DOWNTOWN\",\"DOWNTOWN\",\"DOWNTOWN\",\"DOWNTOWN\",\"EAST\",\"DOWNTOWN\",\"DOWNTOWN\",\"DOWNTOWN\",\"DOWNTOWN\",\"DOWNTOWN\",\"DOWNTOWN\",\"DOWNTOWN\",\"DOWNTOWN\",\"DOWNTOWN\",\"DOWNTOWN\",\"DOWNTOWN\",\"DOWNTOWN\",\"DOWNTOWN\",\"DOWNTOWN\",\"DOWNTOWN\",\"DOWNTOWN\",\"LAKE UNION\",\"LAKE UNION\",\"EAST\",\"EAST\",\"NORTH\",\"LAKE UNION\",\"LAKE UNION\",\"LAKE UNION\",\"LAKE UNION\",\"LAKE UNION\",\"LAKE UNION\",\"LAKE UNION\",\"LAKE UNION\",\"LAKE UNION\",\"EAST\",\"MAGNOLIA \\u002f QUEEN ANNE\",\"MAGNOLIA \\u002f QUEEN ANNE\",\"MAGNOLIA \\u002f QUEEN ANNE\",\"NORTH\",\"MAGNOLIA \\u002f QUEEN ANNE\",\"NORTH\",\"NORTH\",\"NORTH\",\"NORTH\",\"NORTH\",\"LAKE UNION\",\"LAKE UNION\",\"LAKE UNION\",\"DELRIDGE\",\"NORTHEAST\",\"SOUTHEAST\",\"SOUTHEAST\",\"GREATER DUWAMISH\",\"EAST\",\"NORTH\",\"SOUTHWEST\",\"GREATER DUWAMISH\",\"NORTHEAST\",\"CENTRAL\",\"EAST\",\"EAST\",\"EAST\",\"EAST\",\"EAST\",\"EAST\",\"EAST\",\"EAST\",\"EAST\",\"EAST\",\"EAST\",\"EAST\",\"EAST\",\"EAST\",\"EAST\",\"EAST\",\"EAST\",\"EAST\",\"EAST\",\"EAST\",\"EAST\",\"EAST\",\"NORTHEAST\",\"LAKE UNION\",\"SOUTHEAST\",\"GREATER DUWAMISH\",\"MAGNOLIA \\u002f QUEEN ANNE\",\"MAGNOLIA \\u002f QUEEN ANNE\",\"MAGNOLIA \\u002f QUEEN ANNE\",\"MAGNOLIA \\u002f QUEEN ANNE\",\"MAGNOLIA \\u002f QUEEN ANNE\",\"MAGNOLIA \\u002f QUEEN ANNE\",\"MAGNOLIA \\u002f QUEEN ANNE\",\"MAGNOLIA \\u002f QUEEN ANNE\",\"MAGNOLIA \\u002f QUEEN ANNE\",\"MAGNOLIA \\u002f QUEEN ANNE\",\"MAGNOLIA \\u002f QUEEN ANNE\",\"LAKE UNION\",\"LAKE UNION\",\"SOUTHWEST\",\"SOUTHWEST\",\"NORTH\",\"LAKE UNION\",\"LAKE UNION\",\"LAKE UNION\",\"EAST\",\"LAKE UNION\",\"LAKE UNION\",\"LAKE UNION\",\"LAKE UNION\",\"LAKE UNION\",\"LAKE UNION\",\"LAKE UNION\",\"LAKE UNION\",\"NORTHEAST\",\"SOUTHWEST\",\"SOUTHWEST\",\"SOUTHWEST\",\"LAKE UNION\",\"BALLARD\",\"DOWNTOWN\",\"DOWNTOWN\",\"GREATER DUWAMISH\",\"GREATER DUWAMISH\",\"GREATER DUWAMISH\",\"GREATER DUWAMISH\",\"GREATER DUWAMISH\",\"GREATER DUWAMISH\",\"GREATER DUWAMISH\",\"MAGNOLIA \\u002f QUEEN ANNE\",\"EAST\",\"DOWNTOWN\",\"DOWNTOWN\",\"BALLARD\",\"LAKE UNION\",\"MAGNOLIA \\u002f QUEEN ANNE\",\"MAGNOLIA \\u002f QUEEN ANNE\",\"MAGNOLIA \\u002f QUEEN ANNE\",\"EAST\",\"LAKE UNION\",\"MAGNOLIA \\u002f QUEEN ANNE\",\"DOWNTOWN\",\"EAST\",\"EAST\",\"LAKE UNION\",\"DOWNTOWN\",\"NORTHWEST\",\"NORTHWEST\",\"NORTHWEST\",\"NORTHWEST\",\"NORTHWEST\",\"NORTHWEST\",\"NORTHWEST\",\"NORTHWEST\",\"GREATER DUWAMISH\",\"GREATER DUWAMISH\",\"GREATER DUWAMISH\",\"GREATER DUWAMISH\",\"NORTH\",\"NORTH\",\"NORTH\",\"NORTH\",\"NORTHEAST\",\"NORTHEAST\",\"NORTHEAST\",\"NORTHEAST\",\"NORTHEAST\",\"NORTHWEST\",\"MAGNOLIA \\u002f QUEEN ANNE\",\"DOWNTOWN\",\"EAST\",\"EAST\",\"DOWNTOWN\",\"MAGNOLIA \\u002f QUEEN ANNE\",\"NORTH\",\"GREATER DUWAMISH\",\"MAGNOLIA \\u002f QUEEN ANNE\",\"EAST\",\"BALLARD\",\"BALLARD\",\"BALLARD\",\"MAGNOLIA \\u002f QUEEN ANNE\",\"MAGNOLIA \\u002f QUEEN ANNE\",\"CENTRAL\",\"EAST\",\"CENTRAL\",\"CENTRAL\",\"LAKE UNION\",\"EAST\",\"EAST\",\"MAGNOLIA \\u002f QUEEN ANNE\",\"MAGNOLIA \\u002f QUEEN ANNE\",\"DOWNTOWN\",\"GREATER DUWAMISH\",\"EAST\",\"EAST\",\"SOUTHEAST\",\"SOUTHEAST\",\"GREATER DUWAMISH\",\"GREATER DUWAMISH\",\"GREATER DUWAMISH\",\"GREATER DUWAMISH\",\"GREATER DUWAMISH\",\"GREATER DUWAMISH\",\"DOWNTOWN\",\"BALLARD\",\"BALLARD\",\"BALLARD\",\"BALLARD\",\"BALLARD\",\"BALLARD\",\"BALLARD\",\"BALLARD\",\"BALLARD\",\"BALLARD\",\"BALLARD\",\"BALLARD\",\"BALLARD\",\"BALLARD\",\"BALLARD\",\"BALLARD\",\"BALLARD\",\"BALLARD\",\"BALLARD\",\"BALLARD\",\"BALLARD\",\"BALLARD\",\"BALLARD\",\"BALLARD\",\"MAGNOLIA \\u002f QUEEN ANNE\",\"MAGNOLIA \\u002f QUEEN ANNE\",\"DOWNTOWN\",\"DOWNTOWN\",\"NORTHWEST\",\"SOUTHEAST\",\"SOUTHEAST\",\"CENTRAL\",\"SOUTHWEST\",\"EAST\",\"MAGNOLIA \\u002f QUEEN ANNE\",\"LAKE UNION\",\"SOUTHEAST\",\"DOWNTOWN\",\"BALLARD\",\"BALLARD\",\"BALLARD\",\"BALLARD\",\"BALLARD\",\"BALLARD\",\"MAGNOLIA \\u002f QUEEN ANNE\",\"MAGNOLIA \\u002f QUEEN ANNE\",\"MAGNOLIA \\u002f QUEEN ANNE\",\"NORTHWEST\",\"MAGNOLIA \\u002f QUEEN ANNE\",\"MAGNOLIA \\u002f QUEEN ANNE\",\"MAGNOLIA \\u002f QUEEN ANNE\",\"MAGNOLIA \\u002f QUEEN ANNE\",\"MAGNOLIA \\u002f QUEEN ANNE\",\"MAGNOLIA \\u002f QUEEN ANNE\",\"MAGNOLIA \\u002f QUEEN ANNE\",\"BALLARD\",\"BALLARD\",\"CENTRAL\",\"CENTRAL\",\"MAGNOLIA \\u002f QUEEN ANNE\",\"MAGNOLIA \\u002f QUEEN ANNE\",\"MAGNOLIA \\u002f QUEEN ANNE\",\"MAGNOLIA \\u002f QUEEN ANNE\",\"MAGNOLIA \\u002f QUEEN ANNE\",\"MAGNOLIA \\u002f QUEEN ANNE\",\"MAGNOLIA \\u002f QUEEN ANNE\",\"MAGNOLIA \\u002f QUEEN ANNE\",\"MAGNOLIA \\u002f QUEEN ANNE\",\"MAGNOLIA \\u002f QUEEN ANNE\",\"MAGNOLIA \\u002f QUEEN ANNE\",\"BALLARD\",\"BALLARD\",\"BALLARD\",\"BALLARD\",\"BALLARD\",\"BALLARD\",\"BALLARD\",\"BALLARD\",\"BALLARD\",\"BALLARD\",\"BALLARD\",\"BALLARD\",\"BALLARD\",\"NORTHEAST\",\"NORTHWEST\",\"NORTH\",\"NORTHWEST\",\"NORTHWEST\",\"NORTHWEST\",\"NORTH\",\"NORTH\",\"NORTH\",\"NORTHWEST\",\"DELRIDGE\",\"SOUTHWEST\",\"NORTHEAST\",\"SOUTHWEST\",\"MAGNOLIA \\u002f QUEEN ANNE\",\"DOWNTOWN\",\"NORTHEAST\",\"NORTHWEST\",\"NORTHWEST\",\"MAGNOLIA \\u002f QUEEN ANNE\",\"MAGNOLIA \\u002f QUEEN ANNE\",\"MAGNOLIA \\u002f QUEEN ANNE\",\"MAGNOLIA \\u002f QUEEN ANNE\",\"MAGNOLIA \\u002f QUEEN ANNE\",\"MAGNOLIA \\u002f QUEEN ANNE\",\"MAGNOLIA \\u002f QUEEN ANNE\",\"MAGNOLIA \\u002f QUEEN ANNE\",\"MAGNOLIA \\u002f QUEEN ANNE\",\"NORTHWEST\",\"EAST\",\"EAST\",\"EAST\",\"EAST\",\"EAST\",\"LAKE UNION\",\"NORTH\",\"NORTHWEST\",\"NORTHWEST\",\"NORTHWEST\",\"NORTH\",\"NORTH\",\"NORTH\",\"NORTH\",\"NORTH\",\"NORTH\",\"NORTH\",\"NORTHWEST\",\"NORTH\",\"LAKE UNION\",\"LAKE UNION\",\"NORTH\",\"NORTH\",\"NORTH\",\"NORTH\",\"NORTH\",\"NORTH\",\"NORTH\",\"NORTH\",\"NORTH\",\"DOWNTOWN\",\"SOUTHWEST\",\"DELRIDGE\",\"NORTHWEST\",\"DELRIDGE\",\"DELRIDGE\",\"DELRIDGE\",\"MAGNOLIA \\u002f QUEEN ANNE\",\"NORTHWEST\",\"NORTHWEST\",\"NORTHWEST\",\"NORTHWEST\",\"NORTHWEST\",\"NORTHWEST\",\"CENTRAL\",\"CENTRAL\",\"GREATER DUWAMISH\",\"GREATER DUWAMISH\",\"MAGNOLIA \\u002f QUEEN ANNE\",\"DOWNTOWN\",\"SOUTHWEST\",\"LAKE UNION\",\"SOUTHWEST\",\"SOUTHWEST\",\"SOUTHWEST\",\"LAKE UNION\",\"CENTRAL\",\"SOUTHWEST\",\"SOUTHWEST\",\"EAST\",\"DELRIDGE\",\"DELRIDGE\",\"DELRIDGE\",\"DELRIDGE\",\"NORTHWEST\",\"NORTHWEST\",\"NORTHWEST\",\"DOWNTOWN\",\"DOWNTOWN\",\"DOWNTOWN\",\"DOWNTOWN\",\"EAST\",\"NORTH\",\"LAKE UNION\",\"MAGNOLIA \\u002f QUEEN ANNE\",\"MAGNOLIA \\u002f QUEEN ANNE\",\"NORTHWEST\",\"EAST\",\"EAST\",\"EAST\",\"EAST\",\"NORTH\",\"NORTH\",\"CENTRAL\",\"MAGNOLIA \\u002f QUEEN ANNE\",\"MAGNOLIA \\u002f QUEEN ANNE\",\"MAGNOLIA \\u002f QUEEN ANNE\",\"MAGNOLIA \\u002f QUEEN ANNE\",\"MAGNOLIA \\u002f QUEEN ANNE\",\"SOUTHWEST\",\"SOUTHWEST\",\"BALLARD\",\"BALLARD\",\"NORTHWEST\",\"SOUTHWEST\",\"SOUTHWEST\",\"SOUTHWEST\",\"SOUTHWEST\",\"GREATER DUWAMISH\",\"GREATER DUWAMISH\",\"GREATER DUWAMISH\",\"EAST\",\"EAST\",\"EAST\",\"EAST\",\"EAST\",\"EAST\",\"EAST\",\"EAST\",\"EAST\",\"EAST\",\"EAST\",\"EAST\",\"EAST\",\"EAST\",\"EAST\",\"EAST\",\"EAST\",\"EAST\",\"EAST\",\"EAST\",\"EAST\",\"EAST\",\"SOUTHEAST\",\"NORTH\",\"NORTH\",\"DELRIDGE\",\"NORTH\",\"NORTH\",\"NORTH\",\"NORTH\",\"NORTH\",\"NORTH\",\"NORTH\",\"SOUTHWEST\",\"SOUTHWEST\",\"SOUTHWEST\",\"SOUTHWEST\",\"DOWNTOWN\",\"SOUTHWEST\",\"DOWNTOWN\",\"GREATER DUWAMISH\",\"DELRIDGE\",\"DELRIDGE\",\"EAST\",\"EAST\",\"EAST\",\"EAST\",\"DOWNTOWN\",\"DOWNTOWN\",\"GREATER DUWAMISH\",\"SOUTHWEST\",\"EAST\",\"LAKE UNION\",\"MAGNOLIA \\u002f QUEEN ANNE\",\"MAGNOLIA \\u002f QUEEN ANNE\",\"MAGNOLIA \\u002f QUEEN ANNE\",\"MAGNOLIA \\u002f QUEEN ANNE\",\"MAGNOLIA \\u002f QUEEN ANNE\",\"MAGNOLIA \\u002f QUEEN ANNE\",\"MAGNOLIA \\u002f QUEEN ANNE\",\"MAGNOLIA \\u002f QUEEN ANNE\",\"MAGNOLIA \\u002f QUEEN ANNE\",\"MAGNOLIA \\u002f QUEEN ANNE\",\"MAGNOLIA \\u002f QUEEN ANNE\",\"MAGNOLIA \\u002f QUEEN ANNE\",\"MAGNOLIA \\u002f QUEEN ANNE\",\"MAGNOLIA \\u002f QUEEN ANNE\",\"MAGNOLIA \\u002f QUEEN ANNE\",\"MAGNOLIA \\u002f QUEEN ANNE\",\"MAGNOLIA \\u002f QUEEN ANNE\",\"MAGNOLIA \\u002f QUEEN ANNE\",\"MAGNOLIA \\u002f QUEEN ANNE\",\"MAGNOLIA \\u002f QUEEN ANNE\",\"GREATER DUWAMISH\",\"DOWNTOWN\",\"NORTH\",\"NORTH\",\"NORTH\",\"NORTH\",\"NORTH\",\"SOUTHWEST\",\"GREATER DUWAMISH\",\"MAGNOLIA \\u002f QUEEN ANNE\",\"SOUTHWEST\",\"NORTH\",\"MAGNOLIA \\u002f QUEEN ANNE\",\"EAST\",\"MAGNOLIA \\u002f QUEEN ANNE\",\"NORTHWEST\",\"SOUTHWEST\",\"EAST\",\"MAGNOLIA \\u002f QUEEN ANNE\",\"MAGNOLIA \\u002f QUEEN ANNE\",\"EAST\",\"EAST\",\"NORTH\",\"DOWNTOWN\",\"MAGNOLIA \\u002f QUEEN ANNE\",\"MAGNOLIA \\u002f QUEEN ANNE\",\"EAST\",\"EAST\",\"LAKE UNION\",\"DOWNTOWN\",\"DOWNTOWN\",\"MAGNOLIA \\u002f QUEEN ANNE\",\"MAGNOLIA \\u002f QUEEN ANNE\",\"MAGNOLIA \\u002f QUEEN ANNE\",\"MAGNOLIA \\u002f QUEEN ANNE\",\"MAGNOLIA \\u002f QUEEN ANNE\",\"MAGNOLIA \\u002f QUEEN ANNE\",\"MAGNOLIA \\u002f QUEEN ANNE\",\"MAGNOLIA \\u002f QUEEN ANNE\",\"MAGNOLIA \\u002f QUEEN ANNE\",\"DOWNTOWN\",\"MAGNOLIA \\u002f QUEEN ANNE\",\"MAGNOLIA \\u002f QUEEN ANNE\",\"MAGNOLIA \\u002f QUEEN ANNE\",\"MAGNOLIA \\u002f QUEEN ANNE\",\"MAGNOLIA \\u002f QUEEN ANNE\",\"NORTH\",\"NORTH\",\"NORTH\",\"NORTH\",\"NORTH\",\"NORTH\",\"MAGNOLIA \\u002f QUEEN ANNE\",\"MAGNOLIA \\u002f QUEEN ANNE\",\"NORTHEAST\",\"NORTHWEST\",\"SOUTHEAST\",\"SOUTHEAST\",\"EAST\",\"CENTRAL\",\"BALLARD\",\"LAKE UNION\",\"MAGNOLIA \\u002f QUEEN ANNE\",\"LAKE UNION\",\"MAGNOLIA \\u002f QUEEN ANNE\",\"DOWNTOWN\",\"LAKE UNION\",\"LAKE UNION\",\"LAKE UNION\",\"LAKE UNION\",\"DELRIDGE\",\"DELRIDGE\",\"DELRIDGE\",\"DELRIDGE\",\"DELRIDGE\",\"DELRIDGE\",\"MAGNOLIA \\u002f QUEEN ANNE\",\"GREATER DUWAMISH\",\"SOUTHWEST\",\"SOUTHWEST\",\"SOUTHEAST\",\"SOUTHEAST\",\"SOUTHEAST\",\"MAGNOLIA \\u002f QUEEN ANNE\",\"MAGNOLIA \\u002f QUEEN ANNE\",\"MAGNOLIA \\u002f QUEEN ANNE\",\"MAGNOLIA \\u002f QUEEN ANNE\",\"MAGNOLIA \\u002f QUEEN ANNE\",\"MAGNOLIA \\u002f QUEEN ANNE\",\"MAGNOLIA \\u002f QUEEN ANNE\",\"CENTRAL\",\"GREATER DUWAMISH\",\"EAST\",\"MAGNOLIA \\u002f QUEEN ANNE\",\"BALLARD\",\"SOUTHWEST\",\"LAKE UNION\",\"LAKE UNION\",\"LAKE UNION\",\"NORTH\",\"BALLARD\",\"EAST\",\"EAST\",\"NORTH\",\"CENTRAL\",\"CENTRAL\",\"BALLARD\",\"MAGNOLIA \\u002f QUEEN ANNE\",\"BALLARD\",\"GREATER DUWAMISH\",\"GREATER DUWAMISH\",\"GREATER DUWAMISH\",\"DOWNTOWN\",\"DOWNTOWN\",\"DOWNTOWN\",\"GREATER DUWAMISH\",\"GREATER DUWAMISH\",\"CENTRAL\",\"SOUTHWEST\",\"LAKE UNION\",\"SOUTHWEST\",\"BALLARD\",\"SOUTHWEST\",\"DOWNTOWN\",\"SOUTHEAST\",\"GREATER DUWAMISH\",\"CENTRAL\",\"CENTRAL\",\"CENTRAL\",\"NORTH\",\"CENTRAL\",\"CENTRAL\",\"DOWNTOWN\",\"CENTRAL\",\"CENTRAL\",\"GREATER DUWAMISH\",\"GREATER DUWAMISH\",\"GREATER DUWAMISH\",\"GREATER DUWAMISH\",\"NORTHEAST\",\"CENTRAL\",\"NORTHWEST\",\"EAST\",\"EAST\",\"CENTRAL\",\"GREATER DUWAMISH\",\"GREATER DUWAMISH\",\"NORTH\",\"GREATER DUWAMISH\",\"GREATER DUWAMISH\",\"GREATER DUWAMISH\",\"GREATER DUWAMISH\",\"GREATER DUWAMISH\",\"GREATER DUWAMISH\",\"GREATER DUWAMISH\",\"GREATER DUWAMISH\",\"GREATER DUWAMISH\",\"GREATER DUWAMISH\",\"SOUTHEAST\",\"GREATER DUWAMISH\",\"SOUTHEAST\",\"SOUTHEAST\",\"SOUTHEAST\",\"SOUTHEAST\",\"SOUTHEAST\",\"NORTHWEST\",\"NORTHWEST\",\"NORTH\",\"NORTHEAST\",\"NORTH\",\"NORTHEAST\",\"NORTHEAST\",\"NORTH\",\"GREATER DUWAMISH\",\"GREATER DUWAMISH\",\"GREATER DUWAMISH\",\"GREATER DUWAMISH\",\"GREATER DUWAMISH\",\"GREATER DUWAMISH\",\"GREATER DUWAMISH\",\"GREATER DUWAMISH\",\"GREATER DUWAMISH\",\"GREATER DUWAMISH\",\"GREATER DUWAMISH\",\"GREATER DUWAMISH\",\"GREATER DUWAMISH\",\"GREATER DUWAMISH\",\"GREATER DUWAMISH\",\"GREATER DUWAMISH\",\"GREATER DUWAMISH\",\"GREATER DUWAMISH\",\"GREATER DUWAMISH\",\"GREATER DUWAMISH\",\"GREATER DUWAMISH\",\"GREATER DUWAMISH\",\"MAGNOLIA \\u002f QUEEN ANNE\",\"SOUTHEAST\",\"NORTH\",\"EAST\",\"DELRIDGE\",\"DELRIDGE\",\"GREATER DUWAMISH\",\"DELRIDGE\",\"NORTHWEST\",\"NORTH\",\"NORTH\",\"NORTH\",\"NORTH\",\"NORTH\",\"NORTH\",\"NORTH\",\"NORTH\",\"EAST\",\"EAST\",\"GREATER DUWAMISH\",\"GREATER DUWAMISH\",\"GREATER DUWAMISH\",\"GREATER DUWAMISH\",\"GREATER DUWAMISH\",\"GREATER DUWAMISH\",\"GREATER DUWAMISH\",\"GREATER DUWAMISH\",\"DELRIDGE\",\"SOUTHWEST\",\"SOUTHWEST\",\"SOUTHWEST\",\"SOUTHWEST\",\"SOUTHEAST\",\"GREATER DUWAMISH\",\"GREATER DUWAMISH\",\"NORTHEAST\",\"NORTHEAST\",\"NORTH\",\"CENTRAL\",\"NORTHWEST\",\"EAST\",\"LAKE UNION\",\"LAKE UNION\",\"LAKE UNION\",\"BALLARD\",\"SOUTHWEST\",\"SOUTHWEST\",\"SOUTHWEST\",\"SOUTHWEST\",\"EAST\",\"LAKE UNION\",\"EAST\",\"GREATER DUWAMISH\",\"GREATER DUWAMISH\",\"GREATER DUWAMISH\",\"GREATER DUWAMISH\",\"GREATER DUWAMISH\",\"GREATER DUWAMISH\",\"GREATER DUWAMISH\",\"GREATER DUWAMISH\",\"CENTRAL\",\"CENTRAL\",\"SOUTHEAST\",\"SOUTHEAST\",\"SOUTHEAST\",\"SOUTHEAST\",\"NORTHWEST\",\"NORTH\",\"NORTH\",\"NORTH\",\"NORTHWEST\",\"NORTHWEST\",\"NORTHWEST\",\"EAST\",\"EAST\",\"EAST\",\"EAST\",\"EAST\",\"EAST\",\"EAST\",\"EAST\",\"EAST\",\"GREATER DUWAMISH\",\"GREATER DUWAMISH\",\"GREATER DUWAMISH\",\"GREATER DUWAMISH\",\"NORTHEAST\",\"NORTHEAST\",\"NORTHEAST\",\"NORTHEAST\",\"NORTHEAST\",\"NORTHEAST\",\"NORTHEAST\",\"NORTHEAST\",\"DELRIDGE\",\"DELRIDGE\",\"DELRIDGE\",\"DELRIDGE\",\"NORTHWEST\",\"NORTH\",\"GREATER DUWAMISH\",\"MAGNOLIA \\u002f QUEEN ANNE\",\"GREATER DUWAMISH\",\"GREATER DUWAMISH\",\"GREATER DUWAMISH\",\"GREATER DUWAMISH\",\"GREATER DUWAMISH\",\"GREATER DUWAMISH\",\"GREATER DUWAMISH\",\"EAST\",\"BALLARD\",\"DOWNTOWN\",\"CENTRAL\",\"NORTHEAST\",\"NORTHEAST\",\"NORTHEAST\",\"GREATER DUWAMISH\",\"LAKE UNION\",\"LAKE UNION\",\"EAST\",\"GREATER DUWAMISH\",\"GREATER DUWAMISH\",\"GREATER DUWAMISH\",\"GREATER DUWAMISH\",\"GREATER DUWAMISH\",\"GREATER DUWAMISH\",\"GREATER DUWAMISH\",\"GREATER DUWAMISH\",\"GREATER DUWAMISH\",\"GREATER DUWAMISH\",\"DELRIDGE\",\"DELRIDGE\",\"DELRIDGE\",\"DELRIDGE\",\"SOUTHWEST\",\"SOUTHWEST\",\"NORTHWEST\",\"LAKE UNION\",\"LAKE UNION\",\"GREATER DUWAMISH\",\"GREATER DUWAMISH\",\"NORTHWEST\",\"DELRIDGE\",\"DELRIDGE\",\"DELRIDGE\",\"DELRIDGE\",\"DELRIDGE\",\"BALLARD\",\"DOWNTOWN\",\"NORTHWEST\",\"NORTHWEST\",\"EAST\",\"EAST\",\"EAST\",\"EAST\",\"EAST\",\"EAST\",\"EAST\",\"EAST\",\"EAST\",\"EAST\",\"EAST\",\"GREATER DUWAMISH\",\"GREATER DUWAMISH\",\"GREATER DUWAMISH\",\"GREATER DUWAMISH\",\"DOWNTOWN\",\"GREATER DUWAMISH\",\"GREATER DUWAMISH\",\"GREATER DUWAMISH\",\"SOUTHWEST\",\"CENTRAL\",\"CENTRAL\",\"EAST\",\"EAST\",\"CENTRAL\",\"CENTRAL\",\"CENTRAL\",\"CENTRAL\",\"NORTHWEST\",\"NORTH\",\"NORTH\",\"NORTH\",\"NORTH\",\"GREATER DUWAMISH\",\"GREATER DUWAMISH\",\"GREATER DUWAMISH\",\"EAST\",\"EAST\",\"EAST\",\"EAST\",\"GREATER DUWAMISH\",\"GREATER DUWAMISH\",\"GREATER DUWAMISH\",\"GREATER DUWAMISH\",\"SOUTHWEST\",\"NORTHEAST\",\"SOUTHEAST\",\"SOUTHEAST\",\"SOUTHEAST\",\"NORTHWEST\",\"DELRIDGE\",\"MAGNOLIA \\u002f QUEEN ANNE\",\"MAGNOLIA \\u002f QUEEN ANNE\",\"NORTHWEST\",\"MAGNOLIA \\u002f QUEEN ANNE\",\"EAST\",\"CENTRAL\",\"CENTRAL\",\"CENTRAL\",\"CENTRAL\",\"CENTRAL\",\"CENTRAL\",\"NORTHWEST\",\"NORTHEAST\",\"BALLARD\",\"BALLARD\",\"BALLARD\",\"BALLARD\",\"NORTH\",\"GREATER DUWAMISH\",\"GREATER DUWAMISH\",\"GREATER DUWAMISH\",\"GREATER DUWAMISH\",\"GREATER DUWAMISH\",\"LAKE UNION\",\"BALLARD\",\"EAST\",\"GREATER DUWAMISH\",\"DOWNTOWN\",\"DOWNTOWN\",\"NORTHEAST\",\"NORTHEAST\",\"CENTRAL\",\"CENTRAL\",\"GREATER DUWAMISH\",\"GREATER DUWAMISH\",\"GREATER DUWAMISH\",\"LAKE UNION\",\"GREATER DUWAMISH\",\"NORTHEAST\",\"NORTHEAST\",\"NORTHWEST\",\"DELRIDGE\",\"SOUTHWEST\",\"SOUTHWEST\",\"SOUTHWEST\",\"EAST\",\"EAST\",\"MAGNOLIA \\u002f QUEEN ANNE\",\"MAGNOLIA \\u002f QUEEN ANNE\",\"MAGNOLIA \\u002f QUEEN ANNE\",\"NORTHWEST\",\"NORTHWEST\",\"NORTHWEST\",\"NORTHWEST\",\"CENTRAL\",\"NORTH\",\"EAST\",\"MAGNOLIA \\u002f QUEEN ANNE\",\"NORTH\",\"DELRIDGE\",\"DOWNTOWN\",\"NORTHWEST\",\"NORTHWEST\",\"SOUTHEAST\",\"NORTHEAST\",\"GREATER DUWAMISH\",\"GREATER DUWAMISH\",\"SOUTHWEST\",\"EAST\",\"EAST\",\"EAST\",\"EAST\",\"EAST\",\"EAST\",\"EAST\",\"EAST\",\"EAST\",\"EAST\",\"EAST\",\"EAST\",\"EAST\",\"EAST\",\"EAST\",\"SOUTHWEST\",\"SOUTHWEST\",\"DOWNTOWN\",\"SOUTHWEST\",\"SOUTHWEST\",\"SOUTHWEST\",\"NORTHWEST\",\"EAST\",\"EAST\",\"MAGNOLIA \\u002f QUEEN ANNE\",\"NORTHWEST\",\"MAGNOLIA \\u002f QUEEN ANNE\",\"MAGNOLIA \\u002f QUEEN ANNE\",\"NORTH\",\"NORTH\",\"NORTH\",\"NORTH\",\"GREATER DUWAMISH\",\"GREATER DUWAMISH\",\"GREATER DUWAMISH\",\"GREATER DUWAMISH\",\"LAKE UNION\",\"NORTH\",\"GREATER DUWAMISH\",\"NORTHWEST\",\"EAST\",\"EAST\",\"EAST\",\"EAST\",\"EAST\",\"NORTHEAST\",\"MAGNOLIA \\u002f QUEEN ANNE\",\"LAKE UNION\",\"LAKE UNION\",\"EAST\",\"SOUTHWEST\",\"MAGNOLIA \\u002f QUEEN ANNE\",\"MAGNOLIA \\u002f QUEEN ANNE\",\"DOWNTOWN\",\"MAGNOLIA \\u002f QUEEN ANNE\",\"NORTHEAST\",\"EAST\",\"GREATER DUWAMISH\",\"DOWNTOWN\",\"CENTRAL\",\"CENTRAL\",\"NORTHEAST\",\"DOWNTOWN\",\"DOWNTOWN\",\"EAST\",\"EAST\",\"LAKE UNION\",\"CENTRAL\",\"CENTRAL\",\"DOWNTOWN\",\"EAST\",\"NORTHWEST\",\"EAST\",\"NORTHEAST\",\"NORTHEAST\",\"DELRIDGE\",\"DELRIDGE\",\"MAGNOLIA \\u002f QUEEN ANNE\",\"EAST\",\"LAKE UNION\",\"LAKE UNION\",\"MAGNOLIA \\u002f QUEEN ANNE\",\"MAGNOLIA \\u002f QUEEN ANNE\",\"NORTHEAST\",\"NORTHEAST\",\"NORTHEAST\",\"NORTHEAST\",\"NORTHEAST\",\"NORTHEAST\",\"EAST\",\"CENTRAL\",\"EAST\",\"NORTHEAST\",\"NORTHWEST\",\"SOUTHWEST\",\"DOWNTOWN\",\"DOWNTOWN\",\"NORTHEAST\",\"SOUTHEAST\",\"SOUTHWEST\",\"MAGNOLIA \\u002f QUEEN ANNE\",\"DOWNTOWN\",\"DOWNTOWN\",\"DOWNTOWN\",\"DOWNTOWN\",\"DOWNTOWN\",\"DOWNTOWN\",\"DOWNTOWN\",\"DOWNTOWN\",\"MAGNOLIA \\u002f QUEEN ANNE\",\"LAKE UNION\",\"LAKE UNION\",\"NORTHEAST\",\"NORTHEAST\",\"NORTHEAST\",\"NORTHEAST\",\"NORTHEAST\",\"NORTHEAST\",\"NORTHEAST\",\"NORTHEAST\",\"NORTHEAST\",\"DOWNTOWN\",\"MAGNOLIA \\u002f QUEEN ANNE\",\"LAKE UNION\",\"EAST\",\"EAST\",\"MAGNOLIA \\u002f QUEEN ANNE\",\"NORTHEAST\",\"NORTHEAST\",\"NORTHEAST\",\"NORTHWEST\",\"NORTHWEST\",\"CENTRAL\",\"SOUTHWEST\",\"DOWNTOWN\",\"DOWNTOWN\",\"DOWNTOWN\",\"DOWNTOWN\",\"DOWNTOWN\",\"EAST\",\"EAST\",\"EAST\",\"EAST\",\"EAST\",\"EAST\",\"EAST\",\"EAST\",\"EAST\",\"NORTHEAST\",\"NORTHEAST\",\"NORTHEAST\",\"NORTHEAST\",\"DOWNTOWN\",\"DOWNTOWN\",\"DOWNTOWN\",\"DOWNTOWN\",\"DOWNTOWN\",\"EAST\",\"EAST\",\"EAST\",\"EAST\",\"EAST\",\"EAST\",\"EAST\",\"EAST\",\"EAST\",\"MAGNOLIA \\u002f QUEEN ANNE\",\"EAST\",\"EAST\",\"NORTHWEST\",\"DELRIDGE\",\"SOUTHWEST\",\"MAGNOLIA \\u002f QUEEN ANNE\",\"DELRIDGE\",\"SOUTHWEST\",\"EAST\",\"EAST\",\"EAST\",\"EAST\",\"DOWNTOWN\",\"DOWNTOWN\",\"GREATER DUWAMISH\",\"GREATER DUWAMISH\",\"GREATER DUWAMISH\",\"EAST\",\"EAST\",\"EAST\",\"EAST\",\"SOUTHWEST\",\"EAST\",\"SOUTHWEST\",\"CENTRAL\",\"SOUTHWEST\",\"MAGNOLIA \\u002f QUEEN ANNE\",\"MAGNOLIA \\u002f QUEEN ANNE\",\"DOWNTOWN\",\"NORTH\",\"SOUTHWEST\",\"DOWNTOWN\",\"SOUTHWEST\",\"SOUTHWEST\",\"SOUTHWEST\",\"DELRIDGE\",\"DELRIDGE\",\"MAGNOLIA \\u002f QUEEN ANNE\",\"MAGNOLIA \\u002f QUEEN ANNE\",\"EAST\",\"EAST\",\"EAST\",\"MAGNOLIA \\u002f QUEEN ANNE\",\"NORTHEAST\",\"BALLARD\",\"EAST\",\"CENTRAL\",\"EAST\",\"EAST\",\"EAST\",\"EAST\",\"SOUTHWEST\",\"SOUTHWEST\",\"SOUTHWEST\",\"DOWNTOWN\",\"EAST\",\"MAGNOLIA \\u002f QUEEN ANNE\",\"MAGNOLIA \\u002f QUEEN ANNE\",\"MAGNOLIA \\u002f QUEEN ANNE\",\"SOUTHEAST\",\"EAST\",\"EAST\",\"EAST\",\"MAGNOLIA \\u002f QUEEN ANNE\",\"MAGNOLIA \\u002f QUEEN ANNE\",\"SOUTHWEST\",\"NORTHWEST\",\"MAGNOLIA \\u002f QUEEN ANNE\",\"SOUTHWEST\",\"DELRIDGE\",\"DELRIDGE\",\"DELRIDGE\",\"GREATER DUWAMISH\",\"EAST\",\"EAST\",\"EAST\",\"EAST\",\"EAST\",\"EAST\",\"LAKE UNION\",\"NORTHWEST\",\"NORTHWEST\",\"NORTHWEST\",\"NORTHWEST\",\"NORTHWEST\",\"EAST\",\"EAST\",\"EAST\",\"EAST\",\"EAST\",\"EAST\",\"EAST\",\"EAST\",\"EAST\",\"EAST\",\"MAGNOLIA \\u002f QUEEN ANNE\",\"LAKE UNION\",\"MAGNOLIA \\u002f QUEEN ANNE\",\"MAGNOLIA \\u002f QUEEN ANNE\",\"MAGNOLIA \\u002f QUEEN ANNE\",\"MAGNOLIA \\u002f QUEEN ANNE\",\"MAGNOLIA \\u002f QUEEN ANNE\",\"LAKE UNION\",\"NORTHWEST\",\"MAGNOLIA \\u002f QUEEN ANNE\",\"SOUTHEAST\",\"DOWNTOWN\",\"EAST\",\"MAGNOLIA \\u002f QUEEN ANNE\",\"MAGNOLIA \\u002f QUEEN ANNE\",\"NORTHEAST\",\"NORTHWEST\",\"NORTHEAST\",\"LAKE UNION\",\"LAKE UNION\",\"NORTH\",\"LAKE UNION\",\"EAST\",\"EAST\",\"EAST\",\"EAST\",\"EAST\",\"EAST\",\"LAKE UNION\",\"NORTHWEST\",\"MAGNOLIA \\u002f QUEEN ANNE\",\"MAGNOLIA \\u002f QUEEN ANNE\",\"GREATER DUWAMISH\",\"GREATER DUWAMISH\",\"GREATER DUWAMISH\",\"NORTH\",\"NORTH\",\"EAST\",\"NORTH\",\"EAST\",\"EAST\",\"EAST\",\"EAST\",\"EAST\",\"EAST\",\"EAST\",\"MAGNOLIA \\u002f QUEEN ANNE\",\"MAGNOLIA \\u002f QUEEN ANNE\",\"MAGNOLIA \\u002f QUEEN ANNE\",\"NORTHWEST\",\"NORTHWEST\",\"NORTHWEST\",\"EAST\",\"NORTH\",\"NORTH\",\"LAKE UNION\",\"LAKE UNION\",\"LAKE UNION\",\"NORTHWEST\",\"BALLARD\",\"NORTHEAST\",\"NORTHWEST\",\"GREATER DUWAMISH\",\"EAST\",\"MAGNOLIA \\u002f QUEEN ANNE\",\"NORTHEAST\",\"NORTHEAST\",\"NORTHEAST\",\"NORTHEAST\",\"NORTHEAST\",\"NORTHEAST\",\"NORTHEAST\",\"NORTHEAST\",\"NORTHEAST\",\"NORTHEAST\",\"NORTHEAST\",\"NORTHWEST\",\"NORTHWEST\",\"NORTHWEST\",\"NORTHWEST\",\"LAKE UNION\",\"LAKE UNION\",\"LAKE UNION\",\"LAKE UNION\",\"MAGNOLIA \\u002f QUEEN ANNE\",\"MAGNOLIA \\u002f QUEEN ANNE\",\"MAGNOLIA \\u002f QUEEN ANNE\",\"MAGNOLIA \\u002f QUEEN ANNE\",\"NORTHEAST\",\"NORTHEAST\",\"NORTHEAST\",\"NORTHEAST\",\"NORTHEAST\",\"NORTHEAST\",\"NORTHEAST\",\"NORTHEAST\",\"NORTHEAST\",\"NORTHEAST\",\"NORTHWEST\",\"NORTHWEST\",\"NORTHWEST\",\"NORTHWEST\",\"NORTHWEST\",\"DOWNTOWN\",\"CENTRAL\",\"LAKE UNION\",\"DOWNTOWN\",\"DOWNTOWN\",\"DOWNTOWN\",\"DOWNTOWN\",\"DOWNTOWN\",\"DOWNTOWN\",\"DOWNTOWN\",\"MAGNOLIA \\u002f QUEEN ANNE\",\"DOWNTOWN\",\"SOUTHEAST\",\"SOUTHEAST\",\"CENTRAL\",\"NORTHEAST\",\"NORTHEAST\",\"NORTHEAST\",\"NORTHEAST\",\"NORTHEAST\",\"NORTHEAST\",\"NORTHWEST\",\"NORTHWEST\",\"NORTHWEST\",\"NORTHWEST\",\"NORTHWEST\",\"DOWNTOWN\",\"DOWNTOWN\",\"DOWNTOWN\",\"DOWNTOWN\",\"DOWNTOWN\",\"DOWNTOWN\",\"DOWNTOWN\",\"DOWNTOWN\",\"DOWNTOWN\",\"DOWNTOWN\",\"DOWNTOWN\",\"DOWNTOWN\",\"DOWNTOWN\",\"DOWNTOWN\",\"DOWNTOWN\",\"DOWNTOWN\",\"DOWNTOWN\",\"CENTRAL\",\"CENTRAL\",\"NORTH\",\"EAST\",\"CENTRAL\",\"NORTH\",\"EAST\",\"EAST\",\"MAGNOLIA \\u002f QUEEN ANNE\",\"EAST\",\"LAKE UNION\",\"DOWNTOWN\",\"LAKE UNION\",\"LAKE UNION\",\"NORTH\",\"NORTH\",\"NORTHWEST\",\"NORTHWEST\",\"CENTRAL\",\"DOWNTOWN\",\"DOWNTOWN\",\"DOWNTOWN\",\"DOWNTOWN\",\"DOWNTOWN\",\"DOWNTOWN\",\"DOWNTOWN\",\"DOWNTOWN\",\"DOWNTOWN\",\"DOWNTOWN\",\"DOWNTOWN\",\"DOWNTOWN\",\"DOWNTOWN\",\"DOWNTOWN\",\"DOWNTOWN\",\"DOWNTOWN\",\"DOWNTOWN\",\"DOWNTOWN\",\"BALLARD\",\"LAKE UNION\",\"NORTHEAST\",\"NORTHEAST\",\"CENTRAL\",\"NORTHEAST\",\"NORTHEAST\",\"NORTHEAST\",\"NORTHEAST\",\"NORTHEAST\",\"NORTHEAST\",\"NORTHEAST\",\"NORTHEAST\",\"NORTHEAST\",\"NORTHEAST\",\"NORTHEAST\",\"EAST\",\"CENTRAL\",\"CENTRAL\",\"CENTRAL\",\"CENTRAL\",\"CENTRAL\",\"CENTRAL\",\"EAST\",\"BALLARD\",\"GREATER DUWAMISH\",\"GREATER DUWAMISH\",\"DOWNTOWN\",\"SOUTHWEST\",\"SOUTHWEST\",\"EAST\",\"EAST\",\"DOWNTOWN\",\"NORTHEAST\",\"GREATER DUWAMISH\",\"GREATER DUWAMISH\",\"NORTHEAST\",\"NORTHEAST\",\"GREATER DUWAMISH\",\"DOWNTOWN\",\"SOUTHEAST\",\"DOWNTOWN\",\"LAKE UNION\",\"MAGNOLIA \\u002f QUEEN ANNE\",\"EAST\",\"MAGNOLIA \\u002f QUEEN ANNE\",\"SOUTHEAST\",\"SOUTHWEST\",\"SOUTHWEST\",\"EAST\",\"NORTHWEST\",\"LAKE UNION\",\"NORTH\",\"CENTRAL\",\"DOWNTOWN\",\"MAGNOLIA \\u002f QUEEN ANNE\",\"MAGNOLIA \\u002f QUEEN ANNE\",\"MAGNOLIA \\u002f QUEEN ANNE\",\"BALLARD\",\"SOUTHWEST\",\"GREATER DUWAMISH\",\"GREATER DUWAMISH\",\"GREATER DUWAMISH\",\"DOWNTOWN\",\"EAST\",\"CENTRAL\",\"DOWNTOWN\",\"CENTRAL\",\"EAST\",\"DOWNTOWN\",\"SOUTHWEST\",\"SOUTHEAST\",\"MAGNOLIA \\u002f QUEEN ANNE\",\"EAST\",\"EAST\",\"EAST\",\"EAST\",\"DOWNTOWN\",\"EAST\",\"NORTH\",\"NORTHWEST\",\"LAKE UNION\",\"NORTHWEST\",\"MAGNOLIA \\u002f QUEEN ANNE\",\"MAGNOLIA \\u002f QUEEN ANNE\",\"DOWNTOWN\",\"CENTRAL\",\"SOUTHWEST\",\"EAST\",\"CENTRAL\",\"EAST\",\"EAST\",\"EAST\",\"SOUTHEAST\",\"NORTHEAST\",\"DOWNTOWN\",\"GREATER DUWAMISH\",\"NORTHWEST\",\"NORTHWEST\",\"NORTH\",\"LAKE UNION\",\"NORTH\",\"NORTH\",\"NORTH\",\"NORTH\",\"NORTH\",\"NORTH\",\"NORTH\",\"NORTH\",\"NORTH\",\"NORTH\",\"DOWNTOWN\",\"EAST\",\"NORTHEAST\",\"NORTH\",\"NORTHEAST\",\"LAKE UNION\",\"SOUTHWEST\",\"EAST\",\"SOUTHEAST\",\"EAST\",\"MAGNOLIA \\u002f QUEEN ANNE\",\"EAST\",\"EAST\",\"NORTHEAST\",\"NORTHEAST\",\"MAGNOLIA \\u002f QUEEN ANNE\",\"MAGNOLIA \\u002f QUEEN ANNE\",\"MAGNOLIA \\u002f QUEEN ANNE\",\"CENTRAL\",\"EAST\",\"EAST\",\"EAST\",\"NORTHEAST\",\"NORTHEAST\",\"NORTHEAST\",\"MAGNOLIA \\u002f QUEEN ANNE\",\"NORTHWEST\",\"NORTHWEST\",\"LAKE UNION\",\"MAGNOLIA \\u002f QUEEN ANNE\",\"MAGNOLIA \\u002f QUEEN ANNE\",\"MAGNOLIA \\u002f QUEEN ANNE\",\"MAGNOLIA \\u002f QUEEN ANNE\",\"GREATER DUWAMISH\",\"GREATER DUWAMISH\",\"GREATER DUWAMISH\",\"GREATER DUWAMISH\",\"MAGNOLIA \\u002f QUEEN ANNE\",\"CENTRAL\",\"MAGNOLIA \\u002f QUEEN ANNE\",\"MAGNOLIA \\u002f QUEEN ANNE\",\"MAGNOLIA \\u002f QUEEN ANNE\",\"GREATER DUWAMISH\",\"GREATER DUWAMISH\",\"GREATER DUWAMISH\",\"GREATER DUWAMISH\",\"LAKE UNION\",\"MAGNOLIA \\u002f QUEEN ANNE\",\"NORTH\",\"MAGNOLIA \\u002f QUEEN ANNE\",\"MAGNOLIA \\u002f QUEEN ANNE\",\"EAST\",\"NORTHWEST\",\"NORTHWEST\",\"NORTHWEST\",\"NORTHWEST\",\"EAST\",\"EAST\",\"DOWNTOWN\",\"BALLARD\",\"NORTHWEST\",\"NORTH\",\"DELRIDGE\",\"NORTHWEST\",\"NORTHWEST\",\"NORTHWEST\",\"MAGNOLIA \\u002f QUEEN ANNE\",\"EAST\",\"EAST\",\"EAST\",\"MAGNOLIA \\u002f QUEEN ANNE\",\"MAGNOLIA \\u002f QUEEN ANNE\",\"MAGNOLIA \\u002f QUEEN ANNE\",\"DOWNTOWN\",\"MAGNOLIA \\u002f QUEEN ANNE\",\"MAGNOLIA \\u002f QUEEN ANNE\",\"MAGNOLIA \\u002f QUEEN ANNE\",\"CENTRAL\",\"DOWNTOWN\",\"MAGNOLIA \\u002f QUEEN ANNE\",\"MAGNOLIA \\u002f QUEEN ANNE\",\"MAGNOLIA \\u002f QUEEN ANNE\",\"MAGNOLIA \\u002f QUEEN ANNE\",\"MAGNOLIA \\u002f QUEEN ANNE\",\"MAGNOLIA \\u002f QUEEN ANNE\",\"MAGNOLIA \\u002f QUEEN ANNE\",\"MAGNOLIA \\u002f QUEEN ANNE\",\"MAGNOLIA \\u002f QUEEN ANNE\",\"MAGNOLIA \\u002f QUEEN ANNE\",\"MAGNOLIA \\u002f QUEEN ANNE\",\"MAGNOLIA \\u002f QUEEN ANNE\",\"MAGNOLIA \\u002f QUEEN ANNE\",\"MAGNOLIA \\u002f QUEEN ANNE\",\"MAGNOLIA \\u002f QUEEN ANNE\",\"MAGNOLIA \\u002f QUEEN ANNE\",\"MAGNOLIA \\u002f QUEEN ANNE\",\"NORTH\",\"NORTH\",\"NORTH\",\"SOUTHWEST\",\"NORTHWEST\",\"MAGNOLIA \\u002f QUEEN ANNE\",\"LAKE UNION\",\"LAKE UNION\",\"LAKE UNION\",\"LAKE UNION\",\"NORTHWEST\",\"CENTRAL\",\"CENTRAL\",\"CENTRAL\",\"NORTH\",\"EAST\",\"EAST\",\"EAST\",\"EAST\",\"EAST\",\"EAST\",\"EAST\",\"CENTRAL\",\"CENTRAL\",\"CENTRAL\",\"CENTRAL\",\"CENTRAL\",\"EAST\",\"EAST\",\"EAST\",\"EAST\",\"EAST\",\"EAST\",\"NORTHEAST\",\"NORTHEAST\",\"NORTHEAST\",\"NORTHEAST\",\"NORTHEAST\",\"NORTHEAST\",\"NORTHEAST\",\"CENTRAL\",\"LAKE UNION\",\"DOWNTOWN\",\"CENTRAL\",\"CENTRAL\",\"EAST\",\"EAST\",\"EAST\",\"EAST\",\"NORTHWEST\",\"EAST\",\"MAGNOLIA \\u002f QUEEN ANNE\",\"EAST\",\"EAST\",\"NORTH\",\"NORTH\",\"NORTH\",\"CENTRAL\",\"CENTRAL\",\"CENTRAL\",\"CENTRAL\",\"NORTHWEST\",\"NORTHWEST\",\"SOUTHWEST\",\"SOUTHWEST\",\"SOUTHWEST\",\"SOUTHWEST\",\"MAGNOLIA \\u002f QUEEN ANNE\",\"NORTH\",\"EAST\",\"MAGNOLIA \\u002f QUEEN ANNE\",\"MAGNOLIA \\u002f QUEEN ANNE\",\"MAGNOLIA \\u002f QUEEN ANNE\",\"MAGNOLIA \\u002f QUEEN ANNE\",\"BALLARD\",\"GREATER DUWAMISH\",\"SOUTHWEST\",\"SOUTHWEST\",\"GREATER DUWAMISH\",\"GREATER DUWAMISH\",\"GREATER DUWAMISH\",\"SOUTHWEST\",\"NORTHWEST\",\"NORTHWEST\",\"NORTHWEST\",\"NORTHWEST\",\"NORTHWEST\",\"NORTHEAST\",\"EAST\",\"SOUTHEAST\",\"LAKE UNION\",\"BALLARD\",\"MAGNOLIA \\u002f QUEEN ANNE\",\"DOWNTOWN\",\"GREATER DUWAMISH\",\"NORTH\",\"NORTH\",\"NORTH\",\"DOWNTOWN\",\"SOUTHEAST\",\"EAST\",\"GREATER DUWAMISH\",\"SOUTHEAST\",\"SOUTHEAST\",\"SOUTHEAST\",\"EAST\",\"DOWNTOWN\",\"DOWNTOWN\",\"DOWNTOWN\",\"NORTHEAST\",\"MAGNOLIA \\u002f QUEEN ANNE\",\"SOUTHWEST\",\"EAST\",\"EAST\",\"GREATER DUWAMISH\",\"LAKE UNION\",\"DOWNTOWN\",\"SOUTHWEST\",\"DOWNTOWN\",\"DOWNTOWN\",\"NORTHEAST\",\"DOWNTOWN\",\"NORTH\",\"CENTRAL\",\"EAST\",\"LAKE UNION\",\"MAGNOLIA \\u002f QUEEN ANNE\",\"DOWNTOWN\",\"SOUTHWEST\",\"EAST\",\"MAGNOLIA \\u002f QUEEN ANNE\",\"MAGNOLIA \\u002f QUEEN ANNE\",\"MAGNOLIA \\u002f QUEEN ANNE\",\"MAGNOLIA \\u002f QUEEN ANNE\",\"EAST\",\"NORTHWEST\",\"CENTRAL\",\"GREATER DUWAMISH\",\"GREATER DUWAMISH\",\"DELRIDGE\",\"EAST\",\"GREATER DUWAMISH\",\"NORTHEAST\",\"NORTHEAST\",\"NORTHEAST\",\"DOWNTOWN\",\"EAST\",\"MAGNOLIA \\u002f QUEEN ANNE\",\"GREATER DUWAMISH\",\"GREATER DUWAMISH\",\"NORTHWEST\",\"NORTHWEST\",\"MAGNOLIA \\u002f QUEEN ANNE\",\"NORTH\",\"MAGNOLIA \\u002f QUEEN ANNE\",\"EAST\",\"LAKE UNION\",\"SOUTHEAST\",\"NORTHEAST\",\"NORTH\",\"NORTHEAST\",\"NORTHEAST\",\"EAST\",\"DOWNTOWN\",\"CENTRAL\",\"NORTHEAST\",\"CENTRAL\",\"EAST\",\"EAST\",\"GREATER DUWAMISH\",\"CENTRAL\",\"MAGNOLIA \\u002f QUEEN ANNE\",\"NORTHWEST\",\"LAKE UNION\",\"DOWNTOWN\",\"CENTRAL\",\"SOUTHEAST\",\"BALLARD\",\"NORTHEAST\",\"EAST\",\"MAGNOLIA \\u002f QUEEN ANNE\",\"NORTHWEST\",\"EAST\",\"EAST\",\"NORTHEAST\",\"NORTHEAST\",\"SOUTHEAST\",\"GREATER DUWAMISH\",\"MAGNOLIA \\u002f QUEEN ANNE\",\"MAGNOLIA \\u002f QUEEN ANNE\",\"SOUTHWEST\",\"EAST\",\"DOWNTOWN\",\"MAGNOLIA \\u002f QUEEN ANNE\",\"MAGNOLIA \\u002f QUEEN ANNE\",\"NORTHEAST\",\"NORTHEAST\",\"DOWNTOWN\",\"LAKE UNION\",\"NORTHWEST\",\"DELRIDGE\",\"MAGNOLIA \\u002f QUEEN ANNE\",\"SOUTHWEST\",\"LAKE UNION\",\"EAST\",\"NORTHWEST\",\"MAGNOLIA \\u002f QUEEN ANNE\",\"SOUTHWEST\",\"DOWNTOWN\",\"MAGNOLIA \\u002f QUEEN ANNE\",\"NORTHEAST\",\"CENTRAL\",\"DOWNTOWN\",\"BALLARD\",\"LAKE UNION\",\"CENTRAL\",\"NORTHEAST\",\"DOWNTOWN\",\"BALLARD\",\"EAST\",\"DOWNTOWN\",\"EAST\",\"EAST\",\"EAST\",\"NORTHWEST\",\"MAGNOLIA \\u002f QUEEN ANNE\",\"DELRIDGE\",\"DOWNTOWN\",\"LAKE UNION\",\"BALLARD\",\"BALLARD\",\"NORTHWEST\",\"DOWNTOWN\",\"NORTHEAST\",\"CENTRAL\",\"MAGNOLIA \\u002f QUEEN ANNE\",\"SOUTHEAST\",\"CENTRAL\",\"EAST\",\"NORTHWEST\",\"LAKE UNION\",\"MAGNOLIA \\u002f QUEEN ANNE\",\"NORTHEAST\",\"CENTRAL\",\"GREATER DUWAMISH\",\"LAKE UNION\",\"LAKE UNION\",\"EAST\",\"MAGNOLIA \\u002f QUEEN ANNE\",\"GREATER DUWAMISH\",\"DOWNTOWN\",\"EAST\",\"NORTHWEST\",\"SOUTHWEST\",\"EAST\",\"NORTH\",\"NORTHEAST\",\"DOWNTOWN\",\"GREATER DUWAMISH\",\"BALLARD\",\"EAST\",\"GREATER DUWAMISH\",\"DELRIDGE\",\"SOUTHEAST\",\"GREATER DUWAMISH\",\"EAST\",\"DOWNTOWN\",\"MAGNOLIA \\u002f QUEEN ANNE\",\"EAST\",\"EAST\",\"EAST\",\"DOWNTOWN\",\"NORTHEAST\",\"EAST\",\"DOWNTOWN\",\"DOWNTOWN\",\"BALLARD\",\"BALLARD\",\"GREATER DUWAMISH\",\"EAST\",\"MAGNOLIA \\u002f QUEEN ANNE\",\"SOUTHEAST\",\"NORTHEAST\",\"NORTHEAST\",\"NORTHEAST\",\"NORTHEAST\",\"LAKE UNION\",\"MAGNOLIA \\u002f QUEEN ANNE\",\"NORTHWEST\",\"EAST\",\"NORTH\",\"DOWNTOWN\",\"DOWNTOWN\",\"EAST\",\"MAGNOLIA \\u002f QUEEN ANNE\",\"SOUTHEAST\",\"LAKE UNION\",\"DOWNTOWN\",\"EAST\",\"NORTHEAST\",\"NORTHEAST\",\"NORTHEAST\",\"BALLARD\",\"EAST\",\"NORTHEAST\",\"EAST\",\"SOUTHEAST\",\"NORTHEAST\",\"BALLARD\",\"MAGNOLIA \\u002f QUEEN ANNE\",\"NORTHEAST\",\"MAGNOLIA \\u002f QUEEN ANNE\",\"EAST\",\"EAST\",\"LAKE UNION\",\"NORTH\",\"EAST\",\"EAST\",\"EAST\",\"GREATER DUWAMISH\",\"DOWNTOWN\",\"SOUTHEAST\",\"MAGNOLIA \\u002f QUEEN ANNE\",\"LAKE UNION\",\"DOWNTOWN\",\"LAKE UNION\",\"MAGNOLIA \\u002f QUEEN ANNE\",\"GREATER DUWAMISH\",\"LAKE UNION\",\"LAKE UNION\",\"BALLARD\",\"DOWNTOWN\",\"EAST\",\"LAKE UNION\",\"NORTHEAST\",\"EAST\",\"LAKE UNION\",\"DOWNTOWN\",\"NORTHEAST\",\"NORTHEAST\",\"DOWNTOWN\",\"LAKE UNION\",\"GREATER DUWAMISH\",\"BALLARD\",\"NORTHWEST\",\"MAGNOLIA \\u002f QUEEN ANNE\",\"NORTHEAST\",\"DOWNTOWN\",\"GREATER DUWAMISH\",\"NORTHEAST\",\"MAGNOLIA \\u002f QUEEN ANNE\",\"LAKE UNION\",\"CENTRAL\",\"NORTHEAST\",\"NORTHEAST\",\"EAST\",\"LAKE UNION\",\"SOUTHWEST\",\"CENTRAL\",\"NORTHEAST\",\"NORTH\",\"CENTRAL\",\"BALLARD\",\"NORTH\",\"BALLARD\",\"BALLARD\",\"EAST\",\"CENTRAL\",\"DELRIDGE\",\"DOWNTOWN\",\"MAGNOLIA \\u002f QUEEN ANNE\",\"GREATER DUWAMISH\",\"GREATER DUWAMISH\"],\"xaxis\":\"x\",\"y\":[249.98,295.86,2089.28,286.43,505.01,301.81,176.14,221.51,392.16,151.12,691.26,740.97,328.23,648.62,511.39,181.38,433.86,802.89,273.02,349.32,1265.29,1699.45,90.01,388.04,9.13,256.57,328.63,128.44,157.77,215.0,3.93,16870.98,311.84,31.47,130.56,83.86,247.85,45.43,295.33,66.48,33.26,35.36,584.31,59.19,2451.58,134.38,227.18,144.79,199.95,162.39,152.76,146.34,171.64,87.98,1727.11,609.1,67.06,430.84,262.75,481.97,39.06,138.85,526.85,607.41,344.2,804.2,617.52,101.83,6.11,490.73,29.04,674.09,48.76,152.14,191.2,78.85,243.23,34.14,44.32,133.58,127.29,443.73,89.02,142.39,429.12,1990.5,176.75,46.26,228.4,74.33,866.23,222.02,204.08,61.21,100.46,104.26,129.39,222.78,422.39,2055.82,49.58,723.47,231.53,66.3,8145.52,83.7,51.11,362.82,69.44,297.43,35.78,369.14,272.85,59.34,48.99,309.6,225.69,3.0,338.16,175.77,208.26,28.27,892.63,96.43,27.39,1246.55,388.37,16.81,748.55,162.41,92.91,279.35,1638.46,4906.33,9.63,10734.57,193.94,145.31,72.88,469.57,49.09,84.57,149.93,57.21,254.87,433.6,50.52,59.63,23.8,101.41,661.04,1060.13,639.39,780.84,301.76,377.27,44.22,26.39,68.24,68.19,149.27,172.58,398.19,313.3,359.11,170.51,100.26,26.19,563.25,229.25,222.19,275.54,130.73,51.67,31.97,213.23,70.15,318.97,171.52,46.56,26.1,139.72,231.32,218.53,627.87,287.32,546.65,175.95,429.27,380.37,298.61,216.24,70.17,89.47,198.34,209.41,119.03,30.86,49.12,6.09,168.88,72.42,176.43,91.13,141.95,103.97,46.03,208.79,384.27,24.91,741.3,78.92,355.05,530.66,1084.79,337.97,2573.75,162.45,116.03,48.65,21.51,40.46,70.47,156.67,224.36,588.9,1510.85,530.18,193.72,36.61,131.4,65.2,51.14,1468.5,318.08,18.03,202.99,793.05,74.83,48.54,20.98,316.2,185.03,147.75,525.78,216.43,135.23,33.17,31.72,92.92,100.65,281.55,44.48,418.9,328.83,249.09,130.69,201.15,147.49,456.22,530.59,243.66,114.14,13.86,117.11,5.32,236.9,5.44,30.27,21.36,39.47,374.92,35.8,42.03,38.59,33.06,93.23,32.73,454.49,349.07,1268.87,20.86,326.18,40.47,269.71,849.83,22.57,61.93,29.53,632.4,94.64,3995.45,726.96,122.68,69.59,74.1,587.16,1019.53,23.81,25.32,24.35,477.87,77.99,163.83,22.44,1032.63,277.98,45.47,121.98,41.8,80.32,47.94,110.46,10.24,226.43,237.39,553.27,158.92,34.9,27.17,37.74,94.47,85.01,1623.34,53.57,17.17,32.22,120.24,8.15,413.35,3.25,25.58,33.18,53.25,2.8,237.36,59.21,42.65,76.68,10.72,3.62,46.93,28.63,6.32,38.48,204.81,152.71,32.02,74.31,142.36,414.43,272.54,54.92,190.61,38.55,90.24,49.17,85.28,262.45,247.35,33.85,42.25,63.89,35.8,129.29,293.55,46.49,44.35,22.1,57.73,58.88,49.28,33.22,34.0,58.67,611.19,295.48,91.1,1156.45,45.22,23.86,49.9,107.83,22.12,65.3,49.74,107.16,20.29,39.5,64.0,640.71,406.02,365.79,39.47,8.73,25.74,306.5,19.73,134.69,19.89,76.8,26.04,24.89,130.31,99.59,13.28,31.58,65.56,132.6,74.18,15.65,30.5,16.48,41.18,18.74,190.1,7.37,138.35,20.18,67.78,182.14,180.76,445.62,98.43,47.25,810.7,100.42,49.25,42.74,33.41,59.75,477.85,58.43,67.29,25.3,692.12,734.72,185.39,481.06,17.28,40.38,94.74,130.32,357.39,282.46,21.37,23.48,35.56,310.19,530.62,58.52,116.95,270.17,111.69,138.39,36.49,30.61,98.54,357.86,60.7,55.73,177.62,5.59,54.78,103.57,116.74,88.74,70.09,119.81,8.8,50.17,47.39,97.82,69.02,119.46,157.48,7.08,95.86,75.29,19.86,155.74,48.5,178.62,34.14,67.65,168.5,25.37,293.56,33.58,86.9,710.7,61.86,38.21,47.82,314.43,1154.79,68.06,65.03,260.13,119.93,147.82,246.83,346.62,1921.82,882.56,110.7,582.28,109.85,324.25,150.88,133.8,27.82,54.4,20.12,426.39,639.72,132.71,119.03,41.8,13.72,169.06,264.78,89.41,9.31,31.43,390.67,94.59,51.56,30.35,73.58,179.45,89.94,111.23,46.52,152.28,60.92,13.61,75.12,1.06,131.64,89.53,158.55,119.92,195.43,166.13,99.14,455.39,29.16,67.51,74.45,24.12,4.22,4.2,106.12,95.03,79.39,110.41,20.94,69.3,27.24,12307.16,406.04,20.85,133.5,54.18,14.49,453.76,341.23,278.97,7.56,284.01,295.12,109.71,259.49,13.07,189.85,134.82,16.27,267.0,13.51,49.29,128.73,5.03,8.14,25.6,4.85,343.68,12.15,6.02,65.25,4.75,31.74,95.26,62.17,60.18,30.52,11.29,24.39,276.63,17.87,101.5,3.91,36.02,63.86,44.01,38.9,16.11,13.23,43.84,4.74,53.21,3.18,6.72,25.6,4.58,19.01,21.69,122.83,86.46,3.58,77.04,2.41,2.57,4.16,43.2,416.07,4.43,21.93,62.46,16.01,22.65,37.78,9.77,9.47,130.28,50.55,113.91,106.77,30.41,6.74,28.47,66.44,6.1,18.6,29.04,29.33,29.71,50.46,69.57,80.47,29.84,169.75,7.77,16.58,132.47,17.02,5.71,3.99,4.43,2.7,63.48,4.29,7.02,51.58,207.6,29.62,141.2,374.56,18.5,9.82,42.19,63.36,138.03,6.43,52.25,54.59,25.24,19.83,24.02,31.76,7.13,3.95,43.8,154.4,9.58,32.51,6.87,54.53,4.52,3.88,5.81,11.7,11.6,6.22,39.57,9.81,4.8,15.27,82.9,6.33,49.58,38.97,18.1,11.68,154.17,29.54,7.1,79.21,25.21,14.22,93.87,9.95,6.16,24.25,15.24,13.87,8.68,14.63,28.81,40.28,47.84,60.43,33.78,16.63,154.89,2.92,66.29,151.36,369.68,25.41,174.99,23.27,6.75,47.32,12.95,41.69,126.78,594.48,1266.06,11.14,24.48,100.71,26.78,4.77,10.83,7.28,99.44,86.02,78.36,25.12,103.18,5.18,26.09,27.27,98.59,658.76,30.33,72.78,30.6,23.82,165.86,12.74,56.63,93.68,3.63,73.2,9.29,35.2,9.65,4.33,4.84,36.43,86.66,4.01,10.34,9.66,14.83,26.89,5.62,16.47,19.65,15.43,4.22,13.91,3.95,47.12,63.61,28.41,47.66,184.8,17.67,46.57,101.99,40.38,25.2,66.82,126.44,74.92,126.3,99.15,332.85,137.94,119.63,43.03,25.39,9.57,32.64,303.36,36.28,6.91,33.23,34.98,6.64,64.51,200.3,122.99,79.58,8.45,38.87,6.49,4.86,262.98,5.35,32.22,6.39,67.23,4.16,23.59,9.48,218.2,7.87,5.19,155.54,6.69,37.31,4.2,3.56,13.44,4.14,8.14,87.31,4.39,5.67,4.8,4.99,4.32,4.43,4.08,4.76,6.18,15.97,21.97,63.68,118.37,59.61,89.57,4.96,5.46,4.92,26.21,5.66,13.14,39.49,21.55,51.28,7.98,8.64,43.57,52.09,4.35,6.61,11.18,24.51,20.09,202.65,19.76,4.23,3.24,7.08,5.95,3.41,10.77,20.08,355.8,23.15,16.67,26.11,4.04,131.87,15.11,33.37,49.98,0.63,120.91,145.48,63.41,19.07,122.59,130.58,15.9,185.23,89.29,43.45,35.04,188.67,71.55,100.21,13.29,128.91,210.3,34.15,6.33,4.28,73.31,50.43,8.61,7.62,1.86,178.46,134.57,69.15,17.68,261.09,10.75,43.13,12.61,15.68,13.16,33.92,147.0,9.93,25.93,9.99,12.48,5.17,19.93,19.82,13.02,19.04,46.75,63.06,10.05,40.51,0.82,8.1,5.51,3.89,1.73,11.28,247.85,37.2,83.1,93.83,6.9,74.33,5.29,4.15,1.7,61.71,46.64,65.65,10.75,39.05,104.91,4.78,1.67,50.31,94.98,5.28,31.6,4.83,15.35,71.99,67.52,28.58,61.53,88.89,10.89,82.87,32.33,33.92,35.26,199.79,92.58,47.7,90.31,29.82,7.91,47.59,19.76,101.96,28.44,408.82,127.74,551.53,9.67,18.85,8.64,61.46,6.08,6.94,11.54,115.56,20.73,6.52,8.7,2.52,6.18,17.26,32.8,81.82,10.44,51.91,4.27,23.59,8.97,8.2,39.5,72.26,11.27,534.88,6.7,480.9,15.47,68.14,29.97,16.99,100.02,32.63,106.45,51.13,3.95,68.97,29.41,16.33,235.26,3.06,348.22,10.26,8.85,3.16,64.81,45.79,81.96,1.55,3.73,18.16,3.54,14.49,10.74,62.83,28.09,264.43,4.95,312.13,3.34,60.29,13.71,36.92,27.93,221.1,46.48,82.38,195.71,1216.05,149.91,94.85,148.55,188.58,60.88,110.17,25.53,9.0,42.04,8.47,25.02,30.32,66.53,9.46,73.52,18.34,27.47,82.34,5.41,44.71,16.06,7.49,23.85,38.12,11.29,16.13,19.39,8.49,30.02,28.6,336.73,32.99,66.19,12.49,4.76,127.1,234.6,49.58,40.22,20.78,15.9,122.73,10.36,32.86,12.35,515.85,10.12,176.79,13.01,36.74,173.94,45.33,59.06,61.98,180.38,65.02,79.58,17.12,8.8,8.89,12.77,12.59,4.12,12.19,104.61,72.37,31.24,13.89,10.75,23.74,23.78,40.76,26.38,247.97,55.71,20.76,20.9,48.35,9.3,73.61,38.85,32.47,101.34,94.02,159.98,74.64,46.6,14.04,479.7,71.23,21.66,79.81,12.72,106.73,709.11,69.54,8.54,85.55,107.45,6.07,462.4,60.04,55.61,123.41,295.38,8.53,170.83,37.34,1.12,31.61,34.87,16.57,73.0,82.72,35.77,487.53,32.09,73.48,184.09,161.15,20.64,255.83,24.62,192.12,523.95,41.06,13.97,77.8,234.03,3.77,86.51,13.33,47.68,3.94,241.75,60.59,119.34,44.33,8.77,77.48,1148.5,98.28,13.43,94.01,26.34,218.79,44.89,348.21,110.73,14.05,11.97,17.14,12.98,143.34,34.16,38.51,45.81,72.5,14.13,75.99,82.92,2.01,125.13,12.64,22.46,41.22,182.81,34.02,4.69,3.04,193.47,220.26,10.73,75.25,30.22,39.35,4.05,52.74,77.76,6.13,422.45,115.43,15.17,3.69,8.18,6.26,120.6,8.25,3.54,22.53,35.96,55.95,4.83,11.87,6.84,10.38,2.27,167.98,111.73,20.12,5.97,12.25,7.34,20.9,117.19,4.21,77.16,21.55,75.58,7.07,7.57,4.13,14.45,26.27,139.73,4.53,25.36,74.42,10.82,42.1,56.62,11.53,5.5,5.49,43.19,57.69,37.72,54.44,13.27,44.93,35.39,3.49,96.4,39.1,95.5,45.11,4.38,5.91,6.59,62.19,260.38,92.45,4.45,4.42,86.81,102.04,52.57,54.86,73.26,12.18,16.87,71.15,201.31,9.58,123.23,913.07,32.13,207.71,4.7,3.71,4.77,5.66,6.35,671.55,225.66,27.97,9.42,15.62,18.63,2.64,26.55,7.59,118.41,22.56,7.22,14.3,13.18,18.54,6.44,5.63,5.55,16.72,7.96,6.63,109.46,6.84,11.84,240.39,509.36,7.48,6.79,203.73,474.86,1.85,21.08,7.61,4.72,103.28,23.9,80.09,32.77,24.88,135.81,6.99,49.62,5.97,27.41,53.73,49.73,225.67,26.46,3.98,285.62,372.55,5.08,43.52,8.99,173.23,17.3,15.11,423.51,17.38,3.95,5.44,281.47,300.11,52.04,3243.48,34.0,64.88,0.81,61.19,186.65,12.37,4.39,175.27,44.61,192.63,27.27,6.12,11.84,215.56,173.75,57.03,55.3,25.09,46.9,50.0,6.46,7.33,60.34,208.53,4.86,7.07,384.85,45.38,38.86,78.22,5.24,102.73,5.53,6.85,6.33,71.87,279.21,43.6,38.52,6.18,4.84,6.61,13.14,163.74,3.65,14.22,5.06,28.3,8.3,10.08,9.29,9.25,21.32,12.15,4.2,15.22,6.89,21.24,6.37,4.3,36.77,29.24,13.29,31.79,4.46,11.79,237.54,3.13,8.42,14.9,34.26,1.55,9.03,37.49,7.55,3.87,46.44,5.87,59.84,0.68,0.4,9.36,3.72,102.3,4.58,14.81,11.08,5.94,5.07,6.3,10.93,3.08,5.46,1.68,7.82,175.3,303.81,21.69,34.52,16.67,17.39,6.06,60.67,19.7,3.63,14.83,30.49,8.42,6.18,309.14,44.26,8.46,33.28,30.49,5.45,128.66,5.33,29.66,45.6,18.11,30.13,17.08,67.45,8.97,12.24,42.87,28.28,25.12,6.52,4.08,5.02,6.05,5.58,5.01,5.75,19.23,121.9,30.34,375.56,8.44,36.09,31.04,4.18,17.12,82.57,101.76,9.51,15.88,66.93,17.24,4.26,26.31,3.01,4.46,44.28,4.92,63.45,33.42,0.86,80.19,135.11,9.06,8.16,3.85,42.96,3.85,52.41,39.57,55.85,32.58,184.6,11.39,3278.11,13.55,3.96,53.21,4.09,78.29,3.5,129.89,22.29,117.79,18.72,4.51,5.47,44.6,8.14,4.35,5.42,11.87,14.81,3238.24,3.04,96.15,122.71,305.05,2.54,6.31,5.8,2.19,43.63,12.09,19.12,11.24,50.55,12.2,5.03,4.6,8.1,7.09,67.24,8.1,76.67,4.52,5.2,6.08,44.4,109.55,32.35,60.94,86.86,5.03,3.95,2.93,326.74,2.28,7.74,53.61,3.77,4.56,179.55,23.6,2.25,349.55,78.42,128.54,567.6,85.78,97.4,48.08,235.32,114.33,5.81,184.0,9.79,5.79,132.1,259.77,56.7,12.97,8.33,712.39,1110.07,62.23,18.95,26.41,21.55,30.86,38.39,26.33,2.86,99.39,3.7,13.74,2.69,44.26,4.91,13.09,4.21,39.77,294.65,4.39,351.53,3.44,37.65,21.24,62.05,112.34,125.42,101.31,146.93,46.45,110.66,32.04,11.88,5.07,5.82,44.51,4.6,14.51,7.13,34.62,24.26,6.19,80.15,24.93,4.55,4.2,42.1,9.16,3.74,4.74,24.31,6.85,145.21,250.84,8.08,22.26,16.13,4.73,4.68,38.41,6.28,334.15,38.57,114.63,91.53,4.94,5.93,4.67,6.26,19.43,34.3,5.46,34.48,6.03,8.3,4.72,5.5,12.13,17.89,4.81,11.71,25.59,7.07,45.08,5.37,15.7,61.25,138.31,25.47,41.15,5.31,75.13,58.85,68.8,63.14,9.36,4.27,8.42,184.51,41.13,10.92,8.57,4.74,6.15,5.53,14.35,33.8,565.55,28.19,10.43,60.5,9.68,27.69,52.79,3.38,59.24,11.51,37.54,10.17,30.78,11.17,17.57,4.65,13.91,44.19,7.21,7.83,44.97,26.73,13.12,54.67,13.7,178.86,61.3,5.46,88.58,55.86,80.06,88.1,6.16,16.04,60.57,22.29,24.76,4.98,14.36,3.07,39.57,18.95,6.04,18.87,79.53,151.95,6.43,3.52,17.41,5.7,7.85,18.34,290.88,77.23,3.53,25.13,4.95,7.56,10.01,37.51,128.41,19.56,109.59,50.07,178.97,19.7,14.84,13.67,25.09,40.96,91.53,218.99,42.45,7.21,54.24,13.05,19.51,37.08,9.26,10.65,10.95,22.48,8.07,174.62,67.05,3.8,17.48,6.56,6.87,27.7,149.53,5.57,19.61,8.85,22.93,51.1,17.04,2.91,83.3,33.1,28.37,21.5,157.07,4.48,178.35,102.35,13.87,12.92,7.31,4.13,59.7,312.6,7.15,5.74,4.29,5.53,3.64,12.22,4.51,5.76,18.03,9.71,405.05,1.14,12.55,5.09,25.77,40.85,3.45,8.7,40.94,95.93,17.29,15.35,51.27,40.01,40.42,59.0,4.52,39.61,39.75,160.8,15.87,5.35,3.48,71.16,17.83,5.93,5.82,9.99,6.56,6.42,3.67,5.62,6.41,14.65,18.5,10.68,3.44,61.21,27.14,17.51,42.73,38.87,60.12,2.82,9.25,16.5,46.16,5.72,24.91,3.5,43.64,6.28,7.26,5.41,38.38,12.89,19.69,3.73,93.5,30.99,8.44,17.87,6.08,5.26,73.14,3.23,17.92,18.42,4.71,45.58,4.74,28.66,3.65,3.72,9.29,8.22,43.17,19.88,7.27,27.92,41.96,64.35,20.3,14.7,4.11,57.25,9.76,18.91,5.0,31.94,7.35,19.77,18.87,75.64,28.89,103.19,6.35,18.04,65.77,69.88,26.52,49.18,46.85,23.5,78.57,7.74,219.93,4.72,34.04,1.51,4.33,7.24,75.12,260.32,18.9,60.53,7.22,13.16,158.63,10.98,26.76,8.45,41.77,175.53,124.4,43.18,64.75,59.14,39.05,11.18,77.75,94.3,94.69,85.15,77.56,21.46,29.88,34.75,9.11,5.94,112.82,6.46,17.6,26.27,27.68,12.17,6.3,1.46,7.49,66.77,106.35,7.98,92.7,2.15,7.05,8.46,11.94,61.68,110.42,61.6,30.79,18.95,35.48,37.61,61.18,12.05,286.89,152.14,11.44,147.24,14.17,50.7,18.87,36.89,31.43,145.27,3.96,15.26,59.05,6.01,3.99,92.3,1.6,17.45,27.83,4.02,11.73,96.62,23.62,9.65,9.89,33.52,82.07,5.21,48.3,131.69,16.16,178.21,0.79,32.89,4.62,292.8,4.49,18.97,0.75,22.62,58.36,6.18,4.2,28.55,2.94,10.05,25.15,39.25,14.99,6.64,4.31,52.73,413.1,6.27,6.0,54.27,2.86,47.08,44.97,23.83,20.02,28.05,43.68,89.72,11.69,42.24,13.22,5.04,13.39,256.31,31.54,51.15,8.04,3.41,27.75,42.66,1.6,9.67,44.68,2.94,422.31,263.37,32.44,298.91,14.37,23.52,23.84,17.75,5.69,8.49,17.11,71.71,226.81,20.67,57.59,20.39,9.63,6.68,79.3,85.27,28.7,78.19,30.26,3.77,8.38,6.85,2.76,5.09,4.02,28.78,70.14,41.96,4.5,22.72,30.12,10.43,144.45,7.78,18.42,6.3,45.14,120.72,49.53,5.15,121.27,24.32,7.9,8.28,111.96,17.39,67.98,47.64,10.06,102.04,17.73,42.23,84.95,104.51,4.62,3.94,3.75,449.59,3.63,8.27,8.21,28.83,5.65,6.99,232.1,73.48,588.25,3768.66,65.56,4.15,14.64,10.65,17.22,125.59,1.24,36.82,5.86,7.11,61.86,3.9,23.9,7.28,18.65,36.15,27.93,6.02,37.18,5.42,22.81,7.1,7.03,3.92,66.1,269.03,3.27,120.24,10.9,29.44,283.04,28.64,21.44,4.55,40.05,106.37,281.25,9.92,18.58,3.11,55.83,14.86,7.47,6.02,8.89,5.67,5.54,66.05,7.54,21.57,18.07,97.27,515.71,116.94,101.21,10.99,7.86,5.88,3.43,198.59,28.83,64.04,13.09,110.02,34.62,7.08,5.78,128.22,66.32,117.64,3.4,33.5,11.85,122.0,14.35,42.52,46.53,223.36,57.11,18.76,7.05,50.05,3.25,22.09,20.66,4.2,3.65,6.74,12.27,4.01,6.42,4.63,4.95,105.87,70.31,23.15,9.24,38.58,3.41,61.18,2.74,6.53,15.9,7.56,136.94,75.07,8.61,34.08,124.59,13.69,63.81,69.53,25.53,2.88,9.29,17.79,2.35,20.76,18.19,100.49,2.9,7.36,35.4,6.52,85.88,190.45,59.08,29.21,25.14,7.71,25.44,229.55,4.44,19.04,49.7,183.79,120.1,5.66,10.29,65.05,48.62,4.43,11.77,2.67,11.26,58.82,14.21,64.46,5.57,70.29,99.42,7.24,37.17,65.89,8.61,26.56,17.41,56.96,10.37,96.28,23.68,220.86,18.2,47.26,19.31,4.02,15.34,45.33,9.73,3.54,10.31,4.19,4.67,5.4,10.55,11.99,95.38,10.32,393.07,9.7,16.47,22.94,120.86,37.28,16.89,62.51,861.85,792.6,4.74,59.86,4.24,3.88,4.5,393.29,51.26,63.23,3.78,88.0,22.38,28.04,54.02,89.49,3.82,49.79,4.31,42.93,3.63,11.54,6.53,3.81,18.81,58.79,29.22,60.08,5.45,5.74,6.45,48.16,35.36,5.0,4.09,55.06,8.82,6.41,91.69,28.07,27.71,80.06,121.63,17.31,4.76,59.18,105.99,96.15,32.02,10.01,10.04,9.49,55.63,3.91,34.03,4.15,68.89,38.59,717.93,52.0,7.56,51.24,56.18,8.53,6.9,8.48,84.01,35.99,25.11,160.79,117.47,4.79,43.9,25.37,4.6,20.5,90.53,58.52,58.24,7.23,22.33,39.65,46.01,111.34,144.3,59.76,90.17,48.95,12.57,4.13,166.43,119.99,37.84,72.86,6.38,5.68,9.65,203.21,5.63,4.32,13.95,70.92,4.78,19.15,16.07,5.02,3.71,4.24,26.54,1.59,41.88,51.62,20.88,53.87,23.22,11.02,38.21,87.41,49.59,5.08,4.36,23.42,46.67,15.11,6.61,5.51,320.96,94.22,48.13,69.2,226.73,4.52,16.76,95.77,58.79,3.98,4.67,4.13,4.02,27.47,5.16,7.67,156.18,60.47,8.09,7.16,865.48,14.37,231.75,7.46,80.47,38.97,33.26,43.21,3.29,9.72,4.76,3.82,18.62,43.91,185.33,7.07,108.79,19.81,46.14,13.08,37.43,53.88,3.97,47.03,4.29,3.92,4.52,29.39,28.46,6.7,14.79,3.78,60.93,7.69,26.94,35.72,105.97,393.2,66.69,7.52,10.92,399.73,96.59,60.32,6.84,173.67,94.23,11.18,13.65,6.57,5.77,12.85,37.51,7.87,299.38,85.22,12.06,86.5,22.89,151.91,6.76,15.25,20.96,12.46,3.18,6.24,4.17,93.44,32.42,20.78,9.2,48.91,53.25,161.39,4.55,5.87,47.02,70.4,5.94,145.97,10.04,141.88,6.73,26.48,22.63,7.31,11.42,14.82,63.34,34.61,3.28,4.24,63.21,42.71,4.45,7.53,3.44,65.95,53.65,48.45,6.96,81.24,249.46,104.74,55.23,32.81,5.07,19.68,96.2,56.25,6.64,8.38,136.07,404.21,91.49,58.59,78.36,11.09,39.4,29.7,27.06,60.83,229.2,41.65,30.45,29.56,358.57,19.84,5.36,43.28,63.87,19.28,14.1,4.64,8.12,8.93,29.93,12.98,50.57,2489.78,4.73,14.26,9.65,34.39,3.92,19.14,46.61,20.46,11.38,38.36,14.05,92.52,3.22,57.33,35.65,206.33,7.39,93.55,35.6,4.14,367.3,35.36,96.2,109.72,6.41,20.21,9.05,49.55,89.29,8.95,10.81,31.47,21.74,9.13,26.87,4.59,77.12,19.61,63.57,6.84,126.53,5.23,74.92,13.1,6.57,3.45,3.07,3.26,15.48,6.41,8.4,7.46,30.85,22.24,12.96,41.7,102.6,10.01,5.97,3.9,8.7,187.97,16.43,5.91,16.4,11.77,103.07,6.74,108.31,364.27,38.18,58.09,3.95,6.0,25.14,101.8,7.83,51.89,19.1,11.1,53.52,46.72,4.14,9.48,6.73,2.94,37.97,45.44,4.92,2.62,29.39,6.88,3.06,7.97,15.58,100.43,67.15,3.56,0.89,17.65,14.19,2.82,77.84,65.05,41.51,3.54,3.72,314.92,26.47,6.5,4.35,4.02,13.27,70.11,3.3,22.83,21.87,9.56,65.27,4.8,3.42,4.35,10.87,7.37,9.43,5.61,14.77,3.31,139.27,28.61,20.76,18.01,42.57,286.33,423.57,5.19,4.15,4.71,3.85,5.37,11.29,8.1,5.14,5.88,8.66,8.29,5.91,5.38,5.79,4.72,5.28,2.45,67.33,62.94,4.8,15.5,26.67,5.21,3.9,6.49,9.25,9.4,21.51,115.34,5.73,53.02,338.58,4.8,9.09,128.07,28.79,59.74,25.37,83.65,46.32,88.11,101.43,53.35,5.09,0.87,23.51,104.33,4.15,111.04,7.31,16.3,59.53,13.34,27.04,11.32,63.22,4.04,55.73,51.2,39.31,51.14,6.93,118.45,54.02,5.38,18.02,3.95,150.23,10.61,70.39,64.86,4.87,5.21,16.31,7.12,49.58,127.05,30.14,24.97,2.85,4.76,99.26,4.71,3.96,103.42,31.54,75.95,58.87,6.54,68.39,43.97,4.96,66.43,47.92,23.63,119.76,43.04,67.96,5.07,17.61,8.33,7.47,6.41,12.06,22.18,5.07,9.29,458.44,38.71,255.97,66.7,3.39,39.75,17.97,8.59,402.04,132.7,49.44,7.8,3.56,3.78,3.92,28.78,106.86,26.37,102.54,156.45,21.05,13.85,122.7,30.35,92.07,159.8,144.57,61.62,273.91,111.62,120.92,58.44,29.18,89.8,441.94,70.46,27.56,81.18,176.75,72.02,24.82,193.36,7.21,5.38,83.45,48.85,137.66,295.42,12.43,3.63,236.05,37.83,391.7,32.72,145.11,30.03,28.85,4.01,270.63,6.98,6.64,4.49,34.22,303.69,186.16,154.39,11.4,66.37,5.87,139.12,11.91,5.51,21.37,155.47,90.73,53.12,158.6,2549.47,47.14,537.03,30.78,94.63,376.57,163.19,9.46,35.43,15.5,100.59,549.11,95.26,4.64,619.9,170.98,65.19,175.46,191.97,39.88,38.17,80.27,12.56,38.92,1597.56,542.74,87.18,287.57,99.65,1789.69,123.15,6.93,8.65,73.39,144.41,325.94,76.5,54.04,122.35,16.82,352.77,147.84,24.54,57.59,9.95,290.57,68.98,1088.25,0.0,47.93,161.23,23.14,6.04,251.43,24.7,9.86,51.59,176.88,9.5,49.26,20.1,5.47,57.59,24.38,8.63,77.29,138.79,20.58,21.18,67.17,184.81,17.81,22.76,142.48,54.98,809.76,14.04,42.2,75.96,30.72,8.36,124.68,16.13,280.35,52.55,265.63,77.99,93.31,197.27,62.23,46.79,22.23,181.67,65.35,107.29,38.13,457.51,23.37,221.47,130.6,107.51,29.4,74.3,1280.81,68.04,7.49,6330.91,190.05,58.28,82.58,167.48,10.8,159.16,16.1,51.39,103.65,437.2,48.53,62.41,213.7,43.06,28.94,18.9,4.32,691.57,175.44,42.81,17.77,9.91,59.33,184.15,127.53,9.76,17.8,34.11,9.71,123.99,33.09,64.39,30.41,40.99,172.46,49.89,12.18,27.71,22.5,4.81,115.73,163.02,65.01,9.0,8.11,134.8,86.99,238.78,214.19,63.87,50.32,147.14,4.38,91.98,202.12,74.88,165.61,8.7,40.25,245.16,31.46,14.83,71.96,395.26,5.46,6.74,50.23,131.02,157.7,51.26,12.21,124.18,86.25,103.37,9.24,205.52,31.55,28.08,75.62,54.76,467.9,15.07,1000.06,96.9,18.88,22.17,4.44,29.18,23.0,14.37,24.73,216.18,259.22,60.81,20.33,32.17,223.54,22.11,41.27],\"yaxis\":\"y\",\"type\":\"bar\"}],                        {\"template\":{\"data\":{\"histogram2dcontour\":[{\"type\":\"histogram2dcontour\",\"colorbar\":{\"outlinewidth\":0,\"ticks\":\"\"},\"colorscale\":[[0.0,\"#0d0887\"],[0.1111111111111111,\"#46039f\"],[0.2222222222222222,\"#7201a8\"],[0.3333333333333333,\"#9c179e\"],[0.4444444444444444,\"#bd3786\"],[0.5555555555555556,\"#d8576b\"],[0.6666666666666666,\"#ed7953\"],[0.7777777777777778,\"#fb9f3a\"],[0.8888888888888888,\"#fdca26\"],[1.0,\"#f0f921\"]]}],\"choropleth\":[{\"type\":\"choropleth\",\"colorbar\":{\"outlinewidth\":0,\"ticks\":\"\"}}],\"histogram2d\":[{\"type\":\"histogram2d\",\"colorbar\":{\"outlinewidth\":0,\"ticks\":\"\"},\"colorscale\":[[0.0,\"#0d0887\"],[0.1111111111111111,\"#46039f\"],[0.2222222222222222,\"#7201a8\"],[0.3333333333333333,\"#9c179e\"],[0.4444444444444444,\"#bd3786\"],[0.5555555555555556,\"#d8576b\"],[0.6666666666666666,\"#ed7953\"],[0.7777777777777778,\"#fb9f3a\"],[0.8888888888888888,\"#fdca26\"],[1.0,\"#f0f921\"]]}],\"heatmap\":[{\"type\":\"heatmap\",\"colorbar\":{\"outlinewidth\":0,\"ticks\":\"\"},\"colorscale\":[[0.0,\"#0d0887\"],[0.1111111111111111,\"#46039f\"],[0.2222222222222222,\"#7201a8\"],[0.3333333333333333,\"#9c179e\"],[0.4444444444444444,\"#bd3786\"],[0.5555555555555556,\"#d8576b\"],[0.6666666666666666,\"#ed7953\"],[0.7777777777777778,\"#fb9f3a\"],[0.8888888888888888,\"#fdca26\"],[1.0,\"#f0f921\"]]}],\"heatmapgl\":[{\"type\":\"heatmapgl\",\"colorbar\":{\"outlinewidth\":0,\"ticks\":\"\"},\"colorscale\":[[0.0,\"#0d0887\"],[0.1111111111111111,\"#46039f\"],[0.2222222222222222,\"#7201a8\"],[0.3333333333333333,\"#9c179e\"],[0.4444444444444444,\"#bd3786\"],[0.5555555555555556,\"#d8576b\"],[0.6666666666666666,\"#ed7953\"],[0.7777777777777778,\"#fb9f3a\"],[0.8888888888888888,\"#fdca26\"],[1.0,\"#f0f921\"]]}],\"contourcarpet\":[{\"type\":\"contourcarpet\",\"colorbar\":{\"outlinewidth\":0,\"ticks\":\"\"}}],\"contour\":[{\"type\":\"contour\",\"colorbar\":{\"outlinewidth\":0,\"ticks\":\"\"},\"colorscale\":[[0.0,\"#0d0887\"],[0.1111111111111111,\"#46039f\"],[0.2222222222222222,\"#7201a8\"],[0.3333333333333333,\"#9c179e\"],[0.4444444444444444,\"#bd3786\"],[0.5555555555555556,\"#d8576b\"],[0.6666666666666666,\"#ed7953\"],[0.7777777777777778,\"#fb9f3a\"],[0.8888888888888888,\"#fdca26\"],[1.0,\"#f0f921\"]]}],\"surface\":[{\"type\":\"surface\",\"colorbar\":{\"outlinewidth\":0,\"ticks\":\"\"},\"colorscale\":[[0.0,\"#0d0887\"],[0.1111111111111111,\"#46039f\"],[0.2222222222222222,\"#7201a8\"],[0.3333333333333333,\"#9c179e\"],[0.4444444444444444,\"#bd3786\"],[0.5555555555555556,\"#d8576b\"],[0.6666666666666666,\"#ed7953\"],[0.7777777777777778,\"#fb9f3a\"],[0.8888888888888888,\"#fdca26\"],[1.0,\"#f0f921\"]]}],\"mesh3d\":[{\"type\":\"mesh3d\",\"colorbar\":{\"outlinewidth\":0,\"ticks\":\"\"}}],\"scatter\":[{\"fillpattern\":{\"fillmode\":\"overlay\",\"size\":10,\"solidity\":0.2},\"type\":\"scatter\"}],\"parcoords\":[{\"type\":\"parcoords\",\"line\":{\"colorbar\":{\"outlinewidth\":0,\"ticks\":\"\"}}}],\"scatterpolargl\":[{\"type\":\"scatterpolargl\",\"marker\":{\"colorbar\":{\"outlinewidth\":0,\"ticks\":\"\"}}}],\"bar\":[{\"error_x\":{\"color\":\"#2a3f5f\"},\"error_y\":{\"color\":\"#2a3f5f\"},\"marker\":{\"line\":{\"color\":\"#E5ECF6\",\"width\":0.5},\"pattern\":{\"fillmode\":\"overlay\",\"size\":10,\"solidity\":0.2}},\"type\":\"bar\"}],\"scattergeo\":[{\"type\":\"scattergeo\",\"marker\":{\"colorbar\":{\"outlinewidth\":0,\"ticks\":\"\"}}}],\"scatterpolar\":[{\"type\":\"scatterpolar\",\"marker\":{\"colorbar\":{\"outlinewidth\":0,\"ticks\":\"\"}}}],\"histogram\":[{\"marker\":{\"pattern\":{\"fillmode\":\"overlay\",\"size\":10,\"solidity\":0.2}},\"type\":\"histogram\"}],\"scattergl\":[{\"type\":\"scattergl\",\"marker\":{\"colorbar\":{\"outlinewidth\":0,\"ticks\":\"\"}}}],\"scatter3d\":[{\"type\":\"scatter3d\",\"line\":{\"colorbar\":{\"outlinewidth\":0,\"ticks\":\"\"}},\"marker\":{\"colorbar\":{\"outlinewidth\":0,\"ticks\":\"\"}}}],\"scattermapbox\":[{\"type\":\"scattermapbox\",\"marker\":{\"colorbar\":{\"outlinewidth\":0,\"ticks\":\"\"}}}],\"scatterternary\":[{\"type\":\"scatterternary\",\"marker\":{\"colorbar\":{\"outlinewidth\":0,\"ticks\":\"\"}}}],\"scattercarpet\":[{\"type\":\"scattercarpet\",\"marker\":{\"colorbar\":{\"outlinewidth\":0,\"ticks\":\"\"}}}],\"carpet\":[{\"aaxis\":{\"endlinecolor\":\"#2a3f5f\",\"gridcolor\":\"white\",\"linecolor\":\"white\",\"minorgridcolor\":\"white\",\"startlinecolor\":\"#2a3f5f\"},\"baxis\":{\"endlinecolor\":\"#2a3f5f\",\"gridcolor\":\"white\",\"linecolor\":\"white\",\"minorgridcolor\":\"white\",\"startlinecolor\":\"#2a3f5f\"},\"type\":\"carpet\"}],\"table\":[{\"cells\":{\"fill\":{\"color\":\"#EBF0F8\"},\"line\":{\"color\":\"white\"}},\"header\":{\"fill\":{\"color\":\"#C8D4E3\"},\"line\":{\"color\":\"white\"}},\"type\":\"table\"}],\"barpolar\":[{\"marker\":{\"line\":{\"color\":\"#E5ECF6\",\"width\":0.5},\"pattern\":{\"fillmode\":\"overlay\",\"size\":10,\"solidity\":0.2}},\"type\":\"barpolar\"}],\"pie\":[{\"automargin\":true,\"type\":\"pie\"}]},\"layout\":{\"autotypenumbers\":\"strict\",\"colorway\":[\"#636efa\",\"#EF553B\",\"#00cc96\",\"#ab63fa\",\"#FFA15A\",\"#19d3f3\",\"#FF6692\",\"#B6E880\",\"#FF97FF\",\"#FECB52\"],\"font\":{\"color\":\"#2a3f5f\"},\"hovermode\":\"closest\",\"hoverlabel\":{\"align\":\"left\"},\"paper_bgcolor\":\"white\",\"plot_bgcolor\":\"#E5ECF6\",\"polar\":{\"bgcolor\":\"#E5ECF6\",\"angularaxis\":{\"gridcolor\":\"white\",\"linecolor\":\"white\",\"ticks\":\"\"},\"radialaxis\":{\"gridcolor\":\"white\",\"linecolor\":\"white\",\"ticks\":\"\"}},\"ternary\":{\"bgcolor\":\"#E5ECF6\",\"aaxis\":{\"gridcolor\":\"white\",\"linecolor\":\"white\",\"ticks\":\"\"},\"baxis\":{\"gridcolor\":\"white\",\"linecolor\":\"white\",\"ticks\":\"\"},\"caxis\":{\"gridcolor\":\"white\",\"linecolor\":\"white\",\"ticks\":\"\"}},\"coloraxis\":{\"colorbar\":{\"outlinewidth\":0,\"ticks\":\"\"}},\"colorscale\":{\"sequential\":[[0.0,\"#0d0887\"],[0.1111111111111111,\"#46039f\"],[0.2222222222222222,\"#7201a8\"],[0.3333333333333333,\"#9c179e\"],[0.4444444444444444,\"#bd3786\"],[0.5555555555555556,\"#d8576b\"],[0.6666666666666666,\"#ed7953\"],[0.7777777777777778,\"#fb9f3a\"],[0.8888888888888888,\"#fdca26\"],[1.0,\"#f0f921\"]],\"sequentialminus\":[[0.0,\"#0d0887\"],[0.1111111111111111,\"#46039f\"],[0.2222222222222222,\"#7201a8\"],[0.3333333333333333,\"#9c179e\"],[0.4444444444444444,\"#bd3786\"],[0.5555555555555556,\"#d8576b\"],[0.6666666666666666,\"#ed7953\"],[0.7777777777777778,\"#fb9f3a\"],[0.8888888888888888,\"#fdca26\"],[1.0,\"#f0f921\"]],\"diverging\":[[0,\"#8e0152\"],[0.1,\"#c51b7d\"],[0.2,\"#de77ae\"],[0.3,\"#f1b6da\"],[0.4,\"#fde0ef\"],[0.5,\"#f7f7f7\"],[0.6,\"#e6f5d0\"],[0.7,\"#b8e186\"],[0.8,\"#7fbc41\"],[0.9,\"#4d9221\"],[1,\"#276419\"]]},\"xaxis\":{\"gridcolor\":\"white\",\"linecolor\":\"white\",\"ticks\":\"\",\"title\":{\"standoff\":15},\"zerolinecolor\":\"white\",\"automargin\":true,\"zerolinewidth\":2},\"yaxis\":{\"gridcolor\":\"white\",\"linecolor\":\"white\",\"ticks\":\"\",\"title\":{\"standoff\":15},\"zerolinecolor\":\"white\",\"automargin\":true,\"zerolinewidth\":2},\"scene\":{\"xaxis\":{\"backgroundcolor\":\"#E5ECF6\",\"gridcolor\":\"white\",\"linecolor\":\"white\",\"showbackground\":true,\"ticks\":\"\",\"zerolinecolor\":\"white\",\"gridwidth\":2},\"yaxis\":{\"backgroundcolor\":\"#E5ECF6\",\"gridcolor\":\"white\",\"linecolor\":\"white\",\"showbackground\":true,\"ticks\":\"\",\"zerolinecolor\":\"white\",\"gridwidth\":2},\"zaxis\":{\"backgroundcolor\":\"#E5ECF6\",\"gridcolor\":\"white\",\"linecolor\":\"white\",\"showbackground\":true,\"ticks\":\"\",\"zerolinecolor\":\"white\",\"gridwidth\":2}},\"shapedefaults\":{\"line\":{\"color\":\"#2a3f5f\"}},\"annotationdefaults\":{\"arrowcolor\":\"#2a3f5f\",\"arrowhead\":0,\"arrowwidth\":1},\"geo\":{\"bgcolor\":\"white\",\"landcolor\":\"#E5ECF6\",\"subunitcolor\":\"white\",\"showland\":true,\"showlakes\":true,\"lakecolor\":\"white\"},\"title\":{\"x\":0.05},\"mapbox\":{\"style\":\"light\"}}},\"xaxis\":{\"anchor\":\"y\",\"domain\":[0.0,1.0],\"title\":{\"text\":\"Neighborhood\",\"standoff\":30},\"tickfont\":{\"size\":12},\"showline\":true,\"linewidth\":1,\"linecolor\":\"black\",\"mirror\":true,\"zeroline\":false,\"showgrid\":false},\"yaxis\":{\"anchor\":\"x\",\"domain\":[0.0,1.0],\"title\":{\"text\":\"totalghgemissions\"}},\"coloraxis\":{\"colorbar\":{\"title\":{\"text\":\"totalghgemissions\"}},\"colorscale\":[[0.0,\"rgb(247,252,245)\"],[0.125,\"rgb(229,245,224)\"],[0.25,\"rgb(199,233,192)\"],[0.375,\"rgb(161,217,155)\"],[0.5,\"rgb(116,196,118)\"],[0.625,\"rgb(65,171,93)\"],[0.75,\"rgb(35,139,69)\"],[0.875,\"rgb(0,109,44)\"],[1.0,\"rgb(0,68,27)\"]],\"cmid\":0},\"legend\":{\"tracegroupgap\":0},\"title\":{\"text\":\"Am\\u00e9nagement des espaces verts\",\"font\":{\"size\":30},\"x\":0.5},\"barmode\":\"relative\",\"annotations\":[{\"font\":{\"color\":\"black\",\"size\":20},\"showarrow\":false,\"text\":\"A la place du centre-ville, privil\\u00e9gier l'Est et la zone industrielle de Duwamish.\",\"x\":0.5,\"xref\":\"paper\",\"y\":-0.42,\"yref\":\"paper\"}],\"margin\":{\"t\":120,\"b\":260},\"height\":900},                        {\"responsive\": true}                    ).then(function(){\n",
              "                            \n",
              "var gd = document.getElementById('f229feba-d51c-49ca-8c64-aff1ed32ecfb');\n",
              "var x = new MutationObserver(function (mutations, observer) {{\n",
              "        var display = window.getComputedStyle(gd).display;\n",
              "        if (!display || display === 'none') {{\n",
              "            console.log([gd, 'removed!']);\n",
              "            Plotly.purge(gd);\n",
              "            observer.disconnect();\n",
              "        }}\n",
              "}});\n",
              "\n",
              "// Listen for the removal of the full notebook cells\n",
              "var notebookContainer = gd.closest('#notebook-container');\n",
              "if (notebookContainer) {{\n",
              "    x.observe(notebookContainer, {childList: true});\n",
              "}}\n",
              "\n",
              "// Listen for the clearing of the current output cell\n",
              "var outputEl = gd.closest('.output');\n",
              "if (outputEl) {{\n",
              "    x.observe(outputEl, {childList: true});\n",
              "}}\n",
              "\n",
              "                        })                };                            </script>        </div>\n",
              "</body>\n",
              "</html>"
            ]
          },
          "metadata": {}
        },
        {
          "output_type": "display_data",
          "data": {
            "text/plain": [
              "<IPython.core.display.Javascript object>"
            ],
            "application/javascript": [
              "\n",
              "    async function download(id, filename, size) {\n",
              "      if (!google.colab.kernel.accessAllowed) {\n",
              "        return;\n",
              "      }\n",
              "      const div = document.createElement('div');\n",
              "      const label = document.createElement('label');\n",
              "      label.textContent = `Downloading \"${filename}\": `;\n",
              "      div.appendChild(label);\n",
              "      const progress = document.createElement('progress');\n",
              "      progress.max = size;\n",
              "      div.appendChild(progress);\n",
              "      document.body.appendChild(div);\n",
              "\n",
              "      const buffers = [];\n",
              "      let downloaded = 0;\n",
              "\n",
              "      const channel = await google.colab.kernel.comms.open(id);\n",
              "      // Send a message to notify the kernel that we're ready.\n",
              "      channel.send({})\n",
              "\n",
              "      for await (const message of channel.messages) {\n",
              "        // Send a message to notify the kernel that we're ready.\n",
              "        channel.send({})\n",
              "        if (message.buffers) {\n",
              "          for (const buffer of message.buffers) {\n",
              "            buffers.push(buffer);\n",
              "            downloaded += buffer.byteLength;\n",
              "            progress.value = downloaded;\n",
              "          }\n",
              "        }\n",
              "      }\n",
              "      const blob = new Blob(buffers, {type: 'application/binary'});\n",
              "      const a = document.createElement('a');\n",
              "      a.href = window.URL.createObjectURL(blob);\n",
              "      a.download = filename;\n",
              "      div.appendChild(a);\n",
              "      a.click();\n",
              "      div.remove();\n",
              "    }\n",
              "  "
            ]
          },
          "metadata": {}
        },
        {
          "output_type": "display_data",
          "data": {
            "text/plain": [
              "<IPython.core.display.Javascript object>"
            ],
            "application/javascript": [
              "download(\"download_437f25a1-9efe-4614-aeeb-2ffeba7da1fc\", \"neighborhood.html\", 3676686)"
            ]
          },
          "metadata": {}
        }
      ]
    },
    {
      "cell_type": "code",
      "source": [
        "import plotly.graph_objects as go\n",
        "import plotly.express as px\n",
        "\n",
        "fig = px.scatter(df, x='age', y='totalghgemissions',\n",
        "                 color_discrete_sequence=['red'],\n",
        "                 title=\"Adaptation des politiques de réhabilitation des bâtiments\")\n",
        "\n",
        "# Set the size and symbol based on the 'totalghgemissions' values\n",
        "fig.update_traces(marker=dict(size=df['totalghgemissions'].abs()*0.012, symbol='circle'))\n",
        "\n",
        "# Set the x-axis range\n",
        "fig.update_xaxes(range=[0, 130])\n",
        "\n",
        "# Set the y-axis range\n",
        "fig.update_yaxes(range=[-1000, 15000])\n",
        "\n",
        "# Add annotation for the conclusion\n",
        "fig.add_annotation(\n",
        "    xref='paper', yref='paper',\n",
        "    x=0.5,  # Centered\n",
        "    y=-0.2,\n",
        "    text=\"Subventionner les travaux de rénovation énergétique en fonction de la pollution effective, au lieu de l'âge.\",\n",
        "    showarrow=False,\n",
        "    font=dict(size=20, color='black')\n",
        ")\n",
        "\n",
        "fig.update_layout(\n",
        "    height=900,\n",
        "    xaxis_title=\"Age\",\n",
        "    xaxis=dict(\n",
        "        title_standoff=30,\n",
        "        showline=True,\n",
        "        linewidth=1,\n",
        "        linecolor='black',\n",
        "        mirror=True,\n",
        "        zeroline=False,\n",
        "        showgrid=False,\n",
        "        tickfont=dict(size=12),\n",
        "    ),\n",
        "    margin=dict(\n",
        "        t=120,  # Increase the top margin\n",
        "        b=160   # Increase the bottom margin\n",
        "    ),\n",
        "    title=dict(\n",
        "        x=0.5,\n",
        "        font=dict(size=30)\n",
        "    )\n",
        ")\n",
        "\n",
        "fig.show()\n",
        "fig.write_html('age.html')\n",
        "files.download('age.html')"
      ],
      "metadata": {
        "colab": {
          "base_uri": "https://localhost:8080/",
          "height": 917
        },
        "id": "Q32RqzOG6xUw",
        "outputId": "2cc8b119-ca82-4843-db2b-49d5200b3420"
      },
      "execution_count": 30,
      "outputs": [
        {
          "output_type": "display_data",
          "data": {
            "text/html": [
              "<html>\n",
              "<head><meta charset=\"utf-8\" /></head>\n",
              "<body>\n",
              "    <div>            <script src=\"https://cdnjs.cloudflare.com/ajax/libs/mathjax/2.7.5/MathJax.js?config=TeX-AMS-MML_SVG\"></script><script type=\"text/javascript\">if (window.MathJax && window.MathJax.Hub && window.MathJax.Hub.Config) {window.MathJax.Hub.Config({SVG: {font: \"STIX-Web\"}});}</script>                <script type=\"text/javascript\">window.PlotlyConfig = {MathJaxConfig: 'local'};</script>\n",
              "        <script charset=\"utf-8\" src=\"https://cdn.plot.ly/plotly-2.24.1.min.js\"></script>                <div id=\"a0cf1a8c-495d-4da7-a72d-c348ba0b768d\" class=\"plotly-graph-div\" style=\"height:900px; width:100%;\"></div>            <script type=\"text/javascript\">                                    window.PLOTLYENV=window.PLOTLYENV || {};                                    if (document.getElementById(\"a0cf1a8c-495d-4da7-a72d-c348ba0b768d\")) {                    Plotly.newPlot(                        \"a0cf1a8c-495d-4da7-a72d-c348ba0b768d\",                        [{\"hovertemplate\":\"age=%{x}\\u003cbr\\u003etotalghgemissions=%{y}\\u003cextra\\u003e\\u003c\\u002fextra\\u003e\",\"legendgroup\":\"\",\"marker\":{\"color\":\"red\",\"symbol\":\"circle\",\"size\":[2.9997599999999998,3.55032,25.071360000000002,3.43716,6.06012,3.6217200000000003,2.11368,2.65812,4.705920000000001,1.8134400000000002,8.29512,8.89164,3.9387600000000003,7.783440000000001,6.13668,2.17656,5.20632,9.63468,3.27624,4.19184,15.18348,20.3934,1.0801200000000002,4.65648,0.10956000000000002,3.07884,3.94356,1.54128,1.8932400000000003,2.58,0.04716,202.45176,3.7420799999999996,0.37764,1.5667200000000001,1.00632,2.9742,0.54516,3.5439599999999998,0.79776,0.39912,0.42432,7.0117199999999995,0.71028,29.41896,1.61256,2.72616,1.73748,2.3994,1.94868,1.8331199999999999,1.75608,2.0596799999999997,1.05576,20.72532,7.309200000000001,0.80472,5.17008,3.153,5.78364,0.46872,1.6662,6.3222000000000005,7.28892,4.1304,9.650400000000001,7.41024,1.22196,0.07332000000000001,5.88876,0.34848,8.089080000000001,0.58512,1.82568,2.2944,0.9461999999999999,2.91876,0.40968,0.53184,1.6029600000000002,1.5274800000000002,5.32476,1.06824,1.70868,5.14944,23.886,2.121,0.55512,2.7408,0.89196,10.39476,2.6642400000000004,2.44896,0.7345200000000001,1.20552,1.25112,1.5526799999999998,2.67336,5.06868,24.669840000000004,0.59496,8.68164,2.77836,0.7956,97.74624,1.0044,0.61332,4.35384,0.83328,3.56916,0.42936,4.42968,3.2742000000000004,0.71208,0.5878800000000001,3.7152000000000003,2.7082800000000002,0.036000000000000004,4.05792,2.1092400000000002,2.49912,0.33924,10.71156,1.1571600000000002,0.32868,14.9586,4.66044,0.20171999999999998,8.9826,1.94892,1.11492,3.3522000000000003,19.66152,58.87596,0.11556000000000001,128.81484,2.32728,1.7437200000000002,0.87456,5.63484,0.58908,1.01484,1.79916,0.68652,3.05844,5.203200000000001,0.60624,0.7155600000000001,0.2856,1.21692,7.93248,12.721560000000002,7.67268,9.37008,3.62112,4.52724,0.53064,0.31668,0.8188799999999999,0.81828,1.7912400000000002,2.0709600000000004,4.77828,3.7596000000000003,4.3093200000000005,2.0461199999999997,1.2031200000000002,0.31428,6.759,2.751,2.66628,3.3064800000000005,1.56876,0.62004,0.38364,2.55876,0.8418000000000001,3.8276400000000006,2.05824,0.55872,0.31320000000000003,1.6766400000000001,2.77584,2.62236,7.53444,3.44784,6.5598,2.1113999999999997,5.15124,4.56444,3.58332,2.5948800000000003,0.84204,1.07364,2.38008,2.51292,1.42836,0.37032,0.58944,0.07308,2.02656,0.86904,2.11716,1.0935599999999999,1.7033999999999998,1.24764,0.5523600000000001,2.50548,4.61124,0.29892,8.8956,0.94704,4.2606,6.36792,13.017479999999999,4.05564,30.885,1.9493999999999998,1.39236,0.5838,0.25812,0.48552,0.8456400000000001,1.88004,2.69232,7.0668,18.1302,6.362159999999999,2.32464,0.43932,1.5768000000000002,0.7824000000000001,0.61368,17.622,3.81696,0.21636000000000002,2.43588,9.5166,0.89796,0.58248,0.25176,3.7944,2.22036,1.7730000000000001,6.30936,2.59716,1.62276,0.39804,0.38064,1.11504,1.2078,3.3786,0.53376,5.0268,3.94596,2.98908,1.56828,2.4138,1.7698800000000001,5.474640000000001,6.3670800000000005,2.92392,1.36968,0.16632,1.4053200000000001,0.06384000000000001,2.8428,0.06528,0.36324,0.25632,0.47364,4.49904,0.4296,0.50436,0.46308000000000005,0.39672,1.11876,0.39276,5.45388,4.18884,15.226439999999998,0.25032,3.9141600000000003,0.48564,3.2365199999999996,10.19796,0.27084,0.74316,0.35436,7.5888,1.13568,47.9454,8.72352,1.4721600000000001,0.83508,0.8892,7.04592,12.23436,0.28572,0.30384,0.2922,5.73444,0.9358799999999999,1.9659600000000002,0.26928,12.391560000000002,3.3357600000000005,0.54564,1.4637600000000002,0.5015999999999999,0.9638399999999999,0.57528,1.32552,0.12288,2.7171600000000002,2.84868,6.63924,1.9070399999999998,0.4188,0.32604000000000005,0.45288000000000006,1.13364,1.0201200000000001,19.48008,0.64284,0.20604000000000003,0.38664,1.44288,0.09780000000000001,4.9602,0.039,0.30696,0.39816,0.639,0.0336,2.84832,0.71052,0.5118,0.9201600000000001,0.12864,0.04344,0.56316,0.34356,0.07584,0.46175999999999995,2.45772,1.8325200000000001,0.38424,0.8917200000000001,1.7083200000000003,4.97316,3.2704800000000005,0.6590400000000001,2.2873200000000002,0.46259999999999996,1.08288,0.59004,1.02336,3.1494,2.9682,0.4062,0.507,0.76668,0.4296,1.55148,3.5226,0.55788,0.5322,0.26520000000000005,0.6927599999999999,0.7065600000000001,0.59136,0.39864,0.40800000000000003,0.70404,7.334280000000001,3.5457600000000005,1.0932,13.877400000000002,0.54264,0.28632,0.5988,1.29396,0.26544,0.7836,0.5968800000000001,1.28592,0.24348,0.47400000000000003,0.768,7.6885200000000005,4.87224,4.389480000000001,0.47364,0.10476,0.30888,3.678,0.23676,1.61628,0.23868,0.9216,0.31248,0.29868,1.56372,1.1950800000000001,0.15936,0.37895999999999996,0.7867200000000001,1.5912,0.8901600000000001,0.1878,0.366,0.19776000000000002,0.49416,0.22488,2.2812,0.08844,1.6602,0.24216000000000001,0.8133600000000001,2.18568,2.16912,5.34744,1.1811600000000002,0.5670000000000001,9.7284,1.2050400000000001,0.591,0.51288,0.40091999999999994,0.717,5.7342,0.70116,0.8074800000000001,0.30360000000000004,8.30544,8.816640000000001,2.2246799999999998,5.7727200000000005,0.20736000000000002,0.48456000000000005,1.13688,1.56384,4.28868,3.3895199999999996,0.25644,0.28176,0.42672000000000004,3.72228,6.36744,0.7022400000000001,1.4034,3.2420400000000003,1.34028,1.66068,0.43788000000000005,0.36732,1.1824800000000002,4.29432,0.7284,0.66876,2.13144,0.06708,0.65736,1.24284,1.40088,1.06488,0.84108,1.43772,0.10560000000000001,0.60204,0.56868,1.17384,0.82824,1.43352,1.8897599999999999,0.08496000000000001,1.15032,0.9034800000000001,0.23832,1.86888,0.582,2.14344,0.40968,0.8118000000000001,2.0220000000000002,0.30444000000000004,3.52272,0.40296,1.0428000000000002,8.528400000000001,0.74232,0.45852000000000004,0.57384,3.7731600000000003,13.85748,0.81672,0.78036,3.12156,1.4391600000000002,1.7738399999999999,2.9619600000000004,4.15944,23.06184,10.59072,1.3284,6.98736,1.3182,3.891,1.81056,1.6056000000000001,0.33384,0.6528,0.24144000000000002,5.11668,7.676640000000001,1.5925200000000002,1.42836,0.5015999999999999,0.16464,2.02872,3.1773599999999997,1.0729199999999999,0.11172000000000001,0.37716,4.68804,1.13508,0.61872,0.3642,0.88296,2.1534,1.07928,1.3347600000000002,0.5582400000000001,1.82736,0.73104,0.16332,0.90144,0.01272,1.57968,1.07436,1.9026,1.43904,2.34516,1.99356,1.18968,5.4646799999999995,0.34992,0.8101200000000001,0.8934000000000001,0.28944000000000003,0.05064,0.0504,1.2734400000000001,1.14036,0.95268,1.32492,0.25128,0.8316,0.32688,147.68592,4.87248,0.25020000000000003,1.602,0.65016,0.17388,5.44512,4.09476,3.3476400000000006,0.09072,3.40812,3.54144,1.31652,3.11388,0.15684,2.2782,1.61784,0.19524,3.204,0.16212000000000001,0.59148,1.54476,0.060360000000000004,0.09768,0.30720000000000003,0.058199999999999995,4.12416,0.1458,0.07224,0.783,0.057,0.38088,1.1431200000000001,0.74604,0.72216,0.36624,0.13548,0.29268,3.31956,0.21444000000000002,1.218,0.04692,0.43224000000000007,0.76632,0.52812,0.4668,0.19332,0.15876,0.5260800000000001,0.05688000000000001,0.63852,0.03816,0.08064,0.30720000000000003,0.05496,0.22812000000000002,0.26028,1.47396,1.03752,0.042960000000000005,0.9244800000000001,0.02892,0.03084,0.049920000000000006,0.5184000000000001,4.99284,0.05316,0.26316,0.7495200000000001,0.19212,0.2718,0.45336000000000004,0.11724,0.11364,1.56336,0.6066,1.36692,1.28124,0.36492,0.08088000000000001,0.34164,0.79728,0.0732,0.2232,0.34848,0.35196,0.35652,0.6055200000000001,0.8348399999999999,0.96564,0.35808,2.037,0.09324,0.19895999999999997,1.58964,0.20424,0.06852,0.047880000000000006,0.05316,0.032400000000000005,0.76176,0.051480000000000005,0.08424,0.61896,2.4912,0.35544000000000003,1.6944,4.49472,0.222,0.11784,0.50628,0.76032,1.65636,0.07715999999999999,0.627,0.6550800000000001,0.30288,0.23795999999999998,0.28824,0.38112,0.08556,0.047400000000000005,0.5256,1.8528,0.11496,0.39011999999999997,0.08244,0.65436,0.05424,0.04656,0.06971999999999999,0.1404,0.1392,0.07464,0.47484000000000004,0.11772,0.0576,0.18324,0.9948000000000001,0.07596,0.59496,0.46764,0.21720000000000003,0.14016,1.85004,0.35448,0.0852,0.9505199999999999,0.30252,0.17064000000000001,1.12644,0.11939999999999999,0.07392,0.291,0.18288000000000001,0.16644,0.10416,0.17556000000000002,0.34571999999999997,0.48336,0.57408,0.72516,0.40536,0.19956,1.8586799999999999,0.03504,0.7954800000000001,1.8163200000000002,4.43616,0.30492,2.09988,0.27924,0.081,0.56784,0.15539999999999998,0.50028,1.52136,7.1337600000000005,15.19272,0.13368000000000002,0.29376,1.20852,0.32136000000000003,0.05724,0.12996,0.08736000000000001,1.19328,1.03224,0.94032,0.30144000000000004,1.2381600000000001,0.06216,0.31308,0.32724,1.1830800000000001,7.90512,0.36396,0.87336,0.3672,0.28584,1.9903200000000003,0.15288000000000002,0.67956,1.12416,0.04356,0.8784000000000001,0.11148,0.42240000000000005,0.1158,0.05196,0.05808,0.43716,1.03992,0.048119999999999996,0.12408,0.11592000000000001,0.17796,0.32268,0.06744,0.19763999999999998,0.23579999999999998,0.18516,0.05064,0.16692,0.047400000000000005,0.5654399999999999,0.76332,0.34092,0.57192,2.2176,0.21204000000000003,0.55884,1.2238799999999999,0.48456000000000005,0.3024,0.8018399999999999,1.51728,0.8990400000000001,1.5156,1.1898000000000002,3.9942,1.65528,1.43556,0.51636,0.30468,0.11484000000000001,0.39168000000000003,3.6403200000000004,0.43536,0.08292000000000001,0.39875999999999995,0.41975999999999997,0.07968,0.77412,2.4036000000000004,1.4758799999999999,0.95496,0.10139999999999999,0.46643999999999997,0.07788,0.058320000000000004,3.1557600000000003,0.0642,0.38664,0.07668,0.80676,0.049920000000000006,0.28308,0.11376000000000001,2.6184,0.09444000000000001,0.06228000000000001,1.86648,0.08028,0.44772000000000006,0.0504,0.04272,0.16128,0.049679999999999995,0.09768,1.04772,0.05268,0.06804,0.0576,0.05988,0.051840000000000004,0.05316,0.048960000000000004,0.05712,0.07416,0.19164,0.26364,0.7641600000000001,1.4204400000000001,0.71532,1.07484,0.05952,0.06552,0.05904,0.31452,0.06792000000000001,0.15768000000000001,0.47388,0.2586,0.61536,0.09576000000000001,0.10368000000000001,0.52284,0.6250800000000001,0.052199999999999996,0.07932,0.13416,0.29412000000000005,0.24108000000000002,2.4318,0.23712000000000003,0.050760000000000007,0.038880000000000005,0.08496000000000001,0.0714,0.040920000000000005,0.12924,0.24095999999999998,4.2696000000000005,0.2778,0.20004000000000002,0.31332,0.04848,1.58244,0.18132,0.40043999999999996,0.59976,0.00756,1.45092,1.74576,0.7609199999999999,0.22884000000000002,1.4710800000000002,1.5669600000000001,0.1908,2.22276,1.07148,0.5214000000000001,0.42048,2.26404,0.8586,1.20252,0.15947999999999998,1.54692,2.5236,0.4098,0.07596,0.05136,0.8797200000000001,0.60516,0.10332,0.09144000000000001,0.022320000000000003,2.1415200000000003,1.61484,0.8298000000000001,0.21216,3.1330799999999996,0.129,0.51756,0.15132,0.18816,0.15792,0.40704,1.764,0.11916,0.31116,0.11988,0.14976,0.06204,0.23916,0.23784,0.15624,0.22848,0.561,0.7567200000000001,0.12060000000000001,0.48612,0.00984,0.0972,0.06612,0.04668,0.02076,0.13536,2.9742,0.4464,0.9972,1.12596,0.08280000000000001,0.89196,0.06348000000000001,0.049800000000000004,0.0204,0.7405200000000001,0.5596800000000001,0.7878000000000001,0.129,0.46859999999999996,1.25892,0.05736,0.02004,0.60372,1.13976,0.06336,0.37920000000000004,0.057960000000000005,0.1842,0.86388,0.81024,0.34296,0.73836,1.06668,0.13068000000000002,0.9944400000000001,0.38795999999999997,0.40704,0.42312,2.39748,1.11096,0.5724,1.08372,0.35784,0.09492,0.57108,0.23712000000000003,1.22352,0.34128000000000003,4.90584,1.53288,6.61836,0.11604,0.2262,0.10368000000000001,0.7375200000000001,0.07296,0.08328,0.13848,1.38672,0.24876,0.07823999999999999,0.10439999999999999,0.03024,0.07416,0.20712000000000003,0.39359999999999995,0.9818399999999999,0.12528,0.6229199999999999,0.051239999999999994,0.28308,0.10764000000000001,0.09839999999999999,0.47400000000000003,0.8671200000000001,0.13524,6.41856,0.0804,5.7707999999999995,0.18564,0.8176800000000001,0.35964,0.20387999999999998,1.20024,0.39156,1.2774,0.61356,0.047400000000000005,0.82764,0.35292,0.19596,2.82312,0.03672,4.178640000000001,0.12312,0.1062,0.03792,0.7777200000000001,0.54948,0.98352,0.018600000000000002,0.04476,0.21792,0.042480000000000004,0.17388,0.12888,0.75396,0.33708,3.17316,0.0594,3.7455600000000002,0.04008,0.72348,0.16452000000000003,0.44304000000000004,0.33516,2.6532,0.5577599999999999,0.98856,2.34852,14.5926,1.79892,1.1381999999999999,1.7826000000000002,2.26296,0.7305600000000001,1.32204,0.30636,0.108,0.50448,0.10164000000000001,0.30024,0.36384,0.7983600000000001,0.11352000000000001,0.88224,0.22008,0.32964,0.9880800000000001,0.06492,0.53652,0.19272,0.08988,0.2862,0.45743999999999996,0.13548,0.19355999999999998,0.23268,0.10188,0.36024,0.3432,4.040760000000001,0.39588,0.79428,0.14988,0.05712,1.5252,2.8152,0.59496,0.48264,0.24936000000000003,0.1908,1.47276,0.12432,0.39432,0.1482,6.190200000000001,0.12143999999999999,2.12148,0.15612,0.44088000000000005,2.08728,0.54396,0.70872,0.74376,2.16456,0.7802399999999999,0.95496,0.20544,0.10560000000000001,0.10668000000000001,0.15324,0.15108,0.049440000000000005,0.14628,1.25532,0.8684400000000001,0.37488,0.16668000000000002,0.129,0.28487999999999997,0.28536,0.48912,0.31656,2.97564,0.66852,0.24912000000000004,0.25079999999999997,0.5802,0.1116,0.88332,0.4662,0.38964,1.21608,1.12824,1.91976,0.89568,0.5592,0.16848,5.7564,0.8547600000000001,0.25992,0.95772,0.15264,1.2807600000000001,8.50932,0.8344800000000001,0.10247999999999999,1.0266,1.2894,0.07284,5.5488,0.72048,0.66732,1.48092,3.54456,0.10235999999999999,2.04996,0.44808000000000003,0.013440000000000002,0.37932,0.41844,0.19884000000000002,0.876,0.99264,0.42924000000000007,5.85036,0.38508000000000003,0.8817600000000001,2.20908,1.9338000000000002,0.24768,3.06996,0.29544000000000004,2.30544,6.287400000000001,0.49272000000000005,0.16764,0.9336,2.80836,0.04524,1.0381200000000002,0.15996,0.57216,0.04728,2.9010000000000002,0.7270800000000001,1.43208,0.53196,0.10524,0.92976,13.782,1.17936,0.16116,1.12812,0.31608,2.62548,0.53868,4.17852,1.3287600000000002,0.1686,0.14364000000000002,0.20568,0.15576,1.72008,0.40991999999999995,0.46212,0.54972,0.87,0.16956000000000002,0.9118799999999999,0.99504,0.02412,1.50156,0.15168,0.26952000000000004,0.49464,2.19372,0.40824000000000005,0.056280000000000004,0.03648,2.32164,2.64312,0.12876,0.903,0.36264,0.4722,0.0486,0.63288,0.9331200000000001,0.07356,5.0694,1.3851600000000002,0.18204,0.04428,0.09816,0.07511999999999999,1.4472,0.099,0.042480000000000004,0.27036000000000004,0.43152,0.6714,0.057960000000000005,0.14243999999999998,0.08208,0.12456000000000002,0.02724,2.0157599999999998,1.3407600000000002,0.24144000000000002,0.07164,0.147,0.08808,0.25079999999999997,1.40628,0.05052,0.92592,0.2586,0.90696,0.08484,0.09084,0.04956,0.1734,0.31524,1.6767599999999998,0.054360000000000006,0.30432,0.8930400000000001,0.12984,0.5052,0.6794399999999999,0.13835999999999998,0.066,0.06588000000000001,0.51828,0.69228,0.45264,0.65328,0.15924,0.53916,0.42468,0.04188,1.1568,0.4692,1.1460000000000001,0.54132,0.05256,0.07092,0.07908,0.7462799999999999,3.1245600000000002,1.1094000000000002,0.0534,0.05304,1.04172,1.22448,0.6308400000000001,0.65832,0.8791200000000001,0.14616,0.20244,0.8538000000000001,2.41572,0.11496,1.47876,10.956840000000001,0.38556,2.4925200000000003,0.056400000000000006,0.04452,0.05724,0.06792000000000001,0.0762,8.0586,2.70792,0.33564,0.11304,0.18744,0.22355999999999998,0.03168,0.3186,0.09108,1.42092,0.27072,0.08664,0.1716,0.15816,0.22247999999999998,0.07728,0.06756,0.06659999999999999,0.20063999999999999,0.09552000000000001,0.07956,1.31352,0.08208,0.14208,2.88468,6.11232,0.08976,0.08148,2.44476,5.698320000000001,0.0222,0.25295999999999996,0.09132000000000001,0.056639999999999996,1.23936,0.2868,0.96108,0.39324000000000003,0.29856,1.62972,0.08388000000000001,0.59544,0.07164,0.32892,0.64476,0.59676,2.70804,0.31752,0.047760000000000004,3.4274400000000003,4.4706,0.06096,0.52224,0.10788,2.07876,0.2076,0.18132,5.08212,0.20856,0.047400000000000005,0.06528,3.3776400000000004,3.6013200000000003,0.62448,38.92176,0.40800000000000003,0.7785599999999999,0.009720000000000001,0.7342799999999999,2.2398000000000002,0.14844,0.05268,2.10324,0.53532,2.31156,0.32724,0.07344,0.14208,2.58672,2.085,0.6843600000000001,0.6636,0.30108,0.5628,0.6,0.07752,0.08796,0.7240800000000001,2.50236,0.058320000000000004,0.08484,4.618200000000001,0.54456,0.46632,0.93864,0.06288,1.23276,0.06636,0.0822,0.07596,0.8624400000000001,3.35052,0.5232,0.46224000000000004,0.07416,0.05808,0.07932,0.15768000000000001,1.9648800000000002,0.0438,0.17064000000000001,0.060719999999999996,0.3396,0.09960000000000001,0.12096,0.11148,0.111,0.25584,0.1458,0.0504,0.18264000000000002,0.08268,0.25488,0.07644000000000001,0.0516,0.44124,0.35087999999999997,0.15947999999999998,0.38148,0.05352,0.14148,2.85048,0.037559999999999996,0.10104,0.17880000000000001,0.41112,0.018600000000000002,0.10836,0.44988000000000006,0.0906,0.04644,0.55728,0.07044,0.71808,0.00816,0.0048000000000000004,0.11231999999999999,0.044640000000000006,1.2276,0.05496,0.17772000000000002,0.13296,0.07128000000000001,0.060840000000000005,0.0756,0.13116,0.03696,0.06552,0.02016,0.09384,2.1036,3.6457200000000003,0.26028,0.41424000000000005,0.20004000000000002,0.20868,0.07271999999999999,0.72804,0.2364,0.04356,0.17796,0.36588,0.10104,0.07416,3.70968,0.53112,0.10152000000000001,0.39936000000000005,0.36588,0.0654,1.54392,0.06396,0.35592,0.5472,0.21731999999999999,0.36156,0.20495999999999998,0.8094,0.10764000000000001,0.14688,0.51444,0.33936,0.30144000000000004,0.07823999999999999,0.048960000000000004,0.060239999999999995,0.0726,0.06696,0.06012,0.069,0.23076000000000002,1.4628,0.36408,4.5067200000000005,0.10128,0.4330800000000001,0.37248,0.050159999999999996,0.20544,0.9908399999999999,1.22112,0.11412,0.19056,0.8031600000000001,0.20687999999999998,0.05112,0.31572,0.03612,0.05352,0.53136,0.05904,0.7614000000000001,0.40104,0.01032,0.96228,1.62132,0.10872000000000001,0.09792000000000001,0.046200000000000005,0.51552,0.046200000000000005,0.6289199999999999,0.47484000000000004,0.6702,0.39096,2.2152,0.13668,39.337320000000005,0.16260000000000002,0.04752,0.63852,0.04908,0.9394800000000001,0.042,1.5586799999999998,0.26748,1.41348,0.22463999999999998,0.05412,0.06564,0.5352,0.09768,0.052199999999999996,0.06504,0.14243999999999998,0.17772000000000002,38.85888,0.03648,1.1538000000000002,1.47252,3.6606,0.03048,0.07572,0.0696,0.02628,0.52356,0.14508000000000001,0.22944,0.13488,0.6066,0.1464,0.060360000000000004,0.0552,0.0972,0.08508,0.8068799999999999,0.0972,0.9200400000000001,0.05424,0.062400000000000004,0.07296,0.5327999999999999,1.3146,0.38820000000000005,0.73128,1.04232,0.060360000000000004,0.047400000000000005,0.035160000000000004,3.9208800000000004,0.02736,0.09288,0.64332,0.04524,0.05472,2.1546000000000003,0.2832,0.027,4.1946,0.94104,1.5424799999999999,6.8112,1.02936,1.1688,0.57696,2.82384,1.37196,0.06971999999999999,2.208,0.11747999999999999,0.06948,1.5852,3.11724,0.6804,0.15564,0.09996000000000001,8.54868,13.320839999999999,0.74676,0.2274,0.31692000000000004,0.2586,0.37032,0.46068000000000003,0.31595999999999996,0.034319999999999996,1.19268,0.0444,0.16488,0.03228,0.53112,0.05892,0.15708,0.05052,0.47724000000000005,3.5357999999999996,0.05268,4.21836,0.04128,0.4518,0.25488,0.7445999999999999,1.3480800000000002,1.5050400000000002,1.2157200000000001,1.76316,0.5574,1.32792,0.38448,0.14256000000000002,0.060840000000000005,0.06984,0.53412,0.0552,0.17412,0.08556,0.41544,0.29112000000000005,0.07428000000000001,0.9618000000000001,0.29916,0.054599999999999996,0.0504,0.5052,0.10992,0.04488,0.05688000000000001,0.29172,0.0822,1.74252,3.0100800000000003,0.09696,0.26712,0.19355999999999998,0.056760000000000005,0.056159999999999995,0.46092,0.07536000000000001,4.0098,0.46284000000000003,1.37556,1.09836,0.059280000000000006,0.07116,0.05604,0.07511999999999999,0.23316,0.41159999999999997,0.06552,0.41375999999999996,0.07236000000000001,0.09960000000000001,0.056639999999999996,0.066,0.14556000000000002,0.21468,0.057719999999999994,0.14052,0.30708,0.08484,0.54096,0.06444,0.18839999999999998,0.735,1.65972,0.30563999999999997,0.4938,0.06372,0.9015599999999999,0.7062,0.8256,0.75768,0.11231999999999999,0.051239999999999994,0.10104,2.21412,0.49356000000000005,0.13104,0.10284,0.05688000000000001,0.0738,0.06636,0.1722,0.40559999999999996,6.7866,0.33828,0.12516,0.726,0.11616,0.33228,0.63348,0.04056,0.7108800000000001,0.13812,0.45048,0.12204,0.36936,0.13404,0.21084,0.0558,0.16692,0.53028,0.08652,0.09396,0.53964,0.32076,0.15744,0.6560400000000001,0.1644,2.1463200000000002,0.7356,0.06552,1.06296,0.67032,0.96072,1.0572,0.07392,0.19247999999999998,0.72684,0.26748,0.29712000000000005,0.05976000000000001,0.17232,0.03684,0.47484000000000004,0.2274,0.07248,0.22644000000000003,0.95436,1.8234,0.07715999999999999,0.04224,0.20892,0.0684,0.09419999999999999,0.22008,3.49056,0.92676,0.04236,0.30156,0.0594,0.09072,0.12012,0.45011999999999996,1.54092,0.23471999999999998,1.31508,0.60084,2.14764,0.2364,0.17808,0.16404,0.30108,0.49152,1.09836,2.62788,0.5094000000000001,0.08652,0.65088,0.15660000000000002,0.23412000000000002,0.44495999999999997,0.11112,0.1278,0.1314,0.26976,0.09684000000000001,2.09544,0.8046,0.0456,0.20976,0.07872,0.08244,0.3324,1.79436,0.06684000000000001,0.23532,0.1062,0.27516,0.6132000000000001,0.20448,0.03492,0.9995999999999999,0.39720000000000005,0.34044,0.258,1.8848399999999998,0.05376000000000001,2.1402,1.2282,0.16644,0.15504,0.08771999999999999,0.04956,0.7164,3.7512000000000003,0.0858,0.06888000000000001,0.051480000000000005,0.06636,0.043680000000000004,0.14664000000000002,0.05412,0.06912,0.21636000000000002,0.11652000000000001,4.8606,0.01368,0.1506,0.06108,0.30924,0.4902,0.041400000000000006,0.10439999999999999,0.49128,1.1511600000000002,0.20748,0.1842,0.61524,0.48012,0.48504,0.708,0.05424,0.47532,0.47700000000000004,1.9296000000000002,0.19044,0.0642,0.04176,0.85392,0.21395999999999998,0.07116,0.06984,0.11988,0.07872,0.07704,0.04404,0.06744,0.07692,0.1758,0.222,0.12816,0.04128,0.7345200000000001,0.32568,0.21012000000000003,0.51276,0.46643999999999997,0.72144,0.03384,0.111,0.198,0.55392,0.06863999999999999,0.29892,0.042,0.52368,0.07536000000000001,0.08712,0.06492,0.46056,0.15468,0.23628000000000002,0.04476,1.122,0.37188,0.10128,0.21444000000000002,0.07296,0.06312,0.87768,0.03876,0.21504000000000004,0.22104000000000001,0.05652,0.54696,0.05688000000000001,0.34392,0.0438,0.044640000000000006,0.11148,0.09864,0.5180400000000001,0.23856,0.08724,0.33504,0.50352,0.7722,0.2436,0.1764,0.04932,0.687,0.11712,0.22692,0.06,0.38328,0.0882,0.23724,0.22644000000000003,0.90768,0.34668,1.23828,0.0762,0.21648,0.7892399999999999,0.83856,0.31824,0.59016,0.5622,0.28200000000000003,0.9428399999999999,0.09288,2.63916,0.056639999999999996,0.40848,0.01812,0.05196,0.08688,0.90144,3.12384,0.22679999999999997,0.72636,0.08664,0.15792,1.90356,0.13176000000000002,0.32112,0.10139999999999999,0.50124,2.10636,1.4928000000000001,0.51816,0.777,0.70968,0.46859999999999996,0.13416,0.933,1.1316,1.13628,1.0218,0.93072,0.25752,0.35856,0.417,0.10932,0.07128000000000001,1.35384,0.07752,0.21120000000000003,0.31524,0.33216,0.14604,0.0756,0.01752,0.08988,0.80124,1.2762,0.09576000000000001,1.1124,0.0258,0.0846,0.10152000000000001,0.14328,0.74016,1.32504,0.7392000000000001,0.36948,0.2274,0.42575999999999997,0.45132,0.73416,0.1446,3.4426799999999997,1.82568,0.13727999999999999,1.7668800000000002,0.17004,0.6084,0.22644000000000003,0.44268,0.37716,1.7432400000000001,0.04752,0.18312,0.7086,0.07212,0.047880000000000006,1.1076,0.019200000000000002,0.2094,0.33396,0.04824,0.14076,1.15944,0.28344,0.1158,0.11868000000000001,0.40224000000000004,0.9848399999999999,0.06252,0.5796,1.58028,0.19392,2.13852,0.00948,0.39468000000000003,0.05544,3.5136000000000003,0.053880000000000004,0.22763999999999998,0.009000000000000001,0.27144,0.70032,0.07416,0.0504,0.3426,0.03528,0.12060000000000001,0.3018,0.47100000000000003,0.17988,0.07968,0.051719999999999995,0.63276,4.9572,0.07524,0.07200000000000001,0.65124,0.034319999999999996,0.56496,0.53964,0.28596,0.24024,0.3366,0.52416,1.07664,0.14028,0.50688,0.15864,0.06048,0.16068000000000002,3.07572,0.37848,0.6138,0.09648,0.040920000000000005,0.333,0.5119199999999999,0.019200000000000002,0.11604,0.53616,0.03528,5.0677200000000004,3.16044,0.38927999999999996,3.5869200000000006,0.17243999999999998,0.28224,0.28608,0.213,0.06828000000000001,0.10188,0.20532,0.86052,2.72172,0.24804000000000004,0.69108,0.24468,0.11556000000000001,0.08016,0.9516,1.02324,0.3444,0.93828,0.36312000000000005,0.04524,0.10056000000000001,0.0822,0.03312,0.06108,0.04824,0.34536,0.84168,0.50352,0.054,0.27264,0.36144000000000004,0.12516,1.7333999999999998,0.09336,0.22104000000000001,0.0756,0.54168,1.44864,0.59436,0.06180000000000001,1.45524,0.29184,0.09480000000000001,0.09935999999999999,1.34352,0.20868,0.81576,0.57168,0.12072000000000001,1.22448,0.21276,0.50676,1.0194,1.2541200000000001,0.05544,0.04728,0.045,5.39508,0.04356,0.09924,0.09852000000000001,0.34596,0.0678,0.08388000000000001,2.7852,0.8817600000000001,7.059,45.22392,0.7867200000000001,0.049800000000000004,0.17568,0.1278,0.20664,1.50708,0.01488,0.44184,0.07032000000000001,0.08532000000000001,0.74232,0.0468,0.2868,0.08736000000000001,0.2238,0.4338,0.33516,0.07224,0.44616,0.06504,0.27371999999999996,0.0852,0.08436,0.04704,0.7931999999999999,3.22836,0.039240000000000004,1.44288,0.1308,0.35328000000000004,3.3964800000000004,0.34368000000000004,0.25728,0.054599999999999996,0.48059999999999997,1.27644,3.375,0.11904,0.22296,0.03732,0.66996,0.17832,0.08964,0.07224,0.10668000000000001,0.06804,0.06648,0.7926,0.09048,0.25884,0.21684,1.16724,6.1885200000000005,1.40328,1.21452,0.13188,0.09432,0.07056,0.04116,2.38308,0.34596,0.76848,0.15708,1.32024,0.41544,0.08496000000000001,0.06936,1.53864,0.7958399999999999,1.41168,0.0408,0.402,0.1422,1.464,0.1722,0.51024,0.5583600000000001,2.68032,0.68532,0.22512000000000001,0.0846,0.6006,0.039,0.26508,0.24792,0.0504,0.0438,0.08088000000000001,0.14724,0.048119999999999996,0.07704,0.05556,0.0594,1.27044,0.84372,0.2778,0.11088,0.46296,0.040920000000000005,0.73416,0.032880000000000006,0.07836,0.1908,0.09072,1.64328,0.90084,0.10332,0.40896,1.49508,0.16428,0.7657200000000001,0.83436,0.30636,0.03456,0.11148,0.21348,0.028200000000000003,0.24912000000000004,0.21828000000000003,1.20588,0.0348,0.08832000000000001,0.4248,0.07823999999999999,1.03056,2.2854,0.70896,0.35052,0.30168,0.09252,0.30528,2.7546000000000004,0.05328000000000001,0.22848,0.5964,2.20548,1.4412,0.06792000000000001,0.12347999999999999,0.7806,0.58344,0.05316,0.14124,0.03204,0.13512,0.70584,0.17052,0.77352,0.06684000000000001,0.8434800000000001,1.19304,0.08688,0.44604000000000005,0.79068,0.10332,0.31872,0.20892,0.68352,0.12444,1.15536,0.28416,2.6503200000000002,0.21839999999999998,0.56712,0.23171999999999998,0.04824,0.18408,0.54396,0.11676,0.042480000000000004,0.12372000000000001,0.050280000000000005,0.05604,0.06480000000000001,0.12660000000000002,0.14388,1.14456,0.12384,4.71684,0.11639999999999999,0.19763999999999998,0.27528,1.45032,0.44736000000000004,0.20268,0.75012,10.3422,9.5112,0.05688000000000001,0.71832,0.05088,0.04656,0.054,4.719480000000001,0.61512,0.75876,0.04536,1.056,0.26856,0.33648,0.64824,1.07388,0.04584,0.59748,0.051719999999999995,0.5151600000000001,0.04356,0.13848,0.07836,0.045720000000000004,0.22571999999999998,0.70548,0.35064,0.72096,0.0654,0.06888000000000001,0.07740000000000001,0.57792,0.42432,0.06,0.04908,0.6607200000000001,0.10584,0.07692,1.10028,0.33684000000000003,0.33252000000000004,0.96072,1.45956,0.20772,0.05712,0.71016,1.27188,1.1538000000000002,0.38424,0.12012,0.12047999999999999,0.11388000000000001,0.66756,0.04692,0.40836,0.049800000000000004,0.82668,0.46308000000000005,8.61516,0.624,0.09072,0.61488,0.67416,0.10235999999999999,0.08280000000000001,0.10176,1.0081200000000001,0.43188000000000004,0.30132,1.9294799999999999,1.40964,0.05748,0.5268,0.30444000000000004,0.0552,0.246,1.08636,0.7022400000000001,0.6988800000000001,0.08676,0.26796,0.4758,0.5521199999999999,1.3360800000000002,1.7316000000000003,0.71712,1.0820400000000001,0.5874,0.15084,0.04956,1.99716,1.43988,0.45408000000000004,0.87432,0.07656,0.06816,0.1158,2.43852,0.06756,0.051840000000000004,0.1674,0.85104,0.05736,0.22979999999999998,0.19284,0.060239999999999995,0.04452,0.05088,0.31848,0.01908,0.50256,0.61944,0.25056,0.64644,0.27864,0.13224,0.45852000000000004,1.04892,0.59508,0.06096,0.052320000000000005,0.28104,0.56004,0.18132,0.07932,0.06612,3.85152,1.13064,0.5775600000000001,0.8304,2.72076,0.05424,0.20112000000000002,1.14924,0.70548,0.047760000000000004,0.05604,0.04956,0.04824,0.32964,0.06192,0.09204,1.87416,0.72564,0.09708,0.08592000000000001,10.385760000000001,0.17243999999999998,2.781,0.08952,0.96564,0.46764,0.39912,0.51852,0.03948,0.11664000000000001,0.05712,0.04584,0.22344000000000003,0.5269199999999999,2.2239600000000004,0.08484,1.3054800000000002,0.23772,0.5536800000000001,0.15696000000000002,0.44916,0.64656,0.04764,0.56436,0.051480000000000005,0.04704,0.05424,0.35268,0.34152,0.0804,0.17748,0.04536,0.73116,0.09228,0.32328,0.42864,1.27164,4.7184,0.80028,0.09024,0.13104,4.79676,1.15908,0.72384,0.08208,2.08404,1.13076,0.13416,0.1638,0.07884000000000001,0.06924,0.1542,0.45011999999999996,0.09444000000000001,3.59256,1.02264,0.14472000000000002,1.038,0.27468000000000004,1.82292,0.08112,0.183,0.25152,0.14952000000000001,0.03816,0.07488,0.05004,1.12128,0.38904000000000005,0.24936000000000003,0.1104,0.58692,0.639,1.93668,0.054599999999999996,0.07044,0.5642400000000001,0.8448000000000001,0.07128000000000001,1.75164,0.12047999999999999,1.70256,0.08076000000000001,0.31776,0.27155999999999997,0.08771999999999999,0.13704,0.17784,0.7600800000000001,0.41532,0.03936,0.05088,0.75852,0.51252,0.0534,0.09036000000000001,0.04128,0.7914000000000001,0.6438,0.5814,0.08352,0.97488,2.99352,1.25688,0.66276,0.39372,0.060840000000000005,0.23616,1.1544,0.675,0.07968,0.10056000000000001,1.6328399999999998,4.8505199999999995,1.09788,0.70308,0.94032,0.13308,0.4728,0.3564,0.32472,0.7299599999999999,2.7504,0.49979999999999997,0.3654,0.35472,4.30284,0.23808,0.06432,0.51936,0.76644,0.23136,0.1692,0.05568,0.09744,0.10716,0.35916,0.15576,0.60684,29.877360000000003,0.056760000000000005,0.17112,0.1158,0.41268,0.04704,0.22968000000000002,0.55932,0.24552000000000002,0.13656000000000001,0.46032,0.1686,1.11024,0.03864,0.68796,0.4278,2.47596,0.08868,1.1226,0.4272,0.049679999999999995,4.4076,0.42432,1.1544,1.31664,0.07692,0.24252,0.10860000000000002,0.5946,1.07148,0.1074,0.12972,0.37764,0.26088,0.10956000000000002,0.32244,0.05508,0.92544,0.23532,0.7628400000000001,0.08208,1.5183600000000002,0.06276000000000001,0.8990400000000001,0.1572,0.07884000000000001,0.041400000000000006,0.03684,0.039119999999999995,0.18576,0.07692,0.1008,0.08952,0.37020000000000003,0.26688,0.15552000000000002,0.5004000000000001,1.2311999999999999,0.12012,0.07164,0.0468,0.10439999999999999,2.25564,0.19716,0.07092,0.19679999999999997,0.14124,1.23684,0.08088000000000001,1.29972,4.37124,0.45816,0.69708,0.047400000000000005,0.07200000000000001,0.30168,1.2216,0.09396,0.62268,0.22920000000000001,0.13319999999999999,0.64224,0.56064,0.049679999999999995,0.11376000000000001,0.08076000000000001,0.03528,0.45564,0.54528,0.05904,0.03144,0.35268,0.08256,0.03672,0.09564,0.18696000000000002,1.20516,0.8058000000000001,0.04272,0.01068,0.2118,0.17028,0.03384,0.93408,0.7806,0.49812,0.042480000000000004,0.044640000000000006,3.77904,0.31764,0.078,0.052199999999999996,0.04824,0.15924,0.84132,0.039599999999999996,0.27396,0.26244,0.11472,0.7832399999999999,0.0576,0.04104,0.052199999999999996,0.13044,0.08844,0.11316,0.06732,0.17724,0.03972,1.67124,0.34332,0.24912000000000004,0.21612000000000003,0.51084,3.4359599999999997,5.08284,0.06228000000000001,0.049800000000000004,0.05652,0.046200000000000005,0.06444,0.13548,0.0972,0.06168,0.07056,0.10392,0.09947999999999999,0.07092,0.06456,0.06948,0.056639999999999996,0.06336,0.029400000000000003,0.80796,0.75528,0.0576,0.186,0.32004000000000005,0.06252,0.0468,0.07788,0.111,0.11280000000000001,0.25812,1.38408,0.06876,0.63624,4.0629599999999995,0.0576,0.10908,1.53684,0.34548,0.7168800000000001,0.30444000000000004,1.0038,0.55584,1.05732,1.21716,0.6402,0.06108,0.01044,0.28212000000000004,1.25196,0.049800000000000004,1.33248,0.08771999999999999,0.19560000000000002,0.71436,0.16008,0.32448,0.13584000000000002,0.75864,0.04848,0.66876,0.6144000000000001,0.47172000000000003,0.61368,0.08316,1.4214,0.64824,0.06456,0.21624,0.047400000000000005,1.80276,0.12732,0.84468,0.77832,0.058440000000000006,0.06252,0.19571999999999998,0.08544,0.59496,1.5246,0.36168,0.29964,0.0342,0.05712,1.1911200000000002,0.05652,0.04752,1.2410400000000001,0.37848,0.9114000000000001,0.70644,0.07848000000000001,0.8206800000000001,0.52764,0.05952,0.7971600000000001,0.57504,0.28356,1.4371200000000002,0.51648,0.8155199999999999,0.060840000000000005,0.21132,0.09996000000000001,0.08964,0.07692,0.14472000000000002,0.26616,0.060840000000000005,0.11148,5.50128,0.46452000000000004,3.07164,0.8004,0.04068,0.47700000000000004,0.21564,0.10308,4.82448,1.5923999999999998,0.59328,0.0936,0.04272,0.04536,0.04704,0.34536,1.2823200000000001,0.31644,1.23048,1.8774,0.2526,0.1662,1.4724000000000002,0.3642,1.10484,1.9176000000000002,1.73484,0.73944,3.2869200000000003,1.3394400000000002,1.45104,0.70128,0.35016,1.0776,5.30328,0.8455199999999999,0.33072,0.9741600000000001,2.121,0.86424,0.29784,2.32032,0.08652,0.06456,1.0014,0.5862,1.65192,3.54504,0.14916,0.04356,2.8326000000000002,0.45396,4.7004,0.39264,1.7413200000000002,0.36036,0.3462,0.048119999999999996,3.24756,0.08376,0.07968,0.053880000000000004,0.41064,3.64428,2.23392,1.8526799999999999,0.1368,0.79644,0.07044,1.66944,0.14292,0.06612,0.25644,1.86564,1.0887600000000002,0.63744,1.9032,30.593639999999997,0.5656800000000001,6.44436,0.36936,1.13556,4.51884,1.95828,0.11352000000000001,0.42516,0.186,1.2070800000000002,6.589320000000001,1.1431200000000001,0.05568,7.4388,2.05176,0.78228,2.1055200000000003,2.30364,0.47856000000000004,0.45804,0.96324,0.15072000000000002,0.46704,19.17072,6.51288,1.0461600000000002,3.45084,1.1958000000000002,21.476280000000003,1.4778,0.08316,0.1038,0.88068,1.73292,3.91128,0.918,0.6484800000000001,1.4682,0.20184000000000002,4.2332399999999994,1.77408,0.29448,0.69108,0.11939999999999999,3.48684,0.82776,13.059000000000001,0.0,0.57516,1.9347599999999998,0.27768000000000004,0.07248,3.01716,0.2964,0.11832,0.6190800000000001,2.12256,0.114,0.59112,0.24120000000000003,0.06564,0.69108,0.29256,0.10356000000000001,0.9274800000000001,1.6654799999999998,0.24695999999999999,0.25416,0.8060400000000001,2.21772,0.21372,0.27312000000000003,1.70976,0.65976,9.71712,0.16848,0.5064000000000001,0.91152,0.36863999999999997,0.10031999999999999,1.4961600000000002,0.19355999999999998,3.3642000000000003,0.6305999999999999,3.18756,0.9358799999999999,1.11972,2.3672400000000002,0.74676,0.56148,0.26676,2.18004,0.7841999999999999,1.2874800000000002,0.45756,5.49012,0.28044,2.6576400000000002,1.5672,1.2901200000000002,0.3528,0.8916,15.36972,0.8164800000000001,0.08988,75.97092,2.2806,0.69936,0.99096,2.00976,0.12960000000000002,1.90992,0.1932,0.61668,1.2438,5.2464,0.58236,0.74892,2.5644,0.5167200000000001,0.34728000000000003,0.22679999999999997,0.051840000000000004,8.29884,2.10528,0.5137200000000001,0.21324,0.11892,0.71196,2.2098,1.53036,0.11712,0.2136,0.40932,0.11652000000000001,1.4878799999999999,0.39708000000000004,0.77268,0.36492,0.49188000000000004,2.0695200000000002,0.59868,0.14616,0.33252000000000004,0.27,0.057719999999999994,1.38876,1.9562400000000002,0.78012,0.108,0.09731999999999999,1.6176000000000001,1.04388,2.86536,2.57028,0.76644,0.60384,1.76568,0.05256,1.10376,2.42544,0.8985599999999999,1.9873200000000002,0.10439999999999999,0.483,2.94192,0.37752,0.17796,0.86352,4.74312,0.06552,0.08088000000000001,0.60276,1.57224,1.8923999999999999,0.61512,0.14652,1.4901600000000002,1.035,1.24044,0.11088,2.46624,0.3786,0.33696,0.90744,0.65712,5.6148,0.18084,12.00072,1.1628,0.22655999999999998,0.26604,0.05328000000000001,0.35016,0.276,0.17243999999999998,0.29676,2.59416,3.1106400000000005,0.72972,0.24395999999999998,0.38604000000000005,2.68248,0.26532,0.49524000000000007]},\"mode\":\"markers\",\"name\":\"\",\"showlegend\":false,\"x\":[96,27,54,97,43,24,97,97,119,113,54,25,95,43,101,19,93,40,116,107,107,38,22,95,93,32,22,45,117,29,68,31,62,33,62,123,69,112,54,50,103,113,97,93,41,38,115,64,23,26,25,112,24,61,101,53,15,58,115,40,94,13,33,61,61,85,13,61,95,95,37,13,53,21,61,100,115,20,82,94,22,64,21,119,25,69,17,113,27,108,53,21,73,65,14,43,22,12,52,19,16,72,59,58,70,27,113,53,119,86,57,58,13,50,54,25,123,97,25,66,55,123,24,99,58,24,18,107,43,15,21,20,24,33,32,23,24,114,95,92,51,71,71,109,110,68,106,14,20,50,96,62,28,20,43,123,109,15,55,42,45,34,98,47,23,97,93,107,54,14,55,14,33,123,123,101,94,40,37,73,55,32,43,51,54,21,50,116,33,22,20,17,114,45,52,54,62,21,21,59,43,23,44,43,41,21,76,39,67,123,111,46,96,59,63,47,100,43,53,63,14,22,50,64,107,35,93,34,65,109,40,97,39,50,113,103,94,38,117,96,113,115,27,27,34,43,52,37,24,25,38,100,98,110,94,24,35,78,31,22,22,44,42,22,60,60,61,63,22,39,27,22,49,44,40,44,63,41,18,94,48,38,24,14,95,20,19,14,109,21,22,26,20,17,17,69,60,15,49,51,53,35,29,77,26,23,28,15,68,24,22,71,26,24,59,39,56,26,35,23,22,24,24,32,41,56,57,98,82,15,35,26,67,21,57,56,53,56,54,57,57,59,36,37,96,55,74,43,83,70,20,43,18,27,109,53,17,97,32,91,45,34,95,33,73,49,54,42,47,55,37,18,18,75,43,123,62,58,21,23,54,23,50,75,85,14,66,52,67,119,15,103,52,53,49,77,21,119,117,116,123,123,123,123,116,117,113,101,70,61,82,123,69,119,113,38,116,119,114,119,14,109,14,97,93,111,30,97,70,93,22,15,32,50,21,19,17,23,18,97,36,18,15,50,123,123,98,23,22,29,34,15,29,22,94,40,41,16,45,45,86,23,98,23,15,37,37,30,23,111,105,118,113,113,38,72,63,72,72,53,62,95,92,36,10,37,93,53,22,49,17,15,23,25,15,24,23,49,121,48,70,40,60,42,38,42,98,94,24,115,115,83,99,114,53,94,102,25,113,102,112,42,35,107,113,52,25,84,116,63,79,38,71,53,73,50,57,48,54,54,44,31,21,60,94,23,37,121,15,123,77,106,57,29,14,14,67,57,20,45,29,95,19,33,36,19,20,24,15,35,53,28,49,21,58,113,65,36,27,15,102,63,47,18,23,61,60,35,33,58,25,66,23,64,109,61,47,58,113,22,29,18,113,20,20,21,31,21,101,97,32,45,34,28,47,21,16,32,56,44,54,42,44,33,19,95,35,109,19,31,44,45,60,46,95,77,30,98,107,20,17,113,98,95,98,45,22,31,99,29,23,106,100,30,105,26,37,34,35,39,106,37,33,43,68,106,49,22,22,81,75,120,14,36,121,33,97,50,55,30,33,56,74,24,100,31,33,107,27,58,35,43,13,24,24,43,45,31,31,95,98,115,27,39,67,20,42,112,123,94,117,123,121,120,45,117,117,44,115,123,23,69,92,97,100,69,33,29,33,23,15,105,115,21,68,98,100,22,97,98,32,21,34,98,71,32,101,101,25,23,98,100,44,94,98,74,58,56,17,21,29,109,93,95,54,113,21,55,36,59,36,95,21,26,35,16,25,22,65,52,24,35,102,34,63,67,67,67,26,43,64,62,100,116,114,106,109,96,63,45,15,53,74,55,33,37,75,108,13,67,33,17,41,93,11,15,94,113,66,28,33,13,57,51,31,18,24,58,55,55,54,46,16,78,63,38,58,39,45,35,95,114,123,102,93,67,59,42,61,98,99,100,95,97,107,30,59,60,60,96,82,53,15,19,25,24,54,20,52,48,35,39,48,41,34,34,62,21,35,38,34,32,11,98,42,31,16,39,16,16,54,123,123,97,101,116,115,107,114,20,101,58,100,97,93,44,75,77,13,39,42,63,60,20,103,55,58,44,15,74,52,22,22,37,10,45,35,38,33,99,39,16,43,54,70,53,62,69,14,54,53,46,21,60,55,21,109,68,15,61,16,75,95,8,95,33,99,68,70,72,71,62,25,24,15,48,56,19,36,76,20,24,32,47,35,85,116,113,116,97,75,53,73,95,95,95,101,46,60,113,93,106,24,53,42,34,67,31,17,38,34,41,73,95,57,26,66,62,27,38,15,65,95,97,109,26,15,35,10,123,19,45,57,93,37,15,11,57,63,101,21,38,69,98,121,57,46,47,41,53,53,55,54,54,54,65,25,35,17,29,33,38,114,95,116,107,24,104,113,105,16,104,108,101,69,98,103,77,98,96,22,116,22,112,117,21,76,39,42,54,37,19,74,42,32,37,34,44,27,43,43,43,121,52,35,95,28,53,16,47,59,16,62,72,45,53,65,51,14,22,59,34,16,40,25,17,74,24,16,53,113,114,103,105,114,95,68,31,22,29,22,38,19,111,24,115,115,123,55,100,108,116,116,82,95,113,116,59,98,61,98,98,32,61,111,118,26,95,30,23,107,36,61,113,25,35,60,107,61,74,100,99,30,63,73,72,103,104,59,103,14,97,97,62,15,14,61,21,25,62,31,24,16,95,56,10,97,10,59,11,94,57,61,107,104,23,123,34,108,81,111,108,97,114,29,33,122,113,105,109,22,13,53,114,113,123,93,28,100,23,59,93,74,36,64,13,15,10,64,62,15,63,18,24,56,61,93,38,47,34,53,61,45,34,18,36,30,43,15,61,23,46,96,76,48,46,17,45,95,74,34,93,65,98,101,55,34,24,28,16,23,38,24,22,122,122,45,29,25,115,21,16,61,41,115,14,75,115,16,101,54,64,33,21,93,9,70,57,55,115,20,23,26,55,22,97,26,17,14,13,17,107,49,35,66,43,22,24,15,16,34,109,73,48,59,61,56,75,28,123,109,43,111,50,54,53,15,34,26,33,38,21,14,13,23,55,69,33,61,56,47,55,44,16,42,45,49,44,43,55,64,78,56,43,48,16,58,23,41,42,110,23,15,18,96,66,113,46,38,9,18,23,84,114,122,66,93,93,27,56,15,19,94,29,56,40,31,70,17,56,62,65,21,37,32,101,57,43,27,23,62,113,48,43,95,36,39,38,34,14,54,19,24,30,99,95,15,20,26,113,114,16,64,61,27,18,31,39,44,54,24,63,63,81,48,27,56,55,16,62,44,31,41,49,58,15,63,23,35,34,24,113,43,108,60,61,33,62,63,55,16,44,29,15,35,33,96,122,15,123,112,55,57,121,59,114,44,36,48,29,35,28,27,92,33,93,43,44,19,43,28,44,27,20,27,66,40,40,63,68,22,32,60,35,31,62,64,65,117,91,115,72,41,55,37,46,36,25,31,37,60,31,36,34,95,46,47,71,44,53,35,46,18,51,34,122,35,99,49,60,35,35,103,53,44,57,24,55,58,51,96,31,58,60,43,23,35,38,50,23,37,37,55,29,59,44,18,52,13,51,45,33,67,35,35,22,58,45,18,63,45,23,116,15,112,32,24,57,116,93,93,94,93,93,65,34,22,29,44,33,9,54,43,34,26,123,56,93,75,15,103,94,14,17,121,117,119,53,67,63,56,98,66,24,72,78,67,41,102,41,58,57,33,38,13,22,23,46,54,32,32,63,47,114,34,30,60,26,35,64,95,98,95,63,34,50,27,43,32,38,56,93,41,41,48,108,65,94,110,61,61,75,65,63,117,39,109,99,73,55,44,48,56,46,53,37,121,71,93,45,23,22,57,24,37,21,42,55,39,43,58,21,22,24,42,16,16,19,20,110,111,76,114,94,53,63,93,98,93,77,38,61,116,68,116,38,42,55,30,54,20,66,68,53,56,67,17,53,94,24,34,22,34,29,25,64,37,54,23,55,46,17,17,66,60,60,60,106,71,61,76,64,17,36,75,92,44,92,83,38,96,24,23,26,46,107,17,26,44,47,58,97,39,51,15,30,59,32,70,40,40,123,123,117,31,109,14,30,24,39,42,28,38,19,33,55,101,43,92,116,60,41,25,24,55,63,99,93,44,22,34,60,63,42,70,57,24,74,76,87,73,63,68,38,38,72,29,111,68,42,102,61,13,18,40,14,53,33,33,17,53,30,86,103,32,79,63,51,113,57,78,70,72,60,57,64,49,56,69,66,40,22,22,22,54,70,55,98,30,18,71,53,36,49,65,33,23,32,37,34,31,9,100,45,63,40,61,71,71,86,14,55,103,54,75,27,56,54,69,39,36,43,50,72,42,63,29,24,16,98,26,54,43,18,56,95,53,53,64,57,107,34,44,92,39,61,34,33,57,28,36,36,47,14,38,51,54,115,17,95,58,116,118,107,110,108,110,48,55,69,58,62,73,77,56,39,19,50,33,36,14,35,37,33,38,34,57,53,50,44,44,44,44,33,41,24,14,74,11,71,114,18,116,56,107,86,105,31,118,97,97,98,68,35,53,53,21,41,19,33,23,83,8,82,23,21,33,18,45,23,48,97,113,94,70,95,115,100,99,62,59,96,75,64,62,57,107,88,95,103,114,85,86,96,36,97,69,95,114,35,103,19,61,53,56,14,43,44,91,14,59,57,60,56,37,113,123,86,100,27,23,59,57,54,38,61,75,58,33,20,32,52,13,22,25,43,43,17,35,92,95,94,35,28,82,69,71,59,71,57,55,63,61,32,93,76,27,97,45,95,98,52,61,22,51,46,17,21,9,15,32,100,45,36,60,60,39,37,24,72,20,63,57,94,56,44,22,34,56,56,27,63,61,37,98,58,63,58,93,113,52,95,38,116,97,113,98,70,36,36,44,14,60,35,19,35,45,60,102,35,64,78,28,37,43,21,56,61,67,67,74,26,55,45,25,39,98,123,117,65,19,33,16,104,42,55,49,29,35,75,22,67,21,14,55,55,34,41,96,20,14,116,114,18,57,25,23,63,45,33,26,34,22,45,35,102,58,77,20,18,45,74,18,103,123,54,26,36,27,26,40,49,59,29,105,109,123,123,123,18,109,123,123,55,85,15,93,37,35,37,38,38,40,36,23,17,60,15,35,109,33,24,31,53,23,15,23,56,118,123,123,121,114,97,106,107,111,117,107,110,103,98,33,37,61,37,114,115,116,110,44,60,63,10,11,26,29,54,97,113,33,123,22,34,34,35,103,33,62,113,65,116,99,17,107,59,63,96,106,113,31,98,23,94,15,23,21,56,18,112,44,34,34,32,32,34,24,14,62,57,25,39,114,31,75,67,63,64,95,60,35,101,61,65,34,14,94,14,44,30,55,25,75,106,62,42,21,25,46,34,42,57,29,73,100,109,33,23,68,96,10,36,54,85,28,37,99,113,99,115,119,69,59,107,63,99,46,55,43,28,16,25,103,43,76,63,56,40,16,26,32,38,14,42,10,111,44,17,95,109,55,117,58,97,30,33,93,58,82,77,76,44,39,98,18,116,101,116,100,97,98,117,34,36,55,62,107,22,55,69,45,98,26,42,56,54,97,51,31,34,25,52,95,111,70,96,100,24,64,16,95,97,40,38,68,93,44,113,66,45,49,115,33,46,58,48,42,26,25,66,73,104,47,98,58,65,15,37,54,113,19,25,123,123,123,123,57,123,94,93,18,13,52,16,96,19,46,73,65,34,35,32,58,37,45,93,123,117,118,119,16,115,118,118,117,113,44,97,123,98,25,53,62,64,27,57,25,41,62,64,39,61,24,122,85,16,69,21,56,55,56,44,30,114,113,113,113,109,113,113,32,50,120,18,114,18,106,107,114,43,34,74,55,115,51,44,67,99,94,35,24,97,97,95,47,18,36,110,98,111,34,113,102,73,18,18,32,26,23,101,35,112,24,63,54,73,100,14,31,123,23,15,24,20,63,60,22,56,54,54,33,40,19,15,60,65,35,16,66,47,72,49,31,111,21,23,24,110,25,25,60,62,54,58,99,95,50,53,49,19,15,69,41,58,119,19,97,34,21,54,113,111,11,29,16,43,36,18,24,32,47,47,54,48,48,38,57,55,47,75,16,33,65,44,42,21,26,92,52,39,74,43,42,26,85,19,38,45,67,112,22,76,52,17,18,21,21,39,27,102,67,18,34,46,70,44,59,31,66,75,75,65,51,49,62,49,28,17,19,64,56,21,44,35,40,44,17,38,118,17,21,28,26,46,50,52,55,15,38,59,66,60,17,97,113,66,17,32,17,46,55,55,55,56,54,55,53,53,55,55,50,50,50,49,49,55,62,35,37,17,19,45,54,33,26,28,21,73,34,112,27,116,111,103,48,97,99,25,111,119,51,94,35,103,113,113,65,83,98,17,32,22,23,99,94,20,23,26,23,72,115,15,65,61,114,38,94,43,25,97,49,23,26,19,54,21,54,41,34,59,72,60,55,116,17,30,53,39,70,70,37,56,25,25,53,116,52,45,41,37,36,36,34,68,41,56,16,35,38,39,58,15,15,53,115,15,123,101,63,63,63,17,23,23,23,99,41,36,14,16,11,11,12,12,38,98,15,41,58,10,17,23,19,32,15,73,17,17,53,53,27,39,32,24,119,21,11,19,83,63,63,38,107,55,57,55,33,33,12,12,12,13,30,13,12,12,12,12,96,96,12,76,55,23,11,18,11,20,13,11,121,11,35,11,94,12,11,11,11,11,11,11,11,11,11,11,11,11,11,11,11,11,10,10,11,11,10,105,36,10,10,11,10,12,35,10,15,10,48,10,10,10,10,10,10,10,10,10,10,9,10,10,10,10,10,10,10,10,10,10,10,10,10,10,10,9,10,61,10,9,9,9,9,9,9,9,9,9,9,9,9,9,9,9,9,9,9,16,13,10,9,9,9,9,111,30,98,9,10,103,40,34,13,10,9,9,9,14,12,70,53,12,9,8,8,8,8,9,9,10,9,9,9,9,10,9,9,9,9,11,9,9,9,9,9,9,9,9,8,8,9,9,8,9,9,94,9,8,8,9,8,9,9,8,8,9,9,23,8,9,9,8,8,8,42,42,8,9,68,8,8,8,8,8,8,8,8,8,8,8,8,8,8,8,9,61,18,10,13,74,112,51,111,29,41,19,49,34,85],\"xaxis\":\"x\",\"y\":[249.98,295.86,2089.28,286.43,505.01,301.81,176.14,221.51,392.16,151.12,691.26,740.97,328.23,648.62,511.39,181.38,433.86,802.89,273.02,349.32,1265.29,1699.45,90.01,388.04,9.13,256.57,328.63,128.44,157.77,215.0,3.93,16870.98,311.84,31.47,130.56,83.86,247.85,45.43,295.33,66.48,33.26,35.36,584.31,59.19,2451.58,134.38,227.18,144.79,199.95,162.39,152.76,146.34,171.64,87.98,1727.11,609.1,67.06,430.84,262.75,481.97,39.06,138.85,526.85,607.41,344.2,804.2,617.52,101.83,6.11,490.73,29.04,674.09,48.76,152.14,191.2,78.85,243.23,34.14,44.32,133.58,127.29,443.73,89.02,142.39,429.12,1990.5,176.75,46.26,228.4,74.33,866.23,222.02,204.08,61.21,100.46,104.26,129.39,222.78,422.39,2055.82,49.58,723.47,231.53,66.3,8145.52,83.7,51.11,362.82,69.44,297.43,35.78,369.14,272.85,59.34,48.99,309.6,225.69,3.0,338.16,175.77,208.26,28.27,892.63,96.43,27.39,1246.55,388.37,16.81,748.55,162.41,92.91,279.35,1638.46,4906.33,9.63,10734.57,193.94,145.31,72.88,469.57,49.09,84.57,149.93,57.21,254.87,433.6,50.52,59.63,23.8,101.41,661.04,1060.13,639.39,780.84,301.76,377.27,44.22,26.39,68.24,68.19,149.27,172.58,398.19,313.3,359.11,170.51,100.26,26.19,563.25,229.25,222.19,275.54,130.73,51.67,31.97,213.23,70.15,318.97,171.52,46.56,26.1,139.72,231.32,218.53,627.87,287.32,546.65,175.95,429.27,380.37,298.61,216.24,70.17,89.47,198.34,209.41,119.03,30.86,49.12,6.09,168.88,72.42,176.43,91.13,141.95,103.97,46.03,208.79,384.27,24.91,741.3,78.92,355.05,530.66,1084.79,337.97,2573.75,162.45,116.03,48.65,21.51,40.46,70.47,156.67,224.36,588.9,1510.85,530.18,193.72,36.61,131.4,65.2,51.14,1468.5,318.08,18.03,202.99,793.05,74.83,48.54,20.98,316.2,185.03,147.75,525.78,216.43,135.23,33.17,31.72,92.92,100.65,281.55,44.48,418.9,328.83,249.09,130.69,201.15,147.49,456.22,530.59,243.66,114.14,13.86,117.11,5.32,236.9,5.44,30.27,21.36,39.47,374.92,35.8,42.03,38.59,33.06,93.23,32.73,454.49,349.07,1268.87,20.86,326.18,40.47,269.71,849.83,22.57,61.93,29.53,632.4,94.64,3995.45,726.96,122.68,69.59,74.1,587.16,1019.53,23.81,25.32,24.35,477.87,77.99,163.83,22.44,1032.63,277.98,45.47,121.98,41.8,80.32,47.94,110.46,10.24,226.43,237.39,553.27,158.92,34.9,27.17,37.74,94.47,85.01,1623.34,53.57,17.17,32.22,120.24,8.15,413.35,3.25,25.58,33.18,53.25,2.8,237.36,59.21,42.65,76.68,10.72,3.62,46.93,28.63,6.32,38.48,204.81,152.71,32.02,74.31,142.36,414.43,272.54,54.92,190.61,38.55,90.24,49.17,85.28,262.45,247.35,33.85,42.25,63.89,35.8,129.29,293.55,46.49,44.35,22.1,57.73,58.88,49.28,33.22,34.0,58.67,611.19,295.48,91.1,1156.45,45.22,23.86,49.9,107.83,22.12,65.3,49.74,107.16,20.29,39.5,64.0,640.71,406.02,365.79,39.47,8.73,25.74,306.5,19.73,134.69,19.89,76.8,26.04,24.89,130.31,99.59,13.28,31.58,65.56,132.6,74.18,15.65,30.5,16.48,41.18,18.74,190.1,7.37,138.35,20.18,67.78,182.14,180.76,445.62,98.43,47.25,810.7,100.42,49.25,42.74,33.41,59.75,477.85,58.43,67.29,25.3,692.12,734.72,185.39,481.06,17.28,40.38,94.74,130.32,357.39,282.46,21.37,23.48,35.56,310.19,530.62,58.52,116.95,270.17,111.69,138.39,36.49,30.61,98.54,357.86,60.7,55.73,177.62,5.59,54.78,103.57,116.74,88.74,70.09,119.81,8.8,50.17,47.39,97.82,69.02,119.46,157.48,7.08,95.86,75.29,19.86,155.74,48.5,178.62,34.14,67.65,168.5,25.37,293.56,33.58,86.9,710.7,61.86,38.21,47.82,314.43,1154.79,68.06,65.03,260.13,119.93,147.82,246.83,346.62,1921.82,882.56,110.7,582.28,109.85,324.25,150.88,133.8,27.82,54.4,20.12,426.39,639.72,132.71,119.03,41.8,13.72,169.06,264.78,89.41,9.31,31.43,390.67,94.59,51.56,30.35,73.58,179.45,89.94,111.23,46.52,152.28,60.92,13.61,75.12,1.06,131.64,89.53,158.55,119.92,195.43,166.13,99.14,455.39,29.16,67.51,74.45,24.12,4.22,4.2,106.12,95.03,79.39,110.41,20.94,69.3,27.24,12307.16,406.04,20.85,133.5,54.18,14.49,453.76,341.23,278.97,7.56,284.01,295.12,109.71,259.49,13.07,189.85,134.82,16.27,267.0,13.51,49.29,128.73,5.03,8.14,25.6,4.85,343.68,12.15,6.02,65.25,4.75,31.74,95.26,62.17,60.18,30.52,11.29,24.39,276.63,17.87,101.5,3.91,36.02,63.86,44.01,38.9,16.11,13.23,43.84,4.74,53.21,3.18,6.72,25.6,4.58,19.01,21.69,122.83,86.46,3.58,77.04,2.41,2.57,4.16,43.2,416.07,4.43,21.93,62.46,16.01,22.65,37.78,9.77,9.47,130.28,50.55,113.91,106.77,30.41,6.74,28.47,66.44,6.1,18.6,29.04,29.33,29.71,50.46,69.57,80.47,29.84,169.75,7.77,16.58,132.47,17.02,5.71,3.99,4.43,2.7,63.48,4.29,7.02,51.58,207.6,29.62,141.2,374.56,18.5,9.82,42.19,63.36,138.03,6.43,52.25,54.59,25.24,19.83,24.02,31.76,7.13,3.95,43.8,154.4,9.58,32.51,6.87,54.53,4.52,3.88,5.81,11.7,11.6,6.22,39.57,9.81,4.8,15.27,82.9,6.33,49.58,38.97,18.1,11.68,154.17,29.54,7.1,79.21,25.21,14.22,93.87,9.95,6.16,24.25,15.24,13.87,8.68,14.63,28.81,40.28,47.84,60.43,33.78,16.63,154.89,2.92,66.29,151.36,369.68,25.41,174.99,23.27,6.75,47.32,12.95,41.69,126.78,594.48,1266.06,11.14,24.48,100.71,26.78,4.77,10.83,7.28,99.44,86.02,78.36,25.12,103.18,5.18,26.09,27.27,98.59,658.76,30.33,72.78,30.6,23.82,165.86,12.74,56.63,93.68,3.63,73.2,9.29,35.2,9.65,4.33,4.84,36.43,86.66,4.01,10.34,9.66,14.83,26.89,5.62,16.47,19.65,15.43,4.22,13.91,3.95,47.12,63.61,28.41,47.66,184.8,17.67,46.57,101.99,40.38,25.2,66.82,126.44,74.92,126.3,99.15,332.85,137.94,119.63,43.03,25.39,9.57,32.64,303.36,36.28,6.91,33.23,34.98,6.64,64.51,200.3,122.99,79.58,8.45,38.87,6.49,4.86,262.98,5.35,32.22,6.39,67.23,4.16,23.59,9.48,218.2,7.87,5.19,155.54,6.69,37.31,4.2,3.56,13.44,4.14,8.14,87.31,4.39,5.67,4.8,4.99,4.32,4.43,4.08,4.76,6.18,15.97,21.97,63.68,118.37,59.61,89.57,4.96,5.46,4.92,26.21,5.66,13.14,39.49,21.55,51.28,7.98,8.64,43.57,52.09,4.35,6.61,11.18,24.51,20.09,202.65,19.76,4.23,3.24,7.08,5.95,3.41,10.77,20.08,355.8,23.15,16.67,26.11,4.04,131.87,15.11,33.37,49.98,0.63,120.91,145.48,63.41,19.07,122.59,130.58,15.9,185.23,89.29,43.45,35.04,188.67,71.55,100.21,13.29,128.91,210.3,34.15,6.33,4.28,73.31,50.43,8.61,7.62,1.86,178.46,134.57,69.15,17.68,261.09,10.75,43.13,12.61,15.68,13.16,33.92,147.0,9.93,25.93,9.99,12.48,5.17,19.93,19.82,13.02,19.04,46.75,63.06,10.05,40.51,0.82,8.1,5.51,3.89,1.73,11.28,247.85,37.2,83.1,93.83,6.9,74.33,5.29,4.15,1.7,61.71,46.64,65.65,10.75,39.05,104.91,4.78,1.67,50.31,94.98,5.28,31.6,4.83,15.35,71.99,67.52,28.58,61.53,88.89,10.89,82.87,32.33,33.92,35.26,199.79,92.58,47.7,90.31,29.82,7.91,47.59,19.76,101.96,28.44,408.82,127.74,551.53,9.67,18.85,8.64,61.46,6.08,6.94,11.54,115.56,20.73,6.52,8.7,2.52,6.18,17.26,32.8,81.82,10.44,51.91,4.27,23.59,8.97,8.2,39.5,72.26,11.27,534.88,6.7,480.9,15.47,68.14,29.97,16.99,100.02,32.63,106.45,51.13,3.95,68.97,29.41,16.33,235.26,3.06,348.22,10.26,8.85,3.16,64.81,45.79,81.96,1.55,3.73,18.16,3.54,14.49,10.74,62.83,28.09,264.43,4.95,312.13,3.34,60.29,13.71,36.92,27.93,221.1,46.48,82.38,195.71,1216.05,149.91,94.85,148.55,188.58,60.88,110.17,25.53,9.0,42.04,8.47,25.02,30.32,66.53,9.46,73.52,18.34,27.47,82.34,5.41,44.71,16.06,7.49,23.85,38.12,11.29,16.13,19.39,8.49,30.02,28.6,336.73,32.99,66.19,12.49,4.76,127.1,234.6,49.58,40.22,20.78,15.9,122.73,10.36,32.86,12.35,515.85,10.12,176.79,13.01,36.74,173.94,45.33,59.06,61.98,180.38,65.02,79.58,17.12,8.8,8.89,12.77,12.59,4.12,12.19,104.61,72.37,31.24,13.89,10.75,23.74,23.78,40.76,26.38,247.97,55.71,20.76,20.9,48.35,9.3,73.61,38.85,32.47,101.34,94.02,159.98,74.64,46.6,14.04,479.7,71.23,21.66,79.81,12.72,106.73,709.11,69.54,8.54,85.55,107.45,6.07,462.4,60.04,55.61,123.41,295.38,8.53,170.83,37.34,1.12,31.61,34.87,16.57,73.0,82.72,35.77,487.53,32.09,73.48,184.09,161.15,20.64,255.83,24.62,192.12,523.95,41.06,13.97,77.8,234.03,3.77,86.51,13.33,47.68,3.94,241.75,60.59,119.34,44.33,8.77,77.48,1148.5,98.28,13.43,94.01,26.34,218.79,44.89,348.21,110.73,14.05,11.97,17.14,12.98,143.34,34.16,38.51,45.81,72.5,14.13,75.99,82.92,2.01,125.13,12.64,22.46,41.22,182.81,34.02,4.69,3.04,193.47,220.26,10.73,75.25,30.22,39.35,4.05,52.74,77.76,6.13,422.45,115.43,15.17,3.69,8.18,6.26,120.6,8.25,3.54,22.53,35.96,55.95,4.83,11.87,6.84,10.38,2.27,167.98,111.73,20.12,5.97,12.25,7.34,20.9,117.19,4.21,77.16,21.55,75.58,7.07,7.57,4.13,14.45,26.27,139.73,4.53,25.36,74.42,10.82,42.1,56.62,11.53,5.5,5.49,43.19,57.69,37.72,54.44,13.27,44.93,35.39,3.49,96.4,39.1,95.5,45.11,4.38,5.91,6.59,62.19,260.38,92.45,4.45,4.42,86.81,102.04,52.57,54.86,73.26,12.18,16.87,71.15,201.31,9.58,123.23,913.07,32.13,207.71,4.7,3.71,4.77,5.66,6.35,671.55,225.66,27.97,9.42,15.62,18.63,2.64,26.55,7.59,118.41,22.56,7.22,14.3,13.18,18.54,6.44,5.63,5.55,16.72,7.96,6.63,109.46,6.84,11.84,240.39,509.36,7.48,6.79,203.73,474.86,1.85,21.08,7.61,4.72,103.28,23.9,80.09,32.77,24.88,135.81,6.99,49.62,5.97,27.41,53.73,49.73,225.67,26.46,3.98,285.62,372.55,5.08,43.52,8.99,173.23,17.3,15.11,423.51,17.38,3.95,5.44,281.47,300.11,52.04,3243.48,34.0,64.88,0.81,61.19,186.65,12.37,4.39,175.27,44.61,192.63,27.27,6.12,11.84,215.56,173.75,57.03,55.3,25.09,46.9,50.0,6.46,7.33,60.34,208.53,4.86,7.07,384.85,45.38,38.86,78.22,5.24,102.73,5.53,6.85,6.33,71.87,279.21,43.6,38.52,6.18,4.84,6.61,13.14,163.74,3.65,14.22,5.06,28.3,8.3,10.08,9.29,9.25,21.32,12.15,4.2,15.22,6.89,21.24,6.37,4.3,36.77,29.24,13.29,31.79,4.46,11.79,237.54,3.13,8.42,14.9,34.26,1.55,9.03,37.49,7.55,3.87,46.44,5.87,59.84,0.68,0.4,9.36,3.72,102.3,4.58,14.81,11.08,5.94,5.07,6.3,10.93,3.08,5.46,1.68,7.82,175.3,303.81,21.69,34.52,16.67,17.39,6.06,60.67,19.7,3.63,14.83,30.49,8.42,6.18,309.14,44.26,8.46,33.28,30.49,5.45,128.66,5.33,29.66,45.6,18.11,30.13,17.08,67.45,8.97,12.24,42.87,28.28,25.12,6.52,4.08,5.02,6.05,5.58,5.01,5.75,19.23,121.9,30.34,375.56,8.44,36.09,31.04,4.18,17.12,82.57,101.76,9.51,15.88,66.93,17.24,4.26,26.31,3.01,4.46,44.28,4.92,63.45,33.42,0.86,80.19,135.11,9.06,8.16,3.85,42.96,3.85,52.41,39.57,55.85,32.58,184.6,11.39,3278.11,13.55,3.96,53.21,4.09,78.29,3.5,129.89,22.29,117.79,18.72,4.51,5.47,44.6,8.14,4.35,5.42,11.87,14.81,3238.24,3.04,96.15,122.71,305.05,2.54,6.31,5.8,2.19,43.63,12.09,19.12,11.24,50.55,12.2,5.03,4.6,8.1,7.09,67.24,8.1,76.67,4.52,5.2,6.08,44.4,109.55,32.35,60.94,86.86,5.03,3.95,2.93,326.74,2.28,7.74,53.61,3.77,4.56,179.55,23.6,2.25,349.55,78.42,128.54,567.6,85.78,97.4,48.08,235.32,114.33,5.81,184.0,9.79,5.79,132.1,259.77,56.7,12.97,8.33,712.39,1110.07,62.23,18.95,26.41,21.55,30.86,38.39,26.33,2.86,99.39,3.7,13.74,2.69,44.26,4.91,13.09,4.21,39.77,294.65,4.39,351.53,3.44,37.65,21.24,62.05,112.34,125.42,101.31,146.93,46.45,110.66,32.04,11.88,5.07,5.82,44.51,4.6,14.51,7.13,34.62,24.26,6.19,80.15,24.93,4.55,4.2,42.1,9.16,3.74,4.74,24.31,6.85,145.21,250.84,8.08,22.26,16.13,4.73,4.68,38.41,6.28,334.15,38.57,114.63,91.53,4.94,5.93,4.67,6.26,19.43,34.3,5.46,34.48,6.03,8.3,4.72,5.5,12.13,17.89,4.81,11.71,25.59,7.07,45.08,5.37,15.7,61.25,138.31,25.47,41.15,5.31,75.13,58.85,68.8,63.14,9.36,4.27,8.42,184.51,41.13,10.92,8.57,4.74,6.15,5.53,14.35,33.8,565.55,28.19,10.43,60.5,9.68,27.69,52.79,3.38,59.24,11.51,37.54,10.17,30.78,11.17,17.57,4.65,13.91,44.19,7.21,7.83,44.97,26.73,13.12,54.67,13.7,178.86,61.3,5.46,88.58,55.86,80.06,88.1,6.16,16.04,60.57,22.29,24.76,4.98,14.36,3.07,39.57,18.95,6.04,18.87,79.53,151.95,6.43,3.52,17.41,5.7,7.85,18.34,290.88,77.23,3.53,25.13,4.95,7.56,10.01,37.51,128.41,19.56,109.59,50.07,178.97,19.7,14.84,13.67,25.09,40.96,91.53,218.99,42.45,7.21,54.24,13.05,19.51,37.08,9.26,10.65,10.95,22.48,8.07,174.62,67.05,3.8,17.48,6.56,6.87,27.7,149.53,5.57,19.61,8.85,22.93,51.1,17.04,2.91,83.3,33.1,28.37,21.5,157.07,4.48,178.35,102.35,13.87,12.92,7.31,4.13,59.7,312.6,7.15,5.74,4.29,5.53,3.64,12.22,4.51,5.76,18.03,9.71,405.05,1.14,12.55,5.09,25.77,40.85,3.45,8.7,40.94,95.93,17.29,15.35,51.27,40.01,40.42,59.0,4.52,39.61,39.75,160.8,15.87,5.35,3.48,71.16,17.83,5.93,5.82,9.99,6.56,6.42,3.67,5.62,6.41,14.65,18.5,10.68,3.44,61.21,27.14,17.51,42.73,38.87,60.12,2.82,9.25,16.5,46.16,5.72,24.91,3.5,43.64,6.28,7.26,5.41,38.38,12.89,19.69,3.73,93.5,30.99,8.44,17.87,6.08,5.26,73.14,3.23,17.92,18.42,4.71,45.58,4.74,28.66,3.65,3.72,9.29,8.22,43.17,19.88,7.27,27.92,41.96,64.35,20.3,14.7,4.11,57.25,9.76,18.91,5.0,31.94,7.35,19.77,18.87,75.64,28.89,103.19,6.35,18.04,65.77,69.88,26.52,49.18,46.85,23.5,78.57,7.74,219.93,4.72,34.04,1.51,4.33,7.24,75.12,260.32,18.9,60.53,7.22,13.16,158.63,10.98,26.76,8.45,41.77,175.53,124.4,43.18,64.75,59.14,39.05,11.18,77.75,94.3,94.69,85.15,77.56,21.46,29.88,34.75,9.11,5.94,112.82,6.46,17.6,26.27,27.68,12.17,6.3,1.46,7.49,66.77,106.35,7.98,92.7,2.15,7.05,8.46,11.94,61.68,110.42,61.6,30.79,18.95,35.48,37.61,61.18,12.05,286.89,152.14,11.44,147.24,14.17,50.7,18.87,36.89,31.43,145.27,3.96,15.26,59.05,6.01,3.99,92.3,1.6,17.45,27.83,4.02,11.73,96.62,23.62,9.65,9.89,33.52,82.07,5.21,48.3,131.69,16.16,178.21,0.79,32.89,4.62,292.8,4.49,18.97,0.75,22.62,58.36,6.18,4.2,28.55,2.94,10.05,25.15,39.25,14.99,6.64,4.31,52.73,413.1,6.27,6.0,54.27,2.86,47.08,44.97,23.83,20.02,28.05,43.68,89.72,11.69,42.24,13.22,5.04,13.39,256.31,31.54,51.15,8.04,3.41,27.75,42.66,1.6,9.67,44.68,2.94,422.31,263.37,32.44,298.91,14.37,23.52,23.84,17.75,5.69,8.49,17.11,71.71,226.81,20.67,57.59,20.39,9.63,6.68,79.3,85.27,28.7,78.19,30.26,3.77,8.38,6.85,2.76,5.09,4.02,28.78,70.14,41.96,4.5,22.72,30.12,10.43,144.45,7.78,18.42,6.3,45.14,120.72,49.53,5.15,121.27,24.32,7.9,8.28,111.96,17.39,67.98,47.64,10.06,102.04,17.73,42.23,84.95,104.51,4.62,3.94,3.75,449.59,3.63,8.27,8.21,28.83,5.65,6.99,232.1,73.48,588.25,3768.66,65.56,4.15,14.64,10.65,17.22,125.59,1.24,36.82,5.86,7.11,61.86,3.9,23.9,7.28,18.65,36.15,27.93,6.02,37.18,5.42,22.81,7.1,7.03,3.92,66.1,269.03,3.27,120.24,10.9,29.44,283.04,28.64,21.44,4.55,40.05,106.37,281.25,9.92,18.58,3.11,55.83,14.86,7.47,6.02,8.89,5.67,5.54,66.05,7.54,21.57,18.07,97.27,515.71,116.94,101.21,10.99,7.86,5.88,3.43,198.59,28.83,64.04,13.09,110.02,34.62,7.08,5.78,128.22,66.32,117.64,3.4,33.5,11.85,122.0,14.35,42.52,46.53,223.36,57.11,18.76,7.05,50.05,3.25,22.09,20.66,4.2,3.65,6.74,12.27,4.01,6.42,4.63,4.95,105.87,70.31,23.15,9.24,38.58,3.41,61.18,2.74,6.53,15.9,7.56,136.94,75.07,8.61,34.08,124.59,13.69,63.81,69.53,25.53,2.88,9.29,17.79,2.35,20.76,18.19,100.49,2.9,7.36,35.4,6.52,85.88,190.45,59.08,29.21,25.14,7.71,25.44,229.55,4.44,19.04,49.7,183.79,120.1,5.66,10.29,65.05,48.62,4.43,11.77,2.67,11.26,58.82,14.21,64.46,5.57,70.29,99.42,7.24,37.17,65.89,8.61,26.56,17.41,56.96,10.37,96.28,23.68,220.86,18.2,47.26,19.31,4.02,15.34,45.33,9.73,3.54,10.31,4.19,4.67,5.4,10.55,11.99,95.38,10.32,393.07,9.7,16.47,22.94,120.86,37.28,16.89,62.51,861.85,792.6,4.74,59.86,4.24,3.88,4.5,393.29,51.26,63.23,3.78,88.0,22.38,28.04,54.02,89.49,3.82,49.79,4.31,42.93,3.63,11.54,6.53,3.81,18.81,58.79,29.22,60.08,5.45,5.74,6.45,48.16,35.36,5.0,4.09,55.06,8.82,6.41,91.69,28.07,27.71,80.06,121.63,17.31,4.76,59.18,105.99,96.15,32.02,10.01,10.04,9.49,55.63,3.91,34.03,4.15,68.89,38.59,717.93,52.0,7.56,51.24,56.18,8.53,6.9,8.48,84.01,35.99,25.11,160.79,117.47,4.79,43.9,25.37,4.6,20.5,90.53,58.52,58.24,7.23,22.33,39.65,46.01,111.34,144.3,59.76,90.17,48.95,12.57,4.13,166.43,119.99,37.84,72.86,6.38,5.68,9.65,203.21,5.63,4.32,13.95,70.92,4.78,19.15,16.07,5.02,3.71,4.24,26.54,1.59,41.88,51.62,20.88,53.87,23.22,11.02,38.21,87.41,49.59,5.08,4.36,23.42,46.67,15.11,6.61,5.51,320.96,94.22,48.13,69.2,226.73,4.52,16.76,95.77,58.79,3.98,4.67,4.13,4.02,27.47,5.16,7.67,156.18,60.47,8.09,7.16,865.48,14.37,231.75,7.46,80.47,38.97,33.26,43.21,3.29,9.72,4.76,3.82,18.62,43.91,185.33,7.07,108.79,19.81,46.14,13.08,37.43,53.88,3.97,47.03,4.29,3.92,4.52,29.39,28.46,6.7,14.79,3.78,60.93,7.69,26.94,35.72,105.97,393.2,66.69,7.52,10.92,399.73,96.59,60.32,6.84,173.67,94.23,11.18,13.65,6.57,5.77,12.85,37.51,7.87,299.38,85.22,12.06,86.5,22.89,151.91,6.76,15.25,20.96,12.46,3.18,6.24,4.17,93.44,32.42,20.78,9.2,48.91,53.25,161.39,4.55,5.87,47.02,70.4,5.94,145.97,10.04,141.88,6.73,26.48,22.63,7.31,11.42,14.82,63.34,34.61,3.28,4.24,63.21,42.71,4.45,7.53,3.44,65.95,53.65,48.45,6.96,81.24,249.46,104.74,55.23,32.81,5.07,19.68,96.2,56.25,6.64,8.38,136.07,404.21,91.49,58.59,78.36,11.09,39.4,29.7,27.06,60.83,229.2,41.65,30.45,29.56,358.57,19.84,5.36,43.28,63.87,19.28,14.1,4.64,8.12,8.93,29.93,12.98,50.57,2489.78,4.73,14.26,9.65,34.39,3.92,19.14,46.61,20.46,11.38,38.36,14.05,92.52,3.22,57.33,35.65,206.33,7.39,93.55,35.6,4.14,367.3,35.36,96.2,109.72,6.41,20.21,9.05,49.55,89.29,8.95,10.81,31.47,21.74,9.13,26.87,4.59,77.12,19.61,63.57,6.84,126.53,5.23,74.92,13.1,6.57,3.45,3.07,3.26,15.48,6.41,8.4,7.46,30.85,22.24,12.96,41.7,102.6,10.01,5.97,3.9,8.7,187.97,16.43,5.91,16.4,11.77,103.07,6.74,108.31,364.27,38.18,58.09,3.95,6.0,25.14,101.8,7.83,51.89,19.1,11.1,53.52,46.72,4.14,9.48,6.73,2.94,37.97,45.44,4.92,2.62,29.39,6.88,3.06,7.97,15.58,100.43,67.15,3.56,0.89,17.65,14.19,2.82,77.84,65.05,41.51,3.54,3.72,314.92,26.47,6.5,4.35,4.02,13.27,70.11,3.3,22.83,21.87,9.56,65.27,4.8,3.42,4.35,10.87,7.37,9.43,5.61,14.77,3.31,139.27,28.61,20.76,18.01,42.57,286.33,423.57,5.19,4.15,4.71,3.85,5.37,11.29,8.1,5.14,5.88,8.66,8.29,5.91,5.38,5.79,4.72,5.28,2.45,67.33,62.94,4.8,15.5,26.67,5.21,3.9,6.49,9.25,9.4,21.51,115.34,5.73,53.02,338.58,4.8,9.09,128.07,28.79,59.74,25.37,83.65,46.32,88.11,101.43,53.35,5.09,0.87,23.51,104.33,4.15,111.04,7.31,16.3,59.53,13.34,27.04,11.32,63.22,4.04,55.73,51.2,39.31,51.14,6.93,118.45,54.02,5.38,18.02,3.95,150.23,10.61,70.39,64.86,4.87,5.21,16.31,7.12,49.58,127.05,30.14,24.97,2.85,4.76,99.26,4.71,3.96,103.42,31.54,75.95,58.87,6.54,68.39,43.97,4.96,66.43,47.92,23.63,119.76,43.04,67.96,5.07,17.61,8.33,7.47,6.41,12.06,22.18,5.07,9.29,458.44,38.71,255.97,66.7,3.39,39.75,17.97,8.59,402.04,132.7,49.44,7.8,3.56,3.78,3.92,28.78,106.86,26.37,102.54,156.45,21.05,13.85,122.7,30.35,92.07,159.8,144.57,61.62,273.91,111.62,120.92,58.44,29.18,89.8,441.94,70.46,27.56,81.18,176.75,72.02,24.82,193.36,7.21,5.38,83.45,48.85,137.66,295.42,12.43,3.63,236.05,37.83,391.7,32.72,145.11,30.03,28.85,4.01,270.63,6.98,6.64,4.49,34.22,303.69,186.16,154.39,11.4,66.37,5.87,139.12,11.91,5.51,21.37,155.47,90.73,53.12,158.6,2549.47,47.14,537.03,30.78,94.63,376.57,163.19,9.46,35.43,15.5,100.59,549.11,95.26,4.64,619.9,170.98,65.19,175.46,191.97,39.88,38.17,80.27,12.56,38.92,1597.56,542.74,87.18,287.57,99.65,1789.69,123.15,6.93,8.65,73.39,144.41,325.94,76.5,54.04,122.35,16.82,352.77,147.84,24.54,57.59,9.95,290.57,68.98,1088.25,0.0,47.93,161.23,23.14,6.04,251.43,24.7,9.86,51.59,176.88,9.5,49.26,20.1,5.47,57.59,24.38,8.63,77.29,138.79,20.58,21.18,67.17,184.81,17.81,22.76,142.48,54.98,809.76,14.04,42.2,75.96,30.72,8.36,124.68,16.13,280.35,52.55,265.63,77.99,93.31,197.27,62.23,46.79,22.23,181.67,65.35,107.29,38.13,457.51,23.37,221.47,130.6,107.51,29.4,74.3,1280.81,68.04,7.49,6330.91,190.05,58.28,82.58,167.48,10.8,159.16,16.1,51.39,103.65,437.2,48.53,62.41,213.7,43.06,28.94,18.9,4.32,691.57,175.44,42.81,17.77,9.91,59.33,184.15,127.53,9.76,17.8,34.11,9.71,123.99,33.09,64.39,30.41,40.99,172.46,49.89,12.18,27.71,22.5,4.81,115.73,163.02,65.01,9.0,8.11,134.8,86.99,238.78,214.19,63.87,50.32,147.14,4.38,91.98,202.12,74.88,165.61,8.7,40.25,245.16,31.46,14.83,71.96,395.26,5.46,6.74,50.23,131.02,157.7,51.26,12.21,124.18,86.25,103.37,9.24,205.52,31.55,28.08,75.62,54.76,467.9,15.07,1000.06,96.9,18.88,22.17,4.44,29.18,23.0,14.37,24.73,216.18,259.22,60.81,20.33,32.17,223.54,22.11,41.27],\"yaxis\":\"y\",\"type\":\"scattergl\"}],                        {\"template\":{\"data\":{\"histogram2dcontour\":[{\"type\":\"histogram2dcontour\",\"colorbar\":{\"outlinewidth\":0,\"ticks\":\"\"},\"colorscale\":[[0.0,\"#0d0887\"],[0.1111111111111111,\"#46039f\"],[0.2222222222222222,\"#7201a8\"],[0.3333333333333333,\"#9c179e\"],[0.4444444444444444,\"#bd3786\"],[0.5555555555555556,\"#d8576b\"],[0.6666666666666666,\"#ed7953\"],[0.7777777777777778,\"#fb9f3a\"],[0.8888888888888888,\"#fdca26\"],[1.0,\"#f0f921\"]]}],\"choropleth\":[{\"type\":\"choropleth\",\"colorbar\":{\"outlinewidth\":0,\"ticks\":\"\"}}],\"histogram2d\":[{\"type\":\"histogram2d\",\"colorbar\":{\"outlinewidth\":0,\"ticks\":\"\"},\"colorscale\":[[0.0,\"#0d0887\"],[0.1111111111111111,\"#46039f\"],[0.2222222222222222,\"#7201a8\"],[0.3333333333333333,\"#9c179e\"],[0.4444444444444444,\"#bd3786\"],[0.5555555555555556,\"#d8576b\"],[0.6666666666666666,\"#ed7953\"],[0.7777777777777778,\"#fb9f3a\"],[0.8888888888888888,\"#fdca26\"],[1.0,\"#f0f921\"]]}],\"heatmap\":[{\"type\":\"heatmap\",\"colorbar\":{\"outlinewidth\":0,\"ticks\":\"\"},\"colorscale\":[[0.0,\"#0d0887\"],[0.1111111111111111,\"#46039f\"],[0.2222222222222222,\"#7201a8\"],[0.3333333333333333,\"#9c179e\"],[0.4444444444444444,\"#bd3786\"],[0.5555555555555556,\"#d8576b\"],[0.6666666666666666,\"#ed7953\"],[0.7777777777777778,\"#fb9f3a\"],[0.8888888888888888,\"#fdca26\"],[1.0,\"#f0f921\"]]}],\"heatmapgl\":[{\"type\":\"heatmapgl\",\"colorbar\":{\"outlinewidth\":0,\"ticks\":\"\"},\"colorscale\":[[0.0,\"#0d0887\"],[0.1111111111111111,\"#46039f\"],[0.2222222222222222,\"#7201a8\"],[0.3333333333333333,\"#9c179e\"],[0.4444444444444444,\"#bd3786\"],[0.5555555555555556,\"#d8576b\"],[0.6666666666666666,\"#ed7953\"],[0.7777777777777778,\"#fb9f3a\"],[0.8888888888888888,\"#fdca26\"],[1.0,\"#f0f921\"]]}],\"contourcarpet\":[{\"type\":\"contourcarpet\",\"colorbar\":{\"outlinewidth\":0,\"ticks\":\"\"}}],\"contour\":[{\"type\":\"contour\",\"colorbar\":{\"outlinewidth\":0,\"ticks\":\"\"},\"colorscale\":[[0.0,\"#0d0887\"],[0.1111111111111111,\"#46039f\"],[0.2222222222222222,\"#7201a8\"],[0.3333333333333333,\"#9c179e\"],[0.4444444444444444,\"#bd3786\"],[0.5555555555555556,\"#d8576b\"],[0.6666666666666666,\"#ed7953\"],[0.7777777777777778,\"#fb9f3a\"],[0.8888888888888888,\"#fdca26\"],[1.0,\"#f0f921\"]]}],\"surface\":[{\"type\":\"surface\",\"colorbar\":{\"outlinewidth\":0,\"ticks\":\"\"},\"colorscale\":[[0.0,\"#0d0887\"],[0.1111111111111111,\"#46039f\"],[0.2222222222222222,\"#7201a8\"],[0.3333333333333333,\"#9c179e\"],[0.4444444444444444,\"#bd3786\"],[0.5555555555555556,\"#d8576b\"],[0.6666666666666666,\"#ed7953\"],[0.7777777777777778,\"#fb9f3a\"],[0.8888888888888888,\"#fdca26\"],[1.0,\"#f0f921\"]]}],\"mesh3d\":[{\"type\":\"mesh3d\",\"colorbar\":{\"outlinewidth\":0,\"ticks\":\"\"}}],\"scatter\":[{\"fillpattern\":{\"fillmode\":\"overlay\",\"size\":10,\"solidity\":0.2},\"type\":\"scatter\"}],\"parcoords\":[{\"type\":\"parcoords\",\"line\":{\"colorbar\":{\"outlinewidth\":0,\"ticks\":\"\"}}}],\"scatterpolargl\":[{\"type\":\"scatterpolargl\",\"marker\":{\"colorbar\":{\"outlinewidth\":0,\"ticks\":\"\"}}}],\"bar\":[{\"error_x\":{\"color\":\"#2a3f5f\"},\"error_y\":{\"color\":\"#2a3f5f\"},\"marker\":{\"line\":{\"color\":\"#E5ECF6\",\"width\":0.5},\"pattern\":{\"fillmode\":\"overlay\",\"size\":10,\"solidity\":0.2}},\"type\":\"bar\"}],\"scattergeo\":[{\"type\":\"scattergeo\",\"marker\":{\"colorbar\":{\"outlinewidth\":0,\"ticks\":\"\"}}}],\"scatterpolar\":[{\"type\":\"scatterpolar\",\"marker\":{\"colorbar\":{\"outlinewidth\":0,\"ticks\":\"\"}}}],\"histogram\":[{\"marker\":{\"pattern\":{\"fillmode\":\"overlay\",\"size\":10,\"solidity\":0.2}},\"type\":\"histogram\"}],\"scattergl\":[{\"type\":\"scattergl\",\"marker\":{\"colorbar\":{\"outlinewidth\":0,\"ticks\":\"\"}}}],\"scatter3d\":[{\"type\":\"scatter3d\",\"line\":{\"colorbar\":{\"outlinewidth\":0,\"ticks\":\"\"}},\"marker\":{\"colorbar\":{\"outlinewidth\":0,\"ticks\":\"\"}}}],\"scattermapbox\":[{\"type\":\"scattermapbox\",\"marker\":{\"colorbar\":{\"outlinewidth\":0,\"ticks\":\"\"}}}],\"scatterternary\":[{\"type\":\"scatterternary\",\"marker\":{\"colorbar\":{\"outlinewidth\":0,\"ticks\":\"\"}}}],\"scattercarpet\":[{\"type\":\"scattercarpet\",\"marker\":{\"colorbar\":{\"outlinewidth\":0,\"ticks\":\"\"}}}],\"carpet\":[{\"aaxis\":{\"endlinecolor\":\"#2a3f5f\",\"gridcolor\":\"white\",\"linecolor\":\"white\",\"minorgridcolor\":\"white\",\"startlinecolor\":\"#2a3f5f\"},\"baxis\":{\"endlinecolor\":\"#2a3f5f\",\"gridcolor\":\"white\",\"linecolor\":\"white\",\"minorgridcolor\":\"white\",\"startlinecolor\":\"#2a3f5f\"},\"type\":\"carpet\"}],\"table\":[{\"cells\":{\"fill\":{\"color\":\"#EBF0F8\"},\"line\":{\"color\":\"white\"}},\"header\":{\"fill\":{\"color\":\"#C8D4E3\"},\"line\":{\"color\":\"white\"}},\"type\":\"table\"}],\"barpolar\":[{\"marker\":{\"line\":{\"color\":\"#E5ECF6\",\"width\":0.5},\"pattern\":{\"fillmode\":\"overlay\",\"size\":10,\"solidity\":0.2}},\"type\":\"barpolar\"}],\"pie\":[{\"automargin\":true,\"type\":\"pie\"}]},\"layout\":{\"autotypenumbers\":\"strict\",\"colorway\":[\"#636efa\",\"#EF553B\",\"#00cc96\",\"#ab63fa\",\"#FFA15A\",\"#19d3f3\",\"#FF6692\",\"#B6E880\",\"#FF97FF\",\"#FECB52\"],\"font\":{\"color\":\"#2a3f5f\"},\"hovermode\":\"closest\",\"hoverlabel\":{\"align\":\"left\"},\"paper_bgcolor\":\"white\",\"plot_bgcolor\":\"#E5ECF6\",\"polar\":{\"bgcolor\":\"#E5ECF6\",\"angularaxis\":{\"gridcolor\":\"white\",\"linecolor\":\"white\",\"ticks\":\"\"},\"radialaxis\":{\"gridcolor\":\"white\",\"linecolor\":\"white\",\"ticks\":\"\"}},\"ternary\":{\"bgcolor\":\"#E5ECF6\",\"aaxis\":{\"gridcolor\":\"white\",\"linecolor\":\"white\",\"ticks\":\"\"},\"baxis\":{\"gridcolor\":\"white\",\"linecolor\":\"white\",\"ticks\":\"\"},\"caxis\":{\"gridcolor\":\"white\",\"linecolor\":\"white\",\"ticks\":\"\"}},\"coloraxis\":{\"colorbar\":{\"outlinewidth\":0,\"ticks\":\"\"}},\"colorscale\":{\"sequential\":[[0.0,\"#0d0887\"],[0.1111111111111111,\"#46039f\"],[0.2222222222222222,\"#7201a8\"],[0.3333333333333333,\"#9c179e\"],[0.4444444444444444,\"#bd3786\"],[0.5555555555555556,\"#d8576b\"],[0.6666666666666666,\"#ed7953\"],[0.7777777777777778,\"#fb9f3a\"],[0.8888888888888888,\"#fdca26\"],[1.0,\"#f0f921\"]],\"sequentialminus\":[[0.0,\"#0d0887\"],[0.1111111111111111,\"#46039f\"],[0.2222222222222222,\"#7201a8\"],[0.3333333333333333,\"#9c179e\"],[0.4444444444444444,\"#bd3786\"],[0.5555555555555556,\"#d8576b\"],[0.6666666666666666,\"#ed7953\"],[0.7777777777777778,\"#fb9f3a\"],[0.8888888888888888,\"#fdca26\"],[1.0,\"#f0f921\"]],\"diverging\":[[0,\"#8e0152\"],[0.1,\"#c51b7d\"],[0.2,\"#de77ae\"],[0.3,\"#f1b6da\"],[0.4,\"#fde0ef\"],[0.5,\"#f7f7f7\"],[0.6,\"#e6f5d0\"],[0.7,\"#b8e186\"],[0.8,\"#7fbc41\"],[0.9,\"#4d9221\"],[1,\"#276419\"]]},\"xaxis\":{\"gridcolor\":\"white\",\"linecolor\":\"white\",\"ticks\":\"\",\"title\":{\"standoff\":15},\"zerolinecolor\":\"white\",\"automargin\":true,\"zerolinewidth\":2},\"yaxis\":{\"gridcolor\":\"white\",\"linecolor\":\"white\",\"ticks\":\"\",\"title\":{\"standoff\":15},\"zerolinecolor\":\"white\",\"automargin\":true,\"zerolinewidth\":2},\"scene\":{\"xaxis\":{\"backgroundcolor\":\"#E5ECF6\",\"gridcolor\":\"white\",\"linecolor\":\"white\",\"showbackground\":true,\"ticks\":\"\",\"zerolinecolor\":\"white\",\"gridwidth\":2},\"yaxis\":{\"backgroundcolor\":\"#E5ECF6\",\"gridcolor\":\"white\",\"linecolor\":\"white\",\"showbackground\":true,\"ticks\":\"\",\"zerolinecolor\":\"white\",\"gridwidth\":2},\"zaxis\":{\"backgroundcolor\":\"#E5ECF6\",\"gridcolor\":\"white\",\"linecolor\":\"white\",\"showbackground\":true,\"ticks\":\"\",\"zerolinecolor\":\"white\",\"gridwidth\":2}},\"shapedefaults\":{\"line\":{\"color\":\"#2a3f5f\"}},\"annotationdefaults\":{\"arrowcolor\":\"#2a3f5f\",\"arrowhead\":0,\"arrowwidth\":1},\"geo\":{\"bgcolor\":\"white\",\"landcolor\":\"#E5ECF6\",\"subunitcolor\":\"white\",\"showland\":true,\"showlakes\":true,\"lakecolor\":\"white\"},\"title\":{\"x\":0.05},\"mapbox\":{\"style\":\"light\"}}},\"xaxis\":{\"anchor\":\"y\",\"domain\":[0.0,1.0],\"title\":{\"text\":\"Age\",\"standoff\":30},\"range\":[0,130],\"tickfont\":{\"size\":12},\"showline\":true,\"linewidth\":1,\"linecolor\":\"black\",\"mirror\":true,\"zeroline\":false,\"showgrid\":false},\"yaxis\":{\"anchor\":\"x\",\"domain\":[0.0,1.0],\"title\":{\"text\":\"totalghgemissions\"},\"range\":[-1000,15000]},\"legend\":{\"tracegroupgap\":0},\"title\":{\"text\":\"Adaptation des politiques de r\\u00e9habilitation des b\\u00e2timents\",\"font\":{\"size\":30},\"x\":0.5},\"annotations\":[{\"font\":{\"color\":\"black\",\"size\":20},\"showarrow\":false,\"text\":\"Subventionner les travaux de r\\u00e9novation \\u00e9nerg\\u00e9tique en fonction de la pollution effective, au lieu de l'\\u00e2ge.\",\"x\":0.5,\"xref\":\"paper\",\"y\":-0.2,\"yref\":\"paper\"}],\"margin\":{\"t\":120,\"b\":160},\"height\":900},                        {\"responsive\": true}                    ).then(function(){\n",
              "                            \n",
              "var gd = document.getElementById('a0cf1a8c-495d-4da7-a72d-c348ba0b768d');\n",
              "var x = new MutationObserver(function (mutations, observer) {{\n",
              "        var display = window.getComputedStyle(gd).display;\n",
              "        if (!display || display === 'none') {{\n",
              "            console.log([gd, 'removed!']);\n",
              "            Plotly.purge(gd);\n",
              "            observer.disconnect();\n",
              "        }}\n",
              "}});\n",
              "\n",
              "// Listen for the removal of the full notebook cells\n",
              "var notebookContainer = gd.closest('#notebook-container');\n",
              "if (notebookContainer) {{\n",
              "    x.observe(notebookContainer, {childList: true});\n",
              "}}\n",
              "\n",
              "// Listen for the clearing of the current output cell\n",
              "var outputEl = gd.closest('.output');\n",
              "if (outputEl) {{\n",
              "    x.observe(outputEl, {childList: true});\n",
              "}}\n",
              "\n",
              "                        })                };                            </script>        </div>\n",
              "</body>\n",
              "</html>"
            ]
          },
          "metadata": {}
        },
        {
          "output_type": "display_data",
          "data": {
            "text/plain": [
              "<IPython.core.display.Javascript object>"
            ],
            "application/javascript": [
              "\n",
              "    async function download(id, filename, size) {\n",
              "      if (!google.colab.kernel.accessAllowed) {\n",
              "        return;\n",
              "      }\n",
              "      const div = document.createElement('div');\n",
              "      const label = document.createElement('label');\n",
              "      label.textContent = `Downloading \"${filename}\": `;\n",
              "      div.appendChild(label);\n",
              "      const progress = document.createElement('progress');\n",
              "      progress.max = size;\n",
              "      div.appendChild(progress);\n",
              "      document.body.appendChild(div);\n",
              "\n",
              "      const buffers = [];\n",
              "      let downloaded = 0;\n",
              "\n",
              "      const channel = await google.colab.kernel.comms.open(id);\n",
              "      // Send a message to notify the kernel that we're ready.\n",
              "      channel.send({})\n",
              "\n",
              "      for await (const message of channel.messages) {\n",
              "        // Send a message to notify the kernel that we're ready.\n",
              "        channel.send({})\n",
              "        if (message.buffers) {\n",
              "          for (const buffer of message.buffers) {\n",
              "            buffers.push(buffer);\n",
              "            downloaded += buffer.byteLength;\n",
              "            progress.value = downloaded;\n",
              "          }\n",
              "        }\n",
              "      }\n",
              "      const blob = new Blob(buffers, {type: 'application/binary'});\n",
              "      const a = document.createElement('a');\n",
              "      a.href = window.URL.createObjectURL(blob);\n",
              "      a.download = filename;\n",
              "      div.appendChild(a);\n",
              "      a.click();\n",
              "      div.remove();\n",
              "    }\n",
              "  "
            ]
          },
          "metadata": {}
        },
        {
          "output_type": "display_data",
          "data": {
            "text/plain": [
              "<IPython.core.display.Javascript object>"
            ],
            "application/javascript": [
              "download(\"download_2a85106a-a870-4517-b2c3-be1c5a747b2c\", \"age.html\", 3659395)"
            ]
          },
          "metadata": {}
        }
      ]
    },
    {
      "cell_type": "code",
      "source": [
        "fig = px.scatter(df, x='energystarscore', y='totalghgemissions', color_discrete_sequence=['blue'], title=\"Utilisation du score ENERGY STAR\")\n",
        "\n",
        "# Set the size and symbol based on the 'totalghgemissions' values\n",
        "fig.update_traces(marker=dict(size=df['totalghgemissions'].abs()*0.012, symbol='circle'))\n",
        "\n",
        "# Set the x-axis range\n",
        "fig.update_xaxes(range=[0, 105])\n",
        "\n",
        "# Set the y-axis range\n",
        "fig.update_yaxes(range=[-1000, 14000])\n",
        "\n",
        "# Add annotation at the bottom\n",
        "fig.add_annotation(\n",
        "    xref='paper', yref='paper',\n",
        "    x=0.5,   # Centered\n",
        "    y=-0.2,\n",
        "    text=\"Accompagner la recherche d'une nouvelle cotation : <a href='https://www.researchgate.net/publication/342831494_EnergyStar_Towards_more_accurate_and_explanatory_building_energy_benchmarking' target='_blank'>EnergyStar++ (Berkeley / National University of Singapore)</a>\",\n",
        "    showarrow=False,\n",
        "    font=dict(size=20, color='black')\n",
        ")\n",
        "\n",
        "fig.update_layout(\n",
        "    xaxis_type='linear',  # Set x-axis scale to linear (because 'energystarscore' is categorical)\n",
        "    height=900,\n",
        "    xaxis_title=\"ENERGY STAR Score\",\n",
        "    yaxis_title=\"Total GHG Emissions\",\n",
        "    xaxis=dict(\n",
        "        title_standoff=30,\n",
        "        showline=True,\n",
        "        linewidth=1,\n",
        "        linecolor='black',\n",
        "        mirror=True,\n",
        "        zeroline=False,\n",
        "        showgrid=False,\n",
        "        tickfont=dict(size=12),\n",
        "    ),\n",
        "    margin=dict(\n",
        "        t=120,  # Increase the top margin\n",
        "        b=160   # Increase the bottom margin\n",
        "    ),\n",
        "    title=dict(\n",
        "        x=0.5,\n",
        "        font=dict(size=30)\n",
        "    )\n",
        ")\n",
        "\n",
        "fig.show()\n",
        "\n",
        "fig.write_html('estar.html')\n",
        "files.download('estar.html')"
      ],
      "metadata": {
        "colab": {
          "base_uri": "https://localhost:8080/",
          "height": 917
        },
        "id": "inWa-JYgOzHA",
        "outputId": "2be6b121-2054-4b7d-fcec-771612ffc766"
      },
      "execution_count": 31,
      "outputs": [
        {
          "output_type": "display_data",
          "data": {
            "text/html": [
              "<html>\n",
              "<head><meta charset=\"utf-8\" /></head>\n",
              "<body>\n",
              "    <div>            <script src=\"https://cdnjs.cloudflare.com/ajax/libs/mathjax/2.7.5/MathJax.js?config=TeX-AMS-MML_SVG\"></script><script type=\"text/javascript\">if (window.MathJax && window.MathJax.Hub && window.MathJax.Hub.Config) {window.MathJax.Hub.Config({SVG: {font: \"STIX-Web\"}});}</script>                <script type=\"text/javascript\">window.PlotlyConfig = {MathJaxConfig: 'local'};</script>\n",
              "        <script charset=\"utf-8\" src=\"https://cdn.plot.ly/plotly-2.24.1.min.js\"></script>                <div id=\"68af82ef-f4d0-42de-ab9b-f4a6d1ceb1bd\" class=\"plotly-graph-div\" style=\"height:900px; width:100%;\"></div>            <script type=\"text/javascript\">                                    window.PLOTLYENV=window.PLOTLYENV || {};                                    if (document.getElementById(\"68af82ef-f4d0-42de-ab9b-f4a6d1ceb1bd\")) {                    Plotly.newPlot(                        \"68af82ef-f4d0-42de-ab9b-f4a6d1ceb1bd\",                        [{\"hovertemplate\":\"energystarscore=%{x}\\u003cbr\\u003etotalghgemissions=%{y}\\u003cextra\\u003e\\u003c\\u002fextra\\u003e\",\"legendgroup\":\"\",\"marker\":{\"color\":\"blue\",\"symbol\":\"circle\",\"size\":[2.9997599999999998,3.55032,25.071360000000002,3.43716,6.06012,3.6217200000000003,2.11368,2.65812,4.705920000000001,1.8134400000000002,8.29512,8.89164,3.9387600000000003,7.783440000000001,6.13668,2.17656,5.20632,9.63468,3.27624,4.19184,15.18348,20.3934,1.0801200000000002,4.65648,0.10956000000000002,3.07884,3.94356,1.54128,1.8932400000000003,2.58,0.04716,202.45176,3.7420799999999996,0.37764,1.5667200000000001,1.00632,2.9742,0.54516,3.5439599999999998,0.79776,0.39912,0.42432,7.0117199999999995,0.71028,29.41896,1.61256,2.72616,1.73748,2.3994,1.94868,1.8331199999999999,1.75608,2.0596799999999997,1.05576,20.72532,7.309200000000001,0.80472,5.17008,3.153,5.78364,0.46872,1.6662,6.3222000000000005,7.28892,4.1304,9.650400000000001,7.41024,1.22196,0.07332000000000001,5.88876,0.34848,8.089080000000001,0.58512,1.82568,2.2944,0.9461999999999999,2.91876,0.40968,0.53184,1.6029600000000002,1.5274800000000002,5.32476,1.06824,1.70868,5.14944,23.886,2.121,0.55512,2.7408,0.89196,10.39476,2.6642400000000004,2.44896,0.7345200000000001,1.20552,1.25112,1.5526799999999998,2.67336,5.06868,24.669840000000004,0.59496,8.68164,2.77836,0.7956,97.74624,1.0044,0.61332,4.35384,0.83328,3.56916,0.42936,4.42968,3.2742000000000004,0.71208,0.5878800000000001,3.7152000000000003,2.7082800000000002,0.036000000000000004,4.05792,2.1092400000000002,2.49912,0.33924,10.71156,1.1571600000000002,0.32868,14.9586,4.66044,0.20171999999999998,8.9826,1.94892,1.11492,3.3522000000000003,19.66152,58.87596,0.11556000000000001,128.81484,2.32728,1.7437200000000002,0.87456,5.63484,0.58908,1.01484,1.79916,0.68652,3.05844,5.203200000000001,0.60624,0.7155600000000001,0.2856,1.21692,7.93248,12.721560000000002,7.67268,9.37008,3.62112,4.52724,0.53064,0.31668,0.8188799999999999,0.81828,1.7912400000000002,2.0709600000000004,4.77828,3.7596000000000003,4.3093200000000005,2.0461199999999997,1.2031200000000002,0.31428,6.759,2.751,2.66628,3.3064800000000005,1.56876,0.62004,0.38364,2.55876,0.8418000000000001,3.8276400000000006,2.05824,0.55872,0.31320000000000003,1.6766400000000001,2.77584,2.62236,7.53444,3.44784,6.5598,2.1113999999999997,5.15124,4.56444,3.58332,2.5948800000000003,0.84204,1.07364,2.38008,2.51292,1.42836,0.37032,0.58944,0.07308,2.02656,0.86904,2.11716,1.0935599999999999,1.7033999999999998,1.24764,0.5523600000000001,2.50548,4.61124,0.29892,8.8956,0.94704,4.2606,6.36792,13.017479999999999,4.05564,30.885,1.9493999999999998,1.39236,0.5838,0.25812,0.48552,0.8456400000000001,1.88004,2.69232,7.0668,18.1302,6.362159999999999,2.32464,0.43932,1.5768000000000002,0.7824000000000001,0.61368,17.622,3.81696,0.21636000000000002,2.43588,9.5166,0.89796,0.58248,0.25176,3.7944,2.22036,1.7730000000000001,6.30936,2.59716,1.62276,0.39804,0.38064,1.11504,1.2078,3.3786,0.53376,5.0268,3.94596,2.98908,1.56828,2.4138,1.7698800000000001,5.474640000000001,6.3670800000000005,2.92392,1.36968,0.16632,1.4053200000000001,0.06384000000000001,2.8428,0.06528,0.36324,0.25632,0.47364,4.49904,0.4296,0.50436,0.46308000000000005,0.39672,1.11876,0.39276,5.45388,4.18884,15.226439999999998,0.25032,3.9141600000000003,0.48564,3.2365199999999996,10.19796,0.27084,0.74316,0.35436,7.5888,1.13568,47.9454,8.72352,1.4721600000000001,0.83508,0.8892,7.04592,12.23436,0.28572,0.30384,0.2922,5.73444,0.9358799999999999,1.9659600000000002,0.26928,12.391560000000002,3.3357600000000005,0.54564,1.4637600000000002,0.5015999999999999,0.9638399999999999,0.57528,1.32552,0.12288,2.7171600000000002,2.84868,6.63924,1.9070399999999998,0.4188,0.32604000000000005,0.45288000000000006,1.13364,1.0201200000000001,19.48008,0.64284,0.20604000000000003,0.38664,1.44288,0.09780000000000001,4.9602,0.039,0.30696,0.39816,0.639,0.0336,2.84832,0.71052,0.5118,0.9201600000000001,0.12864,0.04344,0.56316,0.34356,0.07584,0.46175999999999995,2.45772,1.8325200000000001,0.38424,0.8917200000000001,1.7083200000000003,4.97316,3.2704800000000005,0.6590400000000001,2.2873200000000002,0.46259999999999996,1.08288,0.59004,1.02336,3.1494,2.9682,0.4062,0.507,0.76668,0.4296,1.55148,3.5226,0.55788,0.5322,0.26520000000000005,0.6927599999999999,0.7065600000000001,0.59136,0.39864,0.40800000000000003,0.70404,7.334280000000001,3.5457600000000005,1.0932,13.877400000000002,0.54264,0.28632,0.5988,1.29396,0.26544,0.7836,0.5968800000000001,1.28592,0.24348,0.47400000000000003,0.768,7.6885200000000005,4.87224,4.389480000000001,0.47364,0.10476,0.30888,3.678,0.23676,1.61628,0.23868,0.9216,0.31248,0.29868,1.56372,1.1950800000000001,0.15936,0.37895999999999996,0.7867200000000001,1.5912,0.8901600000000001,0.1878,0.366,0.19776000000000002,0.49416,0.22488,2.2812,0.08844,1.6602,0.24216000000000001,0.8133600000000001,2.18568,2.16912,5.34744,1.1811600000000002,0.5670000000000001,9.7284,1.2050400000000001,0.591,0.51288,0.40091999999999994,0.717,5.7342,0.70116,0.8074800000000001,0.30360000000000004,8.30544,8.816640000000001,2.2246799999999998,5.7727200000000005,0.20736000000000002,0.48456000000000005,1.13688,1.56384,4.28868,3.3895199999999996,0.25644,0.28176,0.42672000000000004,3.72228,6.36744,0.7022400000000001,1.4034,3.2420400000000003,1.34028,1.66068,0.43788000000000005,0.36732,1.1824800000000002,4.29432,0.7284,0.66876,2.13144,0.06708,0.65736,1.24284,1.40088,1.06488,0.84108,1.43772,0.10560000000000001,0.60204,0.56868,1.17384,0.82824,1.43352,1.8897599999999999,0.08496000000000001,1.15032,0.9034800000000001,0.23832,1.86888,0.582,2.14344,0.40968,0.8118000000000001,2.0220000000000002,0.30444000000000004,3.52272,0.40296,1.0428000000000002,8.528400000000001,0.74232,0.45852000000000004,0.57384,3.7731600000000003,13.85748,0.81672,0.78036,3.12156,1.4391600000000002,1.7738399999999999,2.9619600000000004,4.15944,23.06184,10.59072,1.3284,6.98736,1.3182,3.891,1.81056,1.6056000000000001,0.33384,0.6528,0.24144000000000002,5.11668,7.676640000000001,1.5925200000000002,1.42836,0.5015999999999999,0.16464,2.02872,3.1773599999999997,1.0729199999999999,0.11172000000000001,0.37716,4.68804,1.13508,0.61872,0.3642,0.88296,2.1534,1.07928,1.3347600000000002,0.5582400000000001,1.82736,0.73104,0.16332,0.90144,0.01272,1.57968,1.07436,1.9026,1.43904,2.34516,1.99356,1.18968,5.4646799999999995,0.34992,0.8101200000000001,0.8934000000000001,0.28944000000000003,0.05064,0.0504,1.2734400000000001,1.14036,0.95268,1.32492,0.25128,0.8316,0.32688,147.68592,4.87248,0.25020000000000003,1.602,0.65016,0.17388,5.44512,4.09476,3.3476400000000006,0.09072,3.40812,3.54144,1.31652,3.11388,0.15684,2.2782,1.61784,0.19524,3.204,0.16212000000000001,0.59148,1.54476,0.060360000000000004,0.09768,0.30720000000000003,0.058199999999999995,4.12416,0.1458,0.07224,0.783,0.057,0.38088,1.1431200000000001,0.74604,0.72216,0.36624,0.13548,0.29268,3.31956,0.21444000000000002,1.218,0.04692,0.43224000000000007,0.76632,0.52812,0.4668,0.19332,0.15876,0.5260800000000001,0.05688000000000001,0.63852,0.03816,0.08064,0.30720000000000003,0.05496,0.22812000000000002,0.26028,1.47396,1.03752,0.042960000000000005,0.9244800000000001,0.02892,0.03084,0.049920000000000006,0.5184000000000001,4.99284,0.05316,0.26316,0.7495200000000001,0.19212,0.2718,0.45336000000000004,0.11724,0.11364,1.56336,0.6066,1.36692,1.28124,0.36492,0.08088000000000001,0.34164,0.79728,0.0732,0.2232,0.34848,0.35196,0.35652,0.6055200000000001,0.8348399999999999,0.96564,0.35808,2.037,0.09324,0.19895999999999997,1.58964,0.20424,0.06852,0.047880000000000006,0.05316,0.032400000000000005,0.76176,0.051480000000000005,0.08424,0.61896,2.4912,0.35544000000000003,1.6944,4.49472,0.222,0.11784,0.50628,0.76032,1.65636,0.07715999999999999,0.627,0.6550800000000001,0.30288,0.23795999999999998,0.28824,0.38112,0.08556,0.047400000000000005,0.5256,1.8528,0.11496,0.39011999999999997,0.08244,0.65436,0.05424,0.04656,0.06971999999999999,0.1404,0.1392,0.07464,0.47484000000000004,0.11772,0.0576,0.18324,0.9948000000000001,0.07596,0.59496,0.46764,0.21720000000000003,0.14016,1.85004,0.35448,0.0852,0.9505199999999999,0.30252,0.17064000000000001,1.12644,0.11939999999999999,0.07392,0.291,0.18288000000000001,0.16644,0.10416,0.17556000000000002,0.34571999999999997,0.48336,0.57408,0.72516,0.40536,0.19956,1.8586799999999999,0.03504,0.7954800000000001,1.8163200000000002,4.43616,0.30492,2.09988,0.27924,0.081,0.56784,0.15539999999999998,0.50028,1.52136,7.1337600000000005,15.19272,0.13368000000000002,0.29376,1.20852,0.32136000000000003,0.05724,0.12996,0.08736000000000001,1.19328,1.03224,0.94032,0.30144000000000004,1.2381600000000001,0.06216,0.31308,0.32724,1.1830800000000001,7.90512,0.36396,0.87336,0.3672,0.28584,1.9903200000000003,0.15288000000000002,0.67956,1.12416,0.04356,0.8784000000000001,0.11148,0.42240000000000005,0.1158,0.05196,0.05808,0.43716,1.03992,0.048119999999999996,0.12408,0.11592000000000001,0.17796,0.32268,0.06744,0.19763999999999998,0.23579999999999998,0.18516,0.05064,0.16692,0.047400000000000005,0.5654399999999999,0.76332,0.34092,0.57192,2.2176,0.21204000000000003,0.55884,1.2238799999999999,0.48456000000000005,0.3024,0.8018399999999999,1.51728,0.8990400000000001,1.5156,1.1898000000000002,3.9942,1.65528,1.43556,0.51636,0.30468,0.11484000000000001,0.39168000000000003,3.6403200000000004,0.43536,0.08292000000000001,0.39875999999999995,0.41975999999999997,0.07968,0.77412,2.4036000000000004,1.4758799999999999,0.95496,0.10139999999999999,0.46643999999999997,0.07788,0.058320000000000004,3.1557600000000003,0.0642,0.38664,0.07668,0.80676,0.049920000000000006,0.28308,0.11376000000000001,2.6184,0.09444000000000001,0.06228000000000001,1.86648,0.08028,0.44772000000000006,0.0504,0.04272,0.16128,0.049679999999999995,0.09768,1.04772,0.05268,0.06804,0.0576,0.05988,0.051840000000000004,0.05316,0.048960000000000004,0.05712,0.07416,0.19164,0.26364,0.7641600000000001,1.4204400000000001,0.71532,1.07484,0.05952,0.06552,0.05904,0.31452,0.06792000000000001,0.15768000000000001,0.47388,0.2586,0.61536,0.09576000000000001,0.10368000000000001,0.52284,0.6250800000000001,0.052199999999999996,0.07932,0.13416,0.29412000000000005,0.24108000000000002,2.4318,0.23712000000000003,0.050760000000000007,0.038880000000000005,0.08496000000000001,0.0714,0.040920000000000005,0.12924,0.24095999999999998,4.2696000000000005,0.2778,0.20004000000000002,0.31332,0.04848,1.58244,0.18132,0.40043999999999996,0.59976,0.00756,1.45092,1.74576,0.7609199999999999,0.22884000000000002,1.4710800000000002,1.5669600000000001,0.1908,2.22276,1.07148,0.5214000000000001,0.42048,2.26404,0.8586,1.20252,0.15947999999999998,1.54692,2.5236,0.4098,0.07596,0.05136,0.8797200000000001,0.60516,0.10332,0.09144000000000001,0.022320000000000003,2.1415200000000003,1.61484,0.8298000000000001,0.21216,3.1330799999999996,0.129,0.51756,0.15132,0.18816,0.15792,0.40704,1.764,0.11916,0.31116,0.11988,0.14976,0.06204,0.23916,0.23784,0.15624,0.22848,0.561,0.7567200000000001,0.12060000000000001,0.48612,0.00984,0.0972,0.06612,0.04668,0.02076,0.13536,2.9742,0.4464,0.9972,1.12596,0.08280000000000001,0.89196,0.06348000000000001,0.049800000000000004,0.0204,0.7405200000000001,0.5596800000000001,0.7878000000000001,0.129,0.46859999999999996,1.25892,0.05736,0.02004,0.60372,1.13976,0.06336,0.37920000000000004,0.057960000000000005,0.1842,0.86388,0.81024,0.34296,0.73836,1.06668,0.13068000000000002,0.9944400000000001,0.38795999999999997,0.40704,0.42312,2.39748,1.11096,0.5724,1.08372,0.35784,0.09492,0.57108,0.23712000000000003,1.22352,0.34128000000000003,4.90584,1.53288,6.61836,0.11604,0.2262,0.10368000000000001,0.7375200000000001,0.07296,0.08328,0.13848,1.38672,0.24876,0.07823999999999999,0.10439999999999999,0.03024,0.07416,0.20712000000000003,0.39359999999999995,0.9818399999999999,0.12528,0.6229199999999999,0.051239999999999994,0.28308,0.10764000000000001,0.09839999999999999,0.47400000000000003,0.8671200000000001,0.13524,6.41856,0.0804,5.7707999999999995,0.18564,0.8176800000000001,0.35964,0.20387999999999998,1.20024,0.39156,1.2774,0.61356,0.047400000000000005,0.82764,0.35292,0.19596,2.82312,0.03672,4.178640000000001,0.12312,0.1062,0.03792,0.7777200000000001,0.54948,0.98352,0.018600000000000002,0.04476,0.21792,0.042480000000000004,0.17388,0.12888,0.75396,0.33708,3.17316,0.0594,3.7455600000000002,0.04008,0.72348,0.16452000000000003,0.44304000000000004,0.33516,2.6532,0.5577599999999999,0.98856,2.34852,14.5926,1.79892,1.1381999999999999,1.7826000000000002,2.26296,0.7305600000000001,1.32204,0.30636,0.108,0.50448,0.10164000000000001,0.30024,0.36384,0.7983600000000001,0.11352000000000001,0.88224,0.22008,0.32964,0.9880800000000001,0.06492,0.53652,0.19272,0.08988,0.2862,0.45743999999999996,0.13548,0.19355999999999998,0.23268,0.10188,0.36024,0.3432,4.040760000000001,0.39588,0.79428,0.14988,0.05712,1.5252,2.8152,0.59496,0.48264,0.24936000000000003,0.1908,1.47276,0.12432,0.39432,0.1482,6.190200000000001,0.12143999999999999,2.12148,0.15612,0.44088000000000005,2.08728,0.54396,0.70872,0.74376,2.16456,0.7802399999999999,0.95496,0.20544,0.10560000000000001,0.10668000000000001,0.15324,0.15108,0.049440000000000005,0.14628,1.25532,0.8684400000000001,0.37488,0.16668000000000002,0.129,0.28487999999999997,0.28536,0.48912,0.31656,2.97564,0.66852,0.24912000000000004,0.25079999999999997,0.5802,0.1116,0.88332,0.4662,0.38964,1.21608,1.12824,1.91976,0.89568,0.5592,0.16848,5.7564,0.8547600000000001,0.25992,0.95772,0.15264,1.2807600000000001,8.50932,0.8344800000000001,0.10247999999999999,1.0266,1.2894,0.07284,5.5488,0.72048,0.66732,1.48092,3.54456,0.10235999999999999,2.04996,0.44808000000000003,0.013440000000000002,0.37932,0.41844,0.19884000000000002,0.876,0.99264,0.42924000000000007,5.85036,0.38508000000000003,0.8817600000000001,2.20908,1.9338000000000002,0.24768,3.06996,0.29544000000000004,2.30544,6.287400000000001,0.49272000000000005,0.16764,0.9336,2.80836,0.04524,1.0381200000000002,0.15996,0.57216,0.04728,2.9010000000000002,0.7270800000000001,1.43208,0.53196,0.10524,0.92976,13.782,1.17936,0.16116,1.12812,0.31608,2.62548,0.53868,4.17852,1.3287600000000002,0.1686,0.14364000000000002,0.20568,0.15576,1.72008,0.40991999999999995,0.46212,0.54972,0.87,0.16956000000000002,0.9118799999999999,0.99504,0.02412,1.50156,0.15168,0.26952000000000004,0.49464,2.19372,0.40824000000000005,0.056280000000000004,0.03648,2.32164,2.64312,0.12876,0.903,0.36264,0.4722,0.0486,0.63288,0.9331200000000001,0.07356,5.0694,1.3851600000000002,0.18204,0.04428,0.09816,0.07511999999999999,1.4472,0.099,0.042480000000000004,0.27036000000000004,0.43152,0.6714,0.057960000000000005,0.14243999999999998,0.08208,0.12456000000000002,0.02724,2.0157599999999998,1.3407600000000002,0.24144000000000002,0.07164,0.147,0.08808,0.25079999999999997,1.40628,0.05052,0.92592,0.2586,0.90696,0.08484,0.09084,0.04956,0.1734,0.31524,1.6767599999999998,0.054360000000000006,0.30432,0.8930400000000001,0.12984,0.5052,0.6794399999999999,0.13835999999999998,0.066,0.06588000000000001,0.51828,0.69228,0.45264,0.65328,0.15924,0.53916,0.42468,0.04188,1.1568,0.4692,1.1460000000000001,0.54132,0.05256,0.07092,0.07908,0.7462799999999999,3.1245600000000002,1.1094000000000002,0.0534,0.05304,1.04172,1.22448,0.6308400000000001,0.65832,0.8791200000000001,0.14616,0.20244,0.8538000000000001,2.41572,0.11496,1.47876,10.956840000000001,0.38556,2.4925200000000003,0.056400000000000006,0.04452,0.05724,0.06792000000000001,0.0762,8.0586,2.70792,0.33564,0.11304,0.18744,0.22355999999999998,0.03168,0.3186,0.09108,1.42092,0.27072,0.08664,0.1716,0.15816,0.22247999999999998,0.07728,0.06756,0.06659999999999999,0.20063999999999999,0.09552000000000001,0.07956,1.31352,0.08208,0.14208,2.88468,6.11232,0.08976,0.08148,2.44476,5.698320000000001,0.0222,0.25295999999999996,0.09132000000000001,0.056639999999999996,1.23936,0.2868,0.96108,0.39324000000000003,0.29856,1.62972,0.08388000000000001,0.59544,0.07164,0.32892,0.64476,0.59676,2.70804,0.31752,0.047760000000000004,3.4274400000000003,4.4706,0.06096,0.52224,0.10788,2.07876,0.2076,0.18132,5.08212,0.20856,0.047400000000000005,0.06528,3.3776400000000004,3.6013200000000003,0.62448,38.92176,0.40800000000000003,0.7785599999999999,0.009720000000000001,0.7342799999999999,2.2398000000000002,0.14844,0.05268,2.10324,0.53532,2.31156,0.32724,0.07344,0.14208,2.58672,2.085,0.6843600000000001,0.6636,0.30108,0.5628,0.6,0.07752,0.08796,0.7240800000000001,2.50236,0.058320000000000004,0.08484,4.618200000000001,0.54456,0.46632,0.93864,0.06288,1.23276,0.06636,0.0822,0.07596,0.8624400000000001,3.35052,0.5232,0.46224000000000004,0.07416,0.05808,0.07932,0.15768000000000001,1.9648800000000002,0.0438,0.17064000000000001,0.060719999999999996,0.3396,0.09960000000000001,0.12096,0.11148,0.111,0.25584,0.1458,0.0504,0.18264000000000002,0.08268,0.25488,0.07644000000000001,0.0516,0.44124,0.35087999999999997,0.15947999999999998,0.38148,0.05352,0.14148,2.85048,0.037559999999999996,0.10104,0.17880000000000001,0.41112,0.018600000000000002,0.10836,0.44988000000000006,0.0906,0.04644,0.55728,0.07044,0.71808,0.00816,0.0048000000000000004,0.11231999999999999,0.044640000000000006,1.2276,0.05496,0.17772000000000002,0.13296,0.07128000000000001,0.060840000000000005,0.0756,0.13116,0.03696,0.06552,0.02016,0.09384,2.1036,3.6457200000000003,0.26028,0.41424000000000005,0.20004000000000002,0.20868,0.07271999999999999,0.72804,0.2364,0.04356,0.17796,0.36588,0.10104,0.07416,3.70968,0.53112,0.10152000000000001,0.39936000000000005,0.36588,0.0654,1.54392,0.06396,0.35592,0.5472,0.21731999999999999,0.36156,0.20495999999999998,0.8094,0.10764000000000001,0.14688,0.51444,0.33936,0.30144000000000004,0.07823999999999999,0.048960000000000004,0.060239999999999995,0.0726,0.06696,0.06012,0.069,0.23076000000000002,1.4628,0.36408,4.5067200000000005,0.10128,0.4330800000000001,0.37248,0.050159999999999996,0.20544,0.9908399999999999,1.22112,0.11412,0.19056,0.8031600000000001,0.20687999999999998,0.05112,0.31572,0.03612,0.05352,0.53136,0.05904,0.7614000000000001,0.40104,0.01032,0.96228,1.62132,0.10872000000000001,0.09792000000000001,0.046200000000000005,0.51552,0.046200000000000005,0.6289199999999999,0.47484000000000004,0.6702,0.39096,2.2152,0.13668,39.337320000000005,0.16260000000000002,0.04752,0.63852,0.04908,0.9394800000000001,0.042,1.5586799999999998,0.26748,1.41348,0.22463999999999998,0.05412,0.06564,0.5352,0.09768,0.052199999999999996,0.06504,0.14243999999999998,0.17772000000000002,38.85888,0.03648,1.1538000000000002,1.47252,3.6606,0.03048,0.07572,0.0696,0.02628,0.52356,0.14508000000000001,0.22944,0.13488,0.6066,0.1464,0.060360000000000004,0.0552,0.0972,0.08508,0.8068799999999999,0.0972,0.9200400000000001,0.05424,0.062400000000000004,0.07296,0.5327999999999999,1.3146,0.38820000000000005,0.73128,1.04232,0.060360000000000004,0.047400000000000005,0.035160000000000004,3.9208800000000004,0.02736,0.09288,0.64332,0.04524,0.05472,2.1546000000000003,0.2832,0.027,4.1946,0.94104,1.5424799999999999,6.8112,1.02936,1.1688,0.57696,2.82384,1.37196,0.06971999999999999,2.208,0.11747999999999999,0.06948,1.5852,3.11724,0.6804,0.15564,0.09996000000000001,8.54868,13.320839999999999,0.74676,0.2274,0.31692000000000004,0.2586,0.37032,0.46068000000000003,0.31595999999999996,0.034319999999999996,1.19268,0.0444,0.16488,0.03228,0.53112,0.05892,0.15708,0.05052,0.47724000000000005,3.5357999999999996,0.05268,4.21836,0.04128,0.4518,0.25488,0.7445999999999999,1.3480800000000002,1.5050400000000002,1.2157200000000001,1.76316,0.5574,1.32792,0.38448,0.14256000000000002,0.060840000000000005,0.06984,0.53412,0.0552,0.17412,0.08556,0.41544,0.29112000000000005,0.07428000000000001,0.9618000000000001,0.29916,0.054599999999999996,0.0504,0.5052,0.10992,0.04488,0.05688000000000001,0.29172,0.0822,1.74252,3.0100800000000003,0.09696,0.26712,0.19355999999999998,0.056760000000000005,0.056159999999999995,0.46092,0.07536000000000001,4.0098,0.46284000000000003,1.37556,1.09836,0.059280000000000006,0.07116,0.05604,0.07511999999999999,0.23316,0.41159999999999997,0.06552,0.41375999999999996,0.07236000000000001,0.09960000000000001,0.056639999999999996,0.066,0.14556000000000002,0.21468,0.057719999999999994,0.14052,0.30708,0.08484,0.54096,0.06444,0.18839999999999998,0.735,1.65972,0.30563999999999997,0.4938,0.06372,0.9015599999999999,0.7062,0.8256,0.75768,0.11231999999999999,0.051239999999999994,0.10104,2.21412,0.49356000000000005,0.13104,0.10284,0.05688000000000001,0.0738,0.06636,0.1722,0.40559999999999996,6.7866,0.33828,0.12516,0.726,0.11616,0.33228,0.63348,0.04056,0.7108800000000001,0.13812,0.45048,0.12204,0.36936,0.13404,0.21084,0.0558,0.16692,0.53028,0.08652,0.09396,0.53964,0.32076,0.15744,0.6560400000000001,0.1644,2.1463200000000002,0.7356,0.06552,1.06296,0.67032,0.96072,1.0572,0.07392,0.19247999999999998,0.72684,0.26748,0.29712000000000005,0.05976000000000001,0.17232,0.03684,0.47484000000000004,0.2274,0.07248,0.22644000000000003,0.95436,1.8234,0.07715999999999999,0.04224,0.20892,0.0684,0.09419999999999999,0.22008,3.49056,0.92676,0.04236,0.30156,0.0594,0.09072,0.12012,0.45011999999999996,1.54092,0.23471999999999998,1.31508,0.60084,2.14764,0.2364,0.17808,0.16404,0.30108,0.49152,1.09836,2.62788,0.5094000000000001,0.08652,0.65088,0.15660000000000002,0.23412000000000002,0.44495999999999997,0.11112,0.1278,0.1314,0.26976,0.09684000000000001,2.09544,0.8046,0.0456,0.20976,0.07872,0.08244,0.3324,1.79436,0.06684000000000001,0.23532,0.1062,0.27516,0.6132000000000001,0.20448,0.03492,0.9995999999999999,0.39720000000000005,0.34044,0.258,1.8848399999999998,0.05376000000000001,2.1402,1.2282,0.16644,0.15504,0.08771999999999999,0.04956,0.7164,3.7512000000000003,0.0858,0.06888000000000001,0.051480000000000005,0.06636,0.043680000000000004,0.14664000000000002,0.05412,0.06912,0.21636000000000002,0.11652000000000001,4.8606,0.01368,0.1506,0.06108,0.30924,0.4902,0.041400000000000006,0.10439999999999999,0.49128,1.1511600000000002,0.20748,0.1842,0.61524,0.48012,0.48504,0.708,0.05424,0.47532,0.47700000000000004,1.9296000000000002,0.19044,0.0642,0.04176,0.85392,0.21395999999999998,0.07116,0.06984,0.11988,0.07872,0.07704,0.04404,0.06744,0.07692,0.1758,0.222,0.12816,0.04128,0.7345200000000001,0.32568,0.21012000000000003,0.51276,0.46643999999999997,0.72144,0.03384,0.111,0.198,0.55392,0.06863999999999999,0.29892,0.042,0.52368,0.07536000000000001,0.08712,0.06492,0.46056,0.15468,0.23628000000000002,0.04476,1.122,0.37188,0.10128,0.21444000000000002,0.07296,0.06312,0.87768,0.03876,0.21504000000000004,0.22104000000000001,0.05652,0.54696,0.05688000000000001,0.34392,0.0438,0.044640000000000006,0.11148,0.09864,0.5180400000000001,0.23856,0.08724,0.33504,0.50352,0.7722,0.2436,0.1764,0.04932,0.687,0.11712,0.22692,0.06,0.38328,0.0882,0.23724,0.22644000000000003,0.90768,0.34668,1.23828,0.0762,0.21648,0.7892399999999999,0.83856,0.31824,0.59016,0.5622,0.28200000000000003,0.9428399999999999,0.09288,2.63916,0.056639999999999996,0.40848,0.01812,0.05196,0.08688,0.90144,3.12384,0.22679999999999997,0.72636,0.08664,0.15792,1.90356,0.13176000000000002,0.32112,0.10139999999999999,0.50124,2.10636,1.4928000000000001,0.51816,0.777,0.70968,0.46859999999999996,0.13416,0.933,1.1316,1.13628,1.0218,0.93072,0.25752,0.35856,0.417,0.10932,0.07128000000000001,1.35384,0.07752,0.21120000000000003,0.31524,0.33216,0.14604,0.0756,0.01752,0.08988,0.80124,1.2762,0.09576000000000001,1.1124,0.0258,0.0846,0.10152000000000001,0.14328,0.74016,1.32504,0.7392000000000001,0.36948,0.2274,0.42575999999999997,0.45132,0.73416,0.1446,3.4426799999999997,1.82568,0.13727999999999999,1.7668800000000002,0.17004,0.6084,0.22644000000000003,0.44268,0.37716,1.7432400000000001,0.04752,0.18312,0.7086,0.07212,0.047880000000000006,1.1076,0.019200000000000002,0.2094,0.33396,0.04824,0.14076,1.15944,0.28344,0.1158,0.11868000000000001,0.40224000000000004,0.9848399999999999,0.06252,0.5796,1.58028,0.19392,2.13852,0.00948,0.39468000000000003,0.05544,3.5136000000000003,0.053880000000000004,0.22763999999999998,0.009000000000000001,0.27144,0.70032,0.07416,0.0504,0.3426,0.03528,0.12060000000000001,0.3018,0.47100000000000003,0.17988,0.07968,0.051719999999999995,0.63276,4.9572,0.07524,0.07200000000000001,0.65124,0.034319999999999996,0.56496,0.53964,0.28596,0.24024,0.3366,0.52416,1.07664,0.14028,0.50688,0.15864,0.06048,0.16068000000000002,3.07572,0.37848,0.6138,0.09648,0.040920000000000005,0.333,0.5119199999999999,0.019200000000000002,0.11604,0.53616,0.03528,5.0677200000000004,3.16044,0.38927999999999996,3.5869200000000006,0.17243999999999998,0.28224,0.28608,0.213,0.06828000000000001,0.10188,0.20532,0.86052,2.72172,0.24804000000000004,0.69108,0.24468,0.11556000000000001,0.08016,0.9516,1.02324,0.3444,0.93828,0.36312000000000005,0.04524,0.10056000000000001,0.0822,0.03312,0.06108,0.04824,0.34536,0.84168,0.50352,0.054,0.27264,0.36144000000000004,0.12516,1.7333999999999998,0.09336,0.22104000000000001,0.0756,0.54168,1.44864,0.59436,0.06180000000000001,1.45524,0.29184,0.09480000000000001,0.09935999999999999,1.34352,0.20868,0.81576,0.57168,0.12072000000000001,1.22448,0.21276,0.50676,1.0194,1.2541200000000001,0.05544,0.04728,0.045,5.39508,0.04356,0.09924,0.09852000000000001,0.34596,0.0678,0.08388000000000001,2.7852,0.8817600000000001,7.059,45.22392,0.7867200000000001,0.049800000000000004,0.17568,0.1278,0.20664,1.50708,0.01488,0.44184,0.07032000000000001,0.08532000000000001,0.74232,0.0468,0.2868,0.08736000000000001,0.2238,0.4338,0.33516,0.07224,0.44616,0.06504,0.27371999999999996,0.0852,0.08436,0.04704,0.7931999999999999,3.22836,0.039240000000000004,1.44288,0.1308,0.35328000000000004,3.3964800000000004,0.34368000000000004,0.25728,0.054599999999999996,0.48059999999999997,1.27644,3.375,0.11904,0.22296,0.03732,0.66996,0.17832,0.08964,0.07224,0.10668000000000001,0.06804,0.06648,0.7926,0.09048,0.25884,0.21684,1.16724,6.1885200000000005,1.40328,1.21452,0.13188,0.09432,0.07056,0.04116,2.38308,0.34596,0.76848,0.15708,1.32024,0.41544,0.08496000000000001,0.06936,1.53864,0.7958399999999999,1.41168,0.0408,0.402,0.1422,1.464,0.1722,0.51024,0.5583600000000001,2.68032,0.68532,0.22512000000000001,0.0846,0.6006,0.039,0.26508,0.24792,0.0504,0.0438,0.08088000000000001,0.14724,0.048119999999999996,0.07704,0.05556,0.0594,1.27044,0.84372,0.2778,0.11088,0.46296,0.040920000000000005,0.73416,0.032880000000000006,0.07836,0.1908,0.09072,1.64328,0.90084,0.10332,0.40896,1.49508,0.16428,0.7657200000000001,0.83436,0.30636,0.03456,0.11148,0.21348,0.028200000000000003,0.24912000000000004,0.21828000000000003,1.20588,0.0348,0.08832000000000001,0.4248,0.07823999999999999,1.03056,2.2854,0.70896,0.35052,0.30168,0.09252,0.30528,2.7546000000000004,0.05328000000000001,0.22848,0.5964,2.20548,1.4412,0.06792000000000001,0.12347999999999999,0.7806,0.58344,0.05316,0.14124,0.03204,0.13512,0.70584,0.17052,0.77352,0.06684000000000001,0.8434800000000001,1.19304,0.08688,0.44604000000000005,0.79068,0.10332,0.31872,0.20892,0.68352,0.12444,1.15536,0.28416,2.6503200000000002,0.21839999999999998,0.56712,0.23171999999999998,0.04824,0.18408,0.54396,0.11676,0.042480000000000004,0.12372000000000001,0.050280000000000005,0.05604,0.06480000000000001,0.12660000000000002,0.14388,1.14456,0.12384,4.71684,0.11639999999999999,0.19763999999999998,0.27528,1.45032,0.44736000000000004,0.20268,0.75012,10.3422,9.5112,0.05688000000000001,0.71832,0.05088,0.04656,0.054,4.719480000000001,0.61512,0.75876,0.04536,1.056,0.26856,0.33648,0.64824,1.07388,0.04584,0.59748,0.051719999999999995,0.5151600000000001,0.04356,0.13848,0.07836,0.045720000000000004,0.22571999999999998,0.70548,0.35064,0.72096,0.0654,0.06888000000000001,0.07740000000000001,0.57792,0.42432,0.06,0.04908,0.6607200000000001,0.10584,0.07692,1.10028,0.33684000000000003,0.33252000000000004,0.96072,1.45956,0.20772,0.05712,0.71016,1.27188,1.1538000000000002,0.38424,0.12012,0.12047999999999999,0.11388000000000001,0.66756,0.04692,0.40836,0.049800000000000004,0.82668,0.46308000000000005,8.61516,0.624,0.09072,0.61488,0.67416,0.10235999999999999,0.08280000000000001,0.10176,1.0081200000000001,0.43188000000000004,0.30132,1.9294799999999999,1.40964,0.05748,0.5268,0.30444000000000004,0.0552,0.246,1.08636,0.7022400000000001,0.6988800000000001,0.08676,0.26796,0.4758,0.5521199999999999,1.3360800000000002,1.7316000000000003,0.71712,1.0820400000000001,0.5874,0.15084,0.04956,1.99716,1.43988,0.45408000000000004,0.87432,0.07656,0.06816,0.1158,2.43852,0.06756,0.051840000000000004,0.1674,0.85104,0.05736,0.22979999999999998,0.19284,0.060239999999999995,0.04452,0.05088,0.31848,0.01908,0.50256,0.61944,0.25056,0.64644,0.27864,0.13224,0.45852000000000004,1.04892,0.59508,0.06096,0.052320000000000005,0.28104,0.56004,0.18132,0.07932,0.06612,3.85152,1.13064,0.5775600000000001,0.8304,2.72076,0.05424,0.20112000000000002,1.14924,0.70548,0.047760000000000004,0.05604,0.04956,0.04824,0.32964,0.06192,0.09204,1.87416,0.72564,0.09708,0.08592000000000001,10.385760000000001,0.17243999999999998,2.781,0.08952,0.96564,0.46764,0.39912,0.51852,0.03948,0.11664000000000001,0.05712,0.04584,0.22344000000000003,0.5269199999999999,2.2239600000000004,0.08484,1.3054800000000002,0.23772,0.5536800000000001,0.15696000000000002,0.44916,0.64656,0.04764,0.56436,0.051480000000000005,0.04704,0.05424,0.35268,0.34152,0.0804,0.17748,0.04536,0.73116,0.09228,0.32328,0.42864,1.27164,4.7184,0.80028,0.09024,0.13104,4.79676,1.15908,0.72384,0.08208,2.08404,1.13076,0.13416,0.1638,0.07884000000000001,0.06924,0.1542,0.45011999999999996,0.09444000000000001,3.59256,1.02264,0.14472000000000002,1.038,0.27468000000000004,1.82292,0.08112,0.183,0.25152,0.14952000000000001,0.03816,0.07488,0.05004,1.12128,0.38904000000000005,0.24936000000000003,0.1104,0.58692,0.639,1.93668,0.054599999999999996,0.07044,0.5642400000000001,0.8448000000000001,0.07128000000000001,1.75164,0.12047999999999999,1.70256,0.08076000000000001,0.31776,0.27155999999999997,0.08771999999999999,0.13704,0.17784,0.7600800000000001,0.41532,0.03936,0.05088,0.75852,0.51252,0.0534,0.09036000000000001,0.04128,0.7914000000000001,0.6438,0.5814,0.08352,0.97488,2.99352,1.25688,0.66276,0.39372,0.060840000000000005,0.23616,1.1544,0.675,0.07968,0.10056000000000001,1.6328399999999998,4.8505199999999995,1.09788,0.70308,0.94032,0.13308,0.4728,0.3564,0.32472,0.7299599999999999,2.7504,0.49979999999999997,0.3654,0.35472,4.30284,0.23808,0.06432,0.51936,0.76644,0.23136,0.1692,0.05568,0.09744,0.10716,0.35916,0.15576,0.60684,29.877360000000003,0.056760000000000005,0.17112,0.1158,0.41268,0.04704,0.22968000000000002,0.55932,0.24552000000000002,0.13656000000000001,0.46032,0.1686,1.11024,0.03864,0.68796,0.4278,2.47596,0.08868,1.1226,0.4272,0.049679999999999995,4.4076,0.42432,1.1544,1.31664,0.07692,0.24252,0.10860000000000002,0.5946,1.07148,0.1074,0.12972,0.37764,0.26088,0.10956000000000002,0.32244,0.05508,0.92544,0.23532,0.7628400000000001,0.08208,1.5183600000000002,0.06276000000000001,0.8990400000000001,0.1572,0.07884000000000001,0.041400000000000006,0.03684,0.039119999999999995,0.18576,0.07692,0.1008,0.08952,0.37020000000000003,0.26688,0.15552000000000002,0.5004000000000001,1.2311999999999999,0.12012,0.07164,0.0468,0.10439999999999999,2.25564,0.19716,0.07092,0.19679999999999997,0.14124,1.23684,0.08088000000000001,1.29972,4.37124,0.45816,0.69708,0.047400000000000005,0.07200000000000001,0.30168,1.2216,0.09396,0.62268,0.22920000000000001,0.13319999999999999,0.64224,0.56064,0.049679999999999995,0.11376000000000001,0.08076000000000001,0.03528,0.45564,0.54528,0.05904,0.03144,0.35268,0.08256,0.03672,0.09564,0.18696000000000002,1.20516,0.8058000000000001,0.04272,0.01068,0.2118,0.17028,0.03384,0.93408,0.7806,0.49812,0.042480000000000004,0.044640000000000006,3.77904,0.31764,0.078,0.052199999999999996,0.04824,0.15924,0.84132,0.039599999999999996,0.27396,0.26244,0.11472,0.7832399999999999,0.0576,0.04104,0.052199999999999996,0.13044,0.08844,0.11316,0.06732,0.17724,0.03972,1.67124,0.34332,0.24912000000000004,0.21612000000000003,0.51084,3.4359599999999997,5.08284,0.06228000000000001,0.049800000000000004,0.05652,0.046200000000000005,0.06444,0.13548,0.0972,0.06168,0.07056,0.10392,0.09947999999999999,0.07092,0.06456,0.06948,0.056639999999999996,0.06336,0.029400000000000003,0.80796,0.75528,0.0576,0.186,0.32004000000000005,0.06252,0.0468,0.07788,0.111,0.11280000000000001,0.25812,1.38408,0.06876,0.63624,4.0629599999999995,0.0576,0.10908,1.53684,0.34548,0.7168800000000001,0.30444000000000004,1.0038,0.55584,1.05732,1.21716,0.6402,0.06108,0.01044,0.28212000000000004,1.25196,0.049800000000000004,1.33248,0.08771999999999999,0.19560000000000002,0.71436,0.16008,0.32448,0.13584000000000002,0.75864,0.04848,0.66876,0.6144000000000001,0.47172000000000003,0.61368,0.08316,1.4214,0.64824,0.06456,0.21624,0.047400000000000005,1.80276,0.12732,0.84468,0.77832,0.058440000000000006,0.06252,0.19571999999999998,0.08544,0.59496,1.5246,0.36168,0.29964,0.0342,0.05712,1.1911200000000002,0.05652,0.04752,1.2410400000000001,0.37848,0.9114000000000001,0.70644,0.07848000000000001,0.8206800000000001,0.52764,0.05952,0.7971600000000001,0.57504,0.28356,1.4371200000000002,0.51648,0.8155199999999999,0.060840000000000005,0.21132,0.09996000000000001,0.08964,0.07692,0.14472000000000002,0.26616,0.060840000000000005,0.11148,5.50128,0.46452000000000004,3.07164,0.8004,0.04068,0.47700000000000004,0.21564,0.10308,4.82448,1.5923999999999998,0.59328,0.0936,0.04272,0.04536,0.04704,0.34536,1.2823200000000001,0.31644,1.23048,1.8774,0.2526,0.1662,1.4724000000000002,0.3642,1.10484,1.9176000000000002,1.73484,0.73944,3.2869200000000003,1.3394400000000002,1.45104,0.70128,0.35016,1.0776,5.30328,0.8455199999999999,0.33072,0.9741600000000001,2.121,0.86424,0.29784,2.32032,0.08652,0.06456,1.0014,0.5862,1.65192,3.54504,0.14916,0.04356,2.8326000000000002,0.45396,4.7004,0.39264,1.7413200000000002,0.36036,0.3462,0.048119999999999996,3.24756,0.08376,0.07968,0.053880000000000004,0.41064,3.64428,2.23392,1.8526799999999999,0.1368,0.79644,0.07044,1.66944,0.14292,0.06612,0.25644,1.86564,1.0887600000000002,0.63744,1.9032,30.593639999999997,0.5656800000000001,6.44436,0.36936,1.13556,4.51884,1.95828,0.11352000000000001,0.42516,0.186,1.2070800000000002,6.589320000000001,1.1431200000000001,0.05568,7.4388,2.05176,0.78228,2.1055200000000003,2.30364,0.47856000000000004,0.45804,0.96324,0.15072000000000002,0.46704,19.17072,6.51288,1.0461600000000002,3.45084,1.1958000000000002,21.476280000000003,1.4778,0.08316,0.1038,0.88068,1.73292,3.91128,0.918,0.6484800000000001,1.4682,0.20184000000000002,4.2332399999999994,1.77408,0.29448,0.69108,0.11939999999999999,3.48684,0.82776,13.059000000000001,0.0,0.57516,1.9347599999999998,0.27768000000000004,0.07248,3.01716,0.2964,0.11832,0.6190800000000001,2.12256,0.114,0.59112,0.24120000000000003,0.06564,0.69108,0.29256,0.10356000000000001,0.9274800000000001,1.6654799999999998,0.24695999999999999,0.25416,0.8060400000000001,2.21772,0.21372,0.27312000000000003,1.70976,0.65976,9.71712,0.16848,0.5064000000000001,0.91152,0.36863999999999997,0.10031999999999999,1.4961600000000002,0.19355999999999998,3.3642000000000003,0.6305999999999999,3.18756,0.9358799999999999,1.11972,2.3672400000000002,0.74676,0.56148,0.26676,2.18004,0.7841999999999999,1.2874800000000002,0.45756,5.49012,0.28044,2.6576400000000002,1.5672,1.2901200000000002,0.3528,0.8916,15.36972,0.8164800000000001,0.08988,75.97092,2.2806,0.69936,0.99096,2.00976,0.12960000000000002,1.90992,0.1932,0.61668,1.2438,5.2464,0.58236,0.74892,2.5644,0.5167200000000001,0.34728000000000003,0.22679999999999997,0.051840000000000004,8.29884,2.10528,0.5137200000000001,0.21324,0.11892,0.71196,2.2098,1.53036,0.11712,0.2136,0.40932,0.11652000000000001,1.4878799999999999,0.39708000000000004,0.77268,0.36492,0.49188000000000004,2.0695200000000002,0.59868,0.14616,0.33252000000000004,0.27,0.057719999999999994,1.38876,1.9562400000000002,0.78012,0.108,0.09731999999999999,1.6176000000000001,1.04388,2.86536,2.57028,0.76644,0.60384,1.76568,0.05256,1.10376,2.42544,0.8985599999999999,1.9873200000000002,0.10439999999999999,0.483,2.94192,0.37752,0.17796,0.86352,4.74312,0.06552,0.08088000000000001,0.60276,1.57224,1.8923999999999999,0.61512,0.14652,1.4901600000000002,1.035,1.24044,0.11088,2.46624,0.3786,0.33696,0.90744,0.65712,5.6148,0.18084,12.00072,1.1628,0.22655999999999998,0.26604,0.05328000000000001,0.35016,0.276,0.17243999999999998,0.29676,2.59416,3.1106400000000005,0.72972,0.24395999999999998,0.38604000000000005,2.68248,0.26532,0.49524000000000007]},\"mode\":\"markers\",\"name\":\"\",\"showlegend\":false,\"x\":[\"60\",\"61\",\"43\",\"56\",\"75\",null,\"27\",null,\"43\",\"1\",\"30\",\"36\",\"48\",\"58\",\"35\",null,null,\"31\",null,\"39\",\"76\",null,\"84\",null,null,null,\"57\",\"57\",null,\"29\",null,\"8\",null,\"97\",\"57\",\"83\",\"95\",null,\"67\",\"78\",null,\"14\",null,\"71\",\"63\",\"98\",\"99\",\"86\",\"84\",\"80\",\"81\",\"76\",\"94\",\"71\",\"54\",\"1\",\"74\",\"48\",\"71\",null,\"96\",\"96\",\"37\",null,null,null,\"91\",null,null,null,null,\"93\",\"68\",\"56\",\"53\",\"34\",\"100\",\"63\",null,null,\"89\",\"92\",\"78\",\"98\",null,\"14\",null,null,\"76\",null,null,null,null,null,null,null,\"89\",\"96\",null,null,\"21\",\"98\",null,\"76\",\"10\",\"72\",null,null,\"61\",\"87\",\"72\",\"37\",\"97\",null,null,\"79\",null,null,\"76\",null,\"70\",\"78\",null,null,null,null,\"64\",\"34\",null,null,null,null,null,\"34\",\"91\",\"29\",null,\"34\",\"98\",\"49\",\"62\",\"46\",\"42\",null,\"76\",null,\"15\",\"54\",null,null,\"1\",\"8\",null,\"29\",null,null,\"98\",\"72\",\"20\",\"57\",\"39\",\"74\",\"93\",\"89\",\"90\",\"90\",\"91\",\"61\",\"90\",\"95\",\"91\",\"97\",\"94\",\"85\",\"66\",\"89\",\"98\",\"94\",\"84\",null,\"81\",\"95\",\"81\",\"95\",\"89\",\"93\",\"28\",\"91\",\"89\",null,\"69\",\"98\",\"99\",\"83\",\"77\",\"96\",\"70\",\"88\",\"93\",null,\"79\",\"94\",\"79\",null,\"64\",\"74\",\"94\",\"3\",\"54\",\"77\",\"72\",\"97\",\"76\",\"77\",\"79\",\"69\",\"45\",\"80\",\"42\",\"96\",null,\"60\",\"2\",\"55\",\"90\",\"92\",\"58\",\"89\",\"91\",\"25\",\"93\",\"72\",\"45\",\"6\",\"49\",null,\"89\",\"72\",\"72\",\"80\",null,null,null,null,\"97\",\"96\",\"74\",\"89\",\"72\",\"72\",null,\"96\",\"83\",null,null,null,null,\"65\",\"58\",\"100\",\"100\",\"34\",\"77\",\"59\",\"45\",\"93\",\"19\",\"97\",\"81\",\"95\",\"83\",\"7\",\"56\",\"53\",\"93\",\"20\",\"55\",\"54\",\"25\",null,null,\"81\",\"62\",\"95\",null,null,\"96\",\"96\",\"56\",\"71\",\"49\",null,null,\"97\",\"97\",\"66\",null,null,\"80\",\"69\",\"86\",\"5\",\"21\",null,\"83\",\"23\",\"78\",\"100\",null,\"100\",null,null,\"72\",\"38\",null,\"56\",\"79\",\"78\",\"73\",\"84\",\"70\",\"96\",\"89\",null,\"95\",\"87\",null,null,\"100\",null,null,\"94\",null,\"88\",\"33\",\"62\",\"95\",\"72\",\"26\",\"49\",\"63\",\"96\",\"98\",\"89\",null,\"25\",\"1\",\"80\",null,null,\"41\",\"37\",\"95\",\"42\",\"32\",\"89\",\"26\",null,\"92\",\"66\",null,\"94\",null,\"62\",\"97\",\"53\",null,\"56\",\"75\",\"61\",\"95\",null,null,null,\"14\",null,\"21\",\"78\",null,\"91\",\"93\",null,null,\"86\",\"62\",\"98\",\"63\",\"70\",\"65\",\"75\",null,null,\"58\",\"70\",\"60\",null,\"32\",\"88\",\"64\",\"82\",\"87\",null,null,\"79\",\"98\",null,\"37\",\"83\",null,\"56\",null,\"80\",\"69\",null,\"15\",\"46\",null,\"31\",\"81\",\"81\",\"43\",\"53\",null,\"26\",\"16\",\"79\",\"57\",\"83\",\"28\",\"91\",\"2\",\"6\",\"41\",\"66\",\"55\",\"53\",\"31\",null,\"97\",null,\"68\",\"79\",\"58\",\"50\",\"94\",\"55\",\"89\",\"93\",null,null,\"85\",\"86\",null,\"90\",null,null,\"91\",\"12\",\"1\",\"51\",\"59\",\"1\",\"65\",\"63\",\"56\",\"95\",\"63\",\"77\",\"99\",\"81\",null,\"70\",\"86\",\"89\",\"51\",\"66\",\"95\",\"97\",\"12\",\"55\",null,null,\"16\",\"87\",null,null,null,\"91\",\"5\",null,null,\"73\",\"33\",\"57\",null,null,\"88\",\"85\",null,\"65\",\"82\",\"85\",\"83\",\"98\",\"86\",\"90\",\"68\",\"80\",null,null,\"97\",\"59\",\"39\",\"57\",\"43\",\"62\",\"13\",\"25\",\"91\",\"89\",\"75\",\"95\",\"15\",null,\"83\",\"79\",\"96\",null,\"30\",\"83\",null,null,null,null,\"95\",\"67\",\"11\",\"93\",\"100\",\"31\",\"32\",\"81\",null,\"57\",\"1\",null,\"43\",null,\"77\",\"83\",\"57\",null,\"98\",\"87\",\"91\",\"63\",null,\"47\",\"70\",\"90\",\"54\",null,null,\"59\",\"18\",\"87\",\"28\",null,\"8\",\"83\",\"1\",\"60\",null,null,\"88\",\"57\",null,\"96\",\"71\",null,\"3\",\"1\",\"88\",\"53\",\"32\",\"65\",\"72\",\"68\",\"90\",\"100\",null,\"90\",\"100\",\"68\",null,null,\"1\",\"13\",\"31\",\"3\",null,null,\"69\",\"90\",\"78\",\"92\",null,null,\"54\",\"68\",\"51\",null,\"27\",\"88\",\"92\",null,null,\"64\",\"49\",null,\"10\",\"73\",null,\"72\",null,null,\"80\",\"90\",\"84\",\"72\",\"46\",\"12\",null,null,\"82\",null,null,\"85\",\"98\",null,null,\"98\",\"55\",null,\"53\",\"18\",\"74\",\"85\",\"82\",\"33\",\"62\",\"69\",null,\"81\",\"81\",null,\"85\",\"90\",\"52\",null,null,\"37\",\"95\",\"13\",null,null,\"59\",\"93\",\"57\",\"96\",\"15\",\"3\",null,\"90\",\"99\",\"84\",\"94\",\"13\",\"98\",\"96\",\"100\",\"93\",\"86\",null,\"83\",\"79\",null,\"98\",\"53\",\"67\",\"63\",\"32\",null,null,null,\"48\",\"85\",null,\"95\",null,\"93\",null,\"82\",\"59\",\"20\",\"82\",\"97\",\"62\",\"74\",\"95\",null,\"100\",\"67\",null,\"55\",\"24\",\"86\",\"51\",\"50\",null,null,\"75\",\"32\",\"50\",\"38\",null,\"87\",\"97\",\"32\",\"98\",\"97\",\"94\",\"87\",\"82\",\"2\",\"53\",null,\"47\",null,null,\"68\",null,\"72\",\"61\",\"51\",null,\"86\",null,\"79\",\"74\",\"82\",\"57\",\"9\",\"94\",\"64\",\"81\",null,\"61\",null,null,\"26\",null,\"56\",\"37\",\"85\",\"60\",\"63\",\"99\",\"77\",\"92\",\"84\",\"77\",\"41\",\"49\",\"39\",\"40\",\"63\",\"56\",\"78\",\"36\",\"80\",\"56\",\"85\",\"16\",\"74\",null,\"18\",\"67\",null,\"89\",\"1\",\"91\",null,null,null,\"87\",\"91\",\"81\",\"24\",\"51\",null,\"11\",\"90\",\"87\",\"21\",\"23\",\"57\",null,null,\"34\",\"80\",\"100\",\"81\",null,null,\"90\",null,null,\"72\",\"43\",\"80\",\"77\",null,\"88\",\"76\",\"91\",null,\"2\",null,\"91\",\"43\",\"74\",null,null,null,null,\"77\",\"31\",\"42\",\"87\",\"91\",null,\"71\",null,\"72\",\"91\",\"84\",\"67\",\"98\",\"46\",\"95\",\"88\",null,\"17\",\"82\",\"16\",\"84\",\"76\",\"89\",\"89\",\"85\",\"77\",null,\"83\",\"89\",\"100\",\"53\",null,\"49\",\"91\",\"68\",\"12\",\"7\",\"94\",\"44\",\"81\",\"97\",null,\"32\",\"86\",null,\"77\",\"68\",\"8\",\"98\",\"84\",null,\"98\",\"94\",\"97\",null,\"77\",null,\"98\",null,\"99\",null,\"57\",\"94\",null,\"76\",\"98\",\"60\",null,null,\"81\",null,\"100\",\"99\",null,\"60\",\"39\",\"80\",\"35\",\"86\",\"66\",\"69\",null,null,null,\"54\",null,\"76\",\"77\",null,\"72\",\"25\",\"36\",\"25\",null,\"70\",null,\"28\",null,null,null,\"57\",null,null,\"77\",\"81\",null,null,null,\"62\",\"47\",\"75\",\"91\",\"85\",\"38\",\"89\",null,\"96\",\"48\",\"82\",\"83\",\"81\",\"92\",\"6\",null,null,null,\"72\",\"23\",\"98\",\"77\",\"33\",\"58\",\"79\",\"87\",\"75\",\"77\",\"58\",null,null,\"12\",\"42\",\"93\",\"38\",\"53\",\"86\",\"50\",\"86\",\"79\",\"79\",\"19\",\"99\",\"90\",\"55\",\"92\",\"18\",\"99\",\"17\",\"42\",\"7\",null,\"61\",\"16\",\"63\",\"59\",\"15\",\"66\",\"80\",\"100\",\"55\",null,\"99\",\"91\",\"67\",\"62\",\"84\",\"77\",\"77\",\"52\",\"76\",null,null,\"49\",\"98\",\"48\",\"1\",\"78\",\"3\",\"82\",\"79\",\"57\",\"88\",\"76\",\"98\",\"43\",\"78\",\"79\",\"69\",\"94\",\"1\",\"51\",\"62\",null,\"69\",\"67\",null,null,null,\"41\",\"65\",\"95\",null,\"86\",null,\"72\",null,\"94\",null,null,\"67\",\"5\",\"72\",\"93\",\"93\",\"98\",\"1\",\"75\",\"93\",\"95\",\"71\",\"92\",null,\"1\",\"28\",null,null,\"98\",\"79\",\"98\",\"88\",\"93\",\"95\",\"5\",null,null,\"47\",\"91\",\"81\",\"82\",null,\"43\",\"67\",\"54\",null,\"57\",\"29\",\"86\",\"77\",null,\"76\",null,\"80\",\"39\",null,\"82\",null,\"86\",null,\"62\",\"38\",null,null,\"73\",null,\"27\",\"44\",\"76\",null,\"51\",\"43\",\"95\",\"78\",null,\"82\",\"73\",\"98\",\"47\",\"36\",\"98\",\"37\",null,\"4\",null,null,\"94\",\"100\",\"43\",\"45\",null,\"96\",\"91\",\"91\",\"92\",\"24\",\"85\",\"2\",\"8\",\"83\",\"60\",\"17\",\"81\",\"65\",null,\"92\",\"26\",\"53\",\"86\",\"72\",\"93\",null,\"86\",\"50\",null,\"89\",\"1\",\"74\",\"76\",\"2\",\"90\",\"40\",null,\"42\",null,\"55\",\"71\",\"73\",\"67\",null,\"80\",\"63\",null,null,null,\"57\",\"62\",\"77\",\"95\",\"1\",null,\"97\",\"66\",null,null,null,null,null,\"84\",\"92\",\"1\",\"68\",\"92\",\"77\",\"100\",\"41\",\"100\",\"84\",null,null,null,\"72\",\"42\",null,\"11\",\"17\",null,null,null,\"4\",\"65\",null,\"91\",null,\"47\",null,null,\"70\",null,\"66\",\"100\",null,null,null,\"41\",\"65\",\"13\",\"68\",\"56\",\"96\",\"61\",\"97\",\"96\",null,null,\"37\",\"95\",\"86\",\"56\",\"98\",null,\"70\",null,\"94\",\"86\",null,\"59\",null,\"49\",\"81\",null,\"75\",\"89\",null,\"77\",\"61\",\"48\",\"60\",\"80\",null,null,\"74\",\"33\",\"100\",\"89\",\"92\",\"54\",\"87\",\"52\",\"88\",\"27\",\"87\",\"39\",\"83\",\"96\",\"17\",\"53\",\"89\",\"73\",\"98\",\"95\",\"68\",\"33\",\"20\",\"71\",\"91\",null,\"74\",null,null,\"84\",\"96\",\"53\",\"82\",\"79\",\"79\",\"99\",\"97\",\"79\",\"92\",\"88\",\"88\",\"92\",null,null,\"69\",\"79\",\"98\",\"13\",\"100\",\"38\",null,\"82\",\"13\",\"94\",\"51\",\"66\",\"8\",\"91\",\"42\",\"90\",\"96\",\"81\",\"98\",null,\"47\",\"21\",null,\"75\",null,\"44\",\"53\",\"6\",\"73\",\"42\",\"66\",null,null,\"90\",null,\"95\",null,\"54\",null,\"93\",\"65\",\"50\",\"61\",\"88\",\"89\",\"86\",\"61\",\"84\",\"85\",\"77\",\"100\",\"77\",\"68\",\"76\",\"3\",\"63\",\"50\",\"60\",\"38\",null,\"64\",\"76\",null,null,\"86\",\"64\",\"21\",\"41\",\"46\",\"33\",\"11\",null,\"93\",\"72\",null,\"52\",null,\"40\",\"80\",null,\"56\",\"96\",\"94\",\"29\",null,\"45\",\"1\",\"49\",\"88\",\"87\",\"39\",\"71\",null,\"91\",\"72\",\"94\",\"22\",\"43\",\"82\",\"40\",\"55\",\"98\",null,null,\"41\",\"71\",\"90\",\"97\",\"8\",\"67\",\"14\",\"34\",null,null,\"3\",\"2\",\"28\",\"69\",\"67\",\"30\",\"83\",\"67\",\"17\",null,\"91\",null,null,null,\"88\",null,null,\"90\",\"75\",\"65\",\"60\",\"47\",\"99\",\"60\",\"34\",\"69\",\"61\",\"53\",\"100\",\"88\",\"98\",null,\"92\",\"53\",\"82\",\"73\",\"58\",\"35\",\"86\",null,\"88\",\"1\",null,\"89\",\"71\",null,\"93\",\"66\",\"64\",\"84\",null,null,\"84\",\"71\",\"68\",\"80\",\"89\",null,\"96\",\"71\",\"82\",\"76\",null,\"60\",\"100\",null,\"28\",null,\"100\",\"26\",\"93\",null,\"72\",null,\"70\",\"84\",\"13\",null,\"91\",\"39\",null,\"58\",\"56\",\"61\",\"22\",\"10\",\"5\",\"79\",\"62\",null,null,null,null,null,\"64\",\"78\",null,\"9\",\"88\",\"99\",\"78\",\"89\",\"83\",\"57\",\"44\",\"82\",\"23\",null,\"100\",\"99\",\"73\",\"84\",\"65\",\"75\",\"90\",\"4\",\"36\",\"56\",\"70\",null,\"91\",\"75\",\"100\",null,\"67\",null,\"46\",\"63\",\"55\",null,null,\"15\",\"55\",null,\"81\",\"92\",\"58\",null,\"61\",\"88\",null,null,\"81\",\"85\",null,\"84\",null,\"32\",\"57\",null,\"16\",\"32\",\"67\",null,\"72\",null,\"10\",\"85\",\"83\",null,\"64\",null,\"60\",\"53\",null,null,\"94\",null,null,\"77\",\"92\",null,\"81\",\"89\",\"62\",\"61\",\"36\",\"55\",\"67\",\"18\",\"64\",null,\"81\",\"60\",\"81\",\"70\",\"41\",\"30\",\"68\",\"63\",\"89\",\"66\",\"69\",null,null,\"22\",null,\"23\",\"91\",\"64\",null,null,\"57\",null,\"81\",\"74\",\"66\",\"15\",\"68\",\"79\",\"18\",\"1\",null,\"100\",\"29\",\"94\",\"30\",\"53\",\"49\",\"7\",\"75\",\"82\",null,\"52\",\"69\",\"10\",null,\"67\",\"55\",null,\"42\",\"100\",\"100\",null,\"92\",\"100\",null,null,null,\"67\",\"61\",null,\"85\",null,\"59\",null,\"69\",\"85\",\"56\",\"77\",\"85\",null,null,\"34\",null,\"83\",\"81\",\"17\",\"52\",\"93\",\"90\",null,null,\"68\",\"83\",\"79\",\"91\",\"87\",\"87\",\"83\",\"83\",\"76\",\"87\",\"69\",\"51\",\"70\",\"96\",\"43\",\"50\",\"46\",\"67\",\"73\",\"99\",\"60\",null,\"7\",\"33\",\"29\",\"64\",\"96\",\"93\",\"81\",null,\"67\",null,\"100\",\"70\",\"34\",\"66\",\"66\",\"100\",null,\"62\",\"79\",\"57\",\"50\",\"74\",null,null,\"51\",\"28\",\"90\",\"54\",\"100\",\"73\",\"96\",\"30\",\"49\",\"85\",\"91\",\"57\",\"86\",\"100\",\"71\",\"46\",\"92\",\"66\",\"34\",\"70\",\"12\",null,\"57\",\"87\",\"52\",\"29\",\"17\",\"51\",null,\"71\",null,null,\"89\",null,\"88\",null,null,\"73\",\"21\",\"24\",\"55\",\"76\",\"52\",\"78\",\"53\",null,null,null,\"72\",\"32\",\"97\",\"4\",\"84\",null,null,\"100\",null,\"98\",\"46\",\"57\",null,null,\"33\",\"14\",\"85\",\"79\",\"31\",\"75\",null,\"21\",\"24\",\"81\",\"85\",\"97\",\"11\",\"79\",\"90\",\"19\",\"68\",\"20\",\"37\",\"54\",null,null,\"84\",null,null,null,\"5\",\"11\",\"88\",\"73\",\"80\",\"50\",\"67\",\"47\",\"82\",\"69\",\"47\",\"80\",null,null,\"55\",\"94\",\"11\",\"62\",null,\"76\",null,\"72\",\"63\",\"40\",\"46\",\"98\",\"5\",\"86\",null,\"70\",\"33\",null,null,null,\"78\",null,\"94\",null,\"49\",null,\"96\",null,\"89\",\"82\",\"75\",\"55\",null,\"59\",\"87\",\"96\",null,\"81\",null,\"67\",null,null,\"100\",\"99\",null,null,\"20\",\"12\",\"80\",null,null,\"10\",\"58\",null,null,null,\"100\",\"98\",\"72\",\"91\",\"3\",null,null,\"77\",\"34\",\"36\",\"38\",null,\"72\",\"81\",\"87\",\"44\",\"31\",null,\"37\",\"1\",\"72\",null,\"91\",\"73\",null,null,\"75\",\"73\",\"85\",\"91\",\"37\",null,\"76\",null,\"91\",\"75\",\"54\",\"100\",\"81\",\"69\",\"4\",null,\"78\",null,\"58\",\"96\",\"31\",\"99\",\"89\",null,null,\"99\",\"81\",null,\"83\",\"89\",\"94\",null,\"87\",\"84\",\"19\",\"41\",null,\"99\",null,\"84\",\"39\",\"97\",\"36\",null,null,\"94\",\"80\",\"73\",null,\"73\",null,null,\"58\",\"60\",\"87\",\"77\",\"95\",\"11\",\"15\",\"59\",\"38\",\"71\",\"88\",\"18\",null,\"42\",\"61\",\"65\",\"53\",\"83\",\"64\",\"1\",\"6\",\"32\",\"44\",\"50\",\"63\",\"6\",\"93\",\"10\",null,\"3\",\"15\",\"44\",null,null,\"71\",\"55\",\"89\",\"21\",\"19\",\"92\",\"71\",\"96\",\"68\",null,\"68\",\"73\",\"92\",null,null,null,\"60\",null,\"69\",\"16\",null,\"45\",null,\"89\",\"26\",null,\"80\",null,\"17\",\"84\",null,\"99\",\"49\",\"3\",\"85\",\"19\",\"79\",\"68\",\"56\",null,null,\"92\",null,\"95\",\"58\",\"79\",\"98\",\"50\",\"98\",\"81\",\"81\",\"80\",\"73\",\"84\",\"38\",null,null,null,\"80\",\"40\",null,null,\"90\",\"63\",\"18\",null,\"52\",\"89\",\"56\",\"62\",\"99\",null,\"84\",\"47\",\"100\",\"92\",\"39\",null,null,\"69\",\"72\",\"94\",\"70\",null,\"96\",\"34\",null,\"96\",\"3\",null,\"54\",\"88\",\"63\",\"66\",\"95\",\"96\",\"35\",null,\"88\",\"24\",\"93\",null,\"64\",\"15\",\"27\",\"25\",null,\"99\",\"83\",\"66\",\"88\",\"93\",\"96\",\"10\",\"40\",\"100\",\"1\",null,null,\"48\",\"42\",null,null,\"65\",null,null,\"17\",\"19\",null,\"98\",\"75\",null,null,\"54\",\"69\",\"32\",\"88\",\"57\",\"99\",\"75\",\"75\",\"63\",null,\"54\",\"90\",\"96\",\"76\",\"92\",\"96\",\"62\",null,\"86\",\"54\",\"73\",\"93\",\"54\",\"82\",\"88\",\"55\",\"55\",\"32\",null,\"63\",\"53\",\"84\",\"69\",\"55\",\"69\",\"76\",\"48\",\"80\",\"50\",\"67\",\"78\",\"76\",\"33\",\"91\",\"90\",\"86\",\"92\",\"65\",\"81\",\"17\",\"64\",\"86\",\"34\",\"37\",\"50\",\"55\",null,null,\"100\",\"71\",\"78\",null,null,\"12\",\"57\",\"75\",\"77\",\"99\",\"57\",null,\"64\",\"5\",\"74\",\"100\",\"91\",\"39\",\"64\",null,\"95\",\"30\",\"76\",null,null,\"7\",\"97\",\"64\",null,null,\"50\",\"92\",\"85\",\"62\",\"95\",\"1\",null,\"28\",\"93\",\"86\",null,\"55\",\"76\",\"65\",\"52\",\"58\",\"79\",\"31\",\"68\",\"94\",\"96\",null,null,null,\"30\",null,\"3\",\"29\",null,\"83\",\"93\",null,\"100\",\"7\",null,\"69\",\"96\",\"83\",null,\"7\",\"89\",\"97\",null,\"77\",null,\"72\",null,null,\"84\",null,null,null,\"27\",\"45\",\"82\",\"97\",\"82\",\"80\",\"98\",\"95\",\"98\",\"92\",\"81\",\"41\",\"15\",\"95\",\"66\",\"83\",null,\"86\",\"100\",\"72\",null,\"58\",\"1\",\"1\",\"76\",\"96\",null,\"99\",\"58\",null,null,null,null,null,\"100\",null,\"78\",\"67\",null,\"92\",null,\"96\",\"12\",null,\"45\",null,\"2\",\"86\",\"94\",\"33\",null,\"76\",\"89\",\"1\",\"99\",\"69\",null,null,\"86\",\"71\",\"91\",null,\"23\",\"50\",\"100\",\"73\",\"66\",\"54\",null,null,null,null,null,null,\"94\",\"75\",\"93\",null,\"96\",\"85\",null,\"61\",null,\"89\",\"81\",\"10\",\"76\",\"73\",null,\"80\",\"68\",\"96\",\"96\",\"87\",null,\"93\",\"17\",\"67\",\"100\",\"95\",null,\"20\",\"84\",null,null,\"51\",\"90\",\"34\",null,\"86\",\"69\",\"87\",null,\"32\",\"61\",\"25\",\"73\",\"96\",\"81\",\"60\",\"92\",null,\"90\",\"85\",\"80\",\"54\",\"43\",null,null,null,\"89\",\"89\",\"92\",\"96\",\"63\",\"92\",\"98\",\"83\",null,\"62\",\"70\",\"53\",null,null,\"94\",\"96\",\"52\",null,\"86\",\"69\",\"74\",\"88\",\"24\",\"90\",\"61\",null,\"83\",null,\"89\",\"87\",\"73\",\"92\",\"76\",\"55\",\"90\",\"90\",\"69\",\"12\",null,\"75\",\"98\",\"73\",\"61\",\"94\",\"76\",\"63\",\"96\",\"82\",\"75\",\"90\",\"79\",\"73\",\"66\",\"52\",\"53\",null,null,\"78\",\"100\",\"64\",\"78\",\"93\",\"84\",\"93\",\"97\",\"78\",\"93\",\"97\",\"87\",\"90\",\"99\",\"98\",\"93\",null,\"27\",\"95\",null,\"96\",\"35\",\"92\",\"69\",\"46\",\"90\",\"69\",\"85\",\"95\",null,\"41\",\"89\",\"22\",\"75\",null,\"83\",\"74\",\"90\",\"92\",null,\"92\",\"21\",\"87\",\"44\",\"70\",\"38\",\"92\",\"29\",\"65\",\"30\",\"83\",\"26\",\"92\",\"95\",null,null,\"88\",\"98\",\"58\",\"37\",null,\"17\",\"66\",\"24\",\"86\",\"85\",\"97\",\"22\",\"96\",null,null,\"98\",null,\"94\",\"93\",null,null,null,\"72\",\"25\",\"8\",\"83\",\"60\",null,null,\"94\",\"83\",\"81\",\"95\",\"94\",\"96\",\"96\",\"39\",\"60\",\"90\",null,\"95\",\"92\",null,\"57\",null,\"42\",\"70\",\"18\",null,\"24\",\"98\",null,\"49\",\"48\",\"91\",\"98\",\"34\",\"93\",\"53\",\"78\",\"79\",\"22\",\"84\",\"83\",\"77\",\"53\",null,\"80\",\"23\",\"90\",\"95\",null,null,\"96\",\"16\",null,null,\"6\",\"99\",\"99\",null,null,\"62\",\"85\",\"40\",\"76\",\"100\",null,null,\"100\",null,\"94\",\"71\",\"90\",\"41\",\"97\",null,null,\"98\",null,null,\"82\",\"95\",null,\"82\",\"55\",\"52\",\"78\",null,\"48\",null,\"40\",\"44\",\"76\",\"100\",null,null,\"98\",\"84\",\"2\",null,\"35\",null,null,\"98\",\"9\",\"33\",\"66\",\"66\",\"91\",\"61\",\"29\",null,\"69\",\"84\",null,\"55\",\"46\",\"98\",null,null,\"57\",\"92\",\"65\",\"84\",\"42\",\"3\",\"94\",\"95\",\"73\",\"87\",\"77\",\"43\",\"52\",\"82\",\"14\",\"8\",null,\"82\",null,\"1\",null,\"22\",\"25\",null,\"68\",\"80\",\"50\",\"72\",\"86\",null,\"61\",\"52\",\"93\",\"93\",\"85\",\"39\",null,null,\"50\",\"2\",\"80\",\"53\",null,null,\"81\",\"83\",\"53\",\"76\",\"42\",\"96\",\"51\",\"94\",\"88\",null,\"73\",\"65\",\"82\",\"86\",\"67\",\"82\",\"64\",null,\"49\",\"81\",\"55\",\"65\",\"66\",\"93\",null,\"82\",\"15\",\"45\",\"52\",\"17\",\"6\",\"18\",\"75\",null,null,\"70\",null,\"51\",null,null,\"72\",\"89\",null,\"61\",\"57\",null,\"69\",null,null,\"76\",\"69\",null,\"34\",null,null,null,\"39\",\"100\",null,\"87\",null,\"100\",null,\"89\",\"8\",\"92\",\"79\",\"89\",\"59\",\"24\",\"18\",\"92\",\"87\",\"82\",\"67\",null,null,\"9\",\"47\",\"88\",\"83\",\"97\",\"94\",\"73\",\"47\",\"68\",null,\"89\",\"97\",null,\"96\",\"92\",null,\"88\",\"100\",null,\"23\",\"95\",\"89\",\"61\",\"85\",\"86\",\"45\",\"53\",\"73\",\"80\",\"48\",\"65\",\"56\",\"79\",\"76\",\"84\",\"85\",\"100\",null,\"86\",\"71\",\"34\",null,\"21\",\"79\",null,\"75\",\"80\",null,\"87\",\"72\",null,\"56\",null,null,\"65\",null,\"97\",\"80\",\"93\",\"93\",\"56\",\"14\",\"76\",\"63\",\"99\",\"98\",\"34\",\"66\",\"99\",\"97\",null,\"96\",\"82\",null,null,null,null,\"69\",\"38\",\"67\",null,\"79\",\"81\",\"73\",\"50\",\"76\",\"96\",\"38\",\"63\",null,null,\"51\",null,null,\"100\",\"76\",\"96\",\"79\",\"77\",\"98\",\"78\",null,\"41\",\"97\",\"66\",null,\"62\",\"91\",\"66\",\"10\",\"95\",\"64\",\"1\",null,null,null,null,\"1\",\"70\",\"84\",\"78\",\"71\",\"87\",\"63\",\"78\",\"82\",\"48\",\"20\",\"7\",null,null,\"65\",null,\"97\",\"56\",\"1\",\"33\",null,\"73\",\"87\",\"83\",null,\"100\",\"88\",\"79\",\"88\",\"97\",\"75\",null,\"75\",null,\"63\",\"93\",\"89\",\"87\",null,\"58\",\"98\",\"67\",null,null,null,\"79\",\"93\",\"89\",\"61\",\"84\",null,\"79\",\"40\",\"75\",\"88\",\"74\",null,null,\"55\",\"89\",\"69\",null,\"69\",\"32\",\"32\",\"84\",null,\"76\",null,\"65\",\"100\",\"100\",\"41\",\"74\",\"87\",\"90\",\"64\",null,\"86\",null,\"47\",\"81\",\"87\",null,\"94\",\"51\",null,null,\"98\",null,\"98\",\"23\",\"100\",\"97\",\"97\",\"75\",\"99\",\"99\",null,\"92\",\"97\",null,\"100\",\"100\",\"90\",\"72\",\"56\",null,\"83\",\"33\",\"94\",null,\"73\",\"99\",\"95\",\"35\",\"58\",\"62\",\"92\",\"97\",\"42\",\"67\",null,\"82\",\"94\",\"100\",\"85\",\"78\",\"88\",\"96\",\"37\",\"50\",\"100\",null,null,\"100\",\"90\",\"27\",\"90\",\"100\",\"55\",\"100\",\"99\",\"22\",\"100\",\"100\",\"70\",\"67\",\"26\",\"93\",\"62\",\"61\",\"71\",\"100\",null,\"100\",\"95\",\"25\",null,\"82\",\"93\",null,null,\"94\",null,\"98\",\"57\",\"99\",\"96\",null,\"34\",\"93\",\"100\",\"98\",\"76\",\"100\",\"100\",\"98\",\"63\",\"99\",\"95\",null,null,null,\"93\",\"47\",\"84\",\"100\",null,null,null,\"98\",\"35\",\"74\",null,null,\"44\",\"97\",null,\"100\",\"91\",null,\"91\",\"19\",\"16\",\"69\",\"99\",\"94\",\"99\",\"56\",\"30\",\"89\",\"92\",\"83\",\"62\",null,\"97\",\"20\",\"71\",null,\"100\",\"100\",\"14\",\"55\",\"95\",\"7\",\"99\",\"100\",\"100\",\"98\",\"100\",\"98\",\"97\",\"95\",\"100\",\"87\",null,\"91\",\"62\",\"9\",\"77\",\"100\",null,\"84\",\"89\",\"99\",null,null,\"98\",\"98\",\"100\",\"58\",\"100\",\"98\",\"96\",\"99\",\"99\",null,\"80\",\"70\",\"99\",\"72\",\"37\",\"100\",\"98\",\"98\",\"100\",\"99\",\"77\",\"100\",\"1\",\"88\",null,\"99\",\"69\",\"84\",null,\"100\",\"99\",null,null,null,null,null,null,null,null,null,null,null,null,null,null],\"xaxis\":\"x\",\"y\":[249.98,295.86,2089.28,286.43,505.01,301.81,176.14,221.51,392.16,151.12,691.26,740.97,328.23,648.62,511.39,181.38,433.86,802.89,273.02,349.32,1265.29,1699.45,90.01,388.04,9.13,256.57,328.63,128.44,157.77,215.0,3.93,16870.98,311.84,31.47,130.56,83.86,247.85,45.43,295.33,66.48,33.26,35.36,584.31,59.19,2451.58,134.38,227.18,144.79,199.95,162.39,152.76,146.34,171.64,87.98,1727.11,609.1,67.06,430.84,262.75,481.97,39.06,138.85,526.85,607.41,344.2,804.2,617.52,101.83,6.11,490.73,29.04,674.09,48.76,152.14,191.2,78.85,243.23,34.14,44.32,133.58,127.29,443.73,89.02,142.39,429.12,1990.5,176.75,46.26,228.4,74.33,866.23,222.02,204.08,61.21,100.46,104.26,129.39,222.78,422.39,2055.82,49.58,723.47,231.53,66.3,8145.52,83.7,51.11,362.82,69.44,297.43,35.78,369.14,272.85,59.34,48.99,309.6,225.69,3.0,338.16,175.77,208.26,28.27,892.63,96.43,27.39,1246.55,388.37,16.81,748.55,162.41,92.91,279.35,1638.46,4906.33,9.63,10734.57,193.94,145.31,72.88,469.57,49.09,84.57,149.93,57.21,254.87,433.6,50.52,59.63,23.8,101.41,661.04,1060.13,639.39,780.84,301.76,377.27,44.22,26.39,68.24,68.19,149.27,172.58,398.19,313.3,359.11,170.51,100.26,26.19,563.25,229.25,222.19,275.54,130.73,51.67,31.97,213.23,70.15,318.97,171.52,46.56,26.1,139.72,231.32,218.53,627.87,287.32,546.65,175.95,429.27,380.37,298.61,216.24,70.17,89.47,198.34,209.41,119.03,30.86,49.12,6.09,168.88,72.42,176.43,91.13,141.95,103.97,46.03,208.79,384.27,24.91,741.3,78.92,355.05,530.66,1084.79,337.97,2573.75,162.45,116.03,48.65,21.51,40.46,70.47,156.67,224.36,588.9,1510.85,530.18,193.72,36.61,131.4,65.2,51.14,1468.5,318.08,18.03,202.99,793.05,74.83,48.54,20.98,316.2,185.03,147.75,525.78,216.43,135.23,33.17,31.72,92.92,100.65,281.55,44.48,418.9,328.83,249.09,130.69,201.15,147.49,456.22,530.59,243.66,114.14,13.86,117.11,5.32,236.9,5.44,30.27,21.36,39.47,374.92,35.8,42.03,38.59,33.06,93.23,32.73,454.49,349.07,1268.87,20.86,326.18,40.47,269.71,849.83,22.57,61.93,29.53,632.4,94.64,3995.45,726.96,122.68,69.59,74.1,587.16,1019.53,23.81,25.32,24.35,477.87,77.99,163.83,22.44,1032.63,277.98,45.47,121.98,41.8,80.32,47.94,110.46,10.24,226.43,237.39,553.27,158.92,34.9,27.17,37.74,94.47,85.01,1623.34,53.57,17.17,32.22,120.24,8.15,413.35,3.25,25.58,33.18,53.25,2.8,237.36,59.21,42.65,76.68,10.72,3.62,46.93,28.63,6.32,38.48,204.81,152.71,32.02,74.31,142.36,414.43,272.54,54.92,190.61,38.55,90.24,49.17,85.28,262.45,247.35,33.85,42.25,63.89,35.8,129.29,293.55,46.49,44.35,22.1,57.73,58.88,49.28,33.22,34.0,58.67,611.19,295.48,91.1,1156.45,45.22,23.86,49.9,107.83,22.12,65.3,49.74,107.16,20.29,39.5,64.0,640.71,406.02,365.79,39.47,8.73,25.74,306.5,19.73,134.69,19.89,76.8,26.04,24.89,130.31,99.59,13.28,31.58,65.56,132.6,74.18,15.65,30.5,16.48,41.18,18.74,190.1,7.37,138.35,20.18,67.78,182.14,180.76,445.62,98.43,47.25,810.7,100.42,49.25,42.74,33.41,59.75,477.85,58.43,67.29,25.3,692.12,734.72,185.39,481.06,17.28,40.38,94.74,130.32,357.39,282.46,21.37,23.48,35.56,310.19,530.62,58.52,116.95,270.17,111.69,138.39,36.49,30.61,98.54,357.86,60.7,55.73,177.62,5.59,54.78,103.57,116.74,88.74,70.09,119.81,8.8,50.17,47.39,97.82,69.02,119.46,157.48,7.08,95.86,75.29,19.86,155.74,48.5,178.62,34.14,67.65,168.5,25.37,293.56,33.58,86.9,710.7,61.86,38.21,47.82,314.43,1154.79,68.06,65.03,260.13,119.93,147.82,246.83,346.62,1921.82,882.56,110.7,582.28,109.85,324.25,150.88,133.8,27.82,54.4,20.12,426.39,639.72,132.71,119.03,41.8,13.72,169.06,264.78,89.41,9.31,31.43,390.67,94.59,51.56,30.35,73.58,179.45,89.94,111.23,46.52,152.28,60.92,13.61,75.12,1.06,131.64,89.53,158.55,119.92,195.43,166.13,99.14,455.39,29.16,67.51,74.45,24.12,4.22,4.2,106.12,95.03,79.39,110.41,20.94,69.3,27.24,12307.16,406.04,20.85,133.5,54.18,14.49,453.76,341.23,278.97,7.56,284.01,295.12,109.71,259.49,13.07,189.85,134.82,16.27,267.0,13.51,49.29,128.73,5.03,8.14,25.6,4.85,343.68,12.15,6.02,65.25,4.75,31.74,95.26,62.17,60.18,30.52,11.29,24.39,276.63,17.87,101.5,3.91,36.02,63.86,44.01,38.9,16.11,13.23,43.84,4.74,53.21,3.18,6.72,25.6,4.58,19.01,21.69,122.83,86.46,3.58,77.04,2.41,2.57,4.16,43.2,416.07,4.43,21.93,62.46,16.01,22.65,37.78,9.77,9.47,130.28,50.55,113.91,106.77,30.41,6.74,28.47,66.44,6.1,18.6,29.04,29.33,29.71,50.46,69.57,80.47,29.84,169.75,7.77,16.58,132.47,17.02,5.71,3.99,4.43,2.7,63.48,4.29,7.02,51.58,207.6,29.62,141.2,374.56,18.5,9.82,42.19,63.36,138.03,6.43,52.25,54.59,25.24,19.83,24.02,31.76,7.13,3.95,43.8,154.4,9.58,32.51,6.87,54.53,4.52,3.88,5.81,11.7,11.6,6.22,39.57,9.81,4.8,15.27,82.9,6.33,49.58,38.97,18.1,11.68,154.17,29.54,7.1,79.21,25.21,14.22,93.87,9.95,6.16,24.25,15.24,13.87,8.68,14.63,28.81,40.28,47.84,60.43,33.78,16.63,154.89,2.92,66.29,151.36,369.68,25.41,174.99,23.27,6.75,47.32,12.95,41.69,126.78,594.48,1266.06,11.14,24.48,100.71,26.78,4.77,10.83,7.28,99.44,86.02,78.36,25.12,103.18,5.18,26.09,27.27,98.59,658.76,30.33,72.78,30.6,23.82,165.86,12.74,56.63,93.68,3.63,73.2,9.29,35.2,9.65,4.33,4.84,36.43,86.66,4.01,10.34,9.66,14.83,26.89,5.62,16.47,19.65,15.43,4.22,13.91,3.95,47.12,63.61,28.41,47.66,184.8,17.67,46.57,101.99,40.38,25.2,66.82,126.44,74.92,126.3,99.15,332.85,137.94,119.63,43.03,25.39,9.57,32.64,303.36,36.28,6.91,33.23,34.98,6.64,64.51,200.3,122.99,79.58,8.45,38.87,6.49,4.86,262.98,5.35,32.22,6.39,67.23,4.16,23.59,9.48,218.2,7.87,5.19,155.54,6.69,37.31,4.2,3.56,13.44,4.14,8.14,87.31,4.39,5.67,4.8,4.99,4.32,4.43,4.08,4.76,6.18,15.97,21.97,63.68,118.37,59.61,89.57,4.96,5.46,4.92,26.21,5.66,13.14,39.49,21.55,51.28,7.98,8.64,43.57,52.09,4.35,6.61,11.18,24.51,20.09,202.65,19.76,4.23,3.24,7.08,5.95,3.41,10.77,20.08,355.8,23.15,16.67,26.11,4.04,131.87,15.11,33.37,49.98,0.63,120.91,145.48,63.41,19.07,122.59,130.58,15.9,185.23,89.29,43.45,35.04,188.67,71.55,100.21,13.29,128.91,210.3,34.15,6.33,4.28,73.31,50.43,8.61,7.62,1.86,178.46,134.57,69.15,17.68,261.09,10.75,43.13,12.61,15.68,13.16,33.92,147.0,9.93,25.93,9.99,12.48,5.17,19.93,19.82,13.02,19.04,46.75,63.06,10.05,40.51,0.82,8.1,5.51,3.89,1.73,11.28,247.85,37.2,83.1,93.83,6.9,74.33,5.29,4.15,1.7,61.71,46.64,65.65,10.75,39.05,104.91,4.78,1.67,50.31,94.98,5.28,31.6,4.83,15.35,71.99,67.52,28.58,61.53,88.89,10.89,82.87,32.33,33.92,35.26,199.79,92.58,47.7,90.31,29.82,7.91,47.59,19.76,101.96,28.44,408.82,127.74,551.53,9.67,18.85,8.64,61.46,6.08,6.94,11.54,115.56,20.73,6.52,8.7,2.52,6.18,17.26,32.8,81.82,10.44,51.91,4.27,23.59,8.97,8.2,39.5,72.26,11.27,534.88,6.7,480.9,15.47,68.14,29.97,16.99,100.02,32.63,106.45,51.13,3.95,68.97,29.41,16.33,235.26,3.06,348.22,10.26,8.85,3.16,64.81,45.79,81.96,1.55,3.73,18.16,3.54,14.49,10.74,62.83,28.09,264.43,4.95,312.13,3.34,60.29,13.71,36.92,27.93,221.1,46.48,82.38,195.71,1216.05,149.91,94.85,148.55,188.58,60.88,110.17,25.53,9.0,42.04,8.47,25.02,30.32,66.53,9.46,73.52,18.34,27.47,82.34,5.41,44.71,16.06,7.49,23.85,38.12,11.29,16.13,19.39,8.49,30.02,28.6,336.73,32.99,66.19,12.49,4.76,127.1,234.6,49.58,40.22,20.78,15.9,122.73,10.36,32.86,12.35,515.85,10.12,176.79,13.01,36.74,173.94,45.33,59.06,61.98,180.38,65.02,79.58,17.12,8.8,8.89,12.77,12.59,4.12,12.19,104.61,72.37,31.24,13.89,10.75,23.74,23.78,40.76,26.38,247.97,55.71,20.76,20.9,48.35,9.3,73.61,38.85,32.47,101.34,94.02,159.98,74.64,46.6,14.04,479.7,71.23,21.66,79.81,12.72,106.73,709.11,69.54,8.54,85.55,107.45,6.07,462.4,60.04,55.61,123.41,295.38,8.53,170.83,37.34,1.12,31.61,34.87,16.57,73.0,82.72,35.77,487.53,32.09,73.48,184.09,161.15,20.64,255.83,24.62,192.12,523.95,41.06,13.97,77.8,234.03,3.77,86.51,13.33,47.68,3.94,241.75,60.59,119.34,44.33,8.77,77.48,1148.5,98.28,13.43,94.01,26.34,218.79,44.89,348.21,110.73,14.05,11.97,17.14,12.98,143.34,34.16,38.51,45.81,72.5,14.13,75.99,82.92,2.01,125.13,12.64,22.46,41.22,182.81,34.02,4.69,3.04,193.47,220.26,10.73,75.25,30.22,39.35,4.05,52.74,77.76,6.13,422.45,115.43,15.17,3.69,8.18,6.26,120.6,8.25,3.54,22.53,35.96,55.95,4.83,11.87,6.84,10.38,2.27,167.98,111.73,20.12,5.97,12.25,7.34,20.9,117.19,4.21,77.16,21.55,75.58,7.07,7.57,4.13,14.45,26.27,139.73,4.53,25.36,74.42,10.82,42.1,56.62,11.53,5.5,5.49,43.19,57.69,37.72,54.44,13.27,44.93,35.39,3.49,96.4,39.1,95.5,45.11,4.38,5.91,6.59,62.19,260.38,92.45,4.45,4.42,86.81,102.04,52.57,54.86,73.26,12.18,16.87,71.15,201.31,9.58,123.23,913.07,32.13,207.71,4.7,3.71,4.77,5.66,6.35,671.55,225.66,27.97,9.42,15.62,18.63,2.64,26.55,7.59,118.41,22.56,7.22,14.3,13.18,18.54,6.44,5.63,5.55,16.72,7.96,6.63,109.46,6.84,11.84,240.39,509.36,7.48,6.79,203.73,474.86,1.85,21.08,7.61,4.72,103.28,23.9,80.09,32.77,24.88,135.81,6.99,49.62,5.97,27.41,53.73,49.73,225.67,26.46,3.98,285.62,372.55,5.08,43.52,8.99,173.23,17.3,15.11,423.51,17.38,3.95,5.44,281.47,300.11,52.04,3243.48,34.0,64.88,0.81,61.19,186.65,12.37,4.39,175.27,44.61,192.63,27.27,6.12,11.84,215.56,173.75,57.03,55.3,25.09,46.9,50.0,6.46,7.33,60.34,208.53,4.86,7.07,384.85,45.38,38.86,78.22,5.24,102.73,5.53,6.85,6.33,71.87,279.21,43.6,38.52,6.18,4.84,6.61,13.14,163.74,3.65,14.22,5.06,28.3,8.3,10.08,9.29,9.25,21.32,12.15,4.2,15.22,6.89,21.24,6.37,4.3,36.77,29.24,13.29,31.79,4.46,11.79,237.54,3.13,8.42,14.9,34.26,1.55,9.03,37.49,7.55,3.87,46.44,5.87,59.84,0.68,0.4,9.36,3.72,102.3,4.58,14.81,11.08,5.94,5.07,6.3,10.93,3.08,5.46,1.68,7.82,175.3,303.81,21.69,34.52,16.67,17.39,6.06,60.67,19.7,3.63,14.83,30.49,8.42,6.18,309.14,44.26,8.46,33.28,30.49,5.45,128.66,5.33,29.66,45.6,18.11,30.13,17.08,67.45,8.97,12.24,42.87,28.28,25.12,6.52,4.08,5.02,6.05,5.58,5.01,5.75,19.23,121.9,30.34,375.56,8.44,36.09,31.04,4.18,17.12,82.57,101.76,9.51,15.88,66.93,17.24,4.26,26.31,3.01,4.46,44.28,4.92,63.45,33.42,0.86,80.19,135.11,9.06,8.16,3.85,42.96,3.85,52.41,39.57,55.85,32.58,184.6,11.39,3278.11,13.55,3.96,53.21,4.09,78.29,3.5,129.89,22.29,117.79,18.72,4.51,5.47,44.6,8.14,4.35,5.42,11.87,14.81,3238.24,3.04,96.15,122.71,305.05,2.54,6.31,5.8,2.19,43.63,12.09,19.12,11.24,50.55,12.2,5.03,4.6,8.1,7.09,67.24,8.1,76.67,4.52,5.2,6.08,44.4,109.55,32.35,60.94,86.86,5.03,3.95,2.93,326.74,2.28,7.74,53.61,3.77,4.56,179.55,23.6,2.25,349.55,78.42,128.54,567.6,85.78,97.4,48.08,235.32,114.33,5.81,184.0,9.79,5.79,132.1,259.77,56.7,12.97,8.33,712.39,1110.07,62.23,18.95,26.41,21.55,30.86,38.39,26.33,2.86,99.39,3.7,13.74,2.69,44.26,4.91,13.09,4.21,39.77,294.65,4.39,351.53,3.44,37.65,21.24,62.05,112.34,125.42,101.31,146.93,46.45,110.66,32.04,11.88,5.07,5.82,44.51,4.6,14.51,7.13,34.62,24.26,6.19,80.15,24.93,4.55,4.2,42.1,9.16,3.74,4.74,24.31,6.85,145.21,250.84,8.08,22.26,16.13,4.73,4.68,38.41,6.28,334.15,38.57,114.63,91.53,4.94,5.93,4.67,6.26,19.43,34.3,5.46,34.48,6.03,8.3,4.72,5.5,12.13,17.89,4.81,11.71,25.59,7.07,45.08,5.37,15.7,61.25,138.31,25.47,41.15,5.31,75.13,58.85,68.8,63.14,9.36,4.27,8.42,184.51,41.13,10.92,8.57,4.74,6.15,5.53,14.35,33.8,565.55,28.19,10.43,60.5,9.68,27.69,52.79,3.38,59.24,11.51,37.54,10.17,30.78,11.17,17.57,4.65,13.91,44.19,7.21,7.83,44.97,26.73,13.12,54.67,13.7,178.86,61.3,5.46,88.58,55.86,80.06,88.1,6.16,16.04,60.57,22.29,24.76,4.98,14.36,3.07,39.57,18.95,6.04,18.87,79.53,151.95,6.43,3.52,17.41,5.7,7.85,18.34,290.88,77.23,3.53,25.13,4.95,7.56,10.01,37.51,128.41,19.56,109.59,50.07,178.97,19.7,14.84,13.67,25.09,40.96,91.53,218.99,42.45,7.21,54.24,13.05,19.51,37.08,9.26,10.65,10.95,22.48,8.07,174.62,67.05,3.8,17.48,6.56,6.87,27.7,149.53,5.57,19.61,8.85,22.93,51.1,17.04,2.91,83.3,33.1,28.37,21.5,157.07,4.48,178.35,102.35,13.87,12.92,7.31,4.13,59.7,312.6,7.15,5.74,4.29,5.53,3.64,12.22,4.51,5.76,18.03,9.71,405.05,1.14,12.55,5.09,25.77,40.85,3.45,8.7,40.94,95.93,17.29,15.35,51.27,40.01,40.42,59.0,4.52,39.61,39.75,160.8,15.87,5.35,3.48,71.16,17.83,5.93,5.82,9.99,6.56,6.42,3.67,5.62,6.41,14.65,18.5,10.68,3.44,61.21,27.14,17.51,42.73,38.87,60.12,2.82,9.25,16.5,46.16,5.72,24.91,3.5,43.64,6.28,7.26,5.41,38.38,12.89,19.69,3.73,93.5,30.99,8.44,17.87,6.08,5.26,73.14,3.23,17.92,18.42,4.71,45.58,4.74,28.66,3.65,3.72,9.29,8.22,43.17,19.88,7.27,27.92,41.96,64.35,20.3,14.7,4.11,57.25,9.76,18.91,5.0,31.94,7.35,19.77,18.87,75.64,28.89,103.19,6.35,18.04,65.77,69.88,26.52,49.18,46.85,23.5,78.57,7.74,219.93,4.72,34.04,1.51,4.33,7.24,75.12,260.32,18.9,60.53,7.22,13.16,158.63,10.98,26.76,8.45,41.77,175.53,124.4,43.18,64.75,59.14,39.05,11.18,77.75,94.3,94.69,85.15,77.56,21.46,29.88,34.75,9.11,5.94,112.82,6.46,17.6,26.27,27.68,12.17,6.3,1.46,7.49,66.77,106.35,7.98,92.7,2.15,7.05,8.46,11.94,61.68,110.42,61.6,30.79,18.95,35.48,37.61,61.18,12.05,286.89,152.14,11.44,147.24,14.17,50.7,18.87,36.89,31.43,145.27,3.96,15.26,59.05,6.01,3.99,92.3,1.6,17.45,27.83,4.02,11.73,96.62,23.62,9.65,9.89,33.52,82.07,5.21,48.3,131.69,16.16,178.21,0.79,32.89,4.62,292.8,4.49,18.97,0.75,22.62,58.36,6.18,4.2,28.55,2.94,10.05,25.15,39.25,14.99,6.64,4.31,52.73,413.1,6.27,6.0,54.27,2.86,47.08,44.97,23.83,20.02,28.05,43.68,89.72,11.69,42.24,13.22,5.04,13.39,256.31,31.54,51.15,8.04,3.41,27.75,42.66,1.6,9.67,44.68,2.94,422.31,263.37,32.44,298.91,14.37,23.52,23.84,17.75,5.69,8.49,17.11,71.71,226.81,20.67,57.59,20.39,9.63,6.68,79.3,85.27,28.7,78.19,30.26,3.77,8.38,6.85,2.76,5.09,4.02,28.78,70.14,41.96,4.5,22.72,30.12,10.43,144.45,7.78,18.42,6.3,45.14,120.72,49.53,5.15,121.27,24.32,7.9,8.28,111.96,17.39,67.98,47.64,10.06,102.04,17.73,42.23,84.95,104.51,4.62,3.94,3.75,449.59,3.63,8.27,8.21,28.83,5.65,6.99,232.1,73.48,588.25,3768.66,65.56,4.15,14.64,10.65,17.22,125.59,1.24,36.82,5.86,7.11,61.86,3.9,23.9,7.28,18.65,36.15,27.93,6.02,37.18,5.42,22.81,7.1,7.03,3.92,66.1,269.03,3.27,120.24,10.9,29.44,283.04,28.64,21.44,4.55,40.05,106.37,281.25,9.92,18.58,3.11,55.83,14.86,7.47,6.02,8.89,5.67,5.54,66.05,7.54,21.57,18.07,97.27,515.71,116.94,101.21,10.99,7.86,5.88,3.43,198.59,28.83,64.04,13.09,110.02,34.62,7.08,5.78,128.22,66.32,117.64,3.4,33.5,11.85,122.0,14.35,42.52,46.53,223.36,57.11,18.76,7.05,50.05,3.25,22.09,20.66,4.2,3.65,6.74,12.27,4.01,6.42,4.63,4.95,105.87,70.31,23.15,9.24,38.58,3.41,61.18,2.74,6.53,15.9,7.56,136.94,75.07,8.61,34.08,124.59,13.69,63.81,69.53,25.53,2.88,9.29,17.79,2.35,20.76,18.19,100.49,2.9,7.36,35.4,6.52,85.88,190.45,59.08,29.21,25.14,7.71,25.44,229.55,4.44,19.04,49.7,183.79,120.1,5.66,10.29,65.05,48.62,4.43,11.77,2.67,11.26,58.82,14.21,64.46,5.57,70.29,99.42,7.24,37.17,65.89,8.61,26.56,17.41,56.96,10.37,96.28,23.68,220.86,18.2,47.26,19.31,4.02,15.34,45.33,9.73,3.54,10.31,4.19,4.67,5.4,10.55,11.99,95.38,10.32,393.07,9.7,16.47,22.94,120.86,37.28,16.89,62.51,861.85,792.6,4.74,59.86,4.24,3.88,4.5,393.29,51.26,63.23,3.78,88.0,22.38,28.04,54.02,89.49,3.82,49.79,4.31,42.93,3.63,11.54,6.53,3.81,18.81,58.79,29.22,60.08,5.45,5.74,6.45,48.16,35.36,5.0,4.09,55.06,8.82,6.41,91.69,28.07,27.71,80.06,121.63,17.31,4.76,59.18,105.99,96.15,32.02,10.01,10.04,9.49,55.63,3.91,34.03,4.15,68.89,38.59,717.93,52.0,7.56,51.24,56.18,8.53,6.9,8.48,84.01,35.99,25.11,160.79,117.47,4.79,43.9,25.37,4.6,20.5,90.53,58.52,58.24,7.23,22.33,39.65,46.01,111.34,144.3,59.76,90.17,48.95,12.57,4.13,166.43,119.99,37.84,72.86,6.38,5.68,9.65,203.21,5.63,4.32,13.95,70.92,4.78,19.15,16.07,5.02,3.71,4.24,26.54,1.59,41.88,51.62,20.88,53.87,23.22,11.02,38.21,87.41,49.59,5.08,4.36,23.42,46.67,15.11,6.61,5.51,320.96,94.22,48.13,69.2,226.73,4.52,16.76,95.77,58.79,3.98,4.67,4.13,4.02,27.47,5.16,7.67,156.18,60.47,8.09,7.16,865.48,14.37,231.75,7.46,80.47,38.97,33.26,43.21,3.29,9.72,4.76,3.82,18.62,43.91,185.33,7.07,108.79,19.81,46.14,13.08,37.43,53.88,3.97,47.03,4.29,3.92,4.52,29.39,28.46,6.7,14.79,3.78,60.93,7.69,26.94,35.72,105.97,393.2,66.69,7.52,10.92,399.73,96.59,60.32,6.84,173.67,94.23,11.18,13.65,6.57,5.77,12.85,37.51,7.87,299.38,85.22,12.06,86.5,22.89,151.91,6.76,15.25,20.96,12.46,3.18,6.24,4.17,93.44,32.42,20.78,9.2,48.91,53.25,161.39,4.55,5.87,47.02,70.4,5.94,145.97,10.04,141.88,6.73,26.48,22.63,7.31,11.42,14.82,63.34,34.61,3.28,4.24,63.21,42.71,4.45,7.53,3.44,65.95,53.65,48.45,6.96,81.24,249.46,104.74,55.23,32.81,5.07,19.68,96.2,56.25,6.64,8.38,136.07,404.21,91.49,58.59,78.36,11.09,39.4,29.7,27.06,60.83,229.2,41.65,30.45,29.56,358.57,19.84,5.36,43.28,63.87,19.28,14.1,4.64,8.12,8.93,29.93,12.98,50.57,2489.78,4.73,14.26,9.65,34.39,3.92,19.14,46.61,20.46,11.38,38.36,14.05,92.52,3.22,57.33,35.65,206.33,7.39,93.55,35.6,4.14,367.3,35.36,96.2,109.72,6.41,20.21,9.05,49.55,89.29,8.95,10.81,31.47,21.74,9.13,26.87,4.59,77.12,19.61,63.57,6.84,126.53,5.23,74.92,13.1,6.57,3.45,3.07,3.26,15.48,6.41,8.4,7.46,30.85,22.24,12.96,41.7,102.6,10.01,5.97,3.9,8.7,187.97,16.43,5.91,16.4,11.77,103.07,6.74,108.31,364.27,38.18,58.09,3.95,6.0,25.14,101.8,7.83,51.89,19.1,11.1,53.52,46.72,4.14,9.48,6.73,2.94,37.97,45.44,4.92,2.62,29.39,6.88,3.06,7.97,15.58,100.43,67.15,3.56,0.89,17.65,14.19,2.82,77.84,65.05,41.51,3.54,3.72,314.92,26.47,6.5,4.35,4.02,13.27,70.11,3.3,22.83,21.87,9.56,65.27,4.8,3.42,4.35,10.87,7.37,9.43,5.61,14.77,3.31,139.27,28.61,20.76,18.01,42.57,286.33,423.57,5.19,4.15,4.71,3.85,5.37,11.29,8.1,5.14,5.88,8.66,8.29,5.91,5.38,5.79,4.72,5.28,2.45,67.33,62.94,4.8,15.5,26.67,5.21,3.9,6.49,9.25,9.4,21.51,115.34,5.73,53.02,338.58,4.8,9.09,128.07,28.79,59.74,25.37,83.65,46.32,88.11,101.43,53.35,5.09,0.87,23.51,104.33,4.15,111.04,7.31,16.3,59.53,13.34,27.04,11.32,63.22,4.04,55.73,51.2,39.31,51.14,6.93,118.45,54.02,5.38,18.02,3.95,150.23,10.61,70.39,64.86,4.87,5.21,16.31,7.12,49.58,127.05,30.14,24.97,2.85,4.76,99.26,4.71,3.96,103.42,31.54,75.95,58.87,6.54,68.39,43.97,4.96,66.43,47.92,23.63,119.76,43.04,67.96,5.07,17.61,8.33,7.47,6.41,12.06,22.18,5.07,9.29,458.44,38.71,255.97,66.7,3.39,39.75,17.97,8.59,402.04,132.7,49.44,7.8,3.56,3.78,3.92,28.78,106.86,26.37,102.54,156.45,21.05,13.85,122.7,30.35,92.07,159.8,144.57,61.62,273.91,111.62,120.92,58.44,29.18,89.8,441.94,70.46,27.56,81.18,176.75,72.02,24.82,193.36,7.21,5.38,83.45,48.85,137.66,295.42,12.43,3.63,236.05,37.83,391.7,32.72,145.11,30.03,28.85,4.01,270.63,6.98,6.64,4.49,34.22,303.69,186.16,154.39,11.4,66.37,5.87,139.12,11.91,5.51,21.37,155.47,90.73,53.12,158.6,2549.47,47.14,537.03,30.78,94.63,376.57,163.19,9.46,35.43,15.5,100.59,549.11,95.26,4.64,619.9,170.98,65.19,175.46,191.97,39.88,38.17,80.27,12.56,38.92,1597.56,542.74,87.18,287.57,99.65,1789.69,123.15,6.93,8.65,73.39,144.41,325.94,76.5,54.04,122.35,16.82,352.77,147.84,24.54,57.59,9.95,290.57,68.98,1088.25,0.0,47.93,161.23,23.14,6.04,251.43,24.7,9.86,51.59,176.88,9.5,49.26,20.1,5.47,57.59,24.38,8.63,77.29,138.79,20.58,21.18,67.17,184.81,17.81,22.76,142.48,54.98,809.76,14.04,42.2,75.96,30.72,8.36,124.68,16.13,280.35,52.55,265.63,77.99,93.31,197.27,62.23,46.79,22.23,181.67,65.35,107.29,38.13,457.51,23.37,221.47,130.6,107.51,29.4,74.3,1280.81,68.04,7.49,6330.91,190.05,58.28,82.58,167.48,10.8,159.16,16.1,51.39,103.65,437.2,48.53,62.41,213.7,43.06,28.94,18.9,4.32,691.57,175.44,42.81,17.77,9.91,59.33,184.15,127.53,9.76,17.8,34.11,9.71,123.99,33.09,64.39,30.41,40.99,172.46,49.89,12.18,27.71,22.5,4.81,115.73,163.02,65.01,9.0,8.11,134.8,86.99,238.78,214.19,63.87,50.32,147.14,4.38,91.98,202.12,74.88,165.61,8.7,40.25,245.16,31.46,14.83,71.96,395.26,5.46,6.74,50.23,131.02,157.7,51.26,12.21,124.18,86.25,103.37,9.24,205.52,31.55,28.08,75.62,54.76,467.9,15.07,1000.06,96.9,18.88,22.17,4.44,29.18,23.0,14.37,24.73,216.18,259.22,60.81,20.33,32.17,223.54,22.11,41.27],\"yaxis\":\"y\",\"type\":\"scattergl\"}],                        {\"template\":{\"data\":{\"histogram2dcontour\":[{\"type\":\"histogram2dcontour\",\"colorbar\":{\"outlinewidth\":0,\"ticks\":\"\"},\"colorscale\":[[0.0,\"#0d0887\"],[0.1111111111111111,\"#46039f\"],[0.2222222222222222,\"#7201a8\"],[0.3333333333333333,\"#9c179e\"],[0.4444444444444444,\"#bd3786\"],[0.5555555555555556,\"#d8576b\"],[0.6666666666666666,\"#ed7953\"],[0.7777777777777778,\"#fb9f3a\"],[0.8888888888888888,\"#fdca26\"],[1.0,\"#f0f921\"]]}],\"choropleth\":[{\"type\":\"choropleth\",\"colorbar\":{\"outlinewidth\":0,\"ticks\":\"\"}}],\"histogram2d\":[{\"type\":\"histogram2d\",\"colorbar\":{\"outlinewidth\":0,\"ticks\":\"\"},\"colorscale\":[[0.0,\"#0d0887\"],[0.1111111111111111,\"#46039f\"],[0.2222222222222222,\"#7201a8\"],[0.3333333333333333,\"#9c179e\"],[0.4444444444444444,\"#bd3786\"],[0.5555555555555556,\"#d8576b\"],[0.6666666666666666,\"#ed7953\"],[0.7777777777777778,\"#fb9f3a\"],[0.8888888888888888,\"#fdca26\"],[1.0,\"#f0f921\"]]}],\"heatmap\":[{\"type\":\"heatmap\",\"colorbar\":{\"outlinewidth\":0,\"ticks\":\"\"},\"colorscale\":[[0.0,\"#0d0887\"],[0.1111111111111111,\"#46039f\"],[0.2222222222222222,\"#7201a8\"],[0.3333333333333333,\"#9c179e\"],[0.4444444444444444,\"#bd3786\"],[0.5555555555555556,\"#d8576b\"],[0.6666666666666666,\"#ed7953\"],[0.7777777777777778,\"#fb9f3a\"],[0.8888888888888888,\"#fdca26\"],[1.0,\"#f0f921\"]]}],\"heatmapgl\":[{\"type\":\"heatmapgl\",\"colorbar\":{\"outlinewidth\":0,\"ticks\":\"\"},\"colorscale\":[[0.0,\"#0d0887\"],[0.1111111111111111,\"#46039f\"],[0.2222222222222222,\"#7201a8\"],[0.3333333333333333,\"#9c179e\"],[0.4444444444444444,\"#bd3786\"],[0.5555555555555556,\"#d8576b\"],[0.6666666666666666,\"#ed7953\"],[0.7777777777777778,\"#fb9f3a\"],[0.8888888888888888,\"#fdca26\"],[1.0,\"#f0f921\"]]}],\"contourcarpet\":[{\"type\":\"contourcarpet\",\"colorbar\":{\"outlinewidth\":0,\"ticks\":\"\"}}],\"contour\":[{\"type\":\"contour\",\"colorbar\":{\"outlinewidth\":0,\"ticks\":\"\"},\"colorscale\":[[0.0,\"#0d0887\"],[0.1111111111111111,\"#46039f\"],[0.2222222222222222,\"#7201a8\"],[0.3333333333333333,\"#9c179e\"],[0.4444444444444444,\"#bd3786\"],[0.5555555555555556,\"#d8576b\"],[0.6666666666666666,\"#ed7953\"],[0.7777777777777778,\"#fb9f3a\"],[0.8888888888888888,\"#fdca26\"],[1.0,\"#f0f921\"]]}],\"surface\":[{\"type\":\"surface\",\"colorbar\":{\"outlinewidth\":0,\"ticks\":\"\"},\"colorscale\":[[0.0,\"#0d0887\"],[0.1111111111111111,\"#46039f\"],[0.2222222222222222,\"#7201a8\"],[0.3333333333333333,\"#9c179e\"],[0.4444444444444444,\"#bd3786\"],[0.5555555555555556,\"#d8576b\"],[0.6666666666666666,\"#ed7953\"],[0.7777777777777778,\"#fb9f3a\"],[0.8888888888888888,\"#fdca26\"],[1.0,\"#f0f921\"]]}],\"mesh3d\":[{\"type\":\"mesh3d\",\"colorbar\":{\"outlinewidth\":0,\"ticks\":\"\"}}],\"scatter\":[{\"fillpattern\":{\"fillmode\":\"overlay\",\"size\":10,\"solidity\":0.2},\"type\":\"scatter\"}],\"parcoords\":[{\"type\":\"parcoords\",\"line\":{\"colorbar\":{\"outlinewidth\":0,\"ticks\":\"\"}}}],\"scatterpolargl\":[{\"type\":\"scatterpolargl\",\"marker\":{\"colorbar\":{\"outlinewidth\":0,\"ticks\":\"\"}}}],\"bar\":[{\"error_x\":{\"color\":\"#2a3f5f\"},\"error_y\":{\"color\":\"#2a3f5f\"},\"marker\":{\"line\":{\"color\":\"#E5ECF6\",\"width\":0.5},\"pattern\":{\"fillmode\":\"overlay\",\"size\":10,\"solidity\":0.2}},\"type\":\"bar\"}],\"scattergeo\":[{\"type\":\"scattergeo\",\"marker\":{\"colorbar\":{\"outlinewidth\":0,\"ticks\":\"\"}}}],\"scatterpolar\":[{\"type\":\"scatterpolar\",\"marker\":{\"colorbar\":{\"outlinewidth\":0,\"ticks\":\"\"}}}],\"histogram\":[{\"marker\":{\"pattern\":{\"fillmode\":\"overlay\",\"size\":10,\"solidity\":0.2}},\"type\":\"histogram\"}],\"scattergl\":[{\"type\":\"scattergl\",\"marker\":{\"colorbar\":{\"outlinewidth\":0,\"ticks\":\"\"}}}],\"scatter3d\":[{\"type\":\"scatter3d\",\"line\":{\"colorbar\":{\"outlinewidth\":0,\"ticks\":\"\"}},\"marker\":{\"colorbar\":{\"outlinewidth\":0,\"ticks\":\"\"}}}],\"scattermapbox\":[{\"type\":\"scattermapbox\",\"marker\":{\"colorbar\":{\"outlinewidth\":0,\"ticks\":\"\"}}}],\"scatterternary\":[{\"type\":\"scatterternary\",\"marker\":{\"colorbar\":{\"outlinewidth\":0,\"ticks\":\"\"}}}],\"scattercarpet\":[{\"type\":\"scattercarpet\",\"marker\":{\"colorbar\":{\"outlinewidth\":0,\"ticks\":\"\"}}}],\"carpet\":[{\"aaxis\":{\"endlinecolor\":\"#2a3f5f\",\"gridcolor\":\"white\",\"linecolor\":\"white\",\"minorgridcolor\":\"white\",\"startlinecolor\":\"#2a3f5f\"},\"baxis\":{\"endlinecolor\":\"#2a3f5f\",\"gridcolor\":\"white\",\"linecolor\":\"white\",\"minorgridcolor\":\"white\",\"startlinecolor\":\"#2a3f5f\"},\"type\":\"carpet\"}],\"table\":[{\"cells\":{\"fill\":{\"color\":\"#EBF0F8\"},\"line\":{\"color\":\"white\"}},\"header\":{\"fill\":{\"color\":\"#C8D4E3\"},\"line\":{\"color\":\"white\"}},\"type\":\"table\"}],\"barpolar\":[{\"marker\":{\"line\":{\"color\":\"#E5ECF6\",\"width\":0.5},\"pattern\":{\"fillmode\":\"overlay\",\"size\":10,\"solidity\":0.2}},\"type\":\"barpolar\"}],\"pie\":[{\"automargin\":true,\"type\":\"pie\"}]},\"layout\":{\"autotypenumbers\":\"strict\",\"colorway\":[\"#636efa\",\"#EF553B\",\"#00cc96\",\"#ab63fa\",\"#FFA15A\",\"#19d3f3\",\"#FF6692\",\"#B6E880\",\"#FF97FF\",\"#FECB52\"],\"font\":{\"color\":\"#2a3f5f\"},\"hovermode\":\"closest\",\"hoverlabel\":{\"align\":\"left\"},\"paper_bgcolor\":\"white\",\"plot_bgcolor\":\"#E5ECF6\",\"polar\":{\"bgcolor\":\"#E5ECF6\",\"angularaxis\":{\"gridcolor\":\"white\",\"linecolor\":\"white\",\"ticks\":\"\"},\"radialaxis\":{\"gridcolor\":\"white\",\"linecolor\":\"white\",\"ticks\":\"\"}},\"ternary\":{\"bgcolor\":\"#E5ECF6\",\"aaxis\":{\"gridcolor\":\"white\",\"linecolor\":\"white\",\"ticks\":\"\"},\"baxis\":{\"gridcolor\":\"white\",\"linecolor\":\"white\",\"ticks\":\"\"},\"caxis\":{\"gridcolor\":\"white\",\"linecolor\":\"white\",\"ticks\":\"\"}},\"coloraxis\":{\"colorbar\":{\"outlinewidth\":0,\"ticks\":\"\"}},\"colorscale\":{\"sequential\":[[0.0,\"#0d0887\"],[0.1111111111111111,\"#46039f\"],[0.2222222222222222,\"#7201a8\"],[0.3333333333333333,\"#9c179e\"],[0.4444444444444444,\"#bd3786\"],[0.5555555555555556,\"#d8576b\"],[0.6666666666666666,\"#ed7953\"],[0.7777777777777778,\"#fb9f3a\"],[0.8888888888888888,\"#fdca26\"],[1.0,\"#f0f921\"]],\"sequentialminus\":[[0.0,\"#0d0887\"],[0.1111111111111111,\"#46039f\"],[0.2222222222222222,\"#7201a8\"],[0.3333333333333333,\"#9c179e\"],[0.4444444444444444,\"#bd3786\"],[0.5555555555555556,\"#d8576b\"],[0.6666666666666666,\"#ed7953\"],[0.7777777777777778,\"#fb9f3a\"],[0.8888888888888888,\"#fdca26\"],[1.0,\"#f0f921\"]],\"diverging\":[[0,\"#8e0152\"],[0.1,\"#c51b7d\"],[0.2,\"#de77ae\"],[0.3,\"#f1b6da\"],[0.4,\"#fde0ef\"],[0.5,\"#f7f7f7\"],[0.6,\"#e6f5d0\"],[0.7,\"#b8e186\"],[0.8,\"#7fbc41\"],[0.9,\"#4d9221\"],[1,\"#276419\"]]},\"xaxis\":{\"gridcolor\":\"white\",\"linecolor\":\"white\",\"ticks\":\"\",\"title\":{\"standoff\":15},\"zerolinecolor\":\"white\",\"automargin\":true,\"zerolinewidth\":2},\"yaxis\":{\"gridcolor\":\"white\",\"linecolor\":\"white\",\"ticks\":\"\",\"title\":{\"standoff\":15},\"zerolinecolor\":\"white\",\"automargin\":true,\"zerolinewidth\":2},\"scene\":{\"xaxis\":{\"backgroundcolor\":\"#E5ECF6\",\"gridcolor\":\"white\",\"linecolor\":\"white\",\"showbackground\":true,\"ticks\":\"\",\"zerolinecolor\":\"white\",\"gridwidth\":2},\"yaxis\":{\"backgroundcolor\":\"#E5ECF6\",\"gridcolor\":\"white\",\"linecolor\":\"white\",\"showbackground\":true,\"ticks\":\"\",\"zerolinecolor\":\"white\",\"gridwidth\":2},\"zaxis\":{\"backgroundcolor\":\"#E5ECF6\",\"gridcolor\":\"white\",\"linecolor\":\"white\",\"showbackground\":true,\"ticks\":\"\",\"zerolinecolor\":\"white\",\"gridwidth\":2}},\"shapedefaults\":{\"line\":{\"color\":\"#2a3f5f\"}},\"annotationdefaults\":{\"arrowcolor\":\"#2a3f5f\",\"arrowhead\":0,\"arrowwidth\":1},\"geo\":{\"bgcolor\":\"white\",\"landcolor\":\"#E5ECF6\",\"subunitcolor\":\"white\",\"showland\":true,\"showlakes\":true,\"lakecolor\":\"white\"},\"title\":{\"x\":0.05},\"mapbox\":{\"style\":\"light\"}}},\"xaxis\":{\"anchor\":\"y\",\"domain\":[0.0,1.0],\"title\":{\"text\":\"ENERGY STAR Score\",\"standoff\":30},\"range\":[0,105],\"tickfont\":{\"size\":12},\"type\":\"linear\",\"showline\":true,\"linewidth\":1,\"linecolor\":\"black\",\"mirror\":true,\"zeroline\":false,\"showgrid\":false},\"yaxis\":{\"anchor\":\"x\",\"domain\":[0.0,1.0],\"title\":{\"text\":\"Total GHG Emissions\"},\"range\":[-1000,14000]},\"legend\":{\"tracegroupgap\":0},\"title\":{\"text\":\"Utilisation du score ENERGY STAR\",\"font\":{\"size\":30},\"x\":0.5},\"annotations\":[{\"font\":{\"color\":\"black\",\"size\":20},\"showarrow\":false,\"text\":\"Accompagner la recherche d'une nouvelle cotation : \\u003ca href='https:\\u002f\\u002fwww.researchgate.net\\u002fpublication\\u002f342831494_EnergyStar_Towards_more_accurate_and_explanatory_building_energy_benchmarking' target='_blank'\\u003eEnergyStar++ (Berkeley \\u002f National University of Singapore)\\u003c\\u002fa\\u003e\",\"x\":0.5,\"xref\":\"paper\",\"y\":-0.2,\"yref\":\"paper\"}],\"margin\":{\"t\":120,\"b\":160},\"height\":900},                        {\"responsive\": true}                    ).then(function(){\n",
              "                            \n",
              "var gd = document.getElementById('68af82ef-f4d0-42de-ab9b-f4a6d1ceb1bd');\n",
              "var x = new MutationObserver(function (mutations, observer) {{\n",
              "        var display = window.getComputedStyle(gd).display;\n",
              "        if (!display || display === 'none') {{\n",
              "            console.log([gd, 'removed!']);\n",
              "            Plotly.purge(gd);\n",
              "            observer.disconnect();\n",
              "        }}\n",
              "}});\n",
              "\n",
              "// Listen for the removal of the full notebook cells\n",
              "var notebookContainer = gd.closest('#notebook-container');\n",
              "if (notebookContainer) {{\n",
              "    x.observe(notebookContainer, {childList: true});\n",
              "}}\n",
              "\n",
              "// Listen for the clearing of the current output cell\n",
              "var outputEl = gd.closest('.output');\n",
              "if (outputEl) {{\n",
              "    x.observe(outputEl, {childList: true});\n",
              "}}\n",
              "\n",
              "                        })                };                            </script>        </div>\n",
              "</body>\n",
              "</html>"
            ]
          },
          "metadata": {}
        },
        {
          "output_type": "display_data",
          "data": {
            "text/plain": [
              "<IPython.core.display.Javascript object>"
            ],
            "application/javascript": [
              "\n",
              "    async function download(id, filename, size) {\n",
              "      if (!google.colab.kernel.accessAllowed) {\n",
              "        return;\n",
              "      }\n",
              "      const div = document.createElement('div');\n",
              "      const label = document.createElement('label');\n",
              "      label.textContent = `Downloading \"${filename}\": `;\n",
              "      div.appendChild(label);\n",
              "      const progress = document.createElement('progress');\n",
              "      progress.max = size;\n",
              "      div.appendChild(progress);\n",
              "      document.body.appendChild(div);\n",
              "\n",
              "      const buffers = [];\n",
              "      let downloaded = 0;\n",
              "\n",
              "      const channel = await google.colab.kernel.comms.open(id);\n",
              "      // Send a message to notify the kernel that we're ready.\n",
              "      channel.send({})\n",
              "\n",
              "      for await (const message of channel.messages) {\n",
              "        // Send a message to notify the kernel that we're ready.\n",
              "        channel.send({})\n",
              "        if (message.buffers) {\n",
              "          for (const buffer of message.buffers) {\n",
              "            buffers.push(buffer);\n",
              "            downloaded += buffer.byteLength;\n",
              "            progress.value = downloaded;\n",
              "          }\n",
              "        }\n",
              "      }\n",
              "      const blob = new Blob(buffers, {type: 'application/binary'});\n",
              "      const a = document.createElement('a');\n",
              "      a.href = window.URL.createObjectURL(blob);\n",
              "      a.download = filename;\n",
              "      div.appendChild(a);\n",
              "      a.click();\n",
              "      div.remove();\n",
              "    }\n",
              "  "
            ]
          },
          "metadata": {}
        },
        {
          "output_type": "display_data",
          "data": {
            "text/plain": [
              "<IPython.core.display.Javascript object>"
            ],
            "application/javascript": [
              "download(\"download_adf27b6e-5f52-4d71-9db4-cd988a4f6033\", \"estar.html\", 3665609)"
            ]
          },
          "metadata": {}
        }
      ]
    }
  ]
}