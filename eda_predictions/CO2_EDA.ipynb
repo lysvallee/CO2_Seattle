{
  "nbformat": 4,
  "nbformat_minor": 0,
  "metadata": {
    "colab": {
      "provenance": [],
      "gpuType": "T4",
      "toc_visible": true
    },
    "kernelspec": {
      "name": "python3",
      "display_name": "Python 3"
    },
    "language_info": {
      "name": "python"
    }
  },
  "cells": [
    {
      "cell_type": "markdown",
      "source": [
        "#1.Imports"
      ],
      "metadata": {
        "id": "RY4Ar9dEX61O"
      }
    },
    {
      "cell_type": "code",
      "source": [
        "# Install the Pandas library ydata_profiling\n",
        "import sys\n",
        "!{sys.executable} -m pip install -U ydata-profiling[notebook]\n",
        "!jupyter nbextension enable --py widgetsnbextension"
      ],
      "metadata": {
        "colab": {
          "base_uri": "https://localhost:8080/"
        },
        "id": "JUvXCLxMEBNm",
        "outputId": "386b6343-a9b9-41ce-eaad-756d250df5f4"
      },
      "execution_count": null,
      "outputs": [
        {
          "output_type": "stream",
          "name": "stdout",
          "text": [
            "Collecting ydata-profiling[notebook]\n",
            "  Downloading ydata_profiling-4.4.0-py2.py3-none-any.whl (356 kB)\n",
            "\u001b[2K     \u001b[90m━━━━━━━━━━━━━━━━━━━━━━━━━━━━━━━━━━━━━━━\u001b[0m \u001b[32m356.3/356.3 kB\u001b[0m \u001b[31m4.1 MB/s\u001b[0m eta \u001b[36m0:00:00\u001b[0m\n",
            "\u001b[?25hRequirement already satisfied: scipy<1.12,>=1.4.1 in /usr/local/lib/python3.10/dist-packages (from ydata-profiling[notebook]) (1.10.1)\n",
            "Requirement already satisfied: pandas!=1.4.0,<2.1,>1.1 in /usr/local/lib/python3.10/dist-packages (from ydata-profiling[notebook]) (1.5.3)\n",
            "Requirement already satisfied: matplotlib<4,>=3.2 in /usr/local/lib/python3.10/dist-packages (from ydata-profiling[notebook]) (3.7.1)\n",
            "Requirement already satisfied: pydantic<2,>=1.8.1 in /usr/local/lib/python3.10/dist-packages (from ydata-profiling[notebook]) (1.10.12)\n",
            "Requirement already satisfied: PyYAML<6.1,>=5.0.0 in /usr/local/lib/python3.10/dist-packages (from ydata-profiling[notebook]) (6.0.1)\n",
            "Requirement already satisfied: jinja2<3.2,>=2.11.1 in /usr/local/lib/python3.10/dist-packages (from ydata-profiling[notebook]) (3.1.2)\n",
            "Collecting visions[type_image_path]==0.7.5 (from ydata-profiling[notebook])\n",
            "  Downloading visions-0.7.5-py3-none-any.whl (102 kB)\n",
            "\u001b[2K     \u001b[90m━━━━━━━━━━━━━━━━━━━━━━━━━━━━━━━━━━━━━━\u001b[0m \u001b[32m102.7/102.7 kB\u001b[0m \u001b[31m10.9 MB/s\u001b[0m eta \u001b[36m0:00:00\u001b[0m\n",
            "\u001b[?25hRequirement already satisfied: numpy<1.24,>=1.16.0 in /usr/local/lib/python3.10/dist-packages (from ydata-profiling[notebook]) (1.22.4)\n",
            "Collecting htmlmin==0.1.12 (from ydata-profiling[notebook])\n",
            "  Downloading htmlmin-0.1.12.tar.gz (19 kB)\n",
            "  Preparing metadata (setup.py) ... \u001b[?25l\u001b[?25hdone\n",
            "Collecting phik<0.13,>=0.11.1 (from ydata-profiling[notebook])\n",
            "  Downloading phik-0.12.3-cp310-cp310-manylinux_2_17_x86_64.manylinux2014_x86_64.whl (679 kB)\n",
            "\u001b[2K     \u001b[90m━━━━━━━━━━━━━━━━━━━━━━━━━━━━━━━━━━━━━━\u001b[0m \u001b[32m679.5/679.5 kB\u001b[0m \u001b[31m34.1 MB/s\u001b[0m eta \u001b[36m0:00:00\u001b[0m\n",
            "\u001b[?25hRequirement already satisfied: requests<3,>=2.24.0 in /usr/local/lib/python3.10/dist-packages (from ydata-profiling[notebook]) (2.27.1)\n",
            "Requirement already satisfied: tqdm<5,>=4.48.2 in /usr/local/lib/python3.10/dist-packages (from ydata-profiling[notebook]) (4.65.0)\n",
            "Requirement already satisfied: seaborn<0.13,>=0.10.1 in /usr/local/lib/python3.10/dist-packages (from ydata-profiling[notebook]) (0.12.2)\n",
            "Collecting multimethod<2,>=1.4 (from ydata-profiling[notebook])\n",
            "  Downloading multimethod-1.9.1-py3-none-any.whl (10 kB)\n",
            "Requirement already satisfied: statsmodels<1,>=0.13.2 in /usr/local/lib/python3.10/dist-packages (from ydata-profiling[notebook]) (0.13.5)\n",
            "Collecting typeguard<3,>=2.13.2 (from ydata-profiling[notebook])\n",
            "  Downloading typeguard-2.13.3-py3-none-any.whl (17 kB)\n",
            "Collecting imagehash==4.3.1 (from ydata-profiling[notebook])\n",
            "  Downloading ImageHash-4.3.1-py2.py3-none-any.whl (296 kB)\n",
            "\u001b[2K     \u001b[90m━━━━━━━━━━━━━━━━━━━━━━━━━━━━━━━━━━━━━━\u001b[0m \u001b[32m296.5/296.5 kB\u001b[0m \u001b[31m20.6 MB/s\u001b[0m eta \u001b[36m0:00:00\u001b[0m\n",
            "\u001b[?25hCollecting wordcloud>=1.9.1 (from ydata-profiling[notebook])\n",
            "  Downloading wordcloud-1.9.2-cp310-cp310-manylinux_2_17_x86_64.manylinux2014_x86_64.whl (455 kB)\n",
            "\u001b[2K     \u001b[90m━━━━━━━━━━━━━━━━━━━━━━━━━━━━━━━━━━━━━━\u001b[0m \u001b[32m455.4/455.4 kB\u001b[0m \u001b[31m25.2 MB/s\u001b[0m eta \u001b[36m0:00:00\u001b[0m\n",
            "\u001b[?25hCollecting dacite>=1.8 (from ydata-profiling[notebook])\n",
            "  Downloading dacite-1.8.1-py3-none-any.whl (14 kB)\n",
            "Requirement already satisfied: jupyter-client>=5.3.4 in /usr/local/lib/python3.10/dist-packages (from ydata-profiling[notebook]) (6.1.12)\n",
            "Requirement already satisfied: jupyter-core>=4.6.3 in /usr/local/lib/python3.10/dist-packages (from ydata-profiling[notebook]) (5.3.1)\n",
            "Requirement already satisfied: ipywidgets>=7.5.1 in /usr/local/lib/python3.10/dist-packages (from ydata-profiling[notebook]) (7.7.1)\n",
            "Requirement already satisfied: PyWavelets in /usr/local/lib/python3.10/dist-packages (from imagehash==4.3.1->ydata-profiling[notebook]) (1.4.1)\n",
            "Requirement already satisfied: pillow in /usr/local/lib/python3.10/dist-packages (from imagehash==4.3.1->ydata-profiling[notebook]) (9.4.0)\n",
            "Requirement already satisfied: attrs>=19.3.0 in /usr/local/lib/python3.10/dist-packages (from visions[type_image_path]==0.7.5->ydata-profiling[notebook]) (23.1.0)\n",
            "Requirement already satisfied: networkx>=2.4 in /usr/local/lib/python3.10/dist-packages (from visions[type_image_path]==0.7.5->ydata-profiling[notebook]) (3.1)\n",
            "Collecting tangled-up-in-unicode>=0.0.4 (from visions[type_image_path]==0.7.5->ydata-profiling[notebook])\n",
            "  Downloading tangled_up_in_unicode-0.2.0-py3-none-any.whl (4.7 MB)\n",
            "\u001b[2K     \u001b[90m━━━━━━━━━━━━━━━━━━━━━━━━━━━━━━━━━━━━━━━━\u001b[0m \u001b[32m4.7/4.7 MB\u001b[0m \u001b[31m61.0 MB/s\u001b[0m eta \u001b[36m0:00:00\u001b[0m\n",
            "\u001b[?25hRequirement already satisfied: ipykernel>=4.5.1 in /usr/local/lib/python3.10/dist-packages (from ipywidgets>=7.5.1->ydata-profiling[notebook]) (5.5.6)\n",
            "Requirement already satisfied: ipython-genutils~=0.2.0 in /usr/local/lib/python3.10/dist-packages (from ipywidgets>=7.5.1->ydata-profiling[notebook]) (0.2.0)\n",
            "Requirement already satisfied: traitlets>=4.3.1 in /usr/local/lib/python3.10/dist-packages (from ipywidgets>=7.5.1->ydata-profiling[notebook]) (5.7.1)\n",
            "Requirement already satisfied: widgetsnbextension~=3.6.0 in /usr/local/lib/python3.10/dist-packages (from ipywidgets>=7.5.1->ydata-profiling[notebook]) (3.6.4)\n",
            "Requirement already satisfied: ipython>=4.0.0 in /usr/local/lib/python3.10/dist-packages (from ipywidgets>=7.5.1->ydata-profiling[notebook]) (7.34.0)\n",
            "Requirement already satisfied: jupyterlab-widgets>=1.0.0 in /usr/local/lib/python3.10/dist-packages (from ipywidgets>=7.5.1->ydata-profiling[notebook]) (3.0.8)\n",
            "Requirement already satisfied: MarkupSafe>=2.0 in /usr/local/lib/python3.10/dist-packages (from jinja2<3.2,>=2.11.1->ydata-profiling[notebook]) (2.1.3)\n",
            "Requirement already satisfied: pyzmq>=13 in /usr/local/lib/python3.10/dist-packages (from jupyter-client>=5.3.4->ydata-profiling[notebook]) (23.2.1)\n",
            "Requirement already satisfied: python-dateutil>=2.1 in /usr/local/lib/python3.10/dist-packages (from jupyter-client>=5.3.4->ydata-profiling[notebook]) (2.8.2)\n",
            "Requirement already satisfied: tornado>=4.1 in /usr/local/lib/python3.10/dist-packages (from jupyter-client>=5.3.4->ydata-profiling[notebook]) (6.3.1)\n",
            "Requirement already satisfied: platformdirs>=2.5 in /usr/local/lib/python3.10/dist-packages (from jupyter-core>=4.6.3->ydata-profiling[notebook]) (3.9.1)\n",
            "Requirement already satisfied: contourpy>=1.0.1 in /usr/local/lib/python3.10/dist-packages (from matplotlib<4,>=3.2->ydata-profiling[notebook]) (1.1.0)\n",
            "Requirement already satisfied: cycler>=0.10 in /usr/local/lib/python3.10/dist-packages (from matplotlib<4,>=3.2->ydata-profiling[notebook]) (0.11.0)\n",
            "Requirement already satisfied: fonttools>=4.22.0 in /usr/local/lib/python3.10/dist-packages (from matplotlib<4,>=3.2->ydata-profiling[notebook]) (4.41.1)\n",
            "Requirement already satisfied: kiwisolver>=1.0.1 in /usr/local/lib/python3.10/dist-packages (from matplotlib<4,>=3.2->ydata-profiling[notebook]) (1.4.4)\n",
            "Requirement already satisfied: packaging>=20.0 in /usr/local/lib/python3.10/dist-packages (from matplotlib<4,>=3.2->ydata-profiling[notebook]) (23.1)\n",
            "Requirement already satisfied: pyparsing>=2.3.1 in /usr/local/lib/python3.10/dist-packages (from matplotlib<4,>=3.2->ydata-profiling[notebook]) (3.1.0)\n",
            "Requirement already satisfied: pytz>=2020.1 in /usr/local/lib/python3.10/dist-packages (from pandas!=1.4.0,<2.1,>1.1->ydata-profiling[notebook]) (2022.7.1)\n",
            "Requirement already satisfied: joblib>=0.14.1 in /usr/local/lib/python3.10/dist-packages (from phik<0.13,>=0.11.1->ydata-profiling[notebook]) (1.3.1)\n",
            "Requirement already satisfied: typing-extensions>=4.2.0 in /usr/local/lib/python3.10/dist-packages (from pydantic<2,>=1.8.1->ydata-profiling[notebook]) (4.7.1)\n",
            "Requirement already satisfied: urllib3<1.27,>=1.21.1 in /usr/local/lib/python3.10/dist-packages (from requests<3,>=2.24.0->ydata-profiling[notebook]) (1.26.16)\n",
            "Requirement already satisfied: certifi>=2017.4.17 in /usr/local/lib/python3.10/dist-packages (from requests<3,>=2.24.0->ydata-profiling[notebook]) (2023.7.22)\n",
            "Requirement already satisfied: charset-normalizer~=2.0.0 in /usr/local/lib/python3.10/dist-packages (from requests<3,>=2.24.0->ydata-profiling[notebook]) (2.0.12)\n",
            "Requirement already satisfied: idna<4,>=2.5 in /usr/local/lib/python3.10/dist-packages (from requests<3,>=2.24.0->ydata-profiling[notebook]) (3.4)\n",
            "Requirement already satisfied: patsy>=0.5.2 in /usr/local/lib/python3.10/dist-packages (from statsmodels<1,>=0.13.2->ydata-profiling[notebook]) (0.5.3)\n",
            "Requirement already satisfied: setuptools>=18.5 in /usr/local/lib/python3.10/dist-packages (from ipython>=4.0.0->ipywidgets>=7.5.1->ydata-profiling[notebook]) (67.7.2)\n",
            "Collecting jedi>=0.16 (from ipython>=4.0.0->ipywidgets>=7.5.1->ydata-profiling[notebook])\n",
            "  Downloading jedi-0.19.0-py2.py3-none-any.whl (1.6 MB)\n",
            "\u001b[2K     \u001b[90m━━━━━━━━━━━━━━━━━━━━━━━━━━━━━━━━━━━━━━━━\u001b[0m \u001b[32m1.6/1.6 MB\u001b[0m \u001b[31m41.2 MB/s\u001b[0m eta \u001b[36m0:00:00\u001b[0m\n",
            "\u001b[?25hRequirement already satisfied: decorator in /usr/local/lib/python3.10/dist-packages (from ipython>=4.0.0->ipywidgets>=7.5.1->ydata-profiling[notebook]) (4.4.2)\n",
            "Requirement already satisfied: pickleshare in /usr/local/lib/python3.10/dist-packages (from ipython>=4.0.0->ipywidgets>=7.5.1->ydata-profiling[notebook]) (0.7.5)\n",
            "Requirement already satisfied: prompt-toolkit!=3.0.0,!=3.0.1,<3.1.0,>=2.0.0 in /usr/local/lib/python3.10/dist-packages (from ipython>=4.0.0->ipywidgets>=7.5.1->ydata-profiling[notebook]) (3.0.39)\n",
            "Requirement already satisfied: pygments in /usr/local/lib/python3.10/dist-packages (from ipython>=4.0.0->ipywidgets>=7.5.1->ydata-profiling[notebook]) (2.14.0)\n",
            "Requirement already satisfied: backcall in /usr/local/lib/python3.10/dist-packages (from ipython>=4.0.0->ipywidgets>=7.5.1->ydata-profiling[notebook]) (0.2.0)\n",
            "Requirement already satisfied: matplotlib-inline in /usr/local/lib/python3.10/dist-packages (from ipython>=4.0.0->ipywidgets>=7.5.1->ydata-profiling[notebook]) (0.1.6)\n",
            "Requirement already satisfied: pexpect>4.3 in /usr/local/lib/python3.10/dist-packages (from ipython>=4.0.0->ipywidgets>=7.5.1->ydata-profiling[notebook]) (4.8.0)\n",
            "Requirement already satisfied: six in /usr/local/lib/python3.10/dist-packages (from patsy>=0.5.2->statsmodels<1,>=0.13.2->ydata-profiling[notebook]) (1.16.0)\n",
            "Requirement already satisfied: notebook>=4.4.1 in /usr/local/lib/python3.10/dist-packages (from widgetsnbextension~=3.6.0->ipywidgets>=7.5.1->ydata-profiling[notebook]) (6.4.8)\n",
            "Requirement already satisfied: parso<0.9.0,>=0.8.3 in /usr/local/lib/python3.10/dist-packages (from jedi>=0.16->ipython>=4.0.0->ipywidgets>=7.5.1->ydata-profiling[notebook]) (0.8.3)\n",
            "Requirement already satisfied: argon2-cffi in /usr/local/lib/python3.10/dist-packages (from notebook>=4.4.1->widgetsnbextension~=3.6.0->ipywidgets>=7.5.1->ydata-profiling[notebook]) (21.3.0)\n",
            "Requirement already satisfied: nbformat in /usr/local/lib/python3.10/dist-packages (from notebook>=4.4.1->widgetsnbextension~=3.6.0->ipywidgets>=7.5.1->ydata-profiling[notebook]) (5.9.1)\n",
            "Requirement already satisfied: nbconvert in /usr/local/lib/python3.10/dist-packages (from notebook>=4.4.1->widgetsnbextension~=3.6.0->ipywidgets>=7.5.1->ydata-profiling[notebook]) (6.5.4)\n",
            "Requirement already satisfied: nest-asyncio>=1.5 in /usr/local/lib/python3.10/dist-packages (from notebook>=4.4.1->widgetsnbextension~=3.6.0->ipywidgets>=7.5.1->ydata-profiling[notebook]) (1.5.6)\n",
            "Requirement already satisfied: Send2Trash>=1.8.0 in /usr/local/lib/python3.10/dist-packages (from notebook>=4.4.1->widgetsnbextension~=3.6.0->ipywidgets>=7.5.1->ydata-profiling[notebook]) (1.8.2)\n",
            "Requirement already satisfied: terminado>=0.8.3 in /usr/local/lib/python3.10/dist-packages (from notebook>=4.4.1->widgetsnbextension~=3.6.0->ipywidgets>=7.5.1->ydata-profiling[notebook]) (0.17.1)\n",
            "Requirement already satisfied: prometheus-client in /usr/local/lib/python3.10/dist-packages (from notebook>=4.4.1->widgetsnbextension~=3.6.0->ipywidgets>=7.5.1->ydata-profiling[notebook]) (0.17.1)\n",
            "Requirement already satisfied: ptyprocess>=0.5 in /usr/local/lib/python3.10/dist-packages (from pexpect>4.3->ipython>=4.0.0->ipywidgets>=7.5.1->ydata-profiling[notebook]) (0.7.0)\n",
            "Requirement already satisfied: wcwidth in /usr/local/lib/python3.10/dist-packages (from prompt-toolkit!=3.0.0,!=3.0.1,<3.1.0,>=2.0.0->ipython>=4.0.0->ipywidgets>=7.5.1->ydata-profiling[notebook]) (0.2.6)\n",
            "Requirement already satisfied: argon2-cffi-bindings in /usr/local/lib/python3.10/dist-packages (from argon2-cffi->notebook>=4.4.1->widgetsnbextension~=3.6.0->ipywidgets>=7.5.1->ydata-profiling[notebook]) (21.2.0)\n",
            "Requirement already satisfied: lxml in /usr/local/lib/python3.10/dist-packages (from nbconvert->notebook>=4.4.1->widgetsnbextension~=3.6.0->ipywidgets>=7.5.1->ydata-profiling[notebook]) (4.9.3)\n",
            "Requirement already satisfied: beautifulsoup4 in /usr/local/lib/python3.10/dist-packages (from nbconvert->notebook>=4.4.1->widgetsnbextension~=3.6.0->ipywidgets>=7.5.1->ydata-profiling[notebook]) (4.11.2)\n",
            "Requirement already satisfied: bleach in /usr/local/lib/python3.10/dist-packages (from nbconvert->notebook>=4.4.1->widgetsnbextension~=3.6.0->ipywidgets>=7.5.1->ydata-profiling[notebook]) (6.0.0)\n",
            "Requirement already satisfied: defusedxml in /usr/local/lib/python3.10/dist-packages (from nbconvert->notebook>=4.4.1->widgetsnbextension~=3.6.0->ipywidgets>=7.5.1->ydata-profiling[notebook]) (0.7.1)\n",
            "Requirement already satisfied: entrypoints>=0.2.2 in /usr/local/lib/python3.10/dist-packages (from nbconvert->notebook>=4.4.1->widgetsnbextension~=3.6.0->ipywidgets>=7.5.1->ydata-profiling[notebook]) (0.4)\n",
            "Requirement already satisfied: jupyterlab-pygments in /usr/local/lib/python3.10/dist-packages (from nbconvert->notebook>=4.4.1->widgetsnbextension~=3.6.0->ipywidgets>=7.5.1->ydata-profiling[notebook]) (0.2.2)\n",
            "Requirement already satisfied: mistune<2,>=0.8.1 in /usr/local/lib/python3.10/dist-packages (from nbconvert->notebook>=4.4.1->widgetsnbextension~=3.6.0->ipywidgets>=7.5.1->ydata-profiling[notebook]) (0.8.4)\n",
            "Requirement already satisfied: nbclient>=0.5.0 in /usr/local/lib/python3.10/dist-packages (from nbconvert->notebook>=4.4.1->widgetsnbextension~=3.6.0->ipywidgets>=7.5.1->ydata-profiling[notebook]) (0.8.0)\n",
            "Requirement already satisfied: pandocfilters>=1.4.1 in /usr/local/lib/python3.10/dist-packages (from nbconvert->notebook>=4.4.1->widgetsnbextension~=3.6.0->ipywidgets>=7.5.1->ydata-profiling[notebook]) (1.5.0)\n",
            "Requirement already satisfied: tinycss2 in /usr/local/lib/python3.10/dist-packages (from nbconvert->notebook>=4.4.1->widgetsnbextension~=3.6.0->ipywidgets>=7.5.1->ydata-profiling[notebook]) (1.2.1)\n",
            "Requirement already satisfied: fastjsonschema in /usr/local/lib/python3.10/dist-packages (from nbformat->notebook>=4.4.1->widgetsnbextension~=3.6.0->ipywidgets>=7.5.1->ydata-profiling[notebook]) (2.18.0)\n",
            "Requirement already satisfied: jsonschema>=2.6 in /usr/local/lib/python3.10/dist-packages (from nbformat->notebook>=4.4.1->widgetsnbextension~=3.6.0->ipywidgets>=7.5.1->ydata-profiling[notebook]) (4.3.3)\n",
            "Requirement already satisfied: pyrsistent!=0.17.0,!=0.17.1,!=0.17.2,>=0.14.0 in /usr/local/lib/python3.10/dist-packages (from jsonschema>=2.6->nbformat->notebook>=4.4.1->widgetsnbextension~=3.6.0->ipywidgets>=7.5.1->ydata-profiling[notebook]) (0.19.3)\n",
            "Requirement already satisfied: cffi>=1.0.1 in /usr/local/lib/python3.10/dist-packages (from argon2-cffi-bindings->argon2-cffi->notebook>=4.4.1->widgetsnbextension~=3.6.0->ipywidgets>=7.5.1->ydata-profiling[notebook]) (1.15.1)\n",
            "Requirement already satisfied: soupsieve>1.2 in /usr/local/lib/python3.10/dist-packages (from beautifulsoup4->nbconvert->notebook>=4.4.1->widgetsnbextension~=3.6.0->ipywidgets>=7.5.1->ydata-profiling[notebook]) (2.4.1)\n",
            "Requirement already satisfied: webencodings in /usr/local/lib/python3.10/dist-packages (from bleach->nbconvert->notebook>=4.4.1->widgetsnbextension~=3.6.0->ipywidgets>=7.5.1->ydata-profiling[notebook]) (0.5.1)\n",
            "Requirement already satisfied: pycparser in /usr/local/lib/python3.10/dist-packages (from cffi>=1.0.1->argon2-cffi-bindings->argon2-cffi->notebook>=4.4.1->widgetsnbextension~=3.6.0->ipywidgets>=7.5.1->ydata-profiling[notebook]) (2.21)\n",
            "Building wheels for collected packages: htmlmin\n",
            "  Building wheel for htmlmin (setup.py) ... \u001b[?25l\u001b[?25hdone\n",
            "  Created wheel for htmlmin: filename=htmlmin-0.1.12-py3-none-any.whl size=27079 sha256=8c2692be050034e8566bff6e8b8a476adfb26f2dfbd8a353838aae38dddbf39f\n",
            "  Stored in directory: /root/.cache/pip/wheels/dd/91/29/a79cecb328d01739e64017b6fb9a1ab9d8cb1853098ec5966d\n",
            "Successfully built htmlmin\n",
            "Installing collected packages: htmlmin, typeguard, tangled-up-in-unicode, multimethod, jedi, dacite, imagehash, wordcloud, visions, phik, ydata-profiling\n",
            "  Attempting uninstall: wordcloud\n",
            "    Found existing installation: wordcloud 1.8.2.2\n",
            "    Uninstalling wordcloud-1.8.2.2:\n",
            "      Successfully uninstalled wordcloud-1.8.2.2\n",
            "Successfully installed dacite-1.8.1 htmlmin-0.1.12 imagehash-4.3.1 jedi-0.19.0 multimethod-1.9.1 phik-0.12.3 tangled-up-in-unicode-0.2.0 typeguard-2.13.3 visions-0.7.5 wordcloud-1.9.2 ydata-profiling-4.4.0\n",
            "Enabling notebook extension jupyter-js-widgets/extension...\n",
            "Paths used for configuration of notebook: \n",
            "    \t/root/.jupyter/nbconfig/notebook.json\n",
            "Paths used for configuration of notebook: \n",
            "    \t\n",
            "      - Validating: \u001b[32mOK\u001b[0m\n",
            "Paths used for configuration of notebook: \n",
            "    \t/root/.jupyter/nbconfig/notebook.json\n"
          ]
        }
      ]
    },
    {
      "cell_type": "code",
      "source": [
        "# System\n",
        "import os\n",
        "from google.colab import files\n",
        "import warnings\n",
        "\n",
        "import numpy as np\n",
        "import pandas as pd\n",
        "import datetime\n",
        "import json\n",
        "import plotly.express as px\n",
        "from sqlalchemy import create_engine, text\n",
        "from sklearn.impute import KNNImputer, SimpleImputer\n",
        "from sklearn.decomposition import KernelPCA\n",
        "\n",
        "# Machine learning - Preprocessing\n",
        "from sklearn.impute import KNNImputer, SimpleImputer\n",
        "from sklearn.preprocessing import OneHotEncoder, QuantileTransformer, PowerTransformer\n",
        "from sklearn.feature_extraction.text import CountVectorizer\n",
        "from sklearn.base import BaseEstimator, TransformerMixin\n",
        "\n",
        "\n",
        "# Machine learning - Automatisation\n",
        "from sklearn.pipeline import Pipeline\n",
        "from sklearn.compose import ColumnTransformer\n",
        "from sklearn import set_config\n",
        "\n",
        "\n",
        "from ydata_profiling import ProfileReport\n",
        "from google.colab import files\n",
        "\n",
        "\n",
        "import matplotlib.pyplot as plt"
      ],
      "metadata": {
        "id": "qNuykREpum-v"
      },
      "execution_count": null,
      "outputs": []
    },
    {
      "cell_type": "code",
      "source": [
        "# Silence warnings\n",
        "warnings.filterwarnings(\"ignore\", category=UserWarning)"
      ],
      "metadata": {
        "id": "aI1bvggG4Q_7"
      },
      "execution_count": null,
      "outputs": []
    },
    {
      "cell_type": "code",
      "source": [
        "# Define the connection string\n",
        "connection_string = \"postgresql://co2-sa-db.postgres.database.azure.com:5432/seattlebeb?user=co2sodapg&password=Greta2023&sslmode=require\"\n",
        "\n",
        "# Create a SQLAlchemy engine\n",
        "engine = create_engine(connection_string)\n",
        "\n",
        "# Create a connection and execute the query\n",
        "with engine.connect() as conn:\n",
        "    query = text(\"SELECT * FROM buildings\")\n",
        "    data = pd.read_sql(query, conn)\n",
        "\n",
        "data.head()"
      ],
      "metadata": {
        "colab": {
          "base_uri": "https://localhost:8080/",
          "height": 300
        },
        "id": "yLa7h4ZjT1yX",
        "outputId": "478c4690-f98b-4710-8ef8-0c0c62b825ad"
      },
      "execution_count": null,
      "outputs": [
        {
          "output_type": "execute_result",
          "data": {
            "text/plain": [
              "   osebuildingid    buildingtype primarypropertytype  zipcode  \\\n",
              "0              1  NonResidential               Hotel  98101.0   \n",
              "1              2  NonResidential               Hotel  98101.0   \n",
              "2              3  NonResidential               Hotel  98101.0   \n",
              "3              5  NonResidential               Hotel  98101.0   \n",
              "4              8  NonResidential               Hotel  98121.0   \n",
              "\n",
              "  taxparcelidentificationnumber  councildistrictcode neighborhood  latitude  \\\n",
              "0                    0659000030                    7     DOWNTOWN  47.61220   \n",
              "1                    0659000220                    7     DOWNTOWN  47.61317   \n",
              "2                    0659000475                    7     DOWNTOWN  47.61393   \n",
              "3                    0659000640                    7     DOWNTOWN  47.61412   \n",
              "4                    0659000970                    7     DOWNTOWN  47.61375   \n",
              "\n",
              "   longitude  yearbuilt  ...  sourceeuiwn_kbtu_sf  siteenergyuse_kbtu  \\\n",
              "0 -122.33799       1927  ...           189.000000           7226362.5   \n",
              "1 -122.33393       1996  ...           179.399994           8387933.0   \n",
              "2 -122.33810       1969  ...           244.100006          72587024.0   \n",
              "3 -122.33664       1926  ...           224.000000           6794584.0   \n",
              "4 -122.34047       1980  ...           215.600006          14172606.0   \n",
              "\n",
              "   siteenergyusewn_kbtu  steamuse_kbtu  electricity_kbtu naturalgas_kbtu  \\\n",
              "0             7456910.0     2003882.00         3946027.0       1276453.0   \n",
              "1             8664479.0           0.00         3242851.0       5145082.0   \n",
              "2            73937112.0    21566554.00        49526664.0       1493800.0   \n",
              "3             6946800.5     2214446.25         2768924.0       1811213.0   \n",
              "4            14656503.0           0.00         5368607.0       8803998.0   \n",
              "\n",
              "  defaultdata  compliancestatus outlier totalghgemissions  \n",
              "0       False         Compliant    None            249.98  \n",
              "1       False         Compliant    None            295.86  \n",
              "2       False         Compliant    None           2089.28  \n",
              "3       False         Compliant    None            286.43  \n",
              "4       False         Compliant    None            505.01  \n",
              "\n",
              "[5 rows x 37 columns]"
            ],
            "text/html": [
              "\n",
              "\n",
              "  <div id=\"df-311b265a-a96c-4454-9334-91481a419d4e\">\n",
              "    <div class=\"colab-df-container\">\n",
              "      <div>\n",
              "<style scoped>\n",
              "    .dataframe tbody tr th:only-of-type {\n",
              "        vertical-align: middle;\n",
              "    }\n",
              "\n",
              "    .dataframe tbody tr th {\n",
              "        vertical-align: top;\n",
              "    }\n",
              "\n",
              "    .dataframe thead th {\n",
              "        text-align: right;\n",
              "    }\n",
              "</style>\n",
              "<table border=\"1\" class=\"dataframe\">\n",
              "  <thead>\n",
              "    <tr style=\"text-align: right;\">\n",
              "      <th></th>\n",
              "      <th>osebuildingid</th>\n",
              "      <th>buildingtype</th>\n",
              "      <th>primarypropertytype</th>\n",
              "      <th>zipcode</th>\n",
              "      <th>taxparcelidentificationnumber</th>\n",
              "      <th>councildistrictcode</th>\n",
              "      <th>neighborhood</th>\n",
              "      <th>latitude</th>\n",
              "      <th>longitude</th>\n",
              "      <th>yearbuilt</th>\n",
              "      <th>...</th>\n",
              "      <th>sourceeuiwn_kbtu_sf</th>\n",
              "      <th>siteenergyuse_kbtu</th>\n",
              "      <th>siteenergyusewn_kbtu</th>\n",
              "      <th>steamuse_kbtu</th>\n",
              "      <th>electricity_kbtu</th>\n",
              "      <th>naturalgas_kbtu</th>\n",
              "      <th>defaultdata</th>\n",
              "      <th>compliancestatus</th>\n",
              "      <th>outlier</th>\n",
              "      <th>totalghgemissions</th>\n",
              "    </tr>\n",
              "  </thead>\n",
              "  <tbody>\n",
              "    <tr>\n",
              "      <th>0</th>\n",
              "      <td>1</td>\n",
              "      <td>NonResidential</td>\n",
              "      <td>Hotel</td>\n",
              "      <td>98101.0</td>\n",
              "      <td>0659000030</td>\n",
              "      <td>7</td>\n",
              "      <td>DOWNTOWN</td>\n",
              "      <td>47.61220</td>\n",
              "      <td>-122.33799</td>\n",
              "      <td>1927</td>\n",
              "      <td>...</td>\n",
              "      <td>189.000000</td>\n",
              "      <td>7226362.5</td>\n",
              "      <td>7456910.0</td>\n",
              "      <td>2003882.00</td>\n",
              "      <td>3946027.0</td>\n",
              "      <td>1276453.0</td>\n",
              "      <td>False</td>\n",
              "      <td>Compliant</td>\n",
              "      <td>None</td>\n",
              "      <td>249.98</td>\n",
              "    </tr>\n",
              "    <tr>\n",
              "      <th>1</th>\n",
              "      <td>2</td>\n",
              "      <td>NonResidential</td>\n",
              "      <td>Hotel</td>\n",
              "      <td>98101.0</td>\n",
              "      <td>0659000220</td>\n",
              "      <td>7</td>\n",
              "      <td>DOWNTOWN</td>\n",
              "      <td>47.61317</td>\n",
              "      <td>-122.33393</td>\n",
              "      <td>1996</td>\n",
              "      <td>...</td>\n",
              "      <td>179.399994</td>\n",
              "      <td>8387933.0</td>\n",
              "      <td>8664479.0</td>\n",
              "      <td>0.00</td>\n",
              "      <td>3242851.0</td>\n",
              "      <td>5145082.0</td>\n",
              "      <td>False</td>\n",
              "      <td>Compliant</td>\n",
              "      <td>None</td>\n",
              "      <td>295.86</td>\n",
              "    </tr>\n",
              "    <tr>\n",
              "      <th>2</th>\n",
              "      <td>3</td>\n",
              "      <td>NonResidential</td>\n",
              "      <td>Hotel</td>\n",
              "      <td>98101.0</td>\n",
              "      <td>0659000475</td>\n",
              "      <td>7</td>\n",
              "      <td>DOWNTOWN</td>\n",
              "      <td>47.61393</td>\n",
              "      <td>-122.33810</td>\n",
              "      <td>1969</td>\n",
              "      <td>...</td>\n",
              "      <td>244.100006</td>\n",
              "      <td>72587024.0</td>\n",
              "      <td>73937112.0</td>\n",
              "      <td>21566554.00</td>\n",
              "      <td>49526664.0</td>\n",
              "      <td>1493800.0</td>\n",
              "      <td>False</td>\n",
              "      <td>Compliant</td>\n",
              "      <td>None</td>\n",
              "      <td>2089.28</td>\n",
              "    </tr>\n",
              "    <tr>\n",
              "      <th>3</th>\n",
              "      <td>5</td>\n",
              "      <td>NonResidential</td>\n",
              "      <td>Hotel</td>\n",
              "      <td>98101.0</td>\n",
              "      <td>0659000640</td>\n",
              "      <td>7</td>\n",
              "      <td>DOWNTOWN</td>\n",
              "      <td>47.61412</td>\n",
              "      <td>-122.33664</td>\n",
              "      <td>1926</td>\n",
              "      <td>...</td>\n",
              "      <td>224.000000</td>\n",
              "      <td>6794584.0</td>\n",
              "      <td>6946800.5</td>\n",
              "      <td>2214446.25</td>\n",
              "      <td>2768924.0</td>\n",
              "      <td>1811213.0</td>\n",
              "      <td>False</td>\n",
              "      <td>Compliant</td>\n",
              "      <td>None</td>\n",
              "      <td>286.43</td>\n",
              "    </tr>\n",
              "    <tr>\n",
              "      <th>4</th>\n",
              "      <td>8</td>\n",
              "      <td>NonResidential</td>\n",
              "      <td>Hotel</td>\n",
              "      <td>98121.0</td>\n",
              "      <td>0659000970</td>\n",
              "      <td>7</td>\n",
              "      <td>DOWNTOWN</td>\n",
              "      <td>47.61375</td>\n",
              "      <td>-122.34047</td>\n",
              "      <td>1980</td>\n",
              "      <td>...</td>\n",
              "      <td>215.600006</td>\n",
              "      <td>14172606.0</td>\n",
              "      <td>14656503.0</td>\n",
              "      <td>0.00</td>\n",
              "      <td>5368607.0</td>\n",
              "      <td>8803998.0</td>\n",
              "      <td>False</td>\n",
              "      <td>Compliant</td>\n",
              "      <td>None</td>\n",
              "      <td>505.01</td>\n",
              "    </tr>\n",
              "  </tbody>\n",
              "</table>\n",
              "<p>5 rows × 37 columns</p>\n",
              "</div>\n",
              "      <button class=\"colab-df-convert\" onclick=\"convertToInteractive('df-311b265a-a96c-4454-9334-91481a419d4e')\"\n",
              "              title=\"Convert this dataframe to an interactive table.\"\n",
              "              style=\"display:none;\">\n",
              "\n",
              "  <svg xmlns=\"http://www.w3.org/2000/svg\" height=\"24px\"viewBox=\"0 0 24 24\"\n",
              "       width=\"24px\">\n",
              "    <path d=\"M0 0h24v24H0V0z\" fill=\"none\"/>\n",
              "    <path d=\"M18.56 5.44l.94 2.06.94-2.06 2.06-.94-2.06-.94-.94-2.06-.94 2.06-2.06.94zm-11 1L8.5 8.5l.94-2.06 2.06-.94-2.06-.94L8.5 2.5l-.94 2.06-2.06.94zm10 10l.94 2.06.94-2.06 2.06-.94-2.06-.94-.94-2.06-.94 2.06-2.06.94z\"/><path d=\"M17.41 7.96l-1.37-1.37c-.4-.4-.92-.59-1.43-.59-.52 0-1.04.2-1.43.59L10.3 9.45l-7.72 7.72c-.78.78-.78 2.05 0 2.83L4 21.41c.39.39.9.59 1.41.59.51 0 1.02-.2 1.41-.59l7.78-7.78 2.81-2.81c.8-.78.8-2.07 0-2.86zM5.41 20L4 18.59l7.72-7.72 1.47 1.35L5.41 20z\"/>\n",
              "  </svg>\n",
              "      </button>\n",
              "\n",
              "\n",
              "\n",
              "    <div id=\"df-020ce2a5-167e-4a07-abc3-c8424965e9ee\">\n",
              "      <button class=\"colab-df-quickchart\" onclick=\"quickchart('df-020ce2a5-167e-4a07-abc3-c8424965e9ee')\"\n",
              "              title=\"Suggest charts.\"\n",
              "              style=\"display:none;\">\n",
              "\n",
              "<svg xmlns=\"http://www.w3.org/2000/svg\" height=\"24px\"viewBox=\"0 0 24 24\"\n",
              "     width=\"24px\">\n",
              "    <g>\n",
              "        <path d=\"M19 3H5c-1.1 0-2 .9-2 2v14c0 1.1.9 2 2 2h14c1.1 0 2-.9 2-2V5c0-1.1-.9-2-2-2zM9 17H7v-7h2v7zm4 0h-2V7h2v10zm4 0h-2v-4h2v4z\"/>\n",
              "    </g>\n",
              "</svg>\n",
              "      </button>\n",
              "    </div>\n",
              "\n",
              "<style>\n",
              "  .colab-df-quickchart {\n",
              "    background-color: #E8F0FE;\n",
              "    border: none;\n",
              "    border-radius: 50%;\n",
              "    cursor: pointer;\n",
              "    display: none;\n",
              "    fill: #1967D2;\n",
              "    height: 32px;\n",
              "    padding: 0 0 0 0;\n",
              "    width: 32px;\n",
              "  }\n",
              "\n",
              "  .colab-df-quickchart:hover {\n",
              "    background-color: #E2EBFA;\n",
              "    box-shadow: 0px 1px 2px rgba(60, 64, 67, 0.3), 0px 1px 3px 1px rgba(60, 64, 67, 0.15);\n",
              "    fill: #174EA6;\n",
              "  }\n",
              "\n",
              "  [theme=dark] .colab-df-quickchart {\n",
              "    background-color: #3B4455;\n",
              "    fill: #D2E3FC;\n",
              "  }\n",
              "\n",
              "  [theme=dark] .colab-df-quickchart:hover {\n",
              "    background-color: #434B5C;\n",
              "    box-shadow: 0px 1px 3px 1px rgba(0, 0, 0, 0.15);\n",
              "    filter: drop-shadow(0px 1px 2px rgba(0, 0, 0, 0.3));\n",
              "    fill: #FFFFFF;\n",
              "  }\n",
              "</style>\n",
              "\n",
              "    <script>\n",
              "      async function quickchart(key) {\n",
              "        const containerElement = document.querySelector('#' + key);\n",
              "        const charts = await google.colab.kernel.invokeFunction(\n",
              "            'suggestCharts', [key], {});\n",
              "      }\n",
              "    </script>\n",
              "\n",
              "      <script>\n",
              "\n",
              "function displayQuickchartButton(domScope) {\n",
              "  let quickchartButtonEl =\n",
              "    domScope.querySelector('#df-020ce2a5-167e-4a07-abc3-c8424965e9ee button.colab-df-quickchart');\n",
              "  quickchartButtonEl.style.display =\n",
              "    google.colab.kernel.accessAllowed ? 'block' : 'none';\n",
              "}\n",
              "\n",
              "        displayQuickchartButton(document);\n",
              "      </script>\n",
              "      <style>\n",
              "    .colab-df-container {\n",
              "      display:flex;\n",
              "      flex-wrap:wrap;\n",
              "      gap: 12px;\n",
              "    }\n",
              "\n",
              "    .colab-df-convert {\n",
              "      background-color: #E8F0FE;\n",
              "      border: none;\n",
              "      border-radius: 50%;\n",
              "      cursor: pointer;\n",
              "      display: none;\n",
              "      fill: #1967D2;\n",
              "      height: 32px;\n",
              "      padding: 0 0 0 0;\n",
              "      width: 32px;\n",
              "    }\n",
              "\n",
              "    .colab-df-convert:hover {\n",
              "      background-color: #E2EBFA;\n",
              "      box-shadow: 0px 1px 2px rgba(60, 64, 67, 0.3), 0px 1px 3px 1px rgba(60, 64, 67, 0.15);\n",
              "      fill: #174EA6;\n",
              "    }\n",
              "\n",
              "    [theme=dark] .colab-df-convert {\n",
              "      background-color: #3B4455;\n",
              "      fill: #D2E3FC;\n",
              "    }\n",
              "\n",
              "    [theme=dark] .colab-df-convert:hover {\n",
              "      background-color: #434B5C;\n",
              "      box-shadow: 0px 1px 3px 1px rgba(0, 0, 0, 0.15);\n",
              "      filter: drop-shadow(0px 1px 2px rgba(0, 0, 0, 0.3));\n",
              "      fill: #FFFFFF;\n",
              "    }\n",
              "  </style>\n",
              "\n",
              "      <script>\n",
              "        const buttonEl =\n",
              "          document.querySelector('#df-311b265a-a96c-4454-9334-91481a419d4e button.colab-df-convert');\n",
              "        buttonEl.style.display =\n",
              "          google.colab.kernel.accessAllowed ? 'block' : 'none';\n",
              "\n",
              "        async function convertToInteractive(key) {\n",
              "          const element = document.querySelector('#df-311b265a-a96c-4454-9334-91481a419d4e');\n",
              "          const dataTable =\n",
              "            await google.colab.kernel.invokeFunction('convertToInteractive',\n",
              "                                                     [key], {});\n",
              "          if (!dataTable) return;\n",
              "\n",
              "          const docLinkHtml = 'Like what you see? Visit the ' +\n",
              "            '<a target=\"_blank\" href=https://colab.research.google.com/notebooks/data_table.ipynb>data table notebook</a>'\n",
              "            + ' to learn more about interactive tables.';\n",
              "          element.innerHTML = '';\n",
              "          dataTable['output_type'] = 'display_data';\n",
              "          await google.colab.output.renderOutput(dataTable, element);\n",
              "          const docLink = document.createElement('div');\n",
              "          docLink.innerHTML = docLinkHtml;\n",
              "          element.appendChild(docLink);\n",
              "        }\n",
              "      </script>\n",
              "    </div>\n",
              "  </div>\n"
            ]
          },
          "metadata": {},
          "execution_count": 4
        }
      ]
    },
    {
      "cell_type": "code",
      "source": [
        "# Remove IDs\n",
        "df = data.drop(['osebuildingid'], axis=1)\n",
        "df.info()"
      ],
      "metadata": {
        "colab": {
          "base_uri": "https://localhost:8080/"
        },
        "id": "Ih8tPaANUf_Q",
        "outputId": "281669a1-d6ce-4f8a-f858-275fa69f05c6"
      },
      "execution_count": null,
      "outputs": [
        {
          "output_type": "stream",
          "name": "stdout",
          "text": [
            "<class 'pandas.core.frame.DataFrame'>\n",
            "RangeIndex: 3376 entries, 0 to 3375\n",
            "Data columns (total 36 columns):\n",
            " #   Column                           Non-Null Count  Dtype  \n",
            "---  ------                           --------------  -----  \n",
            " 0   buildingtype                     3376 non-null   object \n",
            " 1   primarypropertytype              3376 non-null   object \n",
            " 2   zipcode                          3360 non-null   float64\n",
            " 3   taxparcelidentificationnumber    3376 non-null   object \n",
            " 4   councildistrictcode              3376 non-null   int64  \n",
            " 5   neighborhood                     3376 non-null   object \n",
            " 6   latitude                         3376 non-null   float64\n",
            " 7   longitude                        3376 non-null   float64\n",
            " 8   yearbuilt                        3376 non-null   int64  \n",
            " 9   numberofbuildings                3368 non-null   float64\n",
            " 10  numberoffloors                   3376 non-null   int64  \n",
            " 11  propertygfatotal                 3376 non-null   int64  \n",
            " 12  propertygfaparking               3376 non-null   int64  \n",
            " 13  propertygfabuilding_s            3376 non-null   int64  \n",
            " 14  listofallpropertyusetypes        3367 non-null   object \n",
            " 15  largestpropertyusetype           3367 non-null   object \n",
            " 16  largestpropertyusetypegfa        3356 non-null   float64\n",
            " 17  secondlargestpropertyusetype     1690 non-null   object \n",
            " 18  secondlargestpropertyusetypegfa  0 non-null      object \n",
            " 19  thirdlargestpropertyusetype      607 non-null    object \n",
            " 20  thirdlargestpropertyusetypegfa   596 non-null    float64\n",
            " 21  yearsenergystarcertified         119 non-null    float64\n",
            " 22  energystarscore                  2541 non-null   object \n",
            " 23  siteeui_kbtu_sf                  3369 non-null   float64\n",
            " 24  siteeuiwn_kbtu_sf                3370 non-null   float64\n",
            " 25  sourceeui_kbtu_sf                3367 non-null   float64\n",
            " 26  sourceeuiwn_kbtu_sf              3367 non-null   float64\n",
            " 27  siteenergyuse_kbtu               3371 non-null   float64\n",
            " 28  siteenergyusewn_kbtu             3370 non-null   float64\n",
            " 29  steamuse_kbtu                    3367 non-null   float64\n",
            " 30  electricity_kbtu                 3367 non-null   float64\n",
            " 31  naturalgas_kbtu                  3367 non-null   float64\n",
            " 32  defaultdata                      3376 non-null   bool   \n",
            " 33  compliancestatus                 3376 non-null   object \n",
            " 34  outlier                          32 non-null     object \n",
            " 35  totalghgemissions                3367 non-null   float64\n",
            "dtypes: bool(1), float64(17), int64(6), object(12)\n",
            "memory usage: 926.5+ KB\n"
          ]
        }
      ]
    },
    {
      "cell_type": "markdown",
      "source": [
        "#2.Data cleaning"
      ],
      "metadata": {
        "id": "0C-efNf2YTys"
      }
    },
    {
      "cell_type": "code",
      "source": [
        "df['compliancestatus'].value_counts()"
      ],
      "metadata": {
        "colab": {
          "base_uri": "https://localhost:8080/"
        },
        "id": "YxBh-6QIx2xy",
        "outputId": "b21392c3-7e19-4c4b-c875-a9fb0d41a960"
      },
      "execution_count": null,
      "outputs": [
        {
          "output_type": "execute_result",
          "data": {
            "text/plain": [
              "Compliant                       3211\n",
              "Error - Correct Default Data     113\n",
              "Non-Compliant                     37\n",
              "Missing Data                      15\n",
              "Name: compliancestatus, dtype: int64"
            ]
          },
          "metadata": {},
          "execution_count": 6
        }
      ]
    },
    {
      "cell_type": "code",
      "source": [
        "# Fix the values for 'compliancestatus'\n",
        "df['compliancestatus'].replace('Missing Data', np.nan, inplace=True)"
      ],
      "metadata": {
        "id": "DAL8ACkZzywb"
      },
      "execution_count": null,
      "outputs": []
    },
    {
      "cell_type": "code",
      "source": [
        "df['neighborhood'].value_counts()"
      ],
      "metadata": {
        "colab": {
          "base_uri": "https://localhost:8080/"
        },
        "id": "pBAE8w4Uulft",
        "outputId": "8157194c-07d0-4774-8422-01a70f793e07"
      },
      "execution_count": null,
      "outputs": [
        {
          "output_type": "execute_result",
          "data": {
            "text/plain": [
              "DOWNTOWN                  573\n",
              "EAST                      453\n",
              "MAGNOLIA / QUEEN ANNE     423\n",
              "GREATER DUWAMISH          375\n",
              "NORTHEAST                 280\n",
              "LAKE UNION                251\n",
              "NORTHWEST                 210\n",
              "SOUTHWEST                 166\n",
              "NORTH                     145\n",
              "BALLARD                   126\n",
              "CENTRAL                   107\n",
              "SOUTHEAST                  95\n",
              "DELRIDGE                   80\n",
              "North                      42\n",
              "Central                    27\n",
              "Northwest                  11\n",
              "Ballard                     7\n",
              "Delridge                    4\n",
              "DELRIDGE NEIGHBORHOODS      1\n",
              "Name: neighborhood, dtype: int64"
            ]
          },
          "metadata": {},
          "execution_count": 8
        }
      ]
    },
    {
      "cell_type": "code",
      "source": [
        "# Fix the case and replace duplicates\n",
        "df['neighborhood'] = df['neighborhood'].str.upper()\n",
        "df['neighborhood'] = df['neighborhood'].str.replace('DELRIDGE NEIGHBORHOODS','DELRIDGE')\n",
        "df['neighborhood'].value_counts()"
      ],
      "metadata": {
        "colab": {
          "base_uri": "https://localhost:8080/"
        },
        "id": "eUSRJrBKwjUS",
        "outputId": "51031e69-b963-4906-8ca0-ac63da0660a3"
      },
      "execution_count": null,
      "outputs": [
        {
          "output_type": "execute_result",
          "data": {
            "text/plain": [
              "DOWNTOWN                 573\n",
              "EAST                     453\n",
              "MAGNOLIA / QUEEN ANNE    423\n",
              "GREATER DUWAMISH         375\n",
              "NORTHEAST                280\n",
              "LAKE UNION               251\n",
              "NORTHWEST                221\n",
              "NORTH                    187\n",
              "SOUTHWEST                166\n",
              "CENTRAL                  134\n",
              "BALLARD                  133\n",
              "SOUTHEAST                 95\n",
              "DELRIDGE                  85\n",
              "Name: neighborhood, dtype: int64"
            ]
          },
          "metadata": {},
          "execution_count": 9
        }
      ]
    },
    {
      "cell_type": "code",
      "source": [
        "# Drop all rows where the 'outlier' column is not null\n",
        "df.drop(index=df[df['outlier'].notna()].index, inplace=True)\n",
        "df.drop(['outlier'], axis=1, inplace=True)\n",
        "df.info()"
      ],
      "metadata": {
        "colab": {
          "base_uri": "https://localhost:8080/"
        },
        "id": "LrjKq6UTyu3_",
        "outputId": "97bddcda-55b7-4a5b-b141-81a318ac98d8"
      },
      "execution_count": null,
      "outputs": [
        {
          "output_type": "stream",
          "name": "stdout",
          "text": [
            "<class 'pandas.core.frame.DataFrame'>\n",
            "Int64Index: 3344 entries, 0 to 3375\n",
            "Data columns (total 35 columns):\n",
            " #   Column                           Non-Null Count  Dtype  \n",
            "---  ------                           --------------  -----  \n",
            " 0   buildingtype                     3344 non-null   object \n",
            " 1   primarypropertytype              3344 non-null   object \n",
            " 2   zipcode                          3328 non-null   float64\n",
            " 3   taxparcelidentificationnumber    3344 non-null   object \n",
            " 4   councildistrictcode              3344 non-null   int64  \n",
            " 5   neighborhood                     3344 non-null   object \n",
            " 6   latitude                         3344 non-null   float64\n",
            " 7   longitude                        3344 non-null   float64\n",
            " 8   yearbuilt                        3344 non-null   int64  \n",
            " 9   numberofbuildings                3336 non-null   float64\n",
            " 10  numberoffloors                   3344 non-null   int64  \n",
            " 11  propertygfatotal                 3344 non-null   int64  \n",
            " 12  propertygfaparking               3344 non-null   int64  \n",
            " 13  propertygfabuilding_s            3344 non-null   int64  \n",
            " 14  listofallpropertyusetypes        3335 non-null   object \n",
            " 15  largestpropertyusetype           3335 non-null   object \n",
            " 16  largestpropertyusetypegfa        3324 non-null   float64\n",
            " 17  secondlargestpropertyusetype     1674 non-null   object \n",
            " 18  secondlargestpropertyusetypegfa  0 non-null      object \n",
            " 19  thirdlargestpropertyusetype      600 non-null    object \n",
            " 20  thirdlargestpropertyusetypegfa   589 non-null    float64\n",
            " 21  yearsenergystarcertified         119 non-null    float64\n",
            " 22  energystarscore                  2518 non-null   object \n",
            " 23  siteeui_kbtu_sf                  3337 non-null   float64\n",
            " 24  siteeuiwn_kbtu_sf                3338 non-null   float64\n",
            " 25  sourceeui_kbtu_sf                3335 non-null   float64\n",
            " 26  sourceeuiwn_kbtu_sf              3335 non-null   float64\n",
            " 27  siteenergyuse_kbtu               3339 non-null   float64\n",
            " 28  siteenergyusewn_kbtu             3338 non-null   float64\n",
            " 29  steamuse_kbtu                    3335 non-null   float64\n",
            " 30  electricity_kbtu                 3335 non-null   float64\n",
            " 31  naturalgas_kbtu                  3335 non-null   float64\n",
            " 32  defaultdata                      3344 non-null   bool   \n",
            " 33  compliancestatus                 3329 non-null   object \n",
            " 34  totalghgemissions                3335 non-null   float64\n",
            "dtypes: bool(1), float64(17), int64(6), object(11)\n",
            "memory usage: 917.6+ KB\n"
          ]
        }
      ]
    },
    {
      "cell_type": "code",
      "source": [
        "# Fix 'energystarscore'\n",
        "df['energystarscore'] = df['energystarscore'].replace(\"NULL\", None)"
      ],
      "metadata": {
        "id": "g7a0nLbSJNmn"
      },
      "execution_count": null,
      "outputs": []
    },
    {
      "cell_type": "code",
      "source": [
        "# Drop columns with too many missing values\n",
        "threshold = 70 # minimum percentage of non-null cells in each column\n",
        "for column in df.columns:\n",
        "  if df[column].isnull().sum() / len(df) *100 > (100 - threshold):\n",
        "      df.drop([column], axis=1, inplace=True)\n",
        "df.info()"
      ],
      "metadata": {
        "colab": {
          "base_uri": "https://localhost:8080/"
        },
        "id": "klQ-Kb5P4X2D",
        "outputId": "6a49d32e-15f1-457a-8281-72e2f1224f11"
      },
      "execution_count": null,
      "outputs": [
        {
          "output_type": "stream",
          "name": "stdout",
          "text": [
            "<class 'pandas.core.frame.DataFrame'>\n",
            "Int64Index: 3344 entries, 0 to 3375\n",
            "Data columns (total 30 columns):\n",
            " #   Column                         Non-Null Count  Dtype  \n",
            "---  ------                         --------------  -----  \n",
            " 0   buildingtype                   3344 non-null   object \n",
            " 1   primarypropertytype            3344 non-null   object \n",
            " 2   zipcode                        3328 non-null   float64\n",
            " 3   taxparcelidentificationnumber  3344 non-null   object \n",
            " 4   councildistrictcode            3344 non-null   int64  \n",
            " 5   neighborhood                   3344 non-null   object \n",
            " 6   latitude                       3344 non-null   float64\n",
            " 7   longitude                      3344 non-null   float64\n",
            " 8   yearbuilt                      3344 non-null   int64  \n",
            " 9   numberofbuildings              3336 non-null   float64\n",
            " 10  numberoffloors                 3344 non-null   int64  \n",
            " 11  propertygfatotal               3344 non-null   int64  \n",
            " 12  propertygfaparking             3344 non-null   int64  \n",
            " 13  propertygfabuilding_s          3344 non-null   int64  \n",
            " 14  listofallpropertyusetypes      3335 non-null   object \n",
            " 15  largestpropertyusetype         3335 non-null   object \n",
            " 16  largestpropertyusetypegfa      3324 non-null   float64\n",
            " 17  energystarscore                2510 non-null   object \n",
            " 18  siteeui_kbtu_sf                3337 non-null   float64\n",
            " 19  siteeuiwn_kbtu_sf              3338 non-null   float64\n",
            " 20  sourceeui_kbtu_sf              3335 non-null   float64\n",
            " 21  sourceeuiwn_kbtu_sf            3335 non-null   float64\n",
            " 22  siteenergyuse_kbtu             3339 non-null   float64\n",
            " 23  siteenergyusewn_kbtu           3338 non-null   float64\n",
            " 24  steamuse_kbtu                  3335 non-null   float64\n",
            " 25  electricity_kbtu               3335 non-null   float64\n",
            " 26  naturalgas_kbtu                3335 non-null   float64\n",
            " 27  defaultdata                    3344 non-null   bool   \n",
            " 28  compliancestatus               3329 non-null   object \n",
            " 29  totalghgemissions              3335 non-null   float64\n",
            "dtypes: bool(1), float64(15), int64(6), object(8)\n",
            "memory usage: 787.0+ KB\n"
          ]
        }
      ]
    },
    {
      "cell_type": "code",
      "source": [
        "# Impute 'zipcode' missing values from 'latitude' and 'longitude'\n",
        "location = ['zipcode', 'latitude', 'longitude']\n",
        "dfl = df[location]\n",
        "dfl = pd.DataFrame(data=KNNImputer(n_neighbors=10).fit_transform(dfl), index=df.index, columns=location)\n",
        "df = df.drop(columns=location).join(dfl)"
      ],
      "metadata": {
        "id": "CXIV1PiRGHw4"
      },
      "execution_count": null,
      "outputs": []
    },
    {
      "cell_type": "markdown",
      "source": [
        "#x.Feature Engineering"
      ],
      "metadata": {
        "id": "MvQvY9sKhF6U"
      }
    },
    {
      "cell_type": "code",
      "source": [
        "# Derive the buildings age from 'yearbuilt'\n",
        "current_year = datetime.datetime.now().year\n",
        "df['age'] = df['yearbuilt'].apply(lambda x: current_year - x)\n",
        "df.drop(['yearbuilt'], axis=1, inplace=True)"
      ],
      "metadata": {
        "id": "E61JjLwEI_1G"
      },
      "execution_count": null,
      "outputs": []
    },
    {
      "cell_type": "markdown",
      "source": [
        "According to the brief (\"les relevés sont coûteux à obtenir\"), the city of Seattle would like to predict CO2 emissions without knowing the energy consumption, so we are only going to keep the type of energy usage for each building :"
      ],
      "metadata": {
        "id": "VQQai637C-fM"
      }
    },
    {
      "cell_type": "code",
      "source": [
        "# Create new columns for the types of energy consumption (steam/electricity/gaz)df['numberofbuildings'] = df['numberofbuildings'].astype('int64')\n",
        "def energy_usage(cell):\n",
        "    if cell > 0:\n",
        "      return True\n",
        "    else:\n",
        "      return False\n",
        "df['steamuse_kbtu'] = df['steamuse_kbtu'].apply(energy_usage)\n",
        "df['electricity_kbtu'] = df['electricity_kbtu'].apply(energy_usage)\n",
        "df['naturalgas_kbtu'] = df['naturalgas_kbtu'].apply(energy_usage)\n",
        "df.rename(columns={'steamuse_kbtu': 'steam'}, inplace=True)\n",
        "df.rename(columns={'electricity_kbtu': 'electricity'}, inplace=True)\n",
        "df.rename(columns={'naturalgas_kbtu': 'naturalgas'}, inplace=True)\n",
        "df.info()"
      ],
      "metadata": {
        "colab": {
          "base_uri": "https://localhost:8080/"
        },
        "id": "XtAddE0Fa88g",
        "outputId": "20ddc3c4-4233-41f3-e8a1-7fc56771fd31"
      },
      "execution_count": null,
      "outputs": [
        {
          "output_type": "stream",
          "name": "stdout",
          "text": [
            "<class 'pandas.core.frame.DataFrame'>\n",
            "Int64Index: 3344 entries, 0 to 3375\n",
            "Data columns (total 30 columns):\n",
            " #   Column                         Non-Null Count  Dtype  \n",
            "---  ------                         --------------  -----  \n",
            " 0   buildingtype                   3344 non-null   object \n",
            " 1   primarypropertytype            3344 non-null   object \n",
            " 2   taxparcelidentificationnumber  3344 non-null   object \n",
            " 3   councildistrictcode            3344 non-null   int64  \n",
            " 4   neighborhood                   3344 non-null   object \n",
            " 5   numberofbuildings              3336 non-null   float64\n",
            " 6   numberoffloors                 3344 non-null   int64  \n",
            " 7   propertygfatotal               3344 non-null   int64  \n",
            " 8   propertygfaparking             3344 non-null   int64  \n",
            " 9   propertygfabuilding_s          3344 non-null   int64  \n",
            " 10  listofallpropertyusetypes      3335 non-null   object \n",
            " 11  largestpropertyusetype         3335 non-null   object \n",
            " 12  largestpropertyusetypegfa      3324 non-null   float64\n",
            " 13  energystarscore                2510 non-null   object \n",
            " 14  siteeui_kbtu_sf                3337 non-null   float64\n",
            " 15  siteeuiwn_kbtu_sf              3338 non-null   float64\n",
            " 16  sourceeui_kbtu_sf              3335 non-null   float64\n",
            " 17  sourceeuiwn_kbtu_sf            3335 non-null   float64\n",
            " 18  siteenergyuse_kbtu             3339 non-null   float64\n",
            " 19  siteenergyusewn_kbtu           3338 non-null   float64\n",
            " 20  steam                          3344 non-null   bool   \n",
            " 21  electricity                    3344 non-null   bool   \n",
            " 22  naturalgas                     3344 non-null   bool   \n",
            " 23  defaultdata                    3344 non-null   bool   \n",
            " 24  compliancestatus               3329 non-null   object \n",
            " 25  totalghgemissions              3335 non-null   float64\n",
            " 26  zipcode                        3344 non-null   float64\n",
            " 27  latitude                       3344 non-null   float64\n",
            " 28  longitude                      3344 non-null   float64\n",
            " 29  age                            3344 non-null   int64  \n",
            "dtypes: bool(4), float64(12), int64(6), object(8)\n",
            "memory usage: 847.5+ KB\n"
          ]
        }
      ]
    },
    {
      "cell_type": "markdown",
      "source": [
        "#x.Target engineering\n",
        "\n",
        "'sourceeuiwn_kbtu_sf', 'sourceeui_kbtu_sf', 'siteeuiwn_kbtu_sf', 'siteeui_kbtu_sf', 'siteenergyusewn_kbtu', 'siteenergyuse_kbtu', 'totalghgemissions'"
      ],
      "metadata": {
        "id": "ZafQs1jD8v1A"
      }
    },
    {
      "cell_type": "code",
      "source": [
        "df['source_site'] = df['sourceeuiwn_kbtu_sf'] / df['siteeuiwn_kbtu_sf']\n",
        "df['source_site'].describe()"
      ],
      "metadata": {
        "colab": {
          "base_uri": "https://localhost:8080/"
        },
        "id": "aRTnM0Alh9Gf",
        "outputId": "1256c62d-2803-48cf-8da9-2774793099a7"
      },
      "execution_count": null,
      "outputs": [
        {
          "output_type": "execute_result",
          "data": {
            "text/plain": [
              "count    3305.000000\n",
              "mean        2.555850\n",
              "std         0.628898\n",
              "min        -0.420000\n",
              "25%         2.115583\n",
              "50%         2.634804\n",
              "75%         3.138461\n",
              "max        13.211111\n",
              "Name: source_site, dtype: float64"
            ]
          },
          "metadata": {},
          "execution_count": 16
        }
      ]
    },
    {
      "cell_type": "code",
      "source": [
        "df.info()"
      ],
      "metadata": {
        "colab": {
          "base_uri": "https://localhost:8080/"
        },
        "id": "Q4fmTBs0De_o",
        "outputId": "10fdd8b0-9af5-4ffe-a651-d98544e61727"
      },
      "execution_count": null,
      "outputs": [
        {
          "output_type": "stream",
          "name": "stdout",
          "text": [
            "<class 'pandas.core.frame.DataFrame'>\n",
            "Int64Index: 3344 entries, 0 to 3375\n",
            "Data columns (total 31 columns):\n",
            " #   Column                         Non-Null Count  Dtype  \n",
            "---  ------                         --------------  -----  \n",
            " 0   buildingtype                   3344 non-null   object \n",
            " 1   primarypropertytype            3344 non-null   object \n",
            " 2   taxparcelidentificationnumber  3344 non-null   object \n",
            " 3   councildistrictcode            3344 non-null   int64  \n",
            " 4   neighborhood                   3344 non-null   object \n",
            " 5   numberofbuildings              3336 non-null   float64\n",
            " 6   numberoffloors                 3344 non-null   int64  \n",
            " 7   propertygfatotal               3344 non-null   int64  \n",
            " 8   propertygfaparking             3344 non-null   int64  \n",
            " 9   propertygfabuilding_s          3344 non-null   int64  \n",
            " 10  listofallpropertyusetypes      3335 non-null   object \n",
            " 11  largestpropertyusetype         3335 non-null   object \n",
            " 12  largestpropertyusetypegfa      3324 non-null   float64\n",
            " 13  energystarscore                2510 non-null   object \n",
            " 14  siteeui_kbtu_sf                3337 non-null   float64\n",
            " 15  siteeuiwn_kbtu_sf              3338 non-null   float64\n",
            " 16  sourceeui_kbtu_sf              3335 non-null   float64\n",
            " 17  sourceeuiwn_kbtu_sf            3335 non-null   float64\n",
            " 18  siteenergyuse_kbtu             3339 non-null   float64\n",
            " 19  siteenergyusewn_kbtu           3338 non-null   float64\n",
            " 20  steam                          3344 non-null   bool   \n",
            " 21  electricity                    3344 non-null   bool   \n",
            " 22  naturalgas                     3344 non-null   bool   \n",
            " 23  defaultdata                    3344 non-null   bool   \n",
            " 24  compliancestatus               3329 non-null   object \n",
            " 25  totalghgemissions              3335 non-null   float64\n",
            " 26  zipcode                        3344 non-null   float64\n",
            " 27  latitude                       3344 non-null   float64\n",
            " 28  longitude                      3344 non-null   float64\n",
            " 29  age                            3344 non-null   int64  \n",
            " 30  source_site                    3305 non-null   float64\n",
            "dtypes: bool(4), float64(13), int64(6), object(8)\n",
            "memory usage: 873.6+ KB\n"
          ]
        }
      ]
    },
    {
      "cell_type": "code",
      "source": [
        "# Remove the few rows where target values are missing\n",
        "df.dropna(subset=['source_site'], inplace=True)\n",
        "df.dropna(subset=['siteenergyuse_kbtu'], inplace=True)\n",
        "df.dropna(subset=['siteenergyusewn_kbtu'], inplace=True)\n",
        "df.dropna(subset=['totalghgemissions'], inplace=True)\n",
        "df.dropna(subset=['siteeui_kbtu_sf'], inplace=True)\n",
        "df.dropna(subset=['siteeuiwn_kbtu_sf'], inplace=True)\n",
        "df.dropna(subset=['sourceeui_kbtu_sf'], inplace=True)\n",
        "df.dropna(subset=['sourceeuiwn_kbtu_sf'], inplace=True)\n",
        "df.info()"
      ],
      "metadata": {
        "colab": {
          "base_uri": "https://localhost:8080/"
        },
        "id": "LpKXE6yYhkAv",
        "outputId": "57c9178d-61c6-4866-936f-757999e276f4"
      },
      "execution_count": null,
      "outputs": [
        {
          "output_type": "stream",
          "name": "stdout",
          "text": [
            "<class 'pandas.core.frame.DataFrame'>\n",
            "Int64Index: 3305 entries, 0 to 3375\n",
            "Data columns (total 31 columns):\n",
            " #   Column                         Non-Null Count  Dtype  \n",
            "---  ------                         --------------  -----  \n",
            " 0   buildingtype                   3305 non-null   object \n",
            " 1   primarypropertytype            3305 non-null   object \n",
            " 2   taxparcelidentificationnumber  3305 non-null   object \n",
            " 3   councildistrictcode            3305 non-null   int64  \n",
            " 4   neighborhood                   3305 non-null   object \n",
            " 5   numberofbuildings              3305 non-null   float64\n",
            " 6   numberoffloors                 3305 non-null   int64  \n",
            " 7   propertygfatotal               3305 non-null   int64  \n",
            " 8   propertygfaparking             3305 non-null   int64  \n",
            " 9   propertygfabuilding_s          3305 non-null   int64  \n",
            " 10  listofallpropertyusetypes      3305 non-null   object \n",
            " 11  largestpropertyusetype         3305 non-null   object \n",
            " 12  largestpropertyusetypegfa      3294 non-null   float64\n",
            " 13  energystarscore                2500 non-null   object \n",
            " 14  siteeui_kbtu_sf                3305 non-null   float64\n",
            " 15  siteeuiwn_kbtu_sf              3305 non-null   float64\n",
            " 16  sourceeui_kbtu_sf              3305 non-null   float64\n",
            " 17  sourceeuiwn_kbtu_sf            3305 non-null   float64\n",
            " 18  siteenergyuse_kbtu             3305 non-null   float64\n",
            " 19  siteenergyusewn_kbtu           3305 non-null   float64\n",
            " 20  steam                          3305 non-null   bool   \n",
            " 21  electricity                    3305 non-null   bool   \n",
            " 22  naturalgas                     3305 non-null   bool   \n",
            " 23  defaultdata                    3305 non-null   bool   \n",
            " 24  compliancestatus               3305 non-null   object \n",
            " 25  totalghgemissions              3305 non-null   float64\n",
            " 26  zipcode                        3305 non-null   float64\n",
            " 27  latitude                       3305 non-null   float64\n",
            " 28  longitude                      3305 non-null   float64\n",
            " 29  age                            3305 non-null   int64  \n",
            " 30  source_site                    3305 non-null   float64\n",
            "dtypes: bool(4), float64(13), int64(6), object(8)\n",
            "memory usage: 735.9+ KB\n"
          ]
        }
      ]
    },
    {
      "cell_type": "code",
      "source": [
        "# Now that there are less missing values, change the feature types\n",
        "df['zipcode'] = df['zipcode'].astype('object')\n",
        "df['councildistrictcode'] = df['councildistrictcode'].astype('object')\n",
        "df['numberofbuildings'] = df['numberofbuildings'].astype('int64')\n",
        "#df['largestpropertyusetypegfa'] = df['largestpropertyusetypegfa'].astype('int64')\n",
        "df.dtypes"
      ],
      "metadata": {
        "colab": {
          "base_uri": "https://localhost:8080/"
        },
        "id": "DikMs3th_VvM",
        "outputId": "3ad7d123-cee9-4648-abbb-b94a69494085"
      },
      "execution_count": null,
      "outputs": [
        {
          "output_type": "execute_result",
          "data": {
            "text/plain": [
              "buildingtype                      object\n",
              "primarypropertytype               object\n",
              "taxparcelidentificationnumber     object\n",
              "councildistrictcode               object\n",
              "neighborhood                      object\n",
              "numberofbuildings                  int64\n",
              "numberoffloors                     int64\n",
              "propertygfatotal                   int64\n",
              "propertygfaparking                 int64\n",
              "propertygfabuilding_s              int64\n",
              "listofallpropertyusetypes         object\n",
              "largestpropertyusetype            object\n",
              "largestpropertyusetypegfa        float64\n",
              "energystarscore                   object\n",
              "siteeui_kbtu_sf                  float64\n",
              "siteeuiwn_kbtu_sf                float64\n",
              "sourceeui_kbtu_sf                float64\n",
              "sourceeuiwn_kbtu_sf              float64\n",
              "siteenergyuse_kbtu               float64\n",
              "siteenergyusewn_kbtu             float64\n",
              "steam                               bool\n",
              "electricity                         bool\n",
              "naturalgas                          bool\n",
              "defaultdata                         bool\n",
              "compliancestatus                  object\n",
              "totalghgemissions                float64\n",
              "zipcode                           object\n",
              "latitude                         float64\n",
              "longitude                        float64\n",
              "age                                int64\n",
              "source_site                      float64\n",
              "dtype: object"
            ]
          },
          "metadata": {},
          "execution_count": 22
        }
      ]
    },
    {
      "cell_type": "markdown",
      "source": [
        "#3.Data Profiling"
      ],
      "metadata": {
        "id": "FyR8HU3BFLvF"
      }
    },
    {
      "cell_type": "code",
      "source": [
        "# Fix for the Google Colab bug \"ValueError: Only supported for TrueType fonts\" : the report gets generated externally by the profiling.py file\n",
        "df.to_csv('co2_eda.csv', index=False)\n",
        "files.download('co2_eda.csv')"
      ],
      "metadata": {
        "id": "7ep8ZDRYtrwX",
        "colab": {
          "base_uri": "https://localhost:8080/",
          "height": 17
        },
        "outputId": "1a78372d-4aac-42e4-8d63-5871024408fe"
      },
      "execution_count": null,
      "outputs": [
        {
          "output_type": "display_data",
          "data": {
            "text/plain": [
              "<IPython.core.display.Javascript object>"
            ],
            "application/javascript": [
              "\n",
              "    async function download(id, filename, size) {\n",
              "      if (!google.colab.kernel.accessAllowed) {\n",
              "        return;\n",
              "      }\n",
              "      const div = document.createElement('div');\n",
              "      const label = document.createElement('label');\n",
              "      label.textContent = `Downloading \"${filename}\": `;\n",
              "      div.appendChild(label);\n",
              "      const progress = document.createElement('progress');\n",
              "      progress.max = size;\n",
              "      div.appendChild(progress);\n",
              "      document.body.appendChild(div);\n",
              "\n",
              "      const buffers = [];\n",
              "      let downloaded = 0;\n",
              "\n",
              "      const channel = await google.colab.kernel.comms.open(id);\n",
              "      // Send a message to notify the kernel that we're ready.\n",
              "      channel.send({})\n",
              "\n",
              "      for await (const message of channel.messages) {\n",
              "        // Send a message to notify the kernel that we're ready.\n",
              "        channel.send({})\n",
              "        if (message.buffers) {\n",
              "          for (const buffer of message.buffers) {\n",
              "            buffers.push(buffer);\n",
              "            downloaded += buffer.byteLength;\n",
              "            progress.value = downloaded;\n",
              "          }\n",
              "        }\n",
              "      }\n",
              "      const blob = new Blob(buffers, {type: 'application/binary'});\n",
              "      const a = document.createElement('a');\n",
              "      a.href = window.URL.createObjectURL(blob);\n",
              "      a.download = filename;\n",
              "      div.appendChild(a);\n",
              "      a.click();\n",
              "      div.remove();\n",
              "    }\n",
              "  "
            ]
          },
          "metadata": {}
        },
        {
          "output_type": "display_data",
          "data": {
            "text/plain": [
              "<IPython.core.display.Javascript object>"
            ],
            "application/javascript": [
              "download(\"download_c85b42d3-12ef-4db0-b7e2-7fbf17f42462\", \"co2_eda.csv\", 952068)"
            ]
          },
          "metadata": {}
        }
      ]
    },
    {
      "cell_type": "markdown",
      "source": [
        "L'intégralité du rapport est disponible sur https://seabeb.azurewebsites.net/dashboard (ou http://127.0.0.1:8000/dashboard si la web app est arrêtée)."
      ],
      "metadata": {
        "id": "Z2U_0KqWHrGg"
      }
    },
    {
      "cell_type": "markdown",
      "source": [
        "##### Variable dépendante : TotalGHGEmissions\n",
        "L'immense majorité des immeubles émet moins de 50 tonnes, mais on peut noter la présence de quelques outliers qui polluent énormément.\n",
        "La rubrique \"Interactions\" montre que les émissions tendent à croître avec le nombre d'étages, mais aussi avec le score Energy Star, ce qui est beaucoup moins logique : les immeubles les mieux notés devraient au contraire émettre moins de gaz à effet de serre...\n",
        "\n",
        "La superficie des immeubles (en premier lieu, 'propertygfatotal') est fortement liée au niveau d'émission, comme l'indique la matrice de corrélation."
      ],
      "metadata": {
        "id": "P_s-3p4EVkDk"
      }
    },
    {
      "cell_type": "markdown",
      "source": [
        "#4.Sélection des features\n",
        "\n",
        "Idéalement, cette tâche devrait être effectuée autoùatiquement avec [RFECV](https://scikit-learn.org/stable/modules/generated/sklearn.feature_selection.RFECV.html), mais l'algorithme requiert des ressources trop élevées pour Google Colab.\n",
        "\n",
        "L'autre solution serait d'entraîner un modèle comprenant toutes les features avec XGBoost et sa régularisation L1 : contrairement aux modèles comme Lasso ou ElasticNet, il peut gérer la non-linéarité. Le OneHotEncoder pourrait être remplacé avec un TargetEncoder qui diminuerait grandement le nombre de colomnes à traiter. Malheureusement, aucun Target encoder testé ne semble fonctionner correctement dans le cas de targets multiples au sein d'une pipeline.\n",
        "\n",
        "A défaut, nous allons eefectuer une première sélection sur des bases staistiques, puis XGBoost nous aidera\n"
      ],
      "metadata": {
        "id": "71cCVl1UNble"
      }
    },
    {
      "cell_type": "markdown",
      "source": [
        "##4.1Statistical\n",
        "\n",
        "La variable 'electricity' peut être négligée parce qu'elle est fortement corrélée à la nouvelle feature 'source_site' et présente un grand déséquilibre : seulement 15 immeubles ne consomment pas d'électricité.\n",
        "\n",
        "La variable 'primarypropertytype' sera préférée à 'buildingtype' parce qu'elle est davantage corrélée avec les targets.\n",
        "Pour la même raison, nous choisirons 'councildistrictcode' parmi toutes les variables de localisation qui sont plus ou moins corrélées. Et 'propertygfatotal' à la place de 'propertygfabuilding_s' et 'largestpropertyusetypegfa'.\n",
        "\n",
        "\n",
        "Après le nettoyage des données, il s'avère que la variable 'compliancestatus' est devenue constante sur l'ensemble des lignes restantes, donc on peut la supprimer également. Le processus de sélection des features sera approfondi ultérieurement, mais voici le dataframe qui servira de base à la modélisation :"
      ],
      "metadata": {
        "id": "kKlo18tXbUWS"
      }
    },
    {
      "cell_type": "code",
      "source": [
        "# Drop unnecessary features\n",
        "df_stats = df.drop(['electricity', 'buildingtype', 'propertygfabuilding_s', 'largestpropertyusetypegfa', 'neighborhood', 'zipcode', 'latitude', 'longitude', 'compliancestatus', 'defaultdata', 'taxparcelidentificationnumber'], axis=1)\n",
        "df_stats.info()"
      ],
      "metadata": {
        "colab": {
          "base_uri": "https://localhost:8080/"
        },
        "id": "w-0bulHvCfwy",
        "outputId": "2b8135b4-0803-439a-e63c-c4080ae1e24a"
      },
      "execution_count": null,
      "outputs": [
        {
          "output_type": "stream",
          "name": "stdout",
          "text": [
            "<class 'pandas.core.frame.DataFrame'>\n",
            "Int64Index: 3334 entries, 0 to 3375\n",
            "Data columns (total 16 columns):\n",
            " #   Column                     Non-Null Count  Dtype  \n",
            "---  ------                     --------------  -----  \n",
            " 0   primarypropertytype        3334 non-null   object \n",
            " 1   councildistrictcode        3334 non-null   object \n",
            " 2   numberofbuildings          3334 non-null   int64  \n",
            " 3   numberoffloors             3334 non-null   int64  \n",
            " 4   propertygfatotal           3334 non-null   int64  \n",
            " 5   propertygfaparking         3334 non-null   int64  \n",
            " 6   listofallpropertyusetypes  3334 non-null   object \n",
            " 7   largestpropertyusetype     3334 non-null   object \n",
            " 8   energystarscore            2509 non-null   float64\n",
            " 9   siteenergyuse_kbtu         3334 non-null   float64\n",
            " 10  siteenergyusewn_kbtu       3334 non-null   float64\n",
            " 11  steam                      3334 non-null   int64  \n",
            " 12  naturalgas                 3334 non-null   int64  \n",
            " 13  totalghgemissions          3334 non-null   float64\n",
            " 14  age                        3334 non-null   int64  \n",
            " 15  source_site                3305 non-null   float64\n",
            "dtypes: float64(5), int64(7), object(4)\n",
            "memory usage: 442.8+ KB\n"
          ]
        }
      ]
    },
    {
      "cell_type": "code",
      "source": [
        "# CSV export\n",
        "df_stats.to_csv('co2_stats.csv', index=False)\n",
        "files.download('co2_stats.csv')"
      ],
      "metadata": {
        "id": "AkzVsn1Pv2cz",
        "colab": {
          "base_uri": "https://localhost:8080/",
          "height": 17
        },
        "outputId": "7aba0bad-bc71-4952-bd68-e7d981dab5c9"
      },
      "execution_count": null,
      "outputs": [
        {
          "output_type": "display_data",
          "data": {
            "text/plain": [
              "<IPython.core.display.Javascript object>"
            ],
            "application/javascript": [
              "\n",
              "    async function download(id, filename, size) {\n",
              "      if (!google.colab.kernel.accessAllowed) {\n",
              "        return;\n",
              "      }\n",
              "      const div = document.createElement('div');\n",
              "      const label = document.createElement('label');\n",
              "      label.textContent = `Downloading \"${filename}\": `;\n",
              "      div.appendChild(label);\n",
              "      const progress = document.createElement('progress');\n",
              "      progress.max = size;\n",
              "      div.appendChild(progress);\n",
              "      document.body.appendChild(div);\n",
              "\n",
              "      const buffers = [];\n",
              "      let downloaded = 0;\n",
              "\n",
              "      const channel = await google.colab.kernel.comms.open(id);\n",
              "      // Send a message to notify the kernel that we're ready.\n",
              "      channel.send({})\n",
              "\n",
              "      for await (const message of channel.messages) {\n",
              "        // Send a message to notify the kernel that we're ready.\n",
              "        channel.send({})\n",
              "        if (message.buffers) {\n",
              "          for (const buffer of message.buffers) {\n",
              "            buffers.push(buffer);\n",
              "            downloaded += buffer.byteLength;\n",
              "            progress.value = downloaded;\n",
              "          }\n",
              "        }\n",
              "      }\n",
              "      const blob = new Blob(buffers, {type: 'application/binary'});\n",
              "      const a = document.createElement('a');\n",
              "      a.href = window.URL.createObjectURL(blob);\n",
              "      a.download = filename;\n",
              "      div.appendChild(a);\n",
              "      a.click();\n",
              "      div.remove();\n",
              "    }\n",
              "  "
            ]
          },
          "metadata": {}
        },
        {
          "output_type": "display_data",
          "data": {
            "text/plain": [
              "<IPython.core.display.Javascript object>"
            ],
            "application/javascript": [
              "download(\"download_d3ecd768-7402-4224-9f0e-5fd8e6f6f0af\", \"co2_stats.csv\", 450472)"
            ]
          },
          "metadata": {}
        }
      ]
    },
    {
      "cell_type": "code",
      "source": [
        "#KernelPCA loss of 0.5 of R2"
      ],
      "metadata": {
        "id": "B_hcfngFr4ze"
      },
      "execution_count": null,
      "outputs": []
    },
    {
      "cell_type": "markdown",
      "source": [
        "#4.Recommandations"
      ],
      "metadata": {
        "id": "dLju2vPvXZom"
      }
    },
    {
      "cell_type": "code",
      "source": [
        "fig = px.bar(df, x=\"neighborhood\", y=\"totalghgemissions\", title=\"Aménagement des espaces verts\", color_discrete_sequence=['green'])\n",
        "fig.show()\n",
        "fig.write_html('neighborhood.html')\n",
        "files.download('neighborhood.html')"
      ],
      "metadata": {
        "id": "3Amc6q9Az0d-"
      },
      "execution_count": null,
      "outputs": []
    },
    {
      "cell_type": "markdown",
      "source": [
        "En supplément du centre-ville, il serait souhaitable de privilégier la partie est de la ville (Northeast+East)."
      ],
      "metadata": {
        "id": "uiF-ynasymhM"
      }
    },
    {
      "cell_type": "code",
      "source": [
        "fig = px.scatter(df, x='age', y='totalghgemissions', size='totalghgemissions', color_discrete_sequence=['red'], title=\"Adaptation des politiques de réhabilitation des immeubles\")\n",
        "fig.show()\n",
        "fig.write_html('age.html')\n",
        "files.download('age.html')"
      ],
      "metadata": {
        "id": "3DTAjp1Y9QWc"
      },
      "execution_count": null,
      "outputs": []
    },
    {
      "cell_type": "markdown",
      "source": [
        "Outre les immeubles très anciens, ceux qui ont entre 20 et 40 ans pourraient être intégrés dans les politiques de subventionnement des travaux."
      ],
      "metadata": {
        "id": "8sJhHHES0Cpb"
      }
    },
    {
      "cell_type": "code",
      "source": [
        "fig = px.scatter(df, x='energystarscore', y='totalghgemissions', size='totalghgemissions', color_discrete_sequence=['blue'], title=\"Nécessité d'un nouveau label Energy Star\")\n",
        "fig.show()\n",
        "fig.write_html('estar.html')\n",
        "files.download('estar.html')"
      ],
      "metadata": {
        "id": "7B8wAAjl_pia"
      },
      "execution_count": null,
      "outputs": []
    },
    {
      "cell_type": "markdown",
      "source": [
        "L'absence de corrélation entre les émissions de CO2 et le score Energy Star semble justifier la création d'un nouveau label, tel qu'il a été envisagé dans ce papier : https://www.researchgate.net/publication/342831494_EnergyStar_Towards_more_accurate_and_explanatory_building_energy_benchmarking"
      ],
      "metadata": {
        "id": "AIL5yAmD0Ibw"
      }
    }
  ]
}