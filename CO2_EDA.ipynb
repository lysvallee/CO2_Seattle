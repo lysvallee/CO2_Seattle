{
  "nbformat": 4,
  "nbformat_minor": 0,
  "metadata": {
    "colab": {
      "provenance": [],
      "gpuType": "T4",
      "toc_visible": true
    },
    "kernelspec": {
      "name": "python3",
      "display_name": "Python 3"
    },
    "language_info": {
      "name": "python"
    }
  },
  "cells": [
    {
      "cell_type": "markdown",
      "source": [
        "#1.Imports"
      ],
      "metadata": {
        "id": "RY4Ar9dEX61O"
      }
    },
    {
      "cell_type": "code",
      "source": [
        "# Install the Pandas library ydata_profiling\n",
        "import sys\n",
        "!{sys.executable} -m pip install -U ydata-profiling[notebook]\n",
        "!jupyter nbextension enable --py widgetsnbextension"
      ],
      "metadata": {
        "colab": {
          "base_uri": "https://localhost:8080/"
        },
        "id": "JUvXCLxMEBNm",
        "outputId": "112a9f55-ed6e-4a42-d59c-70f6be491cc7"
      },
      "execution_count": 159,
      "outputs": [
        {
          "output_type": "stream",
          "name": "stdout",
          "text": [
            "Requirement already satisfied: ydata-profiling[notebook] in /usr/local/lib/python3.10/dist-packages (4.3.1)\n",
            "Requirement already satisfied: scipy<1.11,>=1.4.1 in /usr/local/lib/python3.10/dist-packages (from ydata-profiling[notebook]) (1.10.1)\n",
            "Requirement already satisfied: pandas!=1.4.0,<2.1,>1.1 in /usr/local/lib/python3.10/dist-packages (from ydata-profiling[notebook]) (1.5.3)\n",
            "Requirement already satisfied: matplotlib<4,>=3.2 in /usr/local/lib/python3.10/dist-packages (from ydata-profiling[notebook]) (3.7.1)\n",
            "Requirement already satisfied: pydantic<2,>=1.8.1 in /usr/local/lib/python3.10/dist-packages (from ydata-profiling[notebook]) (1.10.9)\n",
            "Requirement already satisfied: PyYAML<6.1,>=5.0.0 in /usr/local/lib/python3.10/dist-packages (from ydata-profiling[notebook]) (6.0)\n",
            "Requirement already satisfied: jinja2<3.2,>=2.11.1 in /usr/local/lib/python3.10/dist-packages (from ydata-profiling[notebook]) (3.1.2)\n",
            "Requirement already satisfied: visions[type_image_path]==0.7.5 in /usr/local/lib/python3.10/dist-packages (from ydata-profiling[notebook]) (0.7.5)\n",
            "Requirement already satisfied: numpy<1.24,>=1.16.0 in /usr/local/lib/python3.10/dist-packages (from ydata-profiling[notebook]) (1.22.4)\n",
            "Requirement already satisfied: htmlmin==0.1.12 in /usr/local/lib/python3.10/dist-packages (from ydata-profiling[notebook]) (0.1.12)\n",
            "Requirement already satisfied: phik<0.13,>=0.11.1 in /usr/local/lib/python3.10/dist-packages (from ydata-profiling[notebook]) (0.12.3)\n",
            "Requirement already satisfied: requests<3,>=2.24.0 in /usr/local/lib/python3.10/dist-packages (from ydata-profiling[notebook]) (2.27.1)\n",
            "Requirement already satisfied: tqdm<5,>=4.48.2 in /usr/local/lib/python3.10/dist-packages (from ydata-profiling[notebook]) (4.65.0)\n",
            "Requirement already satisfied: seaborn<0.13,>=0.10.1 in /usr/local/lib/python3.10/dist-packages (from ydata-profiling[notebook]) (0.12.2)\n",
            "Requirement already satisfied: multimethod<2,>=1.4 in /usr/local/lib/python3.10/dist-packages (from ydata-profiling[notebook]) (1.9.1)\n",
            "Requirement already satisfied: statsmodels<1,>=0.13.2 in /usr/local/lib/python3.10/dist-packages (from ydata-profiling[notebook]) (0.13.5)\n",
            "Requirement already satisfied: typeguard<3,>=2.13.2 in /usr/local/lib/python3.10/dist-packages (from ydata-profiling[notebook]) (2.13.3)\n",
            "Requirement already satisfied: imagehash==4.3.1 in /usr/local/lib/python3.10/dist-packages (from ydata-profiling[notebook]) (4.3.1)\n",
            "Requirement already satisfied: wordcloud>=1.9.1 in /usr/local/lib/python3.10/dist-packages (from ydata-profiling[notebook]) (1.9.2)\n",
            "Requirement already satisfied: dacite>=1.8 in /usr/local/lib/python3.10/dist-packages (from ydata-profiling[notebook]) (1.8.1)\n",
            "Requirement already satisfied: jupyter-client>=5.3.4 in /usr/local/lib/python3.10/dist-packages (from ydata-profiling[notebook]) (6.1.12)\n",
            "Requirement already satisfied: jupyter-core>=4.6.3 in /usr/local/lib/python3.10/dist-packages (from ydata-profiling[notebook]) (5.3.1)\n",
            "Requirement already satisfied: ipywidgets>=7.5.1 in /usr/local/lib/python3.10/dist-packages (from ydata-profiling[notebook]) (7.7.1)\n",
            "Requirement already satisfied: PyWavelets in /usr/local/lib/python3.10/dist-packages (from imagehash==4.3.1->ydata-profiling[notebook]) (1.4.1)\n",
            "Requirement already satisfied: pillow in /usr/local/lib/python3.10/dist-packages (from imagehash==4.3.1->ydata-profiling[notebook]) (9.2.0)\n",
            "Requirement already satisfied: attrs>=19.3.0 in /usr/local/lib/python3.10/dist-packages (from visions[type_image_path]==0.7.5->ydata-profiling[notebook]) (23.1.0)\n",
            "Requirement already satisfied: networkx>=2.4 in /usr/local/lib/python3.10/dist-packages (from visions[type_image_path]==0.7.5->ydata-profiling[notebook]) (3.1)\n",
            "Requirement already satisfied: tangled-up-in-unicode>=0.0.4 in /usr/local/lib/python3.10/dist-packages (from visions[type_image_path]==0.7.5->ydata-profiling[notebook]) (0.2.0)\n",
            "Requirement already satisfied: ipykernel>=4.5.1 in /usr/local/lib/python3.10/dist-packages (from ipywidgets>=7.5.1->ydata-profiling[notebook]) (5.5.6)\n",
            "Requirement already satisfied: ipython-genutils~=0.2.0 in /usr/local/lib/python3.10/dist-packages (from ipywidgets>=7.5.1->ydata-profiling[notebook]) (0.2.0)\n",
            "Requirement already satisfied: traitlets>=4.3.1 in /usr/local/lib/python3.10/dist-packages (from ipywidgets>=7.5.1->ydata-profiling[notebook]) (5.7.1)\n",
            "Requirement already satisfied: widgetsnbextension~=3.6.0 in /usr/local/lib/python3.10/dist-packages (from ipywidgets>=7.5.1->ydata-profiling[notebook]) (3.6.4)\n",
            "Requirement already satisfied: ipython>=4.0.0 in /usr/local/lib/python3.10/dist-packages (from ipywidgets>=7.5.1->ydata-profiling[notebook]) (7.34.0)\n",
            "Requirement already satisfied: jupyterlab-widgets>=1.0.0 in /usr/local/lib/python3.10/dist-packages (from ipywidgets>=7.5.1->ydata-profiling[notebook]) (3.0.7)\n",
            "Requirement already satisfied: MarkupSafe>=2.0 in /usr/local/lib/python3.10/dist-packages (from jinja2<3.2,>=2.11.1->ydata-profiling[notebook]) (2.1.3)\n",
            "Requirement already satisfied: pyzmq>=13 in /usr/local/lib/python3.10/dist-packages (from jupyter-client>=5.3.4->ydata-profiling[notebook]) (23.2.1)\n",
            "Requirement already satisfied: python-dateutil>=2.1 in /usr/local/lib/python3.10/dist-packages (from jupyter-client>=5.3.4->ydata-profiling[notebook]) (2.8.2)\n",
            "Requirement already satisfied: tornado>=4.1 in /usr/local/lib/python3.10/dist-packages (from jupyter-client>=5.3.4->ydata-profiling[notebook]) (6.3.1)\n",
            "Requirement already satisfied: platformdirs>=2.5 in /usr/local/lib/python3.10/dist-packages (from jupyter-core>=4.6.3->ydata-profiling[notebook]) (3.7.0)\n",
            "Requirement already satisfied: contourpy>=1.0.1 in /usr/local/lib/python3.10/dist-packages (from matplotlib<4,>=3.2->ydata-profiling[notebook]) (1.1.0)\n",
            "Requirement already satisfied: cycler>=0.10 in /usr/local/lib/python3.10/dist-packages (from matplotlib<4,>=3.2->ydata-profiling[notebook]) (0.11.0)\n",
            "Requirement already satisfied: fonttools>=4.22.0 in /usr/local/lib/python3.10/dist-packages (from matplotlib<4,>=3.2->ydata-profiling[notebook]) (4.40.0)\n",
            "Requirement already satisfied: kiwisolver>=1.0.1 in /usr/local/lib/python3.10/dist-packages (from matplotlib<4,>=3.2->ydata-profiling[notebook]) (1.4.4)\n",
            "Requirement already satisfied: packaging>=20.0 in /usr/local/lib/python3.10/dist-packages (from matplotlib<4,>=3.2->ydata-profiling[notebook]) (23.1)\n",
            "Requirement already satisfied: pyparsing>=2.3.1 in /usr/local/lib/python3.10/dist-packages (from matplotlib<4,>=3.2->ydata-profiling[notebook]) (3.1.0)\n",
            "Requirement already satisfied: pytz>=2020.1 in /usr/local/lib/python3.10/dist-packages (from pandas!=1.4.0,<2.1,>1.1->ydata-profiling[notebook]) (2022.7.1)\n",
            "Requirement already satisfied: joblib>=0.14.1 in /usr/local/lib/python3.10/dist-packages (from phik<0.13,>=0.11.1->ydata-profiling[notebook]) (1.2.0)\n",
            "Requirement already satisfied: typing-extensions>=4.2.0 in /usr/local/lib/python3.10/dist-packages (from pydantic<2,>=1.8.1->ydata-profiling[notebook]) (4.6.3)\n",
            "Requirement already satisfied: urllib3<1.27,>=1.21.1 in /usr/local/lib/python3.10/dist-packages (from requests<3,>=2.24.0->ydata-profiling[notebook]) (1.26.16)\n",
            "Requirement already satisfied: certifi>=2017.4.17 in /usr/local/lib/python3.10/dist-packages (from requests<3,>=2.24.0->ydata-profiling[notebook]) (2023.5.7)\n",
            "Requirement already satisfied: charset-normalizer~=2.0.0 in /usr/local/lib/python3.10/dist-packages (from requests<3,>=2.24.0->ydata-profiling[notebook]) (2.0.12)\n",
            "Requirement already satisfied: idna<4,>=2.5 in /usr/local/lib/python3.10/dist-packages (from requests<3,>=2.24.0->ydata-profiling[notebook]) (3.4)\n",
            "Requirement already satisfied: patsy>=0.5.2 in /usr/local/lib/python3.10/dist-packages (from statsmodels<1,>=0.13.2->ydata-profiling[notebook]) (0.5.3)\n",
            "Requirement already satisfied: setuptools>=18.5 in /usr/local/lib/python3.10/dist-packages (from ipython>=4.0.0->ipywidgets>=7.5.1->ydata-profiling[notebook]) (67.7.2)\n",
            "Requirement already satisfied: jedi>=0.16 in /usr/local/lib/python3.10/dist-packages (from ipython>=4.0.0->ipywidgets>=7.5.1->ydata-profiling[notebook]) (0.18.2)\n",
            "Requirement already satisfied: decorator in /usr/local/lib/python3.10/dist-packages (from ipython>=4.0.0->ipywidgets>=7.5.1->ydata-profiling[notebook]) (4.4.2)\n",
            "Requirement already satisfied: pickleshare in /usr/local/lib/python3.10/dist-packages (from ipython>=4.0.0->ipywidgets>=7.5.1->ydata-profiling[notebook]) (0.7.5)\n",
            "Requirement already satisfied: prompt-toolkit!=3.0.0,!=3.0.1,<3.1.0,>=2.0.0 in /usr/local/lib/python3.10/dist-packages (from ipython>=4.0.0->ipywidgets>=7.5.1->ydata-profiling[notebook]) (3.0.38)\n",
            "Requirement already satisfied: pygments in /usr/local/lib/python3.10/dist-packages (from ipython>=4.0.0->ipywidgets>=7.5.1->ydata-profiling[notebook]) (2.14.0)\n",
            "Requirement already satisfied: backcall in /usr/local/lib/python3.10/dist-packages (from ipython>=4.0.0->ipywidgets>=7.5.1->ydata-profiling[notebook]) (0.2.0)\n",
            "Requirement already satisfied: matplotlib-inline in /usr/local/lib/python3.10/dist-packages (from ipython>=4.0.0->ipywidgets>=7.5.1->ydata-profiling[notebook]) (0.1.6)\n",
            "Requirement already satisfied: pexpect>4.3 in /usr/local/lib/python3.10/dist-packages (from ipython>=4.0.0->ipywidgets>=7.5.1->ydata-profiling[notebook]) (4.8.0)\n",
            "Requirement already satisfied: six in /usr/local/lib/python3.10/dist-packages (from patsy>=0.5.2->statsmodels<1,>=0.13.2->ydata-profiling[notebook]) (1.16.0)\n",
            "Requirement already satisfied: notebook>=4.4.1 in /usr/local/lib/python3.10/dist-packages (from widgetsnbextension~=3.6.0->ipywidgets>=7.5.1->ydata-profiling[notebook]) (6.4.8)\n",
            "Requirement already satisfied: parso<0.9.0,>=0.8.0 in /usr/local/lib/python3.10/dist-packages (from jedi>=0.16->ipython>=4.0.0->ipywidgets>=7.5.1->ydata-profiling[notebook]) (0.8.3)\n",
            "Requirement already satisfied: argon2-cffi in /usr/local/lib/python3.10/dist-packages (from notebook>=4.4.1->widgetsnbextension~=3.6.0->ipywidgets>=7.5.1->ydata-profiling[notebook]) (21.3.0)\n",
            "Requirement already satisfied: nbformat in /usr/local/lib/python3.10/dist-packages (from notebook>=4.4.1->widgetsnbextension~=3.6.0->ipywidgets>=7.5.1->ydata-profiling[notebook]) (5.9.0)\n",
            "Requirement already satisfied: nbconvert in /usr/local/lib/python3.10/dist-packages (from notebook>=4.4.1->widgetsnbextension~=3.6.0->ipywidgets>=7.5.1->ydata-profiling[notebook]) (6.5.4)\n",
            "Requirement already satisfied: nest-asyncio>=1.5 in /usr/local/lib/python3.10/dist-packages (from notebook>=4.4.1->widgetsnbextension~=3.6.0->ipywidgets>=7.5.1->ydata-profiling[notebook]) (1.5.6)\n",
            "Requirement already satisfied: Send2Trash>=1.8.0 in /usr/local/lib/python3.10/dist-packages (from notebook>=4.4.1->widgetsnbextension~=3.6.0->ipywidgets>=7.5.1->ydata-profiling[notebook]) (1.8.2)\n",
            "Requirement already satisfied: terminado>=0.8.3 in /usr/local/lib/python3.10/dist-packages (from notebook>=4.4.1->widgetsnbextension~=3.6.0->ipywidgets>=7.5.1->ydata-profiling[notebook]) (0.17.1)\n",
            "Requirement already satisfied: prometheus-client in /usr/local/lib/python3.10/dist-packages (from notebook>=4.4.1->widgetsnbextension~=3.6.0->ipywidgets>=7.5.1->ydata-profiling[notebook]) (0.17.0)\n",
            "Requirement already satisfied: ptyprocess>=0.5 in /usr/local/lib/python3.10/dist-packages (from pexpect>4.3->ipython>=4.0.0->ipywidgets>=7.5.1->ydata-profiling[notebook]) (0.7.0)\n",
            "Requirement already satisfied: wcwidth in /usr/local/lib/python3.10/dist-packages (from prompt-toolkit!=3.0.0,!=3.0.1,<3.1.0,>=2.0.0->ipython>=4.0.0->ipywidgets>=7.5.1->ydata-profiling[notebook]) (0.2.6)\n",
            "Requirement already satisfied: argon2-cffi-bindings in /usr/local/lib/python3.10/dist-packages (from argon2-cffi->notebook>=4.4.1->widgetsnbextension~=3.6.0->ipywidgets>=7.5.1->ydata-profiling[notebook]) (21.2.0)\n",
            "Requirement already satisfied: lxml in /usr/local/lib/python3.10/dist-packages (from nbconvert->notebook>=4.4.1->widgetsnbextension~=3.6.0->ipywidgets>=7.5.1->ydata-profiling[notebook]) (4.9.2)\n",
            "Requirement already satisfied: beautifulsoup4 in /usr/local/lib/python3.10/dist-packages (from nbconvert->notebook>=4.4.1->widgetsnbextension~=3.6.0->ipywidgets>=7.5.1->ydata-profiling[notebook]) (4.11.2)\n",
            "Requirement already satisfied: bleach in /usr/local/lib/python3.10/dist-packages (from nbconvert->notebook>=4.4.1->widgetsnbextension~=3.6.0->ipywidgets>=7.5.1->ydata-profiling[notebook]) (6.0.0)\n",
            "Requirement already satisfied: defusedxml in /usr/local/lib/python3.10/dist-packages (from nbconvert->notebook>=4.4.1->widgetsnbextension~=3.6.0->ipywidgets>=7.5.1->ydata-profiling[notebook]) (0.7.1)\n",
            "Requirement already satisfied: entrypoints>=0.2.2 in /usr/local/lib/python3.10/dist-packages (from nbconvert->notebook>=4.4.1->widgetsnbextension~=3.6.0->ipywidgets>=7.5.1->ydata-profiling[notebook]) (0.4)\n",
            "Requirement already satisfied: jupyterlab-pygments in /usr/local/lib/python3.10/dist-packages (from nbconvert->notebook>=4.4.1->widgetsnbextension~=3.6.0->ipywidgets>=7.5.1->ydata-profiling[notebook]) (0.2.2)\n",
            "Requirement already satisfied: mistune<2,>=0.8.1 in /usr/local/lib/python3.10/dist-packages (from nbconvert->notebook>=4.4.1->widgetsnbextension~=3.6.0->ipywidgets>=7.5.1->ydata-profiling[notebook]) (0.8.4)\n",
            "Requirement already satisfied: nbclient>=0.5.0 in /usr/local/lib/python3.10/dist-packages (from nbconvert->notebook>=4.4.1->widgetsnbextension~=3.6.0->ipywidgets>=7.5.1->ydata-profiling[notebook]) (0.8.0)\n",
            "Requirement already satisfied: pandocfilters>=1.4.1 in /usr/local/lib/python3.10/dist-packages (from nbconvert->notebook>=4.4.1->widgetsnbextension~=3.6.0->ipywidgets>=7.5.1->ydata-profiling[notebook]) (1.5.0)\n",
            "Requirement already satisfied: tinycss2 in /usr/local/lib/python3.10/dist-packages (from nbconvert->notebook>=4.4.1->widgetsnbextension~=3.6.0->ipywidgets>=7.5.1->ydata-profiling[notebook]) (1.2.1)\n",
            "Requirement already satisfied: fastjsonschema in /usr/local/lib/python3.10/dist-packages (from nbformat->notebook>=4.4.1->widgetsnbextension~=3.6.0->ipywidgets>=7.5.1->ydata-profiling[notebook]) (2.17.1)\n",
            "Requirement already satisfied: jsonschema>=2.6 in /usr/local/lib/python3.10/dist-packages (from nbformat->notebook>=4.4.1->widgetsnbextension~=3.6.0->ipywidgets>=7.5.1->ydata-profiling[notebook]) (4.3.3)\n",
            "Requirement already satisfied: pyrsistent!=0.17.0,!=0.17.1,!=0.17.2,>=0.14.0 in /usr/local/lib/python3.10/dist-packages (from jsonschema>=2.6->nbformat->notebook>=4.4.1->widgetsnbextension~=3.6.0->ipywidgets>=7.5.1->ydata-profiling[notebook]) (0.19.3)\n",
            "Requirement already satisfied: cffi>=1.0.1 in /usr/local/lib/python3.10/dist-packages (from argon2-cffi-bindings->argon2-cffi->notebook>=4.4.1->widgetsnbextension~=3.6.0->ipywidgets>=7.5.1->ydata-profiling[notebook]) (1.15.1)\n",
            "Requirement already satisfied: soupsieve>1.2 in /usr/local/lib/python3.10/dist-packages (from beautifulsoup4->nbconvert->notebook>=4.4.1->widgetsnbextension~=3.6.0->ipywidgets>=7.5.1->ydata-profiling[notebook]) (2.4.1)\n",
            "Requirement already satisfied: webencodings in /usr/local/lib/python3.10/dist-packages (from bleach->nbconvert->notebook>=4.4.1->widgetsnbextension~=3.6.0->ipywidgets>=7.5.1->ydata-profiling[notebook]) (0.5.1)\n",
            "Requirement already satisfied: pycparser in /usr/local/lib/python3.10/dist-packages (from cffi>=1.0.1->argon2-cffi-bindings->argon2-cffi->notebook>=4.4.1->widgetsnbextension~=3.6.0->ipywidgets>=7.5.1->ydata-profiling[notebook]) (2.21)\n",
            "Enabling notebook extension jupyter-js-widgets/extension...\n",
            "Paths used for configuration of notebook: \n",
            "    \t/root/.jupyter/nbconfig/notebook.json\n",
            "Paths used for configuration of notebook: \n",
            "    \t\n",
            "      - Validating: \u001b[32mOK\u001b[0m\n",
            "Paths used for configuration of notebook: \n",
            "    \t/root/.jupyter/nbconfig/notebook.json\n"
          ]
        }
      ]
    },
    {
      "cell_type": "code",
      "source": [
        "import numpy as np\n",
        "import pandas as pd\n",
        "import datetime\n",
        "import json\n",
        "import plotly.express as px\n",
        "from sqlalchemy import create_engine, text\n",
        "from sklearn.impute import KNNImputer, SimpleImputer\n",
        "from ydata_profiling import ProfileReport\n",
        "from google.colab import files\n",
        "\n",
        "# Define the connection string\n",
        "connection_string = \"postgresql://co2-sa-db.postgres.database.azure.com:5432/seattlebeb?user=co2sodapg&password=Greta2023&sslmode=require\"\n",
        "\n",
        "# Create a SQLAlchemy engine\n",
        "engine = create_engine(connection_string)\n",
        "\n",
        "# Create a connection and execute the query\n",
        "with engine.connect() as conn:\n",
        "    query = text(\"SELECT * FROM buildings\")\n",
        "    df = pd.read_sql(query, conn)\n",
        "\n",
        "df.head()"
      ],
      "metadata": {
        "colab": {
          "base_uri": "https://localhost:8080/",
          "height": 300
        },
        "id": "qNuykREpum-v",
        "outputId": "190c4251-f31a-4472-b3ca-00fdb9492696"
      },
      "execution_count": 160,
      "outputs": [
        {
          "output_type": "execute_result",
          "data": {
            "text/plain": [
              "   osebuildingid    buildingtype primarypropertytype  zipcode  \\\n",
              "0              1  NonResidential               Hotel  98101.0   \n",
              "1              2  NonResidential               Hotel  98101.0   \n",
              "2              3  NonResidential               Hotel  98101.0   \n",
              "3              5  NonResidential               Hotel  98101.0   \n",
              "4              8  NonResidential               Hotel  98121.0   \n",
              "\n",
              "  taxparcelidentificationnumber  councildistrictcode neighborhood  latitude  \\\n",
              "0                    0659000030                    7     DOWNTOWN  47.61220   \n",
              "1                    0659000220                    7     DOWNTOWN  47.61317   \n",
              "2                    0659000475                    7     DOWNTOWN  47.61393   \n",
              "3                    0659000640                    7     DOWNTOWN  47.61412   \n",
              "4                    0659000970                    7     DOWNTOWN  47.61375   \n",
              "\n",
              "   longitude  yearbuilt  ...  sourceeuiwn_kbtu_sf  siteenergyuse_kbtu  \\\n",
              "0 -122.33799       1927  ...           189.000000           7226362.5   \n",
              "1 -122.33393       1996  ...           179.399994           8387933.0   \n",
              "2 -122.33810       1969  ...           244.100006          72587024.0   \n",
              "3 -122.33664       1926  ...           224.000000           6794584.0   \n",
              "4 -122.34047       1980  ...           215.600006          14172606.0   \n",
              "\n",
              "   siteenergyusewn_kbtu  steamuse_kbtu  electricity_kbtu naturalgas_kbtu  \\\n",
              "0             7456910.0     2003882.00         3946027.0       1276453.0   \n",
              "1             8664479.0           0.00         3242851.0       5145082.0   \n",
              "2            73937112.0    21566554.00        49526664.0       1493800.0   \n",
              "3             6946800.5     2214446.25         2768924.0       1811213.0   \n",
              "4            14656503.0           0.00         5368607.0       8803998.0   \n",
              "\n",
              "  defaultdata  compliancestatus outlier totalghgemissions  \n",
              "0       False         Compliant    None            249.98  \n",
              "1       False         Compliant    None            295.86  \n",
              "2       False         Compliant    None           2089.28  \n",
              "3       False         Compliant    None            286.43  \n",
              "4       False         Compliant    None            505.01  \n",
              "\n",
              "[5 rows x 37 columns]"
            ],
            "text/html": [
              "\n",
              "  <div id=\"df-0c4bd508-a535-439e-9757-c672831b3fd0\">\n",
              "    <div class=\"colab-df-container\">\n",
              "      <div>\n",
              "<style scoped>\n",
              "    .dataframe tbody tr th:only-of-type {\n",
              "        vertical-align: middle;\n",
              "    }\n",
              "\n",
              "    .dataframe tbody tr th {\n",
              "        vertical-align: top;\n",
              "    }\n",
              "\n",
              "    .dataframe thead th {\n",
              "        text-align: right;\n",
              "    }\n",
              "</style>\n",
              "<table border=\"1\" class=\"dataframe\">\n",
              "  <thead>\n",
              "    <tr style=\"text-align: right;\">\n",
              "      <th></th>\n",
              "      <th>osebuildingid</th>\n",
              "      <th>buildingtype</th>\n",
              "      <th>primarypropertytype</th>\n",
              "      <th>zipcode</th>\n",
              "      <th>taxparcelidentificationnumber</th>\n",
              "      <th>councildistrictcode</th>\n",
              "      <th>neighborhood</th>\n",
              "      <th>latitude</th>\n",
              "      <th>longitude</th>\n",
              "      <th>yearbuilt</th>\n",
              "      <th>...</th>\n",
              "      <th>sourceeuiwn_kbtu_sf</th>\n",
              "      <th>siteenergyuse_kbtu</th>\n",
              "      <th>siteenergyusewn_kbtu</th>\n",
              "      <th>steamuse_kbtu</th>\n",
              "      <th>electricity_kbtu</th>\n",
              "      <th>naturalgas_kbtu</th>\n",
              "      <th>defaultdata</th>\n",
              "      <th>compliancestatus</th>\n",
              "      <th>outlier</th>\n",
              "      <th>totalghgemissions</th>\n",
              "    </tr>\n",
              "  </thead>\n",
              "  <tbody>\n",
              "    <tr>\n",
              "      <th>0</th>\n",
              "      <td>1</td>\n",
              "      <td>NonResidential</td>\n",
              "      <td>Hotel</td>\n",
              "      <td>98101.0</td>\n",
              "      <td>0659000030</td>\n",
              "      <td>7</td>\n",
              "      <td>DOWNTOWN</td>\n",
              "      <td>47.61220</td>\n",
              "      <td>-122.33799</td>\n",
              "      <td>1927</td>\n",
              "      <td>...</td>\n",
              "      <td>189.000000</td>\n",
              "      <td>7226362.5</td>\n",
              "      <td>7456910.0</td>\n",
              "      <td>2003882.00</td>\n",
              "      <td>3946027.0</td>\n",
              "      <td>1276453.0</td>\n",
              "      <td>False</td>\n",
              "      <td>Compliant</td>\n",
              "      <td>None</td>\n",
              "      <td>249.98</td>\n",
              "    </tr>\n",
              "    <tr>\n",
              "      <th>1</th>\n",
              "      <td>2</td>\n",
              "      <td>NonResidential</td>\n",
              "      <td>Hotel</td>\n",
              "      <td>98101.0</td>\n",
              "      <td>0659000220</td>\n",
              "      <td>7</td>\n",
              "      <td>DOWNTOWN</td>\n",
              "      <td>47.61317</td>\n",
              "      <td>-122.33393</td>\n",
              "      <td>1996</td>\n",
              "      <td>...</td>\n",
              "      <td>179.399994</td>\n",
              "      <td>8387933.0</td>\n",
              "      <td>8664479.0</td>\n",
              "      <td>0.00</td>\n",
              "      <td>3242851.0</td>\n",
              "      <td>5145082.0</td>\n",
              "      <td>False</td>\n",
              "      <td>Compliant</td>\n",
              "      <td>None</td>\n",
              "      <td>295.86</td>\n",
              "    </tr>\n",
              "    <tr>\n",
              "      <th>2</th>\n",
              "      <td>3</td>\n",
              "      <td>NonResidential</td>\n",
              "      <td>Hotel</td>\n",
              "      <td>98101.0</td>\n",
              "      <td>0659000475</td>\n",
              "      <td>7</td>\n",
              "      <td>DOWNTOWN</td>\n",
              "      <td>47.61393</td>\n",
              "      <td>-122.33810</td>\n",
              "      <td>1969</td>\n",
              "      <td>...</td>\n",
              "      <td>244.100006</td>\n",
              "      <td>72587024.0</td>\n",
              "      <td>73937112.0</td>\n",
              "      <td>21566554.00</td>\n",
              "      <td>49526664.0</td>\n",
              "      <td>1493800.0</td>\n",
              "      <td>False</td>\n",
              "      <td>Compliant</td>\n",
              "      <td>None</td>\n",
              "      <td>2089.28</td>\n",
              "    </tr>\n",
              "    <tr>\n",
              "      <th>3</th>\n",
              "      <td>5</td>\n",
              "      <td>NonResidential</td>\n",
              "      <td>Hotel</td>\n",
              "      <td>98101.0</td>\n",
              "      <td>0659000640</td>\n",
              "      <td>7</td>\n",
              "      <td>DOWNTOWN</td>\n",
              "      <td>47.61412</td>\n",
              "      <td>-122.33664</td>\n",
              "      <td>1926</td>\n",
              "      <td>...</td>\n",
              "      <td>224.000000</td>\n",
              "      <td>6794584.0</td>\n",
              "      <td>6946800.5</td>\n",
              "      <td>2214446.25</td>\n",
              "      <td>2768924.0</td>\n",
              "      <td>1811213.0</td>\n",
              "      <td>False</td>\n",
              "      <td>Compliant</td>\n",
              "      <td>None</td>\n",
              "      <td>286.43</td>\n",
              "    </tr>\n",
              "    <tr>\n",
              "      <th>4</th>\n",
              "      <td>8</td>\n",
              "      <td>NonResidential</td>\n",
              "      <td>Hotel</td>\n",
              "      <td>98121.0</td>\n",
              "      <td>0659000970</td>\n",
              "      <td>7</td>\n",
              "      <td>DOWNTOWN</td>\n",
              "      <td>47.61375</td>\n",
              "      <td>-122.34047</td>\n",
              "      <td>1980</td>\n",
              "      <td>...</td>\n",
              "      <td>215.600006</td>\n",
              "      <td>14172606.0</td>\n",
              "      <td>14656503.0</td>\n",
              "      <td>0.00</td>\n",
              "      <td>5368607.0</td>\n",
              "      <td>8803998.0</td>\n",
              "      <td>False</td>\n",
              "      <td>Compliant</td>\n",
              "      <td>None</td>\n",
              "      <td>505.01</td>\n",
              "    </tr>\n",
              "  </tbody>\n",
              "</table>\n",
              "<p>5 rows × 37 columns</p>\n",
              "</div>\n",
              "      <button class=\"colab-df-convert\" onclick=\"convertToInteractive('df-0c4bd508-a535-439e-9757-c672831b3fd0')\"\n",
              "              title=\"Convert this dataframe to an interactive table.\"\n",
              "              style=\"display:none;\">\n",
              "        \n",
              "  <svg xmlns=\"http://www.w3.org/2000/svg\" height=\"24px\"viewBox=\"0 0 24 24\"\n",
              "       width=\"24px\">\n",
              "    <path d=\"M0 0h24v24H0V0z\" fill=\"none\"/>\n",
              "    <path d=\"M18.56 5.44l.94 2.06.94-2.06 2.06-.94-2.06-.94-.94-2.06-.94 2.06-2.06.94zm-11 1L8.5 8.5l.94-2.06 2.06-.94-2.06-.94L8.5 2.5l-.94 2.06-2.06.94zm10 10l.94 2.06.94-2.06 2.06-.94-2.06-.94-.94-2.06-.94 2.06-2.06.94z\"/><path d=\"M17.41 7.96l-1.37-1.37c-.4-.4-.92-.59-1.43-.59-.52 0-1.04.2-1.43.59L10.3 9.45l-7.72 7.72c-.78.78-.78 2.05 0 2.83L4 21.41c.39.39.9.59 1.41.59.51 0 1.02-.2 1.41-.59l7.78-7.78 2.81-2.81c.8-.78.8-2.07 0-2.86zM5.41 20L4 18.59l7.72-7.72 1.47 1.35L5.41 20z\"/>\n",
              "  </svg>\n",
              "      </button>\n",
              "      \n",
              "  <style>\n",
              "    .colab-df-container {\n",
              "      display:flex;\n",
              "      flex-wrap:wrap;\n",
              "      gap: 12px;\n",
              "    }\n",
              "\n",
              "    .colab-df-convert {\n",
              "      background-color: #E8F0FE;\n",
              "      border: none;\n",
              "      border-radius: 50%;\n",
              "      cursor: pointer;\n",
              "      display: none;\n",
              "      fill: #1967D2;\n",
              "      height: 32px;\n",
              "      padding: 0 0 0 0;\n",
              "      width: 32px;\n",
              "    }\n",
              "\n",
              "    .colab-df-convert:hover {\n",
              "      background-color: #E2EBFA;\n",
              "      box-shadow: 0px 1px 2px rgba(60, 64, 67, 0.3), 0px 1px 3px 1px rgba(60, 64, 67, 0.15);\n",
              "      fill: #174EA6;\n",
              "    }\n",
              "\n",
              "    [theme=dark] .colab-df-convert {\n",
              "      background-color: #3B4455;\n",
              "      fill: #D2E3FC;\n",
              "    }\n",
              "\n",
              "    [theme=dark] .colab-df-convert:hover {\n",
              "      background-color: #434B5C;\n",
              "      box-shadow: 0px 1px 3px 1px rgba(0, 0, 0, 0.15);\n",
              "      filter: drop-shadow(0px 1px 2px rgba(0, 0, 0, 0.3));\n",
              "      fill: #FFFFFF;\n",
              "    }\n",
              "  </style>\n",
              "\n",
              "      <script>\n",
              "        const buttonEl =\n",
              "          document.querySelector('#df-0c4bd508-a535-439e-9757-c672831b3fd0 button.colab-df-convert');\n",
              "        buttonEl.style.display =\n",
              "          google.colab.kernel.accessAllowed ? 'block' : 'none';\n",
              "\n",
              "        async function convertToInteractive(key) {\n",
              "          const element = document.querySelector('#df-0c4bd508-a535-439e-9757-c672831b3fd0');\n",
              "          const dataTable =\n",
              "            await google.colab.kernel.invokeFunction('convertToInteractive',\n",
              "                                                     [key], {});\n",
              "          if (!dataTable) return;\n",
              "\n",
              "          const docLinkHtml = 'Like what you see? Visit the ' +\n",
              "            '<a target=\"_blank\" href=https://colab.research.google.com/notebooks/data_table.ipynb>data table notebook</a>'\n",
              "            + ' to learn more about interactive tables.';\n",
              "          element.innerHTML = '';\n",
              "          dataTable['output_type'] = 'display_data';\n",
              "          await google.colab.output.renderOutput(dataTable, element);\n",
              "          const docLink = document.createElement('div');\n",
              "          docLink.innerHTML = docLinkHtml;\n",
              "          element.appendChild(docLink);\n",
              "        }\n",
              "      </script>\n",
              "    </div>\n",
              "  </div>\n",
              "  "
            ]
          },
          "metadata": {},
          "execution_count": 160
        }
      ]
    },
    {
      "cell_type": "markdown",
      "source": [
        "#2.Data cleaning"
      ],
      "metadata": {
        "id": "0C-efNf2YTys"
      }
    },
    {
      "cell_type": "code",
      "source": [
        "df.min()"
      ],
      "metadata": {
        "colab": {
          "base_uri": "https://localhost:8080/"
        },
        "id": "bfYPU7y-0yD0",
        "outputId": "56007b3e-dc3f-4bf5-b131-2c0084d2bdae"
      },
      "execution_count": 161,
      "outputs": [
        {
          "output_type": "stream",
          "name": "stderr",
          "text": [
            "<ipython-input-161-c3612c624a3f>:1: FutureWarning: The default value of numeric_only in DataFrame.min is deprecated. In a future version, it will default to False. In addition, specifying 'numeric_only=None' is deprecated. Select only valid columns or specify the value of numeric_only to silence this warning.\n",
            "  df.min()\n"
          ]
        },
        {
          "output_type": "execute_result",
          "data": {
            "text/plain": [
              "osebuildingid                                        1\n",
              "buildingtype                                    Campus\n",
              "primarypropertytype                Distribution Center\n",
              "zipcode                                        98006.0\n",
              "taxparcelidentificationnumber               0000000000\n",
              "councildistrictcode                                  1\n",
              "neighborhood                                   BALLARD\n",
              "latitude                                      47.49917\n",
              "longitude                                   -122.41425\n",
              "yearbuilt                                         1900\n",
              "numberofbuildings                                  0.0\n",
              "numberoffloors                                       0\n",
              "propertygfatotal                                 11285\n",
              "propertygfaparking                                   0\n",
              "propertygfabuilding_s                             3636\n",
              "largestpropertyusetypegfa                       5656.0\n",
              "secondlargestpropertyusetypegfa                   None\n",
              "thirdlargestpropertyusetypegfa                     0.0\n",
              "yearsenergystarcertified                        2007.0\n",
              "siteeui_kbtu_sf                                    0.0\n",
              "siteeuiwn_kbtu_sf                                  0.0\n",
              "sourceeui_kbtu_sf                                  0.0\n",
              "sourceeuiwn_kbtu_sf                               -2.1\n",
              "siteenergyuse_kbtu                                 0.0\n",
              "siteenergyusewn_kbtu                               0.0\n",
              "steamuse_kbtu                                      0.0\n",
              "electricity_kbtu                             -115417.0\n",
              "naturalgas_kbtu                                    0.0\n",
              "defaultdata                                      False\n",
              "compliancestatus                             Compliant\n",
              "totalghgemissions                                 -0.8\n",
              "dtype: object"
            ]
          },
          "metadata": {},
          "execution_count": 161
        }
      ]
    },
    {
      "cell_type": "code",
      "source": [
        "# Drop all rows where the energy consumption or CO2 emission columns are negative:\n",
        "df.drop(index=df[df['sourceeuiwn_kbtu_sf']<0].index, inplace=True)\n",
        "df.drop(index=df[df['electricity_kbtu']<0].index, inplace=True)\n",
        "df.drop(index=df[df['totalghgemissions']<=0].index, inplace=True)\n",
        "df.min()"
      ],
      "metadata": {
        "colab": {
          "base_uri": "https://localhost:8080/"
        },
        "id": "eWf7yRf21jQH",
        "outputId": "ebf205ca-cb4d-4f32-9fa6-c8a7ffdc33db"
      },
      "execution_count": 162,
      "outputs": [
        {
          "output_type": "stream",
          "name": "stderr",
          "text": [
            "<ipython-input-162-0e1c56ac19e4>:5: FutureWarning: The default value of numeric_only in DataFrame.min is deprecated. In a future version, it will default to False. In addition, specifying 'numeric_only=None' is deprecated. Select only valid columns or specify the value of numeric_only to silence this warning.\n",
            "  df.min()\n"
          ]
        },
        {
          "output_type": "execute_result",
          "data": {
            "text/plain": [
              "osebuildingid                                        1\n",
              "buildingtype                                    Campus\n",
              "primarypropertytype                Distribution Center\n",
              "zipcode                                        98006.0\n",
              "taxparcelidentificationnumber               0000000000\n",
              "councildistrictcode                                  1\n",
              "neighborhood                                   BALLARD\n",
              "latitude                                      47.49917\n",
              "longitude                                   -122.41425\n",
              "yearbuilt                                         1900\n",
              "numberofbuildings                                  0.0\n",
              "numberoffloors                                       0\n",
              "propertygfatotal                                 11285\n",
              "propertygfaparking                                   0\n",
              "propertygfabuilding_s                             3636\n",
              "largestpropertyusetypegfa                       5656.0\n",
              "secondlargestpropertyusetypegfa                   None\n",
              "thirdlargestpropertyusetypegfa                     0.0\n",
              "yearsenergystarcertified                        2007.0\n",
              "siteeui_kbtu_sf                                    0.0\n",
              "siteeuiwn_kbtu_sf                                  0.0\n",
              "sourceeui_kbtu_sf                                  0.0\n",
              "sourceeuiwn_kbtu_sf                                0.0\n",
              "siteenergyuse_kbtu                                 0.0\n",
              "siteenergyusewn_kbtu                               0.0\n",
              "steamuse_kbtu                                      0.0\n",
              "electricity_kbtu                                   0.0\n",
              "naturalgas_kbtu                                    0.0\n",
              "defaultdata                                      False\n",
              "compliancestatus                             Compliant\n",
              "totalghgemissions                                 0.09\n",
              "dtype: object"
            ]
          },
          "metadata": {},
          "execution_count": 162
        }
      ]
    },
    {
      "cell_type": "code",
      "source": [
        "# Fix the number of buildings and floors (assuming that \"0\" means no additional floor or building, hence \"1\")\n",
        "df['numberofbuildings'].replace(0, 1, inplace=True)\n",
        "df['numberoffloors'].replace(0, 1, inplace=True)"
      ],
      "metadata": {
        "id": "rMClP1wm3Lvo"
      },
      "execution_count": 163,
      "outputs": []
    },
    {
      "cell_type": "code",
      "source": [
        "# Fix the values for 'compliancestatus'\n",
        "df['compliancestatus'].value_counts()"
      ],
      "metadata": {
        "colab": {
          "base_uri": "https://localhost:8080/"
        },
        "id": "YxBh-6QIx2xy",
        "outputId": "ffe39308-de81-4e1b-c0dd-6be5cdd3e5f0"
      },
      "execution_count": 164,
      "outputs": [
        {
          "output_type": "execute_result",
          "data": {
            "text/plain": [
              "Compliant                       3208\n",
              "Error - Correct Default Data     112\n",
              "Non-Compliant                     35\n",
              "Missing Data                      11\n",
              "Name: compliancestatus, dtype: int64"
            ]
          },
          "metadata": {},
          "execution_count": 164
        }
      ]
    },
    {
      "cell_type": "code",
      "source": [
        "df['compliancestatus'].replace('Error - Correct Default Data', np.nan, inplace=True)\n",
        "df['compliancestatus'].replace('Missing Data', np.nan, inplace=True)\n",
        "df['compliancestatus'].value_counts()"
      ],
      "metadata": {
        "colab": {
          "base_uri": "https://localhost:8080/"
        },
        "id": "DAL8ACkZzywb",
        "outputId": "306cef86-0197-41bd-e00b-5fce355ba07a"
      },
      "execution_count": 165,
      "outputs": [
        {
          "output_type": "execute_result",
          "data": {
            "text/plain": [
              "Compliant        3208\n",
              "Non-Compliant      35\n",
              "Name: compliancestatus, dtype: int64"
            ]
          },
          "metadata": {},
          "execution_count": 165
        }
      ]
    },
    {
      "cell_type": "code",
      "source": [
        "# Fix the values for 'neighborhood'\n",
        "df['neighborhood'].value_counts()"
      ],
      "metadata": {
        "colab": {
          "base_uri": "https://localhost:8080/"
        },
        "id": "pBAE8w4Uulft",
        "outputId": "bcfb45c1-be88-40e1-9928-c1a3419386ff"
      },
      "execution_count": 166,
      "outputs": [
        {
          "output_type": "execute_result",
          "data": {
            "text/plain": [
              "DOWNTOWN                  571\n",
              "EAST                      453\n",
              "MAGNOLIA / QUEEN ANNE     422\n",
              "GREATER DUWAMISH          375\n",
              "NORTHEAST                 280\n",
              "LAKE UNION                250\n",
              "NORTHWEST                 209\n",
              "SOUTHWEST                 166\n",
              "NORTH                     143\n",
              "BALLARD                   126\n",
              "CENTRAL                   106\n",
              "SOUTHEAST                  95\n",
              "DELRIDGE                   80\n",
              "North                      41\n",
              "Central                    26\n",
              "Northwest                  11\n",
              "Ballard                     7\n",
              "Delridge                    4\n",
              "DELRIDGE NEIGHBORHOODS      1\n",
              "Name: neighborhood, dtype: int64"
            ]
          },
          "metadata": {},
          "execution_count": 166
        }
      ]
    },
    {
      "cell_type": "code",
      "source": [
        "df['neighborhood'] = df['neighborhood'].str.upper()\n",
        "df['neighborhood'] = df['neighborhood'].str.replace('DELRIDGE NEIGHBORHOODS','DELRIDGE')\n",
        "df['neighborhood'].value_counts()"
      ],
      "metadata": {
        "colab": {
          "base_uri": "https://localhost:8080/"
        },
        "id": "eUSRJrBKwjUS",
        "outputId": "adc6629d-38d5-448f-9f1c-ddf887af4b77"
      },
      "execution_count": 167,
      "outputs": [
        {
          "output_type": "execute_result",
          "data": {
            "text/plain": [
              "DOWNTOWN                 571\n",
              "EAST                     453\n",
              "MAGNOLIA / QUEEN ANNE    422\n",
              "GREATER DUWAMISH         375\n",
              "NORTHEAST                280\n",
              "LAKE UNION               250\n",
              "NORTHWEST                220\n",
              "NORTH                    184\n",
              "SOUTHWEST                166\n",
              "BALLARD                  133\n",
              "CENTRAL                  132\n",
              "SOUTHEAST                 95\n",
              "DELRIDGE                  85\n",
              "Name: neighborhood, dtype: int64"
            ]
          },
          "metadata": {},
          "execution_count": 167
        }
      ]
    },
    {
      "cell_type": "code",
      "source": [
        "# Remove rows where 'totalghgemissions' is missing\n",
        "df.dropna(subset=['totalghgemissions'], inplace=True)\n",
        "df.info()"
      ],
      "metadata": {
        "colab": {
          "base_uri": "https://localhost:8080/"
        },
        "id": "LpKXE6yYhkAv",
        "outputId": "a3829ca6-678f-4184-8fe3-a9c8ad6a97a1"
      },
      "execution_count": 168,
      "outputs": [
        {
          "output_type": "stream",
          "name": "stdout",
          "text": [
            "<class 'pandas.core.frame.DataFrame'>\n",
            "Int64Index: 3357 entries, 0 to 3375\n",
            "Data columns (total 37 columns):\n",
            " #   Column                           Non-Null Count  Dtype  \n",
            "---  ------                           --------------  -----  \n",
            " 0   osebuildingid                    3357 non-null   int64  \n",
            " 1   buildingtype                     3357 non-null   object \n",
            " 2   primarypropertytype              3357 non-null   object \n",
            " 3   zipcode                          3341 non-null   float64\n",
            " 4   taxparcelidentificationnumber    3357 non-null   object \n",
            " 5   councildistrictcode              3357 non-null   int64  \n",
            " 6   neighborhood                     3357 non-null   object \n",
            " 7   latitude                         3357 non-null   float64\n",
            " 8   longitude                        3357 non-null   float64\n",
            " 9   yearbuilt                        3357 non-null   int64  \n",
            " 10  numberofbuildings                3357 non-null   float64\n",
            " 11  numberoffloors                   3357 non-null   int64  \n",
            " 12  propertygfatotal                 3357 non-null   int64  \n",
            " 13  propertygfaparking               3357 non-null   int64  \n",
            " 14  propertygfabuilding_s            3357 non-null   int64  \n",
            " 15  listofallpropertyusetypes        3357 non-null   object \n",
            " 16  largestpropertyusetype           3357 non-null   object \n",
            " 17  largestpropertyusetypegfa        3346 non-null   float64\n",
            " 18  secondlargestpropertyusetype     1687 non-null   object \n",
            " 19  secondlargestpropertyusetypegfa  0 non-null      object \n",
            " 20  thirdlargestpropertyusetype      606 non-null    object \n",
            " 21  thirdlargestpropertyusetypegfa   595 non-null    float64\n",
            " 22  yearsenergystarcertified         119 non-null    float64\n",
            " 23  energystarscore                  2537 non-null   object \n",
            " 24  siteeui_kbtu_sf                  3357 non-null   float64\n",
            " 25  siteeuiwn_kbtu_sf                3356 non-null   float64\n",
            " 26  sourceeui_kbtu_sf                3357 non-null   float64\n",
            " 27  sourceeuiwn_kbtu_sf              3357 non-null   float64\n",
            " 28  siteenergyuse_kbtu               3357 non-null   float64\n",
            " 29  siteenergyusewn_kbtu             3356 non-null   float64\n",
            " 30  steamuse_kbtu                    3357 non-null   float64\n",
            " 31  electricity_kbtu                 3357 non-null   float64\n",
            " 32  naturalgas_kbtu                  3357 non-null   float64\n",
            " 33  defaultdata                      3357 non-null   bool   \n",
            " 34  compliancestatus                 3234 non-null   object \n",
            " 35  outlier                          32 non-null     object \n",
            " 36  totalghgemissions                3357 non-null   float64\n",
            "dtypes: bool(1), float64(17), int64(7), object(12)\n",
            "memory usage: 973.7+ KB\n"
          ]
        }
      ]
    },
    {
      "cell_type": "code",
      "source": [
        "# Drop all rows where the 'outlier' column is not null\n",
        "df.drop(index=df[df['outlier'].notna()].index, inplace=True)\n",
        "df.drop(['outlier'], axis=1, inplace=True)\n",
        "df.info()"
      ],
      "metadata": {
        "colab": {
          "base_uri": "https://localhost:8080/"
        },
        "id": "o3dX_u-4ipOg",
        "outputId": "0b7d7039-46b6-4fa4-a43e-a76107cfd982"
      },
      "execution_count": 169,
      "outputs": [
        {
          "output_type": "stream",
          "name": "stdout",
          "text": [
            "<class 'pandas.core.frame.DataFrame'>\n",
            "Int64Index: 3325 entries, 0 to 3375\n",
            "Data columns (total 36 columns):\n",
            " #   Column                           Non-Null Count  Dtype  \n",
            "---  ------                           --------------  -----  \n",
            " 0   osebuildingid                    3325 non-null   int64  \n",
            " 1   buildingtype                     3325 non-null   object \n",
            " 2   primarypropertytype              3325 non-null   object \n",
            " 3   zipcode                          3309 non-null   float64\n",
            " 4   taxparcelidentificationnumber    3325 non-null   object \n",
            " 5   councildistrictcode              3325 non-null   int64  \n",
            " 6   neighborhood                     3325 non-null   object \n",
            " 7   latitude                         3325 non-null   float64\n",
            " 8   longitude                        3325 non-null   float64\n",
            " 9   yearbuilt                        3325 non-null   int64  \n",
            " 10  numberofbuildings                3325 non-null   float64\n",
            " 11  numberoffloors                   3325 non-null   int64  \n",
            " 12  propertygfatotal                 3325 non-null   int64  \n",
            " 13  propertygfaparking               3325 non-null   int64  \n",
            " 14  propertygfabuilding_s            3325 non-null   int64  \n",
            " 15  listofallpropertyusetypes        3325 non-null   object \n",
            " 16  largestpropertyusetype           3325 non-null   object \n",
            " 17  largestpropertyusetypegfa        3314 non-null   float64\n",
            " 18  secondlargestpropertyusetype     1671 non-null   object \n",
            " 19  secondlargestpropertyusetypegfa  0 non-null      object \n",
            " 20  thirdlargestpropertyusetype      599 non-null    object \n",
            " 21  thirdlargestpropertyusetypegfa   588 non-null    float64\n",
            " 22  yearsenergystarcertified         119 non-null    float64\n",
            " 23  energystarscore                  2514 non-null   object \n",
            " 24  siteeui_kbtu_sf                  3325 non-null   float64\n",
            " 25  siteeuiwn_kbtu_sf                3324 non-null   float64\n",
            " 26  sourceeui_kbtu_sf                3325 non-null   float64\n",
            " 27  sourceeuiwn_kbtu_sf              3325 non-null   float64\n",
            " 28  siteenergyuse_kbtu               3325 non-null   float64\n",
            " 29  siteenergyusewn_kbtu             3324 non-null   float64\n",
            " 30  steamuse_kbtu                    3325 non-null   float64\n",
            " 31  electricity_kbtu                 3325 non-null   float64\n",
            " 32  naturalgas_kbtu                  3325 non-null   float64\n",
            " 33  defaultdata                      3325 non-null   bool   \n",
            " 34  compliancestatus                 3204 non-null   object \n",
            " 35  totalghgemissions                3325 non-null   float64\n",
            "dtypes: bool(1), float64(17), int64(7), object(11)\n",
            "memory usage: 938.4+ KB\n"
          ]
        }
      ]
    },
    {
      "cell_type": "code",
      "source": [
        "# Impute 'zipcode' missing values from 'latitude' and 'longitude'\n",
        "from sklearn.impute import KNNImputer\n",
        "location = ['zipcode', 'latitude', 'longitude']\n",
        "dfl = df[location]\n",
        "dfl = pd.DataFrame(data=KNNImputer(n_neighbors=10).fit_transform(dfl), index=df.index, columns=location)\n",
        "df = df.drop(columns=location).join(dfl)"
      ],
      "metadata": {
        "id": "CXIV1PiRGHw4"
      },
      "execution_count": 170,
      "outputs": []
    },
    {
      "cell_type": "code",
      "source": [
        "df['zipcode'] = df['zipcode'].astype('object')\n",
        "df['councildistrictcode'] = df['councildistrictcode'].astype('object')\n",
        "df['numberofbuildings'] = df['numberofbuildings'].astype('int64')\n",
        "df.dtypes"
      ],
      "metadata": {
        "colab": {
          "base_uri": "https://localhost:8080/"
        },
        "id": "DikMs3th_VvM",
        "outputId": "6079359c-693a-41cb-e73b-af9a6fc90af1"
      },
      "execution_count": 171,
      "outputs": [
        {
          "output_type": "execute_result",
          "data": {
            "text/plain": [
              "osebuildingid                        int64\n",
              "buildingtype                        object\n",
              "primarypropertytype                 object\n",
              "taxparcelidentificationnumber       object\n",
              "councildistrictcode                 object\n",
              "neighborhood                        object\n",
              "yearbuilt                            int64\n",
              "numberofbuildings                    int64\n",
              "numberoffloors                       int64\n",
              "propertygfatotal                     int64\n",
              "propertygfaparking                   int64\n",
              "propertygfabuilding_s                int64\n",
              "listofallpropertyusetypes           object\n",
              "largestpropertyusetype              object\n",
              "largestpropertyusetypegfa          float64\n",
              "secondlargestpropertyusetype        object\n",
              "secondlargestpropertyusetypegfa     object\n",
              "thirdlargestpropertyusetype         object\n",
              "thirdlargestpropertyusetypegfa     float64\n",
              "yearsenergystarcertified           float64\n",
              "energystarscore                     object\n",
              "siteeui_kbtu_sf                    float64\n",
              "siteeuiwn_kbtu_sf                  float64\n",
              "sourceeui_kbtu_sf                  float64\n",
              "sourceeuiwn_kbtu_sf                float64\n",
              "siteenergyuse_kbtu                 float64\n",
              "siteenergyusewn_kbtu               float64\n",
              "steamuse_kbtu                      float64\n",
              "electricity_kbtu                   float64\n",
              "naturalgas_kbtu                    float64\n",
              "defaultdata                           bool\n",
              "compliancestatus                    object\n",
              "totalghgemissions                  float64\n",
              "zipcode                             object\n",
              "latitude                           float64\n",
              "longitude                          float64\n",
              "dtype: object"
            ]
          },
          "metadata": {},
          "execution_count": 171
        }
      ]
    },
    {
      "cell_type": "code",
      "source": [
        "# Derive the buildings age from 'yearbuilt'\n",
        "current_year = datetime.datetime.now().year\n",
        "df['age'] = df['yearbuilt'].apply(lambda x: current_year - x)\n",
        "df.drop(['yearbuilt'], axis=1, inplace=True)\n",
        "df.info()"
      ],
      "metadata": {
        "colab": {
          "base_uri": "https://localhost:8080/"
        },
        "id": "E61JjLwEI_1G",
        "outputId": "825a18a5-56b0-4d33-b4cb-31cd4b72cb97"
      },
      "execution_count": 172,
      "outputs": [
        {
          "output_type": "stream",
          "name": "stdout",
          "text": [
            "<class 'pandas.core.frame.DataFrame'>\n",
            "Int64Index: 3325 entries, 0 to 3375\n",
            "Data columns (total 36 columns):\n",
            " #   Column                           Non-Null Count  Dtype  \n",
            "---  ------                           --------------  -----  \n",
            " 0   osebuildingid                    3325 non-null   int64  \n",
            " 1   buildingtype                     3325 non-null   object \n",
            " 2   primarypropertytype              3325 non-null   object \n",
            " 3   taxparcelidentificationnumber    3325 non-null   object \n",
            " 4   councildistrictcode              3325 non-null   object \n",
            " 5   neighborhood                     3325 non-null   object \n",
            " 6   numberofbuildings                3325 non-null   int64  \n",
            " 7   numberoffloors                   3325 non-null   int64  \n",
            " 8   propertygfatotal                 3325 non-null   int64  \n",
            " 9   propertygfaparking               3325 non-null   int64  \n",
            " 10  propertygfabuilding_s            3325 non-null   int64  \n",
            " 11  listofallpropertyusetypes        3325 non-null   object \n",
            " 12  largestpropertyusetype           3325 non-null   object \n",
            " 13  largestpropertyusetypegfa        3314 non-null   float64\n",
            " 14  secondlargestpropertyusetype     1671 non-null   object \n",
            " 15  secondlargestpropertyusetypegfa  0 non-null      object \n",
            " 16  thirdlargestpropertyusetype      599 non-null    object \n",
            " 17  thirdlargestpropertyusetypegfa   588 non-null    float64\n",
            " 18  yearsenergystarcertified         119 non-null    float64\n",
            " 19  energystarscore                  2514 non-null   object \n",
            " 20  siteeui_kbtu_sf                  3325 non-null   float64\n",
            " 21  siteeuiwn_kbtu_sf                3324 non-null   float64\n",
            " 22  sourceeui_kbtu_sf                3325 non-null   float64\n",
            " 23  sourceeuiwn_kbtu_sf              3325 non-null   float64\n",
            " 24  siteenergyuse_kbtu               3325 non-null   float64\n",
            " 25  siteenergyusewn_kbtu             3324 non-null   float64\n",
            " 26  steamuse_kbtu                    3325 non-null   float64\n",
            " 27  electricity_kbtu                 3325 non-null   float64\n",
            " 28  naturalgas_kbtu                  3325 non-null   float64\n",
            " 29  defaultdata                      3325 non-null   bool   \n",
            " 30  compliancestatus                 3204 non-null   object \n",
            " 31  totalghgemissions                3325 non-null   float64\n",
            " 32  zipcode                          3325 non-null   object \n",
            " 33  latitude                         3325 non-null   float64\n",
            " 34  longitude                        3325 non-null   float64\n",
            " 35  age                              3325 non-null   int64  \n",
            "dtypes: bool(1), float64(15), int64(7), object(13)\n",
            "memory usage: 1.0+ MB\n"
          ]
        }
      ]
    },
    {
      "cell_type": "code",
      "source": [
        "# Fix 'energystarscore'\n",
        "df['energystarscore'] = df['energystarscore'].replace(\"NULL\", None)\n",
        "df['energystarscore'] = pd.to_numeric(df['energystarscore'])\n",
        "df['energystarscore'].describe()"
      ],
      "metadata": {
        "colab": {
          "base_uri": "https://localhost:8080/"
        },
        "id": "g7a0nLbSJNmn",
        "outputId": "34865835-5b3e-4e1b-c8ab-6d2168f13436"
      },
      "execution_count": 173,
      "outputs": [
        {
          "output_type": "execute_result",
          "data": {
            "text/plain": [
              "count    2506.000000\n",
              "mean       67.821229\n",
              "std        26.703263\n",
              "min         1.000000\n",
              "25%        53.000000\n",
              "50%        75.000000\n",
              "75%        90.000000\n",
              "max       100.000000\n",
              "Name: energystarscore, dtype: float64"
            ]
          },
          "metadata": {},
          "execution_count": 173
        }
      ]
    },
    {
      "cell_type": "markdown",
      "source": [
        "According to the brief (\"les relevés sont coûteux à obtenir\"), the city of Seattle would like to predict CO2 emissions without knowing the energy consumption, so we are only going to keep the type of energy usage for each building :"
      ],
      "metadata": {
        "id": "VQQai637C-fM"
      }
    },
    {
      "cell_type": "code",
      "source": [
        "# Create boolean columns for the types of energy consumption (steam/electricity/gaz)\n",
        "def energy_usage(cell):\n",
        "    if cell > 0:\n",
        "      return True\n",
        "    else:\n",
        "      return False\n",
        "df['steamuse_kbtu'] = df['steamuse_kbtu'].apply(energy_usage)\n",
        "df['electricity_kbtu'] = df['electricity_kbtu'].apply(energy_usage)\n",
        "df['naturalgas_kbtu'] = df['naturalgas_kbtu'].apply(energy_usage)\n",
        "df.rename(columns={'steamuse_kbtu': 'steamuse'}, inplace=True)\n",
        "df.rename(columns={'electricity_kbtu': 'electricity'}, inplace=True)\n",
        "df.rename(columns={'naturalgas_kbtu': 'naturalgas'}, inplace=True)\n",
        "df.drop(['siteeui_kbtu_sf', 'siteeuiwn_kbtu_sf', 'sourceeui_kbtu_sf', 'sourceeuiwn_kbtu_sf', 'siteenergyuse_kbtu', 'siteenergyusewn_kbtu', 'osebuildingid'], axis=1, inplace=True)\n",
        "df.info()"
      ],
      "metadata": {
        "colab": {
          "base_uri": "https://localhost:8080/"
        },
        "id": "XtAddE0Fa88g",
        "outputId": "5c60d77f-9728-43df-bf35-ca3ee4074534"
      },
      "execution_count": 174,
      "outputs": [
        {
          "output_type": "stream",
          "name": "stdout",
          "text": [
            "<class 'pandas.core.frame.DataFrame'>\n",
            "Int64Index: 3325 entries, 0 to 3375\n",
            "Data columns (total 29 columns):\n",
            " #   Column                           Non-Null Count  Dtype  \n",
            "---  ------                           --------------  -----  \n",
            " 0   buildingtype                     3325 non-null   object \n",
            " 1   primarypropertytype              3325 non-null   object \n",
            " 2   taxparcelidentificationnumber    3325 non-null   object \n",
            " 3   councildistrictcode              3325 non-null   object \n",
            " 4   neighborhood                     3325 non-null   object \n",
            " 5   numberofbuildings                3325 non-null   int64  \n",
            " 6   numberoffloors                   3325 non-null   int64  \n",
            " 7   propertygfatotal                 3325 non-null   int64  \n",
            " 8   propertygfaparking               3325 non-null   int64  \n",
            " 9   propertygfabuilding_s            3325 non-null   int64  \n",
            " 10  listofallpropertyusetypes        3325 non-null   object \n",
            " 11  largestpropertyusetype           3325 non-null   object \n",
            " 12  largestpropertyusetypegfa        3314 non-null   float64\n",
            " 13  secondlargestpropertyusetype     1671 non-null   object \n",
            " 14  secondlargestpropertyusetypegfa  0 non-null      object \n",
            " 15  thirdlargestpropertyusetype      599 non-null    object \n",
            " 16  thirdlargestpropertyusetypegfa   588 non-null    float64\n",
            " 17  yearsenergystarcertified         119 non-null    float64\n",
            " 18  energystarscore                  2506 non-null   float64\n",
            " 19  steamuse                         3325 non-null   bool   \n",
            " 20  electricity                      3325 non-null   bool   \n",
            " 21  naturalgas                       3325 non-null   bool   \n",
            " 22  defaultdata                      3325 non-null   bool   \n",
            " 23  compliancestatus                 3204 non-null   object \n",
            " 24  totalghgemissions                3325 non-null   float64\n",
            " 25  zipcode                          3325 non-null   object \n",
            " 26  latitude                         3325 non-null   float64\n",
            " 27  longitude                        3325 non-null   float64\n",
            " 28  age                              3325 non-null   int64  \n",
            "dtypes: bool(4), float64(7), int64(6), object(12)\n",
            "memory usage: 817.4+ KB\n"
          ]
        }
      ]
    },
    {
      "cell_type": "code",
      "source": [
        "# Drop columns with too many missing values\n",
        "threshold = 70 # minimum percentage of non-null cells in each column\n",
        "for column in df.columns:\n",
        "  if df[column].isnull().sum() / len(df) *100 > (100 - threshold):\n",
        "      df.drop([column], axis=1, inplace=True)\n",
        "df.info()"
      ],
      "metadata": {
        "colab": {
          "base_uri": "https://localhost:8080/"
        },
        "id": "klQ-Kb5P4X2D",
        "outputId": "a6f5662b-29ee-4abc-8e8b-325222d45fec"
      },
      "execution_count": 175,
      "outputs": [
        {
          "output_type": "stream",
          "name": "stdout",
          "text": [
            "<class 'pandas.core.frame.DataFrame'>\n",
            "Int64Index: 3325 entries, 0 to 3375\n",
            "Data columns (total 24 columns):\n",
            " #   Column                         Non-Null Count  Dtype  \n",
            "---  ------                         --------------  -----  \n",
            " 0   buildingtype                   3325 non-null   object \n",
            " 1   primarypropertytype            3325 non-null   object \n",
            " 2   taxparcelidentificationnumber  3325 non-null   object \n",
            " 3   councildistrictcode            3325 non-null   object \n",
            " 4   neighborhood                   3325 non-null   object \n",
            " 5   numberofbuildings              3325 non-null   int64  \n",
            " 6   numberoffloors                 3325 non-null   int64  \n",
            " 7   propertygfatotal               3325 non-null   int64  \n",
            " 8   propertygfaparking             3325 non-null   int64  \n",
            " 9   propertygfabuilding_s          3325 non-null   int64  \n",
            " 10  listofallpropertyusetypes      3325 non-null   object \n",
            " 11  largestpropertyusetype         3325 non-null   object \n",
            " 12  largestpropertyusetypegfa      3314 non-null   float64\n",
            " 13  energystarscore                2506 non-null   float64\n",
            " 14  steamuse                       3325 non-null   bool   \n",
            " 15  electricity                    3325 non-null   bool   \n",
            " 16  naturalgas                     3325 non-null   bool   \n",
            " 17  defaultdata                    3325 non-null   bool   \n",
            " 18  compliancestatus               3204 non-null   object \n",
            " 19  totalghgemissions              3325 non-null   float64\n",
            " 20  zipcode                        3325 non-null   object \n",
            " 21  latitude                       3325 non-null   float64\n",
            " 22  longitude                      3325 non-null   float64\n",
            " 23  age                            3325 non-null   int64  \n",
            "dtypes: bool(4), float64(5), int64(6), object(9)\n",
            "memory usage: 687.5+ KB\n"
          ]
        }
      ]
    },
    {
      "cell_type": "markdown",
      "source": [
        "#3.Data Profiling"
      ],
      "metadata": {
        "id": "FyR8HU3BFLvF"
      }
    },
    {
      "cell_type": "code",
      "source": [
        "# Fix for the Google Colab bug \"ValueError: Only supported for TrueType fonts\" (the report gets generated externally by the profiling.py file)\n",
        "df.to_csv('co2_eda.csv', index=False)\n",
        "files.download('co2_eda.csv')"
      ],
      "metadata": {
        "colab": {
          "base_uri": "https://localhost:8080/",
          "height": 17
        },
        "id": "7ep8ZDRYtrwX",
        "outputId": "e8d27a54-d192-43d1-d1c6-2ffa2c0de548"
      },
      "execution_count": 176,
      "outputs": [
        {
          "output_type": "display_data",
          "data": {
            "text/plain": [
              "<IPython.core.display.Javascript object>"
            ],
            "application/javascript": [
              "\n",
              "    async function download(id, filename, size) {\n",
              "      if (!google.colab.kernel.accessAllowed) {\n",
              "        return;\n",
              "      }\n",
              "      const div = document.createElement('div');\n",
              "      const label = document.createElement('label');\n",
              "      label.textContent = `Downloading \"${filename}\": `;\n",
              "      div.appendChild(label);\n",
              "      const progress = document.createElement('progress');\n",
              "      progress.max = size;\n",
              "      div.appendChild(progress);\n",
              "      document.body.appendChild(div);\n",
              "\n",
              "      const buffers = [];\n",
              "      let downloaded = 0;\n",
              "\n",
              "      const channel = await google.colab.kernel.comms.open(id);\n",
              "      // Send a message to notify the kernel that we're ready.\n",
              "      channel.send({})\n",
              "\n",
              "      for await (const message of channel.messages) {\n",
              "        // Send a message to notify the kernel that we're ready.\n",
              "        channel.send({})\n",
              "        if (message.buffers) {\n",
              "          for (const buffer of message.buffers) {\n",
              "            buffers.push(buffer);\n",
              "            downloaded += buffer.byteLength;\n",
              "            progress.value = downloaded;\n",
              "          }\n",
              "        }\n",
              "      }\n",
              "      const blob = new Blob(buffers, {type: 'application/binary'});\n",
              "      const a = document.createElement('a');\n",
              "      a.href = window.URL.createObjectURL(blob);\n",
              "      a.download = filename;\n",
              "      div.appendChild(a);\n",
              "      a.click();\n",
              "      div.remove();\n",
              "    }\n",
              "  "
            ]
          },
          "metadata": {}
        },
        {
          "output_type": "display_data",
          "data": {
            "text/plain": [
              "<IPython.core.display.Javascript object>"
            ],
            "application/javascript": [
              "download(\"download_6796a01f-e29b-46ae-a8c3-fa34db6f1d3f\", \"co2_eda.csv\", 684494)"
            ]
          },
          "metadata": {}
        }
      ]
    },
    {
      "cell_type": "markdown",
      "source": [
        "L'intégralité du rapport est disponible sur https://seabeb.azurewebsites.net/dashboard (ou http://127.0.0.1:8000/dashboard si la web app est arrêtée)."
      ],
      "metadata": {
        "id": "Z2U_0KqWHrGg"
      }
    },
    {
      "cell_type": "markdown",
      "source": [
        "##### Variable dépendante : TotalGHGEmissions\n",
        "L'immense majorité des immeubles émet moins de 50 tonnes, mais on peut noter la présence de quelques outliers qui polluent énormément.\n",
        "La rubrique \"Interactions\" montre que les émissions tendent à croître avec le nombre d'étages, mais aussi avec le score Energy Star, ce qui est beaucoup moins logique : les immeubles les mieux notés devraient au contraire émettre moins de gaz à effet de serre...\n",
        "\n",
        "La superficie des immeubles (en premier lieu, 'propertygfatotal') est fortement liée au niveau d'émission, comme l'indique la matrice de corrélation."
      ],
      "metadata": {
        "id": "P_s-3p4EVkDk"
      }
    },
    {
      "cell_type": "markdown",
      "source": [
        "##### Sélection des features\n",
        "\n",
        "A choisir entre les trois variables corrélées 'neighborhood', 'councildistrictcode' et 'latitude', on prendra la première pârce que l'implantation des immeubles est souvent liée à la notion de quartier.\n",
        "\n",
        "La variable 'electricity' peut être négligée parce qu'elle est fortement corrélée au score Energy Star et présente un grand déséquilibre : seulement 5 immeubles ne consomment pas d'électricité.\n",
        "\n",
        "La variable 'primarypropertytype' sera préférée à 'buildingtype' parce qu'elle est mieux corrélée avec 'totalghgemissions'.\n",
        "\n",
        "Après le nettoyage des données, il s'avère que la variable 'compliancestatus' est devenue constante sur l'ensemble des lignes restantes, donc on peut la supprimer également. Au final, voici le dataframe qui servira à la modélisation :"
      ],
      "metadata": {
        "id": "kKlo18tXbUWS"
      }
    },
    {
      "cell_type": "code",
      "source": [
        "# Drop unnecessary features\n",
        "df.drop(['propertygfabuilding_s', 'largestpropertyusetypegfa', 'councildistrictcode', 'latitude', 'electricity', 'buildingtype', 'defaultdata', 'compliancestatus'], axis=1, inplace=True)\n",
        "df.info()"
      ],
      "metadata": {
        "colab": {
          "base_uri": "https://localhost:8080/"
        },
        "id": "r9LkVGHzt3Zh",
        "outputId": "ea4ccba0-3244-48be-b353-a4e19a128962"
      },
      "execution_count": 177,
      "outputs": [
        {
          "output_type": "stream",
          "name": "stdout",
          "text": [
            "<class 'pandas.core.frame.DataFrame'>\n",
            "Int64Index: 3325 entries, 0 to 3375\n",
            "Data columns (total 16 columns):\n",
            " #   Column                         Non-Null Count  Dtype  \n",
            "---  ------                         --------------  -----  \n",
            " 0   primarypropertytype            3325 non-null   object \n",
            " 1   taxparcelidentificationnumber  3325 non-null   object \n",
            " 2   neighborhood                   3325 non-null   object \n",
            " 3   numberofbuildings              3325 non-null   int64  \n",
            " 4   numberoffloors                 3325 non-null   int64  \n",
            " 5   propertygfatotal               3325 non-null   int64  \n",
            " 6   propertygfaparking             3325 non-null   int64  \n",
            " 7   listofallpropertyusetypes      3325 non-null   object \n",
            " 8   largestpropertyusetype         3325 non-null   object \n",
            " 9   energystarscore                2506 non-null   float64\n",
            " 10  steamuse                       3325 non-null   bool   \n",
            " 11  naturalgas                     3325 non-null   bool   \n",
            " 12  totalghgemissions              3325 non-null   float64\n",
            " 13  zipcode                        3325 non-null   object \n",
            " 14  longitude                      3325 non-null   float64\n",
            " 15  age                            3325 non-null   int64  \n",
            "dtypes: bool(2), float64(3), int64(5), object(6)\n",
            "memory usage: 525.2+ KB\n"
          ]
        }
      ]
    },
    {
      "cell_type": "code",
      "source": [
        "# CSV export\n",
        "df.to_csv('co2_modelling.csv', index=False)\n",
        "files.download('co2_modelling.csv')"
      ],
      "metadata": {
        "colab": {
          "base_uri": "https://localhost:8080/",
          "height": 17
        },
        "id": "AkzVsn1Pv2cz",
        "outputId": "b3bae7e4-7a3b-4772-e9d7-d16bc5409dc6"
      },
      "execution_count": 178,
      "outputs": [
        {
          "output_type": "display_data",
          "data": {
            "text/plain": [
              "<IPython.core.display.Javascript object>"
            ],
            "application/javascript": [
              "\n",
              "    async function download(id, filename, size) {\n",
              "      if (!google.colab.kernel.accessAllowed) {\n",
              "        return;\n",
              "      }\n",
              "      const div = document.createElement('div');\n",
              "      const label = document.createElement('label');\n",
              "      label.textContent = `Downloading \"${filename}\": `;\n",
              "      div.appendChild(label);\n",
              "      const progress = document.createElement('progress');\n",
              "      progress.max = size;\n",
              "      div.appendChild(progress);\n",
              "      document.body.appendChild(div);\n",
              "\n",
              "      const buffers = [];\n",
              "      let downloaded = 0;\n",
              "\n",
              "      const channel = await google.colab.kernel.comms.open(id);\n",
              "      // Send a message to notify the kernel that we're ready.\n",
              "      channel.send({})\n",
              "\n",
              "      for await (const message of channel.messages) {\n",
              "        // Send a message to notify the kernel that we're ready.\n",
              "        channel.send({})\n",
              "        if (message.buffers) {\n",
              "          for (const buffer of message.buffers) {\n",
              "            buffers.push(buffer);\n",
              "            downloaded += buffer.byteLength;\n",
              "            progress.value = downloaded;\n",
              "          }\n",
              "        }\n",
              "      }\n",
              "      const blob = new Blob(buffers, {type: 'application/binary'});\n",
              "      const a = document.createElement('a');\n",
              "      a.href = window.URL.createObjectURL(blob);\n",
              "      a.download = filename;\n",
              "      div.appendChild(a);\n",
              "      a.click();\n",
              "      div.remove();\n",
              "    }\n",
              "  "
            ]
          },
          "metadata": {}
        },
        {
          "output_type": "display_data",
          "data": {
            "text/plain": [
              "<IPython.core.display.Javascript object>"
            ],
            "application/javascript": [
              "download(\"download_ed36b8ec-2958-437d-8d8d-a6b0bb9a9694\", \"co2_modelling.csv\", 471303)"
            ]
          },
          "metadata": {}
        }
      ]
    },
    {
      "cell_type": "markdown",
      "source": [
        "#4.Recommendations"
      ],
      "metadata": {
        "id": "dLju2vPvXZom"
      }
    },
    {
      "cell_type": "code",
      "source": [
        "fig = px.bar(df, x=\"neighborhood\", y=\"totalghgemissions\", title=\"Aménagement des espaces verts\", color_discrete_sequence=['green'])\n",
        "fig.show()\n",
        "fig.write_html('neighborhood.html')\n",
        "files.download('neighborhood.html')"
      ],
      "metadata": {
        "colab": {
          "base_uri": "https://localhost:8080/",
          "height": 542
        },
        "id": "3Amc6q9Az0d-",
        "outputId": "5cc7251d-ff6e-4599-bb13-ffeea7b16b1c"
      },
      "execution_count": 182,
      "outputs": [
        {
          "output_type": "display_data",
          "data": {
            "text/html": [
              "<html>\n",
              "<head><meta charset=\"utf-8\" /></head>\n",
              "<body>\n",
              "    <div>            <script src=\"https://cdnjs.cloudflare.com/ajax/libs/mathjax/2.7.5/MathJax.js?config=TeX-AMS-MML_SVG\"></script><script type=\"text/javascript\">if (window.MathJax && window.MathJax.Hub && window.MathJax.Hub.Config) {window.MathJax.Hub.Config({SVG: {font: \"STIX-Web\"}});}</script>                <script type=\"text/javascript\">window.PlotlyConfig = {MathJaxConfig: 'local'};</script>\n",
              "        <script src=\"https://cdn.plot.ly/plotly-2.18.2.min.js\"></script>                <div id=\"a06e3233-8bda-4939-bf75-fc2af6a016c0\" class=\"plotly-graph-div\" style=\"height:525px; width:100%;\"></div>            <script type=\"text/javascript\">                                    window.PLOTLYENV=window.PLOTLYENV || {};                                    if (document.getElementById(\"a06e3233-8bda-4939-bf75-fc2af6a016c0\")) {                    Plotly.newPlot(                        \"a06e3233-8bda-4939-bf75-fc2af6a016c0\",                        [{\"alignmentgroup\":\"True\",\"hovertemplate\":\"neighborhood=%{x}<br>totalghgemissions=%{y}<extra></extra>\",\"legendgroup\":\"\",\"marker\":{\"color\":\"green\",\"pattern\":{\"shape\":\"\"}},\"name\":\"\",\"offsetgroup\":\"\",\"orientation\":\"v\",\"showlegend\":false,\"textposition\":\"auto\",\"x\":[\"DOWNTOWN\",\"DOWNTOWN\",\"DOWNTOWN\",\"DOWNTOWN\",\"DOWNTOWN\",\"DOWNTOWN\",\"DOWNTOWN\",\"DOWNTOWN\",\"DOWNTOWN\",\"DOWNTOWN\",\"DOWNTOWN\",\"DOWNTOWN\",\"DOWNTOWN\",\"DOWNTOWN\",\"DOWNTOWN\",\"DOWNTOWN\",\"DOWNTOWN\",\"DOWNTOWN\",\"DOWNTOWN\",\"DOWNTOWN\",\"DOWNTOWN\",\"DOWNTOWN\",\"SOUTHEAST\",\"NORTHEAST\",\"DOWNTOWN\",\"DOWNTOWN\",\"EAST\",\"DOWNTOWN\",\"DOWNTOWN\",\"NORTH\",\"MAGNOLIA / QUEEN ANNE\",\"LAKE UNION\",\"NORTHEAST\",\"NORTHEAST\",\"GREATER DUWAMISH\",\"GREATER DUWAMISH\",\"MAGNOLIA / QUEEN ANNE\",\"NORTHEAST\",\"BALLARD\",\"GREATER DUWAMISH\",\"NORTHWEST\",\"DOWNTOWN\",\"DOWNTOWN\",\"DOWNTOWN\",\"DOWNTOWN\",\"DOWNTOWN\",\"DOWNTOWN\",\"DOWNTOWN\",\"DOWNTOWN\",\"DOWNTOWN\",\"DOWNTOWN\",\"LAKE UNION\",\"LAKE UNION\",\"LAKE UNION\",\"MAGNOLIA / QUEEN ANNE\",\"EAST\",\"MAGNOLIA / QUEEN ANNE\",\"CENTRAL\",\"SOUTHWEST\",\"NORTHWEST\",\"LAKE UNION\",\"SOUTHWEST\",\"EAST\",\"EAST\",\"EAST\",\"LAKE UNION\",\"LAKE UNION\",\"LAKE UNION\",\"MAGNOLIA / QUEEN ANNE\",\"MAGNOLIA / QUEEN ANNE\",\"MAGNOLIA / QUEEN ANNE\",\"LAKE UNION\",\"MAGNOLIA / QUEEN ANNE\",\"MAGNOLIA / QUEEN ANNE\",\"MAGNOLIA / QUEEN ANNE\",\"MAGNOLIA / QUEEN ANNE\",\"MAGNOLIA / QUEEN ANNE\",\"MAGNOLIA / QUEEN ANNE\",\"MAGNOLIA / QUEEN ANNE\",\"NORTHEAST\",\"DELRIDGE\",\"EAST\",\"EAST\",\"SOUTHEAST\",\"SOUTHEAST\",\"GREATER DUWAMISH\",\"SOUTHEAST\",\"MAGNOLIA / QUEEN ANNE\",\"NORTHEAST\",\"NORTHEAST\",\"NORTHWEST\",\"NORTHWEST\",\"NORTHWEST\",\"NORTHWEST\",\"LAKE UNION\",\"DOWNTOWN\",\"DOWNTOWN\",\"BALLARD\",\"BALLARD\",\"DOWNTOWN\",\"DOWNTOWN\",\"MAGNOLIA / QUEEN ANNE\",\"SOUTHEAST\",\"EAST\",\"DELRIDGE\",\"NORTHEAST\",\"GREATER DUWAMISH\",\"CENTRAL\",\"SOUTHEAST\",\"CENTRAL\",\"GREATER DUWAMISH\",\"GREATER DUWAMISH\",\"GREATER DUWAMISH\",\"MAGNOLIA / QUEEN ANNE\",\"MAGNOLIA / QUEEN ANNE\",\"NORTH\",\"CENTRAL\",\"NORTHWEST\",\"DOWNTOWN\",\"GREATER DUWAMISH\",\"NORTH\",\"NORTH\",\"NORTH\",\"NORTHEAST\",\"NORTHWEST\",\"BALLARD\",\"EAST\",\"NORTHWEST\",\"SOUTHEAST\",\"DELRIDGE\",\"GREATER DUWAMISH\",\"SOUTHEAST\",\"BALLARD\",\"GREATER DUWAMISH\",\"DELRIDGE\",\"DELRIDGE\",\"DELRIDGE\",\"DELRIDGE\",\"CENTRAL\",\"BALLARD\",\"SOUTHEAST\",\"SOUTHWEST\",\"LAKE UNION\",\"LAKE UNION\",\"LAKE UNION\",\"MAGNOLIA / QUEEN ANNE\",\"MAGNOLIA / QUEEN ANNE\",\"BALLARD\",\"NORTHWEST\",\"SOUTHWEST\",\"NORTHWEST\",\"GREATER DUWAMISH\",\"DOWNTOWN\",\"GREATER DUWAMISH\",\"GREATER DUWAMISH\",\"GREATER DUWAMISH\",\"GREATER DUWAMISH\",\"GREATER DUWAMISH\",\"GREATER DUWAMISH\",\"LAKE UNION\",\"GREATER DUWAMISH\",\"NORTH\",\"MAGNOLIA / QUEEN ANNE\",\"DOWNTOWN\",\"DOWNTOWN\",\"CENTRAL\",\"DELRIDGE\",\"LAKE UNION\",\"EAST\",\"DOWNTOWN\",\"SOUTHWEST\",\"EAST\",\"NORTHEAST\",\"NORTHEAST\",\"NORTH\",\"NORTHEAST\",\"NORTHEAST\",\"NORTHEAST\",\"NORTHEAST\",\"MAGNOLIA / QUEEN ANNE\",\"SOUTHWEST\",\"CENTRAL\",\"NORTHWEST\",\"DOWNTOWN\",\"DOWNTOWN\",\"DOWNTOWN\",\"DELRIDGE\",\"NORTH\",\"GREATER DUWAMISH\",\"GREATER DUWAMISH\",\"MAGNOLIA / QUEEN ANNE\",\"MAGNOLIA / QUEEN ANNE\",\"DOWNTOWN\",\"DOWNTOWN\",\"DOWNTOWN\",\"DOWNTOWN\",\"DOWNTOWN\",\"DOWNTOWN\",\"GREATER DUWAMISH\",\"DOWNTOWN\",\"DOWNTOWN\",\"DOWNTOWN\",\"DOWNTOWN\",\"DOWNTOWN\",\"DOWNTOWN\",\"DOWNTOWN\",\"DOWNTOWN\",\"DOWNTOWN\",\"DOWNTOWN\",\"DOWNTOWN\",\"DOWNTOWN\",\"DOWNTOWN\",\"DOWNTOWN\",\"DOWNTOWN\",\"DOWNTOWN\",\"DOWNTOWN\",\"DOWNTOWN\",\"DOWNTOWN\",\"DOWNTOWN\",\"DOWNTOWN\",\"DOWNTOWN\",\"DOWNTOWN\",\"DOWNTOWN\",\"DOWNTOWN\",\"DOWNTOWN\",\"DOWNTOWN\",\"DOWNTOWN\",\"DOWNTOWN\",\"DOWNTOWN\",\"DOWNTOWN\",\"DOWNTOWN\",\"DOWNTOWN\",\"DOWNTOWN\",\"DOWNTOWN\",\"DOWNTOWN\",\"NORTHEAST\",\"NORTHEAST\",\"NORTHEAST\",\"NORTHEAST\",\"NORTHEAST\",\"NORTHEAST\",\"DOWNTOWN\",\"DOWNTOWN\",\"DOWNTOWN\",\"DOWNTOWN\",\"DOWNTOWN\",\"DOWNTOWN\",\"DOWNTOWN\",\"DOWNTOWN\",\"DOWNTOWN\",\"DOWNTOWN\",\"NORTHWEST\",\"DOWNTOWN\",\"DOWNTOWN\",\"GREATER DUWAMISH\",\"DOWNTOWN\",\"DOWNTOWN\",\"DOWNTOWN\",\"DOWNTOWN\",\"DOWNTOWN\",\"SOUTHEAST\",\"GREATER DUWAMISH\",\"NORTHWEST\",\"LAKE UNION\",\"LAKE UNION\",\"BALLARD\",\"BALLARD\",\"DOWNTOWN\",\"DOWNTOWN\",\"DOWNTOWN\",\"DOWNTOWN\",\"DOWNTOWN\",\"DOWNTOWN\",\"DOWNTOWN\",\"DOWNTOWN\",\"DOWNTOWN\",\"DOWNTOWN\",\"DOWNTOWN\",\"DOWNTOWN\",\"DOWNTOWN\",\"DOWNTOWN\",\"DOWNTOWN\",\"DOWNTOWN\",\"DOWNTOWN\",\"DOWNTOWN\",\"DOWNTOWN\",\"DOWNTOWN\",\"DOWNTOWN\",\"DOWNTOWN\",\"DOWNTOWN\",\"DOWNTOWN\",\"DOWNTOWN\",\"DOWNTOWN\",\"DOWNTOWN\",\"DOWNTOWN\",\"DOWNTOWN\",\"DOWNTOWN\",\"DOWNTOWN\",\"DOWNTOWN\",\"DOWNTOWN\",\"EAST\",\"EAST\",\"EAST\",\"EAST\",\"LAKE UNION\",\"LAKE UNION\",\"LAKE UNION\",\"MAGNOLIA / QUEEN ANNE\",\"GREATER DUWAMISH\",\"GREATER DUWAMISH\",\"GREATER DUWAMISH\",\"LAKE UNION\",\"GREATER DUWAMISH\",\"LAKE UNION\",\"MAGNOLIA / QUEEN ANNE\",\"MAGNOLIA / QUEEN ANNE\",\"LAKE UNION\",\"NORTH\",\"NORTH\",\"NORTH\",\"NORTH\",\"DELRIDGE\",\"LAKE UNION\",\"GREATER DUWAMISH\",\"LAKE UNION\",\"EAST\",\"MAGNOLIA / QUEEN ANNE\",\"BALLARD\",\"LAKE UNION\",\"LAKE UNION\",\"LAKE UNION\",\"LAKE UNION\",\"LAKE UNION\",\"LAKE UNION\",\"LAKE UNION\",\"LAKE UNION\",\"LAKE UNION\",\"LAKE UNION\",\"LAKE UNION\",\"LAKE UNION\",\"LAKE UNION\",\"LAKE UNION\",\"LAKE UNION\",\"MAGNOLIA / QUEEN ANNE\",\"MAGNOLIA / QUEEN ANNE\",\"MAGNOLIA / QUEEN ANNE\",\"MAGNOLIA / QUEEN ANNE\",\"NORTHEAST\",\"NORTHEAST\",\"BALLARD\",\"SOUTHWEST\",\"LAKE UNION\",\"NORTH\",\"GREATER DUWAMISH\",\"DELRIDGE\",\"GREATER DUWAMISH\",\"LAKE UNION\",\"MAGNOLIA / QUEEN ANNE\",\"NORTHWEST\",\"NORTHWEST\",\"NORTHWEST\",\"NORTHWEST\",\"NORTHWEST\",\"NORTHWEST\",\"LAKE UNION\",\"LAKE UNION\",\"LAKE UNION\",\"LAKE UNION\",\"LAKE UNION\",\"DOWNTOWN\",\"GREATER DUWAMISH\",\"GREATER DUWAMISH\",\"GREATER DUWAMISH\",\"BALLARD\",\"BALLARD\",\"BALLARD\",\"MAGNOLIA / QUEEN ANNE\",\"MAGNOLIA / QUEEN ANNE\",\"MAGNOLIA / QUEEN ANNE\",\"DOWNTOWN\",\"GREATER DUWAMISH\",\"GREATER DUWAMISH\",\"DOWNTOWN\",\"GREATER DUWAMISH\",\"GREATER DUWAMISH\",\"GREATER DUWAMISH\",\"GREATER DUWAMISH\",\"GREATER DUWAMISH\",\"MAGNOLIA / QUEEN ANNE\",\"NORTHWEST\",\"EAST\",\"GREATER DUWAMISH\",\"GREATER DUWAMISH\",\"GREATER DUWAMISH\",\"GREATER DUWAMISH\",\"GREATER DUWAMISH\",\"NORTHWEST\",\"NORTH\",\"LAKE UNION\",\"LAKE UNION\",\"CENTRAL\",\"GREATER DUWAMISH\",\"NORTHEAST\",\"CENTRAL\",\"GREATER DUWAMISH\",\"GREATER DUWAMISH\",\"LAKE UNION\",\"GREATER DUWAMISH\",\"LAKE UNION\",\"LAKE UNION\",\"NORTH\",\"NORTHWEST\",\"NORTH\",\"NORTHWEST\",\"DELRIDGE\",\"DELRIDGE\",\"MAGNOLIA / QUEEN ANNE\",\"NORTHWEST\",\"NORTHWEST\",\"NORTHWEST\",\"GREATER DUWAMISH\",\"DOWNTOWN\",\"NORTHWEST\",\"NORTH\",\"LAKE UNION\",\"LAKE UNION\",\"GREATER DUWAMISH\",\"GREATER DUWAMISH\",\"GREATER DUWAMISH\",\"GREATER DUWAMISH\",\"GREATER DUWAMISH\",\"MAGNOLIA / QUEEN ANNE\",\"GREATER DUWAMISH\",\"GREATER DUWAMISH\",\"GREATER DUWAMISH\",\"LAKE UNION\",\"LAKE UNION\",\"LAKE UNION\",\"LAKE UNION\",\"LAKE UNION\",\"GREATER DUWAMISH\",\"DOWNTOWN\",\"SOUTHEAST\",\"DOWNTOWN\",\"DOWNTOWN\",\"DOWNTOWN\",\"DOWNTOWN\",\"DOWNTOWN\",\"DOWNTOWN\",\"DOWNTOWN\",\"DOWNTOWN\",\"DOWNTOWN\",\"DOWNTOWN\",\"GREATER DUWAMISH\",\"GREATER DUWAMISH\",\"GREATER DUWAMISH\",\"GREATER DUWAMISH\",\"GREATER DUWAMISH\",\"GREATER DUWAMISH\",\"GREATER DUWAMISH\",\"GREATER DUWAMISH\",\"GREATER DUWAMISH\",\"EAST\",\"GREATER DUWAMISH\",\"DOWNTOWN\",\"DOWNTOWN\",\"DOWNTOWN\",\"DOWNTOWN\",\"GREATER DUWAMISH\",\"GREATER DUWAMISH\",\"GREATER DUWAMISH\",\"GREATER DUWAMISH\",\"GREATER DUWAMISH\",\"GREATER DUWAMISH\",\"GREATER DUWAMISH\",\"DELRIDGE\",\"EAST\",\"NORTHEAST\",\"LAKE UNION\",\"DELRIDGE\",\"GREATER DUWAMISH\",\"DOWNTOWN\",\"EAST\",\"DOWNTOWN\",\"DOWNTOWN\",\"DOWNTOWN\",\"DOWNTOWN\",\"CENTRAL\",\"DELRIDGE\",\"EAST\",\"EAST\",\"DOWNTOWN\",\"DOWNTOWN\",\"GREATER DUWAMISH\",\"MAGNOLIA / QUEEN ANNE\",\"DELRIDGE\",\"SOUTHEAST\",\"DOWNTOWN\",\"DOWNTOWN\",\"DOWNTOWN\",\"MAGNOLIA / QUEEN ANNE\",\"DOWNTOWN\",\"DOWNTOWN\",\"DOWNTOWN\",\"MAGNOLIA / QUEEN ANNE\",\"GREATER DUWAMISH\",\"MAGNOLIA / QUEEN ANNE\",\"MAGNOLIA / QUEEN ANNE\",\"MAGNOLIA / QUEEN ANNE\",\"MAGNOLIA / QUEEN ANNE\",\"DOWNTOWN\",\"MAGNOLIA / QUEEN ANNE\",\"MAGNOLIA / QUEEN ANNE\",\"MAGNOLIA / QUEEN ANNE\",\"DOWNTOWN\",\"DOWNTOWN\",\"DOWNTOWN\",\"DOWNTOWN\",\"DOWNTOWN\",\"DOWNTOWN\",\"DOWNTOWN\",\"DOWNTOWN\",\"GREATER DUWAMISH\",\"GREATER DUWAMISH\",\"GREATER DUWAMISH\",\"GREATER DUWAMISH\",\"GREATER DUWAMISH\",\"GREATER DUWAMISH\",\"GREATER DUWAMISH\",\"GREATER DUWAMISH\",\"GREATER DUWAMISH\",\"GREATER DUWAMISH\",\"NORTHEAST\",\"GREATER DUWAMISH\",\"GREATER DUWAMISH\",\"NORTHWEST\",\"BALLARD\",\"MAGNOLIA / QUEEN ANNE\",\"NORTHEAST\",\"LAKE UNION\",\"LAKE UNION\",\"MAGNOLIA / QUEEN ANNE\",\"LAKE UNION\",\"LAKE UNION\",\"MAGNOLIA / QUEEN ANNE\",\"MAGNOLIA / QUEEN ANNE\",\"DOWNTOWN\",\"DOWNTOWN\",\"DOWNTOWN\",\"DOWNTOWN\",\"DOWNTOWN\",\"DOWNTOWN\",\"DOWNTOWN\",\"DOWNTOWN\",\"DOWNTOWN\",\"DOWNTOWN\",\"DOWNTOWN\",\"DOWNTOWN\",\"EAST\",\"DOWNTOWN\",\"DOWNTOWN\",\"DOWNTOWN\",\"DOWNTOWN\",\"DOWNTOWN\",\"DOWNTOWN\",\"DOWNTOWN\",\"DOWNTOWN\",\"DOWNTOWN\",\"DOWNTOWN\",\"DOWNTOWN\",\"DOWNTOWN\",\"EAST\",\"CENTRAL\",\"DOWNTOWN\",\"DOWNTOWN\",\"DOWNTOWN\",\"GREATER DUWAMISH\",\"GREATER DUWAMISH\",\"GREATER DUWAMISH\",\"GREATER DUWAMISH\",\"GREATER DUWAMISH\",\"GREATER DUWAMISH\",\"GREATER DUWAMISH\",\"GREATER DUWAMISH\",\"GREATER DUWAMISH\",\"GREATER DUWAMISH\",\"GREATER DUWAMISH\",\"GREATER DUWAMISH\",\"GREATER DUWAMISH\",\"GREATER DUWAMISH\",\"DELRIDGE\",\"NORTHEAST\",\"GREATER DUWAMISH\",\"DELRIDGE\",\"NORTH\",\"GREATER DUWAMISH\",\"DOWNTOWN\",\"MAGNOLIA / QUEEN ANNE\",\"DOWNTOWN\",\"GREATER DUWAMISH\",\"GREATER DUWAMISH\",\"DELRIDGE\",\"MAGNOLIA / QUEEN ANNE\",\"DOWNTOWN\",\"SOUTHWEST\",\"NORTHEAST\",\"NORTHEAST\",\"CENTRAL\",\"GREATER DUWAMISH\",\"EAST\",\"GREATER DUWAMISH\",\"EAST\",\"MAGNOLIA / QUEEN ANNE\",\"EAST\",\"EAST\",\"NORTH\",\"BALLARD\",\"EAST\",\"MAGNOLIA / QUEEN ANNE\",\"MAGNOLIA / QUEEN ANNE\",\"EAST\",\"DELRIDGE\",\"NORTHWEST\",\"CENTRAL\",\"CENTRAL\",\"GREATER DUWAMISH\",\"SOUTHWEST\",\"CENTRAL\",\"GREATER DUWAMISH\",\"NORTH\",\"EAST\",\"GREATER DUWAMISH\",\"GREATER DUWAMISH\",\"NORTHEAST\",\"NORTHWEST\",\"LAKE UNION\",\"LAKE UNION\",\"MAGNOLIA / QUEEN ANNE\",\"CENTRAL\",\"NORTHEAST\",\"NORTHEAST\",\"NORTHEAST\",\"NORTHEAST\",\"NORTHEAST\",\"NORTHEAST\",\"BALLARD\",\"NORTHWEST\",\"GREATER DUWAMISH\",\"GREATER DUWAMISH\",\"GREATER DUWAMISH\",\"GREATER DUWAMISH\",\"DOWNTOWN\",\"GREATER DUWAMISH\",\"GREATER DUWAMISH\",\"CENTRAL\",\"CENTRAL\",\"SOUTHWEST\",\"MAGNOLIA / QUEEN ANNE\",\"SOUTHWEST\",\"SOUTHWEST\",\"DOWNTOWN\",\"NORTHWEST\",\"SOUTHWEST\",\"DOWNTOWN\",\"SOUTHWEST\",\"SOUTHWEST\",\"SOUTHWEST\",\"SOUTHWEST\",\"SOUTHWEST\",\"MAGNOLIA / QUEEN ANNE\",\"SOUTHWEST\",\"EAST\",\"GREATER DUWAMISH\",\"GREATER DUWAMISH\",\"GREATER DUWAMISH\",\"GREATER DUWAMISH\",\"GREATER DUWAMISH\",\"SOUTHWEST\",\"DOWNTOWN\",\"NORTHEAST\",\"LAKE UNION\",\"BALLARD\",\"BALLARD\",\"BALLARD\",\"BALLARD\",\"BALLARD\",\"BALLARD\",\"BALLARD\",\"DOWNTOWN\",\"DOWNTOWN\",\"DOWNTOWN\",\"EAST\",\"EAST\",\"MAGNOLIA / QUEEN ANNE\",\"EAST\",\"EAST\",\"EAST\",\"EAST\",\"DOWNTOWN\",\"DOWNTOWN\",\"DOWNTOWN\",\"DOWNTOWN\",\"DOWNTOWN\",\"DOWNTOWN\",\"DOWNTOWN\",\"CENTRAL\",\"MAGNOLIA / QUEEN ANNE\",\"DOWNTOWN\",\"NORTH\",\"MAGNOLIA / QUEEN ANNE\",\"GREATER DUWAMISH\",\"SOUTHWEST\",\"SOUTHWEST\",\"BALLARD\",\"MAGNOLIA / QUEEN ANNE\",\"SOUTHWEST\",\"NORTHWEST\",\"NORTHWEST\",\"EAST\",\"DOWNTOWN\",\"DOWNTOWN\",\"DOWNTOWN\",\"DOWNTOWN\",\"DOWNTOWN\",\"DOWNTOWN\",\"DOWNTOWN\",\"DOWNTOWN\",\"DOWNTOWN\",\"DOWNTOWN\",\"DOWNTOWN\",\"DOWNTOWN\",\"DOWNTOWN\",\"DOWNTOWN\",\"SOUTHWEST\",\"SOUTHWEST\",\"LAKE UNION\",\"NORTHWEST\",\"NORTHWEST\",\"NORTHWEST\",\"EAST\",\"SOUTHWEST\",\"MAGNOLIA / QUEEN ANNE\",\"EAST\",\"EAST\",\"MAGNOLIA / QUEEN ANNE\",\"LAKE UNION\",\"LAKE UNION\",\"MAGNOLIA / QUEEN ANNE\",\"EAST\",\"MAGNOLIA / QUEEN ANNE\",\"EAST\",\"LAKE UNION\",\"MAGNOLIA / QUEEN ANNE\",\"MAGNOLIA / QUEEN ANNE\",\"GREATER DUWAMISH\",\"MAGNOLIA / QUEEN ANNE\",\"DOWNTOWN\",\"DOWNTOWN\",\"DOWNTOWN\",\"EAST\",\"EAST\",\"NORTHEAST\",\"NORTHEAST\",\"NORTHEAST\",\"NORTHEAST\",\"MAGNOLIA / QUEEN ANNE\",\"DOWNTOWN\",\"DOWNTOWN\",\"DOWNTOWN\",\"DOWNTOWN\",\"DOWNTOWN\",\"DOWNTOWN\",\"DOWNTOWN\",\"DOWNTOWN\",\"DOWNTOWN\",\"DOWNTOWN\",\"DOWNTOWN\",\"DOWNTOWN\",\"DOWNTOWN\",\"DOWNTOWN\",\"DOWNTOWN\",\"DOWNTOWN\",\"DOWNTOWN\",\"DOWNTOWN\",\"DOWNTOWN\",\"DOWNTOWN\",\"DOWNTOWN\",\"DOWNTOWN\",\"DOWNTOWN\",\"DOWNTOWN\",\"DOWNTOWN\",\"DOWNTOWN\",\"DOWNTOWN\",\"DOWNTOWN\",\"DOWNTOWN\",\"DOWNTOWN\",\"DOWNTOWN\",\"DOWNTOWN\",\"DOWNTOWN\",\"DOWNTOWN\",\"DOWNTOWN\",\"DOWNTOWN\",\"DOWNTOWN\",\"DOWNTOWN\",\"DOWNTOWN\",\"DOWNTOWN\",\"DOWNTOWN\",\"DOWNTOWN\",\"DOWNTOWN\",\"DOWNTOWN\",\"DOWNTOWN\",\"DOWNTOWN\",\"DOWNTOWN\",\"DOWNTOWN\",\"DOWNTOWN\",\"DOWNTOWN\",\"DOWNTOWN\",\"DOWNTOWN\",\"DOWNTOWN\",\"DOWNTOWN\",\"DOWNTOWN\",\"DOWNTOWN\",\"EAST\",\"EAST\",\"MAGNOLIA / QUEEN ANNE\",\"MAGNOLIA / QUEEN ANNE\",\"NORTH\",\"SOUTHWEST\",\"LAKE UNION\",\"NORTHWEST\",\"NORTHWEST\",\"NORTHWEST\",\"NORTHWEST\",\"NORTHWEST\",\"NORTHEAST\",\"NORTHEAST\",\"DELRIDGE\",\"MAGNOLIA / QUEEN ANNE\",\"DELRIDGE\",\"EAST\",\"SOUTHWEST\",\"SOUTHEAST\",\"NORTHEAST\",\"NORTHEAST\",\"NORTHEAST\",\"NORTHEAST\",\"NORTHEAST\",\"NORTHEAST\",\"NORTHEAST\",\"NORTHEAST\",\"NORTHEAST\",\"NORTHEAST\",\"NORTHEAST\",\"NORTHEAST\",\"DOWNTOWN\",\"DOWNTOWN\",\"DOWNTOWN\",\"DOWNTOWN\",\"DOWNTOWN\",\"DOWNTOWN\",\"DOWNTOWN\",\"DOWNTOWN\",\"DOWNTOWN\",\"DOWNTOWN\",\"BALLARD\",\"BALLARD\",\"SOUTHWEST\",\"CENTRAL\",\"NORTHWEST\",\"NORTHWEST\",\"DOWNTOWN\",\"SOUTHEAST\",\"SOUTHEAST\",\"SOUTHEAST\",\"EAST\",\"NORTH\",\"NORTHEAST\",\"DOWNTOWN\",\"DOWNTOWN\",\"DOWNTOWN\",\"DOWNTOWN\",\"DOWNTOWN\",\"DOWNTOWN\",\"LAKE UNION\",\"SOUTHEAST\",\"NORTHEAST\",\"NORTHEAST\",\"SOUTHWEST\",\"EAST\",\"DELRIDGE\",\"SOUTHEAST\",\"SOUTHEAST\",\"SOUTHEAST\",\"SOUTHEAST\",\"SOUTHEAST\",\"MAGNOLIA / QUEEN ANNE\",\"EAST\",\"BALLARD\",\"BALLARD\",\"NORTHEAST\",\"EAST\",\"NORTH\",\"NORTH\",\"NORTHWEST\",\"NORTHWEST\",\"NORTHEAST\",\"NORTHEAST\",\"NORTHEAST\",\"NORTHEAST\",\"NORTHEAST\",\"NORTHEAST\",\"NORTHEAST\",\"NORTHEAST\",\"NORTHEAST\",\"NORTHEAST\",\"NORTHEAST\",\"NORTHEAST\",\"NORTHEAST\",\"NORTHEAST\",\"NORTHEAST\",\"NORTHEAST\",\"NORTHEAST\",\"NORTHEAST\",\"NORTHEAST\",\"NORTHEAST\",\"NORTHEAST\",\"NORTHEAST\",\"NORTHEAST\",\"NORTHEAST\",\"NORTHEAST\",\"NORTHEAST\",\"NORTH\",\"SOUTHWEST\",\"NORTHWEST\",\"BALLARD\",\"BALLARD\",\"SOUTHWEST\",\"NORTH\",\"EAST\",\"NORTHEAST\",\"NORTHEAST\",\"EAST\",\"NORTHEAST\",\"MAGNOLIA / QUEEN ANNE\",\"NORTHWEST\",\"SOUTHWEST\",\"MAGNOLIA / QUEEN ANNE\",\"MAGNOLIA / QUEEN ANNE\",\"LAKE UNION\",\"DOWNTOWN\",\"GREATER DUWAMISH\",\"SOUTHEAST\",\"SOUTHWEST\",\"BALLARD\",\"MAGNOLIA / QUEEN ANNE\",\"BALLARD\",\"BALLARD\",\"GREATER DUWAMISH\",\"DOWNTOWN\",\"DOWNTOWN\",\"DOWNTOWN\",\"DOWNTOWN\",\"DOWNTOWN\",\"DOWNTOWN\",\"DOWNTOWN\",\"DOWNTOWN\",\"NORTHWEST\",\"SOUTHWEST\",\"SOUTHWEST\",\"SOUTHWEST\",\"SOUTHWEST\",\"SOUTHWEST\",\"SOUTHWEST\",\"SOUTHWEST\",\"SOUTHWEST\",\"SOUTHWEST\",\"SOUTHWEST\",\"SOUTHWEST\",\"SOUTHWEST\",\"SOUTHWEST\",\"SOUTHWEST\",\"SOUTHWEST\",\"CENTRAL\",\"CENTRAL\",\"MAGNOLIA / QUEEN ANNE\",\"NORTH\",\"NORTH\",\"NORTH\",\"NORTH\",\"NORTH\",\"NORTH\",\"NORTH\",\"NORTH\",\"NORTHWEST\",\"DOWNTOWN\",\"GREATER DUWAMISH\",\"CENTRAL\",\"SOUTHWEST\",\"EAST\",\"SOUTHWEST\",\"CENTRAL\",\"GREATER DUWAMISH\",\"GREATER DUWAMISH\",\"GREATER DUWAMISH\",\"GREATER DUWAMISH\",\"GREATER DUWAMISH\",\"GREATER DUWAMISH\",\"SOUTHEAST\",\"SOUTHEAST\",\"SOUTHEAST\",\"SOUTHEAST\",\"MAGNOLIA / QUEEN ANNE\",\"SOUTHEAST\",\"SOUTHEAST\",\"SOUTHEAST\",\"GREATER DUWAMISH\",\"GREATER DUWAMISH\",\"MAGNOLIA / QUEEN ANNE\",\"MAGNOLIA / QUEEN ANNE\",\"MAGNOLIA / QUEEN ANNE\",\"MAGNOLIA / QUEEN ANNE\",\"NORTHEAST\",\"EAST\",\"EAST\",\"EAST\",\"EAST\",\"GREATER DUWAMISH\",\"DELRIDGE\",\"GREATER DUWAMISH\",\"GREATER DUWAMISH\",\"GREATER DUWAMISH\",\"GREATER DUWAMISH\",\"NORTHWEST\",\"LAKE UNION\",\"GREATER DUWAMISH\",\"EAST\",\"EAST\",\"DOWNTOWN\",\"EAST\",\"MAGNOLIA / QUEEN ANNE\",\"GREATER DUWAMISH\",\"MAGNOLIA / QUEEN ANNE\",\"MAGNOLIA / QUEEN ANNE\",\"NORTH\",\"NORTH\",\"GREATER DUWAMISH\",\"CENTRAL\",\"EAST\",\"EAST\",\"MAGNOLIA / QUEEN ANNE\",\"MAGNOLIA / QUEEN ANNE\",\"MAGNOLIA / QUEEN ANNE\",\"MAGNOLIA / QUEEN ANNE\",\"MAGNOLIA / QUEEN ANNE\",\"MAGNOLIA / QUEEN ANNE\",\"MAGNOLIA / QUEEN ANNE\",\"MAGNOLIA / QUEEN ANNE\",\"MAGNOLIA / QUEEN ANNE\",\"MAGNOLIA / QUEEN ANNE\",\"MAGNOLIA / QUEEN ANNE\",\"MAGNOLIA / QUEEN ANNE\",\"MAGNOLIA / QUEEN ANNE\",\"DOWNTOWN\",\"MAGNOLIA / QUEEN ANNE\",\"DOWNTOWN\",\"NORTHWEST\",\"GREATER DUWAMISH\",\"MAGNOLIA / QUEEN ANNE\",\"DOWNTOWN\",\"NORTHWEST\",\"NORTHEAST\",\"NORTHWEST\",\"MAGNOLIA / QUEEN ANNE\",\"EAST\",\"EAST\",\"NORTHEAST\",\"NORTHWEST\",\"LAKE UNION\",\"LAKE UNION\",\"LAKE UNION\",\"LAKE UNION\",\"LAKE UNION\",\"LAKE UNION\",\"LAKE UNION\",\"LAKE UNION\",\"NORTHEAST\",\"LAKE UNION\",\"NORTHEAST\",\"NORTHEAST\",\"LAKE UNION\",\"LAKE UNION\",\"LAKE UNION\",\"DOWNTOWN\",\"BALLARD\",\"BALLARD\",\"NORTHEAST\",\"NORTHEAST\",\"SOUTHWEST\",\"BALLARD\",\"LAKE UNION\",\"NORTHWEST\",\"NORTHWEST\",\"LAKE UNION\",\"SOUTHWEST\",\"SOUTHEAST\",\"MAGNOLIA / QUEEN ANNE\",\"DOWNTOWN\",\"SOUTHEAST\",\"SOUTHEAST\",\"GREATER DUWAMISH\",\"GREATER DUWAMISH\",\"GREATER DUWAMISH\",\"GREATER DUWAMISH\",\"GREATER DUWAMISH\",\"GREATER DUWAMISH\",\"GREATER DUWAMISH\",\"GREATER DUWAMISH\",\"GREATER DUWAMISH\",\"LAKE UNION\",\"NORTHEAST\",\"LAKE UNION\",\"LAKE UNION\",\"LAKE UNION\",\"LAKE UNION\",\"LAKE UNION\",\"DOWNTOWN\",\"DOWNTOWN\",\"DOWNTOWN\",\"DOWNTOWN\",\"DOWNTOWN\",\"DOWNTOWN\",\"DOWNTOWN\",\"DOWNTOWN\",\"DOWNTOWN\",\"DOWNTOWN\",\"DOWNTOWN\",\"DOWNTOWN\",\"EAST\",\"EAST\",\"EAST\",\"EAST\",\"EAST\",\"EAST\",\"LAKE UNION\",\"LAKE UNION\",\"LAKE UNION\",\"LAKE UNION\",\"LAKE UNION\",\"LAKE UNION\",\"LAKE UNION\",\"LAKE UNION\",\"LAKE UNION\",\"LAKE UNION\",\"LAKE UNION\",\"LAKE UNION\",\"MAGNOLIA / QUEEN ANNE\",\"MAGNOLIA / QUEEN ANNE\",\"MAGNOLIA / QUEEN ANNE\",\"MAGNOLIA / QUEEN ANNE\",\"MAGNOLIA / QUEEN ANNE\",\"MAGNOLIA / QUEEN ANNE\",\"MAGNOLIA / QUEEN ANNE\",\"LAKE UNION\",\"MAGNOLIA / QUEEN ANNE\",\"MAGNOLIA / QUEEN ANNE\",\"MAGNOLIA / QUEEN ANNE\",\"DOWNTOWN\",\"DELRIDGE\",\"MAGNOLIA / QUEEN ANNE\",\"EAST\",\"MAGNOLIA / QUEEN ANNE\",\"NORTHWEST\",\"NORTHWEST\",\"NORTHWEST\",\"NORTHWEST\",\"NORTHWEST\",\"NORTHWEST\",\"NORTHWEST\",\"NORTHWEST\",\"NORTHWEST\",\"NORTHWEST\",\"NORTHWEST\",\"NORTHWEST\",\"NORTHWEST\",\"NORTHWEST\",\"NORTHWEST\",\"NORTHWEST\",\"NORTHWEST\",\"NORTHWEST\",\"NORTHWEST\",\"NORTHEAST\",\"NORTHEAST\",\"MAGNOLIA / QUEEN ANNE\",\"MAGNOLIA / QUEEN ANNE\",\"DOWNTOWN\",\"DOWNTOWN\",\"DOWNTOWN\",\"DOWNTOWN\",\"DOWNTOWN\",\"LAKE UNION\",\"MAGNOLIA / QUEEN ANNE\",\"MAGNOLIA / QUEEN ANNE\",\"MAGNOLIA / QUEEN ANNE\",\"MAGNOLIA / QUEEN ANNE\",\"MAGNOLIA / QUEEN ANNE\",\"MAGNOLIA / QUEEN ANNE\",\"MAGNOLIA / QUEEN ANNE\",\"MAGNOLIA / QUEEN ANNE\",\"MAGNOLIA / QUEEN ANNE\",\"MAGNOLIA / QUEEN ANNE\",\"MAGNOLIA / QUEEN ANNE\",\"DOWNTOWN\",\"DOWNTOWN\",\"DOWNTOWN\",\"DOWNTOWN\",\"DOWNTOWN\",\"DOWNTOWN\",\"DOWNTOWN\",\"DOWNTOWN\",\"DOWNTOWN\",\"DOWNTOWN\",\"EAST\",\"EAST\",\"EAST\",\"EAST\",\"EAST\",\"EAST\",\"EAST\",\"EAST\",\"EAST\",\"EAST\",\"EAST\",\"EAST\",\"EAST\",\"EAST\",\"EAST\",\"EAST\",\"EAST\",\"EAST\",\"EAST\",\"EAST\",\"EAST\",\"EAST\",\"EAST\",\"EAST\",\"EAST\",\"BALLARD\",\"BALLARD\",\"BALLARD\",\"BALLARD\",\"LAKE UNION\",\"LAKE UNION\",\"LAKE UNION\",\"LAKE UNION\",\"LAKE UNION\",\"LAKE UNION\",\"LAKE UNION\",\"MAGNOLIA / QUEEN ANNE\",\"MAGNOLIA / QUEEN ANNE\",\"MAGNOLIA / QUEEN ANNE\",\"MAGNOLIA / QUEEN ANNE\",\"MAGNOLIA / QUEEN ANNE\",\"MAGNOLIA / QUEEN ANNE\",\"MAGNOLIA / QUEEN ANNE\",\"MAGNOLIA / QUEEN ANNE\",\"LAKE UNION\",\"LAKE UNION\",\"LAKE UNION\",\"DELRIDGE\",\"LAKE UNION\",\"LAKE UNION\",\"LAKE UNION\",\"MAGNOLIA / QUEEN ANNE\",\"MAGNOLIA / QUEEN ANNE\",\"MAGNOLIA / QUEEN ANNE\",\"DOWNTOWN\",\"DOWNTOWN\",\"DOWNTOWN\",\"DOWNTOWN\",\"DOWNTOWN\",\"DOWNTOWN\",\"DOWNTOWN\",\"DOWNTOWN\",\"DOWNTOWN\",\"DOWNTOWN\",\"DOWNTOWN\",\"EAST\",\"DOWNTOWN\",\"DOWNTOWN\",\"DOWNTOWN\",\"DOWNTOWN\",\"DOWNTOWN\",\"DOWNTOWN\",\"DOWNTOWN\",\"DOWNTOWN\",\"DOWNTOWN\",\"DOWNTOWN\",\"DOWNTOWN\",\"DOWNTOWN\",\"DOWNTOWN\",\"DOWNTOWN\",\"DOWNTOWN\",\"DOWNTOWN\",\"LAKE UNION\",\"LAKE UNION\",\"EAST\",\"EAST\",\"NORTH\",\"LAKE UNION\",\"LAKE UNION\",\"LAKE UNION\",\"LAKE UNION\",\"LAKE UNION\",\"LAKE UNION\",\"LAKE UNION\",\"LAKE UNION\",\"LAKE UNION\",\"EAST\",\"MAGNOLIA / QUEEN ANNE\",\"MAGNOLIA / QUEEN ANNE\",\"MAGNOLIA / QUEEN ANNE\",\"NORTH\",\"MAGNOLIA / QUEEN ANNE\",\"NORTH\",\"NORTH\",\"NORTH\",\"NORTH\",\"NORTH\",\"NORTH\",\"SOUTHWEST\",\"LAKE UNION\",\"LAKE UNION\",\"LAKE UNION\",\"DELRIDGE\",\"NORTHEAST\",\"SOUTHEAST\",\"SOUTHEAST\",\"SOUTHEAST\",\"SOUTHEAST\",\"GREATER DUWAMISH\",\"EAST\",\"NORTH\",\"SOUTHWEST\",\"GREATER DUWAMISH\",\"NORTHEAST\",\"CENTRAL\",\"EAST\",\"EAST\",\"EAST\",\"EAST\",\"EAST\",\"EAST\",\"EAST\",\"EAST\",\"EAST\",\"EAST\",\"EAST\",\"EAST\",\"EAST\",\"EAST\",\"EAST\",\"EAST\",\"EAST\",\"EAST\",\"EAST\",\"EAST\",\"EAST\",\"EAST\",\"NORTHEAST\",\"LAKE UNION\",\"SOUTHEAST\",\"GREATER DUWAMISH\",\"MAGNOLIA / QUEEN ANNE\",\"MAGNOLIA / QUEEN ANNE\",\"MAGNOLIA / QUEEN ANNE\",\"MAGNOLIA / QUEEN ANNE\",\"MAGNOLIA / QUEEN ANNE\",\"MAGNOLIA / QUEEN ANNE\",\"MAGNOLIA / QUEEN ANNE\",\"MAGNOLIA / QUEEN ANNE\",\"MAGNOLIA / QUEEN ANNE\",\"MAGNOLIA / QUEEN ANNE\",\"MAGNOLIA / QUEEN ANNE\",\"LAKE UNION\",\"LAKE UNION\",\"SOUTHWEST\",\"SOUTHWEST\",\"NORTH\",\"LAKE UNION\",\"LAKE UNION\",\"LAKE UNION\",\"EAST\",\"LAKE UNION\",\"LAKE UNION\",\"LAKE UNION\",\"LAKE UNION\",\"LAKE UNION\",\"LAKE UNION\",\"LAKE UNION\",\"LAKE UNION\",\"NORTHEAST\",\"SOUTHWEST\",\"SOUTHWEST\",\"SOUTHWEST\",\"LAKE UNION\",\"BALLARD\",\"DELRIDGE\",\"DOWNTOWN\",\"DOWNTOWN\",\"GREATER DUWAMISH\",\"GREATER DUWAMISH\",\"GREATER DUWAMISH\",\"GREATER DUWAMISH\",\"GREATER DUWAMISH\",\"GREATER DUWAMISH\",\"GREATER DUWAMISH\",\"MAGNOLIA / QUEEN ANNE\",\"EAST\",\"DOWNTOWN\",\"DOWNTOWN\",\"BALLARD\",\"LAKE UNION\",\"MAGNOLIA / QUEEN ANNE\",\"MAGNOLIA / QUEEN ANNE\",\"MAGNOLIA / QUEEN ANNE\",\"EAST\",\"LAKE UNION\",\"MAGNOLIA / QUEEN ANNE\",\"DOWNTOWN\",\"EAST\",\"EAST\",\"LAKE UNION\",\"DOWNTOWN\",\"NORTHWEST\",\"NORTHWEST\",\"NORTHWEST\",\"NORTHWEST\",\"NORTHWEST\",\"NORTHWEST\",\"NORTHWEST\",\"NORTHWEST\",\"GREATER DUWAMISH\",\"GREATER DUWAMISH\",\"GREATER DUWAMISH\",\"GREATER DUWAMISH\",\"GREATER DUWAMISH\",\"GREATER DUWAMISH\",\"NORTH\",\"NORTH\",\"NORTH\",\"NORTH\",\"NORTHEAST\",\"NORTHEAST\",\"NORTHEAST\",\"NORTHEAST\",\"NORTHEAST\",\"NORTHWEST\",\"MAGNOLIA / QUEEN ANNE\",\"DOWNTOWN\",\"EAST\",\"EAST\",\"DOWNTOWN\",\"MAGNOLIA / QUEEN ANNE\",\"NORTH\",\"GREATER DUWAMISH\",\"MAGNOLIA / QUEEN ANNE\",\"EAST\",\"BALLARD\",\"BALLARD\",\"BALLARD\",\"MAGNOLIA / QUEEN ANNE\",\"MAGNOLIA / QUEEN ANNE\",\"CENTRAL\",\"EAST\",\"CENTRAL\",\"CENTRAL\",\"LAKE UNION\",\"EAST\",\"EAST\",\"MAGNOLIA / QUEEN ANNE\",\"MAGNOLIA / QUEEN ANNE\",\"DOWNTOWN\",\"GREATER DUWAMISH\",\"EAST\",\"EAST\",\"SOUTHEAST\",\"SOUTHEAST\",\"GREATER DUWAMISH\",\"GREATER DUWAMISH\",\"NORTH\",\"GREATER DUWAMISH\",\"GREATER DUWAMISH\",\"GREATER DUWAMISH\",\"GREATER DUWAMISH\",\"DOWNTOWN\",\"BALLARD\",\"BALLARD\",\"BALLARD\",\"BALLARD\",\"BALLARD\",\"BALLARD\",\"BALLARD\",\"BALLARD\",\"BALLARD\",\"BALLARD\",\"BALLARD\",\"BALLARD\",\"BALLARD\",\"BALLARD\",\"BALLARD\",\"BALLARD\",\"BALLARD\",\"BALLARD\",\"BALLARD\",\"BALLARD\",\"BALLARD\",\"BALLARD\",\"BALLARD\",\"BALLARD\",\"MAGNOLIA / QUEEN ANNE\",\"MAGNOLIA / QUEEN ANNE\",\"DOWNTOWN\",\"DOWNTOWN\",\"NORTHWEST\",\"SOUTHEAST\",\"SOUTHEAST\",\"CENTRAL\",\"SOUTHWEST\",\"EAST\",\"MAGNOLIA / QUEEN ANNE\",\"LAKE UNION\",\"SOUTHEAST\",\"DOWNTOWN\",\"BALLARD\",\"BALLARD\",\"BALLARD\",\"BALLARD\",\"BALLARD\",\"BALLARD\",\"MAGNOLIA / QUEEN ANNE\",\"MAGNOLIA / QUEEN ANNE\",\"MAGNOLIA / QUEEN ANNE\",\"NORTHWEST\",\"MAGNOLIA / QUEEN ANNE\",\"MAGNOLIA / QUEEN ANNE\",\"MAGNOLIA / QUEEN ANNE\",\"MAGNOLIA / QUEEN ANNE\",\"MAGNOLIA / QUEEN ANNE\",\"MAGNOLIA / QUEEN ANNE\",\"MAGNOLIA / QUEEN ANNE\",\"BALLARD\",\"BALLARD\",\"CENTRAL\",\"CENTRAL\",\"MAGNOLIA / QUEEN ANNE\",\"MAGNOLIA / QUEEN ANNE\",\"MAGNOLIA / QUEEN ANNE\",\"MAGNOLIA / QUEEN ANNE\",\"MAGNOLIA / QUEEN ANNE\",\"MAGNOLIA / QUEEN ANNE\",\"MAGNOLIA / QUEEN ANNE\",\"MAGNOLIA / QUEEN ANNE\",\"MAGNOLIA / QUEEN ANNE\",\"MAGNOLIA / QUEEN ANNE\",\"MAGNOLIA / QUEEN ANNE\",\"BALLARD\",\"BALLARD\",\"BALLARD\",\"BALLARD\",\"BALLARD\",\"BALLARD\",\"BALLARD\",\"BALLARD\",\"BALLARD\",\"BALLARD\",\"BALLARD\",\"BALLARD\",\"BALLARD\",\"NORTHEAST\",\"NORTHWEST\",\"NORTH\",\"NORTHWEST\",\"NORTHWEST\",\"NORTHWEST\",\"NORTH\",\"NORTH\",\"NORTH\",\"NORTHWEST\",\"DELRIDGE\",\"SOUTHWEST\",\"NORTHEAST\",\"SOUTHWEST\",\"MAGNOLIA / QUEEN ANNE\",\"DOWNTOWN\",\"NORTHEAST\",\"NORTHWEST\",\"NORTHWEST\",\"MAGNOLIA / QUEEN ANNE\",\"MAGNOLIA / QUEEN ANNE\",\"MAGNOLIA / QUEEN ANNE\",\"MAGNOLIA / QUEEN ANNE\",\"MAGNOLIA / QUEEN ANNE\",\"MAGNOLIA / QUEEN ANNE\",\"MAGNOLIA / QUEEN ANNE\",\"MAGNOLIA / QUEEN ANNE\",\"MAGNOLIA / QUEEN ANNE\",\"NORTHWEST\",\"EAST\",\"EAST\",\"EAST\",\"EAST\",\"EAST\",\"LAKE UNION\",\"NORTH\",\"NORTHWEST\",\"NORTHWEST\",\"NORTHWEST\",\"NORTH\",\"NORTH\",\"NORTH\",\"NORTH\",\"NORTH\",\"NORTH\",\"NORTH\",\"NORTH\",\"NORTHWEST\",\"NORTH\",\"LAKE UNION\",\"LAKE UNION\",\"NORTH\",\"NORTH\",\"NORTH\",\"NORTH\",\"NORTH\",\"NORTH\",\"NORTH\",\"NORTH\",\"NORTH\",\"NORTH\",\"DOWNTOWN\",\"SOUTHWEST\",\"DELRIDGE\",\"NORTHWEST\",\"DELRIDGE\",\"DELRIDGE\",\"DELRIDGE\",\"MAGNOLIA / QUEEN ANNE\",\"NORTHWEST\",\"NORTHWEST\",\"NORTHWEST\",\"NORTHWEST\",\"NORTHWEST\",\"NORTHWEST\",\"CENTRAL\",\"CENTRAL\",\"GREATER DUWAMISH\",\"GREATER DUWAMISH\",\"MAGNOLIA / QUEEN ANNE\",\"DOWNTOWN\",\"SOUTHWEST\",\"LAKE UNION\",\"SOUTHWEST\",\"SOUTHWEST\",\"SOUTHWEST\",\"LAKE UNION\",\"CENTRAL\",\"SOUTHWEST\",\"SOUTHWEST\",\"EAST\",\"DELRIDGE\",\"DELRIDGE\",\"DELRIDGE\",\"DELRIDGE\",\"NORTHWEST\",\"NORTHWEST\",\"NORTHWEST\",\"DOWNTOWN\",\"DOWNTOWN\",\"DOWNTOWN\",\"DOWNTOWN\",\"EAST\",\"NORTH\",\"LAKE UNION\",\"MAGNOLIA / QUEEN ANNE\",\"MAGNOLIA / QUEEN ANNE\",\"NORTHWEST\",\"EAST\",\"EAST\",\"EAST\",\"EAST\",\"NORTH\",\"NORTH\",\"CENTRAL\",\"GREATER DUWAMISH\",\"MAGNOLIA / QUEEN ANNE\",\"MAGNOLIA / QUEEN ANNE\",\"MAGNOLIA / QUEEN ANNE\",\"MAGNOLIA / QUEEN ANNE\",\"MAGNOLIA / QUEEN ANNE\",\"SOUTHWEST\",\"SOUTHWEST\",\"BALLARD\",\"BALLARD\",\"NORTHWEST\",\"SOUTHWEST\",\"SOUTHWEST\",\"SOUTHWEST\",\"SOUTHWEST\",\"GREATER DUWAMISH\",\"GREATER DUWAMISH\",\"GREATER DUWAMISH\",\"EAST\",\"EAST\",\"EAST\",\"EAST\",\"EAST\",\"EAST\",\"EAST\",\"EAST\",\"EAST\",\"EAST\",\"EAST\",\"EAST\",\"EAST\",\"EAST\",\"EAST\",\"EAST\",\"EAST\",\"EAST\",\"EAST\",\"EAST\",\"EAST\",\"EAST\",\"SOUTHEAST\",\"NORTH\",\"NORTH\",\"DELRIDGE\",\"NORTH\",\"NORTH\",\"NORTH\",\"NORTH\",\"NORTH\",\"NORTH\",\"NORTH\",\"SOUTHWEST\",\"SOUTHWEST\",\"SOUTHWEST\",\"SOUTHWEST\",\"DOWNTOWN\",\"SOUTHWEST\",\"DOWNTOWN\",\"GREATER DUWAMISH\",\"DELRIDGE\",\"DELRIDGE\",\"EAST\",\"EAST\",\"EAST\",\"EAST\",\"DOWNTOWN\",\"DOWNTOWN\",\"GREATER DUWAMISH\",\"SOUTHWEST\",\"EAST\",\"LAKE UNION\",\"MAGNOLIA / QUEEN ANNE\",\"MAGNOLIA / QUEEN ANNE\",\"MAGNOLIA / QUEEN ANNE\",\"MAGNOLIA / QUEEN ANNE\",\"MAGNOLIA / QUEEN ANNE\",\"MAGNOLIA / QUEEN ANNE\",\"MAGNOLIA / QUEEN ANNE\",\"MAGNOLIA / QUEEN ANNE\",\"MAGNOLIA / QUEEN ANNE\",\"MAGNOLIA / QUEEN ANNE\",\"MAGNOLIA / QUEEN ANNE\",\"MAGNOLIA / QUEEN ANNE\",\"MAGNOLIA / QUEEN ANNE\",\"MAGNOLIA / QUEEN ANNE\",\"MAGNOLIA / QUEEN ANNE\",\"MAGNOLIA / QUEEN ANNE\",\"MAGNOLIA / QUEEN ANNE\",\"MAGNOLIA / QUEEN ANNE\",\"MAGNOLIA / QUEEN ANNE\",\"MAGNOLIA / QUEEN ANNE\",\"GREATER DUWAMISH\",\"DOWNTOWN\",\"NORTH\",\"NORTH\",\"NORTH\",\"NORTH\",\"NORTH\",\"SOUTHWEST\",\"GREATER DUWAMISH\",\"MAGNOLIA / QUEEN ANNE\",\"SOUTHWEST\",\"NORTH\",\"MAGNOLIA / QUEEN ANNE\",\"EAST\",\"MAGNOLIA / QUEEN ANNE\",\"NORTHWEST\",\"SOUTHWEST\",\"EAST\",\"MAGNOLIA / QUEEN ANNE\",\"MAGNOLIA / QUEEN ANNE\",\"EAST\",\"EAST\",\"NORTH\",\"DOWNTOWN\",\"MAGNOLIA / QUEEN ANNE\",\"MAGNOLIA / QUEEN ANNE\",\"EAST\",\"EAST\",\"LAKE UNION\",\"DOWNTOWN\",\"DOWNTOWN\",\"MAGNOLIA / QUEEN ANNE\",\"MAGNOLIA / QUEEN ANNE\",\"MAGNOLIA / QUEEN ANNE\",\"MAGNOLIA / QUEEN ANNE\",\"MAGNOLIA / QUEEN ANNE\",\"MAGNOLIA / QUEEN ANNE\",\"MAGNOLIA / QUEEN ANNE\",\"MAGNOLIA / QUEEN ANNE\",\"MAGNOLIA / QUEEN ANNE\",\"DOWNTOWN\",\"MAGNOLIA / QUEEN ANNE\",\"MAGNOLIA / QUEEN ANNE\",\"MAGNOLIA / QUEEN ANNE\",\"MAGNOLIA / QUEEN ANNE\",\"MAGNOLIA / QUEEN ANNE\",\"NORTH\",\"NORTH\",\"NORTH\",\"NORTH\",\"NORTH\",\"NORTH\",\"MAGNOLIA / QUEEN ANNE\",\"MAGNOLIA / QUEEN ANNE\",\"NORTHEAST\",\"NORTHWEST\",\"SOUTHEAST\",\"SOUTHEAST\",\"EAST\",\"CENTRAL\",\"BALLARD\",\"LAKE UNION\",\"MAGNOLIA / QUEEN ANNE\",\"LAKE UNION\",\"MAGNOLIA / QUEEN ANNE\",\"DOWNTOWN\",\"LAKE UNION\",\"LAKE UNION\",\"LAKE UNION\",\"LAKE UNION\",\"DELRIDGE\",\"DELRIDGE\",\"DELRIDGE\",\"DELRIDGE\",\"DELRIDGE\",\"DELRIDGE\",\"DELRIDGE\",\"MAGNOLIA / QUEEN ANNE\",\"GREATER DUWAMISH\",\"SOUTHWEST\",\"SOUTHWEST\",\"SOUTHEAST\",\"SOUTHEAST\",\"SOUTHEAST\",\"BALLARD\",\"MAGNOLIA / QUEEN ANNE\",\"MAGNOLIA / QUEEN ANNE\",\"MAGNOLIA / QUEEN ANNE\",\"MAGNOLIA / QUEEN ANNE\",\"MAGNOLIA / QUEEN ANNE\",\"MAGNOLIA / QUEEN ANNE\",\"MAGNOLIA / QUEEN ANNE\",\"CENTRAL\",\"GREATER DUWAMISH\",\"EAST\",\"MAGNOLIA / QUEEN ANNE\",\"BALLARD\",\"SOUTHWEST\",\"LAKE UNION\",\"LAKE UNION\",\"LAKE UNION\",\"NORTH\",\"BALLARD\",\"EAST\",\"EAST\",\"EAST\",\"NORTH\",\"CENTRAL\",\"CENTRAL\",\"CENTRAL\",\"BALLARD\",\"MAGNOLIA / QUEEN ANNE\",\"BALLARD\",\"GREATER DUWAMISH\",\"GREATER DUWAMISH\",\"GREATER DUWAMISH\",\"DOWNTOWN\",\"DOWNTOWN\",\"DOWNTOWN\",\"GREATER DUWAMISH\",\"GREATER DUWAMISH\",\"CENTRAL\",\"GREATER DUWAMISH\",\"SOUTHWEST\",\"LAKE UNION\",\"SOUTHWEST\",\"BALLARD\",\"SOUTHWEST\",\"DOWNTOWN\",\"SOUTHEAST\",\"GREATER DUWAMISH\",\"CENTRAL\",\"CENTRAL\",\"CENTRAL\",\"NORTH\",\"CENTRAL\",\"CENTRAL\",\"DOWNTOWN\",\"CENTRAL\",\"CENTRAL\",\"GREATER DUWAMISH\",\"GREATER DUWAMISH\",\"GREATER DUWAMISH\",\"GREATER DUWAMISH\",\"NORTHEAST\",\"CENTRAL\",\"NORTHWEST\",\"EAST\",\"EAST\",\"CENTRAL\",\"GREATER DUWAMISH\",\"GREATER DUWAMISH\",\"NORTH\",\"GREATER DUWAMISH\",\"GREATER DUWAMISH\",\"GREATER DUWAMISH\",\"GREATER DUWAMISH\",\"GREATER DUWAMISH\",\"GREATER DUWAMISH\",\"GREATER DUWAMISH\",\"GREATER DUWAMISH\",\"GREATER DUWAMISH\",\"GREATER DUWAMISH\",\"GREATER DUWAMISH\",\"SOUTHEAST\",\"GREATER DUWAMISH\",\"SOUTHEAST\",\"GREATER DUWAMISH\",\"SOUTHEAST\",\"SOUTHEAST\",\"SOUTHEAST\",\"SOUTHEAST\",\"SOUTHEAST\",\"NORTHWEST\",\"NORTHWEST\",\"NORTH\",\"NORTHEAST\",\"NORTH\",\"NORTHEAST\",\"NORTHEAST\",\"NORTH\",\"GREATER DUWAMISH\",\"GREATER DUWAMISH\",\"GREATER DUWAMISH\",\"GREATER DUWAMISH\",\"GREATER DUWAMISH\",\"GREATER DUWAMISH\",\"GREATER DUWAMISH\",\"GREATER DUWAMISH\",\"GREATER DUWAMISH\",\"GREATER DUWAMISH\",\"GREATER DUWAMISH\",\"GREATER DUWAMISH\",\"GREATER DUWAMISH\",\"GREATER DUWAMISH\",\"GREATER DUWAMISH\",\"GREATER DUWAMISH\",\"GREATER DUWAMISH\",\"GREATER DUWAMISH\",\"GREATER DUWAMISH\",\"GREATER DUWAMISH\",\"GREATER DUWAMISH\",\"GREATER DUWAMISH\",\"MAGNOLIA / QUEEN ANNE\",\"SOUTHEAST\",\"NORTH\",\"EAST\",\"DELRIDGE\",\"DELRIDGE\",\"GREATER DUWAMISH\",\"DELRIDGE\",\"DELRIDGE\",\"DELRIDGE\",\"NORTHWEST\",\"NORTH\",\"NORTH\",\"NORTH\",\"NORTH\",\"NORTH\",\"NORTH\",\"NORTH\",\"NORTH\",\"EAST\",\"EAST\",\"GREATER DUWAMISH\",\"GREATER DUWAMISH\",\"GREATER DUWAMISH\",\"GREATER DUWAMISH\",\"GREATER DUWAMISH\",\"GREATER DUWAMISH\",\"GREATER DUWAMISH\",\"GREATER DUWAMISH\",\"DELRIDGE\",\"SOUTHWEST\",\"SOUTHWEST\",\"SOUTHWEST\",\"SOUTHWEST\",\"SOUTHEAST\",\"GREATER DUWAMISH\",\"GREATER DUWAMISH\",\"NORTHEAST\",\"NORTHEAST\",\"NORTH\",\"CENTRAL\",\"NORTHWEST\",\"EAST\",\"LAKE UNION\",\"LAKE UNION\",\"LAKE UNION\",\"BALLARD\",\"SOUTHWEST\",\"SOUTHWEST\",\"SOUTHWEST\",\"SOUTHWEST\",\"EAST\",\"LAKE UNION\",\"EAST\",\"GREATER DUWAMISH\",\"GREATER DUWAMISH\",\"GREATER DUWAMISH\",\"GREATER DUWAMISH\",\"GREATER DUWAMISH\",\"GREATER DUWAMISH\",\"GREATER DUWAMISH\",\"GREATER DUWAMISH\",\"CENTRAL\",\"CENTRAL\",\"SOUTHEAST\",\"SOUTHEAST\",\"SOUTHEAST\",\"SOUTHEAST\",\"SOUTHEAST\",\"NORTHWEST\",\"NORTH\",\"NORTH\",\"NORTH\",\"NORTHWEST\",\"NORTHWEST\",\"NORTHWEST\",\"EAST\",\"EAST\",\"EAST\",\"EAST\",\"EAST\",\"EAST\",\"EAST\",\"EAST\",\"EAST\",\"GREATER DUWAMISH\",\"GREATER DUWAMISH\",\"GREATER DUWAMISH\",\"GREATER DUWAMISH\",\"NORTHEAST\",\"NORTHEAST\",\"NORTHEAST\",\"NORTHEAST\",\"NORTHEAST\",\"NORTHEAST\",\"NORTHEAST\",\"NORTHEAST\",\"NORTHEAST\",\"DELRIDGE\",\"DELRIDGE\",\"DELRIDGE\",\"DELRIDGE\",\"NORTHWEST\",\"NORTH\",\"GREATER DUWAMISH\",\"MAGNOLIA / QUEEN ANNE\",\"GREATER DUWAMISH\",\"GREATER DUWAMISH\",\"GREATER DUWAMISH\",\"GREATER DUWAMISH\",\"GREATER DUWAMISH\",\"GREATER DUWAMISH\",\"GREATER DUWAMISH\",\"EAST\",\"BALLARD\",\"DOWNTOWN\",\"CENTRAL\",\"NORTHEAST\",\"NORTHEAST\",\"NORTHEAST\",\"GREATER DUWAMISH\",\"LAKE UNION\",\"LAKE UNION\",\"EAST\",\"GREATER DUWAMISH\",\"GREATER DUWAMISH\",\"GREATER DUWAMISH\",\"GREATER DUWAMISH\",\"GREATER DUWAMISH\",\"GREATER DUWAMISH\",\"GREATER DUWAMISH\",\"GREATER DUWAMISH\",\"GREATER DUWAMISH\",\"GREATER DUWAMISH\",\"DELRIDGE\",\"DELRIDGE\",\"DELRIDGE\",\"DELRIDGE\",\"SOUTHWEST\",\"CENTRAL\",\"SOUTHWEST\",\"NORTH\",\"NORTHWEST\",\"LAKE UNION\",\"LAKE UNION\",\"GREATER DUWAMISH\",\"GREATER DUWAMISH\",\"NORTHWEST\",\"DELRIDGE\",\"DELRIDGE\",\"DELRIDGE\",\"DELRIDGE\",\"DELRIDGE\",\"BALLARD\",\"DOWNTOWN\",\"NORTHWEST\",\"NORTHWEST\",\"EAST\",\"EAST\",\"EAST\",\"EAST\",\"EAST\",\"EAST\",\"EAST\",\"EAST\",\"EAST\",\"EAST\",\"EAST\",\"GREATER DUWAMISH\",\"GREATER DUWAMISH\",\"GREATER DUWAMISH\",\"GREATER DUWAMISH\",\"DOWNTOWN\",\"GREATER DUWAMISH\",\"GREATER DUWAMISH\",\"GREATER DUWAMISH\",\"SOUTHWEST\",\"CENTRAL\",\"CENTRAL\",\"EAST\",\"EAST\",\"CENTRAL\",\"CENTRAL\",\"CENTRAL\",\"CENTRAL\",\"NORTHWEST\",\"NORTH\",\"NORTH\",\"NORTH\",\"NORTH\",\"GREATER DUWAMISH\",\"GREATER DUWAMISH\",\"GREATER DUWAMISH\",\"EAST\",\"EAST\",\"EAST\",\"EAST\",\"GREATER DUWAMISH\",\"GREATER DUWAMISH\",\"GREATER DUWAMISH\",\"GREATER DUWAMISH\",\"SOUTHWEST\",\"NORTHEAST\",\"SOUTHEAST\",\"SOUTHEAST\",\"SOUTHEAST\",\"NORTHWEST\",\"DELRIDGE\",\"MAGNOLIA / QUEEN ANNE\",\"MAGNOLIA / QUEEN ANNE\",\"NORTHWEST\",\"MAGNOLIA / QUEEN ANNE\",\"EAST\",\"CENTRAL\",\"CENTRAL\",\"CENTRAL\",\"CENTRAL\",\"CENTRAL\",\"CENTRAL\",\"NORTHWEST\",\"NORTHEAST\",\"BALLARD\",\"BALLARD\",\"BALLARD\",\"BALLARD\",\"NORTH\",\"GREATER DUWAMISH\",\"GREATER DUWAMISH\",\"GREATER DUWAMISH\",\"GREATER DUWAMISH\",\"GREATER DUWAMISH\",\"LAKE UNION\",\"BALLARD\",\"EAST\",\"GREATER DUWAMISH\",\"DOWNTOWN\",\"DOWNTOWN\",\"NORTHEAST\",\"NORTHEAST\",\"CENTRAL\",\"CENTRAL\",\"GREATER DUWAMISH\",\"GREATER DUWAMISH\",\"GREATER DUWAMISH\",\"LAKE UNION\",\"GREATER DUWAMISH\",\"NORTHEAST\",\"NORTHEAST\",\"NORTHWEST\",\"DELRIDGE\",\"SOUTHWEST\",\"SOUTHWEST\",\"SOUTHWEST\",\"EAST\",\"EAST\",\"MAGNOLIA / QUEEN ANNE\",\"MAGNOLIA / QUEEN ANNE\",\"MAGNOLIA / QUEEN ANNE\",\"NORTHWEST\",\"NORTHWEST\",\"NORTHWEST\",\"NORTHWEST\",\"CENTRAL\",\"NORTH\",\"EAST\",\"MAGNOLIA / QUEEN ANNE\",\"NORTH\",\"NORTH\",\"DELRIDGE\",\"DOWNTOWN\",\"NORTHWEST\",\"NORTHWEST\",\"SOUTHEAST\",\"SOUTHEAST\",\"NORTHEAST\",\"GREATER DUWAMISH\",\"GREATER DUWAMISH\",\"SOUTHWEST\",\"EAST\",\"EAST\",\"EAST\",\"EAST\",\"EAST\",\"EAST\",\"EAST\",\"EAST\",\"EAST\",\"EAST\",\"EAST\",\"EAST\",\"EAST\",\"EAST\",\"EAST\",\"SOUTHWEST\",\"SOUTHWEST\",\"SOUTHWEST\",\"EAST\",\"DOWNTOWN\",\"SOUTHWEST\",\"SOUTHWEST\",\"SOUTHWEST\",\"NORTHWEST\",\"EAST\",\"EAST\",\"MAGNOLIA / QUEEN ANNE\",\"NORTHWEST\",\"MAGNOLIA / QUEEN ANNE\",\"MAGNOLIA / QUEEN ANNE\",\"NORTH\",\"NORTH\",\"NORTH\",\"NORTH\",\"GREATER DUWAMISH\",\"GREATER DUWAMISH\",\"GREATER DUWAMISH\",\"GREATER DUWAMISH\",\"LAKE UNION\",\"NORTH\",\"GREATER DUWAMISH\",\"NORTHWEST\",\"EAST\",\"EAST\",\"EAST\",\"EAST\",\"EAST\",\"EAST\",\"NORTHEAST\",\"MAGNOLIA / QUEEN ANNE\",\"LAKE UNION\",\"LAKE UNION\",\"EAST\",\"SOUTHWEST\",\"MAGNOLIA / QUEEN ANNE\",\"MAGNOLIA / QUEEN ANNE\",\"DOWNTOWN\",\"MAGNOLIA / QUEEN ANNE\",\"NORTHEAST\",\"NORTHEAST\",\"EAST\",\"GREATER DUWAMISH\",\"DOWNTOWN\",\"CENTRAL\",\"CENTRAL\",\"NORTHEAST\",\"DOWNTOWN\",\"DOWNTOWN\",\"EAST\",\"EAST\",\"LAKE UNION\",\"CENTRAL\",\"CENTRAL\",\"DOWNTOWN\",\"EAST\",\"NORTHWEST\",\"EAST\",\"NORTHEAST\",\"NORTHEAST\",\"DELRIDGE\",\"DELRIDGE\",\"MAGNOLIA / QUEEN ANNE\",\"EAST\",\"LAKE UNION\",\"LAKE UNION\",\"MAGNOLIA / QUEEN ANNE\",\"MAGNOLIA / QUEEN ANNE\",\"NORTHEAST\",\"NORTHEAST\",\"NORTHEAST\",\"NORTHEAST\",\"NORTHEAST\",\"NORTHEAST\",\"EAST\",\"CENTRAL\",\"EAST\",\"NORTHEAST\",\"NORTHWEST\",\"SOUTHWEST\",\"DOWNTOWN\",\"DOWNTOWN\",\"NORTHEAST\",\"SOUTHEAST\",\"SOUTHWEST\",\"MAGNOLIA / QUEEN ANNE\",\"DOWNTOWN\",\"DOWNTOWN\",\"DOWNTOWN\",\"DOWNTOWN\",\"DOWNTOWN\",\"DOWNTOWN\",\"DOWNTOWN\",\"DOWNTOWN\",\"MAGNOLIA / QUEEN ANNE\",\"LAKE UNION\",\"LAKE UNION\",\"NORTHEAST\",\"NORTHEAST\",\"NORTHEAST\",\"NORTHEAST\",\"NORTHEAST\",\"NORTHEAST\",\"NORTHEAST\",\"NORTHEAST\",\"NORTHEAST\",\"DOWNTOWN\",\"MAGNOLIA / QUEEN ANNE\",\"LAKE UNION\",\"EAST\",\"EAST\",\"MAGNOLIA / QUEEN ANNE\",\"NORTHEAST\",\"NORTHEAST\",\"NORTHEAST\",\"NORTHWEST\",\"NORTHWEST\",\"CENTRAL\",\"SOUTHWEST\",\"DOWNTOWN\",\"DOWNTOWN\",\"DOWNTOWN\",\"DOWNTOWN\",\"DOWNTOWN\",\"EAST\",\"EAST\",\"EAST\",\"EAST\",\"EAST\",\"EAST\",\"EAST\",\"EAST\",\"EAST\",\"NORTHEAST\",\"NORTHEAST\",\"NORTHEAST\",\"NORTHEAST\",\"DOWNTOWN\",\"DOWNTOWN\",\"DOWNTOWN\",\"DOWNTOWN\",\"DOWNTOWN\",\"EAST\",\"EAST\",\"EAST\",\"EAST\",\"EAST\",\"EAST\",\"EAST\",\"EAST\",\"EAST\",\"MAGNOLIA / QUEEN ANNE\",\"EAST\",\"EAST\",\"NORTHWEST\",\"DELRIDGE\",\"SOUTHWEST\",\"MAGNOLIA / QUEEN ANNE\",\"DELRIDGE\",\"SOUTHWEST\",\"SOUTHWEST\",\"EAST\",\"EAST\",\"EAST\",\"EAST\",\"DOWNTOWN\",\"DOWNTOWN\",\"GREATER DUWAMISH\",\"GREATER DUWAMISH\",\"GREATER DUWAMISH\",\"EAST\",\"EAST\",\"EAST\",\"EAST\",\"SOUTHWEST\",\"EAST\",\"SOUTHWEST\",\"CENTRAL\",\"SOUTHWEST\",\"MAGNOLIA / QUEEN ANNE\",\"MAGNOLIA / QUEEN ANNE\",\"DOWNTOWN\",\"NORTH\",\"SOUTHWEST\",\"DOWNTOWN\",\"SOUTHWEST\",\"SOUTHWEST\",\"SOUTHWEST\",\"DELRIDGE\",\"DELRIDGE\",\"MAGNOLIA / QUEEN ANNE\",\"MAGNOLIA / QUEEN ANNE\",\"EAST\",\"EAST\",\"EAST\",\"MAGNOLIA / QUEEN ANNE\",\"NORTHEAST\",\"BALLARD\",\"EAST\",\"CENTRAL\",\"EAST\",\"EAST\",\"EAST\",\"EAST\",\"EAST\",\"SOUTHWEST\",\"SOUTHWEST\",\"SOUTHWEST\",\"DOWNTOWN\",\"EAST\",\"MAGNOLIA / QUEEN ANNE\",\"MAGNOLIA / QUEEN ANNE\",\"MAGNOLIA / QUEEN ANNE\",\"SOUTHEAST\",\"EAST\",\"EAST\",\"EAST\",\"MAGNOLIA / QUEEN ANNE\",\"MAGNOLIA / QUEEN ANNE\",\"SOUTHWEST\",\"NORTHWEST\",\"MAGNOLIA / QUEEN ANNE\",\"SOUTHWEST\",\"DELRIDGE\",\"DELRIDGE\",\"DELRIDGE\",\"GREATER DUWAMISH\",\"EAST\",\"EAST\",\"EAST\",\"EAST\",\"EAST\",\"EAST\",\"EAST\",\"LAKE UNION\",\"NORTHWEST\",\"NORTHWEST\",\"NORTHWEST\",\"NORTHWEST\",\"NORTHWEST\",\"EAST\",\"EAST\",\"EAST\",\"EAST\",\"EAST\",\"EAST\",\"EAST\",\"EAST\",\"EAST\",\"EAST\",\"EAST\",\"MAGNOLIA / QUEEN ANNE\",\"LAKE UNION\",\"MAGNOLIA / QUEEN ANNE\",\"MAGNOLIA / QUEEN ANNE\",\"MAGNOLIA / QUEEN ANNE\",\"MAGNOLIA / QUEEN ANNE\",\"MAGNOLIA / QUEEN ANNE\",\"LAKE UNION\",\"SOUTHWEST\",\"NORTHWEST\",\"MAGNOLIA / QUEEN ANNE\",\"SOUTHEAST\",\"DOWNTOWN\",\"EAST\",\"MAGNOLIA / QUEEN ANNE\",\"MAGNOLIA / QUEEN ANNE\",\"NORTHEAST\",\"NORTHWEST\",\"NORTHEAST\",\"LAKE UNION\",\"LAKE UNION\",\"NORTH\",\"LAKE UNION\",\"EAST\",\"EAST\",\"EAST\",\"EAST\",\"EAST\",\"EAST\",\"LAKE UNION\",\"NORTHWEST\",\"MAGNOLIA / QUEEN ANNE\",\"MAGNOLIA / QUEEN ANNE\",\"GREATER DUWAMISH\",\"GREATER DUWAMISH\",\"GREATER DUWAMISH\",\"NORTH\",\"NORTH\",\"EAST\",\"NORTH\",\"EAST\",\"EAST\",\"EAST\",\"EAST\",\"EAST\",\"EAST\",\"EAST\",\"MAGNOLIA / QUEEN ANNE\",\"MAGNOLIA / QUEEN ANNE\",\"MAGNOLIA / QUEEN ANNE\",\"NORTHWEST\",\"NORTHWEST\",\"NORTHWEST\",\"GREATER DUWAMISH\",\"EAST\",\"NORTH\",\"NORTH\",\"LAKE UNION\",\"LAKE UNION\",\"LAKE UNION\",\"NORTHWEST\",\"BALLARD\",\"NORTHEAST\",\"NORTHWEST\",\"GREATER DUWAMISH\",\"EAST\",\"MAGNOLIA / QUEEN ANNE\",\"NORTHEAST\",\"NORTHEAST\",\"NORTHEAST\",\"NORTHEAST\",\"NORTHEAST\",\"NORTHEAST\",\"NORTHEAST\",\"NORTHEAST\",\"NORTHEAST\",\"NORTHEAST\",\"NORTHEAST\",\"NORTHWEST\",\"NORTHWEST\",\"NORTHWEST\",\"NORTHWEST\",\"LAKE UNION\",\"LAKE UNION\",\"LAKE UNION\",\"LAKE UNION\",\"MAGNOLIA / QUEEN ANNE\",\"MAGNOLIA / QUEEN ANNE\",\"MAGNOLIA / QUEEN ANNE\",\"MAGNOLIA / QUEEN ANNE\",\"NORTHEAST\",\"NORTHEAST\",\"NORTHEAST\",\"NORTHEAST\",\"NORTHEAST\",\"NORTHEAST\",\"NORTHEAST\",\"NORTHEAST\",\"NORTHEAST\",\"NORTHEAST\",\"NORTHWEST\",\"NORTHWEST\",\"NORTHWEST\",\"NORTHWEST\",\"NORTHWEST\",\"DOWNTOWN\",\"CENTRAL\",\"LAKE UNION\",\"DOWNTOWN\",\"DOWNTOWN\",\"DOWNTOWN\",\"DOWNTOWN\",\"DOWNTOWN\",\"DOWNTOWN\",\"DOWNTOWN\",\"DOWNTOWN\",\"MAGNOLIA / QUEEN ANNE\",\"DOWNTOWN\",\"SOUTHEAST\",\"SOUTHEAST\",\"CENTRAL\",\"NORTHEAST\",\"NORTHEAST\",\"NORTHEAST\",\"NORTHEAST\",\"NORTHEAST\",\"NORTHEAST\",\"NORTHEAST\",\"NORTHWEST\",\"NORTHWEST\",\"NORTHWEST\",\"NORTHWEST\",\"NORTHWEST\",\"DOWNTOWN\",\"DOWNTOWN\",\"DOWNTOWN\",\"DOWNTOWN\",\"DOWNTOWN\",\"DOWNTOWN\",\"DOWNTOWN\",\"DOWNTOWN\",\"DOWNTOWN\",\"DOWNTOWN\",\"DOWNTOWN\",\"DOWNTOWN\",\"DOWNTOWN\",\"DOWNTOWN\",\"DOWNTOWN\",\"DOWNTOWN\",\"DOWNTOWN\",\"CENTRAL\",\"CENTRAL\",\"NORTH\",\"EAST\",\"CENTRAL\",\"NORTH\",\"EAST\",\"EAST\",\"LAKE UNION\",\"MAGNOLIA / QUEEN ANNE\",\"EAST\",\"LAKE UNION\",\"DOWNTOWN\",\"LAKE UNION\",\"LAKE UNION\",\"NORTH\",\"NORTH\",\"NORTHWEST\",\"NORTHWEST\",\"NORTHWEST\",\"NORTHWEST\",\"CENTRAL\",\"DOWNTOWN\",\"DOWNTOWN\",\"DOWNTOWN\",\"DOWNTOWN\",\"DOWNTOWN\",\"DOWNTOWN\",\"DOWNTOWN\",\"DOWNTOWN\",\"DOWNTOWN\",\"DOWNTOWN\",\"DOWNTOWN\",\"DOWNTOWN\",\"DOWNTOWN\",\"DOWNTOWN\",\"DOWNTOWN\",\"DOWNTOWN\",\"DOWNTOWN\",\"DOWNTOWN\",\"BALLARD\",\"LAKE UNION\",\"LAKE UNION\",\"NORTHEAST\",\"NORTHEAST\",\"CENTRAL\",\"NORTHEAST\",\"NORTHEAST\",\"NORTHEAST\",\"NORTHEAST\",\"NORTHEAST\",\"NORTHEAST\",\"NORTHEAST\",\"NORTHEAST\",\"NORTHEAST\",\"NORTHEAST\",\"NORTHEAST\",\"EAST\",\"CENTRAL\",\"CENTRAL\",\"CENTRAL\",\"CENTRAL\",\"CENTRAL\",\"CENTRAL\",\"EAST\",\"BALLARD\",\"DOWNTOWN\",\"GREATER DUWAMISH\",\"GREATER DUWAMISH\",\"DOWNTOWN\",\"SOUTHWEST\",\"SOUTHWEST\",\"EAST\",\"EAST\",\"DOWNTOWN\",\"NORTHEAST\",\"NORTHEAST\",\"GREATER DUWAMISH\",\"GREATER DUWAMISH\",\"NORTHEAST\",\"NORTHEAST\",\"GREATER DUWAMISH\",\"DOWNTOWN\",\"SOUTHEAST\",\"DOWNTOWN\",\"LAKE UNION\",\"MAGNOLIA / QUEEN ANNE\",\"EAST\",\"MAGNOLIA / QUEEN ANNE\",\"SOUTHEAST\",\"SOUTHWEST\",\"SOUTHWEST\",\"EAST\",\"NORTHWEST\",\"LAKE UNION\",\"NORTH\",\"CENTRAL\",\"DOWNTOWN\",\"MAGNOLIA / QUEEN ANNE\",\"MAGNOLIA / QUEEN ANNE\",\"MAGNOLIA / QUEEN ANNE\",\"BALLARD\",\"SOUTHWEST\",\"GREATER DUWAMISH\",\"GREATER DUWAMISH\",\"GREATER DUWAMISH\",\"DOWNTOWN\",\"EAST\",\"CENTRAL\",\"DOWNTOWN\",\"CENTRAL\",\"EAST\",\"DOWNTOWN\",\"SOUTHWEST\",\"SOUTHEAST\",\"MAGNOLIA / QUEEN ANNE\",\"EAST\",\"EAST\",\"EAST\",\"EAST\",\"DOWNTOWN\",\"EAST\",\"NORTH\",\"NORTHWEST\",\"LAKE UNION\",\"NORTHWEST\",\"MAGNOLIA / QUEEN ANNE\",\"MAGNOLIA / QUEEN ANNE\",\"DOWNTOWN\",\"CENTRAL\",\"SOUTHWEST\",\"BALLARD\",\"EAST\",\"CENTRAL\",\"EAST\",\"EAST\",\"EAST\",\"SOUTHEAST\",\"NORTHEAST\",\"DOWNTOWN\",\"GREATER DUWAMISH\",\"NORTHWEST\",\"NORTHWEST\",\"NORTH\",\"LAKE UNION\",\"NORTH\",\"NORTH\",\"NORTH\",\"NORTH\",\"NORTH\",\"NORTH\",\"NORTH\",\"NORTH\",\"NORTH\",\"NORTH\",\"DOWNTOWN\",\"EAST\",\"NORTHEAST\",\"NORTH\",\"NORTHEAST\",\"LAKE UNION\",\"SOUTHWEST\",\"EAST\",\"SOUTHEAST\",\"EAST\",\"MAGNOLIA / QUEEN ANNE\",\"EAST\",\"BALLARD\",\"EAST\",\"NORTHEAST\",\"NORTHEAST\",\"MAGNOLIA / QUEEN ANNE\",\"MAGNOLIA / QUEEN ANNE\",\"MAGNOLIA / QUEEN ANNE\",\"CENTRAL\",\"EAST\",\"EAST\",\"EAST\",\"NORTHEAST\",\"NORTHEAST\",\"NORTHEAST\",\"MAGNOLIA / QUEEN ANNE\",\"NORTHWEST\",\"NORTHWEST\",\"LAKE UNION\",\"MAGNOLIA / QUEEN ANNE\",\"MAGNOLIA / QUEEN ANNE\",\"MAGNOLIA / QUEEN ANNE\",\"MAGNOLIA / QUEEN ANNE\",\"GREATER DUWAMISH\",\"GREATER DUWAMISH\",\"GREATER DUWAMISH\",\"GREATER DUWAMISH\",\"MAGNOLIA / QUEEN ANNE\",\"CENTRAL\",\"MAGNOLIA / QUEEN ANNE\",\"MAGNOLIA / QUEEN ANNE\",\"MAGNOLIA / QUEEN ANNE\",\"GREATER DUWAMISH\",\"GREATER DUWAMISH\",\"GREATER DUWAMISH\",\"GREATER DUWAMISH\",\"LAKE UNION\",\"MAGNOLIA / QUEEN ANNE\",\"NORTH\",\"MAGNOLIA / QUEEN ANNE\",\"MAGNOLIA / QUEEN ANNE\",\"EAST\",\"NORTHWEST\",\"NORTHWEST\",\"NORTHWEST\",\"NORTHWEST\",\"EAST\",\"EAST\",\"DOWNTOWN\",\"BALLARD\",\"NORTHWEST\",\"NORTHWEST\",\"NORTH\",\"DELRIDGE\",\"NORTHWEST\",\"NORTHWEST\",\"NORTHWEST\",\"MAGNOLIA / QUEEN ANNE\",\"EAST\",\"EAST\",\"EAST\",\"MAGNOLIA / QUEEN ANNE\",\"MAGNOLIA / QUEEN ANNE\",\"MAGNOLIA / QUEEN ANNE\",\"DOWNTOWN\",\"MAGNOLIA / QUEEN ANNE\",\"MAGNOLIA / QUEEN ANNE\",\"MAGNOLIA / QUEEN ANNE\",\"CENTRAL\",\"DOWNTOWN\",\"MAGNOLIA / QUEEN ANNE\",\"MAGNOLIA / QUEEN ANNE\",\"MAGNOLIA / QUEEN ANNE\",\"MAGNOLIA / QUEEN ANNE\",\"MAGNOLIA / QUEEN ANNE\",\"MAGNOLIA / QUEEN ANNE\",\"MAGNOLIA / QUEEN ANNE\",\"MAGNOLIA / QUEEN ANNE\",\"MAGNOLIA / QUEEN ANNE\",\"MAGNOLIA / QUEEN ANNE\",\"MAGNOLIA / QUEEN ANNE\",\"MAGNOLIA / QUEEN ANNE\",\"MAGNOLIA / QUEEN ANNE\",\"MAGNOLIA / QUEEN ANNE\",\"MAGNOLIA / QUEEN ANNE\",\"MAGNOLIA / QUEEN ANNE\",\"MAGNOLIA / QUEEN ANNE\",\"NORTH\",\"NORTH\",\"NORTH\",\"SOUTHWEST\",\"NORTHWEST\",\"MAGNOLIA / QUEEN ANNE\",\"MAGNOLIA / QUEEN ANNE\",\"LAKE UNION\",\"LAKE UNION\",\"LAKE UNION\",\"LAKE UNION\",\"NORTHWEST\",\"CENTRAL\",\"CENTRAL\",\"CENTRAL\",\"NORTH\",\"EAST\",\"EAST\",\"EAST\",\"EAST\",\"EAST\",\"EAST\",\"EAST\",\"CENTRAL\",\"CENTRAL\",\"CENTRAL\",\"CENTRAL\",\"CENTRAL\",\"EAST\",\"EAST\",\"EAST\",\"EAST\",\"EAST\",\"EAST\",\"NORTHEAST\",\"NORTHEAST\",\"NORTHEAST\",\"NORTHEAST\",\"NORTHEAST\",\"NORTHEAST\",\"NORTHEAST\",\"CENTRAL\",\"LAKE UNION\",\"DOWNTOWN\",\"CENTRAL\",\"CENTRAL\",\"EAST\",\"EAST\",\"EAST\",\"EAST\",\"NORTHWEST\",\"EAST\",\"MAGNOLIA / QUEEN ANNE\",\"CENTRAL\",\"EAST\",\"EAST\",\"EAST\",\"NORTH\",\"NORTH\",\"NORTH\",\"CENTRAL\",\"CENTRAL\",\"CENTRAL\",\"CENTRAL\",\"NORTHWEST\",\"NORTHWEST\",\"NORTHWEST\",\"SOUTHWEST\",\"SOUTHWEST\",\"SOUTHWEST\",\"SOUTHWEST\",\"MAGNOLIA / QUEEN ANNE\",\"NORTH\",\"EAST\",\"MAGNOLIA / QUEEN ANNE\",\"MAGNOLIA / QUEEN ANNE\",\"MAGNOLIA / QUEEN ANNE\",\"MAGNOLIA / QUEEN ANNE\",\"BALLARD\",\"GREATER DUWAMISH\",\"SOUTHWEST\",\"SOUTHWEST\",\"GREATER DUWAMISH\",\"GREATER DUWAMISH\",\"GREATER DUWAMISH\",\"SOUTHWEST\",\"NORTHWEST\",\"NORTHWEST\",\"NORTHWEST\",\"NORTHWEST\",\"NORTHWEST\",\"NORTHEAST\",\"EAST\",\"SOUTHEAST\",\"LAKE UNION\",\"BALLARD\",\"MAGNOLIA / QUEEN ANNE\",\"DOWNTOWN\",\"SOUTHEAST\",\"GREATER DUWAMISH\",\"NORTH\",\"NORTH\",\"NORTH\",\"EAST\",\"DOWNTOWN\",\"SOUTHEAST\",\"EAST\",\"GREATER DUWAMISH\",\"SOUTHEAST\",\"SOUTHEAST\",\"SOUTHEAST\",\"EAST\",\"DOWNTOWN\",\"DOWNTOWN\",\"DOWNTOWN\",\"NORTHEAST\",\"MAGNOLIA / QUEEN ANNE\",\"SOUTHWEST\",\"EAST\",\"EAST\",\"GREATER DUWAMISH\",\"LAKE UNION\",\"DOWNTOWN\",\"SOUTHWEST\",\"DOWNTOWN\",\"DOWNTOWN\",\"NORTHEAST\",\"DOWNTOWN\",\"NORTH\",\"CENTRAL\",\"EAST\",\"LAKE UNION\",\"MAGNOLIA / QUEEN ANNE\",\"DOWNTOWN\",\"SOUTHWEST\",\"EAST\",\"MAGNOLIA / QUEEN ANNE\",\"MAGNOLIA / QUEEN ANNE\",\"MAGNOLIA / QUEEN ANNE\",\"MAGNOLIA / QUEEN ANNE\",\"EAST\",\"NORTHWEST\",\"CENTRAL\",\"GREATER DUWAMISH\",\"GREATER DUWAMISH\",\"DELRIDGE\",\"EAST\",\"GREATER DUWAMISH\",\"NORTHEAST\",\"NORTHEAST\",\"NORTHEAST\",\"DOWNTOWN\",\"EAST\",\"MAGNOLIA / QUEEN ANNE\",\"GREATER DUWAMISH\",\"GREATER DUWAMISH\",\"NORTHWEST\",\"NORTHWEST\",\"MAGNOLIA / QUEEN ANNE\",\"NORTH\",\"MAGNOLIA / QUEEN ANNE\",\"EAST\",\"LAKE UNION\",\"SOUTHEAST\",\"NORTHEAST\",\"NORTH\",\"NORTHEAST\",\"NORTHEAST\",\"EAST\",\"DOWNTOWN\",\"CENTRAL\",\"NORTHEAST\",\"CENTRAL\",\"EAST\",\"EAST\",\"GREATER DUWAMISH\",\"CENTRAL\",\"MAGNOLIA / QUEEN ANNE\",\"NORTHWEST\",\"LAKE UNION\",\"DOWNTOWN\",\"CENTRAL\",\"SOUTHEAST\",\"MAGNOLIA / QUEEN ANNE\",\"BALLARD\",\"NORTHEAST\",\"EAST\",\"MAGNOLIA / QUEEN ANNE\",\"NORTHWEST\",\"EAST\",\"EAST\",\"NORTHEAST\",\"NORTHEAST\",\"SOUTHEAST\",\"GREATER DUWAMISH\",\"MAGNOLIA / QUEEN ANNE\",\"MAGNOLIA / QUEEN ANNE\",\"SOUTHWEST\",\"EAST\",\"DOWNTOWN\",\"MAGNOLIA / QUEEN ANNE\",\"MAGNOLIA / QUEEN ANNE\",\"NORTHEAST\",\"NORTHEAST\",\"DOWNTOWN\",\"LAKE UNION\",\"NORTHWEST\",\"DELRIDGE\",\"MAGNOLIA / QUEEN ANNE\",\"SOUTHWEST\",\"LAKE UNION\",\"EAST\",\"NORTHWEST\",\"MAGNOLIA / QUEEN ANNE\",\"SOUTHWEST\",\"DOWNTOWN\",\"MAGNOLIA / QUEEN ANNE\",\"NORTHEAST\",\"CENTRAL\",\"DOWNTOWN\",\"BALLARD\",\"LAKE UNION\",\"NORTHEAST\",\"DOWNTOWN\",\"BALLARD\",\"EAST\",\"DOWNTOWN\",\"EAST\",\"EAST\",\"EAST\",\"NORTHWEST\",\"MAGNOLIA / QUEEN ANNE\",\"DELRIDGE\",\"DOWNTOWN\",\"LAKE UNION\",\"BALLARD\",\"BALLARD\",\"NORTHWEST\",\"DOWNTOWN\",\"NORTHEAST\",\"CENTRAL\",\"MAGNOLIA / QUEEN ANNE\",\"SOUTHEAST\",\"CENTRAL\",\"EAST\",\"NORTHWEST\",\"LAKE UNION\",\"MAGNOLIA / QUEEN ANNE\",\"NORTHEAST\",\"CENTRAL\",\"GREATER DUWAMISH\",\"LAKE UNION\",\"LAKE UNION\",\"EAST\",\"MAGNOLIA / QUEEN ANNE\",\"GREATER DUWAMISH\",\"DOWNTOWN\",\"EAST\",\"NORTHWEST\",\"SOUTHWEST\",\"EAST\",\"NORTH\",\"NORTHEAST\",\"DOWNTOWN\",\"GREATER DUWAMISH\",\"BALLARD\",\"EAST\",\"GREATER DUWAMISH\",\"DELRIDGE\",\"SOUTHEAST\",\"GREATER DUWAMISH\",\"EAST\",\"DOWNTOWN\",\"MAGNOLIA / QUEEN ANNE\",\"EAST\",\"EAST\",\"EAST\",\"DOWNTOWN\",\"NORTHEAST\",\"EAST\",\"DOWNTOWN\",\"DOWNTOWN\",\"BALLARD\",\"BALLARD\",\"GREATER DUWAMISH\",\"EAST\",\"MAGNOLIA / QUEEN ANNE\",\"SOUTHEAST\",\"NORTHEAST\",\"NORTHEAST\",\"NORTHEAST\",\"NORTHEAST\",\"NORTHEAST\",\"NORTHEAST\",\"NORTHEAST\",\"LAKE UNION\",\"MAGNOLIA / QUEEN ANNE\",\"NORTHWEST\",\"EAST\",\"NORTH\",\"DOWNTOWN\",\"DOWNTOWN\",\"EAST\",\"MAGNOLIA / QUEEN ANNE\",\"SOUTHEAST\",\"LAKE UNION\",\"DOWNTOWN\",\"EAST\",\"NORTHEAST\",\"NORTHEAST\",\"NORTHEAST\",\"BALLARD\",\"EAST\",\"NORTHEAST\",\"EAST\",\"SOUTHEAST\",\"DOWNTOWN\",\"NORTHEAST\",\"BALLARD\",\"MAGNOLIA / QUEEN ANNE\",\"NORTHEAST\",\"MAGNOLIA / QUEEN ANNE\",\"EAST\",\"EAST\",\"LAKE UNION\",\"NORTH\",\"EAST\",\"EAST\",\"EAST\",\"GREATER DUWAMISH\",\"DOWNTOWN\",\"SOUTHEAST\",\"MAGNOLIA / QUEEN ANNE\",\"LAKE UNION\",\"DOWNTOWN\",\"LAKE UNION\",\"MAGNOLIA / QUEEN ANNE\",\"GREATER DUWAMISH\",\"SOUTHWEST\",\"LAKE UNION\",\"LAKE UNION\",\"BALLARD\",\"DOWNTOWN\",\"EAST\",\"LAKE UNION\",\"NORTHEAST\",\"EAST\",\"LAKE UNION\",\"DOWNTOWN\",\"NORTHEAST\",\"NORTHEAST\",\"DOWNTOWN\",\"LAKE UNION\",\"GREATER DUWAMISH\",\"BALLARD\",\"NORTHWEST\",\"MAGNOLIA / QUEEN ANNE\",\"NORTHEAST\",\"DOWNTOWN\",\"GREATER DUWAMISH\",\"NORTHEAST\",\"MAGNOLIA / QUEEN ANNE\",\"LAKE UNION\",\"CENTRAL\",\"NORTHEAST\",\"NORTHEAST\",\"EAST\",\"LAKE UNION\",\"SOUTHWEST\",\"CENTRAL\",\"NORTHEAST\",\"NORTH\",\"CENTRAL\",\"BALLARD\",\"NORTH\",\"BALLARD\",\"BALLARD\",\"MAGNOLIA / QUEEN ANNE\",\"EAST\",\"CENTRAL\",\"SOUTHEAST\",\"DELRIDGE\",\"GREATER DUWAMISH\",\"DOWNTOWN\",\"MAGNOLIA / QUEEN ANNE\",\"GREATER DUWAMISH\",\"GREATER DUWAMISH\"],\"xaxis\":\"x\",\"y\":[249.98,295.86,2089.28,286.43,505.01,301.81,176.14,221.51,392.16,151.12,691.26,740.97,328.23,648.62,511.39,181.38,433.86,802.89,273.02,349.32,1265.29,1699.45,38.53,90.01,388.04,9.13,256.57,328.63,128.44,270.18,10.43,157.77,215.0,3.93,16870.98,311.84,31.47,266.05,130.56,83.86,247.85,45.43,295.33,66.48,33.26,35.36,584.31,59.19,2451.58,134.38,227.18,144.79,199.95,162.39,152.76,146.34,171.64,87.98,1727.11,609.1,67.06,4.19,430.84,262.75,481.97,39.06,138.85,526.85,607.41,344.2,804.2,617.52,101.83,6.11,490.73,29.04,674.09,48.76,152.14,191.2,11.84,78.85,243.23,34.14,16.36,238.48,20.48,84.75,44.32,133.58,127.29,124.92,443.73,89.02,14.67,142.39,429.12,1990.5,10.55,176.75,46.26,228.4,170.84,74.33,866.23,222.02,204.08,359.09,56.82,41.74,94.64,61.21,100.46,104.26,129.39,222.78,422.39,54.07,2055.82,49.58,723.47,231.53,66.3,8145.52,83.7,123.71,51.11,362.82,242.36,206.01,69.44,328.97,229.38,297.43,35.78,369.14,272.85,73.47,170.9,59.34,46.36,48.99,80.08,309.6,225.69,3.0,338.16,49.12,175.77,21.29,208.26,168.88,28.27,892.63,96.43,27.39,1246.55,388.37,16.81,270.97,748.55,162.41,92.91,279.35,1638.46,4906.33,36.24,9.63,10734.57,193.94,207.79,145.31,72.88,469.57,49.09,84.57,149.93,225.19,71.86,43.98,69.42,16.0,201.05,57.21,254.87,433.6,50.52,59.63,23.8,226.06,101.41,661.04,1060.13,639.39,780.84,301.76,377.27,44.22,26.39,68.24,68.19,149.27,172.58,398.19,313.3,359.11,170.51,100.26,26.19,563.25,229.25,222.19,275.54,130.73,51.67,31.97,213.23,70.15,940.47,318.97,171.52,46.56,26.1,139.72,231.32,218.53,627.87,287.32,546.65,175.95,429.27,380.37,298.61,216.24,70.17,89.47,198.34,209.41,119.03,30.86,49.12,6.09,168.88,72.42,197.19,176.43,91.13,141.95,103.97,46.03,208.79,384.27,24.91,741.3,78.92,355.05,530.66,1084.79,337.97,2573.75,162.45,116.03,48.65,21.51,40.46,70.47,156.67,224.36,588.9,1510.85,530.18,193.72,36.61,148.11,131.4,65.2,51.14,1468.5,318.08,18.03,202.99,238.09,793.05,74.83,48.54,20.98,316.2,185.03,147.75,525.78,216.43,135.23,33.17,31.72,92.92,100.65,281.55,44.48,418.9,328.83,249.09,130.69,201.15,147.49,456.22,530.59,243.66,114.14,13.86,117.11,5.32,236.9,5.44,30.27,21.36,39.47,374.92,35.8,42.03,38.59,33.06,93.23,32.73,454.49,349.07,1268.87,20.86,326.18,40.47,269.71,849.83,22.57,61.93,29.53,632.4,94.64,3995.45,726.96,122.68,69.59,74.1,587.16,1019.53,23.81,25.32,24.35,24.29,477.87,77.99,163.83,22.44,1032.63,277.98,45.47,121.98,41.8,80.32,47.94,110.46,10.24,226.43,237.39,553.27,158.92,34.9,27.17,37.74,94.47,85.01,1623.34,53.57,17.17,32.22,120.24,8.15,413.35,3.25,25.58,33.18,53.25,2.8,237.36,59.21,42.65,76.68,10.72,3.62,46.93,28.63,6.32,38.48,204.81,152.71,32.02,74.31,142.36,414.43,272.54,54.92,190.61,38.55,90.24,49.17,85.28,262.45,247.35,33.85,42.25,63.89,35.8,129.29,293.55,46.49,44.35,22.1,57.73,58.88,49.28,33.22,34.0,58.67,611.19,295.48,91.1,1156.45,45.22,23.86,49.9,107.83,22.12,65.3,49.74,107.16,20.29,39.5,64.0,640.71,406.02,365.79,39.47,8.73,25.74,306.5,19.73,134.69,19.89,76.8,26.04,24.89,130.31,99.59,22.39,13.28,31.58,65.56,132.6,74.18,15.65,30.5,16.48,41.18,18.74,190.1,7.37,138.35,20.18,67.78,182.14,180.76,445.62,98.43,47.25,810.7,100.42,49.25,42.74,33.41,59.75,477.85,58.43,67.29,25.3,692.12,734.72,185.39,481.06,17.28,40.38,94.74,130.32,357.39,282.46,21.37,23.48,35.56,310.19,530.62,58.52,116.95,13.71,270.17,111.69,138.39,36.49,30.61,98.54,357.86,60.7,55.73,177.62,5.59,54.78,103.57,116.74,88.74,70.09,119.81,8.8,50.17,47.39,97.82,69.02,119.46,157.48,7.08,95.86,75.29,19.86,155.74,48.5,178.62,34.14,67.65,168.5,25.37,293.56,33.58,86.9,710.7,61.86,38.21,47.82,314.43,1154.79,68.06,65.03,260.13,119.93,147.82,246.83,346.62,1921.82,882.56,110.7,582.28,109.85,109.16,324.25,150.88,133.8,27.82,54.4,20.12,426.39,639.72,132.71,119.03,41.8,13.72,169.06,264.78,89.41,9.31,31.43,390.67,94.59,51.56,30.35,73.58,179.45,89.94,111.23,46.52,152.28,60.92,13.61,75.12,1.06,131.64,89.53,158.55,119.92,195.43,166.13,99.14,455.39,29.16,67.51,74.45,24.12,4.22,4.2,106.12,95.03,95.54,79.39,110.41,13.64,20.94,69.3,27.24,12307.16,406.04,20.85,133.5,54.18,14.49,453.76,341.23,278.97,7.56,284.01,295.12,9.99,109.71,259.49,13.07,189.85,134.82,16.27,267.0,13.51,49.29,128.73,5.03,8.14,25.6,4.85,343.68,12.15,6.02,65.25,4.75,31.74,89.08,95.26,62.17,60.18,30.52,11.29,24.39,276.63,17.87,101.5,3.91,36.02,63.86,44.01,38.9,16.11,13.23,43.84,4.74,53.21,3.18,6.72,25.6,4.58,70.76,19.01,21.69,122.83,86.46,3.58,77.04,2.41,2.57,4.16,43.2,416.07,4.43,21.93,62.46,16.01,22.65,37.78,9.77,9.47,130.28,50.55,113.91,106.77,30.41,6.74,28.47,66.44,6.1,18.6,145.35,29.04,29.33,29.71,50.46,69.57,80.47,71.06,29.84,169.75,7.77,16.58,132.47,17.02,5.71,3.99,4.43,2.7,83.59,63.48,4.29,7.02,51.58,207.6,29.62,141.2,374.56,18.5,9.82,42.19,63.36,138.03,6.43,52.25,54.59,25.24,19.83,3.54,24.02,31.76,7.13,3.95,43.8,154.4,9.58,32.51,6.87,13.1,54.53,4.52,3.88,5.81,11.7,11.6,6.22,39.57,9.81,4.8,15.27,82.9,6.33,49.58,38.97,18.1,11.68,154.17,29.54,7.1,79.21,25.21,14.22,93.87,9.95,6.16,24.25,15.24,13.87,8.68,14.63,28.81,40.28,47.84,60.43,33.78,16.63,154.89,2.92,66.29,151.36,369.68,25.41,174.99,23.27,6.75,47.32,12.95,41.69,126.78,594.48,1266.06,11.14,24.48,100.71,26.78,4.77,10.83,7.28,99.44,44.61,86.02,78.36,25.12,103.18,5.18,26.09,27.27,98.59,658.76,30.33,72.78,30.6,23.82,165.86,12.74,56.63,93.68,3.63,73.2,9.29,35.2,9.65,6.13,19.72,4.33,4.84,36.43,86.66,4.01,10.34,9.66,14.83,26.89,5.62,16.47,19.65,15.43,4.22,13.91,3.95,47.12,63.61,28.41,47.66,184.8,17.67,46.57,101.99,40.38,25.2,66.82,126.44,74.92,126.3,99.15,332.85,137.94,119.63,43.03,25.39,9.57,18.66,32.64,303.36,36.28,6.91,33.23,34.98,6.64,64.51,200.3,122.99,79.58,8.45,38.87,6.49,4.86,262.98,5.35,32.22,6.39,67.23,4.16,23.59,10.44,9.48,218.2,7.87,5.19,155.54,6.69,37.31,38.78,4.2,3.56,13.44,4.14,8.14,87.31,4.39,5.67,4.8,4.99,4.32,4.43,4.08,4.76,6.18,15.97,21.97,63.68,118.37,59.61,89.57,4.96,5.46,4.92,26.21,5.66,13.14,39.49,21.55,51.28,7.98,8.64,43.57,52.09,4.35,6.61,11.18,24.51,20.09,27.14,202.65,19.76,4.23,3.24,7.08,5.95,3.41,10.77,20.08,355.8,61.84,23.15,16.67,26.11,4.04,131.87,15.11,33.37,49.98,0.63,120.91,145.48,63.41,19.07,122.59,130.58,15.9,185.23,89.29,43.45,35.04,188.67,71.55,188.07,100.21,13.29,128.91,210.3,34.15,6.33,4.28,73.31,50.43,8.61,7.62,1.86,178.46,134.57,69.15,17.68,261.09,10.75,43.13,12.61,15.68,13.16,33.92,147.0,9.93,25.93,9.99,41.68,12.48,5.17,19.93,19.82,13.02,19.04,46.75,63.06,10.05,40.51,0.82,8.1,5.51,3.89,1.73,11.28,247.85,37.2,83.1,93.83,6.9,74.33,5.29,4.15,1.7,61.71,46.64,65.65,10.75,39.05,104.91,4.78,1.67,50.31,50.69,94.98,5.28,31.6,4.83,15.35,71.99,67.52,28.58,61.53,88.89,10.89,82.87,32.33,33.92,35.26,199.79,92.58,47.7,90.31,29.82,7.91,47.59,19.76,101.96,28.44,408.82,127.74,551.53,9.67,18.85,8.64,61.46,4.28,6.08,6.94,11.54,115.56,20.73,6.52,8.7,62.94,2.52,6.18,17.26,32.8,81.82,10.44,51.91,4.27,23.59,8.97,8.2,39.5,72.26,11.27,534.88,6.7,480.9,15.47,68.14,29.97,16.99,100.02,32.63,106.45,51.13,3.95,68.97,29.41,16.33,69.77,235.26,3.06,348.22,10.26,8.85,3.16,64.81,45.79,81.96,1.55,3.73,18.16,3.54,14.49,10.74,62.83,28.09,264.43,82.93,4.95,312.13,3.34,60.29,13.71,36.92,27.93,221.1,46.48,82.38,195.71,1216.05,149.91,94.85,148.55,188.58,60.88,110.17,25.53,9.0,42.04,8.47,25.02,30.32,66.53,9.46,73.52,18.34,27.47,82.34,5.41,44.71,16.06,7.49,23.85,38.12,11.29,16.13,19.39,8.49,30.02,28.6,336.73,32.99,66.19,12.49,4.76,127.1,234.6,49.58,40.22,20.78,15.9,122.73,10.36,32.86,12.35,515.85,10.12,176.79,13.01,36.74,173.94,45.33,59.06,61.98,180.38,65.02,79.58,17.12,8.8,8.89,12.77,12.59,4.12,12.19,104.61,72.37,31.24,13.89,10.75,23.74,23.78,40.76,26.38,247.97,55.71,20.76,20.9,48.35,9.3,73.61,38.85,32.47,101.34,94.02,159.98,74.64,46.6,14.04,479.7,71.23,21.66,79.81,12.72,106.73,709.11,69.54,8.54,85.55,107.45,6.07,462.4,60.04,55.61,123.41,295.38,8.53,170.83,37.34,1.12,31.61,34.87,16.57,73.0,82.72,35.77,487.53,32.09,73.48,184.09,161.15,20.64,255.83,24.62,192.12,523.95,41.06,13.97,77.8,234.03,3.77,86.51,13.33,47.68,3.94,241.75,60.59,119.34,44.33,8.77,77.48,1148.5,98.28,13.43,94.01,26.34,218.79,44.89,348.21,110.73,14.05,11.97,17.14,12.98,143.34,34.16,38.51,45.81,72.5,14.13,75.99,82.92,2.01,125.13,12.64,22.46,41.22,182.81,34.02,4.69,3.04,193.47,220.26,10.73,75.25,30.22,39.35,4.05,52.74,77.76,6.13,422.45,115.43,15.17,3.69,8.18,6.26,120.6,8.25,10.15,3.54,46.46,22.53,35.96,55.95,4.83,11.87,50.67,24.42,6.84,10.38,2.27,167.98,111.73,20.12,5.97,12.25,7.34,20.9,117.19,4.21,77.16,21.55,75.58,7.07,7.57,4.13,14.45,26.27,139.73,4.53,25.36,74.42,10.82,42.1,56.62,11.53,5.5,5.49,43.19,57.69,37.72,54.44,13.27,44.93,35.39,3.49,96.4,39.1,95.5,45.11,4.38,5.91,6.59,62.19,260.38,92.45,4.45,4.42,86.81,102.04,52.57,54.86,73.26,12.18,16.87,71.15,201.31,9.58,123.23,913.07,32.13,207.71,4.7,3.71,4.77,5.66,6.35,13.75,671.55,225.66,27.97,9.42,15.62,18.63,2.64,26.55,7.59,118.41,22.56,7.22,14.3,13.18,18.54,6.44,5.63,5.55,16.72,7.96,6.63,109.46,6.84,11.84,240.39,509.36,7.48,6.79,203.73,474.86,1.85,21.08,7.61,4.72,103.28,23.9,80.09,32.77,9.08,4.88,24.88,135.81,6.99,49.62,5.97,27.41,53.73,49.73,225.67,26.46,3.98,285.62,372.55,5.08,43.52,8.99,173.23,17.3,15.11,423.51,17.38,3.95,5.44,281.47,300.11,52.04,3243.48,34.0,64.88,0.81,61.19,186.65,12.37,4.39,175.27,44.61,192.63,27.27,6.12,11.84,215.56,173.75,64.54,57.03,55.3,25.09,46.9,50.0,6.46,7.33,60.34,208.53,4.86,7.07,384.85,45.38,38.86,78.22,5.24,102.73,5.53,6.85,6.33,71.87,279.21,43.6,38.52,6.18,4.84,6.61,13.14,163.74,3.65,14.22,5.06,28.3,8.3,10.08,9.29,9.25,21.32,12.15,4.2,15.22,6.89,21.24,6.37,4.3,36.77,29.24,13.29,31.79,4.46,11.79,237.54,3.13,8.42,14.9,34.26,1.55,9.03,37.49,7.55,3.87,46.44,5.87,59.84,0.68,0.4,9.36,3.72,102.3,4.58,14.81,11.08,5.94,5.07,6.3,10.93,3.08,5.46,1.68,7.82,175.3,303.81,21.69,34.52,16.67,17.39,6.06,60.67,19.7,3.63,14.83,30.49,8.42,6.18,309.14,44.26,8.46,33.28,30.49,5.45,128.66,5.33,29.66,45.6,18.11,30.13,17.08,67.45,8.97,12.24,42.87,28.28,25.12,6.52,4.08,5.02,6.05,5.58,5.01,5.75,19.23,121.9,30.34,375.56,8.44,36.09,31.04,4.18,2.34,17.12,82.57,101.76,9.51,15.88,66.93,17.24,4.26,26.31,3.01,4.46,44.28,4.92,63.45,13.25,33.42,0.86,80.19,135.11,9.06,8.16,3.85,42.96,3.85,52.41,39.57,55.85,32.58,184.6,11.39,3278.11,13.55,3.96,53.21,4.09,78.29,3.5,129.89,22.29,117.79,18.72,4.51,5.47,44.6,8.14,4.35,5.42,11.87,14.81,3238.24,3.04,96.15,122.71,305.05,2.54,6.31,5.8,2.19,43.63,12.09,19.12,11.24,50.55,12.2,5.03,4.6,8.1,7.09,67.24,8.1,76.67,4.52,5.2,6.08,12.15,44.4,109.55,32.35,60.94,86.86,5.03,3.95,2.93,326.74,2.28,7.74,53.61,3.77,4.56,179.55,23.6,2.25,349.55,78.42,128.54,567.6,85.78,97.4,48.08,235.32,114.33,5.81,184.0,9.79,5.79,132.1,259.77,56.7,12.97,8.33,712.39,1110.07,62.23,18.95,26.41,21.55,30.86,38.39,26.33,2.86,99.39,3.7,13.74,2.69,44.26,4.91,13.09,4.21,39.77,294.65,4.39,351.53,3.44,37.65,21.24,62.05,112.34,125.42,101.31,146.93,46.45,110.66,32.04,11.88,5.07,5.82,44.51,4.6,14.51,7.13,34.62,24.26,6.19,80.15,24.93,4.55,4.2,42.1,9.16,3.74,4.74,24.31,6.85,145.21,250.84,8.08,22.26,16.13,4.73,4.68,38.41,6.28,334.15,38.57,114.63,91.53,4.94,5.93,4.67,6.26,19.43,34.3,5.46,34.48,6.03,8.3,4.72,5.5,12.13,17.89,4.81,11.71,25.59,7.07,45.08,5.37,15.7,61.25,138.31,25.47,41.15,5.31,75.13,58.85,68.8,63.14,9.36,4.27,8.42,184.51,41.13,10.92,8.57,4.74,6.15,5.53,14.35,33.8,565.55,28.19,10.43,60.5,9.68,27.69,52.79,3.38,59.24,11.51,37.54,10.17,30.78,11.17,17.57,4.65,13.91,44.19,7.21,7.83,44.97,25.11,26.73,13.12,54.67,13.7,178.86,61.3,5.46,88.58,55.86,50.22,80.06,88.1,6.16,16.04,60.57,22.29,24.76,4.98,14.36,3.07,39.57,18.95,6.04,18.87,79.53,151.95,6.43,3.52,17.41,5.7,20.09,7.85,18.34,13.97,290.88,77.23,3.53,25.13,4.95,7.56,10.01,37.51,128.41,19.56,109.59,50.07,178.97,46.51,19.7,14.84,13.67,25.09,40.96,91.53,218.99,42.45,7.21,54.24,13.05,19.51,37.08,9.26,10.65,10.95,22.48,8.07,174.62,67.05,3.8,17.48,6.56,6.87,27.7,149.53,5.57,19.61,8.85,22.93,51.1,17.04,2.91,83.3,33.1,28.37,21.5,157.07,4.48,178.35,28.57,102.35,13.87,12.92,8.84,7.31,4.13,59.7,44.27,312.6,7.15,5.74,4.29,5.53,3.64,12.22,4.51,5.76,18.03,9.71,405.05,1.14,12.55,5.09,25.77,40.85,3.45,8.7,40.94,95.93,17.29,15.35,51.27,40.01,40.42,59.0,4.52,39.61,39.75,160.8,15.87,5.35,3.48,71.16,17.83,5.93,5.82,15.7,9.99,56.04,6.56,6.42,3.67,5.62,6.41,14.65,18.5,10.68,3.44,61.21,27.14,17.51,42.73,38.87,60.12,2.82,9.25,16.5,46.16,5.72,24.91,3.5,43.64,6.28,7.26,5.41,38.38,12.89,19.69,3.73,93.5,30.99,8.44,17.87,6.08,5.26,73.14,3.23,17.92,18.42,4.71,45.58,4.74,28.66,3.65,3.72,9.29,8.22,43.17,19.88,7.27,27.92,41.96,64.35,50.76,20.3,14.7,4.11,57.25,9.76,18.91,5.0,31.94,7.35,19.77,18.87,75.64,28.89,103.19,6.35,18.04,65.77,69.88,26.52,49.18,46.85,23.5,78.57,7.74,219.93,4.72,108.05,34.04,1.51,4.33,7.24,75.12,260.32,18.9,60.53,7.22,13.16,158.63,10.98,26.76,8.45,41.77,175.53,124.4,43.18,64.75,59.14,39.05,11.18,77.75,94.3,94.69,85.15,77.56,21.46,29.88,34.75,9.11,5.94,112.82,6.46,17.6,26.27,27.68,12.17,6.3,1.46,7.49,66.77,106.35,7.98,92.7,2.15,7.05,4.31,8.46,47.98,11.94,61.68,110.42,61.6,30.79,18.95,35.48,37.61,61.18,12.05,286.89,152.14,11.44,147.24,14.17,50.7,18.87,36.89,31.43,145.27,3.96,15.26,59.05,6.01,3.99,92.3,1.6,17.45,27.83,4.02,11.73,96.62,23.62,9.65,9.89,33.52,82.07,5.21,48.3,131.69,16.16,178.21,0.79,32.89,4.62,292.8,4.49,18.97,0.75,22.62,58.36,6.18,4.2,28.55,2.94,10.05,25.15,39.25,14.99,6.64,4.31,52.73,413.1,6.27,6.0,54.27,2.86,47.08,44.97,23.83,20.02,28.05,43.68,89.72,11.69,42.24,13.22,5.04,13.39,256.31,31.54,51.15,8.04,3.41,27.75,42.66,1.6,9.67,44.68,2.94,422.31,263.37,32.44,298.91,14.37,23.52,23.84,17.75,5.69,8.49,17.11,71.71,226.81,20.67,57.59,20.39,9.63,6.68,79.3,85.27,28.7,78.19,30.26,3.77,8.38,6.85,2.76,5.09,4.02,28.78,70.14,41.96,4.5,22.72,30.12,7.0,10.43,144.45,7.78,18.42,6.3,10.58,45.14,120.72,49.53,5.15,121.27,24.32,7.9,8.28,111.96,17.39,67.98,47.64,10.06,102.04,17.73,42.23,84.95,104.51,4.62,3.94,64.79,3.75,7.82,449.59,3.63,8.27,8.21,28.83,5.65,6.99,232.1,73.48,588.25,3768.66,65.56,4.15,14.64,10.65,17.22,125.59,1.24,36.82,5.86,7.11,61.86,3.9,23.9,94.85,7.28,18.65,36.15,27.93,6.02,37.18,5.42,22.81,7.1,7.03,3.92,66.1,269.03,3.27,120.24,24.63,10.9,29.44,283.04,28.64,21.44,4.55,40.05,106.37,281.25,9.92,18.58,3.11,55.83,14.86,7.47,6.02,8.89,5.67,5.54,66.05,7.54,21.57,18.07,97.27,515.71,116.94,101.21,10.99,7.86,5.88,3.43,198.59,28.83,64.04,13.09,110.02,34.62,7.08,5.78,128.22,66.32,117.64,3.4,33.5,11.85,122.0,14.35,42.52,46.53,223.36,57.11,18.76,7.05,50.05,3.25,22.09,20.66,4.2,3.65,6.74,12.27,4.01,6.42,4.63,4.95,105.87,70.31,23.15,9.24,38.58,3.41,61.18,2.74,6.53,15.9,7.56,136.94,75.07,8.61,34.08,124.59,13.69,63.81,69.53,25.53,2.88,9.29,17.79,2.35,20.76,18.19,100.49,2.9,7.36,35.4,6.52,85.88,190.45,59.08,29.21,25.14,7.71,25.44,229.55,4.44,19.04,49.7,183.79,120.1,5.66,10.29,65.05,48.62,4.43,11.77,2.67,11.26,58.82,6.54,14.21,64.46,5.57,70.29,99.42,7.24,37.17,65.89,8.61,26.56,17.41,56.96,10.37,96.28,23.68,220.86,18.2,47.26,19.31,4.02,15.34,45.33,9.73,3.54,10.31,4.19,4.67,5.4,10.55,11.99,95.38,10.32,393.07,9.7,16.47,22.94,120.86,37.28,16.89,62.51,861.85,69.18,792.6,4.74,59.86,4.24,3.88,4.5,393.29,51.26,63.23,3.78,88.0,22.38,28.04,54.02,89.49,3.82,49.79,4.31,42.93,3.63,11.54,6.53,3.81,18.81,58.79,18.73,29.22,60.08,5.45,5.74,6.45,48.16,35.36,5.0,4.09,55.06,8.82,6.41,91.69,5.43,28.07,27.71,80.06,121.63,17.31,4.76,59.18,105.99,96.15,32.02,10.01,10.04,9.49,55.63,3.91,34.03,4.15,47.18,68.89,38.59,717.93,52.0,7.56,51.24,56.18,8.53,6.9,8.48,84.01,35.99,25.11,160.79,117.47,4.79,43.9,25.37,4.6,20.5,90.53,58.52,58.24,7.23,22.33,39.65,46.01,111.34,144.3,59.76,90.17,48.95,12.57,4.13,166.43,119.99,37.84,72.86,6.38,5.68,9.65,203.21,5.63,4.32,60.2,13.95,70.92,4.78,19.15,16.07,5.02,3.71,4.24,26.54,1.59,41.88,51.62,20.88,53.87,23.22,11.02,38.21,87.41,49.59,5.08,4.36,23.42,46.67,15.11,6.61,5.51,320.96,94.22,48.13,69.2,226.73,4.52,16.76,95.77,58.79,3.98,4.67,4.13,4.02,27.47,5.16,7.67,156.18,60.47,8.09,7.16,865.48,14.37,231.75,7.46,80.47,38.97,33.26,43.21,3.29,6.14,9.72,4.76,3.82,18.62,43.91,185.33,7.07,108.79,19.81,46.14,13.08,5.11,37.43,53.88,3.97,47.03,4.29,3.92,4.52,29.39,28.46,6.7,14.79,3.78,60.93,7.69,26.94,35.72,105.97,393.2,66.69,7.52,10.92,399.73,96.59,60.32,6.84,173.67,94.23,11.18,13.65,6.57,5.77,12.85,37.51,7.87,299.38,85.22,4.43,12.06,86.5,22.89,151.91,6.76,15.25,20.96,12.46,3.18,72.69,6.24,30.22,4.17,93.44,32.42,20.78,9.2,48.91,53.25,161.39,4.55,5.87,47.02,70.4,5.94,145.97,10.04,141.88,6.73,26.48,22.63,7.31,11.42,47.78,14.82,63.34,34.61,3.28,4.24,63.21,42.71,4.45,7.53,3.44,65.95,53.65,48.45,6.96,81.24,249.46,104.74,55.23,32.81,5.07,19.68,96.2,56.25,9.23,6.64,8.38,136.07,404.21,91.49,58.59,78.36,11.09,39.4,83.76,29.7,27.06,60.83,229.2,41.65,30.45,29.56,358.57,19.84,5.36,43.28,63.87,19.28,14.1,4.64,8.12,8.93,29.93,12.98,50.57,2489.78,4.73,14.26,9.65,34.39,3.92,19.14,46.61,20.46,11.38,38.36,14.05,92.52,3.22,57.33,35.65,206.33,7.39,93.55,35.6,4.14,367.3,35.36,96.2,109.72,6.41,20.21,9.05,49.55,89.29,8.95,10.81,31.47,21.74,61.25,9.13,26.87,4.59,77.12,19.61,63.57,6.84,126.53,5.23,74.92,13.1,6.57,3.45,3.07,3.26,15.48,6.41,8.4,7.46,30.85,22.24,12.96,41.7,102.6,10.01,5.97,3.9,8.7,187.97,16.43,5.91,16.4,11.77,103.07,6.74,11.06,108.31,364.27,38.18,58.09,3.95,6.0,25.14,101.8,7.83,51.89,19.1,11.1,53.52,46.72,4.14,9.48,6.73,2.94,37.97,45.44,4.92,2.62,29.39,6.88,3.06,7.97,15.58,100.43,67.15,3.56,0.89,17.65,14.19,2.82,77.84,65.05,41.51,3.54,3.72,314.92,26.47,6.5,4.35,4.02,13.27,70.11,3.3,22.83,68.89,21.87,9.56,65.27,4.8,3.42,4.35,10.87,7.37,9.43,5.61,14.77,3.31,139.27,28.61,20.76,18.01,42.57,286.33,423.57,5.19,4.15,4.71,3.85,5.37,11.29,8.1,5.14,5.88,8.66,8.29,5.91,5.38,5.79,4.72,5.28,2.45,67.33,62.94,4.8,15.5,26.67,3.55,5.21,3.9,6.49,9.25,9.4,21.51,115.34,5.73,53.02,338.58,4.8,9.09,128.07,28.79,59.74,25.37,83.65,46.32,88.11,101.43,53.35,5.09,0.87,23.51,104.33,4.15,111.04,7.31,16.3,59.53,13.34,27.04,11.32,63.22,4.04,55.73,51.2,39.31,51.14,6.93,118.45,54.02,5.38,18.02,3.95,150.23,10.61,4.79,70.39,46.7,64.86,4.87,5.21,16.31,7.12,49.58,127.05,30.14,24.97,6.43,2.85,4.76,99.26,4.71,3.96,103.42,31.54,75.95,58.87,6.54,68.39,43.97,4.96,66.43,47.92,23.63,119.76,43.04,67.96,5.07,17.61,8.33,7.47,6.41,12.06,22.18,5.07,9.29,458.44,38.71,255.97,66.7,124.77,3.39,39.75,17.97,8.59,157.88,402.04,132.7,49.44,7.8,3.56,3.78,3.92,28.78,106.86,26.37,102.54,156.45,21.05,13.85,122.7,30.35,92.07,159.8,144.57,61.62,273.91,111.62,120.92,58.44,29.18,89.8,441.94,70.46,27.56,81.18,176.75,72.02,24.82,193.36,7.21,5.38,83.45,48.85,137.66,295.42,12.43,3.63,236.05,37.83,391.7,32.72,145.11,30.03,28.85,4.01,270.63,6.98,6.64,4.49,34.22,303.69,186.16,154.39,11.4,66.37,5.87,139.12,11.91,5.51,21.37,155.47,90.73,53.12,158.6,2549.47,47.14,537.03,30.78,94.63,376.57,163.19,9.46,35.43,15.5,265.21,100.59,549.11,95.26,4.64,619.9,170.98,65.19,175.46,191.97,39.88,38.17,80.27,12.56,38.92,1597.56,542.74,87.18,287.57,99.65,1789.69,123.15,6.93,8.65,73.39,144.41,325.94,76.5,54.04,122.35,16.82,352.77,147.84,24.54,57.59,9.95,290.57,68.98,1088.25,47.93,161.23,23.14,6.04,251.43,24.7,9.86,51.59,176.88,9.5,49.26,20.1,5.47,57.59,24.38,8.63,77.29,138.79,20.58,21.18,67.17,184.81,17.81,22.76,142.48,54.98,809.76,14.04,42.2,75.96,30.72,8.36,124.68,16.13,280.35,52.55,265.63,77.99,93.31,197.27,62.23,46.79,22.23,181.67,65.35,107.29,38.13,457.51,23.37,221.47,130.6,107.51,29.4,74.3,1280.81,68.04,7.49,6330.91,190.05,58.28,82.58,167.48,10.8,159.16,16.1,51.39,11140.56,25.93,103.65,199.48,437.2,48.53,62.41,213.7,43.06,28.94,18.9,4.32,691.57,175.44,42.81,17.77,9.91,59.33,184.15,127.53,9.76,17.8,34.11,9.71,123.99,33.09,64.39,30.41,622.23,40.99,172.46,49.89,12.18,27.71,22.5,4.81,115.73,163.02,65.01,9.0,8.11,134.8,86.99,238.78,214.19,63.87,50.32,147.14,4.38,91.98,205.45,202.12,74.88,165.61,8.7,40.25,245.16,31.46,14.83,71.96,395.26,5.46,6.74,50.23,131.02,157.7,51.26,12.21,124.18,86.25,103.37,9.24,205.52,31.55,28.08,75.62,54.76,467.9,15.07,1000.06,96.9,18.88,22.17,4.44,29.18,23.0,14.37,24.73,216.18,3.5,259.22,60.81,7.79,20.33,20.94,32.17,223.54,22.11,41.27],\"yaxis\":\"y\",\"type\":\"bar\"}],                        {\"template\":{\"data\":{\"histogram2dcontour\":[{\"type\":\"histogram2dcontour\",\"colorbar\":{\"outlinewidth\":0,\"ticks\":\"\"},\"colorscale\":[[0.0,\"#0d0887\"],[0.1111111111111111,\"#46039f\"],[0.2222222222222222,\"#7201a8\"],[0.3333333333333333,\"#9c179e\"],[0.4444444444444444,\"#bd3786\"],[0.5555555555555556,\"#d8576b\"],[0.6666666666666666,\"#ed7953\"],[0.7777777777777778,\"#fb9f3a\"],[0.8888888888888888,\"#fdca26\"],[1.0,\"#f0f921\"]]}],\"choropleth\":[{\"type\":\"choropleth\",\"colorbar\":{\"outlinewidth\":0,\"ticks\":\"\"}}],\"histogram2d\":[{\"type\":\"histogram2d\",\"colorbar\":{\"outlinewidth\":0,\"ticks\":\"\"},\"colorscale\":[[0.0,\"#0d0887\"],[0.1111111111111111,\"#46039f\"],[0.2222222222222222,\"#7201a8\"],[0.3333333333333333,\"#9c179e\"],[0.4444444444444444,\"#bd3786\"],[0.5555555555555556,\"#d8576b\"],[0.6666666666666666,\"#ed7953\"],[0.7777777777777778,\"#fb9f3a\"],[0.8888888888888888,\"#fdca26\"],[1.0,\"#f0f921\"]]}],\"heatmap\":[{\"type\":\"heatmap\",\"colorbar\":{\"outlinewidth\":0,\"ticks\":\"\"},\"colorscale\":[[0.0,\"#0d0887\"],[0.1111111111111111,\"#46039f\"],[0.2222222222222222,\"#7201a8\"],[0.3333333333333333,\"#9c179e\"],[0.4444444444444444,\"#bd3786\"],[0.5555555555555556,\"#d8576b\"],[0.6666666666666666,\"#ed7953\"],[0.7777777777777778,\"#fb9f3a\"],[0.8888888888888888,\"#fdca26\"],[1.0,\"#f0f921\"]]}],\"heatmapgl\":[{\"type\":\"heatmapgl\",\"colorbar\":{\"outlinewidth\":0,\"ticks\":\"\"},\"colorscale\":[[0.0,\"#0d0887\"],[0.1111111111111111,\"#46039f\"],[0.2222222222222222,\"#7201a8\"],[0.3333333333333333,\"#9c179e\"],[0.4444444444444444,\"#bd3786\"],[0.5555555555555556,\"#d8576b\"],[0.6666666666666666,\"#ed7953\"],[0.7777777777777778,\"#fb9f3a\"],[0.8888888888888888,\"#fdca26\"],[1.0,\"#f0f921\"]]}],\"contourcarpet\":[{\"type\":\"contourcarpet\",\"colorbar\":{\"outlinewidth\":0,\"ticks\":\"\"}}],\"contour\":[{\"type\":\"contour\",\"colorbar\":{\"outlinewidth\":0,\"ticks\":\"\"},\"colorscale\":[[0.0,\"#0d0887\"],[0.1111111111111111,\"#46039f\"],[0.2222222222222222,\"#7201a8\"],[0.3333333333333333,\"#9c179e\"],[0.4444444444444444,\"#bd3786\"],[0.5555555555555556,\"#d8576b\"],[0.6666666666666666,\"#ed7953\"],[0.7777777777777778,\"#fb9f3a\"],[0.8888888888888888,\"#fdca26\"],[1.0,\"#f0f921\"]]}],\"surface\":[{\"type\":\"surface\",\"colorbar\":{\"outlinewidth\":0,\"ticks\":\"\"},\"colorscale\":[[0.0,\"#0d0887\"],[0.1111111111111111,\"#46039f\"],[0.2222222222222222,\"#7201a8\"],[0.3333333333333333,\"#9c179e\"],[0.4444444444444444,\"#bd3786\"],[0.5555555555555556,\"#d8576b\"],[0.6666666666666666,\"#ed7953\"],[0.7777777777777778,\"#fb9f3a\"],[0.8888888888888888,\"#fdca26\"],[1.0,\"#f0f921\"]]}],\"mesh3d\":[{\"type\":\"mesh3d\",\"colorbar\":{\"outlinewidth\":0,\"ticks\":\"\"}}],\"scatter\":[{\"fillpattern\":{\"fillmode\":\"overlay\",\"size\":10,\"solidity\":0.2},\"type\":\"scatter\"}],\"parcoords\":[{\"type\":\"parcoords\",\"line\":{\"colorbar\":{\"outlinewidth\":0,\"ticks\":\"\"}}}],\"scatterpolargl\":[{\"type\":\"scatterpolargl\",\"marker\":{\"colorbar\":{\"outlinewidth\":0,\"ticks\":\"\"}}}],\"bar\":[{\"error_x\":{\"color\":\"#2a3f5f\"},\"error_y\":{\"color\":\"#2a3f5f\"},\"marker\":{\"line\":{\"color\":\"#E5ECF6\",\"width\":0.5},\"pattern\":{\"fillmode\":\"overlay\",\"size\":10,\"solidity\":0.2}},\"type\":\"bar\"}],\"scattergeo\":[{\"type\":\"scattergeo\",\"marker\":{\"colorbar\":{\"outlinewidth\":0,\"ticks\":\"\"}}}],\"scatterpolar\":[{\"type\":\"scatterpolar\",\"marker\":{\"colorbar\":{\"outlinewidth\":0,\"ticks\":\"\"}}}],\"histogram\":[{\"marker\":{\"pattern\":{\"fillmode\":\"overlay\",\"size\":10,\"solidity\":0.2}},\"type\":\"histogram\"}],\"scattergl\":[{\"type\":\"scattergl\",\"marker\":{\"colorbar\":{\"outlinewidth\":0,\"ticks\":\"\"}}}],\"scatter3d\":[{\"type\":\"scatter3d\",\"line\":{\"colorbar\":{\"outlinewidth\":0,\"ticks\":\"\"}},\"marker\":{\"colorbar\":{\"outlinewidth\":0,\"ticks\":\"\"}}}],\"scattermapbox\":[{\"type\":\"scattermapbox\",\"marker\":{\"colorbar\":{\"outlinewidth\":0,\"ticks\":\"\"}}}],\"scatterternary\":[{\"type\":\"scatterternary\",\"marker\":{\"colorbar\":{\"outlinewidth\":0,\"ticks\":\"\"}}}],\"scattercarpet\":[{\"type\":\"scattercarpet\",\"marker\":{\"colorbar\":{\"outlinewidth\":0,\"ticks\":\"\"}}}],\"carpet\":[{\"aaxis\":{\"endlinecolor\":\"#2a3f5f\",\"gridcolor\":\"white\",\"linecolor\":\"white\",\"minorgridcolor\":\"white\",\"startlinecolor\":\"#2a3f5f\"},\"baxis\":{\"endlinecolor\":\"#2a3f5f\",\"gridcolor\":\"white\",\"linecolor\":\"white\",\"minorgridcolor\":\"white\",\"startlinecolor\":\"#2a3f5f\"},\"type\":\"carpet\"}],\"table\":[{\"cells\":{\"fill\":{\"color\":\"#EBF0F8\"},\"line\":{\"color\":\"white\"}},\"header\":{\"fill\":{\"color\":\"#C8D4E3\"},\"line\":{\"color\":\"white\"}},\"type\":\"table\"}],\"barpolar\":[{\"marker\":{\"line\":{\"color\":\"#E5ECF6\",\"width\":0.5},\"pattern\":{\"fillmode\":\"overlay\",\"size\":10,\"solidity\":0.2}},\"type\":\"barpolar\"}],\"pie\":[{\"automargin\":true,\"type\":\"pie\"}]},\"layout\":{\"autotypenumbers\":\"strict\",\"colorway\":[\"#636efa\",\"#EF553B\",\"#00cc96\",\"#ab63fa\",\"#FFA15A\",\"#19d3f3\",\"#FF6692\",\"#B6E880\",\"#FF97FF\",\"#FECB52\"],\"font\":{\"color\":\"#2a3f5f\"},\"hovermode\":\"closest\",\"hoverlabel\":{\"align\":\"left\"},\"paper_bgcolor\":\"white\",\"plot_bgcolor\":\"#E5ECF6\",\"polar\":{\"bgcolor\":\"#E5ECF6\",\"angularaxis\":{\"gridcolor\":\"white\",\"linecolor\":\"white\",\"ticks\":\"\"},\"radialaxis\":{\"gridcolor\":\"white\",\"linecolor\":\"white\",\"ticks\":\"\"}},\"ternary\":{\"bgcolor\":\"#E5ECF6\",\"aaxis\":{\"gridcolor\":\"white\",\"linecolor\":\"white\",\"ticks\":\"\"},\"baxis\":{\"gridcolor\":\"white\",\"linecolor\":\"white\",\"ticks\":\"\"},\"caxis\":{\"gridcolor\":\"white\",\"linecolor\":\"white\",\"ticks\":\"\"}},\"coloraxis\":{\"colorbar\":{\"outlinewidth\":0,\"ticks\":\"\"}},\"colorscale\":{\"sequential\":[[0.0,\"#0d0887\"],[0.1111111111111111,\"#46039f\"],[0.2222222222222222,\"#7201a8\"],[0.3333333333333333,\"#9c179e\"],[0.4444444444444444,\"#bd3786\"],[0.5555555555555556,\"#d8576b\"],[0.6666666666666666,\"#ed7953\"],[0.7777777777777778,\"#fb9f3a\"],[0.8888888888888888,\"#fdca26\"],[1.0,\"#f0f921\"]],\"sequentialminus\":[[0.0,\"#0d0887\"],[0.1111111111111111,\"#46039f\"],[0.2222222222222222,\"#7201a8\"],[0.3333333333333333,\"#9c179e\"],[0.4444444444444444,\"#bd3786\"],[0.5555555555555556,\"#d8576b\"],[0.6666666666666666,\"#ed7953\"],[0.7777777777777778,\"#fb9f3a\"],[0.8888888888888888,\"#fdca26\"],[1.0,\"#f0f921\"]],\"diverging\":[[0,\"#8e0152\"],[0.1,\"#c51b7d\"],[0.2,\"#de77ae\"],[0.3,\"#f1b6da\"],[0.4,\"#fde0ef\"],[0.5,\"#f7f7f7\"],[0.6,\"#e6f5d0\"],[0.7,\"#b8e186\"],[0.8,\"#7fbc41\"],[0.9,\"#4d9221\"],[1,\"#276419\"]]},\"xaxis\":{\"gridcolor\":\"white\",\"linecolor\":\"white\",\"ticks\":\"\",\"title\":{\"standoff\":15},\"zerolinecolor\":\"white\",\"automargin\":true,\"zerolinewidth\":2},\"yaxis\":{\"gridcolor\":\"white\",\"linecolor\":\"white\",\"ticks\":\"\",\"title\":{\"standoff\":15},\"zerolinecolor\":\"white\",\"automargin\":true,\"zerolinewidth\":2},\"scene\":{\"xaxis\":{\"backgroundcolor\":\"#E5ECF6\",\"gridcolor\":\"white\",\"linecolor\":\"white\",\"showbackground\":true,\"ticks\":\"\",\"zerolinecolor\":\"white\",\"gridwidth\":2},\"yaxis\":{\"backgroundcolor\":\"#E5ECF6\",\"gridcolor\":\"white\",\"linecolor\":\"white\",\"showbackground\":true,\"ticks\":\"\",\"zerolinecolor\":\"white\",\"gridwidth\":2},\"zaxis\":{\"backgroundcolor\":\"#E5ECF6\",\"gridcolor\":\"white\",\"linecolor\":\"white\",\"showbackground\":true,\"ticks\":\"\",\"zerolinecolor\":\"white\",\"gridwidth\":2}},\"shapedefaults\":{\"line\":{\"color\":\"#2a3f5f\"}},\"annotationdefaults\":{\"arrowcolor\":\"#2a3f5f\",\"arrowhead\":0,\"arrowwidth\":1},\"geo\":{\"bgcolor\":\"white\",\"landcolor\":\"#E5ECF6\",\"subunitcolor\":\"white\",\"showland\":true,\"showlakes\":true,\"lakecolor\":\"white\"},\"title\":{\"x\":0.05},\"mapbox\":{\"style\":\"light\"}}},\"xaxis\":{\"anchor\":\"y\",\"domain\":[0.0,1.0],\"title\":{\"text\":\"neighborhood\"}},\"yaxis\":{\"anchor\":\"x\",\"domain\":[0.0,1.0],\"title\":{\"text\":\"totalghgemissions\"}},\"legend\":{\"tracegroupgap\":0},\"title\":{\"text\":\"Am\\u00e9nagement des espaces verts\"},\"barmode\":\"relative\"},                        {\"responsive\": true}                    ).then(function(){\n",
              "                            \n",
              "var gd = document.getElementById('a06e3233-8bda-4939-bf75-fc2af6a016c0');\n",
              "var x = new MutationObserver(function (mutations, observer) {{\n",
              "        var display = window.getComputedStyle(gd).display;\n",
              "        if (!display || display === 'none') {{\n",
              "            console.log([gd, 'removed!']);\n",
              "            Plotly.purge(gd);\n",
              "            observer.disconnect();\n",
              "        }}\n",
              "}});\n",
              "\n",
              "// Listen for the removal of the full notebook cells\n",
              "var notebookContainer = gd.closest('#notebook-container');\n",
              "if (notebookContainer) {{\n",
              "    x.observe(notebookContainer, {childList: true});\n",
              "}}\n",
              "\n",
              "// Listen for the clearing of the current output cell\n",
              "var outputEl = gd.closest('.output');\n",
              "if (outputEl) {{\n",
              "    x.observe(outputEl, {childList: true});\n",
              "}}\n",
              "\n",
              "                        })                };                            </script>        </div>\n",
              "</body>\n",
              "</html>"
            ]
          },
          "metadata": {}
        },
        {
          "output_type": "display_data",
          "data": {
            "text/plain": [
              "<IPython.core.display.Javascript object>"
            ],
            "application/javascript": [
              "\n",
              "    async function download(id, filename, size) {\n",
              "      if (!google.colab.kernel.accessAllowed) {\n",
              "        return;\n",
              "      }\n",
              "      const div = document.createElement('div');\n",
              "      const label = document.createElement('label');\n",
              "      label.textContent = `Downloading \"${filename}\": `;\n",
              "      div.appendChild(label);\n",
              "      const progress = document.createElement('progress');\n",
              "      progress.max = size;\n",
              "      div.appendChild(progress);\n",
              "      document.body.appendChild(div);\n",
              "\n",
              "      const buffers = [];\n",
              "      let downloaded = 0;\n",
              "\n",
              "      const channel = await google.colab.kernel.comms.open(id);\n",
              "      // Send a message to notify the kernel that we're ready.\n",
              "      channel.send({})\n",
              "\n",
              "      for await (const message of channel.messages) {\n",
              "        // Send a message to notify the kernel that we're ready.\n",
              "        channel.send({})\n",
              "        if (message.buffers) {\n",
              "          for (const buffer of message.buffers) {\n",
              "            buffers.push(buffer);\n",
              "            downloaded += buffer.byteLength;\n",
              "            progress.value = downloaded;\n",
              "          }\n",
              "        }\n",
              "      }\n",
              "      const blob = new Blob(buffers, {type: 'application/binary'});\n",
              "      const a = document.createElement('a');\n",
              "      a.href = window.URL.createObjectURL(blob);\n",
              "      a.download = filename;\n",
              "      div.appendChild(a);\n",
              "      a.click();\n",
              "      div.remove();\n",
              "    }\n",
              "  "
            ]
          },
          "metadata": {}
        },
        {
          "output_type": "display_data",
          "data": {
            "text/plain": [
              "<IPython.core.display.Javascript object>"
            ],
            "application/javascript": [
              "download(\"download_11c05960-4d33-4857-9223-8c74b6cee84a\", \"neighborhood.html\", 3646881)"
            ]
          },
          "metadata": {}
        }
      ]
    },
    {
      "cell_type": "markdown",
      "source": [
        "En supplément du centre-ville, il serait souhaitable de privilégier la partie est de la ville (Northeast+East)."
      ],
      "metadata": {
        "id": "uiF-ynasymhM"
      }
    },
    {
      "cell_type": "code",
      "source": [
        "fig = px.scatter(df, x='age', y='totalghgemissions', size='totalghgemissions', color_discrete_sequence=['red'], title=\"Adaptation des politiques de réhabilitation des immeubles\")\n",
        "fig.show()\n",
        "fig.write_html('age.html')\n",
        "files.download('age.html')"
      ],
      "metadata": {
        "colab": {
          "base_uri": "https://localhost:8080/",
          "height": 542
        },
        "id": "3DTAjp1Y9QWc",
        "outputId": "45a13c26-5a38-4a80-b463-f01098676de7"
      },
      "execution_count": 183,
      "outputs": [
        {
          "output_type": "display_data",
          "data": {
            "text/html": [
              "<html>\n",
              "<head><meta charset=\"utf-8\" /></head>\n",
              "<body>\n",
              "    <div>            <script src=\"https://cdnjs.cloudflare.com/ajax/libs/mathjax/2.7.5/MathJax.js?config=TeX-AMS-MML_SVG\"></script><script type=\"text/javascript\">if (window.MathJax && window.MathJax.Hub && window.MathJax.Hub.Config) {window.MathJax.Hub.Config({SVG: {font: \"STIX-Web\"}});}</script>                <script type=\"text/javascript\">window.PlotlyConfig = {MathJaxConfig: 'local'};</script>\n",
              "        <script src=\"https://cdn.plot.ly/plotly-2.18.2.min.js\"></script>                <div id=\"d70bdcd4-944c-47bb-854a-c7e8b734f951\" class=\"plotly-graph-div\" style=\"height:525px; width:100%;\"></div>            <script type=\"text/javascript\">                                    window.PLOTLYENV=window.PLOTLYENV || {};                                    if (document.getElementById(\"d70bdcd4-944c-47bb-854a-c7e8b734f951\")) {                    Plotly.newPlot(                        \"d70bdcd4-944c-47bb-854a-c7e8b734f951\",                        [{\"hovertemplate\":\"age=%{x}<br>totalghgemissions=%{marker.size}<extra></extra>\",\"legendgroup\":\"\",\"marker\":{\"color\":\"red\",\"size\":[249.98,295.86,2089.28,286.43,505.01,301.81,176.14,221.51,392.16,151.12,691.26,740.97,328.23,648.62,511.39,181.38,433.86,802.89,273.02,349.32,1265.29,1699.45,38.53,90.01,388.04,9.13,256.57,328.63,128.44,270.18,10.43,157.77,215.0,3.93,16870.98,311.84,31.47,266.05,130.56,83.86,247.85,45.43,295.33,66.48,33.26,35.36,584.31,59.19,2451.58,134.38,227.18,144.79,199.95,162.39,152.76,146.34,171.64,87.98,1727.11,609.1,67.06,4.19,430.84,262.75,481.97,39.06,138.85,526.85,607.41,344.2,804.2,617.52,101.83,6.11,490.73,29.04,674.09,48.76,152.14,191.2,11.84,78.85,243.23,34.14,16.36,238.48,20.48,84.75,44.32,133.58,127.29,124.92,443.73,89.02,14.67,142.39,429.12,1990.5,10.55,176.75,46.26,228.4,170.84,74.33,866.23,222.02,204.08,359.09,56.82,41.74,94.64,61.21,100.46,104.26,129.39,222.78,422.39,54.07,2055.82,49.58,723.47,231.53,66.3,8145.52,83.7,123.71,51.11,362.82,242.36,206.01,69.44,328.97,229.38,297.43,35.78,369.14,272.85,73.47,170.9,59.34,46.36,48.99,80.08,309.6,225.69,3.0,338.16,49.12,175.77,21.29,208.26,168.88,28.27,892.63,96.43,27.39,1246.55,388.37,16.81,270.97,748.55,162.41,92.91,279.35,1638.46,4906.33,36.24,9.63,10734.57,193.94,207.79,145.31,72.88,469.57,49.09,84.57,149.93,225.19,71.86,43.98,69.42,16.0,201.05,57.21,254.87,433.6,50.52,59.63,23.8,226.06,101.41,661.04,1060.13,639.39,780.84,301.76,377.27,44.22,26.39,68.24,68.19,149.27,172.58,398.19,313.3,359.11,170.51,100.26,26.19,563.25,229.25,222.19,275.54,130.73,51.67,31.97,213.23,70.15,940.47,318.97,171.52,46.56,26.1,139.72,231.32,218.53,627.87,287.32,546.65,175.95,429.27,380.37,298.61,216.24,70.17,89.47,198.34,209.41,119.03,30.86,49.12,6.09,168.88,72.42,197.19,176.43,91.13,141.95,103.97,46.03,208.79,384.27,24.91,741.3,78.92,355.05,530.66,1084.79,337.97,2573.75,162.45,116.03,48.65,21.51,40.46,70.47,156.67,224.36,588.9,1510.85,530.18,193.72,36.61,148.11,131.4,65.2,51.14,1468.5,318.08,18.03,202.99,238.09,793.05,74.83,48.54,20.98,316.2,185.03,147.75,525.78,216.43,135.23,33.17,31.72,92.92,100.65,281.55,44.48,418.9,328.83,249.09,130.69,201.15,147.49,456.22,530.59,243.66,114.14,13.86,117.11,5.32,236.9,5.44,30.27,21.36,39.47,374.92,35.8,42.03,38.59,33.06,93.23,32.73,454.49,349.07,1268.87,20.86,326.18,40.47,269.71,849.83,22.57,61.93,29.53,632.4,94.64,3995.45,726.96,122.68,69.59,74.1,587.16,1019.53,23.81,25.32,24.35,24.29,477.87,77.99,163.83,22.44,1032.63,277.98,45.47,121.98,41.8,80.32,47.94,110.46,10.24,226.43,237.39,553.27,158.92,34.9,27.17,37.74,94.47,85.01,1623.34,53.57,17.17,32.22,120.24,8.15,413.35,3.25,25.58,33.18,53.25,2.8,237.36,59.21,42.65,76.68,10.72,3.62,46.93,28.63,6.32,38.48,204.81,152.71,32.02,74.31,142.36,414.43,272.54,54.92,190.61,38.55,90.24,49.17,85.28,262.45,247.35,33.85,42.25,63.89,35.8,129.29,293.55,46.49,44.35,22.1,57.73,58.88,49.28,33.22,34.0,58.67,611.19,295.48,91.1,1156.45,45.22,23.86,49.9,107.83,22.12,65.3,49.74,107.16,20.29,39.5,64.0,640.71,406.02,365.79,39.47,8.73,25.74,306.5,19.73,134.69,19.89,76.8,26.04,24.89,130.31,99.59,22.39,13.28,31.58,65.56,132.6,74.18,15.65,30.5,16.48,41.18,18.74,190.1,7.37,138.35,20.18,67.78,182.14,180.76,445.62,98.43,47.25,810.7,100.42,49.25,42.74,33.41,59.75,477.85,58.43,67.29,25.3,692.12,734.72,185.39,481.06,17.28,40.38,94.74,130.32,357.39,282.46,21.37,23.48,35.56,310.19,530.62,58.52,116.95,13.71,270.17,111.69,138.39,36.49,30.61,98.54,357.86,60.7,55.73,177.62,5.59,54.78,103.57,116.74,88.74,70.09,119.81,8.8,50.17,47.39,97.82,69.02,119.46,157.48,7.08,95.86,75.29,19.86,155.74,48.5,178.62,34.14,67.65,168.5,25.37,293.56,33.58,86.9,710.7,61.86,38.21,47.82,314.43,1154.79,68.06,65.03,260.13,119.93,147.82,246.83,346.62,1921.82,882.56,110.7,582.28,109.85,109.16,324.25,150.88,133.8,27.82,54.4,20.12,426.39,639.72,132.71,119.03,41.8,13.72,169.06,264.78,89.41,9.31,31.43,390.67,94.59,51.56,30.35,73.58,179.45,89.94,111.23,46.52,152.28,60.92,13.61,75.12,1.06,131.64,89.53,158.55,119.92,195.43,166.13,99.14,455.39,29.16,67.51,74.45,24.12,4.22,4.2,106.12,95.03,95.54,79.39,110.41,13.64,20.94,69.3,27.24,12307.16,406.04,20.85,133.5,54.18,14.49,453.76,341.23,278.97,7.56,284.01,295.12,9.99,109.71,259.49,13.07,189.85,134.82,16.27,267.0,13.51,49.29,128.73,5.03,8.14,25.6,4.85,343.68,12.15,6.02,65.25,4.75,31.74,89.08,95.26,62.17,60.18,30.52,11.29,24.39,276.63,17.87,101.5,3.91,36.02,63.86,44.01,38.9,16.11,13.23,43.84,4.74,53.21,3.18,6.72,25.6,4.58,70.76,19.01,21.69,122.83,86.46,3.58,77.04,2.41,2.57,4.16,43.2,416.07,4.43,21.93,62.46,16.01,22.65,37.78,9.77,9.47,130.28,50.55,113.91,106.77,30.41,6.74,28.47,66.44,6.1,18.6,145.35,29.04,29.33,29.71,50.46,69.57,80.47,71.06,29.84,169.75,7.77,16.58,132.47,17.02,5.71,3.99,4.43,2.7,83.59,63.48,4.29,7.02,51.58,207.6,29.62,141.2,374.56,18.5,9.82,42.19,63.36,138.03,6.43,52.25,54.59,25.24,19.83,3.54,24.02,31.76,7.13,3.95,43.8,154.4,9.58,32.51,6.87,13.1,54.53,4.52,3.88,5.81,11.7,11.6,6.22,39.57,9.81,4.8,15.27,82.9,6.33,49.58,38.97,18.1,11.68,154.17,29.54,7.1,79.21,25.21,14.22,93.87,9.95,6.16,24.25,15.24,13.87,8.68,14.63,28.81,40.28,47.84,60.43,33.78,16.63,154.89,2.92,66.29,151.36,369.68,25.41,174.99,23.27,6.75,47.32,12.95,41.69,126.78,594.48,1266.06,11.14,24.48,100.71,26.78,4.77,10.83,7.28,99.44,44.61,86.02,78.36,25.12,103.18,5.18,26.09,27.27,98.59,658.76,30.33,72.78,30.6,23.82,165.86,12.74,56.63,93.68,3.63,73.2,9.29,35.2,9.65,6.13,19.72,4.33,4.84,36.43,86.66,4.01,10.34,9.66,14.83,26.89,5.62,16.47,19.65,15.43,4.22,13.91,3.95,47.12,63.61,28.41,47.66,184.8,17.67,46.57,101.99,40.38,25.2,66.82,126.44,74.92,126.3,99.15,332.85,137.94,119.63,43.03,25.39,9.57,18.66,32.64,303.36,36.28,6.91,33.23,34.98,6.64,64.51,200.3,122.99,79.58,8.45,38.87,6.49,4.86,262.98,5.35,32.22,6.39,67.23,4.16,23.59,10.44,9.48,218.2,7.87,5.19,155.54,6.69,37.31,38.78,4.2,3.56,13.44,4.14,8.14,87.31,4.39,5.67,4.8,4.99,4.32,4.43,4.08,4.76,6.18,15.97,21.97,63.68,118.37,59.61,89.57,4.96,5.46,4.92,26.21,5.66,13.14,39.49,21.55,51.28,7.98,8.64,43.57,52.09,4.35,6.61,11.18,24.51,20.09,27.14,202.65,19.76,4.23,3.24,7.08,5.95,3.41,10.77,20.08,355.8,61.84,23.15,16.67,26.11,4.04,131.87,15.11,33.37,49.98,0.63,120.91,145.48,63.41,19.07,122.59,130.58,15.9,185.23,89.29,43.45,35.04,188.67,71.55,188.07,100.21,13.29,128.91,210.3,34.15,6.33,4.28,73.31,50.43,8.61,7.62,1.86,178.46,134.57,69.15,17.68,261.09,10.75,43.13,12.61,15.68,13.16,33.92,147.0,9.93,25.93,9.99,41.68,12.48,5.17,19.93,19.82,13.02,19.04,46.75,63.06,10.05,40.51,0.82,8.1,5.51,3.89,1.73,11.28,247.85,37.2,83.1,93.83,6.9,74.33,5.29,4.15,1.7,61.71,46.64,65.65,10.75,39.05,104.91,4.78,1.67,50.31,50.69,94.98,5.28,31.6,4.83,15.35,71.99,67.52,28.58,61.53,88.89,10.89,82.87,32.33,33.92,35.26,199.79,92.58,47.7,90.31,29.82,7.91,47.59,19.76,101.96,28.44,408.82,127.74,551.53,9.67,18.85,8.64,61.46,4.28,6.08,6.94,11.54,115.56,20.73,6.52,8.7,62.94,2.52,6.18,17.26,32.8,81.82,10.44,51.91,4.27,23.59,8.97,8.2,39.5,72.26,11.27,534.88,6.7,480.9,15.47,68.14,29.97,16.99,100.02,32.63,106.45,51.13,3.95,68.97,29.41,16.33,69.77,235.26,3.06,348.22,10.26,8.85,3.16,64.81,45.79,81.96,1.55,3.73,18.16,3.54,14.49,10.74,62.83,28.09,264.43,82.93,4.95,312.13,3.34,60.29,13.71,36.92,27.93,221.1,46.48,82.38,195.71,1216.05,149.91,94.85,148.55,188.58,60.88,110.17,25.53,9.0,42.04,8.47,25.02,30.32,66.53,9.46,73.52,18.34,27.47,82.34,5.41,44.71,16.06,7.49,23.85,38.12,11.29,16.13,19.39,8.49,30.02,28.6,336.73,32.99,66.19,12.49,4.76,127.1,234.6,49.58,40.22,20.78,15.9,122.73,10.36,32.86,12.35,515.85,10.12,176.79,13.01,36.74,173.94,45.33,59.06,61.98,180.38,65.02,79.58,17.12,8.8,8.89,12.77,12.59,4.12,12.19,104.61,72.37,31.24,13.89,10.75,23.74,23.78,40.76,26.38,247.97,55.71,20.76,20.9,48.35,9.3,73.61,38.85,32.47,101.34,94.02,159.98,74.64,46.6,14.04,479.7,71.23,21.66,79.81,12.72,106.73,709.11,69.54,8.54,85.55,107.45,6.07,462.4,60.04,55.61,123.41,295.38,8.53,170.83,37.34,1.12,31.61,34.87,16.57,73.0,82.72,35.77,487.53,32.09,73.48,184.09,161.15,20.64,255.83,24.62,192.12,523.95,41.06,13.97,77.8,234.03,3.77,86.51,13.33,47.68,3.94,241.75,60.59,119.34,44.33,8.77,77.48,1148.5,98.28,13.43,94.01,26.34,218.79,44.89,348.21,110.73,14.05,11.97,17.14,12.98,143.34,34.16,38.51,45.81,72.5,14.13,75.99,82.92,2.01,125.13,12.64,22.46,41.22,182.81,34.02,4.69,3.04,193.47,220.26,10.73,75.25,30.22,39.35,4.05,52.74,77.76,6.13,422.45,115.43,15.17,3.69,8.18,6.26,120.6,8.25,10.15,3.54,46.46,22.53,35.96,55.95,4.83,11.87,50.67,24.42,6.84,10.38,2.27,167.98,111.73,20.12,5.97,12.25,7.34,20.9,117.19,4.21,77.16,21.55,75.58,7.07,7.57,4.13,14.45,26.27,139.73,4.53,25.36,74.42,10.82,42.1,56.62,11.53,5.5,5.49,43.19,57.69,37.72,54.44,13.27,44.93,35.39,3.49,96.4,39.1,95.5,45.11,4.38,5.91,6.59,62.19,260.38,92.45,4.45,4.42,86.81,102.04,52.57,54.86,73.26,12.18,16.87,71.15,201.31,9.58,123.23,913.07,32.13,207.71,4.7,3.71,4.77,5.66,6.35,13.75,671.55,225.66,27.97,9.42,15.62,18.63,2.64,26.55,7.59,118.41,22.56,7.22,14.3,13.18,18.54,6.44,5.63,5.55,16.72,7.96,6.63,109.46,6.84,11.84,240.39,509.36,7.48,6.79,203.73,474.86,1.85,21.08,7.61,4.72,103.28,23.9,80.09,32.77,9.08,4.88,24.88,135.81,6.99,49.62,5.97,27.41,53.73,49.73,225.67,26.46,3.98,285.62,372.55,5.08,43.52,8.99,173.23,17.3,15.11,423.51,17.38,3.95,5.44,281.47,300.11,52.04,3243.48,34.0,64.88,0.81,61.19,186.65,12.37,4.39,175.27,44.61,192.63,27.27,6.12,11.84,215.56,173.75,64.54,57.03,55.3,25.09,46.9,50.0,6.46,7.33,60.34,208.53,4.86,7.07,384.85,45.38,38.86,78.22,5.24,102.73,5.53,6.85,6.33,71.87,279.21,43.6,38.52,6.18,4.84,6.61,13.14,163.74,3.65,14.22,5.06,28.3,8.3,10.08,9.29,9.25,21.32,12.15,4.2,15.22,6.89,21.24,6.37,4.3,36.77,29.24,13.29,31.79,4.46,11.79,237.54,3.13,8.42,14.9,34.26,1.55,9.03,37.49,7.55,3.87,46.44,5.87,59.84,0.68,0.4,9.36,3.72,102.3,4.58,14.81,11.08,5.94,5.07,6.3,10.93,3.08,5.46,1.68,7.82,175.3,303.81,21.69,34.52,16.67,17.39,6.06,60.67,19.7,3.63,14.83,30.49,8.42,6.18,309.14,44.26,8.46,33.28,30.49,5.45,128.66,5.33,29.66,45.6,18.11,30.13,17.08,67.45,8.97,12.24,42.87,28.28,25.12,6.52,4.08,5.02,6.05,5.58,5.01,5.75,19.23,121.9,30.34,375.56,8.44,36.09,31.04,4.18,2.34,17.12,82.57,101.76,9.51,15.88,66.93,17.24,4.26,26.31,3.01,4.46,44.28,4.92,63.45,13.25,33.42,0.86,80.19,135.11,9.06,8.16,3.85,42.96,3.85,52.41,39.57,55.85,32.58,184.6,11.39,3278.11,13.55,3.96,53.21,4.09,78.29,3.5,129.89,22.29,117.79,18.72,4.51,5.47,44.6,8.14,4.35,5.42,11.87,14.81,3238.24,3.04,96.15,122.71,305.05,2.54,6.31,5.8,2.19,43.63,12.09,19.12,11.24,50.55,12.2,5.03,4.6,8.1,7.09,67.24,8.1,76.67,4.52,5.2,6.08,12.15,44.4,109.55,32.35,60.94,86.86,5.03,3.95,2.93,326.74,2.28,7.74,53.61,3.77,4.56,179.55,23.6,2.25,349.55,78.42,128.54,567.6,85.78,97.4,48.08,235.32,114.33,5.81,184.0,9.79,5.79,132.1,259.77,56.7,12.97,8.33,712.39,1110.07,62.23,18.95,26.41,21.55,30.86,38.39,26.33,2.86,99.39,3.7,13.74,2.69,44.26,4.91,13.09,4.21,39.77,294.65,4.39,351.53,3.44,37.65,21.24,62.05,112.34,125.42,101.31,146.93,46.45,110.66,32.04,11.88,5.07,5.82,44.51,4.6,14.51,7.13,34.62,24.26,6.19,80.15,24.93,4.55,4.2,42.1,9.16,3.74,4.74,24.31,6.85,145.21,250.84,8.08,22.26,16.13,4.73,4.68,38.41,6.28,334.15,38.57,114.63,91.53,4.94,5.93,4.67,6.26,19.43,34.3,5.46,34.48,6.03,8.3,4.72,5.5,12.13,17.89,4.81,11.71,25.59,7.07,45.08,5.37,15.7,61.25,138.31,25.47,41.15,5.31,75.13,58.85,68.8,63.14,9.36,4.27,8.42,184.51,41.13,10.92,8.57,4.74,6.15,5.53,14.35,33.8,565.55,28.19,10.43,60.5,9.68,27.69,52.79,3.38,59.24,11.51,37.54,10.17,30.78,11.17,17.57,4.65,13.91,44.19,7.21,7.83,44.97,25.11,26.73,13.12,54.67,13.7,178.86,61.3,5.46,88.58,55.86,50.22,80.06,88.1,6.16,16.04,60.57,22.29,24.76,4.98,14.36,3.07,39.57,18.95,6.04,18.87,79.53,151.95,6.43,3.52,17.41,5.7,20.09,7.85,18.34,13.97,290.88,77.23,3.53,25.13,4.95,7.56,10.01,37.51,128.41,19.56,109.59,50.07,178.97,46.51,19.7,14.84,13.67,25.09,40.96,91.53,218.99,42.45,7.21,54.24,13.05,19.51,37.08,9.26,10.65,10.95,22.48,8.07,174.62,67.05,3.8,17.48,6.56,6.87,27.7,149.53,5.57,19.61,8.85,22.93,51.1,17.04,2.91,83.3,33.1,28.37,21.5,157.07,4.48,178.35,28.57,102.35,13.87,12.92,8.84,7.31,4.13,59.7,44.27,312.6,7.15,5.74,4.29,5.53,3.64,12.22,4.51,5.76,18.03,9.71,405.05,1.14,12.55,5.09,25.77,40.85,3.45,8.7,40.94,95.93,17.29,15.35,51.27,40.01,40.42,59.0,4.52,39.61,39.75,160.8,15.87,5.35,3.48,71.16,17.83,5.93,5.82,15.7,9.99,56.04,6.56,6.42,3.67,5.62,6.41,14.65,18.5,10.68,3.44,61.21,27.14,17.51,42.73,38.87,60.12,2.82,9.25,16.5,46.16,5.72,24.91,3.5,43.64,6.28,7.26,5.41,38.38,12.89,19.69,3.73,93.5,30.99,8.44,17.87,6.08,5.26,73.14,3.23,17.92,18.42,4.71,45.58,4.74,28.66,3.65,3.72,9.29,8.22,43.17,19.88,7.27,27.92,41.96,64.35,50.76,20.3,14.7,4.11,57.25,9.76,18.91,5.0,31.94,7.35,19.77,18.87,75.64,28.89,103.19,6.35,18.04,65.77,69.88,26.52,49.18,46.85,23.5,78.57,7.74,219.93,4.72,108.05,34.04,1.51,4.33,7.24,75.12,260.32,18.9,60.53,7.22,13.16,158.63,10.98,26.76,8.45,41.77,175.53,124.4,43.18,64.75,59.14,39.05,11.18,77.75,94.3,94.69,85.15,77.56,21.46,29.88,34.75,9.11,5.94,112.82,6.46,17.6,26.27,27.68,12.17,6.3,1.46,7.49,66.77,106.35,7.98,92.7,2.15,7.05,4.31,8.46,47.98,11.94,61.68,110.42,61.6,30.79,18.95,35.48,37.61,61.18,12.05,286.89,152.14,11.44,147.24,14.17,50.7,18.87,36.89,31.43,145.27,3.96,15.26,59.05,6.01,3.99,92.3,1.6,17.45,27.83,4.02,11.73,96.62,23.62,9.65,9.89,33.52,82.07,5.21,48.3,131.69,16.16,178.21,0.79,32.89,4.62,292.8,4.49,18.97,0.75,22.62,58.36,6.18,4.2,28.55,2.94,10.05,25.15,39.25,14.99,6.64,4.31,52.73,413.1,6.27,6.0,54.27,2.86,47.08,44.97,23.83,20.02,28.05,43.68,89.72,11.69,42.24,13.22,5.04,13.39,256.31,31.54,51.15,8.04,3.41,27.75,42.66,1.6,9.67,44.68,2.94,422.31,263.37,32.44,298.91,14.37,23.52,23.84,17.75,5.69,8.49,17.11,71.71,226.81,20.67,57.59,20.39,9.63,6.68,79.3,85.27,28.7,78.19,30.26,3.77,8.38,6.85,2.76,5.09,4.02,28.78,70.14,41.96,4.5,22.72,30.12,7.0,10.43,144.45,7.78,18.42,6.3,10.58,45.14,120.72,49.53,5.15,121.27,24.32,7.9,8.28,111.96,17.39,67.98,47.64,10.06,102.04,17.73,42.23,84.95,104.51,4.62,3.94,64.79,3.75,7.82,449.59,3.63,8.27,8.21,28.83,5.65,6.99,232.1,73.48,588.25,3768.66,65.56,4.15,14.64,10.65,17.22,125.59,1.24,36.82,5.86,7.11,61.86,3.9,23.9,94.85,7.28,18.65,36.15,27.93,6.02,37.18,5.42,22.81,7.1,7.03,3.92,66.1,269.03,3.27,120.24,24.63,10.9,29.44,283.04,28.64,21.44,4.55,40.05,106.37,281.25,9.92,18.58,3.11,55.83,14.86,7.47,6.02,8.89,5.67,5.54,66.05,7.54,21.57,18.07,97.27,515.71,116.94,101.21,10.99,7.86,5.88,3.43,198.59,28.83,64.04,13.09,110.02,34.62,7.08,5.78,128.22,66.32,117.64,3.4,33.5,11.85,122.0,14.35,42.52,46.53,223.36,57.11,18.76,7.05,50.05,3.25,22.09,20.66,4.2,3.65,6.74,12.27,4.01,6.42,4.63,4.95,105.87,70.31,23.15,9.24,38.58,3.41,61.18,2.74,6.53,15.9,7.56,136.94,75.07,8.61,34.08,124.59,13.69,63.81,69.53,25.53,2.88,9.29,17.79,2.35,20.76,18.19,100.49,2.9,7.36,35.4,6.52,85.88,190.45,59.08,29.21,25.14,7.71,25.44,229.55,4.44,19.04,49.7,183.79,120.1,5.66,10.29,65.05,48.62,4.43,11.77,2.67,11.26,58.82,6.54,14.21,64.46,5.57,70.29,99.42,7.24,37.17,65.89,8.61,26.56,17.41,56.96,10.37,96.28,23.68,220.86,18.2,47.26,19.31,4.02,15.34,45.33,9.73,3.54,10.31,4.19,4.67,5.4,10.55,11.99,95.38,10.32,393.07,9.7,16.47,22.94,120.86,37.28,16.89,62.51,861.85,69.18,792.6,4.74,59.86,4.24,3.88,4.5,393.29,51.26,63.23,3.78,88.0,22.38,28.04,54.02,89.49,3.82,49.79,4.31,42.93,3.63,11.54,6.53,3.81,18.81,58.79,18.73,29.22,60.08,5.45,5.74,6.45,48.16,35.36,5.0,4.09,55.06,8.82,6.41,91.69,5.43,28.07,27.71,80.06,121.63,17.31,4.76,59.18,105.99,96.15,32.02,10.01,10.04,9.49,55.63,3.91,34.03,4.15,47.18,68.89,38.59,717.93,52.0,7.56,51.24,56.18,8.53,6.9,8.48,84.01,35.99,25.11,160.79,117.47,4.79,43.9,25.37,4.6,20.5,90.53,58.52,58.24,7.23,22.33,39.65,46.01,111.34,144.3,59.76,90.17,48.95,12.57,4.13,166.43,119.99,37.84,72.86,6.38,5.68,9.65,203.21,5.63,4.32,60.2,13.95,70.92,4.78,19.15,16.07,5.02,3.71,4.24,26.54,1.59,41.88,51.62,20.88,53.87,23.22,11.02,38.21,87.41,49.59,5.08,4.36,23.42,46.67,15.11,6.61,5.51,320.96,94.22,48.13,69.2,226.73,4.52,16.76,95.77,58.79,3.98,4.67,4.13,4.02,27.47,5.16,7.67,156.18,60.47,8.09,7.16,865.48,14.37,231.75,7.46,80.47,38.97,33.26,43.21,3.29,6.14,9.72,4.76,3.82,18.62,43.91,185.33,7.07,108.79,19.81,46.14,13.08,5.11,37.43,53.88,3.97,47.03,4.29,3.92,4.52,29.39,28.46,6.7,14.79,3.78,60.93,7.69,26.94,35.72,105.97,393.2,66.69,7.52,10.92,399.73,96.59,60.32,6.84,173.67,94.23,11.18,13.65,6.57,5.77,12.85,37.51,7.87,299.38,85.22,4.43,12.06,86.5,22.89,151.91,6.76,15.25,20.96,12.46,3.18,72.69,6.24,30.22,4.17,93.44,32.42,20.78,9.2,48.91,53.25,161.39,4.55,5.87,47.02,70.4,5.94,145.97,10.04,141.88,6.73,26.48,22.63,7.31,11.42,47.78,14.82,63.34,34.61,3.28,4.24,63.21,42.71,4.45,7.53,3.44,65.95,53.65,48.45,6.96,81.24,249.46,104.74,55.23,32.81,5.07,19.68,96.2,56.25,9.23,6.64,8.38,136.07,404.21,91.49,58.59,78.36,11.09,39.4,83.76,29.7,27.06,60.83,229.2,41.65,30.45,29.56,358.57,19.84,5.36,43.28,63.87,19.28,14.1,4.64,8.12,8.93,29.93,12.98,50.57,2489.78,4.73,14.26,9.65,34.39,3.92,19.14,46.61,20.46,11.38,38.36,14.05,92.52,3.22,57.33,35.65,206.33,7.39,93.55,35.6,4.14,367.3,35.36,96.2,109.72,6.41,20.21,9.05,49.55,89.29,8.95,10.81,31.47,21.74,61.25,9.13,26.87,4.59,77.12,19.61,63.57,6.84,126.53,5.23,74.92,13.1,6.57,3.45,3.07,3.26,15.48,6.41,8.4,7.46,30.85,22.24,12.96,41.7,102.6,10.01,5.97,3.9,8.7,187.97,16.43,5.91,16.4,11.77,103.07,6.74,11.06,108.31,364.27,38.18,58.09,3.95,6.0,25.14,101.8,7.83,51.89,19.1,11.1,53.52,46.72,4.14,9.48,6.73,2.94,37.97,45.44,4.92,2.62,29.39,6.88,3.06,7.97,15.58,100.43,67.15,3.56,0.89,17.65,14.19,2.82,77.84,65.05,41.51,3.54,3.72,314.92,26.47,6.5,4.35,4.02,13.27,70.11,3.3,22.83,68.89,21.87,9.56,65.27,4.8,3.42,4.35,10.87,7.37,9.43,5.61,14.77,3.31,139.27,28.61,20.76,18.01,42.57,286.33,423.57,5.19,4.15,4.71,3.85,5.37,11.29,8.1,5.14,5.88,8.66,8.29,5.91,5.38,5.79,4.72,5.28,2.45,67.33,62.94,4.8,15.5,26.67,3.55,5.21,3.9,6.49,9.25,9.4,21.51,115.34,5.73,53.02,338.58,4.8,9.09,128.07,28.79,59.74,25.37,83.65,46.32,88.11,101.43,53.35,5.09,0.87,23.51,104.33,4.15,111.04,7.31,16.3,59.53,13.34,27.04,11.32,63.22,4.04,55.73,51.2,39.31,51.14,6.93,118.45,54.02,5.38,18.02,3.95,150.23,10.61,4.79,70.39,46.7,64.86,4.87,5.21,16.31,7.12,49.58,127.05,30.14,24.97,6.43,2.85,4.76,99.26,4.71,3.96,103.42,31.54,75.95,58.87,6.54,68.39,43.97,4.96,66.43,47.92,23.63,119.76,43.04,67.96,5.07,17.61,8.33,7.47,6.41,12.06,22.18,5.07,9.29,458.44,38.71,255.97,66.7,124.77,3.39,39.75,17.97,8.59,157.88,402.04,132.7,49.44,7.8,3.56,3.78,3.92,28.78,106.86,26.37,102.54,156.45,21.05,13.85,122.7,30.35,92.07,159.8,144.57,61.62,273.91,111.62,120.92,58.44,29.18,89.8,441.94,70.46,27.56,81.18,176.75,72.02,24.82,193.36,7.21,5.38,83.45,48.85,137.66,295.42,12.43,3.63,236.05,37.83,391.7,32.72,145.11,30.03,28.85,4.01,270.63,6.98,6.64,4.49,34.22,303.69,186.16,154.39,11.4,66.37,5.87,139.12,11.91,5.51,21.37,155.47,90.73,53.12,158.6,2549.47,47.14,537.03,30.78,94.63,376.57,163.19,9.46,35.43,15.5,265.21,100.59,549.11,95.26,4.64,619.9,170.98,65.19,175.46,191.97,39.88,38.17,80.27,12.56,38.92,1597.56,542.74,87.18,287.57,99.65,1789.69,123.15,6.93,8.65,73.39,144.41,325.94,76.5,54.04,122.35,16.82,352.77,147.84,24.54,57.59,9.95,290.57,68.98,1088.25,47.93,161.23,23.14,6.04,251.43,24.7,9.86,51.59,176.88,9.5,49.26,20.1,5.47,57.59,24.38,8.63,77.29,138.79,20.58,21.18,67.17,184.81,17.81,22.76,142.48,54.98,809.76,14.04,42.2,75.96,30.72,8.36,124.68,16.13,280.35,52.55,265.63,77.99,93.31,197.27,62.23,46.79,22.23,181.67,65.35,107.29,38.13,457.51,23.37,221.47,130.6,107.51,29.4,74.3,1280.81,68.04,7.49,6330.91,190.05,58.28,82.58,167.48,10.8,159.16,16.1,51.39,11140.56,25.93,103.65,199.48,437.2,48.53,62.41,213.7,43.06,28.94,18.9,4.32,691.57,175.44,42.81,17.77,9.91,59.33,184.15,127.53,9.76,17.8,34.11,9.71,123.99,33.09,64.39,30.41,622.23,40.99,172.46,49.89,12.18,27.71,22.5,4.81,115.73,163.02,65.01,9.0,8.11,134.8,86.99,238.78,214.19,63.87,50.32,147.14,4.38,91.98,205.45,202.12,74.88,165.61,8.7,40.25,245.16,31.46,14.83,71.96,395.26,5.46,6.74,50.23,131.02,157.7,51.26,12.21,124.18,86.25,103.37,9.24,205.52,31.55,28.08,75.62,54.76,467.9,15.07,1000.06,96.9,18.88,22.17,4.44,29.18,23.0,14.37,24.73,216.18,3.5,259.22,60.81,7.79,20.33,20.94,32.17,223.54,22.11,41.27],\"sizemode\":\"area\",\"sizeref\":42.17745,\"symbol\":\"circle\"},\"mode\":\"markers\",\"name\":\"\",\"showlegend\":false,\"x\":[96,27,54,97,43,24,97,97,119,113,54,25,95,43,101,19,93,40,116,107,107,38,62,22,95,93,32,22,45,74,34,117,29,68,31,62,33,73,62,123,69,112,54,50,103,113,97,93,41,38,115,64,23,26,25,112,24,61,101,53,15,75,58,115,40,94,13,33,61,61,85,13,61,95,95,37,13,53,21,61,24,100,115,20,32,66,34,59,82,94,22,60,64,21,32,119,25,69,32,17,113,27,33,108,53,21,73,15,22,21,23,65,14,43,22,12,52,21,19,16,72,59,58,70,27,24,113,53,71,60,119,63,64,86,57,58,13,65,60,50,19,54,13,25,123,97,25,24,66,32,55,98,123,24,99,58,24,18,107,26,43,15,21,20,24,33,24,32,23,24,21,114,95,92,51,71,71,17,22,20,18,32,96,109,110,68,106,14,20,16,50,96,62,28,20,43,123,109,15,55,42,45,34,98,47,23,97,93,107,54,14,55,14,33,123,123,101,94,65,40,37,73,55,32,43,51,54,21,50,116,33,22,20,17,114,45,52,54,62,21,21,59,43,23,35,44,43,41,21,76,39,67,123,111,46,96,59,63,47,100,43,53,63,14,22,50,64,107,35,93,34,65,109,102,40,97,39,50,113,103,94,94,38,117,96,113,115,27,27,34,43,52,37,24,25,38,100,98,110,94,24,35,78,31,22,22,44,42,22,60,60,61,63,22,39,27,22,49,44,40,44,63,41,18,94,48,38,24,14,95,20,19,14,109,21,22,26,20,17,17,69,60,15,49,51,53,52,35,29,77,26,23,28,15,68,24,22,71,26,24,59,39,56,26,35,23,22,24,24,32,41,56,57,98,82,15,35,26,67,21,57,56,53,56,54,57,57,59,36,37,96,55,74,43,83,70,20,43,18,27,109,53,17,97,32,91,45,34,95,33,73,49,54,42,47,55,37,18,18,75,43,123,62,58,21,23,54,23,50,75,85,14,66,52,67,119,15,103,52,53,49,77,21,119,117,116,123,123,123,123,116,114,117,113,101,70,61,82,123,69,119,113,38,116,119,114,119,14,109,14,97,93,111,30,97,70,93,22,15,32,50,21,19,17,23,18,97,36,18,15,50,123,123,98,23,22,29,34,15,21,29,22,94,40,41,16,45,45,86,23,98,23,15,37,37,30,23,111,105,118,113,113,38,72,63,72,72,53,62,95,92,36,10,37,93,53,22,49,17,15,23,25,15,24,23,49,121,48,70,40,60,42,38,42,98,94,44,24,115,115,83,99,114,53,94,102,25,113,102,112,42,35,107,113,52,25,84,116,63,79,38,71,53,73,50,57,48,54,54,44,31,21,60,94,23,37,121,15,123,77,106,57,29,14,73,14,67,35,57,20,45,29,95,19,33,36,19,20,24,15,35,53,28,35,49,21,58,113,65,36,27,15,102,63,47,18,23,61,60,35,33,58,25,66,68,23,64,109,61,47,58,113,22,29,18,113,20,20,21,31,21,101,97,32,45,34,28,47,69,21,16,32,56,44,54,42,44,33,19,95,35,109,19,31,44,45,60,46,95,77,30,98,107,20,17,113,98,95,20,98,45,22,31,99,29,98,23,106,100,30,105,26,37,34,35,39,93,106,37,33,43,68,106,49,22,22,81,75,120,14,36,121,33,97,50,36,55,30,33,56,74,24,100,31,33,29,107,27,58,35,43,13,24,24,43,45,31,31,95,98,115,27,39,67,20,42,112,123,94,117,123,121,120,45,117,117,44,115,123,23,69,92,97,100,69,33,29,33,23,15,105,115,21,68,98,100,22,97,98,32,21,34,98,71,32,101,98,101,25,23,98,100,44,94,98,74,58,56,17,21,29,109,93,95,54,113,21,55,36,57,54,59,36,95,21,26,35,16,25,22,65,52,24,35,102,34,63,67,67,67,26,43,64,62,100,116,114,106,109,96,63,45,15,53,74,55,33,37,113,75,108,13,67,33,17,41,93,11,15,94,113,66,28,33,13,57,51,31,18,24,58,62,55,55,54,46,16,78,63,65,38,58,39,45,35,95,114,123,102,93,67,59,42,61,98,99,100,95,97,107,30,59,60,60,96,82,53,15,19,25,24,54,20,52,48,35,39,48,41,23,34,34,62,21,35,38,34,32,11,98,52,42,31,16,39,16,16,54,123,123,97,101,116,115,107,114,20,101,58,100,97,93,44,15,75,77,13,39,42,63,60,20,103,55,58,44,15,74,52,22,22,37,10,45,35,38,33,99,39,16,43,52,54,70,53,62,69,14,54,53,46,21,60,55,21,109,68,15,61,16,75,95,8,95,33,99,68,70,72,71,62,25,24,15,48,56,22,19,36,76,20,24,32,47,35,85,116,113,116,97,75,53,73,95,95,95,101,46,60,113,93,106,24,53,42,34,67,31,17,47,38,34,41,73,95,57,26,24,66,62,27,38,15,65,95,97,109,26,15,35,10,123,19,45,57,93,37,15,11,57,63,101,21,38,69,98,121,98,57,46,47,41,53,53,55,54,54,54,65,25,35,17,29,33,38,114,122,95,116,107,24,104,113,105,16,104,108,101,69,98,103,77,98,96,22,116,22,112,117,21,76,39,42,54,37,19,74,42,32,37,34,44,27,43,43,43,121,52,35,95,28,53,16,47,59,16,62,72,45,53,65,51,14,22,59,34,16,40,25,17,74,24,16,53,113,114,103,105,114,95,68,31,22,29,22,38,19,111,24,115,115,123,55,100,108,116,116,82,95,113,116,59,98,61,98,98,32,61,111,118,26,95,30,23,107,36,61,113,25,35,60,107,61,74,100,99,30,63,73,72,103,104,59,103,14,97,97,62,15,14,61,21,25,62,31,24,16,95,56,10,97,10,59,11,94,57,61,107,104,23,123,34,108,81,111,108,97,114,29,33,122,113,105,109,22,13,53,114,113,123,93,28,100,23,59,93,74,36,64,13,15,10,64,62,15,63,18,24,56,61,93,38,47,34,53,61,45,73,34,74,18,36,30,43,15,23,15,61,23,46,96,76,48,46,17,45,95,74,34,93,65,98,101,55,34,24,28,16,23,38,24,22,122,122,45,29,25,115,21,16,61,41,115,14,75,115,16,101,54,64,33,21,93,9,70,57,55,115,20,23,26,55,22,97,26,17,14,13,17,107,49,35,66,43,22,24,35,15,16,34,109,73,48,59,61,56,75,28,123,109,43,111,50,54,53,15,34,26,33,38,21,14,13,23,55,69,33,61,56,47,55,44,16,42,45,45,44,49,44,43,55,64,78,56,43,48,16,58,23,41,42,110,23,15,18,96,66,113,46,38,9,18,23,84,114,122,66,93,93,27,56,15,19,94,29,56,40,31,70,68,17,56,62,65,21,37,32,101,57,43,27,23,62,113,48,43,95,36,39,38,34,14,54,19,24,30,99,95,15,20,26,113,114,16,64,61,27,18,31,39,44,54,24,63,63,81,48,27,56,55,16,62,44,31,41,49,58,15,63,23,35,34,24,113,43,108,60,61,33,62,63,55,16,44,29,15,35,33,96,122,15,123,112,55,57,121,59,114,44,36,48,29,35,28,27,92,33,93,43,44,19,43,28,44,27,20,27,66,40,40,63,68,22,32,60,35,31,62,64,65,117,91,115,72,41,55,37,46,58,36,25,31,37,60,31,36,34,95,46,47,71,44,53,57,35,46,18,51,34,122,35,99,49,60,35,35,103,53,44,57,24,55,58,51,96,31,58,60,43,23,35,38,50,23,37,37,55,29,59,44,18,52,13,51,45,33,67,35,35,22,58,45,18,63,45,23,116,15,112,32,24,57,116,52,93,93,94,93,93,65,34,22,29,44,33,9,54,43,34,26,123,56,93,75,15,103,94,14,17,121,117,119,53,67,63,56,98,66,24,72,78,67,41,102,41,58,57,33,38,13,22,23,46,54,32,32,63,47,114,34,30,60,26,35,64,95,98,95,63,34,50,27,43,32,38,56,93,41,41,48,108,65,94,110,61,61,75,65,63,117,39,109,99,73,55,44,48,56,46,53,37,121,71,93,45,23,22,57,24,37,21,42,55,39,43,58,21,22,24,42,16,16,19,20,110,111,76,114,94,53,63,93,98,93,77,38,61,116,68,116,38,42,55,30,54,20,66,68,53,56,67,17,53,94,24,34,22,34,29,25,64,37,54,23,55,46,17,17,15,66,60,60,60,106,71,61,76,64,65,17,36,75,92,44,92,83,38,96,24,23,26,46,107,17,26,44,47,58,97,113,39,51,15,15,30,59,32,70,40,40,123,123,117,31,109,14,52,30,24,39,42,28,38,19,33,55,101,43,92,116,60,41,25,24,55,63,99,93,44,22,34,60,63,42,70,57,24,74,76,87,73,63,68,38,38,72,29,23,111,68,42,21,102,61,13,62,18,40,14,53,33,33,17,53,30,86,103,32,79,63,51,113,57,78,70,72,60,57,64,49,56,69,66,40,22,22,22,54,70,55,98,30,18,71,36,53,53,36,49,65,33,23,32,37,34,31,9,100,45,63,40,61,71,71,86,14,55,103,54,75,27,56,54,69,39,36,43,50,72,42,63,29,24,16,98,26,54,43,18,56,95,53,53,64,57,107,34,44,92,39,61,55,34,33,57,28,36,36,47,14,38,51,54,115,17,95,58,116,118,107,110,108,110,48,55,69,58,62,75,73,77,56,39,19,50,33,36,14,35,37,33,38,34,57,53,50,44,44,44,44,33,41,24,14,74,11,71,114,18,116,56,107,86,105,31,118,97,97,98,68,35,53,53,21,41,19,19,33,64,23,83,8,82,23,21,33,18,45,23,48,97,113,94,70,95,115,100,99,62,59,96,75,64,62,57,107,88,95,103,114,85,86,96,36,97,69,95,114,35,103,19,61,53,56,14,43,44,91,14,59,57,60,56,37,113,123,86,100,27,23,59,57,54,38,61,75,58,33,20,32,52,13,22,25,43,43,17,35,92,95,94,35,28,82,69,71,59,71,57,55,63,61,32,93,76,27,97,45,95,98,52,61,22,51,46,17,21,9,15,32,100,45,36,60,60,39,37,24,72,20,63,57,94,56,45,44,22,34,56,56,56,27,63,61,37,98,58,63,58,93,113,52,95,38,116,97,113,98,70,36,36,61,44,114,14,60,35,19,35,45,60,102,35,64,78,28,37,43,21,56,61,67,67,74,26,55,45,25,98,39,98,123,117,65,19,33,16,104,42,55,49,29,35,75,62,22,67,21,14,55,55,34,41,96,20,14,116,114,18,57,25,23,63,45,33,26,34,22,45,35,102,58,77,20,18,45,74,18,103,123,54,26,36,27,26,40,49,59,29,105,109,123,123,123,18,109,123,123,55,85,15,93,37,35,37,38,38,40,36,23,17,60,15,35,109,33,24,31,53,23,15,23,56,118,123,123,121,114,97,106,107,111,117,107,110,103,98,33,37,61,37,114,115,116,110,44,60,63,10,11,26,29,54,97,113,33,123,22,34,34,35,103,33,57,62,113,65,116,99,17,107,59,63,96,106,113,31,98,23,94,15,23,21,56,18,112,44,34,34,32,32,34,24,14,62,57,25,39,114,31,75,67,63,64,95,98,60,35,101,61,65,34,14,94,14,44,30,55,25,75,106,62,42,21,25,46,34,42,57,29,73,106,100,109,33,23,68,96,10,36,54,85,28,37,99,115,113,99,115,119,69,59,107,63,99,46,55,43,28,16,25,103,43,59,76,63,56,40,16,26,32,38,14,42,10,111,44,17,95,109,55,117,58,97,30,33,93,58,82,77,76,44,39,98,18,116,101,116,100,97,98,117,34,36,55,62,107,22,52,55,69,45,98,26,42,56,54,97,51,31,34,25,52,95,111,70,96,100,24,64,16,95,97,40,38,68,93,44,113,66,45,49,115,33,46,58,48,42,26,25,66,73,104,47,98,58,65,15,37,54,113,19,25,123,123,123,123,123,57,123,94,93,18,13,52,16,42,96,19,46,73,65,34,35,32,58,37,45,93,123,117,118,119,16,115,118,118,117,113,44,97,123,98,25,53,62,64,27,57,25,41,62,64,34,39,61,24,122,85,16,69,21,56,53,55,98,56,44,30,114,113,113,113,109,113,113,32,50,120,18,114,18,106,107,114,43,34,23,74,55,115,51,44,67,99,94,35,24,97,97,95,47,18,36,110,98,111,34,113,102,73,114,18,18,32,26,23,101,35,112,24,95,63,54,73,100,14,31,123,23,15,24,20,63,60,22,56,54,54,33,40,19,15,60,65,35,16,66,47,72,49,31,111,21,23,24,110,25,25,60,62,54,58,99,95,50,53,49,19,15,69,41,58,119,19,97,91,34,21,54,113,111,11,29,16,43,36,18,24,32,47,47,54,48,48,38,57,55,47,75,16,33,65,44,42,21,26,92,52,39,74,43,34,42,26,85,19,38,45,67,112,22,76,52,17,18,21,21,39,27,102,67,18,34,46,70,44,59,31,66,75,75,65,51,49,62,49,28,17,19,64,56,21,44,35,40,44,17,38,118,17,67,21,28,26,46,50,52,55,15,38,59,66,60,17,97,113,66,17,32,17,46,55,55,55,56,54,55,53,53,55,55,50,50,50,49,49,55,62,35,37,17,19,54,45,54,33,26,28,21,73,34,112,27,116,111,103,48,97,99,25,111,119,51,94,35,103,113,113,65,83,98,17,32,22,23,99,94,20,23,26,23,72,115,15,65,61,114,38,94,43,67,25,98,97,49,23,26,19,54,21,54,41,15,34,59,72,60,55,116,17,30,53,39,70,70,37,56,25,25,53,116,52,45,41,37,36,36,34,68,41,56,16,35,38,39,14,58,15,15,53,28,115,15,123,101,63,63,63,17,23,23,23,99,41,36,14,16,11,11,12,12,38,98,15,41,58,10,17,23,19,32,15,73,17,17,53,53,27,39,32,24,119,21,11,19,83,63,63,38,107,55,57,55,33,33,12,12,12,13,30,13,12,12,12,12,96,96,12,76,55,23,11,18,11,20,13,11,121,11,35,71,11,94,12,11,11,11,11,11,11,11,11,11,11,11,11,11,11,11,11,10,10,11,11,10,105,36,10,10,11,10,12,35,10,15,10,48,10,10,10,10,10,10,10,10,10,9,10,10,10,10,10,10,10,10,10,10,10,10,10,10,10,9,10,61,10,9,9,9,9,9,9,9,9,9,9,9,9,9,9,9,9,9,9,16,13,10,9,9,9,9,111,30,98,9,10,103,40,34,13,10,9,9,9,14,123,54,12,25,70,53,12,9,8,8,8,8,9,9,10,9,9,9,9,10,9,9,9,9,11,9,9,9,9,9,9,9,9,9,8,8,9,9,8,9,9,94,9,8,8,9,8,9,9,8,8,8,9,9,23,8,9,9,8,8,8,42,42,8,9,68,8,8,8,8,8,8,8,8,8,8,8,8,8,8,8,9,61,18,10,13,74,112,51,71,111,29,63,41,33,19,49,34,85],\"xaxis\":\"x\",\"y\":[249.98,295.86,2089.28,286.43,505.01,301.81,176.14,221.51,392.16,151.12,691.26,740.97,328.23,648.62,511.39,181.38,433.86,802.89,273.02,349.32,1265.29,1699.45,38.53,90.01,388.04,9.13,256.57,328.63,128.44,270.18,10.43,157.77,215.0,3.93,16870.98,311.84,31.47,266.05,130.56,83.86,247.85,45.43,295.33,66.48,33.26,35.36,584.31,59.19,2451.58,134.38,227.18,144.79,199.95,162.39,152.76,146.34,171.64,87.98,1727.11,609.1,67.06,4.19,430.84,262.75,481.97,39.06,138.85,526.85,607.41,344.2,804.2,617.52,101.83,6.11,490.73,29.04,674.09,48.76,152.14,191.2,11.84,78.85,243.23,34.14,16.36,238.48,20.48,84.75,44.32,133.58,127.29,124.92,443.73,89.02,14.67,142.39,429.12,1990.5,10.55,176.75,46.26,228.4,170.84,74.33,866.23,222.02,204.08,359.09,56.82,41.74,94.64,61.21,100.46,104.26,129.39,222.78,422.39,54.07,2055.82,49.58,723.47,231.53,66.3,8145.52,83.7,123.71,51.11,362.82,242.36,206.01,69.44,328.97,229.38,297.43,35.78,369.14,272.85,73.47,170.9,59.34,46.36,48.99,80.08,309.6,225.69,3.0,338.16,49.12,175.77,21.29,208.26,168.88,28.27,892.63,96.43,27.39,1246.55,388.37,16.81,270.97,748.55,162.41,92.91,279.35,1638.46,4906.33,36.24,9.63,10734.57,193.94,207.79,145.31,72.88,469.57,49.09,84.57,149.93,225.19,71.86,43.98,69.42,16.0,201.05,57.21,254.87,433.6,50.52,59.63,23.8,226.06,101.41,661.04,1060.13,639.39,780.84,301.76,377.27,44.22,26.39,68.24,68.19,149.27,172.58,398.19,313.3,359.11,170.51,100.26,26.19,563.25,229.25,222.19,275.54,130.73,51.67,31.97,213.23,70.15,940.47,318.97,171.52,46.56,26.1,139.72,231.32,218.53,627.87,287.32,546.65,175.95,429.27,380.37,298.61,216.24,70.17,89.47,198.34,209.41,119.03,30.86,49.12,6.09,168.88,72.42,197.19,176.43,91.13,141.95,103.97,46.03,208.79,384.27,24.91,741.3,78.92,355.05,530.66,1084.79,337.97,2573.75,162.45,116.03,48.65,21.51,40.46,70.47,156.67,224.36,588.9,1510.85,530.18,193.72,36.61,148.11,131.4,65.2,51.14,1468.5,318.08,18.03,202.99,238.09,793.05,74.83,48.54,20.98,316.2,185.03,147.75,525.78,216.43,135.23,33.17,31.72,92.92,100.65,281.55,44.48,418.9,328.83,249.09,130.69,201.15,147.49,456.22,530.59,243.66,114.14,13.86,117.11,5.32,236.9,5.44,30.27,21.36,39.47,374.92,35.8,42.03,38.59,33.06,93.23,32.73,454.49,349.07,1268.87,20.86,326.18,40.47,269.71,849.83,22.57,61.93,29.53,632.4,94.64,3995.45,726.96,122.68,69.59,74.1,587.16,1019.53,23.81,25.32,24.35,24.29,477.87,77.99,163.83,22.44,1032.63,277.98,45.47,121.98,41.8,80.32,47.94,110.46,10.24,226.43,237.39,553.27,158.92,34.9,27.17,37.74,94.47,85.01,1623.34,53.57,17.17,32.22,120.24,8.15,413.35,3.25,25.58,33.18,53.25,2.8,237.36,59.21,42.65,76.68,10.72,3.62,46.93,28.63,6.32,38.48,204.81,152.71,32.02,74.31,142.36,414.43,272.54,54.92,190.61,38.55,90.24,49.17,85.28,262.45,247.35,33.85,42.25,63.89,35.8,129.29,293.55,46.49,44.35,22.1,57.73,58.88,49.28,33.22,34.0,58.67,611.19,295.48,91.1,1156.45,45.22,23.86,49.9,107.83,22.12,65.3,49.74,107.16,20.29,39.5,64.0,640.71,406.02,365.79,39.47,8.73,25.74,306.5,19.73,134.69,19.89,76.8,26.04,24.89,130.31,99.59,22.39,13.28,31.58,65.56,132.6,74.18,15.65,30.5,16.48,41.18,18.74,190.1,7.37,138.35,20.18,67.78,182.14,180.76,445.62,98.43,47.25,810.7,100.42,49.25,42.74,33.41,59.75,477.85,58.43,67.29,25.3,692.12,734.72,185.39,481.06,17.28,40.38,94.74,130.32,357.39,282.46,21.37,23.48,35.56,310.19,530.62,58.52,116.95,13.71,270.17,111.69,138.39,36.49,30.61,98.54,357.86,60.7,55.73,177.62,5.59,54.78,103.57,116.74,88.74,70.09,119.81,8.8,50.17,47.39,97.82,69.02,119.46,157.48,7.08,95.86,75.29,19.86,155.74,48.5,178.62,34.14,67.65,168.5,25.37,293.56,33.58,86.9,710.7,61.86,38.21,47.82,314.43,1154.79,68.06,65.03,260.13,119.93,147.82,246.83,346.62,1921.82,882.56,110.7,582.28,109.85,109.16,324.25,150.88,133.8,27.82,54.4,20.12,426.39,639.72,132.71,119.03,41.8,13.72,169.06,264.78,89.41,9.31,31.43,390.67,94.59,51.56,30.35,73.58,179.45,89.94,111.23,46.52,152.28,60.92,13.61,75.12,1.06,131.64,89.53,158.55,119.92,195.43,166.13,99.14,455.39,29.16,67.51,74.45,24.12,4.22,4.2,106.12,95.03,95.54,79.39,110.41,13.64,20.94,69.3,27.24,12307.16,406.04,20.85,133.5,54.18,14.49,453.76,341.23,278.97,7.56,284.01,295.12,9.99,109.71,259.49,13.07,189.85,134.82,16.27,267.0,13.51,49.29,128.73,5.03,8.14,25.6,4.85,343.68,12.15,6.02,65.25,4.75,31.74,89.08,95.26,62.17,60.18,30.52,11.29,24.39,276.63,17.87,101.5,3.91,36.02,63.86,44.01,38.9,16.11,13.23,43.84,4.74,53.21,3.18,6.72,25.6,4.58,70.76,19.01,21.69,122.83,86.46,3.58,77.04,2.41,2.57,4.16,43.2,416.07,4.43,21.93,62.46,16.01,22.65,37.78,9.77,9.47,130.28,50.55,113.91,106.77,30.41,6.74,28.47,66.44,6.1,18.6,145.35,29.04,29.33,29.71,50.46,69.57,80.47,71.06,29.84,169.75,7.77,16.58,132.47,17.02,5.71,3.99,4.43,2.7,83.59,63.48,4.29,7.02,51.58,207.6,29.62,141.2,374.56,18.5,9.82,42.19,63.36,138.03,6.43,52.25,54.59,25.24,19.83,3.54,24.02,31.76,7.13,3.95,43.8,154.4,9.58,32.51,6.87,13.1,54.53,4.52,3.88,5.81,11.7,11.6,6.22,39.57,9.81,4.8,15.27,82.9,6.33,49.58,38.97,18.1,11.68,154.17,29.54,7.1,79.21,25.21,14.22,93.87,9.95,6.16,24.25,15.24,13.87,8.68,14.63,28.81,40.28,47.84,60.43,33.78,16.63,154.89,2.92,66.29,151.36,369.68,25.41,174.99,23.27,6.75,47.32,12.95,41.69,126.78,594.48,1266.06,11.14,24.48,100.71,26.78,4.77,10.83,7.28,99.44,44.61,86.02,78.36,25.12,103.18,5.18,26.09,27.27,98.59,658.76,30.33,72.78,30.6,23.82,165.86,12.74,56.63,93.68,3.63,73.2,9.29,35.2,9.65,6.13,19.72,4.33,4.84,36.43,86.66,4.01,10.34,9.66,14.83,26.89,5.62,16.47,19.65,15.43,4.22,13.91,3.95,47.12,63.61,28.41,47.66,184.8,17.67,46.57,101.99,40.38,25.2,66.82,126.44,74.92,126.3,99.15,332.85,137.94,119.63,43.03,25.39,9.57,18.66,32.64,303.36,36.28,6.91,33.23,34.98,6.64,64.51,200.3,122.99,79.58,8.45,38.87,6.49,4.86,262.98,5.35,32.22,6.39,67.23,4.16,23.59,10.44,9.48,218.2,7.87,5.19,155.54,6.69,37.31,38.78,4.2,3.56,13.44,4.14,8.14,87.31,4.39,5.67,4.8,4.99,4.32,4.43,4.08,4.76,6.18,15.97,21.97,63.68,118.37,59.61,89.57,4.96,5.46,4.92,26.21,5.66,13.14,39.49,21.55,51.28,7.98,8.64,43.57,52.09,4.35,6.61,11.18,24.51,20.09,27.14,202.65,19.76,4.23,3.24,7.08,5.95,3.41,10.77,20.08,355.8,61.84,23.15,16.67,26.11,4.04,131.87,15.11,33.37,49.98,0.63,120.91,145.48,63.41,19.07,122.59,130.58,15.9,185.23,89.29,43.45,35.04,188.67,71.55,188.07,100.21,13.29,128.91,210.3,34.15,6.33,4.28,73.31,50.43,8.61,7.62,1.86,178.46,134.57,69.15,17.68,261.09,10.75,43.13,12.61,15.68,13.16,33.92,147.0,9.93,25.93,9.99,41.68,12.48,5.17,19.93,19.82,13.02,19.04,46.75,63.06,10.05,40.51,0.82,8.1,5.51,3.89,1.73,11.28,247.85,37.2,83.1,93.83,6.9,74.33,5.29,4.15,1.7,61.71,46.64,65.65,10.75,39.05,104.91,4.78,1.67,50.31,50.69,94.98,5.28,31.6,4.83,15.35,71.99,67.52,28.58,61.53,88.89,10.89,82.87,32.33,33.92,35.26,199.79,92.58,47.7,90.31,29.82,7.91,47.59,19.76,101.96,28.44,408.82,127.74,551.53,9.67,18.85,8.64,61.46,4.28,6.08,6.94,11.54,115.56,20.73,6.52,8.7,62.94,2.52,6.18,17.26,32.8,81.82,10.44,51.91,4.27,23.59,8.97,8.2,39.5,72.26,11.27,534.88,6.7,480.9,15.47,68.14,29.97,16.99,100.02,32.63,106.45,51.13,3.95,68.97,29.41,16.33,69.77,235.26,3.06,348.22,10.26,8.85,3.16,64.81,45.79,81.96,1.55,3.73,18.16,3.54,14.49,10.74,62.83,28.09,264.43,82.93,4.95,312.13,3.34,60.29,13.71,36.92,27.93,221.1,46.48,82.38,195.71,1216.05,149.91,94.85,148.55,188.58,60.88,110.17,25.53,9.0,42.04,8.47,25.02,30.32,66.53,9.46,73.52,18.34,27.47,82.34,5.41,44.71,16.06,7.49,23.85,38.12,11.29,16.13,19.39,8.49,30.02,28.6,336.73,32.99,66.19,12.49,4.76,127.1,234.6,49.58,40.22,20.78,15.9,122.73,10.36,32.86,12.35,515.85,10.12,176.79,13.01,36.74,173.94,45.33,59.06,61.98,180.38,65.02,79.58,17.12,8.8,8.89,12.77,12.59,4.12,12.19,104.61,72.37,31.24,13.89,10.75,23.74,23.78,40.76,26.38,247.97,55.71,20.76,20.9,48.35,9.3,73.61,38.85,32.47,101.34,94.02,159.98,74.64,46.6,14.04,479.7,71.23,21.66,79.81,12.72,106.73,709.11,69.54,8.54,85.55,107.45,6.07,462.4,60.04,55.61,123.41,295.38,8.53,170.83,37.34,1.12,31.61,34.87,16.57,73.0,82.72,35.77,487.53,32.09,73.48,184.09,161.15,20.64,255.83,24.62,192.12,523.95,41.06,13.97,77.8,234.03,3.77,86.51,13.33,47.68,3.94,241.75,60.59,119.34,44.33,8.77,77.48,1148.5,98.28,13.43,94.01,26.34,218.79,44.89,348.21,110.73,14.05,11.97,17.14,12.98,143.34,34.16,38.51,45.81,72.5,14.13,75.99,82.92,2.01,125.13,12.64,22.46,41.22,182.81,34.02,4.69,3.04,193.47,220.26,10.73,75.25,30.22,39.35,4.05,52.74,77.76,6.13,422.45,115.43,15.17,3.69,8.18,6.26,120.6,8.25,10.15,3.54,46.46,22.53,35.96,55.95,4.83,11.87,50.67,24.42,6.84,10.38,2.27,167.98,111.73,20.12,5.97,12.25,7.34,20.9,117.19,4.21,77.16,21.55,75.58,7.07,7.57,4.13,14.45,26.27,139.73,4.53,25.36,74.42,10.82,42.1,56.62,11.53,5.5,5.49,43.19,57.69,37.72,54.44,13.27,44.93,35.39,3.49,96.4,39.1,95.5,45.11,4.38,5.91,6.59,62.19,260.38,92.45,4.45,4.42,86.81,102.04,52.57,54.86,73.26,12.18,16.87,71.15,201.31,9.58,123.23,913.07,32.13,207.71,4.7,3.71,4.77,5.66,6.35,13.75,671.55,225.66,27.97,9.42,15.62,18.63,2.64,26.55,7.59,118.41,22.56,7.22,14.3,13.18,18.54,6.44,5.63,5.55,16.72,7.96,6.63,109.46,6.84,11.84,240.39,509.36,7.48,6.79,203.73,474.86,1.85,21.08,7.61,4.72,103.28,23.9,80.09,32.77,9.08,4.88,24.88,135.81,6.99,49.62,5.97,27.41,53.73,49.73,225.67,26.46,3.98,285.62,372.55,5.08,43.52,8.99,173.23,17.3,15.11,423.51,17.38,3.95,5.44,281.47,300.11,52.04,3243.48,34.0,64.88,0.81,61.19,186.65,12.37,4.39,175.27,44.61,192.63,27.27,6.12,11.84,215.56,173.75,64.54,57.03,55.3,25.09,46.9,50.0,6.46,7.33,60.34,208.53,4.86,7.07,384.85,45.38,38.86,78.22,5.24,102.73,5.53,6.85,6.33,71.87,279.21,43.6,38.52,6.18,4.84,6.61,13.14,163.74,3.65,14.22,5.06,28.3,8.3,10.08,9.29,9.25,21.32,12.15,4.2,15.22,6.89,21.24,6.37,4.3,36.77,29.24,13.29,31.79,4.46,11.79,237.54,3.13,8.42,14.9,34.26,1.55,9.03,37.49,7.55,3.87,46.44,5.87,59.84,0.68,0.4,9.36,3.72,102.3,4.58,14.81,11.08,5.94,5.07,6.3,10.93,3.08,5.46,1.68,7.82,175.3,303.81,21.69,34.52,16.67,17.39,6.06,60.67,19.7,3.63,14.83,30.49,8.42,6.18,309.14,44.26,8.46,33.28,30.49,5.45,128.66,5.33,29.66,45.6,18.11,30.13,17.08,67.45,8.97,12.24,42.87,28.28,25.12,6.52,4.08,5.02,6.05,5.58,5.01,5.75,19.23,121.9,30.34,375.56,8.44,36.09,31.04,4.18,2.34,17.12,82.57,101.76,9.51,15.88,66.93,17.24,4.26,26.31,3.01,4.46,44.28,4.92,63.45,13.25,33.42,0.86,80.19,135.11,9.06,8.16,3.85,42.96,3.85,52.41,39.57,55.85,32.58,184.6,11.39,3278.11,13.55,3.96,53.21,4.09,78.29,3.5,129.89,22.29,117.79,18.72,4.51,5.47,44.6,8.14,4.35,5.42,11.87,14.81,3238.24,3.04,96.15,122.71,305.05,2.54,6.31,5.8,2.19,43.63,12.09,19.12,11.24,50.55,12.2,5.03,4.6,8.1,7.09,67.24,8.1,76.67,4.52,5.2,6.08,12.15,44.4,109.55,32.35,60.94,86.86,5.03,3.95,2.93,326.74,2.28,7.74,53.61,3.77,4.56,179.55,23.6,2.25,349.55,78.42,128.54,567.6,85.78,97.4,48.08,235.32,114.33,5.81,184.0,9.79,5.79,132.1,259.77,56.7,12.97,8.33,712.39,1110.07,62.23,18.95,26.41,21.55,30.86,38.39,26.33,2.86,99.39,3.7,13.74,2.69,44.26,4.91,13.09,4.21,39.77,294.65,4.39,351.53,3.44,37.65,21.24,62.05,112.34,125.42,101.31,146.93,46.45,110.66,32.04,11.88,5.07,5.82,44.51,4.6,14.51,7.13,34.62,24.26,6.19,80.15,24.93,4.55,4.2,42.1,9.16,3.74,4.74,24.31,6.85,145.21,250.84,8.08,22.26,16.13,4.73,4.68,38.41,6.28,334.15,38.57,114.63,91.53,4.94,5.93,4.67,6.26,19.43,34.3,5.46,34.48,6.03,8.3,4.72,5.5,12.13,17.89,4.81,11.71,25.59,7.07,45.08,5.37,15.7,61.25,138.31,25.47,41.15,5.31,75.13,58.85,68.8,63.14,9.36,4.27,8.42,184.51,41.13,10.92,8.57,4.74,6.15,5.53,14.35,33.8,565.55,28.19,10.43,60.5,9.68,27.69,52.79,3.38,59.24,11.51,37.54,10.17,30.78,11.17,17.57,4.65,13.91,44.19,7.21,7.83,44.97,25.11,26.73,13.12,54.67,13.7,178.86,61.3,5.46,88.58,55.86,50.22,80.06,88.1,6.16,16.04,60.57,22.29,24.76,4.98,14.36,3.07,39.57,18.95,6.04,18.87,79.53,151.95,6.43,3.52,17.41,5.7,20.09,7.85,18.34,13.97,290.88,77.23,3.53,25.13,4.95,7.56,10.01,37.51,128.41,19.56,109.59,50.07,178.97,46.51,19.7,14.84,13.67,25.09,40.96,91.53,218.99,42.45,7.21,54.24,13.05,19.51,37.08,9.26,10.65,10.95,22.48,8.07,174.62,67.05,3.8,17.48,6.56,6.87,27.7,149.53,5.57,19.61,8.85,22.93,51.1,17.04,2.91,83.3,33.1,28.37,21.5,157.07,4.48,178.35,28.57,102.35,13.87,12.92,8.84,7.31,4.13,59.7,44.27,312.6,7.15,5.74,4.29,5.53,3.64,12.22,4.51,5.76,18.03,9.71,405.05,1.14,12.55,5.09,25.77,40.85,3.45,8.7,40.94,95.93,17.29,15.35,51.27,40.01,40.42,59.0,4.52,39.61,39.75,160.8,15.87,5.35,3.48,71.16,17.83,5.93,5.82,15.7,9.99,56.04,6.56,6.42,3.67,5.62,6.41,14.65,18.5,10.68,3.44,61.21,27.14,17.51,42.73,38.87,60.12,2.82,9.25,16.5,46.16,5.72,24.91,3.5,43.64,6.28,7.26,5.41,38.38,12.89,19.69,3.73,93.5,30.99,8.44,17.87,6.08,5.26,73.14,3.23,17.92,18.42,4.71,45.58,4.74,28.66,3.65,3.72,9.29,8.22,43.17,19.88,7.27,27.92,41.96,64.35,50.76,20.3,14.7,4.11,57.25,9.76,18.91,5.0,31.94,7.35,19.77,18.87,75.64,28.89,103.19,6.35,18.04,65.77,69.88,26.52,49.18,46.85,23.5,78.57,7.74,219.93,4.72,108.05,34.04,1.51,4.33,7.24,75.12,260.32,18.9,60.53,7.22,13.16,158.63,10.98,26.76,8.45,41.77,175.53,124.4,43.18,64.75,59.14,39.05,11.18,77.75,94.3,94.69,85.15,77.56,21.46,29.88,34.75,9.11,5.94,112.82,6.46,17.6,26.27,27.68,12.17,6.3,1.46,7.49,66.77,106.35,7.98,92.7,2.15,7.05,4.31,8.46,47.98,11.94,61.68,110.42,61.6,30.79,18.95,35.48,37.61,61.18,12.05,286.89,152.14,11.44,147.24,14.17,50.7,18.87,36.89,31.43,145.27,3.96,15.26,59.05,6.01,3.99,92.3,1.6,17.45,27.83,4.02,11.73,96.62,23.62,9.65,9.89,33.52,82.07,5.21,48.3,131.69,16.16,178.21,0.79,32.89,4.62,292.8,4.49,18.97,0.75,22.62,58.36,6.18,4.2,28.55,2.94,10.05,25.15,39.25,14.99,6.64,4.31,52.73,413.1,6.27,6.0,54.27,2.86,47.08,44.97,23.83,20.02,28.05,43.68,89.72,11.69,42.24,13.22,5.04,13.39,256.31,31.54,51.15,8.04,3.41,27.75,42.66,1.6,9.67,44.68,2.94,422.31,263.37,32.44,298.91,14.37,23.52,23.84,17.75,5.69,8.49,17.11,71.71,226.81,20.67,57.59,20.39,9.63,6.68,79.3,85.27,28.7,78.19,30.26,3.77,8.38,6.85,2.76,5.09,4.02,28.78,70.14,41.96,4.5,22.72,30.12,7.0,10.43,144.45,7.78,18.42,6.3,10.58,45.14,120.72,49.53,5.15,121.27,24.32,7.9,8.28,111.96,17.39,67.98,47.64,10.06,102.04,17.73,42.23,84.95,104.51,4.62,3.94,64.79,3.75,7.82,449.59,3.63,8.27,8.21,28.83,5.65,6.99,232.1,73.48,588.25,3768.66,65.56,4.15,14.64,10.65,17.22,125.59,1.24,36.82,5.86,7.11,61.86,3.9,23.9,94.85,7.28,18.65,36.15,27.93,6.02,37.18,5.42,22.81,7.1,7.03,3.92,66.1,269.03,3.27,120.24,24.63,10.9,29.44,283.04,28.64,21.44,4.55,40.05,106.37,281.25,9.92,18.58,3.11,55.83,14.86,7.47,6.02,8.89,5.67,5.54,66.05,7.54,21.57,18.07,97.27,515.71,116.94,101.21,10.99,7.86,5.88,3.43,198.59,28.83,64.04,13.09,110.02,34.62,7.08,5.78,128.22,66.32,117.64,3.4,33.5,11.85,122.0,14.35,42.52,46.53,223.36,57.11,18.76,7.05,50.05,3.25,22.09,20.66,4.2,3.65,6.74,12.27,4.01,6.42,4.63,4.95,105.87,70.31,23.15,9.24,38.58,3.41,61.18,2.74,6.53,15.9,7.56,136.94,75.07,8.61,34.08,124.59,13.69,63.81,69.53,25.53,2.88,9.29,17.79,2.35,20.76,18.19,100.49,2.9,7.36,35.4,6.52,85.88,190.45,59.08,29.21,25.14,7.71,25.44,229.55,4.44,19.04,49.7,183.79,120.1,5.66,10.29,65.05,48.62,4.43,11.77,2.67,11.26,58.82,6.54,14.21,64.46,5.57,70.29,99.42,7.24,37.17,65.89,8.61,26.56,17.41,56.96,10.37,96.28,23.68,220.86,18.2,47.26,19.31,4.02,15.34,45.33,9.73,3.54,10.31,4.19,4.67,5.4,10.55,11.99,95.38,10.32,393.07,9.7,16.47,22.94,120.86,37.28,16.89,62.51,861.85,69.18,792.6,4.74,59.86,4.24,3.88,4.5,393.29,51.26,63.23,3.78,88.0,22.38,28.04,54.02,89.49,3.82,49.79,4.31,42.93,3.63,11.54,6.53,3.81,18.81,58.79,18.73,29.22,60.08,5.45,5.74,6.45,48.16,35.36,5.0,4.09,55.06,8.82,6.41,91.69,5.43,28.07,27.71,80.06,121.63,17.31,4.76,59.18,105.99,96.15,32.02,10.01,10.04,9.49,55.63,3.91,34.03,4.15,47.18,68.89,38.59,717.93,52.0,7.56,51.24,56.18,8.53,6.9,8.48,84.01,35.99,25.11,160.79,117.47,4.79,43.9,25.37,4.6,20.5,90.53,58.52,58.24,7.23,22.33,39.65,46.01,111.34,144.3,59.76,90.17,48.95,12.57,4.13,166.43,119.99,37.84,72.86,6.38,5.68,9.65,203.21,5.63,4.32,60.2,13.95,70.92,4.78,19.15,16.07,5.02,3.71,4.24,26.54,1.59,41.88,51.62,20.88,53.87,23.22,11.02,38.21,87.41,49.59,5.08,4.36,23.42,46.67,15.11,6.61,5.51,320.96,94.22,48.13,69.2,226.73,4.52,16.76,95.77,58.79,3.98,4.67,4.13,4.02,27.47,5.16,7.67,156.18,60.47,8.09,7.16,865.48,14.37,231.75,7.46,80.47,38.97,33.26,43.21,3.29,6.14,9.72,4.76,3.82,18.62,43.91,185.33,7.07,108.79,19.81,46.14,13.08,5.11,37.43,53.88,3.97,47.03,4.29,3.92,4.52,29.39,28.46,6.7,14.79,3.78,60.93,7.69,26.94,35.72,105.97,393.2,66.69,7.52,10.92,399.73,96.59,60.32,6.84,173.67,94.23,11.18,13.65,6.57,5.77,12.85,37.51,7.87,299.38,85.22,4.43,12.06,86.5,22.89,151.91,6.76,15.25,20.96,12.46,3.18,72.69,6.24,30.22,4.17,93.44,32.42,20.78,9.2,48.91,53.25,161.39,4.55,5.87,47.02,70.4,5.94,145.97,10.04,141.88,6.73,26.48,22.63,7.31,11.42,47.78,14.82,63.34,34.61,3.28,4.24,63.21,42.71,4.45,7.53,3.44,65.95,53.65,48.45,6.96,81.24,249.46,104.74,55.23,32.81,5.07,19.68,96.2,56.25,9.23,6.64,8.38,136.07,404.21,91.49,58.59,78.36,11.09,39.4,83.76,29.7,27.06,60.83,229.2,41.65,30.45,29.56,358.57,19.84,5.36,43.28,63.87,19.28,14.1,4.64,8.12,8.93,29.93,12.98,50.57,2489.78,4.73,14.26,9.65,34.39,3.92,19.14,46.61,20.46,11.38,38.36,14.05,92.52,3.22,57.33,35.65,206.33,7.39,93.55,35.6,4.14,367.3,35.36,96.2,109.72,6.41,20.21,9.05,49.55,89.29,8.95,10.81,31.47,21.74,61.25,9.13,26.87,4.59,77.12,19.61,63.57,6.84,126.53,5.23,74.92,13.1,6.57,3.45,3.07,3.26,15.48,6.41,8.4,7.46,30.85,22.24,12.96,41.7,102.6,10.01,5.97,3.9,8.7,187.97,16.43,5.91,16.4,11.77,103.07,6.74,11.06,108.31,364.27,38.18,58.09,3.95,6.0,25.14,101.8,7.83,51.89,19.1,11.1,53.52,46.72,4.14,9.48,6.73,2.94,37.97,45.44,4.92,2.62,29.39,6.88,3.06,7.97,15.58,100.43,67.15,3.56,0.89,17.65,14.19,2.82,77.84,65.05,41.51,3.54,3.72,314.92,26.47,6.5,4.35,4.02,13.27,70.11,3.3,22.83,68.89,21.87,9.56,65.27,4.8,3.42,4.35,10.87,7.37,9.43,5.61,14.77,3.31,139.27,28.61,20.76,18.01,42.57,286.33,423.57,5.19,4.15,4.71,3.85,5.37,11.29,8.1,5.14,5.88,8.66,8.29,5.91,5.38,5.79,4.72,5.28,2.45,67.33,62.94,4.8,15.5,26.67,3.55,5.21,3.9,6.49,9.25,9.4,21.51,115.34,5.73,53.02,338.58,4.8,9.09,128.07,28.79,59.74,25.37,83.65,46.32,88.11,101.43,53.35,5.09,0.87,23.51,104.33,4.15,111.04,7.31,16.3,59.53,13.34,27.04,11.32,63.22,4.04,55.73,51.2,39.31,51.14,6.93,118.45,54.02,5.38,18.02,3.95,150.23,10.61,4.79,70.39,46.7,64.86,4.87,5.21,16.31,7.12,49.58,127.05,30.14,24.97,6.43,2.85,4.76,99.26,4.71,3.96,103.42,31.54,75.95,58.87,6.54,68.39,43.97,4.96,66.43,47.92,23.63,119.76,43.04,67.96,5.07,17.61,8.33,7.47,6.41,12.06,22.18,5.07,9.29,458.44,38.71,255.97,66.7,124.77,3.39,39.75,17.97,8.59,157.88,402.04,132.7,49.44,7.8,3.56,3.78,3.92,28.78,106.86,26.37,102.54,156.45,21.05,13.85,122.7,30.35,92.07,159.8,144.57,61.62,273.91,111.62,120.92,58.44,29.18,89.8,441.94,70.46,27.56,81.18,176.75,72.02,24.82,193.36,7.21,5.38,83.45,48.85,137.66,295.42,12.43,3.63,236.05,37.83,391.7,32.72,145.11,30.03,28.85,4.01,270.63,6.98,6.64,4.49,34.22,303.69,186.16,154.39,11.4,66.37,5.87,139.12,11.91,5.51,21.37,155.47,90.73,53.12,158.6,2549.47,47.14,537.03,30.78,94.63,376.57,163.19,9.46,35.43,15.5,265.21,100.59,549.11,95.26,4.64,619.9,170.98,65.19,175.46,191.97,39.88,38.17,80.27,12.56,38.92,1597.56,542.74,87.18,287.57,99.65,1789.69,123.15,6.93,8.65,73.39,144.41,325.94,76.5,54.04,122.35,16.82,352.77,147.84,24.54,57.59,9.95,290.57,68.98,1088.25,47.93,161.23,23.14,6.04,251.43,24.7,9.86,51.59,176.88,9.5,49.26,20.1,5.47,57.59,24.38,8.63,77.29,138.79,20.58,21.18,67.17,184.81,17.81,22.76,142.48,54.98,809.76,14.04,42.2,75.96,30.72,8.36,124.68,16.13,280.35,52.55,265.63,77.99,93.31,197.27,62.23,46.79,22.23,181.67,65.35,107.29,38.13,457.51,23.37,221.47,130.6,107.51,29.4,74.3,1280.81,68.04,7.49,6330.91,190.05,58.28,82.58,167.48,10.8,159.16,16.1,51.39,11140.56,25.93,103.65,199.48,437.2,48.53,62.41,213.7,43.06,28.94,18.9,4.32,691.57,175.44,42.81,17.77,9.91,59.33,184.15,127.53,9.76,17.8,34.11,9.71,123.99,33.09,64.39,30.41,622.23,40.99,172.46,49.89,12.18,27.71,22.5,4.81,115.73,163.02,65.01,9.0,8.11,134.8,86.99,238.78,214.19,63.87,50.32,147.14,4.38,91.98,205.45,202.12,74.88,165.61,8.7,40.25,245.16,31.46,14.83,71.96,395.26,5.46,6.74,50.23,131.02,157.7,51.26,12.21,124.18,86.25,103.37,9.24,205.52,31.55,28.08,75.62,54.76,467.9,15.07,1000.06,96.9,18.88,22.17,4.44,29.18,23.0,14.37,24.73,216.18,3.5,259.22,60.81,7.79,20.33,20.94,32.17,223.54,22.11,41.27],\"yaxis\":\"y\",\"type\":\"scattergl\"}],                        {\"template\":{\"data\":{\"histogram2dcontour\":[{\"type\":\"histogram2dcontour\",\"colorbar\":{\"outlinewidth\":0,\"ticks\":\"\"},\"colorscale\":[[0.0,\"#0d0887\"],[0.1111111111111111,\"#46039f\"],[0.2222222222222222,\"#7201a8\"],[0.3333333333333333,\"#9c179e\"],[0.4444444444444444,\"#bd3786\"],[0.5555555555555556,\"#d8576b\"],[0.6666666666666666,\"#ed7953\"],[0.7777777777777778,\"#fb9f3a\"],[0.8888888888888888,\"#fdca26\"],[1.0,\"#f0f921\"]]}],\"choropleth\":[{\"type\":\"choropleth\",\"colorbar\":{\"outlinewidth\":0,\"ticks\":\"\"}}],\"histogram2d\":[{\"type\":\"histogram2d\",\"colorbar\":{\"outlinewidth\":0,\"ticks\":\"\"},\"colorscale\":[[0.0,\"#0d0887\"],[0.1111111111111111,\"#46039f\"],[0.2222222222222222,\"#7201a8\"],[0.3333333333333333,\"#9c179e\"],[0.4444444444444444,\"#bd3786\"],[0.5555555555555556,\"#d8576b\"],[0.6666666666666666,\"#ed7953\"],[0.7777777777777778,\"#fb9f3a\"],[0.8888888888888888,\"#fdca26\"],[1.0,\"#f0f921\"]]}],\"heatmap\":[{\"type\":\"heatmap\",\"colorbar\":{\"outlinewidth\":0,\"ticks\":\"\"},\"colorscale\":[[0.0,\"#0d0887\"],[0.1111111111111111,\"#46039f\"],[0.2222222222222222,\"#7201a8\"],[0.3333333333333333,\"#9c179e\"],[0.4444444444444444,\"#bd3786\"],[0.5555555555555556,\"#d8576b\"],[0.6666666666666666,\"#ed7953\"],[0.7777777777777778,\"#fb9f3a\"],[0.8888888888888888,\"#fdca26\"],[1.0,\"#f0f921\"]]}],\"heatmapgl\":[{\"type\":\"heatmapgl\",\"colorbar\":{\"outlinewidth\":0,\"ticks\":\"\"},\"colorscale\":[[0.0,\"#0d0887\"],[0.1111111111111111,\"#46039f\"],[0.2222222222222222,\"#7201a8\"],[0.3333333333333333,\"#9c179e\"],[0.4444444444444444,\"#bd3786\"],[0.5555555555555556,\"#d8576b\"],[0.6666666666666666,\"#ed7953\"],[0.7777777777777778,\"#fb9f3a\"],[0.8888888888888888,\"#fdca26\"],[1.0,\"#f0f921\"]]}],\"contourcarpet\":[{\"type\":\"contourcarpet\",\"colorbar\":{\"outlinewidth\":0,\"ticks\":\"\"}}],\"contour\":[{\"type\":\"contour\",\"colorbar\":{\"outlinewidth\":0,\"ticks\":\"\"},\"colorscale\":[[0.0,\"#0d0887\"],[0.1111111111111111,\"#46039f\"],[0.2222222222222222,\"#7201a8\"],[0.3333333333333333,\"#9c179e\"],[0.4444444444444444,\"#bd3786\"],[0.5555555555555556,\"#d8576b\"],[0.6666666666666666,\"#ed7953\"],[0.7777777777777778,\"#fb9f3a\"],[0.8888888888888888,\"#fdca26\"],[1.0,\"#f0f921\"]]}],\"surface\":[{\"type\":\"surface\",\"colorbar\":{\"outlinewidth\":0,\"ticks\":\"\"},\"colorscale\":[[0.0,\"#0d0887\"],[0.1111111111111111,\"#46039f\"],[0.2222222222222222,\"#7201a8\"],[0.3333333333333333,\"#9c179e\"],[0.4444444444444444,\"#bd3786\"],[0.5555555555555556,\"#d8576b\"],[0.6666666666666666,\"#ed7953\"],[0.7777777777777778,\"#fb9f3a\"],[0.8888888888888888,\"#fdca26\"],[1.0,\"#f0f921\"]]}],\"mesh3d\":[{\"type\":\"mesh3d\",\"colorbar\":{\"outlinewidth\":0,\"ticks\":\"\"}}],\"scatter\":[{\"fillpattern\":{\"fillmode\":\"overlay\",\"size\":10,\"solidity\":0.2},\"type\":\"scatter\"}],\"parcoords\":[{\"type\":\"parcoords\",\"line\":{\"colorbar\":{\"outlinewidth\":0,\"ticks\":\"\"}}}],\"scatterpolargl\":[{\"type\":\"scatterpolargl\",\"marker\":{\"colorbar\":{\"outlinewidth\":0,\"ticks\":\"\"}}}],\"bar\":[{\"error_x\":{\"color\":\"#2a3f5f\"},\"error_y\":{\"color\":\"#2a3f5f\"},\"marker\":{\"line\":{\"color\":\"#E5ECF6\",\"width\":0.5},\"pattern\":{\"fillmode\":\"overlay\",\"size\":10,\"solidity\":0.2}},\"type\":\"bar\"}],\"scattergeo\":[{\"type\":\"scattergeo\",\"marker\":{\"colorbar\":{\"outlinewidth\":0,\"ticks\":\"\"}}}],\"scatterpolar\":[{\"type\":\"scatterpolar\",\"marker\":{\"colorbar\":{\"outlinewidth\":0,\"ticks\":\"\"}}}],\"histogram\":[{\"marker\":{\"pattern\":{\"fillmode\":\"overlay\",\"size\":10,\"solidity\":0.2}},\"type\":\"histogram\"}],\"scattergl\":[{\"type\":\"scattergl\",\"marker\":{\"colorbar\":{\"outlinewidth\":0,\"ticks\":\"\"}}}],\"scatter3d\":[{\"type\":\"scatter3d\",\"line\":{\"colorbar\":{\"outlinewidth\":0,\"ticks\":\"\"}},\"marker\":{\"colorbar\":{\"outlinewidth\":0,\"ticks\":\"\"}}}],\"scattermapbox\":[{\"type\":\"scattermapbox\",\"marker\":{\"colorbar\":{\"outlinewidth\":0,\"ticks\":\"\"}}}],\"scatterternary\":[{\"type\":\"scatterternary\",\"marker\":{\"colorbar\":{\"outlinewidth\":0,\"ticks\":\"\"}}}],\"scattercarpet\":[{\"type\":\"scattercarpet\",\"marker\":{\"colorbar\":{\"outlinewidth\":0,\"ticks\":\"\"}}}],\"carpet\":[{\"aaxis\":{\"endlinecolor\":\"#2a3f5f\",\"gridcolor\":\"white\",\"linecolor\":\"white\",\"minorgridcolor\":\"white\",\"startlinecolor\":\"#2a3f5f\"},\"baxis\":{\"endlinecolor\":\"#2a3f5f\",\"gridcolor\":\"white\",\"linecolor\":\"white\",\"minorgridcolor\":\"white\",\"startlinecolor\":\"#2a3f5f\"},\"type\":\"carpet\"}],\"table\":[{\"cells\":{\"fill\":{\"color\":\"#EBF0F8\"},\"line\":{\"color\":\"white\"}},\"header\":{\"fill\":{\"color\":\"#C8D4E3\"},\"line\":{\"color\":\"white\"}},\"type\":\"table\"}],\"barpolar\":[{\"marker\":{\"line\":{\"color\":\"#E5ECF6\",\"width\":0.5},\"pattern\":{\"fillmode\":\"overlay\",\"size\":10,\"solidity\":0.2}},\"type\":\"barpolar\"}],\"pie\":[{\"automargin\":true,\"type\":\"pie\"}]},\"layout\":{\"autotypenumbers\":\"strict\",\"colorway\":[\"#636efa\",\"#EF553B\",\"#00cc96\",\"#ab63fa\",\"#FFA15A\",\"#19d3f3\",\"#FF6692\",\"#B6E880\",\"#FF97FF\",\"#FECB52\"],\"font\":{\"color\":\"#2a3f5f\"},\"hovermode\":\"closest\",\"hoverlabel\":{\"align\":\"left\"},\"paper_bgcolor\":\"white\",\"plot_bgcolor\":\"#E5ECF6\",\"polar\":{\"bgcolor\":\"#E5ECF6\",\"angularaxis\":{\"gridcolor\":\"white\",\"linecolor\":\"white\",\"ticks\":\"\"},\"radialaxis\":{\"gridcolor\":\"white\",\"linecolor\":\"white\",\"ticks\":\"\"}},\"ternary\":{\"bgcolor\":\"#E5ECF6\",\"aaxis\":{\"gridcolor\":\"white\",\"linecolor\":\"white\",\"ticks\":\"\"},\"baxis\":{\"gridcolor\":\"white\",\"linecolor\":\"white\",\"ticks\":\"\"},\"caxis\":{\"gridcolor\":\"white\",\"linecolor\":\"white\",\"ticks\":\"\"}},\"coloraxis\":{\"colorbar\":{\"outlinewidth\":0,\"ticks\":\"\"}},\"colorscale\":{\"sequential\":[[0.0,\"#0d0887\"],[0.1111111111111111,\"#46039f\"],[0.2222222222222222,\"#7201a8\"],[0.3333333333333333,\"#9c179e\"],[0.4444444444444444,\"#bd3786\"],[0.5555555555555556,\"#d8576b\"],[0.6666666666666666,\"#ed7953\"],[0.7777777777777778,\"#fb9f3a\"],[0.8888888888888888,\"#fdca26\"],[1.0,\"#f0f921\"]],\"sequentialminus\":[[0.0,\"#0d0887\"],[0.1111111111111111,\"#46039f\"],[0.2222222222222222,\"#7201a8\"],[0.3333333333333333,\"#9c179e\"],[0.4444444444444444,\"#bd3786\"],[0.5555555555555556,\"#d8576b\"],[0.6666666666666666,\"#ed7953\"],[0.7777777777777778,\"#fb9f3a\"],[0.8888888888888888,\"#fdca26\"],[1.0,\"#f0f921\"]],\"diverging\":[[0,\"#8e0152\"],[0.1,\"#c51b7d\"],[0.2,\"#de77ae\"],[0.3,\"#f1b6da\"],[0.4,\"#fde0ef\"],[0.5,\"#f7f7f7\"],[0.6,\"#e6f5d0\"],[0.7,\"#b8e186\"],[0.8,\"#7fbc41\"],[0.9,\"#4d9221\"],[1,\"#276419\"]]},\"xaxis\":{\"gridcolor\":\"white\",\"linecolor\":\"white\",\"ticks\":\"\",\"title\":{\"standoff\":15},\"zerolinecolor\":\"white\",\"automargin\":true,\"zerolinewidth\":2},\"yaxis\":{\"gridcolor\":\"white\",\"linecolor\":\"white\",\"ticks\":\"\",\"title\":{\"standoff\":15},\"zerolinecolor\":\"white\",\"automargin\":true,\"zerolinewidth\":2},\"scene\":{\"xaxis\":{\"backgroundcolor\":\"#E5ECF6\",\"gridcolor\":\"white\",\"linecolor\":\"white\",\"showbackground\":true,\"ticks\":\"\",\"zerolinecolor\":\"white\",\"gridwidth\":2},\"yaxis\":{\"backgroundcolor\":\"#E5ECF6\",\"gridcolor\":\"white\",\"linecolor\":\"white\",\"showbackground\":true,\"ticks\":\"\",\"zerolinecolor\":\"white\",\"gridwidth\":2},\"zaxis\":{\"backgroundcolor\":\"#E5ECF6\",\"gridcolor\":\"white\",\"linecolor\":\"white\",\"showbackground\":true,\"ticks\":\"\",\"zerolinecolor\":\"white\",\"gridwidth\":2}},\"shapedefaults\":{\"line\":{\"color\":\"#2a3f5f\"}},\"annotationdefaults\":{\"arrowcolor\":\"#2a3f5f\",\"arrowhead\":0,\"arrowwidth\":1},\"geo\":{\"bgcolor\":\"white\",\"landcolor\":\"#E5ECF6\",\"subunitcolor\":\"white\",\"showland\":true,\"showlakes\":true,\"lakecolor\":\"white\"},\"title\":{\"x\":0.05},\"mapbox\":{\"style\":\"light\"}}},\"xaxis\":{\"anchor\":\"y\",\"domain\":[0.0,1.0],\"title\":{\"text\":\"age\"}},\"yaxis\":{\"anchor\":\"x\",\"domain\":[0.0,1.0],\"title\":{\"text\":\"totalghgemissions\"}},\"legend\":{\"tracegroupgap\":0,\"itemsizing\":\"constant\"},\"title\":{\"text\":\"Adaptation des politiques de r\\u00e9habilitation des immeubles\"}},                        {\"responsive\": true}                    ).then(function(){\n",
              "                            \n",
              "var gd = document.getElementById('d70bdcd4-944c-47bb-854a-c7e8b734f951');\n",
              "var x = new MutationObserver(function (mutations, observer) {{\n",
              "        var display = window.getComputedStyle(gd).display;\n",
              "        if (!display || display === 'none') {{\n",
              "            console.log([gd, 'removed!']);\n",
              "            Plotly.purge(gd);\n",
              "            observer.disconnect();\n",
              "        }}\n",
              "}});\n",
              "\n",
              "// Listen for the removal of the full notebook cells\n",
              "var notebookContainer = gd.closest('#notebook-container');\n",
              "if (notebookContainer) {{\n",
              "    x.observe(notebookContainer, {childList: true});\n",
              "}}\n",
              "\n",
              "// Listen for the clearing of the current output cell\n",
              "var outputEl = gd.closest('.output');\n",
              "if (outputEl) {{\n",
              "    x.observe(outputEl, {childList: true});\n",
              "}}\n",
              "\n",
              "                        })                };                            </script>        </div>\n",
              "</body>\n",
              "</html>"
            ]
          },
          "metadata": {}
        },
        {
          "output_type": "display_data",
          "data": {
            "text/plain": [
              "<IPython.core.display.Javascript object>"
            ],
            "application/javascript": [
              "\n",
              "    async function download(id, filename, size) {\n",
              "      if (!google.colab.kernel.accessAllowed) {\n",
              "        return;\n",
              "      }\n",
              "      const div = document.createElement('div');\n",
              "      const label = document.createElement('label');\n",
              "      label.textContent = `Downloading \"${filename}\": `;\n",
              "      div.appendChild(label);\n",
              "      const progress = document.createElement('progress');\n",
              "      progress.max = size;\n",
              "      div.appendChild(progress);\n",
              "      document.body.appendChild(div);\n",
              "\n",
              "      const buffers = [];\n",
              "      let downloaded = 0;\n",
              "\n",
              "      const channel = await google.colab.kernel.comms.open(id);\n",
              "      // Send a message to notify the kernel that we're ready.\n",
              "      channel.send({})\n",
              "\n",
              "      for await (const message of channel.messages) {\n",
              "        // Send a message to notify the kernel that we're ready.\n",
              "        channel.send({})\n",
              "        if (message.buffers) {\n",
              "          for (const buffer of message.buffers) {\n",
              "            buffers.push(buffer);\n",
              "            downloaded += buffer.byteLength;\n",
              "            progress.value = downloaded;\n",
              "          }\n",
              "        }\n",
              "      }\n",
              "      const blob = new Blob(buffers, {type: 'application/binary'});\n",
              "      const a = document.createElement('a');\n",
              "      a.href = window.URL.createObjectURL(blob);\n",
              "      a.download = filename;\n",
              "      div.appendChild(a);\n",
              "      a.click();\n",
              "      div.remove();\n",
              "    }\n",
              "  "
            ]
          },
          "metadata": {}
        },
        {
          "output_type": "display_data",
          "data": {
            "text/plain": [
              "<IPython.core.display.Javascript object>"
            ],
            "application/javascript": [
              "download(\"download_3b913118-945f-403b-8789-780a3380a00a\", \"age.html\", 3633225)"
            ]
          },
          "metadata": {}
        }
      ]
    },
    {
      "cell_type": "markdown",
      "source": [
        "Outre les immeubles très anciens, ceux qui ont entre 20 et 40 ans pourraient être intégrés dans les politiques de subventionnement des travaux."
      ],
      "metadata": {
        "id": "8sJhHHES0Cpb"
      }
    },
    {
      "cell_type": "code",
      "source": [
        "fig = px.scatter(df, x='energystarscore', y='totalghgemissions', size='totalghgemissions', color_discrete_sequence=['blue'], title=\"Nécessité d'un nouveau label Energy Star\")\n",
        "fig.show()\n",
        "fig.write_html('estar.html')\n",
        "files.download('estar.html')"
      ],
      "metadata": {
        "colab": {
          "base_uri": "https://localhost:8080/",
          "height": 542
        },
        "id": "7B8wAAjl_pia",
        "outputId": "4d1f651f-423c-4f57-a1e5-c7f2b6ed4fdb"
      },
      "execution_count": 184,
      "outputs": [
        {
          "output_type": "display_data",
          "data": {
            "text/html": [
              "<html>\n",
              "<head><meta charset=\"utf-8\" /></head>\n",
              "<body>\n",
              "    <div>            <script src=\"https://cdnjs.cloudflare.com/ajax/libs/mathjax/2.7.5/MathJax.js?config=TeX-AMS-MML_SVG\"></script><script type=\"text/javascript\">if (window.MathJax && window.MathJax.Hub && window.MathJax.Hub.Config) {window.MathJax.Hub.Config({SVG: {font: \"STIX-Web\"}});}</script>                <script type=\"text/javascript\">window.PlotlyConfig = {MathJaxConfig: 'local'};</script>\n",
              "        <script src=\"https://cdn.plot.ly/plotly-2.18.2.min.js\"></script>                <div id=\"57aaa67b-9efc-426f-8b77-72f87700dfee\" class=\"plotly-graph-div\" style=\"height:525px; width:100%;\"></div>            <script type=\"text/javascript\">                                    window.PLOTLYENV=window.PLOTLYENV || {};                                    if (document.getElementById(\"57aaa67b-9efc-426f-8b77-72f87700dfee\")) {                    Plotly.newPlot(                        \"57aaa67b-9efc-426f-8b77-72f87700dfee\",                        [{\"hovertemplate\":\"energystarscore=%{x}<br>totalghgemissions=%{marker.size}<extra></extra>\",\"legendgroup\":\"\",\"marker\":{\"color\":\"blue\",\"size\":[249.98,295.86,2089.28,286.43,505.01,301.81,176.14,221.51,392.16,151.12,691.26,740.97,328.23,648.62,511.39,181.38,433.86,802.89,273.02,349.32,1265.29,1699.45,38.53,90.01,388.04,9.13,256.57,328.63,128.44,270.18,10.43,157.77,215.0,3.93,16870.98,311.84,31.47,266.05,130.56,83.86,247.85,45.43,295.33,66.48,33.26,35.36,584.31,59.19,2451.58,134.38,227.18,144.79,199.95,162.39,152.76,146.34,171.64,87.98,1727.11,609.1,67.06,4.19,430.84,262.75,481.97,39.06,138.85,526.85,607.41,344.2,804.2,617.52,101.83,6.11,490.73,29.04,674.09,48.76,152.14,191.2,11.84,78.85,243.23,34.14,16.36,238.48,20.48,84.75,44.32,133.58,127.29,124.92,443.73,89.02,14.67,142.39,429.12,1990.5,10.55,176.75,46.26,228.4,170.84,74.33,866.23,222.02,204.08,359.09,56.82,41.74,94.64,61.21,100.46,104.26,129.39,222.78,422.39,54.07,2055.82,49.58,723.47,231.53,66.3,8145.52,83.7,123.71,51.11,362.82,242.36,206.01,69.44,328.97,229.38,297.43,35.78,369.14,272.85,73.47,170.9,59.34,46.36,48.99,80.08,309.6,225.69,3.0,338.16,49.12,175.77,21.29,208.26,168.88,28.27,892.63,96.43,27.39,1246.55,388.37,16.81,270.97,748.55,162.41,92.91,279.35,1638.46,4906.33,36.24,9.63,10734.57,193.94,207.79,145.31,72.88,469.57,49.09,84.57,149.93,225.19,71.86,43.98,69.42,16.0,201.05,57.21,254.87,433.6,50.52,59.63,23.8,226.06,101.41,661.04,1060.13,639.39,780.84,301.76,377.27,44.22,26.39,68.24,68.19,149.27,172.58,398.19,313.3,359.11,170.51,100.26,26.19,563.25,229.25,222.19,275.54,130.73,51.67,31.97,213.23,70.15,940.47,318.97,171.52,46.56,26.1,139.72,231.32,218.53,627.87,287.32,546.65,175.95,429.27,380.37,298.61,216.24,70.17,89.47,198.34,209.41,119.03,30.86,49.12,6.09,168.88,72.42,197.19,176.43,91.13,141.95,103.97,46.03,208.79,384.27,24.91,741.3,78.92,355.05,530.66,1084.79,337.97,2573.75,162.45,116.03,48.65,21.51,40.46,70.47,156.67,224.36,588.9,1510.85,530.18,193.72,36.61,148.11,131.4,65.2,51.14,1468.5,318.08,18.03,202.99,238.09,793.05,74.83,48.54,20.98,316.2,185.03,147.75,525.78,216.43,135.23,33.17,31.72,92.92,100.65,281.55,44.48,418.9,328.83,249.09,130.69,201.15,147.49,456.22,530.59,243.66,114.14,13.86,117.11,5.32,236.9,5.44,30.27,21.36,39.47,374.92,35.8,42.03,38.59,33.06,93.23,32.73,454.49,349.07,1268.87,20.86,326.18,40.47,269.71,849.83,22.57,61.93,29.53,632.4,94.64,3995.45,726.96,122.68,69.59,74.1,587.16,1019.53,23.81,25.32,24.35,24.29,477.87,77.99,163.83,22.44,1032.63,277.98,45.47,121.98,41.8,80.32,47.94,110.46,10.24,226.43,237.39,553.27,158.92,34.9,27.17,37.74,94.47,85.01,1623.34,53.57,17.17,32.22,120.24,8.15,413.35,3.25,25.58,33.18,53.25,2.8,237.36,59.21,42.65,76.68,10.72,3.62,46.93,28.63,6.32,38.48,204.81,152.71,32.02,74.31,142.36,414.43,272.54,54.92,190.61,38.55,90.24,49.17,85.28,262.45,247.35,33.85,42.25,63.89,35.8,129.29,293.55,46.49,44.35,22.1,57.73,58.88,49.28,33.22,34.0,58.67,611.19,295.48,91.1,1156.45,45.22,23.86,49.9,107.83,22.12,65.3,49.74,107.16,20.29,39.5,64.0,640.71,406.02,365.79,39.47,8.73,25.74,306.5,19.73,134.69,19.89,76.8,26.04,24.89,130.31,99.59,22.39,13.28,31.58,65.56,132.6,74.18,15.65,30.5,16.48,41.18,18.74,190.1,7.37,138.35,20.18,67.78,182.14,180.76,445.62,98.43,47.25,810.7,100.42,49.25,42.74,33.41,59.75,477.85,58.43,67.29,25.3,692.12,734.72,185.39,481.06,17.28,40.38,94.74,130.32,357.39,282.46,21.37,23.48,35.56,310.19,530.62,58.52,116.95,13.71,270.17,111.69,138.39,36.49,30.61,98.54,357.86,60.7,55.73,177.62,5.59,54.78,103.57,116.74,88.74,70.09,119.81,8.8,50.17,47.39,97.82,69.02,119.46,157.48,7.08,95.86,75.29,19.86,155.74,48.5,178.62,34.14,67.65,168.5,25.37,293.56,33.58,86.9,710.7,61.86,38.21,47.82,314.43,1154.79,68.06,65.03,260.13,119.93,147.82,246.83,346.62,1921.82,882.56,110.7,582.28,109.85,109.16,324.25,150.88,133.8,27.82,54.4,20.12,426.39,639.72,132.71,119.03,41.8,13.72,169.06,264.78,89.41,9.31,31.43,390.67,94.59,51.56,30.35,73.58,179.45,89.94,111.23,46.52,152.28,60.92,13.61,75.12,1.06,131.64,89.53,158.55,119.92,195.43,166.13,99.14,455.39,29.16,67.51,74.45,24.12,4.22,4.2,106.12,95.03,95.54,79.39,110.41,13.64,20.94,69.3,27.24,12307.16,406.04,20.85,133.5,54.18,14.49,453.76,341.23,278.97,7.56,284.01,295.12,9.99,109.71,259.49,13.07,189.85,134.82,16.27,267.0,13.51,49.29,128.73,5.03,8.14,25.6,4.85,343.68,12.15,6.02,65.25,4.75,31.74,89.08,95.26,62.17,60.18,30.52,11.29,24.39,276.63,17.87,101.5,3.91,36.02,63.86,44.01,38.9,16.11,13.23,43.84,4.74,53.21,3.18,6.72,25.6,4.58,70.76,19.01,21.69,122.83,86.46,3.58,77.04,2.41,2.57,4.16,43.2,416.07,4.43,21.93,62.46,16.01,22.65,37.78,9.77,9.47,130.28,50.55,113.91,106.77,30.41,6.74,28.47,66.44,6.1,18.6,145.35,29.04,29.33,29.71,50.46,69.57,80.47,71.06,29.84,169.75,7.77,16.58,132.47,17.02,5.71,3.99,4.43,2.7,83.59,63.48,4.29,7.02,51.58,207.6,29.62,141.2,374.56,18.5,9.82,42.19,63.36,138.03,6.43,52.25,54.59,25.24,19.83,3.54,24.02,31.76,7.13,3.95,43.8,154.4,9.58,32.51,6.87,13.1,54.53,4.52,3.88,5.81,11.7,11.6,6.22,39.57,9.81,4.8,15.27,82.9,6.33,49.58,38.97,18.1,11.68,154.17,29.54,7.1,79.21,25.21,14.22,93.87,9.95,6.16,24.25,15.24,13.87,8.68,14.63,28.81,40.28,47.84,60.43,33.78,16.63,154.89,2.92,66.29,151.36,369.68,25.41,174.99,23.27,6.75,47.32,12.95,41.69,126.78,594.48,1266.06,11.14,24.48,100.71,26.78,4.77,10.83,7.28,99.44,44.61,86.02,78.36,25.12,103.18,5.18,26.09,27.27,98.59,658.76,30.33,72.78,30.6,23.82,165.86,12.74,56.63,93.68,3.63,73.2,9.29,35.2,9.65,6.13,19.72,4.33,4.84,36.43,86.66,4.01,10.34,9.66,14.83,26.89,5.62,16.47,19.65,15.43,4.22,13.91,3.95,47.12,63.61,28.41,47.66,184.8,17.67,46.57,101.99,40.38,25.2,66.82,126.44,74.92,126.3,99.15,332.85,137.94,119.63,43.03,25.39,9.57,18.66,32.64,303.36,36.28,6.91,33.23,34.98,6.64,64.51,200.3,122.99,79.58,8.45,38.87,6.49,4.86,262.98,5.35,32.22,6.39,67.23,4.16,23.59,10.44,9.48,218.2,7.87,5.19,155.54,6.69,37.31,38.78,4.2,3.56,13.44,4.14,8.14,87.31,4.39,5.67,4.8,4.99,4.32,4.43,4.08,4.76,6.18,15.97,21.97,63.68,118.37,59.61,89.57,4.96,5.46,4.92,26.21,5.66,13.14,39.49,21.55,51.28,7.98,8.64,43.57,52.09,4.35,6.61,11.18,24.51,20.09,27.14,202.65,19.76,4.23,3.24,7.08,5.95,3.41,10.77,20.08,355.8,61.84,23.15,16.67,26.11,4.04,131.87,15.11,33.37,49.98,0.63,120.91,145.48,63.41,19.07,122.59,130.58,15.9,185.23,89.29,43.45,35.04,188.67,71.55,188.07,100.21,13.29,128.91,210.3,34.15,6.33,4.28,73.31,50.43,8.61,7.62,1.86,178.46,134.57,69.15,17.68,261.09,10.75,43.13,12.61,15.68,13.16,33.92,147.0,9.93,25.93,9.99,41.68,12.48,5.17,19.93,19.82,13.02,19.04,46.75,63.06,10.05,40.51,0.82,8.1,5.51,3.89,1.73,11.28,247.85,37.2,83.1,93.83,6.9,74.33,5.29,4.15,1.7,61.71,46.64,65.65,10.75,39.05,104.91,4.78,1.67,50.31,50.69,94.98,5.28,31.6,4.83,15.35,71.99,67.52,28.58,61.53,88.89,10.89,82.87,32.33,33.92,35.26,199.79,92.58,47.7,90.31,29.82,7.91,47.59,19.76,101.96,28.44,408.82,127.74,551.53,9.67,18.85,8.64,61.46,4.28,6.08,6.94,11.54,115.56,20.73,6.52,8.7,62.94,2.52,6.18,17.26,32.8,81.82,10.44,51.91,4.27,23.59,8.97,8.2,39.5,72.26,11.27,534.88,6.7,480.9,15.47,68.14,29.97,16.99,100.02,32.63,106.45,51.13,3.95,68.97,29.41,16.33,69.77,235.26,3.06,348.22,10.26,8.85,3.16,64.81,45.79,81.96,1.55,3.73,18.16,3.54,14.49,10.74,62.83,28.09,264.43,82.93,4.95,312.13,3.34,60.29,13.71,36.92,27.93,221.1,46.48,82.38,195.71,1216.05,149.91,94.85,148.55,188.58,60.88,110.17,25.53,9.0,42.04,8.47,25.02,30.32,66.53,9.46,73.52,18.34,27.47,82.34,5.41,44.71,16.06,7.49,23.85,38.12,11.29,16.13,19.39,8.49,30.02,28.6,336.73,32.99,66.19,12.49,4.76,127.1,234.6,49.58,40.22,20.78,15.9,122.73,10.36,32.86,12.35,515.85,10.12,176.79,13.01,36.74,173.94,45.33,59.06,61.98,180.38,65.02,79.58,17.12,8.8,8.89,12.77,12.59,4.12,12.19,104.61,72.37,31.24,13.89,10.75,23.74,23.78,40.76,26.38,247.97,55.71,20.76,20.9,48.35,9.3,73.61,38.85,32.47,101.34,94.02,159.98,74.64,46.6,14.04,479.7,71.23,21.66,79.81,12.72,106.73,709.11,69.54,8.54,85.55,107.45,6.07,462.4,60.04,55.61,123.41,295.38,8.53,170.83,37.34,1.12,31.61,34.87,16.57,73.0,82.72,35.77,487.53,32.09,73.48,184.09,161.15,20.64,255.83,24.62,192.12,523.95,41.06,13.97,77.8,234.03,3.77,86.51,13.33,47.68,3.94,241.75,60.59,119.34,44.33,8.77,77.48,1148.5,98.28,13.43,94.01,26.34,218.79,44.89,348.21,110.73,14.05,11.97,17.14,12.98,143.34,34.16,38.51,45.81,72.5,14.13,75.99,82.92,2.01,125.13,12.64,22.46,41.22,182.81,34.02,4.69,3.04,193.47,220.26,10.73,75.25,30.22,39.35,4.05,52.74,77.76,6.13,422.45,115.43,15.17,3.69,8.18,6.26,120.6,8.25,10.15,3.54,46.46,22.53,35.96,55.95,4.83,11.87,50.67,24.42,6.84,10.38,2.27,167.98,111.73,20.12,5.97,12.25,7.34,20.9,117.19,4.21,77.16,21.55,75.58,7.07,7.57,4.13,14.45,26.27,139.73,4.53,25.36,74.42,10.82,42.1,56.62,11.53,5.5,5.49,43.19,57.69,37.72,54.44,13.27,44.93,35.39,3.49,96.4,39.1,95.5,45.11,4.38,5.91,6.59,62.19,260.38,92.45,4.45,4.42,86.81,102.04,52.57,54.86,73.26,12.18,16.87,71.15,201.31,9.58,123.23,913.07,32.13,207.71,4.7,3.71,4.77,5.66,6.35,13.75,671.55,225.66,27.97,9.42,15.62,18.63,2.64,26.55,7.59,118.41,22.56,7.22,14.3,13.18,18.54,6.44,5.63,5.55,16.72,7.96,6.63,109.46,6.84,11.84,240.39,509.36,7.48,6.79,203.73,474.86,1.85,21.08,7.61,4.72,103.28,23.9,80.09,32.77,9.08,4.88,24.88,135.81,6.99,49.62,5.97,27.41,53.73,49.73,225.67,26.46,3.98,285.62,372.55,5.08,43.52,8.99,173.23,17.3,15.11,423.51,17.38,3.95,5.44,281.47,300.11,52.04,3243.48,34.0,64.88,0.81,61.19,186.65,12.37,4.39,175.27,44.61,192.63,27.27,6.12,11.84,215.56,173.75,64.54,57.03,55.3,25.09,46.9,50.0,6.46,7.33,60.34,208.53,4.86,7.07,384.85,45.38,38.86,78.22,5.24,102.73,5.53,6.85,6.33,71.87,279.21,43.6,38.52,6.18,4.84,6.61,13.14,163.74,3.65,14.22,5.06,28.3,8.3,10.08,9.29,9.25,21.32,12.15,4.2,15.22,6.89,21.24,6.37,4.3,36.77,29.24,13.29,31.79,4.46,11.79,237.54,3.13,8.42,14.9,34.26,1.55,9.03,37.49,7.55,3.87,46.44,5.87,59.84,0.68,0.4,9.36,3.72,102.3,4.58,14.81,11.08,5.94,5.07,6.3,10.93,3.08,5.46,1.68,7.82,175.3,303.81,21.69,34.52,16.67,17.39,6.06,60.67,19.7,3.63,14.83,30.49,8.42,6.18,309.14,44.26,8.46,33.28,30.49,5.45,128.66,5.33,29.66,45.6,18.11,30.13,17.08,67.45,8.97,12.24,42.87,28.28,25.12,6.52,4.08,5.02,6.05,5.58,5.01,5.75,19.23,121.9,30.34,375.56,8.44,36.09,31.04,4.18,2.34,17.12,82.57,101.76,9.51,15.88,66.93,17.24,4.26,26.31,3.01,4.46,44.28,4.92,63.45,13.25,33.42,0.86,80.19,135.11,9.06,8.16,3.85,42.96,3.85,52.41,39.57,55.85,32.58,184.6,11.39,3278.11,13.55,3.96,53.21,4.09,78.29,3.5,129.89,22.29,117.79,18.72,4.51,5.47,44.6,8.14,4.35,5.42,11.87,14.81,3238.24,3.04,96.15,122.71,305.05,2.54,6.31,5.8,2.19,43.63,12.09,19.12,11.24,50.55,12.2,5.03,4.6,8.1,7.09,67.24,8.1,76.67,4.52,5.2,6.08,12.15,44.4,109.55,32.35,60.94,86.86,5.03,3.95,2.93,326.74,2.28,7.74,53.61,3.77,4.56,179.55,23.6,2.25,349.55,78.42,128.54,567.6,85.78,97.4,48.08,235.32,114.33,5.81,184.0,9.79,5.79,132.1,259.77,56.7,12.97,8.33,712.39,1110.07,62.23,18.95,26.41,21.55,30.86,38.39,26.33,2.86,99.39,3.7,13.74,2.69,44.26,4.91,13.09,4.21,39.77,294.65,4.39,351.53,3.44,37.65,21.24,62.05,112.34,125.42,101.31,146.93,46.45,110.66,32.04,11.88,5.07,5.82,44.51,4.6,14.51,7.13,34.62,24.26,6.19,80.15,24.93,4.55,4.2,42.1,9.16,3.74,4.74,24.31,6.85,145.21,250.84,8.08,22.26,16.13,4.73,4.68,38.41,6.28,334.15,38.57,114.63,91.53,4.94,5.93,4.67,6.26,19.43,34.3,5.46,34.48,6.03,8.3,4.72,5.5,12.13,17.89,4.81,11.71,25.59,7.07,45.08,5.37,15.7,61.25,138.31,25.47,41.15,5.31,75.13,58.85,68.8,63.14,9.36,4.27,8.42,184.51,41.13,10.92,8.57,4.74,6.15,5.53,14.35,33.8,565.55,28.19,10.43,60.5,9.68,27.69,52.79,3.38,59.24,11.51,37.54,10.17,30.78,11.17,17.57,4.65,13.91,44.19,7.21,7.83,44.97,25.11,26.73,13.12,54.67,13.7,178.86,61.3,5.46,88.58,55.86,50.22,80.06,88.1,6.16,16.04,60.57,22.29,24.76,4.98,14.36,3.07,39.57,18.95,6.04,18.87,79.53,151.95,6.43,3.52,17.41,5.7,20.09,7.85,18.34,13.97,290.88,77.23,3.53,25.13,4.95,7.56,10.01,37.51,128.41,19.56,109.59,50.07,178.97,46.51,19.7,14.84,13.67,25.09,40.96,91.53,218.99,42.45,7.21,54.24,13.05,19.51,37.08,9.26,10.65,10.95,22.48,8.07,174.62,67.05,3.8,17.48,6.56,6.87,27.7,149.53,5.57,19.61,8.85,22.93,51.1,17.04,2.91,83.3,33.1,28.37,21.5,157.07,4.48,178.35,28.57,102.35,13.87,12.92,8.84,7.31,4.13,59.7,44.27,312.6,7.15,5.74,4.29,5.53,3.64,12.22,4.51,5.76,18.03,9.71,405.05,1.14,12.55,5.09,25.77,40.85,3.45,8.7,40.94,95.93,17.29,15.35,51.27,40.01,40.42,59.0,4.52,39.61,39.75,160.8,15.87,5.35,3.48,71.16,17.83,5.93,5.82,15.7,9.99,56.04,6.56,6.42,3.67,5.62,6.41,14.65,18.5,10.68,3.44,61.21,27.14,17.51,42.73,38.87,60.12,2.82,9.25,16.5,46.16,5.72,24.91,3.5,43.64,6.28,7.26,5.41,38.38,12.89,19.69,3.73,93.5,30.99,8.44,17.87,6.08,5.26,73.14,3.23,17.92,18.42,4.71,45.58,4.74,28.66,3.65,3.72,9.29,8.22,43.17,19.88,7.27,27.92,41.96,64.35,50.76,20.3,14.7,4.11,57.25,9.76,18.91,5.0,31.94,7.35,19.77,18.87,75.64,28.89,103.19,6.35,18.04,65.77,69.88,26.52,49.18,46.85,23.5,78.57,7.74,219.93,4.72,108.05,34.04,1.51,4.33,7.24,75.12,260.32,18.9,60.53,7.22,13.16,158.63,10.98,26.76,8.45,41.77,175.53,124.4,43.18,64.75,59.14,39.05,11.18,77.75,94.3,94.69,85.15,77.56,21.46,29.88,34.75,9.11,5.94,112.82,6.46,17.6,26.27,27.68,12.17,6.3,1.46,7.49,66.77,106.35,7.98,92.7,2.15,7.05,4.31,8.46,47.98,11.94,61.68,110.42,61.6,30.79,18.95,35.48,37.61,61.18,12.05,286.89,152.14,11.44,147.24,14.17,50.7,18.87,36.89,31.43,145.27,3.96,15.26,59.05,6.01,3.99,92.3,1.6,17.45,27.83,4.02,11.73,96.62,23.62,9.65,9.89,33.52,82.07,5.21,48.3,131.69,16.16,178.21,0.79,32.89,4.62,292.8,4.49,18.97,0.75,22.62,58.36,6.18,4.2,28.55,2.94,10.05,25.15,39.25,14.99,6.64,4.31,52.73,413.1,6.27,6.0,54.27,2.86,47.08,44.97,23.83,20.02,28.05,43.68,89.72,11.69,42.24,13.22,5.04,13.39,256.31,31.54,51.15,8.04,3.41,27.75,42.66,1.6,9.67,44.68,2.94,422.31,263.37,32.44,298.91,14.37,23.52,23.84,17.75,5.69,8.49,17.11,71.71,226.81,20.67,57.59,20.39,9.63,6.68,79.3,85.27,28.7,78.19,30.26,3.77,8.38,6.85,2.76,5.09,4.02,28.78,70.14,41.96,4.5,22.72,30.12,7.0,10.43,144.45,7.78,18.42,6.3,10.58,45.14,120.72,49.53,5.15,121.27,24.32,7.9,8.28,111.96,17.39,67.98,47.64,10.06,102.04,17.73,42.23,84.95,104.51,4.62,3.94,64.79,3.75,7.82,449.59,3.63,8.27,8.21,28.83,5.65,6.99,232.1,73.48,588.25,3768.66,65.56,4.15,14.64,10.65,17.22,125.59,1.24,36.82,5.86,7.11,61.86,3.9,23.9,94.85,7.28,18.65,36.15,27.93,6.02,37.18,5.42,22.81,7.1,7.03,3.92,66.1,269.03,3.27,120.24,24.63,10.9,29.44,283.04,28.64,21.44,4.55,40.05,106.37,281.25,9.92,18.58,3.11,55.83,14.86,7.47,6.02,8.89,5.67,5.54,66.05,7.54,21.57,18.07,97.27,515.71,116.94,101.21,10.99,7.86,5.88,3.43,198.59,28.83,64.04,13.09,110.02,34.62,7.08,5.78,128.22,66.32,117.64,3.4,33.5,11.85,122.0,14.35,42.52,46.53,223.36,57.11,18.76,7.05,50.05,3.25,22.09,20.66,4.2,3.65,6.74,12.27,4.01,6.42,4.63,4.95,105.87,70.31,23.15,9.24,38.58,3.41,61.18,2.74,6.53,15.9,7.56,136.94,75.07,8.61,34.08,124.59,13.69,63.81,69.53,25.53,2.88,9.29,17.79,2.35,20.76,18.19,100.49,2.9,7.36,35.4,6.52,85.88,190.45,59.08,29.21,25.14,7.71,25.44,229.55,4.44,19.04,49.7,183.79,120.1,5.66,10.29,65.05,48.62,4.43,11.77,2.67,11.26,58.82,6.54,14.21,64.46,5.57,70.29,99.42,7.24,37.17,65.89,8.61,26.56,17.41,56.96,10.37,96.28,23.68,220.86,18.2,47.26,19.31,4.02,15.34,45.33,9.73,3.54,10.31,4.19,4.67,5.4,10.55,11.99,95.38,10.32,393.07,9.7,16.47,22.94,120.86,37.28,16.89,62.51,861.85,69.18,792.6,4.74,59.86,4.24,3.88,4.5,393.29,51.26,63.23,3.78,88.0,22.38,28.04,54.02,89.49,3.82,49.79,4.31,42.93,3.63,11.54,6.53,3.81,18.81,58.79,18.73,29.22,60.08,5.45,5.74,6.45,48.16,35.36,5.0,4.09,55.06,8.82,6.41,91.69,5.43,28.07,27.71,80.06,121.63,17.31,4.76,59.18,105.99,96.15,32.02,10.01,10.04,9.49,55.63,3.91,34.03,4.15,47.18,68.89,38.59,717.93,52.0,7.56,51.24,56.18,8.53,6.9,8.48,84.01,35.99,25.11,160.79,117.47,4.79,43.9,25.37,4.6,20.5,90.53,58.52,58.24,7.23,22.33,39.65,46.01,111.34,144.3,59.76,90.17,48.95,12.57,4.13,166.43,119.99,37.84,72.86,6.38,5.68,9.65,203.21,5.63,4.32,60.2,13.95,70.92,4.78,19.15,16.07,5.02,3.71,4.24,26.54,1.59,41.88,51.62,20.88,53.87,23.22,11.02,38.21,87.41,49.59,5.08,4.36,23.42,46.67,15.11,6.61,5.51,320.96,94.22,48.13,69.2,226.73,4.52,16.76,95.77,58.79,3.98,4.67,4.13,4.02,27.47,5.16,7.67,156.18,60.47,8.09,7.16,865.48,14.37,231.75,7.46,80.47,38.97,33.26,43.21,3.29,6.14,9.72,4.76,3.82,18.62,43.91,185.33,7.07,108.79,19.81,46.14,13.08,5.11,37.43,53.88,3.97,47.03,4.29,3.92,4.52,29.39,28.46,6.7,14.79,3.78,60.93,7.69,26.94,35.72,105.97,393.2,66.69,7.52,10.92,399.73,96.59,60.32,6.84,173.67,94.23,11.18,13.65,6.57,5.77,12.85,37.51,7.87,299.38,85.22,4.43,12.06,86.5,22.89,151.91,6.76,15.25,20.96,12.46,3.18,72.69,6.24,30.22,4.17,93.44,32.42,20.78,9.2,48.91,53.25,161.39,4.55,5.87,47.02,70.4,5.94,145.97,10.04,141.88,6.73,26.48,22.63,7.31,11.42,47.78,14.82,63.34,34.61,3.28,4.24,63.21,42.71,4.45,7.53,3.44,65.95,53.65,48.45,6.96,81.24,249.46,104.74,55.23,32.81,5.07,19.68,96.2,56.25,9.23,6.64,8.38,136.07,404.21,91.49,58.59,78.36,11.09,39.4,83.76,29.7,27.06,60.83,229.2,41.65,30.45,29.56,358.57,19.84,5.36,43.28,63.87,19.28,14.1,4.64,8.12,8.93,29.93,12.98,50.57,2489.78,4.73,14.26,9.65,34.39,3.92,19.14,46.61,20.46,11.38,38.36,14.05,92.52,3.22,57.33,35.65,206.33,7.39,93.55,35.6,4.14,367.3,35.36,96.2,109.72,6.41,20.21,9.05,49.55,89.29,8.95,10.81,31.47,21.74,61.25,9.13,26.87,4.59,77.12,19.61,63.57,6.84,126.53,5.23,74.92,13.1,6.57,3.45,3.07,3.26,15.48,6.41,8.4,7.46,30.85,22.24,12.96,41.7,102.6,10.01,5.97,3.9,8.7,187.97,16.43,5.91,16.4,11.77,103.07,6.74,11.06,108.31,364.27,38.18,58.09,3.95,6.0,25.14,101.8,7.83,51.89,19.1,11.1,53.52,46.72,4.14,9.48,6.73,2.94,37.97,45.44,4.92,2.62,29.39,6.88,3.06,7.97,15.58,100.43,67.15,3.56,0.89,17.65,14.19,2.82,77.84,65.05,41.51,3.54,3.72,314.92,26.47,6.5,4.35,4.02,13.27,70.11,3.3,22.83,68.89,21.87,9.56,65.27,4.8,3.42,4.35,10.87,7.37,9.43,5.61,14.77,3.31,139.27,28.61,20.76,18.01,42.57,286.33,423.57,5.19,4.15,4.71,3.85,5.37,11.29,8.1,5.14,5.88,8.66,8.29,5.91,5.38,5.79,4.72,5.28,2.45,67.33,62.94,4.8,15.5,26.67,3.55,5.21,3.9,6.49,9.25,9.4,21.51,115.34,5.73,53.02,338.58,4.8,9.09,128.07,28.79,59.74,25.37,83.65,46.32,88.11,101.43,53.35,5.09,0.87,23.51,104.33,4.15,111.04,7.31,16.3,59.53,13.34,27.04,11.32,63.22,4.04,55.73,51.2,39.31,51.14,6.93,118.45,54.02,5.38,18.02,3.95,150.23,10.61,4.79,70.39,46.7,64.86,4.87,5.21,16.31,7.12,49.58,127.05,30.14,24.97,6.43,2.85,4.76,99.26,4.71,3.96,103.42,31.54,75.95,58.87,6.54,68.39,43.97,4.96,66.43,47.92,23.63,119.76,43.04,67.96,5.07,17.61,8.33,7.47,6.41,12.06,22.18,5.07,9.29,458.44,38.71,255.97,66.7,124.77,3.39,39.75,17.97,8.59,157.88,402.04,132.7,49.44,7.8,3.56,3.78,3.92,28.78,106.86,26.37,102.54,156.45,21.05,13.85,122.7,30.35,92.07,159.8,144.57,61.62,273.91,111.62,120.92,58.44,29.18,89.8,441.94,70.46,27.56,81.18,176.75,72.02,24.82,193.36,7.21,5.38,83.45,48.85,137.66,295.42,12.43,3.63,236.05,37.83,391.7,32.72,145.11,30.03,28.85,4.01,270.63,6.98,6.64,4.49,34.22,303.69,186.16,154.39,11.4,66.37,5.87,139.12,11.91,5.51,21.37,155.47,90.73,53.12,158.6,2549.47,47.14,537.03,30.78,94.63,376.57,163.19,9.46,35.43,15.5,265.21,100.59,549.11,95.26,4.64,619.9,170.98,65.19,175.46,191.97,39.88,38.17,80.27,12.56,38.92,1597.56,542.74,87.18,287.57,99.65,1789.69,123.15,6.93,8.65,73.39,144.41,325.94,76.5,54.04,122.35,16.82,352.77,147.84,24.54,57.59,9.95,290.57,68.98,1088.25,47.93,161.23,23.14,6.04,251.43,24.7,9.86,51.59,176.88,9.5,49.26,20.1,5.47,57.59,24.38,8.63,77.29,138.79,20.58,21.18,67.17,184.81,17.81,22.76,142.48,54.98,809.76,14.04,42.2,75.96,30.72,8.36,124.68,16.13,280.35,52.55,265.63,77.99,93.31,197.27,62.23,46.79,22.23,181.67,65.35,107.29,38.13,457.51,23.37,221.47,130.6,107.51,29.4,74.3,1280.81,68.04,7.49,6330.91,190.05,58.28,82.58,167.48,10.8,159.16,16.1,51.39,11140.56,25.93,103.65,199.48,437.2,48.53,62.41,213.7,43.06,28.94,18.9,4.32,691.57,175.44,42.81,17.77,9.91,59.33,184.15,127.53,9.76,17.8,34.11,9.71,123.99,33.09,64.39,30.41,622.23,40.99,172.46,49.89,12.18,27.71,22.5,4.81,115.73,163.02,65.01,9.0,8.11,134.8,86.99,238.78,214.19,63.87,50.32,147.14,4.38,91.98,205.45,202.12,74.88,165.61,8.7,40.25,245.16,31.46,14.83,71.96,395.26,5.46,6.74,50.23,131.02,157.7,51.26,12.21,124.18,86.25,103.37,9.24,205.52,31.55,28.08,75.62,54.76,467.9,15.07,1000.06,96.9,18.88,22.17,4.44,29.18,23.0,14.37,24.73,216.18,3.5,259.22,60.81,7.79,20.33,20.94,32.17,223.54,22.11,41.27],\"sizemode\":\"area\",\"sizeref\":42.17745,\"symbol\":\"circle\"},\"mode\":\"markers\",\"name\":\"\",\"showlegend\":false,\"x\":[60.0,61.0,43.0,56.0,75.0,null,27.0,null,43.0,1.0,30.0,36.0,48.0,58.0,35.0,null,null,31.0,null,39.0,76.0,null,95.0,84.0,null,null,null,57.0,57.0,75.0,null,null,29.0,null,8.0,null,97.0,88.0,57.0,83.0,95.0,null,67.0,78.0,null,14.0,null,71.0,63.0,98.0,99.0,86.0,84.0,80.0,81.0,76.0,94.0,71.0,54.0,1.0,74.0,null,48.0,71.0,null,96.0,96.0,37.0,null,null,null,91.0,null,null,null,null,93.0,68.0,56.0,53.0,null,34.0,100.0,63.0,null,61.0,93.0,86.0,null,null,89.0,88.0,92.0,78.0,null,98.0,null,14.0,93.0,null,null,76.0,90.0,null,null,null,null,60.0,92.0,79.0,88.0,null,null,null,89.0,96.0,null,96.0,null,21.0,98.0,null,76.0,10.0,72.0,80.0,null,null,79.0,75.0,61.0,86.0,null,87.0,72.0,37.0,97.0,86.0,null,null,92.0,null,75.0,79.0,null,null,76.0,89.0,null,97.0,70.0,87.0,78.0,null,null,null,null,64.0,34.0,79.0,null,null,null,null,null,34.0,87.0,91.0,29.0,null,80.0,34.0,98.0,49.0,62.0,46.0,42.0,80.0,77.0,88.0,91.0,67.0,78.0,null,76.0,null,15.0,54.0,null,94.0,null,1.0,8.0,null,29.0,null,null,98.0,72.0,20.0,57.0,39.0,74.0,93.0,89.0,90.0,90.0,91.0,61.0,90.0,95.0,91.0,97.0,94.0,85.0,66.0,89.0,98.0,69.0,94.0,84.0,null,81.0,95.0,81.0,95.0,89.0,93.0,28.0,91.0,89.0,null,69.0,98.0,99.0,83.0,77.0,96.0,70.0,88.0,93.0,null,79.0,94.0,65.0,79.0,null,64.0,74.0,94.0,3.0,54.0,77.0,72.0,97.0,76.0,77.0,79.0,69.0,45.0,80.0,42.0,96.0,null,60.0,2.0,55.0,90.0,92.0,58.0,89.0,91.0,25.0,71.0,93.0,72.0,45.0,6.0,49.0,null,89.0,84.0,72.0,72.0,80.0,null,null,null,null,97.0,96.0,74.0,89.0,72.0,72.0,null,96.0,83.0,null,null,null,null,65.0,58.0,100.0,100.0,34.0,77.0,59.0,45.0,93.0,19.0,97.0,81.0,95.0,83.0,7.0,56.0,53.0,93.0,20.0,55.0,54.0,25.0,null,null,81.0,62.0,95.0,null,null,96.0,96.0,56.0,71.0,49.0,null,null,97.0,97.0,66.0,null,null,80.0,69.0,86.0,75.0,5.0,21.0,null,83.0,23.0,78.0,100.0,null,100.0,null,null,72.0,38.0,null,56.0,79.0,78.0,73.0,84.0,70.0,96.0,89.0,null,95.0,87.0,null,null,100.0,null,null,94.0,null,88.0,33.0,62.0,95.0,72.0,26.0,49.0,63.0,96.0,98.0,89.0,null,25.0,1.0,80.0,null,null,41.0,37.0,95.0,42.0,32.0,89.0,26.0,null,92.0,66.0,null,94.0,null,62.0,97.0,53.0,null,56.0,75.0,61.0,95.0,null,null,null,14.0,null,21.0,78.0,null,91.0,93.0,null,null,86.0,62.0,98.0,63.0,70.0,65.0,75.0,null,null,58.0,70.0,60.0,null,32.0,88.0,64.0,82.0,87.0,null,null,79.0,98.0,83.0,null,37.0,83.0,null,56.0,null,80.0,69.0,null,15.0,46.0,null,31.0,81.0,81.0,43.0,53.0,null,26.0,16.0,79.0,57.0,83.0,28.0,91.0,2.0,6.0,41.0,66.0,55.0,53.0,31.0,null,97.0,null,68.0,79.0,58.0,50.0,94.0,55.0,89.0,93.0,null,null,85.0,86.0,null,null,90.0,null,null,91.0,12.0,1.0,51.0,59.0,1.0,65.0,63.0,56.0,95.0,63.0,77.0,99.0,81.0,null,70.0,86.0,89.0,51.0,66.0,95.0,97.0,12.0,55.0,null,null,16.0,87.0,null,null,null,91.0,5.0,null,null,73.0,33.0,57.0,null,null,88.0,85.0,null,65.0,82.0,85.0,83.0,98.0,86.0,90.0,68.0,80.0,93.0,null,null,97.0,59.0,39.0,57.0,43.0,62.0,13.0,25.0,91.0,89.0,75.0,95.0,15.0,null,83.0,79.0,96.0,null,30.0,83.0,null,null,null,null,95.0,67.0,11.0,93.0,100.0,31.0,32.0,81.0,null,57.0,1.0,null,43.0,null,77.0,83.0,57.0,null,98.0,87.0,91.0,92.0,63.0,null,null,47.0,70.0,90.0,54.0,null,null,59.0,18.0,87.0,28.0,null,8.0,83.0,1.0,60.0,null,null,null,88.0,57.0,null,96.0,71.0,null,3.0,1.0,88.0,53.0,32.0,65.0,72.0,68.0,90.0,100.0,null,90.0,87.0,100.0,68.0,null,null,1.0,13.0,31.0,3.0,null,null,69.0,90.0,78.0,92.0,null,null,54.0,68.0,51.0,null,27.0,88.0,92.0,93.0,null,null,64.0,49.0,null,10.0,73.0,null,72.0,null,null,80.0,90.0,84.0,72.0,46.0,12.0,null,null,82.0,null,null,85.0,98.0,null,null,98.0,55.0,null,61.0,53.0,18.0,74.0,85.0,82.0,33.0,92.0,62.0,69.0,null,81.0,81.0,null,85.0,90.0,52.0,null,78.0,null,37.0,95.0,13.0,null,null,59.0,93.0,57.0,96.0,15.0,3.0,null,90.0,99.0,84.0,94.0,13.0,89.0,98.0,96.0,100.0,93.0,86.0,null,83.0,79.0,null,84.0,98.0,53.0,67.0,63.0,32.0,null,null,null,48.0,85.0,null,95.0,null,93.0,null,82.0,59.0,20.0,82.0,97.0,62.0,74.0,95.0,null,100.0,67.0,null,55.0,24.0,86.0,51.0,50.0,null,null,75.0,32.0,50.0,38.0,null,87.0,97.0,32.0,98.0,97.0,94.0,87.0,82.0,2.0,53.0,null,47.0,null,null,68.0,null,72.0,61.0,51.0,null,86.0,46.0,null,79.0,74.0,82.0,57.0,9.0,94.0,64.0,81.0,null,61.0,null,null,26.0,null,56.0,37.0,85.0,60.0,63.0,99.0,77.0,69.0,75.0,92.0,84.0,77.0,41.0,49.0,39.0,40.0,63.0,56.0,78.0,36.0,80.0,56.0,85.0,16.0,74.0,null,18.0,67.0,null,89.0,1.0,91.0,null,null,null,87.0,91.0,81.0,24.0,51.0,null,11.0,90.0,87.0,21.0,23.0,88.0,57.0,null,null,34.0,80.0,100.0,81.0,null,null,90.0,null,null,72.0,43.0,80.0,77.0,null,88.0,76.0,91.0,null,2.0,32.0,null,91.0,43.0,74.0,null,null,null,83.0,null,77.0,31.0,42.0,87.0,91.0,null,71.0,null,72.0,91.0,84.0,67.0,98.0,46.0,95.0,88.0,null,17.0,82.0,16.0,84.0,76.0,89.0,89.0,85.0,77.0,null,83.0,89.0,100.0,53.0,null,49.0,91.0,68.0,12.0,7.0,94.0,52.0,44.0,81.0,97.0,null,32.0,86.0,null,77.0,68.0,8.0,75.0,98.0,84.0,null,98.0,94.0,97.0,null,77.0,null,98.0,null,99.0,null,57.0,94.0,null,76.0,98.0,60.0,null,null,81.0,29.0,null,100.0,99.0,null,60.0,39.0,80.0,35.0,86.0,66.0,69.0,null,null,null,54.0,null,76.0,77.0,null,72.0,25.0,36.0,25.0,null,70.0,null,28.0,62.0,null,null,null,57.0,null,null,77.0,81.0,null,null,null,62.0,47.0,75.0,91.0,85.0,38.0,89.0,null,96.0,48.0,82.0,83.0,81.0,92.0,6.0,null,null,null,72.0,23.0,98.0,77.0,33.0,97.0,58.0,79.0,87.0,75.0,77.0,58.0,null,null,12.0,42.0,93.0,38.0,53.0,86.0,50.0,86.0,79.0,79.0,19.0,99.0,90.0,55.0,92.0,18.0,99.0,17.0,42.0,7.0,null,61.0,16.0,63.0,95.0,59.0,15.0,66.0,80.0,100.0,55.0,null,88.0,99.0,91.0,67.0,62.0,84.0,77.0,77.0,52.0,76.0,null,null,49.0,98.0,48.0,1.0,78.0,3.0,82.0,79.0,57.0,88.0,76.0,98.0,43.0,78.0,79.0,69.0,94.0,1.0,79.0,51.0,62.0,null,69.0,67.0,null,null,null,41.0,65.0,95.0,null,86.0,null,72.0,null,94.0,null,80.0,null,67.0,5.0,72.0,93.0,93.0,98.0,1.0,75.0,93.0,95.0,71.0,92.0,null,1.0,28.0,null,null,98.0,79.0,98.0,88.0,93.0,95.0,5.0,null,null,47.0,91.0,81.0,82.0,null,43.0,67.0,54.0,null,57.0,29.0,86.0,77.0,null,76.0,null,80.0,39.0,null,82.0,null,86.0,null,62.0,38.0,null,null,73.0,null,27.0,44.0,76.0,null,51.0,43.0,95.0,78.0,null,82.0,73.0,98.0,47.0,36.0,98.0,37.0,null,4.0,null,null,94.0,100.0,43.0,45.0,null,96.0,91.0,91.0,92.0,24.0,85.0,2.0,8.0,83.0,60.0,17.0,81.0,65.0,null,92.0,26.0,53.0,86.0,72.0,93.0,null,86.0,50.0,null,89.0,1.0,74.0,76.0,2.0,90.0,40.0,null,42.0,null,55.0,71.0,73.0,67.0,null,80.0,63.0,null,null,null,57.0,62.0,77.0,95.0,1.0,null,97.0,66.0,null,null,null,null,null,84.0,92.0,1.0,68.0,92.0,77.0,100.0,41.0,100.0,84.0,null,null,null,72.0,42.0,null,11.0,17.0,null,null,null,4.0,65.0,null,91.0,null,47.0,null,null,70.0,null,66.0,100.0,null,null,null,41.0,65.0,13.0,68.0,56.0,96.0,61.0,97.0,96.0,null,null,37.0,95.0,86.0,56.0,98.0,null,70.0,null,94.0,86.0,null,59.0,null,49.0,81.0,94.0,null,83.0,75.0,89.0,null,77.0,61.0,83.0,77.0,48.0,60.0,80.0,null,null,74.0,33.0,100.0,89.0,92.0,54.0,87.0,52.0,88.0,27.0,87.0,39.0,83.0,96.0,17.0,53.0,89.0,73.0,98.0,95.0,68.0,33.0,20.0,71.0,91.0,null,74.0,null,null,84.0,96.0,53.0,82.0,79.0,79.0,99.0,97.0,79.0,92.0,88.0,88.0,92.0,null,null,69.0,79.0,98.0,13.0,100.0,38.0,null,82.0,13.0,94.0,51.0,66.0,8.0,91.0,42.0,90.0,96.0,81.0,98.0,null,75.0,47.0,21.0,null,75.0,null,44.0,53.0,6.0,73.0,42.0,66.0,null,null,90.0,null,95.0,null,54.0,null,93.0,65.0,50.0,61.0,88.0,89.0,86.0,61.0,84.0,85.0,77.0,100.0,77.0,68.0,76.0,3.0,63.0,50.0,60.0,89.0,14.0,38.0,null,64.0,76.0,null,null,86.0,64.0,21.0,41.0,46.0,33.0,11.0,null,93.0,72.0,null,52.0,null,40.0,80.0,null,56.0,96.0,94.0,29.0,null,45.0,1.0,49.0,88.0,87.0,39.0,71.0,null,91.0,72.0,94.0,22.0,43.0,82.0,40.0,85.0,55.0,98.0,null,null,41.0,71.0,90.0,97.0,8.0,67.0,14.0,34.0,null,null,3.0,2.0,28.0,69.0,67.0,30.0,83.0,67.0,17.0,null,91.0,null,null,null,88.0,null,null,90.0,75.0,65.0,60.0,47.0,99.0,60.0,34.0,69.0,61.0,53.0,100.0,88.0,98.0,null,92.0,53.0,82.0,73.0,58.0,35.0,86.0,null,88.0,1.0,null,89.0,71.0,null,93.0,66.0,64.0,84.0,null,null,84.0,71.0,68.0,80.0,89.0,null,96.0,71.0,82.0,76.0,null,60.0,100.0,null,28.0,null,100.0,26.0,93.0,null,72.0,null,70.0,84.0,13.0,null,91.0,39.0,null,58.0,56.0,61.0,22.0,10.0,5.0,79.0,62.0,null,null,null,null,null,64.0,78.0,null,9.0,88.0,99.0,78.0,89.0,83.0,57.0,44.0,82.0,23.0,null,100.0,99.0,73.0,84.0,65.0,75.0,99.0,90.0,4.0,36.0,56.0,70.0,null,91.0,75.0,100.0,null,67.0,null,46.0,63.0,69.0,55.0,null,null,15.0,55.0,null,81.0,92.0,58.0,null,61.0,88.0,null,null,81.0,85.0,null,84.0,null,32.0,57.0,null,16.0,32.0,67.0,null,72.0,null,10.0,85.0,83.0,null,64.0,null,60.0,53.0,null,null,94.0,null,null,77.0,92.0,null,81.0,89.0,62.0,61.0,36.0,55.0,67.0,18.0,64.0,null,81.0,60.0,81.0,70.0,41.0,94.0,30.0,68.0,63.0,89.0,66.0,69.0,null,null,22.0,null,23.0,91.0,64.0,null,null,57.0,null,81.0,74.0,66.0,15.0,68.0,79.0,18.0,1.0,null,100.0,29.0,94.0,30.0,53.0,49.0,7.0,75.0,82.0,null,52.0,69.0,10.0,null,67.0,55.0,null,42.0,100.0,100.0,null,92.0,100.0,null,null,null,67.0,61.0,null,85.0,null,59.0,null,69.0,85.0,56.0,77.0,85.0,null,null,34.0,null,83.0,81.0,17.0,52.0,93.0,90.0,null,null,68.0,83.0,79.0,91.0,87.0,87.0,83.0,83.0,76.0,87.0,69.0,51.0,70.0,96.0,43.0,50.0,46.0,67.0,73.0,99.0,60.0,null,7.0,33.0,29.0,64.0,96.0,93.0,81.0,null,67.0,null,100.0,70.0,34.0,66.0,66.0,100.0,null,62.0,79.0,57.0,50.0,74.0,null,null,51.0,28.0,90.0,54.0,100.0,73.0,96.0,30.0,49.0,85.0,91.0,57.0,86.0,100.0,71.0,46.0,92.0,66.0,34.0,70.0,12.0,null,57.0,87.0,52.0,29.0,17.0,51.0,null,71.0,null,null,89.0,null,88.0,null,null,73.0,21.0,24.0,55.0,76.0,96.0,52.0,78.0,53.0,null,null,null,72.0,32.0,97.0,null,4.0,84.0,null,null,100.0,null,98.0,46.0,57.0,null,null,33.0,14.0,85.0,79.0,31.0,75.0,null,21.0,24.0,100.0,81.0,85.0,64.0,97.0,11.0,79.0,90.0,19.0,68.0,20.0,37.0,54.0,null,null,84.0,null,67.0,null,null,5.0,11.0,88.0,73.0,80.0,50.0,67.0,47.0,82.0,69.0,47.0,80.0,null,null,55.0,94.0,11.0,62.0,null,76.0,null,72.0,63.0,40.0,46.0,98.0,5.0,86.0,null,70.0,33.0,null,null,null,78.0,null,94.0,null,85.0,49.0,null,96.0,100.0,null,89.0,82.0,90.0,75.0,55.0,null,59.0,87.0,96.0,null,81.0,null,67.0,null,null,100.0,99.0,null,null,20.0,12.0,80.0,null,null,10.0,58.0,null,null,null,100.0,98.0,72.0,91.0,3.0,null,null,77.0,34.0,36.0,38.0,null,72.0,72.0,79.0,81.0,87.0,44.0,31.0,null,37.0,1.0,72.0,null,91.0,73.0,null,null,75.0,73.0,85.0,91.0,37.0,null,76.0,null,91.0,75.0,54.0,100.0,81.0,69.0,4.0,null,78.0,null,58.0,96.0,31.0,99.0,89.0,null,null,99.0,81.0,null,83.0,89.0,94.0,null,87.0,84.0,19.0,41.0,null,99.0,null,84.0,39.0,97.0,97.0,36.0,null,null,94.0,80.0,73.0,null,73.0,null,null,58.0,60.0,87.0,77.0,95.0,11.0,15.0,59.0,38.0,71.0,88.0,18.0,null,42.0,61.0,86.0,65.0,53.0,83.0,64.0,1.0,6.0,32.0,44.0,50.0,63.0,6.0,93.0,10.0,null,3.0,15.0,44.0,null,null,71.0,55.0,89.0,21.0,19.0,92.0,71.0,96.0,68.0,null,68.0,73.0,92.0,null,null,null,60.0,null,69.0,16.0,null,45.0,null,89.0,26.0,null,80.0,null,92.0,17.0,87.0,84.0,null,99.0,49.0,3.0,85.0,19.0,79.0,68.0,56.0,null,null,92.0,null,95.0,58.0,79.0,98.0,50.0,98.0,81.0,81.0,80.0,73.0,84.0,38.0,null,null,null,80.0,40.0,null,null,90.0,63.0,18.0,null,52.0,89.0,56.0,62.0,99.0,null,84.0,47.0,100.0,92.0,39.0,null,null,69.0,72.0,94.0,70.0,null,96.0,34.0,null,96.0,3.0,null,54.0,88.0,63.0,66.0,95.0,96.0,35.0,null,88.0,24.0,93.0,null,64.0,15.0,27.0,25.0,null,99.0,83.0,66.0,88.0,93.0,96.0,10.0,40.0,100.0,1.0,null,null,48.0,42.0,null,null,65.0,null,null,17.0,19.0,null,98.0,75.0,null,null,54.0,69.0,32.0,88.0,57.0,99.0,75.0,75.0,63.0,null,54.0,90.0,96.0,76.0,92.0,96.0,62.0,null,86.0,54.0,73.0,70.0,93.0,54.0,82.0,88.0,55.0,25.0,55.0,32.0,null,63.0,53.0,84.0,69.0,55.0,69.0,76.0,48.0,80.0,50.0,67.0,78.0,76.0,33.0,91.0,90.0,86.0,87.0,92.0,86.0,65.0,81.0,17.0,64.0,86.0,34.0,37.0,50.0,55.0,null,null,100.0,71.0,78.0,null,null,12.0,57.0,75.0,77.0,99.0,57.0,null,64.0,92.0,5.0,74.0,100.0,91.0,39.0,64.0,null,95.0,30.0,76.0,null,null,7.0,97.0,64.0,83.0,null,null,50.0,92.0,85.0,62.0,95.0,1.0,null,28.0,93.0,86.0,null,55.0,76.0,65.0,52.0,58.0,79.0,31.0,68.0,94.0,96.0,null,null,null,30.0,null,3.0,29.0,null,83.0,93.0,null,100.0,7.0,null,69.0,96.0,83.0,null,7.0,89.0,97.0,null,77.0,null,72.0,null,null,84.0,null,null,null,27.0,45.0,82.0,97.0,82.0,80.0,98.0,95.0,98.0,92.0,81.0,41.0,15.0,95.0,66.0,83.0,null,86.0,100.0,72.0,null,58.0,1.0,1.0,76.0,96.0,null,99.0,58.0,null,null,null,null,null,100.0,null,78.0,67.0,null,92.0,null,96.0,12.0,null,45.0,null,2.0,86.0,94.0,33.0,null,76.0,89.0,1.0,99.0,69.0,null,null,86.0,71.0,91.0,null,23.0,50.0,73.0,100.0,73.0,66.0,54.0,null,null,null,null,null,null,94.0,75.0,93.0,null,96.0,85.0,null,61.0,null,89.0,81.0,10.0,76.0,73.0,null,80.0,68.0,96.0,96.0,87.0,null,93.0,17.0,67.0,100.0,95.0,null,20.0,84.0,null,null,85.0,51.0,90.0,34.0,null,86.0,69.0,87.0,null,32.0,61.0,25.0,73.0,96.0,81.0,60.0,92.0,null,90.0,85.0,80.0,54.0,43.0,null,null,null,93.0,89.0,89.0,92.0,96.0,63.0,92.0,98.0,83.0,null,62.0,70.0,53.0,null,60.0,null,94.0,96.0,52.0,null,86.0,69.0,74.0,88.0,24.0,90.0,61.0,null,83.0,null,89.0,87.0,82.0,73.0,92.0,76.0,55.0,90.0,90.0,69.0,12.0,null,75.0,98.0,73.0,61.0,94.0,76.0,63.0,96.0,82.0,75.0,90.0,79.0,73.0,66.0,52.0,53.0,null,null,78.0,100.0,64.0,78.0,93.0,84.0,93.0,97.0,78.0,93.0,97.0,87.0,90.0,99.0,98.0,93.0,null,75.0,27.0,95.0,null,96.0,35.0,92.0,69.0,46.0,90.0,69.0,85.0,95.0,null,41.0,89.0,22.0,75.0,null,83.0,74.0,90.0,92.0,null,92.0,21.0,87.0,44.0,70.0,38.0,92.0,29.0,65.0,30.0,83.0,26.0,92.0,95.0,null,null,88.0,98.0,58.0,37.0,null,17.0,66.0,24.0,86.0,85.0,97.0,22.0,96.0,null,null,98.0,64.0,null,94.0,93.0,null,null,null,72.0,25.0,8.0,83.0,60.0,57.0,null,null,94.0,83.0,81.0,95.0,94.0,96.0,96.0,39.0,60.0,90.0,null,95.0,92.0,null,57.0,null,42.0,70.0,18.0,null,24.0,98.0,null,49.0,48.0,91.0,98.0,34.0,93.0,53.0,78.0,79.0,22.0,84.0,79.0,83.0,77.0,53.0,null,80.0,23.0,90.0,95.0,null,83.0,null,89.0,96.0,16.0,null,null,6.0,99.0,99.0,null,null,62.0,85.0,40.0,76.0,100.0,null,null,100.0,null,94.0,71.0,90.0,80.0,41.0,97.0,null,null,98.0,null,null,82.0,95.0,null,82.0,55.0,52.0,78.0,null,48.0,null,40.0,44.0,76.0,100.0,null,null,null,98.0,84.0,2.0,null,35.0,null,null,98.0,9.0,94.0,33.0,66.0,66.0,91.0,61.0,29.0,null,69.0,84.0,null,55.0,46.0,98.0,null,null,57.0,92.0,65.0,84.0,42.0,3.0,94.0,95.0,73.0,87.0,77.0,43.0,52.0,82.0,14.0,8.0,null,82.0,null,1.0,null,22.0,25.0,null,68.0,80.0,50.0,72.0,86.0,null,61.0,52.0,93.0,93.0,85.0,39.0,null,null,50.0,96.0,2.0,80.0,53.0,null,null,81.0,83.0,53.0,76.0,42.0,96.0,51.0,94.0,88.0,null,73.0,65.0,82.0,86.0,67.0,82.0,64.0,null,49.0,81.0,55.0,65.0,66.0,93.0,null,82.0,15.0,45.0,52.0,17.0,91.0,6.0,18.0,75.0,null,null,70.0,null,51.0,null,null,72.0,89.0,null,61.0,57.0,null,69.0,null,null,76.0,69.0,null,34.0,null,null,null,39.0,100.0,null,87.0,null,100.0,null,89.0,8.0,92.0,79.0,89.0,59.0,24.0,18.0,92.0,87.0,82.0,67.0,null,null,9.0,84.0,47.0,88.0,83.0,97.0,94.0,73.0,47.0,68.0,null,89.0,97.0,null,96.0,92.0,null,88.0,100.0,null,23.0,95.0,89.0,61.0,85.0,86.0,45.0,53.0,73.0,80.0,48.0,65.0,56.0,79.0,76.0,84.0,85.0,100.0,null,86.0,71.0,34.0,null,93.0,21.0,79.0,null,75.0,80.0,null,87.0,72.0,null,56.0,null,null,65.0,null,97.0,80.0,93.0,93.0,56.0,14.0,76.0,63.0,99.0,98.0,34.0,66.0,99.0,97.0,null,96.0,82.0,null,null,null,null,69.0,38.0,67.0,null,79.0,81.0,73.0,50.0,76.0,96.0,38.0,63.0,73.0,null,90.0,null,51.0,null,null,100.0,76.0,96.0,79.0,77.0,44.0,98.0,78.0,null,41.0,97.0,66.0,null,62.0,91.0,66.0,10.0,95.0,64.0,1.0,null,null,null,null,1.0,70.0,84.0,78.0,71.0,87.0,63.0,78.0,82.0,48.0,20.0,7.0,null,null,84.0,65.0,null,97.0,56.0,98.0,1.0,33.0,null,73.0,87.0,83.0,null,100.0,88.0,79.0,88.0,97.0,75.0,null,75.0,null,63.0,93.0,89.0,87.0,null,58.0,98.0,67.0,null,null,null,79.0,93.0,89.0,61.0,84.0,null,79.0,40.0,75.0,88.0,74.0,null,null,55.0,89.0,69.0,null,69.0,32.0,32.0,84.0,null,76.0,null,65.0,100.0,100.0,41.0,74.0,87.0,90.0,64.0,null,86.0,null,47.0,81.0,87.0,null,94.0,51.0,null,null,98.0,null,98.0,23.0,100.0,97.0,97.0,75.0,99.0,null,99.0,null,92.0,97.0,null,100.0,100.0,90.0,72.0,56.0,null,83.0,33.0,94.0,null,73.0,99.0,95.0,35.0,58.0,62.0,92.0,97.0,42.0,67.0,null,82.0,94.0,100.0,85.0,78.0,88.0,96.0,37.0,50.0,100.0,null,null,90.0,27.0,90.0,100.0,55.0,100.0,99.0,22.0,100.0,100.0,70.0,67.0,26.0,93.0,62.0,61.0,71.0,100.0,null,100.0,95.0,25.0,null,82.0,93.0,null,null,94.0,null,98.0,57.0,99.0,96.0,null,34.0,93.0,100.0,98.0,76.0,100.0,100.0,98.0,63.0,99.0,95.0,null,null,null,93.0,47.0,84.0,100.0,null,null,null,98.0,35.0,74.0,null,null,44.0,97.0,null,100.0,91.0,null,null,null,91.0,null,19.0,16.0,69.0,99.0,94.0,99.0,56.0,30.0,89.0,92.0,83.0,62.0,null,97.0,20.0,71.0,null,100.0,100.0,14.0,55.0,95.0,7.0,99.0,40.0,100.0,100.0,98.0,100.0,98.0,97.0,95.0,100.0,87.0,null,91.0,62.0,9.0,77.0,100.0,null,84.0,89.0,99.0,null,null,87.0,98.0,98.0,100.0,58.0,100.0,98.0,96.0,99.0,99.0,null,80.0,70.0,99.0,72.0,37.0,100.0,98.0,98.0,100.0,99.0,77.0,100.0,1.0,88.0,null,99.0,69.0,84.0,null,100.0,99.0,null,null,null,null,null,null,null,75.0,null,null,93.0,null,46.0,null,null,null,null],\"xaxis\":\"x\",\"y\":[249.98,295.86,2089.28,286.43,505.01,301.81,176.14,221.51,392.16,151.12,691.26,740.97,328.23,648.62,511.39,181.38,433.86,802.89,273.02,349.32,1265.29,1699.45,38.53,90.01,388.04,9.13,256.57,328.63,128.44,270.18,10.43,157.77,215.0,3.93,16870.98,311.84,31.47,266.05,130.56,83.86,247.85,45.43,295.33,66.48,33.26,35.36,584.31,59.19,2451.58,134.38,227.18,144.79,199.95,162.39,152.76,146.34,171.64,87.98,1727.11,609.1,67.06,4.19,430.84,262.75,481.97,39.06,138.85,526.85,607.41,344.2,804.2,617.52,101.83,6.11,490.73,29.04,674.09,48.76,152.14,191.2,11.84,78.85,243.23,34.14,16.36,238.48,20.48,84.75,44.32,133.58,127.29,124.92,443.73,89.02,14.67,142.39,429.12,1990.5,10.55,176.75,46.26,228.4,170.84,74.33,866.23,222.02,204.08,359.09,56.82,41.74,94.64,61.21,100.46,104.26,129.39,222.78,422.39,54.07,2055.82,49.58,723.47,231.53,66.3,8145.52,83.7,123.71,51.11,362.82,242.36,206.01,69.44,328.97,229.38,297.43,35.78,369.14,272.85,73.47,170.9,59.34,46.36,48.99,80.08,309.6,225.69,3.0,338.16,49.12,175.77,21.29,208.26,168.88,28.27,892.63,96.43,27.39,1246.55,388.37,16.81,270.97,748.55,162.41,92.91,279.35,1638.46,4906.33,36.24,9.63,10734.57,193.94,207.79,145.31,72.88,469.57,49.09,84.57,149.93,225.19,71.86,43.98,69.42,16.0,201.05,57.21,254.87,433.6,50.52,59.63,23.8,226.06,101.41,661.04,1060.13,639.39,780.84,301.76,377.27,44.22,26.39,68.24,68.19,149.27,172.58,398.19,313.3,359.11,170.51,100.26,26.19,563.25,229.25,222.19,275.54,130.73,51.67,31.97,213.23,70.15,940.47,318.97,171.52,46.56,26.1,139.72,231.32,218.53,627.87,287.32,546.65,175.95,429.27,380.37,298.61,216.24,70.17,89.47,198.34,209.41,119.03,30.86,49.12,6.09,168.88,72.42,197.19,176.43,91.13,141.95,103.97,46.03,208.79,384.27,24.91,741.3,78.92,355.05,530.66,1084.79,337.97,2573.75,162.45,116.03,48.65,21.51,40.46,70.47,156.67,224.36,588.9,1510.85,530.18,193.72,36.61,148.11,131.4,65.2,51.14,1468.5,318.08,18.03,202.99,238.09,793.05,74.83,48.54,20.98,316.2,185.03,147.75,525.78,216.43,135.23,33.17,31.72,92.92,100.65,281.55,44.48,418.9,328.83,249.09,130.69,201.15,147.49,456.22,530.59,243.66,114.14,13.86,117.11,5.32,236.9,5.44,30.27,21.36,39.47,374.92,35.8,42.03,38.59,33.06,93.23,32.73,454.49,349.07,1268.87,20.86,326.18,40.47,269.71,849.83,22.57,61.93,29.53,632.4,94.64,3995.45,726.96,122.68,69.59,74.1,587.16,1019.53,23.81,25.32,24.35,24.29,477.87,77.99,163.83,22.44,1032.63,277.98,45.47,121.98,41.8,80.32,47.94,110.46,10.24,226.43,237.39,553.27,158.92,34.9,27.17,37.74,94.47,85.01,1623.34,53.57,17.17,32.22,120.24,8.15,413.35,3.25,25.58,33.18,53.25,2.8,237.36,59.21,42.65,76.68,10.72,3.62,46.93,28.63,6.32,38.48,204.81,152.71,32.02,74.31,142.36,414.43,272.54,54.92,190.61,38.55,90.24,49.17,85.28,262.45,247.35,33.85,42.25,63.89,35.8,129.29,293.55,46.49,44.35,22.1,57.73,58.88,49.28,33.22,34.0,58.67,611.19,295.48,91.1,1156.45,45.22,23.86,49.9,107.83,22.12,65.3,49.74,107.16,20.29,39.5,64.0,640.71,406.02,365.79,39.47,8.73,25.74,306.5,19.73,134.69,19.89,76.8,26.04,24.89,130.31,99.59,22.39,13.28,31.58,65.56,132.6,74.18,15.65,30.5,16.48,41.18,18.74,190.1,7.37,138.35,20.18,67.78,182.14,180.76,445.62,98.43,47.25,810.7,100.42,49.25,42.74,33.41,59.75,477.85,58.43,67.29,25.3,692.12,734.72,185.39,481.06,17.28,40.38,94.74,130.32,357.39,282.46,21.37,23.48,35.56,310.19,530.62,58.52,116.95,13.71,270.17,111.69,138.39,36.49,30.61,98.54,357.86,60.7,55.73,177.62,5.59,54.78,103.57,116.74,88.74,70.09,119.81,8.8,50.17,47.39,97.82,69.02,119.46,157.48,7.08,95.86,75.29,19.86,155.74,48.5,178.62,34.14,67.65,168.5,25.37,293.56,33.58,86.9,710.7,61.86,38.21,47.82,314.43,1154.79,68.06,65.03,260.13,119.93,147.82,246.83,346.62,1921.82,882.56,110.7,582.28,109.85,109.16,324.25,150.88,133.8,27.82,54.4,20.12,426.39,639.72,132.71,119.03,41.8,13.72,169.06,264.78,89.41,9.31,31.43,390.67,94.59,51.56,30.35,73.58,179.45,89.94,111.23,46.52,152.28,60.92,13.61,75.12,1.06,131.64,89.53,158.55,119.92,195.43,166.13,99.14,455.39,29.16,67.51,74.45,24.12,4.22,4.2,106.12,95.03,95.54,79.39,110.41,13.64,20.94,69.3,27.24,12307.16,406.04,20.85,133.5,54.18,14.49,453.76,341.23,278.97,7.56,284.01,295.12,9.99,109.71,259.49,13.07,189.85,134.82,16.27,267.0,13.51,49.29,128.73,5.03,8.14,25.6,4.85,343.68,12.15,6.02,65.25,4.75,31.74,89.08,95.26,62.17,60.18,30.52,11.29,24.39,276.63,17.87,101.5,3.91,36.02,63.86,44.01,38.9,16.11,13.23,43.84,4.74,53.21,3.18,6.72,25.6,4.58,70.76,19.01,21.69,122.83,86.46,3.58,77.04,2.41,2.57,4.16,43.2,416.07,4.43,21.93,62.46,16.01,22.65,37.78,9.77,9.47,130.28,50.55,113.91,106.77,30.41,6.74,28.47,66.44,6.1,18.6,145.35,29.04,29.33,29.71,50.46,69.57,80.47,71.06,29.84,169.75,7.77,16.58,132.47,17.02,5.71,3.99,4.43,2.7,83.59,63.48,4.29,7.02,51.58,207.6,29.62,141.2,374.56,18.5,9.82,42.19,63.36,138.03,6.43,52.25,54.59,25.24,19.83,3.54,24.02,31.76,7.13,3.95,43.8,154.4,9.58,32.51,6.87,13.1,54.53,4.52,3.88,5.81,11.7,11.6,6.22,39.57,9.81,4.8,15.27,82.9,6.33,49.58,38.97,18.1,11.68,154.17,29.54,7.1,79.21,25.21,14.22,93.87,9.95,6.16,24.25,15.24,13.87,8.68,14.63,28.81,40.28,47.84,60.43,33.78,16.63,154.89,2.92,66.29,151.36,369.68,25.41,174.99,23.27,6.75,47.32,12.95,41.69,126.78,594.48,1266.06,11.14,24.48,100.71,26.78,4.77,10.83,7.28,99.44,44.61,86.02,78.36,25.12,103.18,5.18,26.09,27.27,98.59,658.76,30.33,72.78,30.6,23.82,165.86,12.74,56.63,93.68,3.63,73.2,9.29,35.2,9.65,6.13,19.72,4.33,4.84,36.43,86.66,4.01,10.34,9.66,14.83,26.89,5.62,16.47,19.65,15.43,4.22,13.91,3.95,47.12,63.61,28.41,47.66,184.8,17.67,46.57,101.99,40.38,25.2,66.82,126.44,74.92,126.3,99.15,332.85,137.94,119.63,43.03,25.39,9.57,18.66,32.64,303.36,36.28,6.91,33.23,34.98,6.64,64.51,200.3,122.99,79.58,8.45,38.87,6.49,4.86,262.98,5.35,32.22,6.39,67.23,4.16,23.59,10.44,9.48,218.2,7.87,5.19,155.54,6.69,37.31,38.78,4.2,3.56,13.44,4.14,8.14,87.31,4.39,5.67,4.8,4.99,4.32,4.43,4.08,4.76,6.18,15.97,21.97,63.68,118.37,59.61,89.57,4.96,5.46,4.92,26.21,5.66,13.14,39.49,21.55,51.28,7.98,8.64,43.57,52.09,4.35,6.61,11.18,24.51,20.09,27.14,202.65,19.76,4.23,3.24,7.08,5.95,3.41,10.77,20.08,355.8,61.84,23.15,16.67,26.11,4.04,131.87,15.11,33.37,49.98,0.63,120.91,145.48,63.41,19.07,122.59,130.58,15.9,185.23,89.29,43.45,35.04,188.67,71.55,188.07,100.21,13.29,128.91,210.3,34.15,6.33,4.28,73.31,50.43,8.61,7.62,1.86,178.46,134.57,69.15,17.68,261.09,10.75,43.13,12.61,15.68,13.16,33.92,147.0,9.93,25.93,9.99,41.68,12.48,5.17,19.93,19.82,13.02,19.04,46.75,63.06,10.05,40.51,0.82,8.1,5.51,3.89,1.73,11.28,247.85,37.2,83.1,93.83,6.9,74.33,5.29,4.15,1.7,61.71,46.64,65.65,10.75,39.05,104.91,4.78,1.67,50.31,50.69,94.98,5.28,31.6,4.83,15.35,71.99,67.52,28.58,61.53,88.89,10.89,82.87,32.33,33.92,35.26,199.79,92.58,47.7,90.31,29.82,7.91,47.59,19.76,101.96,28.44,408.82,127.74,551.53,9.67,18.85,8.64,61.46,4.28,6.08,6.94,11.54,115.56,20.73,6.52,8.7,62.94,2.52,6.18,17.26,32.8,81.82,10.44,51.91,4.27,23.59,8.97,8.2,39.5,72.26,11.27,534.88,6.7,480.9,15.47,68.14,29.97,16.99,100.02,32.63,106.45,51.13,3.95,68.97,29.41,16.33,69.77,235.26,3.06,348.22,10.26,8.85,3.16,64.81,45.79,81.96,1.55,3.73,18.16,3.54,14.49,10.74,62.83,28.09,264.43,82.93,4.95,312.13,3.34,60.29,13.71,36.92,27.93,221.1,46.48,82.38,195.71,1216.05,149.91,94.85,148.55,188.58,60.88,110.17,25.53,9.0,42.04,8.47,25.02,30.32,66.53,9.46,73.52,18.34,27.47,82.34,5.41,44.71,16.06,7.49,23.85,38.12,11.29,16.13,19.39,8.49,30.02,28.6,336.73,32.99,66.19,12.49,4.76,127.1,234.6,49.58,40.22,20.78,15.9,122.73,10.36,32.86,12.35,515.85,10.12,176.79,13.01,36.74,173.94,45.33,59.06,61.98,180.38,65.02,79.58,17.12,8.8,8.89,12.77,12.59,4.12,12.19,104.61,72.37,31.24,13.89,10.75,23.74,23.78,40.76,26.38,247.97,55.71,20.76,20.9,48.35,9.3,73.61,38.85,32.47,101.34,94.02,159.98,74.64,46.6,14.04,479.7,71.23,21.66,79.81,12.72,106.73,709.11,69.54,8.54,85.55,107.45,6.07,462.4,60.04,55.61,123.41,295.38,8.53,170.83,37.34,1.12,31.61,34.87,16.57,73.0,82.72,35.77,487.53,32.09,73.48,184.09,161.15,20.64,255.83,24.62,192.12,523.95,41.06,13.97,77.8,234.03,3.77,86.51,13.33,47.68,3.94,241.75,60.59,119.34,44.33,8.77,77.48,1148.5,98.28,13.43,94.01,26.34,218.79,44.89,348.21,110.73,14.05,11.97,17.14,12.98,143.34,34.16,38.51,45.81,72.5,14.13,75.99,82.92,2.01,125.13,12.64,22.46,41.22,182.81,34.02,4.69,3.04,193.47,220.26,10.73,75.25,30.22,39.35,4.05,52.74,77.76,6.13,422.45,115.43,15.17,3.69,8.18,6.26,120.6,8.25,10.15,3.54,46.46,22.53,35.96,55.95,4.83,11.87,50.67,24.42,6.84,10.38,2.27,167.98,111.73,20.12,5.97,12.25,7.34,20.9,117.19,4.21,77.16,21.55,75.58,7.07,7.57,4.13,14.45,26.27,139.73,4.53,25.36,74.42,10.82,42.1,56.62,11.53,5.5,5.49,43.19,57.69,37.72,54.44,13.27,44.93,35.39,3.49,96.4,39.1,95.5,45.11,4.38,5.91,6.59,62.19,260.38,92.45,4.45,4.42,86.81,102.04,52.57,54.86,73.26,12.18,16.87,71.15,201.31,9.58,123.23,913.07,32.13,207.71,4.7,3.71,4.77,5.66,6.35,13.75,671.55,225.66,27.97,9.42,15.62,18.63,2.64,26.55,7.59,118.41,22.56,7.22,14.3,13.18,18.54,6.44,5.63,5.55,16.72,7.96,6.63,109.46,6.84,11.84,240.39,509.36,7.48,6.79,203.73,474.86,1.85,21.08,7.61,4.72,103.28,23.9,80.09,32.77,9.08,4.88,24.88,135.81,6.99,49.62,5.97,27.41,53.73,49.73,225.67,26.46,3.98,285.62,372.55,5.08,43.52,8.99,173.23,17.3,15.11,423.51,17.38,3.95,5.44,281.47,300.11,52.04,3243.48,34.0,64.88,0.81,61.19,186.65,12.37,4.39,175.27,44.61,192.63,27.27,6.12,11.84,215.56,173.75,64.54,57.03,55.3,25.09,46.9,50.0,6.46,7.33,60.34,208.53,4.86,7.07,384.85,45.38,38.86,78.22,5.24,102.73,5.53,6.85,6.33,71.87,279.21,43.6,38.52,6.18,4.84,6.61,13.14,163.74,3.65,14.22,5.06,28.3,8.3,10.08,9.29,9.25,21.32,12.15,4.2,15.22,6.89,21.24,6.37,4.3,36.77,29.24,13.29,31.79,4.46,11.79,237.54,3.13,8.42,14.9,34.26,1.55,9.03,37.49,7.55,3.87,46.44,5.87,59.84,0.68,0.4,9.36,3.72,102.3,4.58,14.81,11.08,5.94,5.07,6.3,10.93,3.08,5.46,1.68,7.82,175.3,303.81,21.69,34.52,16.67,17.39,6.06,60.67,19.7,3.63,14.83,30.49,8.42,6.18,309.14,44.26,8.46,33.28,30.49,5.45,128.66,5.33,29.66,45.6,18.11,30.13,17.08,67.45,8.97,12.24,42.87,28.28,25.12,6.52,4.08,5.02,6.05,5.58,5.01,5.75,19.23,121.9,30.34,375.56,8.44,36.09,31.04,4.18,2.34,17.12,82.57,101.76,9.51,15.88,66.93,17.24,4.26,26.31,3.01,4.46,44.28,4.92,63.45,13.25,33.42,0.86,80.19,135.11,9.06,8.16,3.85,42.96,3.85,52.41,39.57,55.85,32.58,184.6,11.39,3278.11,13.55,3.96,53.21,4.09,78.29,3.5,129.89,22.29,117.79,18.72,4.51,5.47,44.6,8.14,4.35,5.42,11.87,14.81,3238.24,3.04,96.15,122.71,305.05,2.54,6.31,5.8,2.19,43.63,12.09,19.12,11.24,50.55,12.2,5.03,4.6,8.1,7.09,67.24,8.1,76.67,4.52,5.2,6.08,12.15,44.4,109.55,32.35,60.94,86.86,5.03,3.95,2.93,326.74,2.28,7.74,53.61,3.77,4.56,179.55,23.6,2.25,349.55,78.42,128.54,567.6,85.78,97.4,48.08,235.32,114.33,5.81,184.0,9.79,5.79,132.1,259.77,56.7,12.97,8.33,712.39,1110.07,62.23,18.95,26.41,21.55,30.86,38.39,26.33,2.86,99.39,3.7,13.74,2.69,44.26,4.91,13.09,4.21,39.77,294.65,4.39,351.53,3.44,37.65,21.24,62.05,112.34,125.42,101.31,146.93,46.45,110.66,32.04,11.88,5.07,5.82,44.51,4.6,14.51,7.13,34.62,24.26,6.19,80.15,24.93,4.55,4.2,42.1,9.16,3.74,4.74,24.31,6.85,145.21,250.84,8.08,22.26,16.13,4.73,4.68,38.41,6.28,334.15,38.57,114.63,91.53,4.94,5.93,4.67,6.26,19.43,34.3,5.46,34.48,6.03,8.3,4.72,5.5,12.13,17.89,4.81,11.71,25.59,7.07,45.08,5.37,15.7,61.25,138.31,25.47,41.15,5.31,75.13,58.85,68.8,63.14,9.36,4.27,8.42,184.51,41.13,10.92,8.57,4.74,6.15,5.53,14.35,33.8,565.55,28.19,10.43,60.5,9.68,27.69,52.79,3.38,59.24,11.51,37.54,10.17,30.78,11.17,17.57,4.65,13.91,44.19,7.21,7.83,44.97,25.11,26.73,13.12,54.67,13.7,178.86,61.3,5.46,88.58,55.86,50.22,80.06,88.1,6.16,16.04,60.57,22.29,24.76,4.98,14.36,3.07,39.57,18.95,6.04,18.87,79.53,151.95,6.43,3.52,17.41,5.7,20.09,7.85,18.34,13.97,290.88,77.23,3.53,25.13,4.95,7.56,10.01,37.51,128.41,19.56,109.59,50.07,178.97,46.51,19.7,14.84,13.67,25.09,40.96,91.53,218.99,42.45,7.21,54.24,13.05,19.51,37.08,9.26,10.65,10.95,22.48,8.07,174.62,67.05,3.8,17.48,6.56,6.87,27.7,149.53,5.57,19.61,8.85,22.93,51.1,17.04,2.91,83.3,33.1,28.37,21.5,157.07,4.48,178.35,28.57,102.35,13.87,12.92,8.84,7.31,4.13,59.7,44.27,312.6,7.15,5.74,4.29,5.53,3.64,12.22,4.51,5.76,18.03,9.71,405.05,1.14,12.55,5.09,25.77,40.85,3.45,8.7,40.94,95.93,17.29,15.35,51.27,40.01,40.42,59.0,4.52,39.61,39.75,160.8,15.87,5.35,3.48,71.16,17.83,5.93,5.82,15.7,9.99,56.04,6.56,6.42,3.67,5.62,6.41,14.65,18.5,10.68,3.44,61.21,27.14,17.51,42.73,38.87,60.12,2.82,9.25,16.5,46.16,5.72,24.91,3.5,43.64,6.28,7.26,5.41,38.38,12.89,19.69,3.73,93.5,30.99,8.44,17.87,6.08,5.26,73.14,3.23,17.92,18.42,4.71,45.58,4.74,28.66,3.65,3.72,9.29,8.22,43.17,19.88,7.27,27.92,41.96,64.35,50.76,20.3,14.7,4.11,57.25,9.76,18.91,5.0,31.94,7.35,19.77,18.87,75.64,28.89,103.19,6.35,18.04,65.77,69.88,26.52,49.18,46.85,23.5,78.57,7.74,219.93,4.72,108.05,34.04,1.51,4.33,7.24,75.12,260.32,18.9,60.53,7.22,13.16,158.63,10.98,26.76,8.45,41.77,175.53,124.4,43.18,64.75,59.14,39.05,11.18,77.75,94.3,94.69,85.15,77.56,21.46,29.88,34.75,9.11,5.94,112.82,6.46,17.6,26.27,27.68,12.17,6.3,1.46,7.49,66.77,106.35,7.98,92.7,2.15,7.05,4.31,8.46,47.98,11.94,61.68,110.42,61.6,30.79,18.95,35.48,37.61,61.18,12.05,286.89,152.14,11.44,147.24,14.17,50.7,18.87,36.89,31.43,145.27,3.96,15.26,59.05,6.01,3.99,92.3,1.6,17.45,27.83,4.02,11.73,96.62,23.62,9.65,9.89,33.52,82.07,5.21,48.3,131.69,16.16,178.21,0.79,32.89,4.62,292.8,4.49,18.97,0.75,22.62,58.36,6.18,4.2,28.55,2.94,10.05,25.15,39.25,14.99,6.64,4.31,52.73,413.1,6.27,6.0,54.27,2.86,47.08,44.97,23.83,20.02,28.05,43.68,89.72,11.69,42.24,13.22,5.04,13.39,256.31,31.54,51.15,8.04,3.41,27.75,42.66,1.6,9.67,44.68,2.94,422.31,263.37,32.44,298.91,14.37,23.52,23.84,17.75,5.69,8.49,17.11,71.71,226.81,20.67,57.59,20.39,9.63,6.68,79.3,85.27,28.7,78.19,30.26,3.77,8.38,6.85,2.76,5.09,4.02,28.78,70.14,41.96,4.5,22.72,30.12,7.0,10.43,144.45,7.78,18.42,6.3,10.58,45.14,120.72,49.53,5.15,121.27,24.32,7.9,8.28,111.96,17.39,67.98,47.64,10.06,102.04,17.73,42.23,84.95,104.51,4.62,3.94,64.79,3.75,7.82,449.59,3.63,8.27,8.21,28.83,5.65,6.99,232.1,73.48,588.25,3768.66,65.56,4.15,14.64,10.65,17.22,125.59,1.24,36.82,5.86,7.11,61.86,3.9,23.9,94.85,7.28,18.65,36.15,27.93,6.02,37.18,5.42,22.81,7.1,7.03,3.92,66.1,269.03,3.27,120.24,24.63,10.9,29.44,283.04,28.64,21.44,4.55,40.05,106.37,281.25,9.92,18.58,3.11,55.83,14.86,7.47,6.02,8.89,5.67,5.54,66.05,7.54,21.57,18.07,97.27,515.71,116.94,101.21,10.99,7.86,5.88,3.43,198.59,28.83,64.04,13.09,110.02,34.62,7.08,5.78,128.22,66.32,117.64,3.4,33.5,11.85,122.0,14.35,42.52,46.53,223.36,57.11,18.76,7.05,50.05,3.25,22.09,20.66,4.2,3.65,6.74,12.27,4.01,6.42,4.63,4.95,105.87,70.31,23.15,9.24,38.58,3.41,61.18,2.74,6.53,15.9,7.56,136.94,75.07,8.61,34.08,124.59,13.69,63.81,69.53,25.53,2.88,9.29,17.79,2.35,20.76,18.19,100.49,2.9,7.36,35.4,6.52,85.88,190.45,59.08,29.21,25.14,7.71,25.44,229.55,4.44,19.04,49.7,183.79,120.1,5.66,10.29,65.05,48.62,4.43,11.77,2.67,11.26,58.82,6.54,14.21,64.46,5.57,70.29,99.42,7.24,37.17,65.89,8.61,26.56,17.41,56.96,10.37,96.28,23.68,220.86,18.2,47.26,19.31,4.02,15.34,45.33,9.73,3.54,10.31,4.19,4.67,5.4,10.55,11.99,95.38,10.32,393.07,9.7,16.47,22.94,120.86,37.28,16.89,62.51,861.85,69.18,792.6,4.74,59.86,4.24,3.88,4.5,393.29,51.26,63.23,3.78,88.0,22.38,28.04,54.02,89.49,3.82,49.79,4.31,42.93,3.63,11.54,6.53,3.81,18.81,58.79,18.73,29.22,60.08,5.45,5.74,6.45,48.16,35.36,5.0,4.09,55.06,8.82,6.41,91.69,5.43,28.07,27.71,80.06,121.63,17.31,4.76,59.18,105.99,96.15,32.02,10.01,10.04,9.49,55.63,3.91,34.03,4.15,47.18,68.89,38.59,717.93,52.0,7.56,51.24,56.18,8.53,6.9,8.48,84.01,35.99,25.11,160.79,117.47,4.79,43.9,25.37,4.6,20.5,90.53,58.52,58.24,7.23,22.33,39.65,46.01,111.34,144.3,59.76,90.17,48.95,12.57,4.13,166.43,119.99,37.84,72.86,6.38,5.68,9.65,203.21,5.63,4.32,60.2,13.95,70.92,4.78,19.15,16.07,5.02,3.71,4.24,26.54,1.59,41.88,51.62,20.88,53.87,23.22,11.02,38.21,87.41,49.59,5.08,4.36,23.42,46.67,15.11,6.61,5.51,320.96,94.22,48.13,69.2,226.73,4.52,16.76,95.77,58.79,3.98,4.67,4.13,4.02,27.47,5.16,7.67,156.18,60.47,8.09,7.16,865.48,14.37,231.75,7.46,80.47,38.97,33.26,43.21,3.29,6.14,9.72,4.76,3.82,18.62,43.91,185.33,7.07,108.79,19.81,46.14,13.08,5.11,37.43,53.88,3.97,47.03,4.29,3.92,4.52,29.39,28.46,6.7,14.79,3.78,60.93,7.69,26.94,35.72,105.97,393.2,66.69,7.52,10.92,399.73,96.59,60.32,6.84,173.67,94.23,11.18,13.65,6.57,5.77,12.85,37.51,7.87,299.38,85.22,4.43,12.06,86.5,22.89,151.91,6.76,15.25,20.96,12.46,3.18,72.69,6.24,30.22,4.17,93.44,32.42,20.78,9.2,48.91,53.25,161.39,4.55,5.87,47.02,70.4,5.94,145.97,10.04,141.88,6.73,26.48,22.63,7.31,11.42,47.78,14.82,63.34,34.61,3.28,4.24,63.21,42.71,4.45,7.53,3.44,65.95,53.65,48.45,6.96,81.24,249.46,104.74,55.23,32.81,5.07,19.68,96.2,56.25,9.23,6.64,8.38,136.07,404.21,91.49,58.59,78.36,11.09,39.4,83.76,29.7,27.06,60.83,229.2,41.65,30.45,29.56,358.57,19.84,5.36,43.28,63.87,19.28,14.1,4.64,8.12,8.93,29.93,12.98,50.57,2489.78,4.73,14.26,9.65,34.39,3.92,19.14,46.61,20.46,11.38,38.36,14.05,92.52,3.22,57.33,35.65,206.33,7.39,93.55,35.6,4.14,367.3,35.36,96.2,109.72,6.41,20.21,9.05,49.55,89.29,8.95,10.81,31.47,21.74,61.25,9.13,26.87,4.59,77.12,19.61,63.57,6.84,126.53,5.23,74.92,13.1,6.57,3.45,3.07,3.26,15.48,6.41,8.4,7.46,30.85,22.24,12.96,41.7,102.6,10.01,5.97,3.9,8.7,187.97,16.43,5.91,16.4,11.77,103.07,6.74,11.06,108.31,364.27,38.18,58.09,3.95,6.0,25.14,101.8,7.83,51.89,19.1,11.1,53.52,46.72,4.14,9.48,6.73,2.94,37.97,45.44,4.92,2.62,29.39,6.88,3.06,7.97,15.58,100.43,67.15,3.56,0.89,17.65,14.19,2.82,77.84,65.05,41.51,3.54,3.72,314.92,26.47,6.5,4.35,4.02,13.27,70.11,3.3,22.83,68.89,21.87,9.56,65.27,4.8,3.42,4.35,10.87,7.37,9.43,5.61,14.77,3.31,139.27,28.61,20.76,18.01,42.57,286.33,423.57,5.19,4.15,4.71,3.85,5.37,11.29,8.1,5.14,5.88,8.66,8.29,5.91,5.38,5.79,4.72,5.28,2.45,67.33,62.94,4.8,15.5,26.67,3.55,5.21,3.9,6.49,9.25,9.4,21.51,115.34,5.73,53.02,338.58,4.8,9.09,128.07,28.79,59.74,25.37,83.65,46.32,88.11,101.43,53.35,5.09,0.87,23.51,104.33,4.15,111.04,7.31,16.3,59.53,13.34,27.04,11.32,63.22,4.04,55.73,51.2,39.31,51.14,6.93,118.45,54.02,5.38,18.02,3.95,150.23,10.61,4.79,70.39,46.7,64.86,4.87,5.21,16.31,7.12,49.58,127.05,30.14,24.97,6.43,2.85,4.76,99.26,4.71,3.96,103.42,31.54,75.95,58.87,6.54,68.39,43.97,4.96,66.43,47.92,23.63,119.76,43.04,67.96,5.07,17.61,8.33,7.47,6.41,12.06,22.18,5.07,9.29,458.44,38.71,255.97,66.7,124.77,3.39,39.75,17.97,8.59,157.88,402.04,132.7,49.44,7.8,3.56,3.78,3.92,28.78,106.86,26.37,102.54,156.45,21.05,13.85,122.7,30.35,92.07,159.8,144.57,61.62,273.91,111.62,120.92,58.44,29.18,89.8,441.94,70.46,27.56,81.18,176.75,72.02,24.82,193.36,7.21,5.38,83.45,48.85,137.66,295.42,12.43,3.63,236.05,37.83,391.7,32.72,145.11,30.03,28.85,4.01,270.63,6.98,6.64,4.49,34.22,303.69,186.16,154.39,11.4,66.37,5.87,139.12,11.91,5.51,21.37,155.47,90.73,53.12,158.6,2549.47,47.14,537.03,30.78,94.63,376.57,163.19,9.46,35.43,15.5,265.21,100.59,549.11,95.26,4.64,619.9,170.98,65.19,175.46,191.97,39.88,38.17,80.27,12.56,38.92,1597.56,542.74,87.18,287.57,99.65,1789.69,123.15,6.93,8.65,73.39,144.41,325.94,76.5,54.04,122.35,16.82,352.77,147.84,24.54,57.59,9.95,290.57,68.98,1088.25,47.93,161.23,23.14,6.04,251.43,24.7,9.86,51.59,176.88,9.5,49.26,20.1,5.47,57.59,24.38,8.63,77.29,138.79,20.58,21.18,67.17,184.81,17.81,22.76,142.48,54.98,809.76,14.04,42.2,75.96,30.72,8.36,124.68,16.13,280.35,52.55,265.63,77.99,93.31,197.27,62.23,46.79,22.23,181.67,65.35,107.29,38.13,457.51,23.37,221.47,130.6,107.51,29.4,74.3,1280.81,68.04,7.49,6330.91,190.05,58.28,82.58,167.48,10.8,159.16,16.1,51.39,11140.56,25.93,103.65,199.48,437.2,48.53,62.41,213.7,43.06,28.94,18.9,4.32,691.57,175.44,42.81,17.77,9.91,59.33,184.15,127.53,9.76,17.8,34.11,9.71,123.99,33.09,64.39,30.41,622.23,40.99,172.46,49.89,12.18,27.71,22.5,4.81,115.73,163.02,65.01,9.0,8.11,134.8,86.99,238.78,214.19,63.87,50.32,147.14,4.38,91.98,205.45,202.12,74.88,165.61,8.7,40.25,245.16,31.46,14.83,71.96,395.26,5.46,6.74,50.23,131.02,157.7,51.26,12.21,124.18,86.25,103.37,9.24,205.52,31.55,28.08,75.62,54.76,467.9,15.07,1000.06,96.9,18.88,22.17,4.44,29.18,23.0,14.37,24.73,216.18,3.5,259.22,60.81,7.79,20.33,20.94,32.17,223.54,22.11,41.27],\"yaxis\":\"y\",\"type\":\"scattergl\"}],                        {\"template\":{\"data\":{\"histogram2dcontour\":[{\"type\":\"histogram2dcontour\",\"colorbar\":{\"outlinewidth\":0,\"ticks\":\"\"},\"colorscale\":[[0.0,\"#0d0887\"],[0.1111111111111111,\"#46039f\"],[0.2222222222222222,\"#7201a8\"],[0.3333333333333333,\"#9c179e\"],[0.4444444444444444,\"#bd3786\"],[0.5555555555555556,\"#d8576b\"],[0.6666666666666666,\"#ed7953\"],[0.7777777777777778,\"#fb9f3a\"],[0.8888888888888888,\"#fdca26\"],[1.0,\"#f0f921\"]]}],\"choropleth\":[{\"type\":\"choropleth\",\"colorbar\":{\"outlinewidth\":0,\"ticks\":\"\"}}],\"histogram2d\":[{\"type\":\"histogram2d\",\"colorbar\":{\"outlinewidth\":0,\"ticks\":\"\"},\"colorscale\":[[0.0,\"#0d0887\"],[0.1111111111111111,\"#46039f\"],[0.2222222222222222,\"#7201a8\"],[0.3333333333333333,\"#9c179e\"],[0.4444444444444444,\"#bd3786\"],[0.5555555555555556,\"#d8576b\"],[0.6666666666666666,\"#ed7953\"],[0.7777777777777778,\"#fb9f3a\"],[0.8888888888888888,\"#fdca26\"],[1.0,\"#f0f921\"]]}],\"heatmap\":[{\"type\":\"heatmap\",\"colorbar\":{\"outlinewidth\":0,\"ticks\":\"\"},\"colorscale\":[[0.0,\"#0d0887\"],[0.1111111111111111,\"#46039f\"],[0.2222222222222222,\"#7201a8\"],[0.3333333333333333,\"#9c179e\"],[0.4444444444444444,\"#bd3786\"],[0.5555555555555556,\"#d8576b\"],[0.6666666666666666,\"#ed7953\"],[0.7777777777777778,\"#fb9f3a\"],[0.8888888888888888,\"#fdca26\"],[1.0,\"#f0f921\"]]}],\"heatmapgl\":[{\"type\":\"heatmapgl\",\"colorbar\":{\"outlinewidth\":0,\"ticks\":\"\"},\"colorscale\":[[0.0,\"#0d0887\"],[0.1111111111111111,\"#46039f\"],[0.2222222222222222,\"#7201a8\"],[0.3333333333333333,\"#9c179e\"],[0.4444444444444444,\"#bd3786\"],[0.5555555555555556,\"#d8576b\"],[0.6666666666666666,\"#ed7953\"],[0.7777777777777778,\"#fb9f3a\"],[0.8888888888888888,\"#fdca26\"],[1.0,\"#f0f921\"]]}],\"contourcarpet\":[{\"type\":\"contourcarpet\",\"colorbar\":{\"outlinewidth\":0,\"ticks\":\"\"}}],\"contour\":[{\"type\":\"contour\",\"colorbar\":{\"outlinewidth\":0,\"ticks\":\"\"},\"colorscale\":[[0.0,\"#0d0887\"],[0.1111111111111111,\"#46039f\"],[0.2222222222222222,\"#7201a8\"],[0.3333333333333333,\"#9c179e\"],[0.4444444444444444,\"#bd3786\"],[0.5555555555555556,\"#d8576b\"],[0.6666666666666666,\"#ed7953\"],[0.7777777777777778,\"#fb9f3a\"],[0.8888888888888888,\"#fdca26\"],[1.0,\"#f0f921\"]]}],\"surface\":[{\"type\":\"surface\",\"colorbar\":{\"outlinewidth\":0,\"ticks\":\"\"},\"colorscale\":[[0.0,\"#0d0887\"],[0.1111111111111111,\"#46039f\"],[0.2222222222222222,\"#7201a8\"],[0.3333333333333333,\"#9c179e\"],[0.4444444444444444,\"#bd3786\"],[0.5555555555555556,\"#d8576b\"],[0.6666666666666666,\"#ed7953\"],[0.7777777777777778,\"#fb9f3a\"],[0.8888888888888888,\"#fdca26\"],[1.0,\"#f0f921\"]]}],\"mesh3d\":[{\"type\":\"mesh3d\",\"colorbar\":{\"outlinewidth\":0,\"ticks\":\"\"}}],\"scatter\":[{\"fillpattern\":{\"fillmode\":\"overlay\",\"size\":10,\"solidity\":0.2},\"type\":\"scatter\"}],\"parcoords\":[{\"type\":\"parcoords\",\"line\":{\"colorbar\":{\"outlinewidth\":0,\"ticks\":\"\"}}}],\"scatterpolargl\":[{\"type\":\"scatterpolargl\",\"marker\":{\"colorbar\":{\"outlinewidth\":0,\"ticks\":\"\"}}}],\"bar\":[{\"error_x\":{\"color\":\"#2a3f5f\"},\"error_y\":{\"color\":\"#2a3f5f\"},\"marker\":{\"line\":{\"color\":\"#E5ECF6\",\"width\":0.5},\"pattern\":{\"fillmode\":\"overlay\",\"size\":10,\"solidity\":0.2}},\"type\":\"bar\"}],\"scattergeo\":[{\"type\":\"scattergeo\",\"marker\":{\"colorbar\":{\"outlinewidth\":0,\"ticks\":\"\"}}}],\"scatterpolar\":[{\"type\":\"scatterpolar\",\"marker\":{\"colorbar\":{\"outlinewidth\":0,\"ticks\":\"\"}}}],\"histogram\":[{\"marker\":{\"pattern\":{\"fillmode\":\"overlay\",\"size\":10,\"solidity\":0.2}},\"type\":\"histogram\"}],\"scattergl\":[{\"type\":\"scattergl\",\"marker\":{\"colorbar\":{\"outlinewidth\":0,\"ticks\":\"\"}}}],\"scatter3d\":[{\"type\":\"scatter3d\",\"line\":{\"colorbar\":{\"outlinewidth\":0,\"ticks\":\"\"}},\"marker\":{\"colorbar\":{\"outlinewidth\":0,\"ticks\":\"\"}}}],\"scattermapbox\":[{\"type\":\"scattermapbox\",\"marker\":{\"colorbar\":{\"outlinewidth\":0,\"ticks\":\"\"}}}],\"scatterternary\":[{\"type\":\"scatterternary\",\"marker\":{\"colorbar\":{\"outlinewidth\":0,\"ticks\":\"\"}}}],\"scattercarpet\":[{\"type\":\"scattercarpet\",\"marker\":{\"colorbar\":{\"outlinewidth\":0,\"ticks\":\"\"}}}],\"carpet\":[{\"aaxis\":{\"endlinecolor\":\"#2a3f5f\",\"gridcolor\":\"white\",\"linecolor\":\"white\",\"minorgridcolor\":\"white\",\"startlinecolor\":\"#2a3f5f\"},\"baxis\":{\"endlinecolor\":\"#2a3f5f\",\"gridcolor\":\"white\",\"linecolor\":\"white\",\"minorgridcolor\":\"white\",\"startlinecolor\":\"#2a3f5f\"},\"type\":\"carpet\"}],\"table\":[{\"cells\":{\"fill\":{\"color\":\"#EBF0F8\"},\"line\":{\"color\":\"white\"}},\"header\":{\"fill\":{\"color\":\"#C8D4E3\"},\"line\":{\"color\":\"white\"}},\"type\":\"table\"}],\"barpolar\":[{\"marker\":{\"line\":{\"color\":\"#E5ECF6\",\"width\":0.5},\"pattern\":{\"fillmode\":\"overlay\",\"size\":10,\"solidity\":0.2}},\"type\":\"barpolar\"}],\"pie\":[{\"automargin\":true,\"type\":\"pie\"}]},\"layout\":{\"autotypenumbers\":\"strict\",\"colorway\":[\"#636efa\",\"#EF553B\",\"#00cc96\",\"#ab63fa\",\"#FFA15A\",\"#19d3f3\",\"#FF6692\",\"#B6E880\",\"#FF97FF\",\"#FECB52\"],\"font\":{\"color\":\"#2a3f5f\"},\"hovermode\":\"closest\",\"hoverlabel\":{\"align\":\"left\"},\"paper_bgcolor\":\"white\",\"plot_bgcolor\":\"#E5ECF6\",\"polar\":{\"bgcolor\":\"#E5ECF6\",\"angularaxis\":{\"gridcolor\":\"white\",\"linecolor\":\"white\",\"ticks\":\"\"},\"radialaxis\":{\"gridcolor\":\"white\",\"linecolor\":\"white\",\"ticks\":\"\"}},\"ternary\":{\"bgcolor\":\"#E5ECF6\",\"aaxis\":{\"gridcolor\":\"white\",\"linecolor\":\"white\",\"ticks\":\"\"},\"baxis\":{\"gridcolor\":\"white\",\"linecolor\":\"white\",\"ticks\":\"\"},\"caxis\":{\"gridcolor\":\"white\",\"linecolor\":\"white\",\"ticks\":\"\"}},\"coloraxis\":{\"colorbar\":{\"outlinewidth\":0,\"ticks\":\"\"}},\"colorscale\":{\"sequential\":[[0.0,\"#0d0887\"],[0.1111111111111111,\"#46039f\"],[0.2222222222222222,\"#7201a8\"],[0.3333333333333333,\"#9c179e\"],[0.4444444444444444,\"#bd3786\"],[0.5555555555555556,\"#d8576b\"],[0.6666666666666666,\"#ed7953\"],[0.7777777777777778,\"#fb9f3a\"],[0.8888888888888888,\"#fdca26\"],[1.0,\"#f0f921\"]],\"sequentialminus\":[[0.0,\"#0d0887\"],[0.1111111111111111,\"#46039f\"],[0.2222222222222222,\"#7201a8\"],[0.3333333333333333,\"#9c179e\"],[0.4444444444444444,\"#bd3786\"],[0.5555555555555556,\"#d8576b\"],[0.6666666666666666,\"#ed7953\"],[0.7777777777777778,\"#fb9f3a\"],[0.8888888888888888,\"#fdca26\"],[1.0,\"#f0f921\"]],\"diverging\":[[0,\"#8e0152\"],[0.1,\"#c51b7d\"],[0.2,\"#de77ae\"],[0.3,\"#f1b6da\"],[0.4,\"#fde0ef\"],[0.5,\"#f7f7f7\"],[0.6,\"#e6f5d0\"],[0.7,\"#b8e186\"],[0.8,\"#7fbc41\"],[0.9,\"#4d9221\"],[1,\"#276419\"]]},\"xaxis\":{\"gridcolor\":\"white\",\"linecolor\":\"white\",\"ticks\":\"\",\"title\":{\"standoff\":15},\"zerolinecolor\":\"white\",\"automargin\":true,\"zerolinewidth\":2},\"yaxis\":{\"gridcolor\":\"white\",\"linecolor\":\"white\",\"ticks\":\"\",\"title\":{\"standoff\":15},\"zerolinecolor\":\"white\",\"automargin\":true,\"zerolinewidth\":2},\"scene\":{\"xaxis\":{\"backgroundcolor\":\"#E5ECF6\",\"gridcolor\":\"white\",\"linecolor\":\"white\",\"showbackground\":true,\"ticks\":\"\",\"zerolinecolor\":\"white\",\"gridwidth\":2},\"yaxis\":{\"backgroundcolor\":\"#E5ECF6\",\"gridcolor\":\"white\",\"linecolor\":\"white\",\"showbackground\":true,\"ticks\":\"\",\"zerolinecolor\":\"white\",\"gridwidth\":2},\"zaxis\":{\"backgroundcolor\":\"#E5ECF6\",\"gridcolor\":\"white\",\"linecolor\":\"white\",\"showbackground\":true,\"ticks\":\"\",\"zerolinecolor\":\"white\",\"gridwidth\":2}},\"shapedefaults\":{\"line\":{\"color\":\"#2a3f5f\"}},\"annotationdefaults\":{\"arrowcolor\":\"#2a3f5f\",\"arrowhead\":0,\"arrowwidth\":1},\"geo\":{\"bgcolor\":\"white\",\"landcolor\":\"#E5ECF6\",\"subunitcolor\":\"white\",\"showland\":true,\"showlakes\":true,\"lakecolor\":\"white\"},\"title\":{\"x\":0.05},\"mapbox\":{\"style\":\"light\"}}},\"xaxis\":{\"anchor\":\"y\",\"domain\":[0.0,1.0],\"title\":{\"text\":\"energystarscore\"}},\"yaxis\":{\"anchor\":\"x\",\"domain\":[0.0,1.0],\"title\":{\"text\":\"totalghgemissions\"}},\"legend\":{\"tracegroupgap\":0,\"itemsizing\":\"constant\"},\"title\":{\"text\":\"N\\u00e9cessit\\u00e9 d'un nouveau label Energy Star\"}},                        {\"responsive\": true}                    ).then(function(){\n",
              "                            \n",
              "var gd = document.getElementById('57aaa67b-9efc-426f-8b77-72f87700dfee');\n",
              "var x = new MutationObserver(function (mutations, observer) {{\n",
              "        var display = window.getComputedStyle(gd).display;\n",
              "        if (!display || display === 'none') {{\n",
              "            console.log([gd, 'removed!']);\n",
              "            Plotly.purge(gd);\n",
              "            observer.disconnect();\n",
              "        }}\n",
              "}});\n",
              "\n",
              "// Listen for the removal of the full notebook cells\n",
              "var notebookContainer = gd.closest('#notebook-container');\n",
              "if (notebookContainer) {{\n",
              "    x.observe(notebookContainer, {childList: true});\n",
              "}}\n",
              "\n",
              "// Listen for the clearing of the current output cell\n",
              "var outputEl = gd.closest('.output');\n",
              "if (outputEl) {{\n",
              "    x.observe(outputEl, {childList: true});\n",
              "}}\n",
              "\n",
              "                        })                };                            </script>        </div>\n",
              "</body>\n",
              "</html>"
            ]
          },
          "metadata": {}
        },
        {
          "output_type": "display_data",
          "data": {
            "text/plain": [
              "<IPython.core.display.Javascript object>"
            ],
            "application/javascript": [
              "\n",
              "    async function download(id, filename, size) {\n",
              "      if (!google.colab.kernel.accessAllowed) {\n",
              "        return;\n",
              "      }\n",
              "      const div = document.createElement('div');\n",
              "      const label = document.createElement('label');\n",
              "      label.textContent = `Downloading \"${filename}\": `;\n",
              "      div.appendChild(label);\n",
              "      const progress = document.createElement('progress');\n",
              "      progress.max = size;\n",
              "      div.appendChild(progress);\n",
              "      document.body.appendChild(div);\n",
              "\n",
              "      const buffers = [];\n",
              "      let downloaded = 0;\n",
              "\n",
              "      const channel = await google.colab.kernel.comms.open(id);\n",
              "      // Send a message to notify the kernel that we're ready.\n",
              "      channel.send({})\n",
              "\n",
              "      for await (const message of channel.messages) {\n",
              "        // Send a message to notify the kernel that we're ready.\n",
              "        channel.send({})\n",
              "        if (message.buffers) {\n",
              "          for (const buffer of message.buffers) {\n",
              "            buffers.push(buffer);\n",
              "            downloaded += buffer.byteLength;\n",
              "            progress.value = downloaded;\n",
              "          }\n",
              "        }\n",
              "      }\n",
              "      const blob = new Blob(buffers, {type: 'application/binary'});\n",
              "      const a = document.createElement('a');\n",
              "      a.href = window.URL.createObjectURL(blob);\n",
              "      a.download = filename;\n",
              "      div.appendChild(a);\n",
              "      a.click();\n",
              "      div.remove();\n",
              "    }\n",
              "  "
            ]
          },
          "metadata": {}
        },
        {
          "output_type": "display_data",
          "data": {
            "text/plain": [
              "<IPython.core.display.Javascript object>"
            ],
            "application/javascript": [
              "download(\"download_d2d42060-c2a7-4f9c-a13f-05eabf29a58e\", \"estar.html\", 3639516)"
            ]
          },
          "metadata": {}
        }
      ]
    },
    {
      "cell_type": "markdown",
      "source": [
        "L'absence de corrélation entre les émissions de CO2 et le score Energy Star semble justifier la création d'un nouveau label, tel qu'il a été envisagé dans ce papier : https://www.researchgate.net/publication/342831494_EnergyStar_Towards_more_accurate_and_explanatory_building_energy_benchmarking"
      ],
      "metadata": {
        "id": "AIL5yAmD0Ibw"
      }
    }
  ]
}